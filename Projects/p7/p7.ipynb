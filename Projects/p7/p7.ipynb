{
 "cells": [
  {
   "cell_type": "code",
   "execution_count": 1,
   "id": "8a8e80d7",
   "metadata": {
    "deletable": false,
    "editable": false
   },
   "outputs": [],
   "source": [
    "# Initialize Otter\n",
    "import otter\n",
    "grader = otter.Notebook(\"p7.ipynb\")"
   ]
  },
  {
   "cell_type": "code",
   "execution_count": 2,
   "id": "ec9598fe",
   "metadata": {},
   "outputs": [],
   "source": [
    "import p7_test"
   ]
  },
  {
   "cell_type": "code",
   "execution_count": 3,
   "id": "e3f003e6",
   "metadata": {},
   "outputs": [],
   "source": [
    "# PLEASE FILL IN THE DETAILS\n",
    "# Enter none if you don't have a project partner\n",
    "\n",
    "# project: p7\n",
    "# submitter: NETID1\n",
    "# partner: NETID2"
   ]
  },
  {
   "cell_type": "markdown",
   "id": "4e247a2c",
   "metadata": {},
   "source": [
    "# Project 7: Drinking Water Accessibility"
   ]
  },
  {
   "cell_type": "markdown",
   "id": "b5a9dab5",
   "metadata": {},
   "source": [
    "## Learning Objectives:\n",
    "\n",
    "In this project you will demonstrate how to:\n",
    "\n",
    "- Write programs to interpret data present in csv files,\n",
    "- Use lists and dictionaries effectively to manage data,\n",
    "- **Develop good coding styling habits (points may be deducted for bad coding styles)**"
   ]
  },
  {
   "cell_type": "markdown",
   "id": "3d10aa40",
   "metadata": {},
   "source": [
    "## Testing your code:\n",
    "\n",
    "Along with this notebook, you must have downloaded the file `p7_test.py`. If you are curious about how we test your code, you can explore this file, and specifically the value of the variable `expected_json`, to understand the expected answers to the questions. You can have a look at [p2](https://git.doit.wisc.edu/cdis/cs/courses/cs220/cs220-f22-projects/-/tree/main/p2/p2.ipynb) if you have forgotten how to read the outputs of the `grader.check` function calls."
   ]
  },
  {
   "cell_type": "markdown",
   "id": "1f02855e",
   "metadata": {},
   "source": [
    "**Please go through [lab-p7](https://git.doit.wisc.edu/cdis/cs/courses/cs220/cs220-f22-projects/-/tree/main/lab-p7) before starting this project.** The lab introduces some useful techniques necessary for this project."
   ]
  },
  {
   "cell_type": "markdown",
   "id": "59162236",
   "metadata": {},
   "source": [
    "## Project Description:\n",
    "\n",
    "Universal access to safe drinking water is a fundamental need and human right. Securing access for all would go a long way in reducing illness and death, especially among children. \"Safely managed\" drinking water services represent an ambitious new rung on the ladder used to track progress on drinking water. Since 2000, 2 billion people have gained access to safely managed services (i.e., accessible on-premises, available when needed, and free from contamination). In 2020, 5.8 billion people used safely managed services and a further 2 billion people used basic services. However, 771 million people still lacked even a basic level of service, including 282 million who used a “limited” water service (source from which water collection time exceeds 30 minutes), 367 million who used unimproved sources and 122 million who still collected drinking water directly from rivers, lakes, and other surface water sources. The data reveal pronounced disparities, with the poorest and those living in rural areas least likely to use a basic service. In most countries, the burden of water collection continues to fall mainly to women and girls.\n",
    "\n",
    "[The Unicef website](https://data.unicef.org/) states that \"consistent, credible data about children’s situations are critical to the improvement of their lives – and indispensable to realizing the rights of every child.\" Data Scientists will play an important role in reaching this goal.\n",
    "\n",
    "For this project, you'll be analyzing data drawn from multiple sources. Our data is primarily drawn from the report titled [\"Progress on Household Drinking Water, Sanitation and Hygiene\"](https://washdata.org/sites/default/files/2021-07/jmp-2021-wash-households.pdf) data published by the Unicef/WHO Joint Monitoring Programme for Water Supply, Sanitation and Hygiene (2021). The original dataset can be found [here](https://data.unicef.org/topic/water-and-sanitation/drinking-water/) if you are interested in exploring the dataset yourself. Our dataset is further augmented by data from The World Bank on the [income levels of each country](https://datatopics.worldbank.org/world-development-indicators/the-world-by-income-and-region.html)."
   ]
  },
  {
   "cell_type": "markdown",
   "id": "ef7100c7",
   "metadata": {},
   "source": [
    "## Dataset:\n",
    "\n",
    "The JMP report defines *people who have access to an [improved source of water](https://www.cdc.gov/healthywater/global/assessing.html#ImprovedDrinking) within 30 minutes round trip collection time* as having [at least basic access](https://www.cdc.gov/healthywater/global/assessing.html#DrinkingWaterSources) to water. For this project, we will focus on the **percentage of population** of each country who had **at least basic** water supply in the years **2015** and **2020**. Open `water_accessibility.csv` with Microsoft Excel or some other Spreadsheet viewer and look at the list of countries in the dataset. Data for each country appears twice, one row for the year *2015* and the other row for year *2020*. Countries which had incomplete data have been **omitted** from the dataset, and we will **ignore** those countries in this project. You do **not** have to deal with any **missing data** in the dataset.\n",
    "\n",
    "The data shows:\n",
    "- `country_code` : the unique country code that consists of three alphabet letters\n",
    "- `country_name` : the name of the country\n",
    "- `region` : the geographical location of the country (does not equal to its corresponding continents, but follows the administrative groupings from [The World Bank](https://datahelpdesk.worldbank.org/knowledgebase/articles/906519-world-bank-country-and-lending-groups))\n",
    "- `year` : the year in which it was subject to data collection\n",
    "- `income_level` : the classification of income level based on GNI per capita in US dollars ([The World Bank Atlas Method](https://datahelpdesk.worldbank.org/knowledgebase/articles/378834-how-does-the-world-bank-classify-countries))\n",
    "- `pop` : population of the country in a specific year (in thousands)\n",
    "- `urban_percent` : the percentage of population in a given country that is urban\n",
    "- `national_alb` : the percentage of a country's population that has access to at least basic water supply\n",
    "- `urban_alb` : the percentage of a country's urban population that has access to at least basic water supply"
   ]
  },
  {
   "cell_type": "markdown",
   "id": "518b6e01",
   "metadata": {},
   "source": [
    "## Project Requirements:\n",
    "\n",
    "You **may not** hardcode indices in your code, unless the question explicitly . If you open your `.csv` file with Excel, manually count through the rows and use this number to loop through the dataset, this is also considered as hardcoding. We'll **manually deduct** points from your autograder score on Gradescope during code review.\n",
    "\n",
    "**Store** your final answer for each question in the **variable specified for each question**. This step is important because Otter grades your work by comparing the value of this variable against the correct answer.\n",
    "\n",
    "For some of the questions, we'll ask you to write (then use) a function to compute the answer. If you compute the answer **without** creating the function we ask you to write, we'll **manually deduct** points from your autograder score on Gradescope, even if the way you did it produced the correct answer. \n",
    "\n",
    "Required Functions:\n",
    "- cell\n",
    "- get_col_dict\n",
    "\n",
    "In this project, you will also be required to define certain **data structures**. If you do not create these data structures exactly as specified, we'll **manually deduct** points from your autograder score on Gradescope, even if the way you did it produced the correct answer.\n",
    "\n",
    "Required Data Structures:\n",
    "- dict_2015\n",
    "- dict_2020\n",
    "- rural_non_alb_bin_2015_dict\n",
    "- rural_non_alb_bin_2020_dict\n",
    "    \n",
    "Students are only allowed to use Python commands and concepts that have been taught in the course prior to the release of p7. Therefore, **you should not use the pandas module**.  We will **manually deduct** points from your autograder score on Gradescope otherwise.\n",
    "\n",
    "For more details on what will cause you to lose points during code review and specific requirements, please take a look at the [Grading rubric](https://git.doit.wisc.edu/cdis/cs/courses/cs220/cs220-f22-projects/-/blob/main/p7/rubric.md)."
   ]
  },
  {
   "cell_type": "markdown",
   "id": "a900d754",
   "metadata": {},
   "source": [
    "## Incremental Coding and Testing:\n",
    "\n",
    "You should always strive to do incremental coding. **Incremental coding enables you to avoid challenging bugs.** Always write a few lines of code and then test those lines of code, before proceeding to write further code. You can call the `print` function to test intermediate step outputs.\n",
    "\n",
    "We also recommend you do incremental testing: make sure to run the local tests as soon as you are done with a question. This will ensure that you haven't made a big mistake that might potentially impact the rest of your project solution. Please refrain from making multiple submissions on Gradescope for testing individual questions' answers. Instead use the local tests, to test your solution on your laptop.\n",
    "\n",
    "That said, it is **important** that you check the Gradescope test results as soon as you submit your project on Gradescope. Test results on Gradescope are typically available somewhere between 2 to 10 minutes after the submission.\n",
    "\n",
    "Also, remember to check with the [p7 rubric](https://git.doit.wisc.edu/cdis/cs/courses/cs220/cs220-f22-projects/-/blob/main/p7/rubric.md) to verify that you will not be losing any points during manual review."
   ]
  },
  {
   "cell_type": "markdown",
   "id": "e83e952a",
   "metadata": {},
   "source": [
    "## Project Questions and Functions:"
   ]
  },
  {
   "cell_type": "code",
   "execution_count": 4,
   "id": "2398e7fe",
   "metadata": {
    "tags": []
   },
   "outputs": [],
   "source": [
    "# it is considered a good coding practice to place all import statements at the top of the notebook\n",
    "# please place all your import statements in this cell if you need to import any more modules for this project\n",
    "import csv"
   ]
  },
  {
   "cell_type": "markdown",
   "id": "5f11c98c",
   "metadata": {},
   "source": [
    "First, read the data stored in `water_accessibility.csv` and store it in a suitable variable. You can follow the same procedure you used in p6."
   ]
  },
  {
   "cell_type": "code",
   "execution_count": 5,
   "id": "93b28af9",
   "metadata": {
    "tags": []
   },
   "outputs": [],
   "source": [
    "# read the data stored in water_accessibility.csv\n",
    "def process_csv(filename):\n",
    "    example_file = open(filename, encoding=\"utf-8\")\n",
    "    example_reader = csv.reader(example_file)\n",
    "    example_data = list(example_reader)\n",
    "    example_file.close()\n",
    "    return example_data\n",
    "# call process_csv here to read 'water_accessibility.csv'\n",
    "csv_data = process_csv(\"water_accessibility.csv\")\n",
    "\n",
    "# split the header and data into appropriate variables\n",
    "csv_header = csv_data[0]\n",
    "csv_rows = csv_data[1:]"
   ]
  },
  {
   "cell_type": "markdown",
   "id": "44be4e8f",
   "metadata": {},
   "source": [
    "### Function 1: `cell(row_idx, col_name)` \n",
    "\n",
    "This function must take in a row index, `row_idx` and a column name, `col_name` as its inputs, and return the value in `water_accessibility.csv` stored there. There is **no missing data** in this dataset.\n",
    "\n",
    "You **must** define the variables `csv_header` and `csv_rows` as in lab-p7, and you **must** copy/paste your `cell` function from lab-p7.\n",
    "\n",
    "**Important:** You **must** only use the `cell` function to extract data from the dataset. If you extract any data without explicitly using this function, you will **lose points** during manual review."
   ]
  },
  {
   "cell_type": "code",
   "execution_count": 6,
   "id": "d9375c56",
   "metadata": {
    "tags": []
   },
   "outputs": [],
   "source": [
    "# define the cell function here\n",
    "def cell(row_idx, col_name):\n",
    "    col_idx = csv_header.index(col_name)\n",
    "    val = csv_rows[row_idx][col_idx]\n",
    "    if val == \"\":\n",
    "        return None\n",
    "    elif col_name in  ['country_code','country_name', 'region', 'income_level']:\n",
    "        val = str(val)\n",
    "    elif col_name in ['year', 'urban_percent','national_alb', 'urban_alb']:\n",
    "        val = int(val)\n",
    "    elif col_name == 'pop':\n",
    "        val = 1000*int(val)\n",
    "        \n",
    "    return val"
   ]
  },
  {
   "cell_type": "markdown",
   "id": "31941314",
   "metadata": {},
   "source": [
    "You are all set! You are now ready to start solving the questions."
   ]
  },
  {
   "cell_type": "markdown",
   "id": "48025962",
   "metadata": {},
   "source": [
    "**Question 1:** Which country had the highest population (`pop`) in *2020*?"
   ]
  },
  {
   "cell_type": "code",
   "execution_count": 7,
   "id": "a0f6aff9",
   "metadata": {
    "tags": []
   },
   "outputs": [
    {
     "data": {
      "text/plain": [
       "'China'"
      ]
     },
     "execution_count": 7,
     "metadata": {},
     "output_type": "execute_result"
    }
   ],
   "source": [
    "# compute and store the answer in the variable 'highest_pop_country', then display it\n",
    "highest_pop_country = None\n",
    "temp = 0\n",
    "\n",
    "for idx in range (0, len(csv_rows), 2):\n",
    "    if highest_pop_country == None or cell(idx, \"pop\") > temp:\n",
    "        highest_pop_country = cell(idx, \"country_name\")\n",
    "        temp = cell(idx, \"pop\")\n",
    "    \n",
    "highest_pop_country"
   ]
  },
  {
   "cell_type": "code",
   "execution_count": 8,
   "id": "2e815811",
   "metadata": {
    "deletable": false,
    "editable": false
   },
   "outputs": [
    {
     "data": {
      "text/html": [
       "<p><strong><pre style='display: inline;'>q1</pre></strong> passed!</p>"
      ],
      "text/plain": [
       "q1 results: All test cases passed!"
      ]
     },
     "execution_count": 8,
     "metadata": {},
     "output_type": "execute_result"
    }
   ],
   "source": [
    "grader.check(\"q1\")"
   ]
  },
  {
   "cell_type": "markdown",
   "id": "014b296b",
   "metadata": {},
   "source": [
    "**Question 2:** Which country had the highest population (`pop`) **increase** between *2015* and *2020*?\n",
    "\n",
    "There is a **unique** country in this dataset whose population increased the most. You **do not** have to worry about ties.\n",
    "\n",
    "**Hint:** Recall how to loop through the dataset and extract data from each year from [lab-p7](https://git.doit.wisc.edu/cdis/cs/courses/cs220/cs220-f22-projects/-/tree/main/lab-p7)."
   ]
  },
  {
   "cell_type": "code",
   "execution_count": 9,
   "id": "50bae682",
   "metadata": {
    "tags": []
   },
   "outputs": [
    {
     "data": {
      "text/plain": [
       "'India'"
      ]
     },
     "execution_count": 9,
     "metadata": {},
     "output_type": "execute_result"
    }
   ],
   "source": [
    "# compute and store the answer in the variable 'highest_pop_inc_country', then display it\n",
    "\n",
    "size_diff = 0\n",
    "highest_pop_inc_country = None\n",
    "\n",
    "for idx in range (0, len(csv_rows), 2):\n",
    "    idx_2015 = idx\n",
    "    idx_2020 = idx + 1\n",
    "    if size_diff == 0 or (cell(idx_2020, \"pop\") - cell(idx_2015, \"pop\")) > size_diff:\n",
    "        highest_pop_inc_country = cell(idx, \"country_name\")\n",
    "        size_diff = (cell(idx_2020, \"pop\") - cell(idx_2015, \"pop\"))\n",
    "\n",
    "        \n",
    "highest_pop_inc_country"
   ]
  },
  {
   "cell_type": "code",
   "execution_count": 10,
   "id": "cab54382",
   "metadata": {
    "deletable": false,
    "editable": false
   },
   "outputs": [
    {
     "data": {
      "text/html": [
       "<p><strong><pre style='display: inline;'>q2</pre></strong> passed!</p>"
      ],
      "text/plain": [
       "q2 results: All test cases passed!"
      ]
     },
     "execution_count": 10,
     "metadata": {},
     "output_type": "execute_result"
    }
   ],
   "source": [
    "grader.check(\"q2\")"
   ]
  },
  {
   "cell_type": "markdown",
   "id": "d20308e4",
   "metadata": {},
   "source": [
    "**Question 3:** Which country had the highest **increase** in at least basic (`national_alb`) water supply between the years of *2015* and *2020*? \n",
    "\n",
    "There is a **unique** country in this dataset whose `national_alb` value increased the most. You **do not** have to worry about ties.\n",
    "\n",
    "**Hint:** Take a look at q7 in lab-p7 to see how to compute the change in `national_alb` between *2015* and *2020* for each country."
   ]
  },
  {
   "cell_type": "code",
   "execution_count": 11,
   "id": "c74753f3",
   "metadata": {
    "tags": []
   },
   "outputs": [
    {
     "data": {
      "text/plain": [
       "'India'"
      ]
     },
     "execution_count": 11,
     "metadata": {},
     "output_type": "execute_result"
    }
   ],
   "source": [
    "# compute and store the answer in the variable 'highest_nat_alb_inc_country', then display it\n",
    "size_diff = 0\n",
    "highest_nat_alb_inc_country = None\n",
    "\n",
    "for idx in range (0, len(csv_rows), 2):\n",
    "    idx_2015 = idx\n",
    "    idx_2020 = idx + 1\n",
    "    if size_diff == 0 or (cell(idx_2020, \"national_alb\") - cell(idx_2015, \"national_alb\")) > size_diff:\n",
    "        highest_nat_alb_inc_country = cell(idx, \"country_name\")\n",
    "        size_diff = (cell(idx_2020, \"national_alb\") - cell(idx_2015, \"national_alb\"))\n",
    "\n",
    "        \n",
    "highest_pop_inc_country"
   ]
  },
  {
   "cell_type": "code",
   "execution_count": 12,
   "id": "8e821bca",
   "metadata": {
    "deletable": false,
    "editable": false
   },
   "outputs": [
    {
     "data": {
      "text/html": [
       "<p><strong><pre style='display: inline;'>q3</pre></strong> passed!</p>"
      ],
      "text/plain": [
       "q3 results: All test cases passed!"
      ]
     },
     "execution_count": 12,
     "metadata": {},
     "output_type": "execute_result"
    }
   ],
   "source": [
    "grader.check(\"q3\")"
   ]
  },
  {
   "cell_type": "markdown",
   "id": "c261877a",
   "metadata": {},
   "source": [
    "**Question 4:** What was the `income_level` in *2020* of the country with the highest increase in at least basic (`national_alb`) water supply between *2015* and *2020*?"
   ]
  },
  {
   "cell_type": "code",
   "execution_count": 13,
   "id": "bfd79c67",
   "metadata": {
    "tags": []
   },
   "outputs": [
    {
     "data": {
      "text/plain": [
       "'Low income'"
      ]
     },
     "execution_count": 13,
     "metadata": {},
     "output_type": "execute_result"
    }
   ],
   "source": [
    "# compute and store the answer in the variable 'highest_alb_inc_income_level', then display it\n",
    "india_idx = 0\n",
    "\n",
    "for idx in range (0, len(csv_rows), 2):\n",
    "    if cell(idx, \"country_name\") == \"india\":\n",
    "        india_idx = idx\n",
    "highest_alb_inc_income_level = cell(india_idx, \"income_level\")\n",
    "highest_alb_inc_income_level"
   ]
  },
  {
   "cell_type": "code",
   "execution_count": 14,
   "id": "801e8266",
   "metadata": {
    "deletable": false,
    "editable": false
   },
   "outputs": [
    {
     "data": {
      "text/html": [
       "<p><strong><pre style='display: inline;'>q4</pre></strong> passed!</p>"
      ],
      "text/plain": [
       "q4 results: All test cases passed!"
      ]
     },
     "execution_count": 14,
     "metadata": {},
     "output_type": "execute_result"
    }
   ],
   "source": [
    "grader.check(\"q4\")"
   ]
  },
  {
   "cell_type": "markdown",
   "id": "2372cfca",
   "metadata": {},
   "source": [
    "**Question 5:** What is the **total** population (`pop`) of **all** the countries (in the dataset) in the `year` *2020*?\n",
    "\n",
    "The `pop` column stores the population in thousands. So, you will have to multiply the population of each country by *1000* to get (an approximation of) the actual number.\n",
    "\n",
    "**Hint:** You may modify your `cell` function, so that it automatically multiplies the values in the `pop` column by *1000* before returning."
   ]
  },
  {
   "cell_type": "code",
   "execution_count": 15,
   "id": "2d2cb2ae",
   "metadata": {
    "tags": []
   },
   "outputs": [
    {
     "data": {
      "text/plain": [
       "6861226000"
      ]
     },
     "execution_count": 15,
     "metadata": {},
     "output_type": "execute_result"
    }
   ],
   "source": [
    "# compute and store the answer in the variable 'total_pop_2020', then display it\n",
    "total_pop_2020 = 0\n",
    "\n",
    "for idx in range(1, len(csv_rows), 2):\n",
    "    total_pop_2020 += cell(idx, \"pop\")\n",
    "total_pop_2020"
   ]
  },
  {
   "cell_type": "code",
   "execution_count": 16,
   "id": "b11c00dd",
   "metadata": {
    "deletable": false,
    "editable": false
   },
   "outputs": [
    {
     "data": {
      "text/html": [
       "<p><strong><pre style='display: inline;'>q5</pre></strong> passed!</p>"
      ],
      "text/plain": [
       "q5 results: All test cases passed!"
      ]
     },
     "execution_count": 16,
     "metadata": {},
     "output_type": "execute_result"
    }
   ],
   "source": [
    "grader.check(\"q5\")"
   ]
  },
  {
   "cell_type": "markdown",
   "id": "9c7ba440",
   "metadata": {},
   "source": [
    "**Question 6:** What was the global **percentage** of urban population (`urban_percent`) across **all** countries (in the dataset) in the `year` *2020*?\n",
    "\n",
    "You need to find the **total** urban population by *multiplying* the `pop` and `urban_percent` columns of each country and *adding* it up. Then you need to *divide* by the **total** population to get the percentage of urban population across all the countries.\n",
    "\n",
    "Your output **must** be an **int**. You **must** use the `round` function to round your answer to the nearest integer."
   ]
  },
  {
   "cell_type": "code",
   "execution_count": 17,
   "id": "b10e0b02",
   "metadata": {
    "tags": []
   },
   "outputs": [
    {
     "data": {
      "text/plain": [
       "55"
      ]
     },
     "execution_count": 17,
     "metadata": {},
     "output_type": "execute_result"
    }
   ],
   "source": [
    "# compute and store the answer in the variable 'urban_pop_percent_2020', then display it\n",
    "\n",
    "total = 0\n",
    "total_urban = 0\n",
    "for idx in range (1, len(csv_rows), 2):\n",
    "    total += cell(idx, \"pop\")\n",
    "    total_urban += cell(idx, \"pop\") * cell(idx, \"urban_percent\")\n",
    "\n",
    "urban_pop_percent_2020 = round((total_urban / total))\n",
    "urban_pop_percent_2020"
   ]
  },
  {
   "cell_type": "code",
   "execution_count": 18,
   "id": "a39adce3",
   "metadata": {
    "deletable": false,
    "editable": false
   },
   "outputs": [
    {
     "data": {
      "text/html": [
       "<p><strong><pre style='display: inline;'>q6</pre></strong> passed!</p>"
      ],
      "text/plain": [
       "q6 results: All test cases passed!"
      ]
     },
     "execution_count": 18,
     "metadata": {},
     "output_type": "execute_result"
    }
   ],
   "source": [
    "grader.check(\"q6\")"
   ]
  },
  {
   "cell_type": "markdown",
   "id": "f26afbc0",
   "metadata": {},
   "source": [
    "**Question 7:** What was the **total** population (`pop`) of countries that were in the *High income* group (`income_level`) in the `year` *2015*?\n",
    "\n",
    "Your output **must** be an **int**."
   ]
  },
  {
   "cell_type": "code",
   "execution_count": 19,
   "id": "2b77975b",
   "metadata": {
    "tags": []
   },
   "outputs": [
    {
     "data": {
      "text/plain": [
       "848304000"
      ]
     },
     "execution_count": 19,
     "metadata": {},
     "output_type": "execute_result"
    }
   ],
   "source": [
    "# compute and store the answer in the variable 'high_income_pop', then display it\n",
    "high_income = []\n",
    "for idx in range(0, len(csv_rows), 2):\n",
    "    if(cell(idx, \"income_level\") == \"High income\"):\n",
    "        high_income.append(cell(idx,\"pop\"))\n",
    "        \n",
    "high_income_pop = sum(high_income)\n",
    "high_income_pop"
   ]
  },
  {
   "cell_type": "code",
   "execution_count": 20,
   "id": "83319447",
   "metadata": {
    "deletable": false,
    "editable": false
   },
   "outputs": [
    {
     "data": {
      "text/html": [
       "<p><strong><pre style='display: inline;'>q7</pre></strong> passed!</p>"
      ],
      "text/plain": [
       "q7 results: All test cases passed!"
      ]
     },
     "execution_count": 20,
     "metadata": {},
     "output_type": "execute_result"
    }
   ],
   "source": [
    "grader.check(\"q7\")"
   ]
  },
  {
   "cell_type": "markdown",
   "id": "e35aba24",
   "metadata": {},
   "source": [
    "**Question 8:** Which *income group* (`income_level`) had the **least** population (`pop`) in the `year` *2015*?\n",
    "\n",
    "You must find the **total** population (`pop`) for each `income_level`, and find the `income_level` which has the **least** total population.\n",
    "\n",
    "**Hint:** There are several ways to solve this problem efficiently (including using `dicts`). You can try to solve this problem using dicts if you want to. However, another approach that you might already be familiar with from p6 is to first create a *list* of all the **unique** income levels, and then loop through the entire dataset for **each** income level to find the total population of that income level, before comparing these numbers to find the income level with the least population."
   ]
  },
  {
   "cell_type": "code",
   "execution_count": 21,
   "id": "e06ca080",
   "metadata": {
    "tags": []
   },
   "outputs": [
    {
     "data": {
      "text/plain": [
       "'Low income'"
      ]
     },
     "execution_count": 21,
     "metadata": {},
     "output_type": "execute_result"
    }
   ],
   "source": [
    "# compute and store the answer in the variable 'least_pop_income_group', then display it\n",
    "\n",
    "seg = {}\n",
    "for idx in range (0, len(csv_rows), 2):\n",
    "    if(cell(idx, \"income_level\") not in seg):\n",
    "        seg[cell(idx, \"income_level\")] = []\n",
    "\n",
    "for idx in range (0, len(csv_rows), 2):\n",
    "    if(cell(idx, \"income_level\")) == 'Low income':\n",
    "        seg[\"Low income\"].append(cell(idx, \"pop\"))\n",
    "    if(cell(idx, \"income_level\")) == 'Upper middle income':\n",
    "        seg[\"Upper middle income\"].append(cell(idx, \"pop\"))\n",
    "    if(cell(idx, \"income_level\")) == 'High income':\n",
    "        seg[\"High income\"].append(cell(idx, \"pop\"))\n",
    "    if(cell(idx, \"income_level\")) == 'Lower middle income':\n",
    "        seg[\"Lower middle income\"].append(cell(idx, \"pop\"))\n",
    "\n",
    "min = 0\n",
    "for level in seg:\n",
    "    if min == 0 or sum(seg[level]) < min:\n",
    "        least_pop_income_group = level\n",
    "        min =  sum(seg[level])\n",
    "\n",
    "least_pop_income_group"
   ]
  },
  {
   "cell_type": "code",
   "execution_count": 22,
   "id": "07f8b1f2",
   "metadata": {
    "deletable": false,
    "editable": false
   },
   "outputs": [
    {
     "data": {
      "text/html": [
       "<p><strong><pre style='display: inline;'>q8</pre></strong> passed!</p>"
      ],
      "text/plain": [
       "q8 results: All test cases passed!"
      ]
     },
     "execution_count": 22,
     "metadata": {},
     "output_type": "execute_result"
    }
   ],
   "source": [
    "grader.check(\"q8\")"
   ]
  },
  {
   "cell_type": "markdown",
   "id": "9bd9c162",
   "metadata": {},
   "source": [
    "**Question 9:** Create a **list** of the names (`country_name`) of all countries in the *North America* `region` that **tied** for the **maximum** `national_alb` in *2015*.\n",
    "\n",
    "You need to first find the **maximum** value of `national_alb` among all countries in the `region` *North America*, and then make a `list` of **all** the countries in this region having this `national_alb` value. **Multiple** countries from *North America* have the same maximum `national_alb` value, so your output **must** be a `list` of **all** those countries."
   ]
  },
  {
   "cell_type": "code",
   "execution_count": 23,
   "id": "b0ea7e4e",
   "metadata": {
    "tags": []
   },
   "outputs": [
    {
     "data": {
      "text/plain": [
       "['Bermuda', 'Canada', 'United States of America']"
      ]
     },
     "execution_count": 23,
     "metadata": {},
     "output_type": "execute_result"
    }
   ],
   "source": [
    "# compute and store the answer in the variable 'na_max_alb_countries', then display it\n",
    "\n",
    "na_max_alb_countries = []\n",
    "max = 0\n",
    "\n",
    "for idx in range (0, len(csv_rows), 2):\n",
    "    if max == 0 or cell(idx, \"national_alb\") > max:\n",
    "        max = cell(idx, \"national_alb\")\n",
    "\n",
    "for idx in range (0, len(csv_rows), 2):\n",
    "    if cell(idx, \"national_alb\") == max:\n",
    "        if cell(idx, \"region\") == \"North America\":\n",
    "            na_max_alb_countries.append(cell(idx, \"country_name\"))\n",
    "        \n",
    "na_max_alb_countries"
   ]
  },
  {
   "cell_type": "code",
   "execution_count": 24,
   "id": "8102455a",
   "metadata": {
    "deletable": false,
    "editable": false
   },
   "outputs": [
    {
     "data": {
      "text/html": [
       "<p><strong><pre style='display: inline;'>q9</pre></strong> passed!</p>"
      ],
      "text/plain": [
       "q9 results: All test cases passed!"
      ]
     },
     "execution_count": 24,
     "metadata": {},
     "output_type": "execute_result"
    }
   ],
   "source": [
    "grader.check(\"q9\")"
   ]
  },
  {
   "cell_type": "markdown",
   "id": "397c51c5",
   "metadata": {},
   "source": [
    "### Function 2: `get_col_dict(col_name, year)` \n",
    "\n",
    "This function should take in a column `col_name` and a `year` (*2015* or *2020*) as its inputs, and return a `dict` where each key is a `country_code` and the corresponding value is the value under the given `col_name` for the country with the said `country_code` in the given `year`.\n",
    "\n",
    "For example, the value returned by `get_col_dict('country_name', 2015)` should be something like the following:\n",
    "```python\n",
    "{'AFG': 'Afghanistan',\n",
    " 'ALB': 'Albania',\n",
    " 'DZA': 'Algeria',\n",
    " 'AND': 'Andorra',\n",
    " 'AGO': 'Angola',\n",
    " 'ARM': 'Armenia',\n",
    " 'AUS': 'Australia',\n",
    " 'AUT': 'Austria',\n",
    " 'AZE': 'Azerbaijan',\n",
    " 'BGD': 'Bangladesh',\n",
    " ...\n",
    "}\n",
    "```\n",
    "\n",
    "and the value returned by `get_col_dict('pop', 2020)` should be something like the following:\n",
    "```python\n",
    "{'AFG': 38928000,\n",
    " 'ALB': 2878000,\n",
    " 'DZA': 43851000,\n",
    " 'AND': 77000,\n",
    " 'AGO': 32866000,\n",
    " 'ARM': 2963000,\n",
    " 'AUS': 25500000,\n",
    " 'AUT': 9006000,\n",
    " 'AZE': 10139000,\n",
    " 'BGD': 164689000,\n",
    " ...\n",
    "}\n",
    "```\n",
    "\n",
    "Start with the following code snippet and complete the function."
   ]
  },
  {
   "cell_type": "code",
   "execution_count": 25,
   "id": "fb5377bd",
   "metadata": {
    "tags": []
   },
   "outputs": [],
   "source": [
    "# replace the ... with your code\n",
    "def get_col_dict(col_name, year):\n",
    "    col_dict = {}\n",
    "    if year == 2015:\n",
    "        for idx in range (0, len(csv_rows), 2):\n",
    "            col_dict[cell(idx, \"country_code\")] = cell(idx, col_name)\n",
    "    elif year == 2020:\n",
    "        for idx in range (1, len(csv_rows), 2):\n",
    "            col_dict[cell(idx, \"country_code\")] = cell(idx, col_name)\n",
    "    return col_dict"
   ]
  },
  {
   "cell_type": "markdown",
   "id": "dbd91286",
   "metadata": {},
   "source": [
    "After you define the function `get_col_dict`, run the following two cells to test whether it works."
   ]
  },
  {
   "cell_type": "code",
   "execution_count": 26,
   "id": "e7bf550a",
   "metadata": {
    "tags": []
   },
   "outputs": [],
   "source": [
    "get_col_dict_test1 = get_col_dict('region', 2020)\n",
    "get_col_dict_test2 = get_col_dict('national_alb', 2015)\n",
    "get_col_dict_test3 = get_col_dict('pop', 2020)"
   ]
  },
  {
   "cell_type": "code",
   "execution_count": 27,
   "id": "9ec9b77f",
   "metadata": {
    "deletable": false,
    "editable": false
   },
   "outputs": [
    {
     "data": {
      "text/html": [
       "<p><strong><pre style='display: inline;'>get_col_dict</pre></strong> passed!</p>"
      ],
      "text/plain": [
       "get_col_dict results: All test cases passed!"
      ]
     },
     "execution_count": 27,
     "metadata": {},
     "output_type": "execute_result"
    }
   ],
   "source": [
    "grader.check(\"get_col_dict\")"
   ]
  },
  {
   "cell_type": "markdown",
   "id": "474ffcde",
   "metadata": {},
   "source": [
    "### Data Structures 1: `dict_2015`\n",
    "\n",
    "You must now create a data structure named `dict_2015`. This data structure must be a **dict**. Each key must be a `country_code`, and the corresponding value must be another **dict**. As for the inner dictionary, the keys must be the various column names, and the values must be the values under the column name for `country_code` in the `year` *2015*.\n",
    "\n",
    "The keys for each of the *inner* dictionary are the column names:\n",
    "- `'country_name'`\n",
    "- `'region'`\n",
    "- `'income_level'`\n",
    "- `'year'`\n",
    "- `'pop'`\n",
    "- `'urban_percent'`\n",
    "- `'national_alb'`\n",
    "- `'urban_alb'`\n",
    "\n",
    "You are **allowed** to *hardcode* the **names** of all these columns (i.e., the keys of the *inner* dictionaries).\n",
    "\n",
    "The data structure `dict_2015` should look something like this:\n",
    "```python\n",
    "{'AFG': {'country_name': 'Afghanistan',\n",
    "  'region': 'South Asia',\n",
    "  'income_level': 'Low income',\n",
    "  'year': 2015,\n",
    "  'pop': 34414000,\n",
    "  'urban_percent': 25,\n",
    "  'national_alb': 61,\n",
    "  'urban_alb': 87},\n",
    " 'ALB': {'country_name': 'Albania',\n",
    "  'region': 'Europe & Central Asia',\n",
    "  'income_level': 'Upper middle income',\n",
    "  'year': 2015,\n",
    "  'pop': 2891000,\n",
    "  'urban_percent': 57,\n",
    "  'national_alb': 93,\n",
    "  'urban_alb': 95},\n",
    "  ...\n",
    "}\n",
    "```"
   ]
  },
  {
   "cell_type": "code",
   "execution_count": 28,
   "id": "40853d94",
   "metadata": {
    "tags": []
   },
   "outputs": [],
   "source": [
    "# define the variable 'dict_2015' here as described above\n",
    "# you may display the variable for testing purposes while you define it,\n",
    "# BUT you MUST remove the line displaying 'dict_2015' before submission as the output will be too large to display\n",
    "\n",
    "# initialize as an empty dictionary\n",
    "dict_2015 = {}\n",
    "\n",
    "country_dict = get_col_dict('country_name', 2015)\n",
    "region_dict = get_col_dict('region', 2015)\n",
    "# call get_col_dict for other columns\n",
    "income_level_dict = get_col_dict('income_level', 2015)\n",
    "year_dict = get_col_dict('year', 2015)\n",
    "pop_dict = get_col_dict('pop', 2015)\n",
    "urban_percent_dict = get_col_dict('urban_percent', 2015)\n",
    "national_alb_dict = get_col_dict('national_alb', 2015)\n",
    "urban_alb_dict = get_col_dict('urban_alb', 2015)\n",
    "\n",
    "for idx in range(0, len(csv_rows), 2):\n",
    "    dict_2015[cell(idx, \"country_code\")] = {}\n",
    "for key in dict_2015:\n",
    "    dict_2015[key]['country_name'] = country_dict[key]\n",
    "    dict_2015[key]['region'] = region_dict[key]\n",
    "    dict_2015[key]['income_level'] = income_level_dict[key]\n",
    "    dict_2015[key]['year'] = year_dict[key]\n",
    "    dict_2015[key]['pop'] = pop_dict[key]\n",
    "    dict_2015[key]['urban_percent'] = urban_percent_dict[key]\n",
    "    dict_2015[key]['national_alb'] = national_alb_dict[key]\n",
    "    dict_2015[key]['urban_alb'] = urban_alb_dict[key]\n",
    "    "
   ]
  },
  {
   "cell_type": "markdown",
   "id": "26db8e45",
   "metadata": {},
   "source": [
    "After you define the data structure `dict_2015`, run the following cell to test whether you have defined it properly."
   ]
  },
  {
   "cell_type": "code",
   "execution_count": 29,
   "id": "1f4cb77b",
   "metadata": {
    "deletable": false,
    "editable": false
   },
   "outputs": [
    {
     "data": {
      "text/html": [
       "<p><strong><pre style='display: inline;'>dict_2015</pre></strong> passed!</p>"
      ],
      "text/plain": [
       "dict_2015 results: All test cases passed!"
      ]
     },
     "execution_count": 29,
     "metadata": {},
     "output_type": "execute_result"
    }
   ],
   "source": [
    "grader.check(\"dict_2015\")"
   ]
  },
  {
   "cell_type": "markdown",
   "id": "4db68c64",
   "metadata": {},
   "source": [
    "### Data Structures 2: `dict_2020`\n",
    "\n",
    "You must now create a data structure named `dict_2020`. This data structure must be a **dict**. Each key must be a `country_code`, and the corresponding value must be another **dict**. As for the inner dictionary, the keys must be the various column names, and the values must be the values under the column name for `country_code` in the `year` *2020*.\n",
    "\n",
    "The keys for each of the *inner* dictionary are the column names:\n",
    "- `'country_name'`\n",
    "- `'region'`\n",
    "- `'income_level'`\n",
    "- `'year'`\n",
    "- `'pop'`\n",
    "- `'urban_percent'`\n",
    "- `'national_alb'`\n",
    "- `'urban_alb'`\n",
    "\n",
    "You are **allowed** to *hardcode* the **names** of all these columns (i.e., the keys of the *inner* dictionaries)."
   ]
  },
  {
   "cell_type": "code",
   "execution_count": 30,
   "id": "b8d17191",
   "metadata": {
    "tags": []
   },
   "outputs": [],
   "source": [
    "# define the variable 'dict_2020' here as described above\n",
    "# you may display the variable for testing purposes while you define it,\n",
    "# BUT you MUST remove the line displaying 'dict_2020' before submission as the output will be too large to display\n",
    "dict_2020 = {}\n",
    "\n",
    "country_dict = get_col_dict('country_name', 2020)\n",
    "region_dict = get_col_dict('region', 2020)\n",
    "# call get_col_dict for other columns\n",
    "income_level_dict = get_col_dict('income_level', 2020)\n",
    "year_dict = get_col_dict('year', 2020)\n",
    "pop_dict = get_col_dict('pop', 2020)\n",
    "urban_percent_dict = get_col_dict('urban_percent', 2020)\n",
    "national_alb_dict = get_col_dict('national_alb', 2020)\n",
    "urban_alb_dict = get_col_dict('urban_alb', 2020)\n",
    "\n",
    "for idx in range(0, len(csv_rows), 2):\n",
    "    dict_2020[cell(idx, \"country_code\")] = {}\n",
    "for key in dict_2020:\n",
    "    dict_2020[key]['country_name'] = country_dict[key]\n",
    "    dict_2020[key]['region'] = region_dict[key]\n",
    "    dict_2020[key]['income_level'] = income_level_dict[key]\n",
    "    dict_2020[key]['year'] = year_dict[key]\n",
    "    dict_2020[key]['pop'] = pop_dict[key]\n",
    "    dict_2020[key]['urban_percent'] = urban_percent_dict[key]\n",
    "    dict_2020[key]['national_alb'] = national_alb_dict[key]\n",
    "    dict_2020[key]['urban_alb'] = urban_alb_dict[key]\n",
    "    "
   ]
  },
  {
   "cell_type": "markdown",
   "id": "4b701542",
   "metadata": {},
   "source": [
    "After you define the data structure `dict_2020`, run the following cell to test whether you have defined it properly."
   ]
  },
  {
   "cell_type": "code",
   "execution_count": 31,
   "id": "bbe0074a",
   "metadata": {
    "deletable": false,
    "editable": false
   },
   "outputs": [
    {
     "data": {
      "text/html": [
       "<p><strong><pre style='display: inline;'>dict_2020</pre></strong> passed!</p>"
      ],
      "text/plain": [
       "dict_2020 results: All test cases passed!"
      ]
     },
     "execution_count": 31,
     "metadata": {},
     "output_type": "execute_result"
    }
   ],
   "source": [
    "grader.check(\"dict_2020\")"
   ]
  },
  {
   "cell_type": "markdown",
   "id": "899845d5",
   "metadata": {},
   "source": [
    "#### From this point onwards, you are only allowed to access data from `water_accessibility.csv` by querying from the **dicts** `dict_2015` and `dict_2020`. You will **lose points** during manual review if you access the data through any other means."
   ]
  },
  {
   "cell_type": "markdown",
   "id": "907b2aa7",
   "metadata": {},
   "source": [
    "**Question 10:** Output the data from *India* (`country_code`: *IND*) for the `year` *2020*.\n",
    "\n",
    "Your output **must** be a **dict** mapping each column name to the value for the country *IND* in the year *2020*. You **must** answer this by querying data from `dict_2020`.\n",
    "\n",
    "The expected output is:\n",
    "```python\n",
    "{'country_name': 'India',\n",
    " 'region': 'South Asia',\n",
    " 'income_level': 'Lower middle income',\n",
    " 'year': 2020,\n",
    " 'pop': 1380004000,\n",
    " 'urban_percent': 35,\n",
    " 'national_alb': 90,\n",
    " 'urban_alb': 94}\n",
    "```"
   ]
  },
  {
   "cell_type": "code",
   "execution_count": 32,
   "id": "a7ef6ab2",
   "metadata": {
    "tags": []
   },
   "outputs": [
    {
     "data": {
      "text/plain": [
       "{'country_name': 'India',\n",
       " 'region': 'South Asia',\n",
       " 'income_level': 'Lower middle income',\n",
       " 'year': 2020,\n",
       " 'pop': 1380004000,\n",
       " 'urban_percent': 35,\n",
       " 'national_alb': 90,\n",
       " 'urban_alb': 94}"
      ]
     },
     "execution_count": 32,
     "metadata": {},
     "output_type": "execute_result"
    }
   ],
   "source": [
    "# compute and store the answer in the variable 'ind_2020_dict', then display it\n",
    "ind_2020_dict = dict_2020[\"IND\"]\n",
    "ind_2020_dict"
   ]
  },
  {
   "cell_type": "code",
   "execution_count": 33,
   "id": "e6cf0a94",
   "metadata": {
    "deletable": false,
    "editable": false
   },
   "outputs": [
    {
     "data": {
      "text/html": [
       "<p><strong><pre style='display: inline;'>q10</pre></strong> passed!</p>"
      ],
      "text/plain": [
       "q10 results: All test cases passed!"
      ]
     },
     "execution_count": 33,
     "metadata": {},
     "output_type": "execute_result"
    }
   ],
   "source": [
    "grader.check(\"q10\")"
   ]
  },
  {
   "cell_type": "markdown",
   "id": "05c378dd",
   "metadata": {},
   "source": [
    "**Question 11:** What is the national at least basic (`national_alb`) water supply for *Great Britain* (`country_code`: *GBR*) in the `year` *2015*?"
   ]
  },
  {
   "cell_type": "code",
   "execution_count": 34,
   "id": "49e78262",
   "metadata": {
    "tags": []
   },
   "outputs": [
    {
     "data": {
      "text/plain": [
       "100"
      ]
     },
     "execution_count": 34,
     "metadata": {},
     "output_type": "execute_result"
    }
   ],
   "source": [
    "# compute and store the answer in the variable 'gbr_national_alb_2015', then display it\n",
    "\n",
    "gbr_national_alb_2015 = dict_2015[\"BGR\"][\"national_alb\"]\n",
    "gbr_national_alb_2015"
   ]
  },
  {
   "cell_type": "code",
   "execution_count": 35,
   "id": "5fda299f",
   "metadata": {
    "deletable": false,
    "editable": false
   },
   "outputs": [
    {
     "data": {
      "text/html": [
       "<p><strong><pre style='display: inline;'>q11</pre></strong> passed!</p>"
      ],
      "text/plain": [
       "q11 results: All test cases passed!"
      ]
     },
     "execution_count": 35,
     "metadata": {},
     "output_type": "execute_result"
    }
   ],
   "source": [
    "grader.check(\"q11\")"
   ]
  },
  {
   "cell_type": "markdown",
   "id": "460f900f",
   "metadata": {},
   "source": [
    "**Question 12:** How much did the population (`pop`) of *France* **increase** (`country_code`: *FRA*) from the `year` *2015* to *2020*?"
   ]
  },
  {
   "cell_type": "code",
   "execution_count": 36,
   "id": "2bd5e06d",
   "metadata": {
    "tags": []
   },
   "outputs": [
    {
     "data": {
      "text/plain": [
       "821000"
      ]
     },
     "execution_count": 36,
     "metadata": {},
     "output_type": "execute_result"
    }
   ],
   "source": [
    "# compute and store the answer in the variable 'population_change_fra', then display it\n",
    "population_change_fra = dict_2020[\"FRA\"][\"pop\"] - dict_2015[\"FRA\"][\"pop\"]\n",
    "population_change_fra"
   ]
  },
  {
   "cell_type": "code",
   "execution_count": 37,
   "id": "e77629eb",
   "metadata": {
    "deletable": false,
    "editable": false
   },
   "outputs": [
    {
     "data": {
      "text/html": [
       "<p><strong><pre style='display: inline;'>q12</pre></strong> passed!</p>"
      ],
      "text/plain": [
       "q12 results: All test cases passed!"
      ]
     },
     "execution_count": 37,
     "metadata": {},
     "output_type": "execute_result"
    }
   ],
   "source": [
    "grader.check(\"q12\")"
   ]
  },
  {
   "cell_type": "markdown",
   "id": "a537b9d8",
   "metadata": {},
   "source": [
    "**Question 13:** For each `income_level`, find the **total** population (`pop`) of all countries within that `income_level` in *2020*.\n",
    "\n",
    "Your output **must** be a **dict** where each key is a `income_level`, and the corresponding value is the **sum** of populations (`pop`) of all the countries from that `income_level` in the `year` *2020*."
   ]
  },
  {
   "cell_type": "code",
   "execution_count": 38,
   "id": "7a059c7b",
   "metadata": {
    "tags": []
   },
   "outputs": [
    {
     "data": {
      "text/plain": [
       "{'Lower middle income': 3045857000,\n",
       " 'Low income': 514021000,\n",
       " 'High income': 871268000,\n",
       " 'Upper middle income': 2430080000}"
      ]
     },
     "execution_count": 38,
     "metadata": {},
     "output_type": "execute_result"
    }
   ],
   "source": [
    "# compute and store the answer in the variable 'income_level_pops', then display it\n",
    "income_level_pops = {'Lower middle income': 0, 'Low income': 0,'High income': 0, 'Upper middle income': 0 }\n",
    "for key in dict_2020:\n",
    "    if(dict_2020[key]['income_level'] == 'Lower middle income'):\n",
    "       income_level_pops['Lower middle income'] += dict_2020[key][\"pop\"]\n",
    "    if(dict_2020[key]['income_level'] == 'Low income'):\n",
    "       income_level_pops['Low income'] += dict_2020[key][\"pop\"]\n",
    "    if(dict_2020[key]['income_level'] == 'High income'):\n",
    "       income_level_pops['High income'] += dict_2020[key][\"pop\"]\n",
    "    if(dict_2020[key]['income_level'] == 'Upper middle income'):\n",
    "       income_level_pops['Upper middle income'] += dict_2020[key][\"pop\"]\n",
    "income_level_pops"
   ]
  },
  {
   "cell_type": "code",
   "execution_count": 39,
   "id": "1576ca67",
   "metadata": {
    "deletable": false,
    "editable": false
   },
   "outputs": [
    {
     "data": {
      "text/html": [
       "<p><strong><pre style='display: inline;'>q13</pre></strong> passed!</p>"
      ],
      "text/plain": [
       "q13 results: All test cases passed!"
      ]
     },
     "execution_count": 39,
     "metadata": {},
     "output_type": "execute_result"
    }
   ],
   "source": [
    "grader.check(\"q13\")"
   ]
  },
  {
   "cell_type": "markdown",
   "id": "e0b03a15",
   "metadata": {},
   "source": [
    "**Question 14:** For each `income_level`, find the **total** population (`pop`) of all countries who have access to at least basic water supply within that `income_level` in *2020*.\n",
    "\n",
    "Your output **must** be a **dict** where each key is a `income_level`, and the corresponding value is the **sum** of populations (`pop`) which have access to at least basic water supply of all the countries from that `income_level` in the `year` *2020*.\n",
    "\n",
    "You **must** round the population of **each** country with access to at least basic water supply to the **nearest** integer **before** adding them up.\n",
    "\n",
    "**Hint:** For each country, the population with at least basic water supply is `pop * national_alb / 100`. "
   ]
  },
  {
   "cell_type": "code",
   "execution_count": 40,
   "id": "bed43973",
   "metadata": {
    "tags": []
   },
   "outputs": [],
   "source": [
    "# compute and store the answer in the variable 'income_level_alb_pops', then display it\n",
    "income_level_alb_pops = {'Lower middle income': 0, 'Low income': 0,'High income': 0, 'Upper middle income': 0 }\n",
    "for key in dict_2020:\n",
    "    if(dict_2020[key]['income_level'] == 'Lower middle income'):\n",
    "       income_level_alb_pops['Lower middle income'] += round(dict_2020[key][\"pop\"]*dict_2020[key][\"national_alb\"]/100)\n",
    "    if(dict_2020[key]['income_level'] == 'Low income'):\n",
    "       income_level_alb_pops['Low income'] += round(dict_2020[key][\"pop\"]*dict_2020[key][\"national_alb\"]/100)\n",
    "    if(dict_2020[key]['income_level'] == 'High income'):\n",
    "       income_level_alb_pops['High income'] += round(dict_2020[key][\"pop\"]*dict_2020[key][\"national_alb\"]/100)\n",
    "    if(dict_2020[key]['income_level'] == 'Upper middle income'):\n",
    "       income_level_alb_pops['Upper middle income'] += round(dict_2020[key][\"pop\"]*dict_2020[key][\"national_alb\"]/100)\n"
   ]
  },
  {
   "cell_type": "code",
   "execution_count": 41,
   "id": "40cd048e",
   "metadata": {
    "deletable": false,
    "editable": false
   },
   "outputs": [
    {
     "data": {
      "text/html": [
       "<p><strong><pre style='display: inline;'>q14</pre></strong> passed!</p>"
      ],
      "text/plain": [
       "q14 results: All test cases passed!"
      ]
     },
     "execution_count": 41,
     "metadata": {},
     "output_type": "execute_result"
    }
   ],
   "source": [
    "grader.check(\"q14\")"
   ]
  },
  {
   "cell_type": "markdown",
   "id": "a70bdcfd",
   "metadata": {},
   "source": [
    "**Question 15:** For each `income_level`, find the **percentage** of population (`pop`) of all countries within that `income_level` with at least basic water supply in *2020*.\n",
    "\n",
    "Your output **must** be a **dict** where each key is a `income_level`, and the corresponding value is the **percentage** of the population (`pop`) which have access to at least basic water supply of all the countries from that `income_level` in the `year` *2020*. The percentages **must** be represented as **int**s between *0* and *100*. You **must** round each of the percentages to the **nearest** integer.\n",
    "\n",
    "**Hint:** You need to loop through the dictionaries you found in Q13 (or Q14), and for each key, you need to divide the corresponding value in the Q14 dictionary by the value of the same key in the Q13 dictionary and multiply by 100. Take another look at Task 3.6 from lab-p7, if you are not sure how to proceed here."
   ]
  },
  {
   "cell_type": "code",
   "execution_count": 42,
   "id": "4ed2d02f",
   "metadata": {
    "tags": []
   },
   "outputs": [
    {
     "data": {
      "text/plain": [
       "{'Lower middle income': 88,\n",
       " 'Low income': 59,\n",
       " 'High income': 100,\n",
       " 'Upper middle income': 96}"
      ]
     },
     "execution_count": 42,
     "metadata": {},
     "output_type": "execute_result"
    }
   ],
   "source": [
    "# compute and store the answer in the variable 'income_level_alb_percent', then display it\n",
    "\n",
    "income_level_alb_percent = {'Lower middle income': 0, 'Low income': 0,'High income': 0, 'Upper middle income': 0 }\n",
    "\n",
    "for key in income_level_alb_percent:\n",
    "    income_level_alb_percent[key] = round((income_level_alb_pops[key] / income_level_pops[key] * 100))\n",
    "income_level_alb_percent"
   ]
  },
  {
   "cell_type": "code",
   "execution_count": 43,
   "id": "bcbaa5b1",
   "metadata": {
    "deletable": false,
    "editable": false
   },
   "outputs": [
    {
     "data": {
      "text/html": [
       "<p><strong><pre style='display: inline;'>q15</pre></strong> passed!</p>"
      ],
      "text/plain": [
       "q15 results: All test cases passed!"
      ]
     },
     "execution_count": 43,
     "metadata": {},
     "output_type": "execute_result"
    }
   ],
   "source": [
    "grader.check(\"q15\")"
   ]
  },
  {
   "cell_type": "markdown",
   "id": "cfec7c03",
   "metadata": {},
   "source": [
    "### Data Structure 3: Adding `rural_alb`  to `dict_2015` and `dict_2020`\n",
    "\n",
    "Our dataset has data on the percentage of **national** and **urban** populations with at least basic water supply. However, it is usually **rural** populations which have the greatest difficulty in getting access to water.\n",
    "\n",
    "Luckily, we are able to calculate **rural_alb** from the given data using the formula:\n",
    "\n",
    "$$\n",
    "rural_{alb} = \\frac{national_{alb} - \\left(urban_{alb} \\times \\frac{urban\\_percent}{100}\\right)}{\\left(1 - \\frac{urban\\_percent}{100}\\right)}\n",
    "$$\n",
    "\n",
    "*If a country has `urban_percent` equal to `100`, then the country has a negligible rural population, and the formula above is not valid. For such countries, we will assume that `rural_alb` is the **same** as `urban_alb`.*\n",
    "\n",
    "You **must** loop through each country in `dict_2015` and `dict_2020`, and add an **additional** key value pair for each country. The new key should be the string: `\"rural_alb\"`, and the corresponding value should be the `rural_alb` value for that country as given by the formula above. You **must** round each number to the **nearest** integer."
   ]
  },
  {
   "cell_type": "code",
   "execution_count": 44,
   "id": "9e989a3e",
   "metadata": {
    "tags": []
   },
   "outputs": [],
   "source": [
    "# add the additional key-value pair to both dicts 'dict_2015' and 'dict_2020' here\n",
    "# you may display the variable for testing purposes while you define it,\n",
    "# BUT you MUST remove the line displaying the dicts before submission as the output will be too large to display\n",
    "\n",
    "\n",
    "for key in dict_2015:\n",
    "    \n",
    "    nalb = dict_2015[key][\"national_alb\"]\n",
    "    ualb = dict_2015[key][\"urban_alb\"]\n",
    "    up = dict_2015[key][\"urban_percent\"]\n",
    "    if(up != 100):\n",
    "        dict_2015[key][\"rural_alb\"] = round((nalb - (ualb * up / 100)) / (1 - up/100))\n",
    "    else:\n",
    "        dict_2015[key][\"rural_alb\"] = ualb\n",
    "\n",
    "    \n",
    "for key in dict_2020:\n",
    "    \n",
    "    nalb = dict_2020[key][\"national_alb\"]\n",
    "    ualb = dict_2020[key][\"urban_alb\"]\n",
    "    up = dict_2020[key][\"urban_percent\"]\n",
    "    if(up != 100):\n",
    "        dict_2020[key][\"rural_alb\"] = round((nalb - (ualb * up / 100)) / (1 - up/100))\n",
    "    else:\n",
    "        dict_2020[key][\"rural_alb\"] = ualb"
   ]
  },
  {
   "cell_type": "markdown",
   "id": "c45dfc67",
   "metadata": {},
   "source": [
    "**Question 16:** What's the percentage of rural population with at least basic (`rural_alb`) water supply in *Australia* (`country_code`: *AUS*) in *2020*? \n",
    "\n",
    "You **must** answer this question by querying data from the dict `dict_2020`."
   ]
  },
  {
   "cell_type": "code",
   "execution_count": 45,
   "id": "d7ad07fa",
   "metadata": {
    "tags": []
   },
   "outputs": [
    {
     "data": {
      "text/plain": [
       "100"
      ]
     },
     "execution_count": 45,
     "metadata": {},
     "output_type": "execute_result"
    }
   ],
   "source": [
    "# compute and store the answer in the variable 'australia_rural_alb_2020', then display it\n",
    "\n",
    "australia_rural_alb_2020 = dict_2015[\"AUS\"][\"rural_alb\"]\n",
    "australia_rural_alb_2020\n"
   ]
  },
  {
   "cell_type": "code",
   "execution_count": 46,
   "id": "64e29eef",
   "metadata": {
    "deletable": false,
    "editable": false
   },
   "outputs": [
    {
     "data": {
      "text/html": [
       "<p><strong><pre style='display: inline;'>q16</pre></strong> passed!</p>"
      ],
      "text/plain": [
       "q16 results: All test cases passed!"
      ]
     },
     "execution_count": 46,
     "metadata": {},
     "output_type": "execute_result"
    }
   ],
   "source": [
    "grader.check(\"q16\")"
   ]
  },
  {
   "cell_type": "markdown",
   "id": "b121e095",
   "metadata": {},
   "source": [
    "### Data Structure 4: `rural_non_alb` bins\n",
    "\n",
    "We have now managed to extract the percentage of rural population with access to atleast basic water supply for each of the countries in the dataset. We can now use this information to find out the countries whose rural populations do **not** have access to at least basic water supply.\n",
    "\n",
    "You **must** create two **dict**s (one for the `year` *2015* and one for *2020*) where the keys are the integers *0*, *10*, *20*, ..., *100*. The value corresponding to the integer *0* **must** be a **list** containing the names of all the countries for which their rural population **without** access to at least basic (which we can represent as `rural_non_alb`) water supply is `0 <= rural_non_alb < 10`. Similarly, the value corresponding to the key *10* must be a **list** of all countries for which `10 <= rural_non_alb < 20`, and so on.\n",
    "\n",
    "**Hints:**\n",
    "1. You can find `rural_non_alb` as `rural_non_alb = 100 - rural_alb`.\n",
    "2. You can find the bin which any country falls into by using the formula:\n",
    "```python\n",
    "rural_non_alb_bin = ((100 - rural_alb)//10) * 10\n",
    "```\n",
    "3. Even if a particular bin has no countries in it, you **must** still create a bin for it in your dict (with the value being an empty list). The starter code below will help you accomplish this."
   ]
  },
  {
   "cell_type": "code",
   "execution_count": 47,
   "id": "c2dd8461",
   "metadata": {
    "tags": []
   },
   "outputs": [],
   "source": [
    "# compute and store the answer in the variable 'rural_non_alb_bin_2015_dict'\n",
    "\n",
    "# initialize as an empty dictionary\n",
    "rural_non_alb_bin_2015_dict = {}\n",
    "\n",
    "# loop through the keys we want for the dictionary - 0, 10, 20, ..., 100 (inclusive of 100)\n",
    "# and add them to the dictionary as keys with the value as an empty list\n",
    "for rural_non_alb_bin in range(0, 101, 10):\n",
    "    rural_non_alb_bin_2015_dict[rural_non_alb_bin] = []\n",
    "\n",
    "# loop through each country and add to the correct bin of rural_non_alb_bin_2015_dict\n",
    "for key in dict_2015:\n",
    "    if ((100 - dict_2015[key][\"rural_alb\"])//10) * 10 < 10:\n",
    "        rural_non_alb_bin_2015_dict[0].append(dict_2015[key][\"country_name\"]) \n",
    "   \n",
    "    elif ((100 - dict_2015[key][\"rural_alb\"])//10) * 10 < 20:\n",
    "        rural_non_alb_bin_2015_dict[10].append(dict_2015[key][\"country_name\"]) \n",
    "   \n",
    "    elif((100 - dict_2015[key][\"rural_alb\"])//10) * 10 < 30:\n",
    "        rural_non_alb_bin_2015_dict[20].append(dict_2015[key][\"country_name\"]) \n",
    "  \n",
    "    elif((100 - dict_2015[key][\"rural_alb\"])//10) * 10 < 40:\n",
    "        rural_non_alb_bin_2015_dict[30].append(dict_2015[key][\"country_name\"]) \n",
    "  \n",
    "    elif((100 - dict_2015[key][\"rural_alb\"])//10) * 10 < 50:\n",
    "        rural_non_alb_bin_2015_dict[40].append(dict_2015[key][\"country_name\"]) \n",
    "   \n",
    "    elif ((100 - dict_2015[key][\"rural_alb\"])//10) * 10 < 60:\n",
    "        rural_non_alb_bin_2015_dict[50].append(dict_2015[key][\"country_name\"]) \n",
    "   \n",
    "    elif((100 - dict_2015[key][\"rural_alb\"])//10) * 10 < 70:\n",
    "        rural_non_alb_bin_2015_dict[60].append(dict_2015[key][\"country_name\"]) \n",
    "    \n",
    "    elif((100 - dict_2015[key][\"rural_alb\"])//10) * 10 < 80:\n",
    "        rural_non_alb_bin_2015_dict[70].append(dict_2015[key][\"country_name\"]) \n",
    "    \n",
    "    elif((100 - dict_2015[key][\"rural_alb\"])//10) * 10 < 90:\n",
    "        rural_non_alb_bin_2015_dict[80].append(dict_2015[key][\"country_name\"]) \n",
    "    \n",
    "    elif ((100 - dict_2015[key][\"rural_alb\"])//10) * 10 < 100:\n",
    "        rural_non_alb_bin_2015_dict[90].append(dict_2015[key][\"country_name\"]) \n",
    "    \n",
    "    elif ((100 - dict_2015[key][\"rural_alb\"])//10) * 10 == 100:\n",
    "        rural_non_alb_bin_2015_dict[100].append(dict_2015[key][\"country_name\"]) \n"
   ]
  },
  {
   "cell_type": "code",
   "execution_count": 48,
   "id": "3a766c7d",
   "metadata": {
    "tags": []
   },
   "outputs": [],
   "source": [
    "# compute and store the answer in the variable 'rural_non_alb_bin_2020_dict'\n",
    "\n",
    "\n",
    "# initialize as an empty dictionary\n",
    "rural_non_alb_bin_2020_dict = {}\n",
    "\n",
    "# loop through the keys we want for the dictionary - 0, 10, 20, ..., 100 (inclusive of 100)\n",
    "# and add them to the dictionary as keys with the value as an empty list\n",
    "for rural_non_alb_bin in range(0, 101, 10):\n",
    "    rural_non_alb_bin_2020_dict[rural_non_alb_bin] = []\n",
    "\n",
    "# loop through each country and add to the correct bin of rural_non_alb_bin_2015_dict\n",
    "for key in dict_2020:\n",
    "    if ((100 - dict_2020[key][\"rural_alb\"])//10) * 10 < 10:\n",
    "        rural_non_alb_bin_2020_dict[0].append(dict_2015[key][\"country_name\"]) \n",
    "   \n",
    "    elif ((100 - dict_2020[key][\"rural_alb\"])//10) * 10 < 20:\n",
    "        rural_non_alb_bin_2020_dict[10].append(dict_2015[key][\"country_name\"]) \n",
    "   \n",
    "    elif((100 - dict_2020[key][\"rural_alb\"])//10) * 10 < 30:\n",
    "        rural_non_alb_bin_2020_dict[20].append(dict_2015[key][\"country_name\"]) \n",
    "  \n",
    "    elif((100 - dict_2020[key][\"rural_alb\"])//10) * 10 < 40:\n",
    "        rural_non_alb_bin_2020_dict[30].append(dict_2015[key][\"country_name\"]) \n",
    "  \n",
    "    elif((100 - dict_2020[key][\"rural_alb\"])//10) * 10 < 50:\n",
    "        rural_non_alb_bin_2020_dict[40].append(dict_2015[key][\"country_name\"]) \n",
    "   \n",
    "    elif ((100 - dict_2020[key][\"rural_alb\"])//10) * 10 < 60:\n",
    "        rural_non_alb_bin_2020_dict[50].append(dict_2015[key][\"country_name\"]) \n",
    "   \n",
    "    elif((100 - dict_2020[key][\"rural_alb\"])//10) * 10 < 70:\n",
    "        rural_non_alb_bin_2020_dict[60].append(dict_2015[key][\"country_name\"]) \n",
    "    \n",
    "    elif((100 - dict_2020[key][\"rural_alb\"])//10) * 10 < 80:\n",
    "        rural_non_alb_bin_2020_dict[70].append(dict_2015[key][\"country_name\"]) \n",
    "    \n",
    "    elif((100 - dict_2020[key][\"rural_alb\"])//10) * 10 < 90:\n",
    "        rural_non_alb_bin_2020_dict[80].append(dict_2015[key][\"country_name\"]) \n",
    "    \n",
    "    elif ((100 - dict_2020[key][\"rural_alb\"])//10) * 10 < 100:\n",
    "        rural_non_alb_bin_2020_dict[90].append(dict_2015[key][\"country_name\"]) \n",
    "    \n",
    "    elif ((100 - dict_2020[key][\"rural_alb\"])//10) * 10 == 100:\n",
    "        rural_non_alb_bin_2020_dict[100].append(dict_2015[key][\"country_name\"]) \n"
   ]
  },
  {
   "cell_type": "markdown",
   "id": "72206139",
   "metadata": {},
   "source": [
    "After you define the data structures `rural_non_alb_bin_2015_dict` and `rural_non_alb_bin_2020_dict`, run the following cell to test whether you have defined them properly."
   ]
  },
  {
   "cell_type": "code",
   "execution_count": 49,
   "id": "6af9d9fa",
   "metadata": {
    "deletable": false,
    "editable": false
   },
   "outputs": [
    {
     "data": {
      "text/html": [
       "<p><strong><pre style='display: inline;'>rural_non_alb_bins</pre></strong> passed!</p>"
      ],
      "text/plain": [
       "rural_non_alb_bins results: All test cases passed!"
      ]
     },
     "execution_count": 49,
     "metadata": {},
     "output_type": "execute_result"
    }
   ],
   "source": [
    "grader.check(\"rural_non_alb_bins\")"
   ]
  },
  {
   "cell_type": "markdown",
   "id": "58827c0d",
   "metadata": {},
   "source": [
    "**Question 17:** List all the countries which had `rural_non_alb` value between *0* and *9* (both inclusive) in the `year` *2020*.\n",
    "\n",
    "You **must** answer this question by querying the the **dict** `rural_non_alb_bin_2020_dict`."
   ]
  },
  {
   "cell_type": "code",
   "execution_count": 50,
   "id": "2fba480f",
   "metadata": {
    "tags": []
   },
   "outputs": [
    {
     "data": {
      "text/plain": [
       "['Albania',\n",
       " 'Andorra',\n",
       " 'Armenia',\n",
       " 'Australia',\n",
       " 'Austria',\n",
       " 'Azerbaijan',\n",
       " 'Bangladesh',\n",
       " 'Belarus',\n",
       " 'Belgium',\n",
       " 'Belize',\n",
       " 'Bermuda',\n",
       " 'Bhutan',\n",
       " 'Bosnia and Herzegovina',\n",
       " 'Brazil',\n",
       " 'Brunei Darussalam',\n",
       " 'Bulgaria',\n",
       " 'Canada',\n",
       " 'Chile',\n",
       " 'Costa Rica',\n",
       " 'Cuba',\n",
       " 'Cyprus',\n",
       " 'Czech Republic',\n",
       " 'Denmark',\n",
       " 'Dominican Republic',\n",
       " 'El Salvador',\n",
       " 'Estonia',\n",
       " 'Finland',\n",
       " 'France',\n",
       " 'Georgia',\n",
       " 'Germany',\n",
       " 'Gibraltar',\n",
       " 'Greece',\n",
       " 'Greenland',\n",
       " 'Guyana',\n",
       " 'Hungary',\n",
       " 'Iceland',\n",
       " 'Iraq',\n",
       " 'Ireland',\n",
       " 'Israel',\n",
       " 'Kazakhstan',\n",
       " 'Latvia',\n",
       " 'Lithuania',\n",
       " 'Luxembourg',\n",
       " 'Maldives',\n",
       " 'Malta',\n",
       " 'Marshall Islands',\n",
       " 'Mauritius',\n",
       " 'Mexico',\n",
       " 'Monaco',\n",
       " 'Montenegro',\n",
       " 'Nauru',\n",
       " 'Netherlands',\n",
       " 'New Zealand',\n",
       " 'North Macedonia',\n",
       " 'Norway',\n",
       " 'Palau',\n",
       " 'Paraguay',\n",
       " 'Philippines',\n",
       " 'Poland',\n",
       " 'Portugal',\n",
       " 'Romania',\n",
       " 'Russian Federation',\n",
       " 'Samoa',\n",
       " 'Serbia',\n",
       " 'Singapore',\n",
       " 'Spain',\n",
       " 'Suriname',\n",
       " 'Sweden',\n",
       " 'Switzerland',\n",
       " 'Syrian Arab Republic',\n",
       " 'Thailand',\n",
       " 'Tonga',\n",
       " 'Tunisia',\n",
       " 'Turkmenistan',\n",
       " 'Tuvalu',\n",
       " 'Ukraine',\n",
       " 'United Kingdom',\n",
       " 'United States of America',\n",
       " 'Uruguay',\n",
       " 'Uzbekistan',\n",
       " 'Vietnam']"
      ]
     },
     "execution_count": 50,
     "metadata": {},
     "output_type": "execute_result"
    }
   ],
   "source": [
    "# compute and store the answer in the variable 'bin_0_countries', then display it\n",
    "bin_0_countries = rural_non_alb_bin_2020_dict[0]\n",
    "bin_0_countries"
   ]
  },
  {
   "cell_type": "code",
   "execution_count": 51,
   "id": "1bcb03a0",
   "metadata": {
    "deletable": false,
    "editable": false
   },
   "outputs": [
    {
     "data": {
      "text/html": [
       "<p><strong><pre style='display: inline;'>q17</pre></strong> passed!</p>"
      ],
      "text/plain": [
       "q17 results: All test cases passed!"
      ]
     },
     "execution_count": 51,
     "metadata": {},
     "output_type": "execute_result"
    }
   ],
   "source": [
    "grader.check(\"q17\")"
   ]
  },
  {
   "cell_type": "markdown",
   "id": "514e78b4",
   "metadata": {},
   "source": [
    "**Question 18:** What are the countries in the **last** non-empty bin in the `year` *2015*?\n",
    "\n",
    "Your output **must** be a **list** of the countries in the bin with the **highest** percentage of rural population without at least basic access to water.\n",
    "\n",
    "**Hint:** You must first find the largest key with a non-empty bin, and then find the value of that key."
   ]
  },
  {
   "cell_type": "code",
   "execution_count": 52,
   "id": "17841d16",
   "metadata": {
    "tags": []
   },
   "outputs": [
    {
     "data": {
      "text/plain": [
       "['Angola', 'Somalia']"
      ]
     },
     "execution_count": 52,
     "metadata": {},
     "output_type": "execute_result"
    }
   ],
   "source": [
    "# compute and store the answer in the variable 'last_non_empty_bin_2015', then display it\n",
    "last_non_empty_bin_2015 = []\n",
    "\n",
    "max = 0\n",
    "for key in rural_non_alb_bin_2015_dict:\n",
    "    size = len(rural_non_alb_bin_2015_dict[key])\n",
    "    if max == \"\" or size != 0:\n",
    "        max = key\n",
    "\n",
    "last_non_empty_bin_2015 = rural_non_alb_bin_2015_dict[max]\n",
    "last_non_empty_bin_2015"
   ]
  },
  {
   "cell_type": "code",
   "execution_count": 53,
   "id": "4cd7688e",
   "metadata": {
    "deletable": false,
    "editable": false
   },
   "outputs": [
    {
     "data": {
      "text/html": [
       "<p><strong><pre style='display: inline;'>q18</pre></strong> passed!</p>"
      ],
      "text/plain": [
       "q18 results: All test cases passed!"
      ]
     },
     "execution_count": 53,
     "metadata": {},
     "output_type": "execute_result"
    }
   ],
   "source": [
    "grader.check(\"q18\")"
   ]
  },
  {
   "cell_type": "markdown",
   "id": "17d87381",
   "metadata": {},
   "source": [
    "**Question 19:** What countries have **regressed** by moving to a **higher** bin from *2015* to *2020*?\n",
    "\n",
    "Your answer **must** be a **list** of countries which have regressed by having their percentage of rural population without at least basic access to water move to a bin with a **higher** key.\n",
    "\n",
    "**Hint:** You may need a *nested* loop to go through all possible combinations of keys in both the dicts `rural_non_alb_bin_2015_dict` and `rural_non_alb_bin_2020_dict`."
   ]
  },
  {
   "cell_type": "code",
   "execution_count": 54,
   "id": "a9510c92",
   "metadata": {
    "tags": []
   },
   "outputs": [
    {
     "name": "stdout",
     "output_type": "stream",
     "text": [
      "{'Andorra': 0, 'Armenia': 0, 'Australia': 0, 'Austria': 0, 'Bangladesh': 0, 'Belarus': 0, 'Belgium': 0, 'Belize': 0, 'Bermuda': 0, 'Bhutan': 0, 'Bosnia and Herzegovina': 0, 'Brunei Darussalam': 0, 'Bulgaria': 0, 'Canada': 0, 'Chile': 0, 'Costa Rica': 0, 'Cyprus': 0, 'Czech Republic': 0, 'Denmark': 0, 'Estonia': 0, 'Finland': 0, 'France': 0, 'Georgia': 0, 'Germany': 0, 'Gibraltar': 0, 'Greece': 0, 'Greenland': 0, 'Guyana': 0, 'Hungary': 0, 'Iceland': 0, 'Ireland': 0, 'Israel': 0, 'Jordan': 0, 'Kazakhstan': 0, 'Latvia': 0, 'Lithuania': 0, 'Luxembourg': 0, 'Maldives': 0, 'Malta': 0, 'Marshall Islands': 0, 'Mauritius': 0, 'Monaco': 0, 'Montenegro': 0, 'Nauru': 0, 'Netherlands': 0, 'New Zealand': 0, 'North Macedonia': 0, 'Norway': 0, 'Palau': 0, 'Paraguay': 0, 'Poland': 0, 'Portugal': 0, 'Romania': 0, 'Russian Federation': 0, 'Samoa': 0, 'Serbia': 0, 'Singapore': 0, 'Spain': 0, 'Suriname': 0, 'Sweden': 0, 'Switzerland': 0, 'Syrian Arab Republic': 0, 'Thailand': 0, 'Tonga': 0, 'Turkmenistan': 0, 'Tuvalu': 0, 'Ukraine': 0, 'United Kingdom': 0, 'United States of America': 0, 'Uruguay': 0, 'Uzbekistan': 0, 'Albania': 10, 'Algeria': 10, 'Azerbaijan': 10, 'Brazil': 10, 'China': 10, 'Cuba': 10, 'Dominican Republic': 10, 'Ecuador': 10, 'El Salvador': 10, 'Fiji': 10, 'Guatemala': 10, 'Honduras': 10, 'India': 10, 'Indonesia': 10, 'Iraq': 10, 'Jamaica': 10, 'Malaysia': 10, 'Mexico': 10, 'Nepal': 10, 'Pakistan': 10, 'Panama': 10, 'Philippines': 10, 'Sri Lanka': 10, 'Tunisia': 10, 'Vanuatu': 10, 'Vietnam': 10, 'Cabo Verde': 20, 'Colombia': 20, 'Namibia': 20, 'Oman': 20, 'Peru': 20, 'South Africa': 20, 'Botswana': 30, 'Cambodia': 30, 'Ghana': 30, 'Lesotho': 30, 'Liberia': 30, 'Malawi': 30, 'Mali': 30, 'Morocco': 30, 'Myanmar': 30, 'Senegal': 30, 'Solomon Islands': 30, 'Tajikistan': 30, 'Timor-Leste': 30, 'Afghanistan': 40, 'Benin': 40, 'Burundi': 40, \"Côte d'Ivoire\": 40, 'Eswatini': 40, 'Guinea': 40, 'Kiribati': 40, 'Mongolia': 40, 'Nicaragua': 40, 'Nigeria': 40, 'Rwanda': 40, 'Sudan': 40, 'Zimbabwe': 40, 'Cameroon': 50, 'Djibouti': 50, 'Gabon': 50, 'Guinea-Bissau': 50, 'Haiti': 50, 'Kenya': 50, 'Mauritania': 50, 'Sierra Leone': 50, 'Togo': 50, 'Zambia': 50, 'Burkina Faso': 60, 'Central African Republic': 60, 'Chad': 60, 'Ethiopia': 60, 'Madagascar': 60, 'Mozambique': 60, 'Niger': 60, 'Papua New Guinea': 60, 'South Sudan': 60, 'Uganda': 60, 'Angola': 70, 'Somalia': 70}\n"
     ]
    }
   ],
   "source": [
    "# compute and store the answer in the variable 'countries_regressed', then display it\n",
    "countries_regressed = []\n",
    "\n",
    "reversed_2015 = {}\n",
    "reversed_2020 = {}\n",
    "\n",
    "for key in rural_non_alb_bin_2015_dict:\n",
    "    for country in rural_non_alb_bin_2015_dict[key]:\n",
    "        reversed_2015[country] = key\n",
    "\n",
    "for key in rural_non_alb_bin_2020_dict:\n",
    "    for country in rural_non_alb_bin_2020_dict[key]:\n",
    "        reversed_2020[country] = key\n",
    "        \n",
    "for key in reversed_2015:\n",
    "    if(reversed_2015[key] < reversed_2020[key]):\n",
    "        countries_regressed.append(key)\n",
    "        \n",
    "# countries_regressed\n",
    "print(reversed_2015)"
   ]
  },
  {
   "cell_type": "code",
   "execution_count": 55,
   "id": "6f36d34b",
   "metadata": {
    "deletable": false,
    "editable": false
   },
   "outputs": [
    {
     "data": {
      "text/html": [
       "<p><strong><pre style='display: inline;'>q19</pre></strong> passed!</p>"
      ],
      "text/plain": [
       "q19 results: All test cases passed!"
      ]
     },
     "execution_count": 55,
     "metadata": {},
     "output_type": "execute_result"
    }
   ],
   "source": [
    "grader.check(\"q19\")"
   ]
  },
  {
   "cell_type": "markdown",
   "id": "e39b809d",
   "metadata": {},
   "source": [
    "**Question 20:** What countries have **improved** by moving to a **lower** bin from *2015* to *2020*?\n",
    "\n",
    "Your answer **must** be a **list** of countries which have improved by having their percentage of rural population without at least basic access to water move to a bin with a **lower** key."
   ]
  },
  {
   "cell_type": "code",
   "execution_count": 56,
   "id": "463e6955",
   "metadata": {
    "tags": []
   },
   "outputs": [
    {
     "data": {
      "text/plain": [
       "['Albania',\n",
       " 'Azerbaijan',\n",
       " 'Brazil',\n",
       " 'Cuba',\n",
       " 'Dominican Republic',\n",
       " 'El Salvador',\n",
       " 'Iraq',\n",
       " 'Mexico',\n",
       " 'Philippines',\n",
       " 'Tunisia',\n",
       " 'Vietnam',\n",
       " 'Cabo Verde',\n",
       " 'Colombia',\n",
       " 'South Africa',\n",
       " 'Botswana',\n",
       " 'Ghana',\n",
       " 'Mali',\n",
       " 'Morocco',\n",
       " 'Myanmar',\n",
       " 'Senegal',\n",
       " 'Tajikistan',\n",
       " 'Timor-Leste',\n",
       " 'Afghanistan',\n",
       " 'Eswatini',\n",
       " 'Nigeria',\n",
       " 'Kenya',\n",
       " 'Mauritania',\n",
       " 'Sierra Leone',\n",
       " 'Togo',\n",
       " 'Mozambique',\n",
       " 'Uganda',\n",
       " 'Somalia']"
      ]
     },
     "execution_count": 56,
     "metadata": {},
     "output_type": "execute_result"
    }
   ],
   "source": [
    "# compute and store the answer in the variable 'countries_improved', then display it\n",
    "countries_improved = []\n",
    "\n",
    "for key in rural_non_alb_bin_2015_dict:\n",
    "    for country in rural_non_alb_bin_2015_dict[key]:\n",
    "        reversed_2015[country] = key\n",
    "\n",
    "for key in rural_non_alb_bin_2020_dict:\n",
    "    for country in rural_non_alb_bin_2020_dict[key]:\n",
    "        reversed_2020[country] = key\n",
    "        \n",
    "for key in reversed_2015:\n",
    "    if(reversed_2015[key] > reversed_2020[key]):\n",
    "        countries_improved.append(key)\n",
    "\n",
    "countries_improved"
   ]
  },
  {
   "cell_type": "code",
   "execution_count": 57,
   "id": "3bb5fc84",
   "metadata": {
    "deletable": false,
    "editable": false
   },
   "outputs": [
    {
     "data": {
      "text/html": [
       "<p><strong><pre style='display: inline;'>q20</pre></strong> passed!</p>"
      ],
      "text/plain": [
       "q20 results: All test cases passed!"
      ]
     },
     "execution_count": 57,
     "metadata": {},
     "output_type": "execute_result"
    }
   ],
   "source": [
    "grader.check(\"q20\")"
   ]
  },
  {
   "cell_type": "markdown",
   "id": "4589d90b",
   "metadata": {
    "deletable": false,
    "editable": false
   },
   "source": [
    "## Submission\n",
    "\n",
    "Make sure you have run all cells in your notebook in order before running the cell below, so that all images/graphs appear in the output. The cell below will generate a zip file for you to submit. **Please save before exporting!**\n",
    "\n",
    "**SUBMISSION INSTRUCTIONS**: 1. **Save** the notebook file **now (before you run the next few cells of code)**. 2. **Upload** the zipfile to Gradescope. 3. Check **Gradescope otter** results as soon as the auto-grader execution gets completed. Don't worry about the score showing up as -/100.0. You only need to check that the test cases passed."
   ]
  },
  {
   "cell_type": "code",
   "execution_count": 58,
   "id": "15598b58",
   "metadata": {
    "deletable": false,
    "editable": false
   },
   "outputs": [
    {
     "name": "stdout",
     "output_type": "stream",
     "text": [
      "Running your submission against local test cases...\n",
      "\n",
      "Your submission received the following results when run against available test cases:\n",
      "\n",
      "    q1 results: All test cases passed!\n",
      "\n",
      "    q2 results: All test cases passed!\n",
      "\n",
      "    q3 results: All test cases passed!\n",
      "\n",
      "    q4 results: All test cases passed!\n",
      "\n",
      "    q5 results: All test cases passed!\n",
      "\n",
      "    q6 results: All test cases passed!\n",
      "\n",
      "    q7 results: All test cases passed!\n",
      "\n",
      "    q8 results: All test cases passed!\n",
      "\n",
      "    q9 results: All test cases passed!\n",
      "\n",
      "    get_col_dict results: All test cases passed!\n",
      "\n",
      "    dict_2015 results: All test cases passed!\n",
      "\n",
      "    dict_2020 results: All test cases passed!\n",
      "\n",
      "    q10 results: All test cases passed!\n",
      "\n",
      "    q11 results: All test cases passed!\n",
      "\n",
      "    q12 results: All test cases passed!\n",
      "\n",
      "    q13 results: All test cases passed!\n",
      "\n",
      "    q14 results: All test cases passed!\n",
      "\n",
      "    q15 results: All test cases passed!\n",
      "\n",
      "    q16 results: All test cases passed!\n",
      "\n",
      "    rural_non_alb_bins results: All test cases passed!\n",
      "\n",
      "    q17 results: All test cases passed!\n",
      "\n",
      "    q18 results: All test cases passed!\n",
      "\n",
      "    q19 results: All test cases passed!\n",
      "\n",
      "    q20 results: All test cases passed!\n"
     ]
    },
    {
     "data": {
      "text/html": [
       "\n",
       "            <p>Your submission has been exported. Click <a href=\"p7_2022_10_24T16_28_39_521905.zip\" download=\"p7_2022_10_24T16_28_39_521905.zip\" target=\"_blank\">here</a>\n",
       "            to download the zip file.</p>\n",
       "            "
      ],
      "text/plain": [
       "<IPython.core.display.HTML object>"
      ]
     },
     "metadata": {},
     "output_type": "display_data"
    }
   ],
   "source": [
    "# Save your notebook first, then run this cell to export your submission.\n",
    "grader.export(pdf=False, run_tests=True)"
   ]
  },
  {
   "cell_type": "markdown",
   "id": "ee1b1468",
   "metadata": {},
   "source": [
    " "
   ]
  }
 ],
 "metadata": {
  "kernelspec": {
   "display_name": "Python 3 (ipykernel)",
   "language": "python",
   "name": "python3"
  },
  "language_info": {
   "codemirror_mode": {
    "name": "ipython",
    "version": 3
   },
   "file_extension": ".py",
   "mimetype": "text/x-python",
   "name": "python",
   "nbconvert_exporter": "python",
   "pygments_lexer": "ipython3",
   "version": "3.9.12"
  },
  "otter": {
   "OK_FORMAT": true,
   "tests": {
    "dict_2015": {
     "name": "dict_2015",
     "points": 0,
     "suites": [
      {
       "cases": [
        {
         "code": ">>> p7_test.check(\"qdict_2015_test\", dict_2015)\nTrue",
         "hidden": false,
         "locked": false
        }
       ],
       "scored": true,
       "setup": "",
       "teardown": "",
       "type": "doctest"
      }
     ]
    },
    "dict_2020": {
     "name": "dict_2020",
     "points": 0,
     "suites": [
      {
       "cases": [
        {
         "code": ">>> p7_test.check(\"qdict_2020_test\", dict_2020)\nTrue",
         "hidden": false,
         "locked": false
        }
       ],
       "scored": true,
       "setup": "",
       "teardown": "",
       "type": "doctest"
      }
     ]
    },
    "get_col_dict": {
     "name": "get_col_dict",
     "points": 0,
     "suites": [
      {
       "cases": [
        {
         "code": ">>> test1_output = p7_test.check(\"qget_col_dict_test1\", get_col_dict_test1)\n>>> test2_output = p7_test.check(\"qget_col_dict_test2\", get_col_dict_test2)\n>>> test3_output = p7_test.check(\"qget_col_dict_test3\", get_col_dict_test3)\n>>> test_output = True\n>>> \n>>> if test1_output != True:\n...     test_output = \"get_col_dict_test1 >> \" + test1_output\n... elif test2_output != True:\n...     test_output = \"get_col_dict_test2 >> \" + test2_output\n... elif test3_output != True:\n...     test_output = \"get_col_dict_test3 >> \" + test3_output\n>>> \n>>> test_output\nTrue",
         "hidden": false,
         "locked": false
        }
       ],
       "scored": true,
       "setup": "",
       "teardown": "",
       "type": "doctest"
      }
     ]
    },
    "q1": {
     "name": "q1",
     "points": 5,
     "suites": [
      {
       "cases": [
        {
         "code": ">>> p7_test.check(\"q1\", highest_pop_country)\nTrue",
         "hidden": false,
         "locked": false
        }
       ],
       "scored": true,
       "setup": "",
       "teardown": "",
       "type": "doctest"
      }
     ]
    },
    "q10": {
     "name": "q10",
     "points": 5,
     "suites": [
      {
       "cases": [
        {
         "code": ">>> p7_test.check(\"q10\", ind_2020_dict)\nTrue",
         "hidden": false,
         "locked": false
        }
       ],
       "scored": true,
       "setup": "",
       "teardown": "",
       "type": "doctest"
      }
     ]
    },
    "q11": {
     "name": "q11",
     "points": 5,
     "suites": [
      {
       "cases": [
        {
         "code": ">>> p7_test.check(\"q11\", gbr_national_alb_2015)\nTrue",
         "hidden": false,
         "locked": false
        }
       ],
       "scored": true,
       "setup": "",
       "teardown": "",
       "type": "doctest"
      }
     ]
    },
    "q12": {
     "name": "q12",
     "points": 5,
     "suites": [
      {
       "cases": [
        {
         "code": ">>> p7_test.check(\"q12\", population_change_fra)\nTrue",
         "hidden": false,
         "locked": false
        }
       ],
       "scored": true,
       "setup": "",
       "teardown": "",
       "type": "doctest"
      }
     ]
    },
    "q13": {
     "name": "q13",
     "points": 5,
     "suites": [
      {
       "cases": [
        {
         "code": ">>> p7_test.check(\"q13\", income_level_pops)\nTrue",
         "hidden": false,
         "locked": false
        }
       ],
       "scored": true,
       "setup": "",
       "teardown": "",
       "type": "doctest"
      }
     ]
    },
    "q14": {
     "name": "q14",
     "points": 5,
     "suites": [
      {
       "cases": [
        {
         "code": ">>> p7_test.check(\"q14\", income_level_alb_pops)\nTrue",
         "hidden": false,
         "locked": false
        }
       ],
       "scored": true,
       "setup": "",
       "teardown": "",
       "type": "doctest"
      }
     ]
    },
    "q15": {
     "name": "q15",
     "points": 5,
     "suites": [
      {
       "cases": [
        {
         "code": ">>> p7_test.check(\"q15\", income_level_alb_percent)\nTrue",
         "hidden": false,
         "locked": false
        }
       ],
       "scored": true,
       "setup": "",
       "teardown": "",
       "type": "doctest"
      }
     ]
    },
    "q16": {
     "name": "q16",
     "points": 5,
     "suites": [
      {
       "cases": [
        {
         "code": ">>> p7_test.check(\"q16\", australia_rural_alb_2020)\nTrue",
         "hidden": false,
         "locked": false
        }
       ],
       "scored": true,
       "setup": "",
       "teardown": "",
       "type": "doctest"
      }
     ]
    },
    "q17": {
     "name": "q17",
     "points": 5,
     "suites": [
      {
       "cases": [
        {
         "code": ">>> p7_test.check(\"q17\", bin_0_countries)\nTrue",
         "hidden": false,
         "locked": false
        }
       ],
       "scored": true,
       "setup": "",
       "teardown": "",
       "type": "doctest"
      }
     ]
    },
    "q18": {
     "name": "q18",
     "points": 5,
     "suites": [
      {
       "cases": [
        {
         "code": ">>> p7_test.check(\"q18\", last_non_empty_bin_2015)\nTrue",
         "hidden": false,
         "locked": false
        }
       ],
       "scored": true,
       "setup": "",
       "teardown": "",
       "type": "doctest"
      }
     ]
    },
    "q19": {
     "name": "q19",
     "points": 5,
     "suites": [
      {
       "cases": [
        {
         "code": ">>> p7_test.check(\"q19\", countries_regressed)\nTrue",
         "hidden": false,
         "locked": false
        }
       ],
       "scored": true,
       "setup": "",
       "teardown": "",
       "type": "doctest"
      }
     ]
    },
    "q2": {
     "name": "q2",
     "points": 5,
     "suites": [
      {
       "cases": [
        {
         "code": ">>> p7_test.check(\"q2\", highest_pop_inc_country)\nTrue",
         "hidden": false,
         "locked": false
        }
       ],
       "scored": true,
       "setup": "",
       "teardown": "",
       "type": "doctest"
      }
     ]
    },
    "q20": {
     "name": "q20",
     "points": 5,
     "suites": [
      {
       "cases": [
        {
         "code": ">>> p7_test.check(\"q20\", countries_improved)\nTrue",
         "hidden": false,
         "locked": false
        }
       ],
       "scored": true,
       "setup": "",
       "teardown": "",
       "type": "doctest"
      }
     ]
    },
    "q3": {
     "name": "q3",
     "points": 5,
     "suites": [
      {
       "cases": [
        {
         "code": ">>> p7_test.check(\"q3\", highest_nat_alb_inc_country)\nTrue",
         "hidden": false,
         "locked": false
        }
       ],
       "scored": true,
       "setup": "",
       "teardown": "",
       "type": "doctest"
      }
     ]
    },
    "q4": {
     "name": "q4",
     "points": 5,
     "suites": [
      {
       "cases": [
        {
         "code": ">>> p7_test.check(\"q4\", highest_alb_inc_income_level)\nTrue",
         "hidden": false,
         "locked": false
        }
       ],
       "scored": true,
       "setup": "",
       "teardown": "",
       "type": "doctest"
      }
     ]
    },
    "q5": {
     "name": "q5",
     "points": 5,
     "suites": [
      {
       "cases": [
        {
         "code": ">>> p7_test.check(\"q5\", total_pop_2020)\nTrue",
         "hidden": false,
         "locked": false
        }
       ],
       "scored": true,
       "setup": "",
       "teardown": "",
       "type": "doctest"
      }
     ]
    },
    "q6": {
     "name": "q6",
     "points": 5,
     "suites": [
      {
       "cases": [
        {
         "code": ">>> p7_test.check(\"q6\", urban_pop_percent_2020)\nTrue",
         "hidden": false,
         "locked": false
        }
       ],
       "scored": true,
       "setup": "",
       "teardown": "",
       "type": "doctest"
      }
     ]
    },
    "q7": {
     "name": "q7",
     "points": 5,
     "suites": [
      {
       "cases": [
        {
         "code": ">>> p7_test.check(\"q7\", high_income_pop)\nTrue",
         "hidden": false,
         "locked": false
        }
       ],
       "scored": true,
       "setup": "",
       "teardown": "",
       "type": "doctest"
      }
     ]
    },
    "q8": {
     "name": "q8",
     "points": 5,
     "suites": [
      {
       "cases": [
        {
         "code": ">>> p7_test.check(\"q8\", least_pop_income_group)\nTrue",
         "hidden": false,
         "locked": false
        }
       ],
       "scored": true,
       "setup": "",
       "teardown": "",
       "type": "doctest"
      }
     ]
    },
    "q9": {
     "name": "q9",
     "points": 5,
     "suites": [
      {
       "cases": [
        {
         "code": ">>> p7_test.check(\"q9\", na_max_alb_countries)\nTrue",
         "hidden": false,
         "locked": false
        }
       ],
       "scored": true,
       "setup": "",
       "teardown": "",
       "type": "doctest"
      }
     ]
    },
    "rural_non_alb_bins": {
     "name": "rural_non_alb_bins",
     "points": 0,
     "suites": [
      {
       "cases": [
        {
         "code": ">>> rural_non_alb_2015_test = p7_test.check(\"qrural_non_alb_bin_2015\", rural_non_alb_bin_2015_dict)\n>>> rural_non_alb_2020_test = p7_test.check(\"qrural_non_alb_bin_2020\", rural_non_alb_bin_2020_dict)\n>>> rural_non_alb_bins_test = True\n>>> \n>>> if rural_non_alb_2015_test != True:\n...     test_output = \"rural_non_alb_bin_2015_dict >> \" + rural_non_alb_2015_test\n... elif rural_non_alb_2020_test != True:\n...     test_output = \"rural_non_alb_bin_2020_dict >> \" + rural_non_alb_2020_test\n...     \n>>> rural_non_alb_bins_test\nTrue",
         "hidden": false,
         "locked": false
        }
       ],
       "scored": true,
       "setup": "",
       "teardown": "",
       "type": "doctest"
      }
     ]
    }
   }
  }
 },
 "nbformat": 4,
 "nbformat_minor": 5
}
