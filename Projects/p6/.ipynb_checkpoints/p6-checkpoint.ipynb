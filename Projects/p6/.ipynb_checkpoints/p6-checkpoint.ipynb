{
 "cells": [
  {
   "cell_type": "code",
   "execution_count": 1,
   "id": "0cb8f079",
   "metadata": {
    "deletable": false,
    "editable": false
   },
   "outputs": [],
   "source": [
    "# Initialize Otter\n",
    "import otter\n",
    "grader = otter.Notebook(\"p6.ipynb\")"
   ]
  },
  {
   "cell_type": "code",
   "execution_count": 2,
   "id": "cf8f4503",
   "metadata": {},
   "outputs": [],
   "source": [
    "import p6_test"
   ]
  },
  {
   "cell_type": "markdown",
   "id": "3116a04d",
   "metadata": {},
   "source": [
    "# Project 6: Airbnb"
   ]
  },
  {
   "cell_type": "markdown",
   "id": "fc4a993d",
   "metadata": {},
   "source": [
    "## Learning Objectives:\n",
    "\n",
    "In this project, you will demonstrate how to:\n",
    "\n",
    "* access and utilize data in CSV files,\n",
    "* process real world datasets,\n",
    "* use string methods and sorting function / method to order data.\n",
    "\n",
    "Please go through [lab-p6](https://git.doit.wisc.edu/cdis/cs/courses/cs220/cs220-f22-projects/-/tree/main/lab-p6) before working on this project. The lab introduces some useful techniques related to this project."
   ]
  },
  {
   "cell_type": "markdown",
   "id": "4b7d3514",
   "metadata": {},
   "source": [
    "## Testing your code:\n",
    "\n",
    "Along with this notebook, you must have downloaded the file `p6_test.py`. If you are curious about how we test your code, you can explore this file, and specifically the value of the variable `expected_json`, to understand the expected answers to the questions."
   ]
  },
  {
   "cell_type": "markdown",
   "id": "c8befadb",
   "metadata": {},
   "source": [
    "## Project Description:\n",
    "\n",
    "Data Science can help us understand user behavior on online platform services. This project is about the rooms listed on Airbnb. Since 2008, guests and hosts have used Airbnb to expand on traveling possibilities and present a more unique, personalized way of experiencing the world. `airbnb.csv` has data of nearly 50,000 listings on Airbnb from New York City, NY from the year 2019. This file includes a lot of information about the hosts, geographical availability of the listings, and other necessary metrics to make predictions and draw conclusions. You will be using various string manipulation methods that come with Python as well as creating some of your own functions to solve the problems posed. Happy coding!"
   ]
  },
  {
   "cell_type": "markdown",
   "id": "4f0aee24",
   "metadata": {},
   "source": [
    "## Dataset:\n",
    "\n",
    "A small portion of the dataset `airbnb.csv` you will be working with for this project is reproduced here:"
   ]
  },
  {
   "cell_type": "markdown",
   "id": "54c0f066",
   "metadata": {},
   "source": [
    "room_id|name|host_id|host_name|neighborhood_group|neighborhood|latitude|longitude|room_type|price|minimum_nights|number_of_reviews|last_review|reviews_per_month|calculated_host_listings_count|availability_365\n",
    "------|------|------|------|------|------|------|------|------|------|------|------|------|------|------|------|\n",
    "2539|Clean & quiet apt home by the park|2787|John|Brooklyn|Kensington|40.64749000000001|-73.97237|Private room|149|1|9|2018-10-19|0.21|6|365\n",
    "2595|Skylit Midtown Castle|2845|Jennifer|Manhattan|Midtown|40.75362|-73.98376999999998|Entire home/apt|225|1|45|2019-05-21|0.38|2|355\n",
    "3647|THE VILLAGE OF HARLEM....NEW YORK !|4632|Elisabeth|Manhattan|Harlem|40.80902|-73.9419|Private room|150|3|0|||1|365\n",
    "3831|Cozy Entire Floor of Brownstone|4869|LisaRoxanne|Brooklyn|Clinton Hill|40.68514|-73.95976|Entire home/apt|89|1|270|2019-07-05|4.64|1|194\n",
    "5022|Entire Apt: Spacious Studio/Loft by central park|7192|Laura|Manhattan|East Harlem|40.79851|-73.94399|Entire home/apt|80|10|9|2018-11-19|0.1|1|0\n",
    "5099|Large Cozy 1 BR Apartment In Midtown East|7322|Chris|Manhattan|Murray Hill|40.74767|-73.975|Entire home/apt|200|3|74|2019-06-22|0.59|1|129"
   ]
  },
  {
   "cell_type": "markdown",
   "id": "028bb42a",
   "metadata": {},
   "source": [
    "You can find more details on the dataset in [lab-p6](https://git.doit.wisc.edu/cdis/cs/courses/cs220/cs220-f22-projects/-/tree/main/lab-p6)."
   ]
  },
  {
   "cell_type": "markdown",
   "id": "6e3421eb",
   "metadata": {},
   "source": [
    "## Questions and Functions:\n",
    "\n",
    "Let us start by importing all the modules we will need for this project."
   ]
  },
  {
   "cell_type": "code",
   "execution_count": 3,
   "id": "49d20857",
   "metadata": {
    "tags": []
   },
   "outputs": [],
   "source": [
    "# it is considered a good coding practice to place all import statements at the top of the notebook\n",
    "# please place all your import statements in this cell if you need to import any more modules for this project\n",
    "import csv"
   ]
  },
  {
   "cell_type": "markdown",
   "id": "b7e60768",
   "metadata": {},
   "source": [
    "#### Now, copy and paste the `process_csv` and `cell` functions from your [lab-p6](https://git.doit.wisc.edu/cdis/cs/courses/cs220/cs220-f22-projects/-/tree/main/lab-p6) notebook to the cell below.\n",
    "\n",
    "You are expected to call the `process_csv` function correctly, and read the data on `airbnb.csv`. After reading the file, define the `csv_header`, and `csv_rows` variables as in [lab-p6](https://git.doit.wisc.edu/cdis/cs/courses/cs220/cs220-f22-projects/-/tree/main/lab-p6), and define the `cell` function.\n",
    "\n",
    "**Important:** You **must** only use the `cell` function to extract data from the dataset. If you extract any data without explicitly using this function, you will **lose points** during manual review. It is recommended but **optional** that you use the `cell_v2` function defined in lab-p6. However, you **must** rename the function to `cell` in your p6 notebook. "
   ]
  },
  {
   "cell_type": "code",
   "execution_count": 4,
   "id": "3c1cdda2",
   "metadata": {
    "tags": []
   },
   "outputs": [],
   "source": [
    "def process_csv(filename):\n",
    "    example_file = open(filename, encoding=\"utf-8\")\n",
    "    example_reader = csv.reader(example_file)\n",
    "    example_data = list(example_reader)\n",
    "    example_file.close()\n",
    "    return example_data\n",
    "csv_data = process_csv(\"airbnb.csv\")\n",
    "csv_rows = csv_data[1:]\n",
    "num_rows = len(csv_rows)\n",
    "csv_header = csv_data[0]\n",
    "\n",
    "def cell(row_idx, col_name):\n",
    "    col_idx = csv_header.index(col_name)\n",
    "    val = csv_rows[row_idx][col_idx]\n",
    "    if val == \"\":\n",
    "        return None\n",
    "    elif col_name in  ['price','minimum_nights', 'number_of_reviews', 'calculated_host_listings_count','availability_365']   :\n",
    "        val = int(val)\n",
    "    elif col_name in ['reviews_per_month', 'latitude', 'longitude', 'reviews_per_month']:\n",
    "        val = float(val)\n",
    "    return val"
   ]
  },
  {
   "cell_type": "markdown",
   "id": "0e714104",
   "metadata": {},
   "source": [
    "**Question 1:** What **unique** `neighborhood_groups` are included in the dataset?\n",
    "\n",
    "Your output **must** be a *list* which stores all the **unique** neighborhood groups (i.e., without any duplicates). The order **does not** matter."
   ]
  },
  {
   "cell_type": "code",
   "execution_count": 5,
   "id": "2beafa70",
   "metadata": {
    "tags": []
   },
   "outputs": [
    {
     "data": {
      "text/plain": [
       "['Brooklyn', 'Manhattan', 'Queens', 'Staten Island', 'Bronx']"
      ]
     },
     "execution_count": 5,
     "metadata": {},
     "output_type": "execute_result"
    }
   ],
   "source": [
    "# compute and store the answer in the variable 'neighborhood_groups', then display it\n",
    "neighborhood_groups = []\n",
    "for idx in range(num_rows):\n",
    "    if cell(idx, \"neighborhood_group\") == \"\" :\n",
    "        continue;\n",
    "    elif cell(idx, \"neighborhood_group\") in neighborhood_groups :\n",
    "        continue;\n",
    "    else:\n",
    "        neighborhood_groups.append(cell(idx, \"neighborhood_group\"))\n",
    "neighborhood_groups     "
   ]
  },
  {
   "cell_type": "code",
   "execution_count": 6,
   "id": "14176f10",
   "metadata": {
    "deletable": false,
    "editable": false
   },
   "outputs": [
    {
     "data": {
      "text/html": [
       "<p><strong><pre style='display: inline;'>q1</pre></strong> passed!</p>"
      ],
      "text/plain": [
       "q1 results: All test cases passed!"
      ]
     },
     "execution_count": 6,
     "metadata": {},
     "output_type": "execute_result"
    }
   ],
   "source": [
    "grader.check(\"q1\")"
   ]
  },
  {
   "cell_type": "markdown",
   "id": "b785fff1",
   "metadata": {},
   "source": [
    "**Question 2:** What is the **average** `price` of rooms in the dataset?"
   ]
  },
  {
   "cell_type": "code",
   "execution_count": 7,
   "id": "c6528c6a",
   "metadata": {
    "tags": []
   },
   "outputs": [
    {
     "data": {
      "text/plain": [
       "152.7206871868289"
      ]
     },
     "execution_count": 7,
     "metadata": {},
     "output_type": "execute_result"
    }
   ],
   "source": [
    "# compute and store the answer in the variable 'avg_price', then display it\n",
    "total = 0\n",
    "for idx in range(num_rows):\n",
    "    total += cell(idx, \"price\")\n",
    "\n",
    "avg_price = total / num_rows\n",
    "avg_price"
   ]
  },
  {
   "cell_type": "code",
   "execution_count": 8,
   "id": "233c68fe",
   "metadata": {
    "deletable": false,
    "editable": false
   },
   "outputs": [
    {
     "data": {
      "text/html": [
       "<p><strong><pre style='display: inline;'>q2</pre></strong> passed!</p>"
      ],
      "text/plain": [
       "q2 results: All test cases passed!"
      ]
     },
     "execution_count": 8,
     "metadata": {},
     "output_type": "execute_result"
    }
   ],
   "source": [
    "grader.check(\"q2\")"
   ]
  },
  {
   "cell_type": "markdown",
   "id": "2cbddd95",
   "metadata": {},
   "source": [
    "**Question 3:** How many rooms are in the `neighborhood` of *SoHo*?"
   ]
  },
  {
   "cell_type": "code",
   "execution_count": 9,
   "id": "3276b660",
   "metadata": {
    "tags": []
   },
   "outputs": [
    {
     "data": {
      "text/plain": [
       "358"
      ]
     },
     "execution_count": 9,
     "metadata": {},
     "output_type": "execute_result"
    }
   ],
   "source": [
    "# compute and store the answer in the variable 'count_soho', then display it\n",
    "count_soho = 0\n",
    "for idx in range(num_rows):\n",
    "    if cell(idx, \"neighborhood\") == \"SoHo\":\n",
    "        count_soho += 1\n",
    "count_soho\n"
   ]
  },
  {
   "cell_type": "code",
   "execution_count": 10,
   "id": "e1179043",
   "metadata": {
    "deletable": false,
    "editable": false
   },
   "outputs": [
    {
     "data": {
      "text/html": [
       "<p><strong><pre style='display: inline;'>q3</pre></strong> passed!</p>"
      ],
      "text/plain": [
       "q3 results: All test cases passed!"
      ]
     },
     "execution_count": 10,
     "metadata": {},
     "output_type": "execute_result"
    }
   ],
   "source": [
    "grader.check(\"q3\")"
   ]
  },
  {
   "cell_type": "markdown",
   "id": "a655178b",
   "metadata": {},
   "source": [
    "### Function 1: `find_room_names(phrase)`\n",
    "\n",
    "We require you to complete the below function to answer the next several questions (this is a **requirement**, and you will **lose points** if you do not implement this function)."
   ]
  },
  {
   "cell_type": "code",
   "execution_count": 11,
   "id": "7290e8d6",
   "metadata": {
    "tags": []
   },
   "outputs": [],
   "source": [
    "def find_room_names(phrase):\n",
    "    \"\"\"\n",
    "    find_room_names(phrase) returns a list of all the room names that contain the \n",
    "    substring (case insensitive match) `phrase`.\n",
    "    \"\"\"  \n",
    "    # TODO: create a list\n",
    "    # TODO: ignore rooms that do not have data entry for name, as indicated by a value of None\n",
    "    # TODO: check if the room name string contains phrase (case insensitive match)\n",
    "    # TODO: if so, add these room names to the list (the room names should be as in the dataset)\n",
    "    # TODO: return your list of room names\n",
    "    name_list = []\n",
    "    for idx in range(num_rows):\n",
    "        if cell(idx, \"name\") == None:\n",
    "            continue\n",
    "        if phrase.lower() in cell(idx, \"name\").lower():\n",
    "            name_list.append(cell(idx, \"name\"))\n",
    "    return name_list"
   ]
  },
  {
   "cell_type": "markdown",
   "id": "b8d252c1",
   "metadata": {},
   "source": [
    "**Question 4:** Find all room `names` that contain the string `\"CBG\"`.\n",
    "    \n",
    "Your output **must** be a *list*. The order **does not** matter. You **must** call the `find_room_names` function to answer this question."
   ]
  },
  {
   "cell_type": "code",
   "execution_count": 12,
   "id": "5a9596cf",
   "metadata": {
    "tags": []
   },
   "outputs": [],
   "source": [
    "# compute and store the answer in the variable 'rooms_contain_cbg', then display it\n",
    "rooms_contain_cbg = find_room_names(\"CBG\")"
   ]
  },
  {
   "cell_type": "code",
   "execution_count": 13,
   "id": "7037bdef",
   "metadata": {
    "deletable": false,
    "editable": false
   },
   "outputs": [
    {
     "data": {
      "text/html": [
       "<p><strong><pre style='display: inline;'>q4</pre></strong> passed!</p>"
      ],
      "text/plain": [
       "q4 results: All test cases passed!"
      ]
     },
     "execution_count": 13,
     "metadata": {},
     "output_type": "execute_result"
    }
   ],
   "source": [
    "grader.check(\"q4\")"
   ]
  },
  {
   "cell_type": "markdown",
   "id": "af8bfbfd",
   "metadata": {},
   "source": [
    "**Question 5:** Find all room `names` that contain **either** `\"cinema\"` **or** `\"film\"`.\n",
    "\n",
    "Your output **must** be a *list*. The order **does not** matter, but if a room's `name` contains **both** `\"cinema\"` and `\"film\"`, then the room must be included **only once** in your list. You **must** call the `find_room_names` function to answer this question."
   ]
  },
  {
   "cell_type": "code",
   "execution_count": 14,
   "id": "59ca038d",
   "metadata": {
    "tags": []
   },
   "outputs": [],
   "source": [
    "# compute and store the answer in the variable 'rooms_contain_cinema_film', then display it\n",
    "rooms_contain_cinema = find_room_names(\"cinema\")\n",
    "rooms_contain_film = find_room_names(\"film\")\n",
    "rooms_contain_cinema_film_v1 = rooms_contain_cinema + rooms_contain_film\n",
    "rooms_contain_cinema_film_set = set(rooms_contain_cinema_film_v1)\n",
    "rooms_contain_cinema_film = list(rooms_contain_cinema_film_set)\n",
    "# for idx in range(len(rooms_contain_cinema_film_v1)):\n",
    "#     if rooms_contain_cinema_film_v1[idx] in rooms_contain_cinema_film:\n",
    "#         continue\n",
    "#     else:\n",
    "#         rooms_contain_cinema_film.append(rooms_contain_cinema_film_v1[idx])\n",
    "# rooms_contain_cinema_film\n"
   ]
  },
  {
   "cell_type": "code",
   "execution_count": 15,
   "id": "d7dc2aa0",
   "metadata": {
    "deletable": false,
    "editable": false
   },
   "outputs": [
    {
     "data": {
      "text/html": [
       "<p><strong><pre style='display: inline;'>q5</pre></strong> passed!</p>"
      ],
      "text/plain": [
       "q5 results: All test cases passed!"
      ]
     },
     "execution_count": 15,
     "metadata": {},
     "output_type": "execute_result"
    }
   ],
   "source": [
    "grader.check(\"q5\")"
   ]
  },
  {
   "cell_type": "markdown",
   "id": "39758383",
   "metadata": {},
   "source": [
    "**Question 6:** Find the **longest** room `name` that contains the word `\"fun\"`.\n",
    "\n",
    "There is a **unique** such room with the longest `name`, so you **do not** have to worry about breaking ties. You **must** call the `find_room_names` function to answer this question."
   ]
  },
  {
   "cell_type": "code",
   "execution_count": 16,
   "id": "df10f226",
   "metadata": {
    "tags": []
   },
   "outputs": [
    {
     "data": {
      "text/plain": [
       "'Homey 1BR in Fun, Central West Village w/ Doorman by Blueground'"
      ]
     },
     "execution_count": 16,
     "metadata": {},
     "output_type": "execute_result"
    }
   ],
   "source": [
    "# compute and store the answer in the variable 'funnest_room', then display it\n",
    "funnest_room = \"\"\n",
    "funnest_list = find_room_names(\"fun\")\n",
    "name_len = 0\n",
    "for idx in range (len(funnest_list)):\n",
    "    if len(funnest_list[idx]) > name_len:\n",
    "        funnest_room = (funnest_list[idx])\n",
    "        name_len = len(funnest_room)\n",
    "funnest_room"
   ]
  },
  {
   "cell_type": "code",
   "execution_count": 17,
   "id": "149fd1f6",
   "metadata": {
    "deletable": false,
    "editable": false
   },
   "outputs": [
    {
     "data": {
      "text/html": [
       "<p><strong><pre style='display: inline;'>q6</pre></strong> passed!</p>"
      ],
      "text/plain": [
       "q6 results: All test cases passed!"
      ]
     },
     "execution_count": 17,
     "metadata": {},
     "output_type": "execute_result"
    }
   ],
   "source": [
    "grader.check(\"q6\")"
   ]
  },
  {
   "cell_type": "markdown",
   "id": "3b449f7b",
   "metadata": {},
   "source": [
    "**Question 7:** Find all the `names` of the rooms which have `price` *0* and have **more than** *30* `reviews`.\n",
    "\n",
    "Your output **must** be a *list*. The names **must** be sorted in **ascending (alphabetical) order**."
   ]
  },
  {
   "cell_type": "code",
   "execution_count": 18,
   "id": "560ffc64",
   "metadata": {
    "tags": []
   },
   "outputs": [],
   "source": [
    "# compute and store the answer in the variable 'no_cost_rooms', then display it\n",
    "no_cost_rooms = []\n",
    "for idx in range(num_rows):\n",
    "    if cell(idx, \"price\") == 0 and cell(idx, \"number_of_reviews\") > 30:\n",
    "        no_cost_rooms.append(cell(idx,\"name\"))\n",
    "list.sort(no_cost_rooms)"
   ]
  },
  {
   "cell_type": "code",
   "execution_count": 19,
   "id": "ab4e1521",
   "metadata": {
    "deletable": false,
    "editable": false
   },
   "outputs": [
    {
     "data": {
      "text/html": [
       "<p><strong><pre style='display: inline;'>q7</pre></strong> passed!</p>"
      ],
      "text/plain": [
       "q7 results: All test cases passed!"
      ]
     },
     "execution_count": 19,
     "metadata": {},
     "output_type": "execute_result"
    }
   ],
   "source": [
    "grader.check(\"q7\")"
   ]
  },
  {
   "cell_type": "markdown",
   "id": "6143b4f2",
   "metadata": {},
   "source": [
    "**Question 8:**  What `neighborhoods` are the rooms that have `prices` greater than *9999* located in?\n",
    "\n",
    "Your output **must** be a *list* of **unique** neighborhoods (i.e., without any duplicates). The names **must** be sorted in **descending (reverse-alphabetical) order**."
   ]
  },
  {
   "cell_type": "code",
   "execution_count": 20,
   "id": "a75c710d",
   "metadata": {
    "tags": []
   },
   "outputs": [],
   "source": [
    "# compute and store the answer in the variable 'pricey_neighborhoods', then display it\n",
    "pricey_neighborhoods = []\n",
    "for idx in range(num_rows):\n",
    "    if cell(idx, \"price\") > 9999:\n",
    "        pricey_neighborhoods.append(cell(idx, \"neighborhood\"))\n",
    "pricey_neighborhoods = sorted(pricey_neighborhoods, reverse = True)"
   ]
  },
  {
   "cell_type": "code",
   "execution_count": 21,
   "id": "b971371d",
   "metadata": {
    "deletable": false,
    "editable": false
   },
   "outputs": [
    {
     "data": {
      "text/html": [
       "<p><strong><pre style='display: inline;'>q8</pre></strong> passed!</p>"
      ],
      "text/plain": [
       "q8 results: All test cases passed!"
      ]
     },
     "execution_count": 21,
     "metadata": {},
     "output_type": "execute_result"
    }
   ],
   "source": [
    "grader.check(\"q8\")"
   ]
  },
  {
   "cell_type": "markdown",
   "id": "895f7490",
   "metadata": {},
   "source": [
    "**Question 9:** How many rooms received their `last_review` in or before *2015*?\n",
    "\n",
    "You should **ignore** rooms for which the `last_review` data is missing.\n",
    "\n",
    "**Hint:** You can find the date of the last review in the `last_review` column."
   ]
  },
  {
   "cell_type": "code",
   "execution_count": 22,
   "id": "fefd654e",
   "metadata": {
    "tags": []
   },
   "outputs": [],
   "source": [
    "# compute and store the answer in the variable 'last_review_before_2015', then display it\n",
    "last_review_before_2015 = 0\n",
    "for idx in range(num_rows):\n",
    "    if cell(idx, \"last_review\") == None:\n",
    "        continue\n",
    "    elif int(cell(idx, \"last_review\")[0:4]) <= 2015:\n",
    "        last_review_before_2015 += 1\n",
    "    \n",
    "        "
   ]
  },
  {
   "cell_type": "code",
   "execution_count": 23,
   "id": "11a617ea",
   "metadata": {
    "deletable": false,
    "editable": false
   },
   "outputs": [
    {
     "data": {
      "text/html": [
       "<p><strong><pre style='display: inline;'>q9</pre></strong> passed!</p>"
      ],
      "text/plain": [
       "q9 results: All test cases passed!"
      ]
     },
     "execution_count": 23,
     "metadata": {},
     "output_type": "execute_result"
    }
   ],
   "source": [
    "grader.check(\"q9\")"
   ]
  },
  {
   "cell_type": "markdown",
   "id": "fffea252",
   "metadata": {},
   "source": [
    "### Function 2: `avg_price_per_room_type(room_type, neighborhood)`\n",
    "\n",
    "We require you to complete the below function to answer the next several questions (this is a **requirement**, and you will **lose points** if you do not implement this function)."
   ]
  },
  {
   "cell_type": "code",
   "execution_count": 24,
   "id": "1200df6c",
   "metadata": {
    "tags": []
   },
   "outputs": [],
   "source": [
    "def avg_price_per_room_type(room_type, neighborhood):\n",
    "    '''\n",
    "    avg_price_per_room_type(room_type, neighborhood) returns the average price of \n",
    "    rooms of the type `room_type` in the given `neighborhood`; if there are no\n",
    "    rooms of the type `room_type` in the given `neighborhood`, it returns `None`\n",
    "    '''\n",
    "    total = 0\n",
    "    count = 0\n",
    "    for idx in range(num_rows):\n",
    "        if cell(idx, \"neighborhood\") == neighborhood:\n",
    "            if cell(idx, \"room_type\") == room_type:\n",
    "                total += cell(idx, \"price\")\n",
    "                count += 1\n",
    "    if total == 0:\n",
    "        return None\n",
    "    avg_price_per_room_type = total / count\n",
    "    return avg_price_per_room_type"
   ]
  },
  {
   "cell_type": "markdown",
   "id": "9fa0cd52",
   "metadata": {},
   "source": [
    "**Question 10:** What is the  **average** cost of a *Private room* in the`neighborhood` *Little Neck*?\n",
    "\n",
    "You **must** call the `avg_price_per_room_type` function to answer this question.\n",
    "\n",
    "**Hint:** To help you debug your code in case you run into any bugs, we have reproduced in the cell below, **all** the rows in the dataset from the `neighborhood` *Little Neck*. If you run into bugs with `avg_price_per_room_type`, it is recommended that you go through your code and verify that it does what it is supposed to, for this tiny dataset."
   ]
  },
  {
   "cell_type": "markdown",
   "id": "53e5a8f7",
   "metadata": {},
   "source": [
    "room_id|name|host_id|host_name|neighborhood_group|neighborhood|latitude|longitude|room_type|price|minimum_nights|number_of_reviews|last_review|reviews_per_month|calculated_host_listings_count|availability_365\n",
    "------|------|------|------|------|------|------|------|------|------|------|------|------|------|------|------|\n",
    "20227428|Douglaston Apartment Room A|18996093|Leonard|Queens|Little Neck|40.75794000000001|-73.72955999999998|Private room|45|1|12|2019-06-22|0.55|5|133\n",
    "21025083|Douglaston (apt 2) Room one\\n(Largest room)|18996093|Leonard|Queens|Little Neck|40.75777|-73.72949|Private room|50|1|6|2018-12-16|0.31|5|94\n",
    "30325639|Cozy shared studio in a safe neighborhood|21495656|Ramy|Queens|Little Neck|40.76212|-73.71928|Shared room|32|3|1|2018-12-04|0.14|1|88\n",
    "31553066|Near major transportation|41090359|Abi|Queens|Little Neck|40.77122|-73.738|Private room|100|1|0|||1|88\n",
    "35515780|30-min to Manhattan Quiet Big House in Great Neck|31859704|Vincent|Queens|Little Neck|40.77444000000001|-73.73373000000002|Entire home/apt|149|3|0|||1|3"
   ]
  },
  {
   "cell_type": "code",
   "execution_count": 25,
   "id": "2a0e2bdc",
   "metadata": {
    "tags": []
   },
   "outputs": [
    {
     "data": {
      "text/plain": [
       "65.0"
      ]
     },
     "execution_count": 25,
     "metadata": {},
     "output_type": "execute_result"
    }
   ],
   "source": [
    "# compute and store the answer in the variable 'pvt_room_little_neck', then display it\n",
    "pvt_room_little_neck = avg_price_per_room_type(\"Private room\", \"Little Neck\")\n",
    "pvt_room_little_neck"
   ]
  },
  {
   "cell_type": "code",
   "execution_count": 26,
   "id": "0667f9cd",
   "metadata": {
    "deletable": false,
    "editable": false
   },
   "outputs": [
    {
     "data": {
      "text/html": [
       "<p><strong><pre style='display: inline;'>q10</pre></strong> passed!</p>"
      ],
      "text/plain": [
       "q10 results: All test cases passed!"
      ]
     },
     "execution_count": 26,
     "metadata": {},
     "output_type": "execute_result"
    }
   ],
   "source": [
    "grader.check(\"q10\")"
   ]
  },
  {
   "cell_type": "markdown",
   "id": "61cffaaa",
   "metadata": {},
   "source": [
    "**Question 11:** How much more expensive is a *Entire home/apt* than a *Private room* in the `neighborhood` *Astoria*?\n",
    "\n",
    "You **must** call the `avg_price_per_room_type` function to answer this question."
   ]
  },
  {
   "cell_type": "code",
   "execution_count": 27,
   "id": "87968123",
   "metadata": {
    "tags": []
   },
   "outputs": [
    {
     "data": {
      "text/plain": [
       "46.02133741379495"
      ]
     },
     "execution_count": 27,
     "metadata": {},
     "output_type": "execute_result"
    }
   ],
   "source": [
    "# compute and store the answer in the variable 'home_pvt_room_astoria_diff', then display it\n",
    "private_room = avg_price_per_room_type(\"Private room\", \"Astoria\")\n",
    "entire_home_apt = avg_price_per_room_type(\"Entire home/apt\", \"Astoria\")\n",
    "home_pvt_room_astoria_diff = entire_home_apt - private_room\n",
    "home_pvt_room_astoria_diff"
   ]
  },
  {
   "cell_type": "code",
   "execution_count": 28,
   "id": "2746b67f",
   "metadata": {
    "deletable": false,
    "editable": false
   },
   "outputs": [
    {
     "data": {
      "text/html": [
       "<p><strong><pre style='display: inline;'>q11</pre></strong> passed!</p>"
      ],
      "text/plain": [
       "q11 results: All test cases passed!"
      ]
     },
     "execution_count": 28,
     "metadata": {},
     "output_type": "execute_result"
    }
   ],
   "source": [
    "grader.check(\"q11\")"
   ]
  },
  {
   "cell_type": "markdown",
   "id": "17498e25",
   "metadata": {},
   "source": [
    "### Function 3: `find_prices_within(lat_min, lat_max, long_min, long_max)` \n",
    "\n",
    "We require you to complete the below function to answer the next several questions (this is a **requirement**, and you will **lose points** if you do not implement this function)."
   ]
  },
  {
   "cell_type": "code",
   "execution_count": 29,
   "id": "71f869cd",
   "metadata": {
    "tags": []
   },
   "outputs": [],
   "source": [
    "def find_prices_within(lat_min, lat_max, long_min, long_max):\n",
    "    \"\"\"\n",
    "    find_prices_within(lat_min, lat_max, long_min, long_max) returns an unordered \n",
    "    list of prices of all the rooms within the geographical location between and including\n",
    "    the latitudes lat_min and lat_max and longitudes long_min and long_max.\n",
    "    \"\"\"\n",
    "    price_list = []\n",
    "    for idx in range(num_rows):\n",
    "        lat = cell(idx, \"latitude\") \n",
    "        long = cell(idx, \"longitude\")\n",
    "        if lat >= lat_min and lat <= lat_max and long >= long_min and long <= long_max:\n",
    "            price_list.append(cell(idx, \"price\"))\n",
    "    return price_list\n",
    "    "
   ]
  },
  {
   "cell_type": "markdown",
   "id": "9875b5ad",
   "metadata": {},
   "source": [
    "**Question 12:** What is the **lowest** `price` room near *NYU* (`40.729 <= latitude <= 40.73, -74.01 <= longitude <= -74.00`)?\n",
    "\n",
    "You **must** call the `find_prices_within` function to answer this question."
   ]
  },
  {
   "cell_type": "code",
   "execution_count": 30,
   "id": "d169db65",
   "metadata": {
    "tags": []
   },
   "outputs": [
    {
     "data": {
      "text/plain": [
       "75"
      ]
     },
     "execution_count": 30,
     "metadata": {},
     "output_type": "execute_result"
    }
   ],
   "source": [
    "# compute and store the answer in the variable 'min_price_nyu', then display it\n",
    "min_price_nyu = min(find_prices_within(40.729,40.73,-74.01,-74.00))\n",
    "min_price_nyu"
   ]
  },
  {
   "cell_type": "code",
   "execution_count": 31,
   "id": "44395227",
   "metadata": {
    "deletable": false,
    "editable": false
   },
   "outputs": [
    {
     "data": {
      "text/html": [
       "<p><strong><pre style='display: inline;'>q12</pre></strong> passed!</p>"
      ],
      "text/plain": [
       "q12 results: All test cases passed!"
      ]
     },
     "execution_count": 31,
     "metadata": {},
     "output_type": "execute_result"
    }
   ],
   "source": [
    "grader.check(\"q12\")"
   ]
  },
  {
   "cell_type": "markdown",
   "id": "4a68871e",
   "metadata": {},
   "source": [
    "### Function 4: `median(items)` \n",
    "\n",
    "We require you to complete the below function to answer the next several questions (this is a **requirement**, and you will **lose points** if you do not implement this function)."
   ]
  },
  {
   "cell_type": "code",
   "execution_count": 32,
   "id": "fafd6aef",
   "metadata": {
    "tags": []
   },
   "outputs": [],
   "source": [
    "def median(items):\n",
    "    \"\"\"\n",
    "    median(items) returns the median of the list `items`\n",
    "    \"\"\"\n",
    "    n = len(items)\n",
    "    items = sorted(items)\n",
    "    if n % 2 == 0:\n",
    "        first_middle = items[n // 2 - 1] \n",
    "        second_middle = [n // 2]\n",
    "        median = (first_middle + second_middle) / 2\n",
    "    else:\n",
    "        median = items[n // 2]\n",
    "    \n",
    "    return median\n",
    "    # you may copy/paste this function from your lab-p6 notebook"
   ]
  },
  {
   "cell_type": "markdown",
   "id": "f1dfbc53",
   "metadata": {},
   "source": [
    "**Question 13:** What is the **median** `price` of the rooms near *Columbia University* (`40.79 <= latitude <= 40.80, -73.96 <= longitude <= -73.95`)?\n",
    "\n",
    "You **must** call the `find_prices_within` function to answer this question."
   ]
  },
  {
   "cell_type": "code",
   "execution_count": 33,
   "id": "426c2346",
   "metadata": {
    "tags": []
   },
   "outputs": [],
   "source": [
    "# compute and store the answer in the variable 'median_price_columbia', then display it\n",
    "\n",
    "median_price_columbia = median(find_prices_within(40.79, 40.80, -73.96,-73.95))"
   ]
  },
  {
   "cell_type": "code",
   "execution_count": 34,
   "id": "368b96eb",
   "metadata": {
    "deletable": false,
    "editable": false
   },
   "outputs": [
    {
     "data": {
      "text/html": [
       "<p><strong><pre style='display: inline;'>q13</pre></strong> passed!</p>"
      ],
      "text/plain": [
       "q13 results: All test cases passed!"
      ]
     },
     "execution_count": 34,
     "metadata": {},
     "output_type": "execute_result"
    }
   ],
   "source": [
    "grader.check(\"q13\")"
   ]
  },
  {
   "cell_type": "markdown",
   "id": "bdd2571a",
   "metadata": {},
   "source": [
    "**Question 14:** What **percentage** of rooms near *Rockefeller Center* (`40.749 <= latitude <= 40.75, -73.98 <= longitude <= -73.97`) have a `price` **more than** *100*?\n",
    "\n",
    "Your answer **must** be a *float* value between *0* and *100*. You **must** call the `find_prices_within` function to answer this question."
   ]
  },
  {
   "cell_type": "code",
   "execution_count": 35,
   "id": "ccdee937",
   "metadata": {
    "tags": []
   },
   "outputs": [
    {
     "data": {
      "text/plain": [
       "93.10344827586206"
      ]
     },
     "execution_count": 35,
     "metadata": {},
     "output_type": "execute_result"
    }
   ],
   "source": [
    "# compute and store the answer in the variable 'pct_price_over_hundred', then display it\n",
    "near_rock = find_prices_within(40.749, 40.75, -73.98,-73.97)\n",
    "count = 0\n",
    "rock_len = len(near_rock)\n",
    "for idx in range(rock_len):\n",
    "    if near_rock[idx] > 100:\n",
    "        count += 1\n",
    "pct_price_over_hundred = count / rock_len * 100\n",
    "pct_price_over_hundred"
   ]
  },
  {
   "cell_type": "code",
   "execution_count": 36,
   "id": "8668e977",
   "metadata": {
    "deletable": false,
    "editable": false
   },
   "outputs": [
    {
     "data": {
      "text/html": [
       "<p><strong><pre style='display: inline;'>q14</pre></strong> passed!</p>"
      ],
      "text/plain": [
       "q14 results: All test cases passed!"
      ]
     },
     "execution_count": 36,
     "metadata": {},
     "output_type": "execute_result"
    }
   ],
   "source": [
    "grader.check(\"q14\")"
   ]
  },
  {
   "cell_type": "markdown",
   "id": "59fa206d",
   "metadata": {},
   "source": [
    "### Function 5: `review_avail_ratio(neighborhood)` \n",
    "\n",
    "We require you to complete the below function to answer the next several questions (this is a **requirement**, and you will **lose points** if you do not implement this function)."
   ]
  },
  {
   "cell_type": "markdown",
   "id": "b9363a6a",
   "metadata": {},
   "source": [
    "You should ignore rooms that have `availability_365` data of 0. You should also ignore rooms for which the ratio cannot be computed due to missing data.\n",
    "\n",
    "1.  The denominator is the availability of a room (`availability_365` column). The numerator is the number of reviews of a room (`number_of_reviews column`). \n",
    "2.  Be careful! You need to compute the ratio for each room in the given neighborhood, then take the average of those ratios. Simply dividing the sum of reviews by the sum of availability will calculate the wrong answer.\n"
   ]
  },
  {
   "cell_type": "code",
   "execution_count": 80,
   "id": "10165bad",
   "metadata": {
    "tags": []
   },
   "outputs": [],
   "source": [
    "def review_avail_ratio(neighborhood):\n",
    "    \"\"\"\n",
    "    review_avail_ratio(neighborhood) returns the average of the ratios of \n",
    "    number of reviews to availability of all rooms in the `neighborhood`\n",
    "    \"\"\"\n",
    "    count = 0\n",
    "    total = 0\n",
    "    for idx in range(num_rows):\n",
    "        if cell(idx, \"neighborhood\") == neighborhood:\n",
    "            if cell(idx, \"availability_365\") == 0 or cell(idx,\"availability_365\") == None:\n",
    "                continue\n",
    "            if cell(idx, \"number_of_reviews\") == None:\n",
    "                continue\n",
    "            total += cell(idx, \"number_of_reviews\") / cell(idx, \"availability_365\")\n",
    "            count += 1\n",
    "    if count == 0:\n",
    "        return 0\n",
    "    else:\n",
    "        return total / count\n",
    "    # TODO: you should **ignore** rooms that have `availability_365` data of 0\n",
    "    # TODO: you should **ignore** rooms for which the ratio cannot be computed due to missing data\n",
    "    # Hint: the numerator is the number of reviews of a room (`number_of_reviews column`)\n",
    "    # Hint: the denominator is the availability of a room (`availability_365` column)\n",
    "    # Hint: note that you need to compute the average of the ratios, **not** the ratio of the averages.\n",
    "    #       you must compute the ratio for each room in the `neighborhood`, then take the average of those ratios.\n",
    "    #       simply dividing the sum of reviews by the sum of availability will calculate the wrong answer."
   ]
  },
  {
   "cell_type": "markdown",
   "id": "e6dca681",
   "metadata": {},
   "source": [
    "**Question 15:** What is the **average of the ratios** of the `number_of_reviews` to `availability_365` in the `neighborhood` *Bushwick*?\n",
    "\n",
    "You **must** call the `review_avail_ratio` function to answer this question."
   ]
  },
  {
   "cell_type": "code",
   "execution_count": 81,
   "id": "b4afd95a",
   "metadata": {
    "tags": []
   },
   "outputs": [
    {
     "data": {
      "text/plain": [
       "0.9856466156705752"
      ]
     },
     "execution_count": 81,
     "metadata": {},
     "output_type": "execute_result"
    }
   ],
   "source": [
    "# compute and store the answer in the variable 'bushwick_avg_ratio', then display it\n",
    "bushwick_avg_ratio = review_avail_ratio(\"Bushwick\")\n",
    "bushwick_avg_ratio"
   ]
  },
  {
   "cell_type": "code",
   "execution_count": 82,
   "id": "2aa4c910",
   "metadata": {
    "deletable": false,
    "editable": false
   },
   "outputs": [
    {
     "data": {
      "text/html": [
       "<p><strong><pre style='display: inline;'>q15</pre></strong> passed!</p>"
      ],
      "text/plain": [
       "q15 results: All test cases passed!"
      ]
     },
     "execution_count": 82,
     "metadata": {},
     "output_type": "execute_result"
    }
   ],
   "source": [
    "grader.check(\"q15\")"
   ]
  },
  {
   "cell_type": "markdown",
   "id": "e716f7f4",
   "metadata": {},
   "source": [
    "**Question 16:** What is the **average of the ratios** of the `number_of_reviews` to `availability_365` in the `neighborhood` *Manhattan Beach*?\n",
    "\n",
    "You **must** call the `review_avail_ratio` function to answer this question."
   ]
  },
  {
   "cell_type": "code",
   "execution_count": 83,
   "id": "b168d4de",
   "metadata": {
    "tags": []
   },
   "outputs": [
    {
     "data": {
      "text/plain": [
       "0.27323293295076073"
      ]
     },
     "execution_count": 83,
     "metadata": {},
     "output_type": "execute_result"
    }
   ],
   "source": [
    "# compute and store the answer in the variable 'manhattan_beach_avg_ratio', then display it\n",
    "manhattan_beach_avg_ratio = review_avail_ratio(\"Manhattan Beach\")\n",
    "manhattan_beach_avg_ratio"
   ]
  },
  {
   "cell_type": "code",
   "execution_count": 84,
   "id": "a7d3a2a5",
   "metadata": {
    "deletable": false,
    "editable": false
   },
   "outputs": [
    {
     "data": {
      "text/html": [
       "<p><strong><pre style='display: inline;'>q16</pre></strong> passed!</p>"
      ],
      "text/plain": [
       "q16 results: All test cases passed!"
      ]
     },
     "execution_count": 84,
     "metadata": {},
     "output_type": "execute_result"
    }
   ],
   "source": [
    "grader.check(\"q16\")"
   ]
  },
  {
   "cell_type": "markdown",
   "id": "dcfb9f21",
   "metadata": {},
   "source": [
    "**Question 17:** Which `neighborhood` in the `neighborhood_group` *Staten Island* has the **highest average of ratios** of the `number_of_reviews` to `availability_365`?\n",
    "\n",
    "**Clarification:** Don't worry about it if this cell takes around 10 seconds to run, that is expected. If it takes much longer (i.e., more than 30 seconds), you **must** optimize your code. Attend office hours if you are unable to get your code to run faster.\n",
    "\n",
    "**Hint:** You do not need to compute the average of ratios for the **same** `neighborhood` more than once. Make a list of the **unique** neighborhoods in *Staten Island* first, and then find the **highest average of ratios** among those `neighborhoods`."
   ]
  },
  {
   "cell_type": "code",
   "execution_count": 88,
   "id": "5076061e",
   "metadata": {
    "tags": []
   },
   "outputs": [
    {
     "data": {
      "text/plain": [
       "'Arden Heights'"
      ]
     },
     "execution_count": 88,
     "metadata": {},
     "output_type": "execute_result"
    }
   ],
   "source": [
    "# compute and store the answer in the variable 'max_nbhd_staten_island', then display it\n",
    "stan_list = []\n",
    "max_stan = None\n",
    "\n",
    "for idx in range(num_rows):\n",
    "    if cell(idx, \"neighborhood_group\") == \"Staten Island\":\n",
    "        stan_list.append(cell(idx, \"neighborhood\"))\n",
    "        \n",
    "stan_list = list(set(stan_list)) \n",
    "\n",
    "for item in stan_list:\n",
    "    if max_stan == None or review_avail_ratio(item) > max_stan:\n",
    "        max_stan = review_avail_ratio(item)\n",
    "        max_nbhd_staten_island = item\n",
    "        \n",
    "max_nbhd_staten_island"
   ]
  },
  {
   "cell_type": "code",
   "execution_count": 89,
   "id": "f142c802",
   "metadata": {
    "deletable": false,
    "editable": false
   },
   "outputs": [
    {
     "data": {
      "text/html": [
       "<p><strong><pre style='display: inline;'>q17</pre></strong> passed!</p>"
      ],
      "text/plain": [
       "q17 results: All test cases passed!"
      ]
     },
     "execution_count": 89,
     "metadata": {},
     "output_type": "execute_result"
    }
   ],
   "source": [
    "grader.check(\"q17\")"
   ]
  },
  {
   "cell_type": "markdown",
   "id": "a6085a9f",
   "metadata": {},
   "source": [
    "### Function 6: `secondary_word_in_found_rooms(find_room_word, secondary_word)`\n",
    "\n",
    "\n",
    "We require you to complete the below function to answer the next several questions (this is a **requirement**, and you will **lose points** if you do not implement this function).\n",
    "\n",
    "`secondary_word_in_found_rooms` function definition **must** invoke the function `find_room_names`. **We'll manually deduct points** if you don't use `find_room_names`."
   ]
  },
  {
   "cell_type": "code",
   "execution_count": 121,
   "id": "87e29aaf",
   "metadata": {
    "tags": []
   },
   "outputs": [],
   "source": [
    "def secondary_word_in_found_rooms(find_room_word, secondary_word):\n",
    "    \"\"\"\n",
    "    secondary_word_in_found_rooms(find_room_word, secondary_word) returns \n",
    "    the percentage of names containing the word `find_room_word` (case insensitive match)\n",
    "    that also contains the word `secondary_word` (case insensitive match).\n",
    "    \"\"\"   \n",
    "    first_list = find_room_names(find_room_word)\n",
    "    count = 0\n",
    "    for idx in range(len(first_list)):\n",
    "        if secondary_word.lower() in first_list[idx].lower():\n",
    "            count += 1\n",
    "\n",
    "    return count / len(first_list) * 100\n",
    "        \n",
    "        \n",
    "    # Hint: the denominator is the number of rooms with `find_room_word` in their name.\n",
    "    # Hint: the numerator is the number of rooms that have **both** `find_room_word` and `secondary_word` in their name."
   ]
  },
  {
   "cell_type": "markdown",
   "id": "7526d52e",
   "metadata": {},
   "source": [
    "**Question 18:** What **percentage** of rooms whose `names` contain the word `\"downtown\"` **also** contain the word `\"spacious\"`?\n",
    "\n",
    "Your answer **must** be a *float* value between *0* and *100*. You **must** call the `secondary_word_in_found_rooms` function to answer this question."
   ]
  },
  {
   "cell_type": "code",
   "execution_count": 122,
   "id": "1345be1a",
   "metadata": {
    "tags": []
   },
   "outputs": [],
   "source": [
    "# compute and store the answer in the variable 'downtown_and_spacious', then display it\n",
    "downtown_and_spacious = secondary_word_in_found_rooms(\"downtown\", \"spacious\")"
   ]
  },
  {
   "cell_type": "code",
   "execution_count": 123,
   "id": "22281790",
   "metadata": {
    "deletable": false,
    "editable": false
   },
   "outputs": [
    {
     "data": {
      "text/html": [
       "<p><strong><pre style='display: inline;'>q18</pre></strong> passed!</p>"
      ],
      "text/plain": [
       "q18 results: All test cases passed!"
      ]
     },
     "execution_count": 123,
     "metadata": {},
     "output_type": "execute_result"
    }
   ],
   "source": [
    "grader.check(\"q18\")"
   ]
  },
  {
   "cell_type": "markdown",
   "id": "960e302e",
   "metadata": {},
   "source": [
    "**Question 19:** What **percentage** of rooms whose `names` contain the word `\"university\"` **also** contain the word `\"studio\"`?\n",
    "\n",
    "Your answer **must** be a *float* value between *0* and *100*. You **must** call the `secondary_word_in_found_rooms` function to answer this question."
   ]
  },
  {
   "cell_type": "code",
   "execution_count": 124,
   "id": "52be0ff8",
   "metadata": {
    "tags": []
   },
   "outputs": [],
   "source": [
    "# compute and store the answer in the variable 'university_and_studio', then display it\n",
    "university_and_studio = secondary_word_in_found_rooms(\"university\", \"studio\")"
   ]
  },
  {
   "cell_type": "code",
   "execution_count": 125,
   "id": "cce2b96a",
   "metadata": {
    "deletable": false,
    "editable": false
   },
   "outputs": [
    {
     "data": {
      "text/html": [
       "<p><strong><pre style='display: inline;'>q19</pre></strong> passed!</p>"
      ],
      "text/plain": [
       "q19 results: All test cases passed!"
      ]
     },
     "execution_count": 125,
     "metadata": {},
     "output_type": "execute_result"
    }
   ],
   "source": [
    "grader.check(\"q19\")"
   ]
  },
  {
   "cell_type": "markdown",
   "id": "e5e9df6d",
   "metadata": {},
   "source": [
    "**Question 20:** On a trip to NYC, you need to stay for *3* days in *Queens*, and then *4* days in *Brooklyn*. What is the **minimum** amount of money you need to spend on this trip?\n",
    "\n",
    "Note that:\n",
    "1. The price of each room is for each day.\n",
    "2. The total cost = (lowest price in Queens) * 3 + (lowest price in Brooklyn) * 4.\n",
    "3. You'll need to **skip** those rooms that don't have enough availability.\n",
    "\n",
    "\n",
    "**Hint:** You might want to define a helper function to compute the **minimum** daily `price` of a room in a given `neighborhood_group` among rooms whose `availability_365` is equal to or larger than the number of days one will be staying in that neighborhood group."
   ]
  },
  {
   "cell_type": "code",
   "execution_count": 138,
   "id": "70e3cc8e",
   "metadata": {
    "tags": []
   },
   "outputs": [
    {
     "data": {
      "text/plain": [
       "30"
      ]
     },
     "execution_count": 138,
     "metadata": {},
     "output_type": "execute_result"
    }
   ],
   "source": [
    "# compute and store the answer in the variable 'min_cost_trip', then display it\n",
    "def avail_list(neighborhood_group, days):\n",
    "    list = []\n",
    "    for idx in range(num_rows):\n",
    "        if cell(idx, \"neighborhood_group\") == None:\n",
    "            continue\n",
    "        if cell(idx, \"neighborhood_group\") == neighborhood_group:\n",
    "            if cell(idx, \"availability_365\") == None:\n",
    "                continue\n",
    "            if cell(idx, \"availability_365\") >= days:\n",
    "                if cell(idx, \"price\") == None:\n",
    "                    continue\n",
    "                list.append(cell(idx, \"price\"))\n",
    "    return list\n",
    "\n",
    "low_in_Queens = min(avail_list(\"Queens\", 3))\n",
    "low_in_Brooklyn = min(avail_list(\"Brooklyn\", 4))\n",
    "\n",
    "min_cost_trip = 3 * low_in_Queens + 4 * low_in_Brooklyn\n",
    "min_cost_trip"
   ]
  },
  {
   "cell_type": "code",
   "execution_count": 139,
   "id": "3ef260be",
   "metadata": {
    "deletable": false,
    "editable": false
   },
   "outputs": [
    {
     "data": {
      "text/html": [
       "<p><strong><pre style='display: inline;'>q20</pre></strong> passed!</p>"
      ],
      "text/plain": [
       "q20 results: All test cases passed!"
      ]
     },
     "execution_count": 139,
     "metadata": {},
     "output_type": "execute_result"
    }
   ],
   "source": [
    "grader.check(\"q20\")"
   ]
  },
  {
   "cell_type": "markdown",
   "id": "d205702b",
   "metadata": {
    "deletable": false,
    "editable": false
   },
   "source": [
    "## Submission\n",
    "\n",
    "Make sure you have run all cells in your notebook in order before running the cell below, so that all images/graphs appear in the output. The cell below will generate a zip file for you to submit. **Please save before exporting!**\n",
    "\n",
    "**SUBMISSION INSTRUCTIONS**: 1. **Save** the notebook file **now (before you run the next cell of code)**. 2. **Upload** the zipfile to Gradescope. 3. Check **Gradescope otter** results as soon as the auto-grader execution gets completed. Don't worry about the score showing up as -/100.0. You only need to check that the test cases passed."
   ]
  },
  {
   "cell_type": "code",
   "execution_count": null,
   "id": "ae4e418c",
   "metadata": {
    "deletable": false,
    "editable": false
   },
   "outputs": [],
   "source": [
    "# Save your notebook first, then run this cell to export your submission.\n",
    "grader.export(pdf=False, run_tests=True)"
   ]
  },
  {
   "cell_type": "markdown",
   "id": "4b3d53d9",
   "metadata": {},
   "source": [
    " "
   ]
  }
 ],
 "metadata": {
  "kernelspec": {
   "display_name": "Python 3 (ipykernel)",
   "language": "python",
   "name": "python3"
  },
  "language_info": {
   "codemirror_mode": {
    "name": "ipython",
    "version": 3
   },
   "file_extension": ".py",
   "mimetype": "text/x-python",
   "name": "python",
   "nbconvert_exporter": "python",
   "pygments_lexer": "ipython3",
   "version": "3.9.12"
  },
  "otter": {
   "OK_FORMAT": true,
   "tests": {
    "q1": {
     "name": "q1",
     "points": 5,
     "suites": [
      {
       "cases": [
        {
         "code": ">>> p6_test.check(\"q1\", neighborhood_groups)\nTrue",
         "hidden": false,
         "locked": false
        }
       ],
       "scored": true,
       "setup": "",
       "teardown": "",
       "type": "doctest"
      }
     ]
    },
    "q10": {
     "name": "q10",
     "points": 5,
     "suites": [
      {
       "cases": [
        {
         "code": ">>> p6_test.check(\"q10\", pvt_room_little_neck)\nTrue",
         "hidden": false,
         "locked": false
        }
       ],
       "scored": true,
       "setup": "",
       "teardown": "",
       "type": "doctest"
      }
     ]
    },
    "q11": {
     "name": "q11",
     "points": 5,
     "suites": [
      {
       "cases": [
        {
         "code": ">>> p6_test.check(\"q11\", home_pvt_room_astoria_diff)\nTrue",
         "hidden": false,
         "locked": false
        }
       ],
       "scored": true,
       "setup": "",
       "teardown": "",
       "type": "doctest"
      }
     ]
    },
    "q12": {
     "name": "q12",
     "points": 5,
     "suites": [
      {
       "cases": [
        {
         "code": ">>> p6_test.check(\"q12\", min_price_nyu)\nTrue",
         "hidden": false,
         "locked": false
        }
       ],
       "scored": true,
       "setup": "",
       "teardown": "",
       "type": "doctest"
      }
     ]
    },
    "q13": {
     "name": "q13",
     "points": 5,
     "suites": [
      {
       "cases": [
        {
         "code": ">>> p6_test.check(\"q13\", median_price_columbia)\nTrue",
         "hidden": false,
         "locked": false
        }
       ],
       "scored": true,
       "setup": "",
       "teardown": "",
       "type": "doctest"
      }
     ]
    },
    "q14": {
     "name": "q14",
     "points": 5,
     "suites": [
      {
       "cases": [
        {
         "code": ">>> p6_test.check(\"q14\", pct_price_over_hundred)\nTrue",
         "hidden": false,
         "locked": false
        }
       ],
       "scored": true,
       "setup": "",
       "teardown": "",
       "type": "doctest"
      }
     ]
    },
    "q15": {
     "name": "q15",
     "points": 5,
     "suites": [
      {
       "cases": [
        {
         "code": ">>> p6_test.check(\"q15\", bushwick_avg_ratio)\nTrue",
         "hidden": false,
         "locked": false
        }
       ],
       "scored": true,
       "setup": "",
       "teardown": "",
       "type": "doctest"
      }
     ]
    },
    "q16": {
     "name": "q16",
     "points": 5,
     "suites": [
      {
       "cases": [
        {
         "code": ">>> p6_test.check(\"q16\", manhattan_beach_avg_ratio)\nTrue",
         "hidden": false,
         "locked": false
        }
       ],
       "scored": true,
       "setup": "",
       "teardown": "",
       "type": "doctest"
      }
     ]
    },
    "q17": {
     "name": "q17",
     "points": 5,
     "suites": [
      {
       "cases": [
        {
         "code": ">>> p6_test.check(\"q17\", max_nbhd_staten_island)\nTrue",
         "hidden": false,
         "locked": false
        }
       ],
       "scored": true,
       "setup": "",
       "teardown": "",
       "type": "doctest"
      }
     ]
    },
    "q18": {
     "name": "q18",
     "points": 5,
     "suites": [
      {
       "cases": [
        {
         "code": ">>> p6_test.check(\"q18\", downtown_and_spacious)\nTrue",
         "hidden": false,
         "locked": false
        }
       ],
       "scored": true,
       "setup": "",
       "teardown": "",
       "type": "doctest"
      }
     ]
    },
    "q19": {
     "name": "q19",
     "points": 5,
     "suites": [
      {
       "cases": [
        {
         "code": ">>> p6_test.check(\"q19\", university_and_studio)\nTrue",
         "hidden": false,
         "locked": false
        }
       ],
       "scored": true,
       "setup": "",
       "teardown": "",
       "type": "doctest"
      }
     ]
    },
    "q2": {
     "name": "q2",
     "points": 5,
     "suites": [
      {
       "cases": [
        {
         "code": ">>> p6_test.check(\"q2\", avg_price)\nTrue",
         "hidden": false,
         "locked": false
        }
       ],
       "scored": true,
       "setup": "",
       "teardown": "",
       "type": "doctest"
      }
     ]
    },
    "q20": {
     "name": "q20",
     "points": 5,
     "suites": [
      {
       "cases": [
        {
         "code": ">>> p6_test.check(\"q20\", min_cost_trip)\nTrue",
         "hidden": false,
         "locked": false
        }
       ],
       "scored": true,
       "setup": "",
       "teardown": "",
       "type": "doctest"
      }
     ]
    },
    "q3": {
     "name": "q3",
     "points": 5,
     "suites": [
      {
       "cases": [
        {
         "code": ">>> p6_test.check(\"q3\", count_soho)\nTrue",
         "hidden": false,
         "locked": false
        }
       ],
       "scored": true,
       "setup": "",
       "teardown": "",
       "type": "doctest"
      }
     ]
    },
    "q4": {
     "name": "q4",
     "points": 5,
     "suites": [
      {
       "cases": [
        {
         "code": ">>> p6_test.check(\"q4\", rooms_contain_cbg)\nTrue",
         "hidden": false,
         "locked": false
        }
       ],
       "scored": true,
       "setup": "",
       "teardown": "",
       "type": "doctest"
      }
     ]
    },
    "q5": {
     "name": "q5",
     "points": 5,
     "suites": [
      {
       "cases": [
        {
         "code": ">>> p6_test.check(\"q5\", rooms_contain_cinema_film)\nTrue",
         "hidden": false,
         "locked": false
        }
       ],
       "scored": true,
       "setup": "",
       "teardown": "",
       "type": "doctest"
      }
     ]
    },
    "q6": {
     "name": "q6",
     "points": 5,
     "suites": [
      {
       "cases": [
        {
         "code": ">>> p6_test.check(\"q6\", funnest_room)\nTrue",
         "hidden": false,
         "locked": false
        }
       ],
       "scored": true,
       "setup": "",
       "teardown": "",
       "type": "doctest"
      }
     ]
    },
    "q7": {
     "name": "q7",
     "points": 5,
     "suites": [
      {
       "cases": [
        {
         "code": ">>> p6_test.check(\"q7\", no_cost_rooms)\nTrue",
         "hidden": false,
         "locked": false
        }
       ],
       "scored": true,
       "setup": "",
       "teardown": "",
       "type": "doctest"
      }
     ]
    },
    "q8": {
     "name": "q8",
     "points": 5,
     "suites": [
      {
       "cases": [
        {
         "code": ">>> p6_test.check(\"q8\", pricey_neighborhoods)\nTrue",
         "hidden": false,
         "locked": false
        }
       ],
       "scored": true,
       "setup": "",
       "teardown": "",
       "type": "doctest"
      }
     ]
    },
    "q9": {
     "name": "q9",
     "points": 5,
     "suites": [
      {
       "cases": [
        {
         "code": ">>> p6_test.check(\"q9\", last_review_before_2015)\nTrue",
         "hidden": false,
         "locked": false
        }
       ],
       "scored": true,
       "setup": "",
       "teardown": "",
       "type": "doctest"
      }
     ]
    }
   }
  }
 },
 "nbformat": 4,
 "nbformat_minor": 5
}
