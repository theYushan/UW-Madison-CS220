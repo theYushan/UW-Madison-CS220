{
 "cells": [
  {
   "cell_type": "code",
   "execution_count": 70,
   "id": "1fd97833",
   "metadata": {
    "deletable": false,
    "editable": false
   },
   "outputs": [],
   "source": [
    "# Initialize Otter\n",
    "import otter\n",
    "grader = otter.Notebook(\"practice.ipynb\")"
   ]
  },
  {
   "cell_type": "code",
   "execution_count": 71,
   "id": "ccfcf1e2",
   "metadata": {},
   "outputs": [],
   "source": [
    "import practice_test"
   ]
  },
  {
   "cell_type": "markdown",
   "id": "794deac1",
   "metadata": {},
   "source": [
    "# Lab-P5: Looping Patterns and Hurricane API\n",
    "\n",
    "**WARNING:** Please go through Segment 1 of [lab-p5](https://git.doit.wisc.edu/cdis/cs/courses/cs220/cs220-f22-projects/-/tree/main/lab-p5) **before** you start to solve this notebook."
   ]
  },
  {
   "attachments": {
    "table.PNG": {
     "image/png": "[encoded data removed]"
    }
   },
   "cell_type": "markdown",
   "id": "370ac454",
   "metadata": {},
   "source": [
    "## Segment 2: Learning the API\n",
    "\n",
    "### Task 2.1: Examine the `hurricanes` CSV file\n",
    "\n",
    "The `project.py` file will allow you to access the dataset you'll use this week, `hurricanes.csv`. We generated this data file by writing a Python program to extract data from several lists of hurricanes over the Atlantic Ocean on Wikipedia (here is an [example](https://en.wikipedia.org/wiki/2022_Atlantic_hurricane_season)). You can take a look at the script `gen_csv.ipynb` yourself. At the end of the semester, you will be able to write it yourself.\n",
    "\n",
    "Open `hurricanes.csv` with Microsoft Excel or some other Spreadsheet viewer and look at the hurricanes in the dataset. The data shows:\n",
    "\n",
    "* name\n",
    "* the date of formation\n",
    "* the date of dissipation\n",
    "* max wind speed (in mph)\n",
    "* damage (in US dollars)\n",
    "* deaths\n",
    "\n",
    "Often, we'll organize data by assigning numbers (called **indexes**) to different parts of the data (e.g., rows or columns in a table). In Computer Science, indexing typically starts with the number `0`; i.e., when you have a sequence of things, you'll start counting them from `0` instead of `1`. Thus, you should **ignore the numbers shown by your Spreadsheet Viewer to the left of the rows**. From the perspective of `project.py`, the indexes of `1804 New England hurricane`, `1806 Great Coastal hurricane`, and `1812 Louisiana hurricane` are `0`, `1`, and `2` respectively (and so on).\n",
    "\n",
    "For example, consider this example from `hurricanes.csv` as viewed from Microsoft Excel:\n",
    "\n",
    "![table.PNG](attachment:table.PNG)\n",
    "\n",
    "The **index** for the `1812 Louisiana hurricane` is `2` but its actual **location** is `3`, and it is on **row** `4` of the table. Therefore, you must follow this convention for all the questions\n",
    "asking for the value at a particular **index**."
   ]
  },
  {
   "cell_type": "markdown",
   "id": "9f205700",
   "metadata": {},
   "source": [
    "### Task 2.2: Explore the API\n",
    "Use the inspection process we learned in [lab-p3](https://git.doit.wisc.edu/cdis/cs/courses/cs220/cs220-f22-projects/-/tree/main/lab-p3) and [lab-p4](https://git.doit.wisc.edu/cdis/cs/courses/cs220/cs220-f22-projects/-/tree/main/lab-p3) to know more details of the 'project' API. In lab-p3, we saw how to use `dir`, and `help` to learn the API. Run the following cells to explore the API:"
   ]
  },
  {
   "cell_type": "code",
   "execution_count": 72,
   "id": "a580a5e5",
   "metadata": {
    "tags": []
   },
   "outputs": [],
   "source": [
    "# it is considered a good coding practice to place all import statements at the top of the notebook\n",
    "# please place all your import statements in this cell if you need to import any more modules for this project\n",
    "import project"
   ]
  },
  {
   "cell_type": "code",
   "execution_count": 73,
   "id": "8827151a",
   "metadata": {
    "tags": []
   },
   "outputs": [],
   "source": [
    "# use the 'dir' function to learn more about the project API."
   ]
  },
  {
   "cell_type": "markdown",
   "id": "8cdc482b",
   "metadata": {},
   "source": [
    "Spend some time reading about each of the seven functions that don't begin with two underscores. For example, run this to learn about `count`:"
   ]
  },
  {
   "cell_type": "code",
   "execution_count": 6,
   "id": "b7795d95",
   "metadata": {},
   "outputs": [
    {
     "name": "stdout",
     "output_type": "stream",
     "text": [
      "Help on function count in module project:\n",
      "\n",
      "count()\n",
      "    This function will return the number of records in the dataset\n",
      "\n"
     ]
    }
   ],
   "source": [
    "help(project.count) "
   ]
  },
  {
   "cell_type": "markdown",
   "id": "29fc81cb",
   "metadata": {},
   "source": [
    "Alternatively, you could run the following to just see the function's documentation:"
   ]
  },
  {
   "cell_type": "code",
   "execution_count": 7,
   "id": "0137157b",
   "metadata": {},
   "outputs": [
    {
     "name": "stdout",
     "output_type": "stream",
     "text": [
      "This function will return the number of records in the dataset\n"
     ]
    }
   ],
   "source": [
    "print(project.count.__doc__)"
   ]
  },
  {
   "cell_type": "markdown",
   "id": "ba650835",
   "metadata": {},
   "source": [
    "You may also open up the `project.py` file directly to learn about the functions provided. E.g., you might see this:\n",
    "\n",
    "```python\n",
    "def count():\n",
    "    \"\"\"This function will return the number of records in the dataset\"\"\"\n",
    "    return len(__hurricane__)\n",
    "```\n",
    "\n",
    "You don't need to understand the code in the functions, but the strings in triple quotes (called *docstrings*) explain what each function does. As it turns out, all `project.count.__doc__` is providing you is the docstring of the `count` function.\n",
    "\n",
    "Try to learn other functions in `project.py`, by using `help` function. For example, you may try: "
   ]
  },
  {
   "cell_type": "code",
   "execution_count": 75,
   "id": "33648ffb",
   "metadata": {},
   "outputs": [
    {
     "name": "stdout",
     "output_type": "stream",
     "text": [
      "Help on function get_name in module project:\n",
      "\n",
      "get_name(idx)\n",
      "    get_name(idx) returns the name of the hurricane in row idx\n",
      "\n",
      "Help on function get_formed in module project:\n",
      "\n",
      "get_formed(idx)\n",
      "    get_formed(idx) returns the date of formation of the hurricane in row idx\n",
      "\n"
     ]
    }
   ],
   "source": [
    "help(project.get_name)\n",
    "help(project.get_formed)\n",
    "help(project.get_formed)"
   ]
  },
  {
   "cell_type": "code",
   "execution_count": 13,
   "id": "7cf33b37",
   "metadata": {
    "tags": []
   },
   "outputs": [
    {
     "data": {
      "text/plain": [
       "['__builtins__',\n",
       " '__cached__',\n",
       " '__doc__',\n",
       " '__file__',\n",
       " '__hurricane__',\n",
       " '__init__',\n",
       " '__loader__',\n",
       " '__name__',\n",
       " '__package__',\n",
       " '__spec__',\n",
       " 'count',\n",
       " 'get_damage',\n",
       " 'get_deaths',\n",
       " 'get_dissipated',\n",
       " 'get_formed',\n",
       " 'get_mph',\n",
       " 'get_name']"
      ]
     },
     "execution_count": 13,
     "metadata": {},
     "output_type": "execute_result"
    }
   ],
   "source": [
    "# now try getting help for the other functions in the `project` module\n",
    "dir(project)"
   ]
  },
  {
   "cell_type": "markdown",
   "id": "69107f87",
   "metadata": {},
   "source": [
    "### Task 2.2.1: Getting familiar with `project.py`\n",
    "\n",
    "You will now demonstrate your familiarity with the functions inside the `project` module by answering a few simple questions. You must have already imported the `project` module to this notebook. Make sure you placed the `import` statememnt at the **top** of the notebook in the designated cell.\n",
    "\n",
    "**Remember:** In Computer Science, we start indexing at `0`."
   ]
  },
  {
   "cell_type": "markdown",
   "id": "f0468307",
   "metadata": {},
   "source": [
    "**Question 1.1:** What is the `name` of the hurricane at **index** `0`? "
   ]
  },
  {
   "cell_type": "code",
   "execution_count": 9,
   "id": "87a454af",
   "metadata": {
    "tags": []
   },
   "outputs": [
    {
     "data": {
      "text/plain": [
       "'1804 New England hurricane'"
      ]
     },
     "execution_count": 9,
     "metadata": {},
     "output_type": "execute_result"
    }
   ],
   "source": [
    "# we have done this for you!\n",
    "name_idx0 = project.get_name(0)\n",
    "\n",
    "name_idx0"
   ]
  },
  {
   "cell_type": "code",
   "execution_count": 10,
   "id": "9599ed5b",
   "metadata": {
    "deletable": false,
    "editable": false
   },
   "outputs": [
    {
     "data": {
      "text/html": [
       "<p><strong><pre style='display: inline;'>q1-1</pre></strong> passed!</p>"
      ],
      "text/plain": [
       "q1-1 results: All test cases passed!"
      ]
     },
     "execution_count": 10,
     "metadata": {},
     "output_type": "execute_result"
    }
   ],
   "source": [
    "grader.check(\"q1-1\")"
   ]
  },
  {
   "cell_type": "markdown",
   "id": "460a10de",
   "metadata": {},
   "source": [
    "**Question 1.2:** What is the `name` of the hurricane at **index** `1`? "
   ]
  },
  {
   "cell_type": "code",
   "execution_count": 11,
   "id": "6fdcd88a",
   "metadata": {
    "scrolled": true,
    "tags": []
   },
   "outputs": [
    {
     "data": {
      "text/plain": [
       "'1806 Great Coastal hurricane'"
      ]
     },
     "execution_count": 11,
     "metadata": {},
     "output_type": "execute_result"
    }
   ],
   "source": [
    "# replace the ... below with your code\n",
    "name_idx1 = project.get_name(1)\n",
    "name_idx1"
   ]
  },
  {
   "cell_type": "code",
   "execution_count": 12,
   "id": "c701b3ca",
   "metadata": {
    "deletable": false,
    "editable": false
   },
   "outputs": [
    {
     "data": {
      "text/html": [
       "<p><strong><pre style='display: inline;'>q1-2</pre></strong> passed!</p>"
      ],
      "text/plain": [
       "q1-2 results: All test cases passed!"
      ]
     },
     "execution_count": 12,
     "metadata": {},
     "output_type": "execute_result"
    }
   ],
   "source": [
    "grader.check(\"q1-2\")"
   ]
  },
  {
   "cell_type": "markdown",
   "id": "31169275",
   "metadata": {},
   "source": [
    "**Question 1.3:** What is the speed in `mph` of the hurricane at **index** `7`? "
   ]
  },
  {
   "cell_type": "code",
   "execution_count": 14,
   "id": "88a848d1",
   "metadata": {
    "tags": []
   },
   "outputs": [
    {
     "data": {
      "text/plain": [
       "105"
      ]
     },
     "execution_count": 14,
     "metadata": {},
     "output_type": "execute_result"
    }
   ],
   "source": [
    "# replace the ... below with your code\n",
    "mph_idx7 = project.get_mph(7)\n",
    "mph_idx7"
   ]
  },
  {
   "cell_type": "code",
   "execution_count": 15,
   "id": "2f95cd1e",
   "metadata": {
    "deletable": false,
    "editable": false
   },
   "outputs": [
    {
     "data": {
      "text/html": [
       "<p><strong><pre style='display: inline;'>q1-3</pre></strong> passed!</p>"
      ],
      "text/plain": [
       "q1-3 results: All test cases passed!"
      ]
     },
     "execution_count": 15,
     "metadata": {},
     "output_type": "execute_result"
    }
   ],
   "source": [
    "grader.check(\"q1-3\")"
   ]
  },
  {
   "cell_type": "markdown",
   "id": "b04e1e77",
   "metadata": {},
   "source": [
    "**Question 1.4:** What is the `damage` in dollars caused of the hurricane at **index** `5`? "
   ]
  },
  {
   "cell_type": "code",
   "execution_count": 18,
   "id": "9340bf3f",
   "metadata": {
    "tags": []
   },
   "outputs": [
    {
     "data": {
      "text/plain": [
       "'1M'"
      ]
     },
     "execution_count": 18,
     "metadata": {},
     "output_type": "execute_result"
    }
   ],
   "source": [
    "# replace the ... below with your code\n",
    "damage_idx5 = project.get_damage(5)\n",
    "damage_idx5"
   ]
  },
  {
   "cell_type": "code",
   "execution_count": 19,
   "id": "eb12a906",
   "metadata": {
    "deletable": false,
    "editable": false
   },
   "outputs": [
    {
     "data": {
      "text/html": [
       "<p><strong><pre style='display: inline;'>q1-4</pre></strong> passed!</p>"
      ],
      "text/plain": [
       "q1-4 results: All test cases passed!"
      ]
     },
     "execution_count": 19,
     "metadata": {},
     "output_type": "execute_result"
    }
   ],
   "source": [
    "grader.check(\"q1-4\")"
   ]
  },
  {
   "cell_type": "markdown",
   "id": "c2431aa4",
   "metadata": {},
   "source": [
    "Notice that the damage amount ends with a \"M\". In this dataset, \"K\" represents one thousand, \"M\" represents one million, and \"B\" represents one billion. For p5, you'll need to convert these strings to integers (e.g., `\"1.5K\"` will become `1500`, `\"2.55M\"` will become `2550000`)."
   ]
  },
  {
   "cell_type": "markdown",
   "id": "581fd4cb",
   "metadata": {},
   "source": [
    "**Question 2:** What is the `name` of the **last** hurricane in the dataset?"
   ]
  },
  {
   "cell_type": "code",
   "execution_count": 20,
   "id": "f7ba7233",
   "metadata": {
    "tags": []
   },
   "outputs": [
    {
     "data": {
      "text/plain": [
       "'Fiona'"
      ]
     },
     "execution_count": 20,
     "metadata": {},
     "output_type": "execute_result"
    }
   ],
   "source": [
    "# we have done this for you!\n",
    "name_idx_last = project.get_name(project.count() - 1)\n",
    "name_idx_last"
   ]
  },
  {
   "cell_type": "code",
   "execution_count": 21,
   "id": "e05a03c6",
   "metadata": {
    "deletable": false,
    "editable": false
   },
   "outputs": [
    {
     "data": {
      "text/html": [
       "<p><strong><pre style='display: inline;'>q2</pre></strong> passed!</p>"
      ],
      "text/plain": [
       "q2 results: All test cases passed!"
      ]
     },
     "execution_count": 21,
     "metadata": {},
     "output_type": "execute_result"
    }
   ],
   "source": [
    "grader.check(\"q2\")"
   ]
  },
  {
   "cell_type": "markdown",
   "id": "ce5a9f74",
   "metadata": {},
   "source": [
    "Now, let us try to get the `name` at index `project.count()` instead. What happens? Why? Feel free to reach out to your TA/PM, if you are not sure."
   ]
  },
  {
   "cell_type": "code",
   "execution_count": 23,
   "id": "faf4ba8c",
   "metadata": {
    "tags": []
   },
   "outputs": [
    {
     "data": {
      "text/plain": [
       "'Fiona'"
      ]
     },
     "execution_count": 23,
     "metadata": {},
     "output_type": "execute_result"
    }
   ],
   "source": [
    "# execute this cell without changing anything\n",
    "project.get_name(project.count()-1)"
   ]
  },
  {
   "cell_type": "markdown",
   "id": "bda1e187",
   "metadata": {},
   "source": [
    "## Segment 3: Working with strings"
   ]
  },
  {
   "cell_type": "markdown",
   "id": "8a755004",
   "metadata": {},
   "source": [
    "### Task 3.1: Indexing / slicing Strings\n",
    "\n",
    "Stepping back from the Hurricane data, Tasks 3.1 and 3.2 introduce us to performing operations with strings. While this will be covered in more detail during Friday's lecture, we will cover the essentials now.\n",
    "\n",
    "We can think of a string as a sequence of characters. For example, the string `my_str = 'hello_world!'` can be written as...\n",
    "\n",
    "| index  | 0    | 1    | 2    | 3    | 4    | 5    | 6    | 7    | 8    | 9    | 10   | 11   |\n",
    "| ------ | ---- | ---- | ---- | ---- | ---- | ---- | ---- | ---- | ---- | ---- | ---- | ---- |\n",
    "| string | h    | e    | l    | l    | o    | _    | w    | o    | r    | l    | d    | !    |\n",
    "\n",
    "... where we can then access specific characters of the string by an index, e.g. `my_str[0]` which returns `'h'` or `my_str[8]` which returns `'r'`.\n",
    "\n",
    "Furthermore, we can \"slice\" strings -- that is, get a particular section of characters. For example,\n",
    "\n",
    "- `my_str[1:5]` returns `'ello'`\n",
    "- `my_str[:8]` returns `'hello_wo'`\n",
    "- `my_str[5:]` returns `'_world!'`\n",
    "- `my_str[:]` returns `'hello_world!'`\n",
    "\n",
    "Try running this in the cell below."
   ]
  },
  {
   "cell_type": "code",
   "execution_count": 24,
   "id": "ea50ae49",
   "metadata": {},
   "outputs": [
    {
     "name": "stdout",
     "output_type": "stream",
     "text": [
      "my_str[0] returns h\n",
      "my_str[8] returns r\n",
      "my_str[1:5] returns ello\n",
      "my_str[:8] returns hello_wo\n",
      "my_str[5:] returns _world!\n",
      "my_str[:] returns hello_world!\n"
     ]
    }
   ],
   "source": [
    "my_str = 'hello_world!'\n",
    "print(\"my_str[0] returns\", my_str[0])\n",
    "print(\"my_str[8] returns\", my_str[8])\n",
    "print(\"my_str[1:5] returns\", my_str[1:5])\n",
    "print(\"my_str[:8] returns\", my_str[:8])\n",
    "print(\"my_str[5:] returns\", my_str[5:])\n",
    "print(\"my_str[:] returns\", my_str[:])"
   ]
  },
  {
   "cell_type": "markdown",
   "id": "ad6bd97b",
   "metadata": {},
   "source": [
    "Notice that slicing is *inclusive* on the lower bound and *exclusive* on the upper bound. We can also leave out a bound to start from the beginning (e.g. `my_str[:6]`) or the end (e.g. `my_str[8:]`). Lastly, a negative index will count *backwards* from the *end* of the string.\n",
    "\n",
    "Try running the cell below."
   ]
  },
  {
   "cell_type": "code",
   "execution_count": 25,
   "id": "a2aa43fe",
   "metadata": {},
   "outputs": [
    {
     "name": "stdout",
     "output_type": "stream",
     "text": [
      "my_str[-1] returns !\n",
      "my_str[-4:-1] returns rld\n"
     ]
    }
   ],
   "source": [
    "print(\"my_str[-1] returns\", my_str[-1])\n",
    "print(\"my_str[-4:-1] returns\", my_str[-4:-1])"
   ]
  },
  {
   "cell_type": "markdown",
   "id": "b91dadbd",
   "metadata": {},
   "source": [
    "**Your Turn!** Try slicing the below phone number! Can you extract the area code (first 3 digits), exchange code (middle 3 digits), and line number (last 4 digits) of the given phone number?"
   ]
  },
  {
   "cell_type": "markdown",
   "id": "23d637e7",
   "metadata": {},
   "source": [
    "**Question 3.1:** What is the **last digit** of the phone number: `608-867-5309`?"
   ]
  },
  {
   "cell_type": "code",
   "execution_count": 26,
   "id": "268ef563",
   "metadata": {
    "tags": []
   },
   "outputs": [
    {
     "data": {
      "text/plain": [
       "'9'"
      ]
     },
     "execution_count": 26,
     "metadata": {},
     "output_type": "execute_result"
    }
   ],
   "source": [
    "# replace the ... with your code\n",
    "phone_number = \"608-867-5309\"\n",
    "last_digit = phone_number[11\n",
    "                    ]\n",
    "\n",
    "last_digit"
   ]
  },
  {
   "cell_type": "code",
   "execution_count": 27,
   "id": "8a1827e6",
   "metadata": {
    "deletable": false,
    "editable": false
   },
   "outputs": [
    {
     "data": {
      "text/html": [
       "<p><strong><pre style='display: inline;'>q3-1</pre></strong> passed!</p>"
      ],
      "text/plain": [
       "q3-1 results: All test cases passed!"
      ]
     },
     "execution_count": 27,
     "metadata": {},
     "output_type": "execute_result"
    }
   ],
   "source": [
    "grader.check(\"q3-1\")"
   ]
  },
  {
   "cell_type": "markdown",
   "id": "85e81772",
   "metadata": {},
   "source": [
    "**Question 3.2:** What is the **area code** (i.e., the first three characters) of the phone number: `608-867-5309`?"
   ]
  },
  {
   "cell_type": "code",
   "execution_count": 30,
   "id": "cb530940",
   "metadata": {
    "tags": []
   },
   "outputs": [
    {
     "data": {
      "text/plain": [
       "'608'"
      ]
     },
     "execution_count": 30,
     "metadata": {},
     "output_type": "execute_result"
    }
   ],
   "source": [
    "# replace the ... with your code\n",
    "phone_number = \"608-867-5309\"\n",
    "area_code = phone_number[:3]\n",
    "\n",
    "area_code"
   ]
  },
  {
   "cell_type": "code",
   "execution_count": 31,
   "id": "e96b8b24",
   "metadata": {
    "deletable": false,
    "editable": false
   },
   "outputs": [
    {
     "data": {
      "text/html": [
       "<p><strong><pre style='display: inline;'>q3-2</pre></strong> passed!</p>"
      ],
      "text/plain": [
       "q3-2 results: All test cases passed!"
      ]
     },
     "execution_count": 31,
     "metadata": {},
     "output_type": "execute_result"
    }
   ],
   "source": [
    "grader.check(\"q3-2\")"
   ]
  },
  {
   "cell_type": "markdown",
   "id": "a315496a",
   "metadata": {},
   "source": [
    "**Question 3.3:** What is the **line number** (i.e., the last four characters) of the phone number: `608-867-5309`?"
   ]
  },
  {
   "cell_type": "code",
   "execution_count": 32,
   "id": "f16daa1e",
   "metadata": {
    "tags": []
   },
   "outputs": [
    {
     "data": {
      "text/plain": [
       "'5309'"
      ]
     },
     "execution_count": 32,
     "metadata": {},
     "output_type": "execute_result"
    }
   ],
   "source": [
    "# replace the ... with your code\n",
    "phone_number = \"608-867-5309\"\n",
    "line_number = phone_number[8:]\n",
    "\n",
    "line_number"
   ]
  },
  {
   "cell_type": "code",
   "execution_count": 33,
   "id": "44989b68",
   "metadata": {
    "deletable": false,
    "editable": false
   },
   "outputs": [
    {
     "data": {
      "text/html": [
       "<p><strong><pre style='display: inline;'>q3-3</pre></strong> passed!</p>"
      ],
      "text/plain": [
       "q3-3 results: All test cases passed!"
      ]
     },
     "execution_count": 33,
     "metadata": {},
     "output_type": "execute_result"
    }
   ],
   "source": [
    "grader.check(\"q3-3\")"
   ]
  },
  {
   "cell_type": "markdown",
   "id": "573faf27",
   "metadata": {},
   "source": [
    "**Question 3.4:** What is the **exchange code** (i.e., middle three characters) of the phone number: `608-867-5309`?"
   ]
  },
  {
   "cell_type": "code",
   "execution_count": 34,
   "id": "3a7b68a5",
   "metadata": {
    "tags": []
   },
   "outputs": [
    {
     "data": {
      "text/plain": [
       "'867'"
      ]
     },
     "execution_count": 34,
     "metadata": {},
     "output_type": "execute_result"
    }
   ],
   "source": [
    "# replace the ... with your code\n",
    "phone_number = \"608-867-5309\"\n",
    "exchange_code = phone_number[4:7]\n",
    "\n",
    "exchange_code"
   ]
  },
  {
   "cell_type": "code",
   "execution_count": 35,
   "id": "a4e7a3ae",
   "metadata": {
    "deletable": false,
    "editable": false
   },
   "outputs": [
    {
     "data": {
      "text/html": [
       "<p><strong><pre style='display: inline;'>q3-4</pre></strong> passed!</p>"
      ],
      "text/plain": [
       "q3-4 results: All test cases passed!"
      ]
     },
     "execution_count": 35,
     "metadata": {},
     "output_type": "execute_result"
    }
   ],
   "source": [
    "grader.check(\"q3-4\")"
   ]
  },
  {
   "cell_type": "markdown",
   "id": "c5f066fb",
   "metadata": {},
   "source": [
    "**Question 4.1:** What is the **department code** (i.e., the letters at the start) of the course: `CS220`?"
   ]
  },
  {
   "cell_type": "code",
   "execution_count": 36,
   "id": "3943d514",
   "metadata": {
    "tags": []
   },
   "outputs": [
    {
     "data": {
      "text/plain": [
       "'CS'"
      ]
     },
     "execution_count": 36,
     "metadata": {},
     "output_type": "execute_result"
    }
   ],
   "source": [
    "course = 'CS220'\n",
    "dept_code = course[:2]\n",
    "\n",
    "dept_code"
   ]
  },
  {
   "cell_type": "code",
   "execution_count": 37,
   "id": "c3a574ee",
   "metadata": {
    "deletable": false,
    "editable": false
   },
   "outputs": [
    {
     "data": {
      "text/html": [
       "<p><strong><pre style='display: inline;'>q4-1</pre></strong> passed!</p>"
      ],
      "text/plain": [
       "q4-1 results: All test cases passed!"
      ]
     },
     "execution_count": 37,
     "metadata": {},
     "output_type": "execute_result"
    }
   ],
   "source": [
    "grader.check(\"q4-1\")"
   ]
  },
  {
   "cell_type": "markdown",
   "id": "a5ccdc76",
   "metadata": {},
   "source": [
    "**Question 4.2:** What is the **course code** (i.e., the numbers at the end) of the course: `CS220`?"
   ]
  },
  {
   "cell_type": "code",
   "execution_count": 38,
   "id": "51b104c2",
   "metadata": {
    "tags": []
   },
   "outputs": [
    {
     "data": {
      "text/plain": [
       "'220'"
      ]
     },
     "execution_count": 38,
     "metadata": {},
     "output_type": "execute_result"
    }
   ],
   "source": [
    "course = 'CS220'\n",
    "course_code = course[2:5]\n",
    "\n",
    "course_code"
   ]
  },
  {
   "cell_type": "code",
   "execution_count": 39,
   "id": "51a9ec37",
   "metadata": {
    "deletable": false,
    "editable": false
   },
   "outputs": [
    {
     "data": {
      "text/html": [
       "<p><strong><pre style='display: inline;'>q4-2</pre></strong> passed!</p>"
      ],
      "text/plain": [
       "q4-2 results: All test cases passed!"
      ]
     },
     "execution_count": 39,
     "metadata": {},
     "output_type": "execute_result"
    }
   ],
   "source": [
    "grader.check(\"q4-2\")"
   ]
  },
  {
   "cell_type": "markdown",
   "id": "b5960ec9",
   "metadata": {},
   "source": [
    "After that short detour, we will now go back to working on the hurricane dataset.\n",
    "\n",
    "### Task 3.2: Calculating Damage Costs\n",
    "\n",
    "`Q1.4` showed us that damage costs are represented as strings with suffixes for thousands, millions, and billions.\n",
    "\n",
    "We can **index** the last character of these damages to find the suffix. We can then potentially use it to determine whether the suffix represents a thousand, million, or a billion."
   ]
  },
  {
   "cell_type": "markdown",
   "id": "434202b9",
   "metadata": {},
   "source": [
    "**Question 5.1:** What is the **suffix** (i.e., the last character) of the cost `\"3.19B\"`?"
   ]
  },
  {
   "cell_type": "code",
   "execution_count": 40,
   "id": "49c62b08",
   "metadata": {
    "tags": []
   },
   "outputs": [
    {
     "data": {
      "text/plain": [
       "'B'"
      ]
     },
     "execution_count": 40,
     "metadata": {},
     "output_type": "execute_result"
    }
   ],
   "source": [
    "# replace the ... with your code\n",
    "cost = \"3.19B\"\n",
    "suffix = cost[4]\n",
    "\n",
    "suffix"
   ]
  },
  {
   "cell_type": "code",
   "execution_count": 41,
   "id": "3ef02418",
   "metadata": {
    "deletable": false,
    "editable": false
   },
   "outputs": [
    {
     "data": {
      "text/html": [
       "<p><strong><pre style='display: inline;'>q5-1</pre></strong> passed!</p>"
      ],
      "text/plain": [
       "q5-1 results: All test cases passed!"
      ]
     },
     "execution_count": 41,
     "metadata": {},
     "output_type": "execute_result"
    }
   ],
   "source": [
    "grader.check(\"q5-1\")"
   ]
  },
  {
   "cell_type": "markdown",
   "id": "93cebe72",
   "metadata": {},
   "source": [
    "**Question 5.2:** How many billions are there in the cost `\"3.19B\"`?\n",
    "\n",
    "Just as we found the suffix by **indexing**, we can also find the number by **slicing**. Answer the question by slicing the string to obtain the number of billions, and typecasting the string into a float."
   ]
  },
  {
   "cell_type": "code",
   "execution_count": 42,
   "id": "d5fa301b",
   "metadata": {
    "tags": []
   },
   "outputs": [
    {
     "data": {
      "text/plain": [
       "3.19"
      ]
     },
     "execution_count": 42,
     "metadata": {},
     "output_type": "execute_result"
    }
   ],
   "source": [
    "# replace the ... with your code\n",
    "cost = \"3.19B\"\n",
    "billions = float(cost[:4])\n",
    "\n",
    "billions"
   ]
  },
  {
   "cell_type": "code",
   "execution_count": 43,
   "id": "39c5db16",
   "metadata": {
    "deletable": false,
    "editable": false
   },
   "outputs": [
    {
     "data": {
      "text/html": [
       "<p><strong><pre style='display: inline;'>q5-2</pre></strong> passed!</p>"
      ],
      "text/plain": [
       "q5-2 results: All test cases passed!"
      ]
     },
     "execution_count": 43,
     "metadata": {},
     "output_type": "execute_result"
    }
   ],
   "source": [
    "grader.check(\"q5-2\")"
   ]
  },
  {
   "cell_type": "markdown",
   "id": "c3073bd6",
   "metadata": {},
   "source": [
    "### Task 3.3: Slicing dates\n",
    "\n",
    "Run the below cell which prints the formation and dissipation date of the first hurricane."
   ]
  },
  {
   "cell_type": "code",
   "execution_count": null,
   "id": "47ef5b05",
   "metadata": {},
   "outputs": [],
   "source": [
    "print(project.get_formed(0))\n",
    "print(project.get_dissipated(0))"
   ]
  },
  {
   "cell_type": "markdown",
   "id": "de24845a",
   "metadata": {},
   "source": [
    "The dates are represented as a string in `mm/dd/yyyy` notation. Two digits are used to represent the month and day even when they can be represented with a single digit, that is, `'9/4/1804'` is represented as `'09/04/1804'`.\n",
    "\n",
    "To extract the month, we could run the following code..."
   ]
  },
  {
   "cell_type": "code",
   "execution_count": null,
   "id": "60934995",
   "metadata": {},
   "outputs": [],
   "source": [
    "project.get_formed(0)[:2]"
   ]
  },
  {
   "cell_type": "markdown",
   "id": "5f140cbb",
   "metadata": {},
   "source": [
    "Notice, however, that this is the *string* `'09'`.\n",
    "\n",
    "Write the code to get this as the *int* (e.g. `9`)."
   ]
  },
  {
   "cell_type": "markdown",
   "id": "3fda6fd2",
   "metadata": {},
   "source": [
    "**Question 6:** In which `month` did the hurricane at **index** `0` form?\n",
    "\n",
    "Your answer **must** be an `int` between `1` and `12`. You **must not** hardcode the answer, but use the appropriate function from the `project` module to find the date of formation of the hurricane."
   ]
  },
  {
   "cell_type": "code",
   "execution_count": 46,
   "id": "32b38883",
   "metadata": {
    "tags": []
   },
   "outputs": [
    {
     "data": {
      "text/plain": [
       "9"
      ]
     },
     "execution_count": 46,
     "metadata": {},
     "output_type": "execute_result"
    }
   ],
   "source": [
    "# replace the ... with your code\n",
    "month_idx0 = int(project.get_formed(0)[1:2])\n",
    "month_idx0"
   ]
  },
  {
   "cell_type": "code",
   "execution_count": 47,
   "id": "26dbdaaf",
   "metadata": {
    "deletable": false,
    "editable": false
   },
   "outputs": [
    {
     "data": {
      "text/html": [
       "<p><strong><pre style='display: inline;'>q6</pre></strong> passed!</p>"
      ],
      "text/plain": [
       "q6 results: All test cases passed!"
      ]
     },
     "execution_count": 47,
     "metadata": {},
     "output_type": "execute_result"
    }
   ],
   "source": [
    "grader.check(\"q6\")"
   ]
  },
  {
   "cell_type": "markdown",
   "id": "0ba646b7",
   "metadata": {},
   "source": [
    "### Task 3.4: Helper Functions for Month, Day, and Year\n",
    "\n",
    "The below functions will be useful in p5. Solve the below questions for getting the day, and year as an int. The function to get the month has already been done for you."
   ]
  },
  {
   "cell_type": "code",
   "execution_count": 48,
   "id": "147321ac",
   "metadata": {},
   "outputs": [],
   "source": [
    "def get_month(date):\n",
    "    \"\"\"get_month(date) returns the month when the date is the in the 'mm/dd/yyyy' format\"\"\"\n",
    "    return int(date[:2])"
   ]
  },
  {
   "cell_type": "markdown",
   "id": "ec811c71",
   "metadata": {},
   "source": [
    "You can confirm that `get_month` works by running the cell below."
   ]
  },
  {
   "cell_type": "code",
   "execution_count": 49,
   "id": "0d5cba56",
   "metadata": {},
   "outputs": [
    {
     "data": {
      "text/plain": [
       "10"
      ]
     },
     "execution_count": 49,
     "metadata": {},
     "output_type": "execute_result"
    }
   ],
   "source": [
    "month = get_month(\"10/05/2022\")\n",
    "month"
   ]
  },
  {
   "cell_type": "markdown",
   "id": "bb1cfbbc",
   "metadata": {},
   "source": [
    "### Task 3.4.1: Define `get_year(date)`\n",
    "\n",
    "You must now define this function, which will take in the `date` as a `str` and return the `year` as an `int`."
   ]
  },
  {
   "cell_type": "code",
   "execution_count": 60,
   "id": "cf457247",
   "metadata": {
    "tags": []
   },
   "outputs": [],
   "source": [
    "def get_year(date):\n",
    "    return int(date[6:10])"
   ]
  },
  {
   "cell_type": "markdown",
   "id": "cad3cd3d",
   "metadata": {},
   "source": [
    "**Question 7:** What is the `year` in the date `\"10/05/2022\"`?\n",
    "\n",
    "You **must** answer this question by calling the `get_year` function."
   ]
  },
  {
   "cell_type": "code",
   "execution_count": 61,
   "id": "7f1a82c2",
   "metadata": {
    "tags": []
   },
   "outputs": [
    {
     "data": {
      "text/plain": [
       "2022"
      ]
     },
     "execution_count": 61,
     "metadata": {},
     "output_type": "execute_result"
    }
   ],
   "source": [
    "# replace the ... with your code\n",
    "year = get_year(\"10/05/2022\")\n",
    "year"
   ]
  },
  {
   "cell_type": "code",
   "execution_count": 62,
   "id": "4d8d072c",
   "metadata": {
    "deletable": false,
    "editable": false
   },
   "outputs": [
    {
     "data": {
      "text/html": [
       "<p><strong><pre style='display: inline;'>q7</pre></strong> passed!</p>"
      ],
      "text/plain": [
       "q7 results: All test cases passed!"
      ]
     },
     "execution_count": 62,
     "metadata": {},
     "output_type": "execute_result"
    }
   ],
   "source": [
    "grader.check(\"q7\")"
   ]
  },
  {
   "cell_type": "markdown",
   "id": "614e039d",
   "metadata": {},
   "source": [
    "### Task 3.4.2: Define `get_day(date)`\n",
    "\n",
    "You must now define this function, which will take in the `date` as a `str` and return the `day` as an `int`."
   ]
  },
  {
   "cell_type": "code",
   "execution_count": 63,
   "id": "26079a79",
   "metadata": {
    "tags": []
   },
   "outputs": [],
   "source": [
    "def get_day(date):\n",
    "    \"\"\"get_day(date) returns the day when the date is the in the 'mm/dd/yyyy' format\"\"\"\n",
    "    return int(date[3:5])"
   ]
  },
  {
   "cell_type": "markdown",
   "id": "9ba10faf",
   "metadata": {},
   "source": [
    "**Question 8:** What is the `day` in the date `\"10/05/2022\"`?\n",
    "\n",
    "You **must** answer this question by calling the `get_day` function."
   ]
  },
  {
   "cell_type": "code",
   "execution_count": 64,
   "id": "3319da66",
   "metadata": {
    "tags": []
   },
   "outputs": [
    {
     "data": {
      "text/plain": [
       "5"
      ]
     },
     "execution_count": 64,
     "metadata": {},
     "output_type": "execute_result"
    }
   ],
   "source": [
    "# replace the ... with your code\n",
    "day = get_day(\"10/05/2022\")\n",
    "day"
   ]
  },
  {
   "cell_type": "code",
   "execution_count": 65,
   "id": "eab11beb",
   "metadata": {
    "deletable": false,
    "editable": false
   },
   "outputs": [
    {
     "data": {
      "text/html": [
       "<p><strong><pre style='display: inline;'>q8</pre></strong> passed!</p>"
      ],
      "text/plain": [
       "q8 results: All test cases passed!"
      ]
     },
     "execution_count": 65,
     "metadata": {},
     "output_type": "execute_result"
    }
   ],
   "source": [
    "grader.check(\"q8\")"
   ]
  },
  {
   "cell_type": "markdown",
   "id": "a088adc2",
   "metadata": {},
   "source": [
    "### Task 3.5: Using Helper Functions\n",
    "\n",
    "Using the helper functions you made above, complete the following questions.\n",
    "\n",
    "**Hint:** You'll use these helper functions in combination with `project.get_formed(idx)` and `project.get_dissipated(idx)`!"
   ]
  },
  {
   "cell_type": "markdown",
   "id": "eeb27630",
   "metadata": {},
   "source": [
    "**Question 9:** On what `day` did the hurricane at **index** `100` **form**?\n",
    "\n",
    "You **must** answer this question by calling the `get_day` function."
   ]
  },
  {
   "cell_type": "code",
   "execution_count": 67,
   "id": "552770ea",
   "metadata": {},
   "outputs": [
    {
     "ename": "NameError",
     "evalue": "name 'idx' is not defined",
     "output_type": "error",
     "traceback": [
      "\u001b[0;31m---------------------------------------------------------------------------\u001b[0m",
      "\u001b[0;31mNameError\u001b[0m                                 Traceback (most recent call last)",
      "Input \u001b[0;32mIn [67]\u001b[0m, in \u001b[0;36m<cell line: 1>\u001b[0;34m()\u001b[0m\n\u001b[0;32m----> 1\u001b[0m help(project\u001b[38;5;241m.\u001b[39mget_formed(\u001b[43midx\u001b[49m))\n",
      "\u001b[0;31mNameError\u001b[0m: name 'idx' is not defined"
     ]
    }
   ],
   "source": [
    "help(project.get_formed(idx))"
   ]
  },
  {
   "cell_type": "code",
   "execution_count": 80,
   "id": "dde28812",
   "metadata": {
    "tags": []
   },
   "outputs": [
    {
     "data": {
      "text/plain": [
       "13"
      ]
     },
     "execution_count": 80,
     "metadata": {},
     "output_type": "execute_result"
    }
   ],
   "source": [
    "# replace the ... with your code\n",
    "day_formed_idx100 = get_day(project.get_formed(100))\n",
    "day_formed_idx100"
   ]
  },
  {
   "cell_type": "code",
   "execution_count": 81,
   "id": "3b1032d2",
   "metadata": {
    "deletable": false,
    "editable": false
   },
   "outputs": [
    {
     "data": {
      "text/html": [
       "<p><strong><pre style='display: inline;'>q9</pre></strong> passed!</p>"
      ],
      "text/plain": [
       "q9 results: All test cases passed!"
      ]
     },
     "execution_count": 81,
     "metadata": {},
     "output_type": "execute_result"
    }
   ],
   "source": [
    "grader.check(\"q9\")"
   ]
  },
  {
   "cell_type": "markdown",
   "id": "1f912f89",
   "metadata": {},
   "source": [
    "**Question 10:** On what `year` did the hurricane at **index** `200` **form**?\n",
    "\n",
    "You **must** answer this question by calling the `get_year` function."
   ]
  },
  {
   "cell_type": "code",
   "execution_count": 82,
   "id": "9f11e986",
   "metadata": {
    "tags": []
   },
   "outputs": [
    {
     "data": {
      "text/plain": [
       "1979"
      ]
     },
     "execution_count": 82,
     "metadata": {},
     "output_type": "execute_result"
    }
   ],
   "source": [
    "# replace with your code\n",
    "year_formed_idx200 = get_year(project.get_formed(200))\n",
    "year_formed_idx200"
   ]
  },
  {
   "cell_type": "code",
   "execution_count": 83,
   "id": "8bc3b091",
   "metadata": {
    "deletable": false,
    "editable": false
   },
   "outputs": [
    {
     "data": {
      "text/html": [
       "<p><strong><pre style='display: inline;'>q10</pre></strong> passed!</p>"
      ],
      "text/plain": [
       "q10 results: All test cases passed!"
      ]
     },
     "execution_count": 83,
     "metadata": {},
     "output_type": "execute_result"
    }
   ],
   "source": [
    "grader.check(\"q10\")"
   ]
  },
  {
   "cell_type": "markdown",
   "id": "3527891d",
   "metadata": {},
   "source": [
    "**Question 11:** On what `month` did the hurricane at **index** `300` **dissipate**?\n",
    "\n",
    "You **must** answer this question by calling the `get_month` function."
   ]
  },
  {
   "cell_type": "code",
   "execution_count": 84,
   "id": "922f9d98",
   "metadata": {
    "tags": []
   },
   "outputs": [
    {
     "data": {
      "text/plain": [
       "8"
      ]
     },
     "execution_count": 84,
     "metadata": {},
     "output_type": "execute_result"
    }
   ],
   "source": [
    "# replace the ... with your code\n",
    "month_diss_idx300 = get_month(project.get_formed(300))\n",
    "month_diss_idx300"
   ]
  },
  {
   "cell_type": "code",
   "execution_count": 85,
   "id": "52217eb2",
   "metadata": {
    "deletable": false,
    "editable": false
   },
   "outputs": [
    {
     "data": {
      "text/html": [
       "<p><strong><pre style='display: inline;'>q11</pre></strong> passed!</p>"
      ],
      "text/plain": [
       "q11 results: All test cases passed!"
      ]
     },
     "execution_count": 85,
     "metadata": {},
     "output_type": "execute_result"
    }
   ],
   "source": [
    "grader.check(\"q11\")"
   ]
  },
  {
   "cell_type": "markdown",
   "id": "e6ddf2fb",
   "metadata": {},
   "source": [
    "## Segment 4: Looping"
   ]
  },
  {
   "cell_type": "markdown",
   "id": "2360b944",
   "metadata": {},
   "source": [
    "### Task 4.1: `while` and `for` loops\n",
    "\n",
    "Run the below code and observe the output."
   ]
  },
  {
   "cell_type": "code",
   "execution_count": 86,
   "id": "a3a7ecd1",
   "metadata": {},
   "outputs": [
    {
     "name": "stdout",
     "output_type": "stream",
     "text": [
      "0\n",
      "1\n",
      "2\n",
      "3\n",
      "4\n"
     ]
    }
   ],
   "source": [
    "i = 0\n",
    "while i < 5:\n",
    "    print(i)\n",
    "    i += 1"
   ]
  },
  {
   "cell_type": "markdown",
   "id": "0be699ba",
   "metadata": {},
   "source": [
    "Equivalently, we can use `for` and `range(n)`. The `range(n)` function returns a sequence of numbers, from `0` to `n` but not including `n`."
   ]
  },
  {
   "cell_type": "code",
   "execution_count": 87,
   "id": "2187ff3e",
   "metadata": {},
   "outputs": [
    {
     "name": "stdout",
     "output_type": "stream",
     "text": [
      "0\n",
      "1\n",
      "2\n",
      "3\n",
      "4\n"
     ]
    }
   ],
   "source": [
    "for i in range(5):\n",
    "    print(i)"
   ]
  },
  {
   "cell_type": "markdown",
   "id": "c6b0a6cb",
   "metadata": {},
   "source": [
    "Now, we will try to use `while` and `for` loops to answer a few simple questions."
   ]
  },
  {
   "cell_type": "markdown",
   "id": "3be0b6c1",
   "metadata": {},
   "source": [
    "**Question 12:** What is the sum of the numbers *0 to 25*, both inclusive?\n",
    "\n",
    "You **must** answer this with a `while` loop. Ask your TA/PM if you are not sure what to do."
   ]
  },
  {
   "cell_type": "code",
   "execution_count": 88,
   "id": "997235fa",
   "metadata": {
    "tags": []
   },
   "outputs": [
    {
     "data": {
      "text/plain": [
       "325"
      ]
     },
     "execution_count": 88,
     "metadata": {},
     "output_type": "execute_result"
    }
   ],
   "source": [
    "i = 0\n",
    "sum_while = 0 # replace the ... with the correct initial value for the sum\n",
    "while i <= 25: # replace the ... with the correct comparison operator\n",
    "    sum_while += i \n",
    "    i += 1\n",
    "    \n",
    "sum_while"
   ]
  },
  {
   "cell_type": "code",
   "execution_count": 89,
   "id": "db38be0d",
   "metadata": {
    "deletable": false,
    "editable": false
   },
   "outputs": [
    {
     "data": {
      "text/html": [
       "<p><strong><pre style='display: inline;'>q12</pre></strong> passed!</p>"
      ],
      "text/plain": [
       "q12 results: All test cases passed!"
      ]
     },
     "execution_count": 89,
     "metadata": {},
     "output_type": "execute_result"
    }
   ],
   "source": [
    "grader.check(\"q12\")"
   ]
  },
  {
   "cell_type": "markdown",
   "id": "e8a1ce6d",
   "metadata": {},
   "source": [
    "**Question 13:** What is the sum of the numbers *0 to 25*, both inclusive?\n",
    "\n",
    "You **must** answer this with a `for` loop. Ask your TA/PM if you are not sure what to do."
   ]
  },
  {
   "cell_type": "code",
   "execution_count": 104,
   "id": "3ecbb697",
   "metadata": {
    "tags": []
   },
   "outputs": [
    {
     "data": {
      "text/plain": [
       "325"
      ]
     },
     "execution_count": 104,
     "metadata": {},
     "output_type": "execute_result"
    }
   ],
   "source": [
    "# replace the ... with your code\n",
    "sum_for = 0\n",
    "for i in range(26):\n",
    "    sum_for += i\n",
    "    i += 1\n",
    "sum_for"
   ]
  },
  {
   "cell_type": "code",
   "execution_count": 105,
   "id": "830abb17",
   "metadata": {
    "deletable": false,
    "editable": false
   },
   "outputs": [
    {
     "data": {
      "text/html": [
       "<p><strong><pre style='display: inline;'>q13</pre></strong> passed!</p>"
      ],
      "text/plain": [
       "q13 results: All test cases passed!"
      ]
     },
     "execution_count": 105,
     "metadata": {},
     "output_type": "execute_result"
    }
   ],
   "source": [
    "grader.check(\"q13\")"
   ]
  },
  {
   "cell_type": "markdown",
   "id": "caa42eb3",
   "metadata": {},
   "source": [
    "### Task 4.2: Looping through hurricanes\n",
    "\n",
    "You have had some practice with simple looping structures. You will now loop through the hurricanes dataset.\n",
    "\n",
    "Run the below code and observe the output."
   ]
  },
  {
   "cell_type": "code",
   "execution_count": 108,
   "id": "65ce5250",
   "metadata": {},
   "outputs": [
    {
     "name": "stdout",
     "output_type": "stream",
     "text": [
      "1804 New England hurricane\n",
      "1806 Great Coastal hurricane\n",
      "1812 Louisiana hurricane\n",
      "1821 Norfolk and Long Island hurricane\n",
      "1848 Tampa Bay hurricane\n",
      "1867 San Narciso hurricane\n",
      "1875 Indianola hurricane\n",
      "Gale of 1878\n",
      "1886 Indianola hurricane\n",
      "1887 Halloween tropical storm\n"
     ]
    }
   ],
   "source": [
    "for idx in range(10):\n",
    "    print(project.get_name(idx))"
   ]
  },
  {
   "cell_type": "markdown",
   "id": "16a1b09d",
   "metadata": {},
   "source": [
    "Can you make the code above display the year of the formation of the first 10 hurricanes? How about the first 15 hurricanes? Please feel free to reach out to your TA/PM and ask them for help, if you face any issues.\n",
    "\n",
    "You are now ready to answer some interesting questions with loops."
   ]
  },
  {
   "cell_type": "markdown",
   "id": "b02409fb",
   "metadata": {},
   "source": [
    "**Question 14:** What is the **total** `deaths` caused by the **first** `10` hurricanes in the dataset?"
   ]
  },
  {
   "cell_type": "code",
   "execution_count": 118,
   "id": "f3f4774d",
   "metadata": {
    "tags": []
   },
   "outputs": [
    {
     "data": {
      "text/plain": [
       "1920"
      ]
     },
     "execution_count": 118,
     "metadata": {},
     "output_type": "execute_result"
    }
   ],
   "source": [
    "# replace the ... with your code\n",
    "total_deaths_first10 = 0\n",
    "for idx in range(10):\n",
    "    total_deaths_first10 += project.get_deaths(idx)\n",
    "\n",
    "total_deaths_first10"
   ]
  },
  {
   "cell_type": "code",
   "execution_count": 119,
   "id": "77da3770",
   "metadata": {
    "deletable": false,
    "editable": false
   },
   "outputs": [
    {
     "data": {
      "text/html": [
       "<p><strong><pre style='display: inline;'>q14</pre></strong> passed!</p>"
      ],
      "text/plain": [
       "q14 results: All test cases passed!"
      ]
     },
     "execution_count": 119,
     "metadata": {},
     "output_type": "execute_result"
    }
   ],
   "source": [
    "grader.check(\"q14\")"
   ]
  },
  {
   "cell_type": "markdown",
   "id": "bfa23d34",
   "metadata": {},
   "source": [
    "**Question 15:** What is the **average** speed (in `mph`) of **all** the hurricanes in the dataset?"
   ]
  },
  {
   "cell_type": "code",
   "execution_count": 120,
   "id": "6c904c16",
   "metadata": {
    "tags": []
   },
   "outputs": [
    {
     "data": {
      "text/plain": [
       "99.44241316270566"
      ]
     },
     "execution_count": 120,
     "metadata": {},
     "output_type": "execute_result"
    }
   ],
   "source": [
    "# replace the ... with your code\n",
    "sum_wind_speed = 0\n",
    "for idx in range(project.count()):\n",
    "    sum_wind_speed += project.get_mph(idx)\n",
    "average_wind_speed = sum_wind_speed/project.count()\n",
    "\n",
    "average_wind_speed"
   ]
  },
  {
   "cell_type": "code",
   "execution_count": 121,
   "id": "1d6c85d4",
   "metadata": {
    "deletable": false,
    "editable": false
   },
   "outputs": [
    {
     "data": {
      "text/html": [
       "<p><strong><pre style='display: inline;'>q15</pre></strong> passed!</p>"
      ],
      "text/plain": [
       "q15 results: All test cases passed!"
      ]
     },
     "execution_count": 121,
     "metadata": {},
     "output_type": "execute_result"
    }
   ],
   "source": [
    "grader.check(\"q15\")"
   ]
  },
  {
   "cell_type": "markdown",
   "id": "740316b6",
   "metadata": {},
   "source": [
    "### Task 4.3: Filtering\n",
    "\n",
    "You will now *filter* the data using an `if` condition as you loop through the dataset."
   ]
  },
  {
   "cell_type": "markdown",
   "id": "de7ba8a2",
   "metadata": {},
   "source": [
    "**Question 16:** How many hurricanes caused **more than** `1000` deaths in the dataset?"
   ]
  },
  {
   "cell_type": "code",
   "execution_count": 134,
   "id": "41afb676",
   "metadata": {
    "tags": []
   },
   "outputs": [
    {
     "ename": "TypeError",
     "evalue": "'function' object is not subscriptable",
     "output_type": "error",
     "traceback": [
      "\u001b[0;31m---------------------------------------------------------------------------\u001b[0m",
      "\u001b[0;31mTypeError\u001b[0m                                 Traceback (most recent call last)",
      "Input \u001b[0;32mIn [134]\u001b[0m, in \u001b[0;36m<cell line: 8>\u001b[0;34m()\u001b[0m\n\u001b[1;32m      5\u001b[0m         num_hurr_1000_deaths \u001b[38;5;241m+\u001b[39m\u001b[38;5;241m=\u001b[39m \u001b[38;5;241m1\u001b[39m\n\u001b[1;32m      7\u001b[0m num_hurr_1000_deaths\n\u001b[0;32m----> 8\u001b[0m \u001b[38;5;28mprint\u001b[39m(\u001b[43mproject\u001b[49m\u001b[38;5;241;43m.\u001b[39;49m\u001b[43mget_name\u001b[49m\u001b[43m[\u001b[49m\u001b[43midx\u001b[49m\u001b[43m]\u001b[49m[\u001b[38;5;241m0\u001b[39m])\n",
      "\u001b[0;31mTypeError\u001b[0m: 'function' object is not subscriptable"
     ]
    }
   ],
   "source": [
    "# replace the ... with your code\n",
    "num_hurr_1000_deaths = 0\n",
    "for idx in range(project.count()): # loop through ALL hurricanes in the dataset; do NOT hardcode the number here\n",
    "    if project.get_deaths(idx) > 1000: # replace ... with a Boolean expression\n",
    "        num_hurr_1000_deaths += 1\n",
    "\n",
    "num_hurr_1000_dea"
   ]
  },
  {
   "cell_type": "code",
   "execution_count": 127,
   "id": "361e8b2d",
   "metadata": {
    "deletable": false,
    "editable": false
   },
   "outputs": [
    {
     "data": {
      "text/html": [
       "<p><strong><pre style='display: inline;'>q16</pre></strong> passed!</p>"
      ],
      "text/plain": [
       "q16 results: All test cases passed!"
      ]
     },
     "execution_count": 127,
     "metadata": {},
     "output_type": "execute_result"
    }
   ],
   "source": [
    "grader.check(\"q16\")"
   ]
  },
  {
   "cell_type": "markdown",
   "id": "0f6e860a",
   "metadata": {},
   "source": [
    "**Question 17:** How many hurricane `names` **start** with the letter *D* in the dataset?"
   ]
  },
  {
   "cell_type": "code",
   "execution_count": 135,
   "id": "ef23511b",
   "metadata": {
    "tags": []
   },
   "outputs": [
    {
     "data": {
      "text/plain": [
       "40"
      ]
     },
     "execution_count": 135,
     "metadata": {},
     "output_type": "execute_result"
    }
   ],
   "source": [
    "# compute and store the answer in the variable 'num_hurr_D'\n",
    "# TODO: initialize the variable 'num_hurr_D'\n",
    "# TODO: loop through all hurricanes in the dataset\n",
    "# TODO: update the value of 'num_hurr_D' only if\n",
    "#       the name of the hurricane at the current idx starts with 'D'\n",
    "\n",
    "num_hurr_D = 0\n",
    "for idx in range(project.count()):\n",
    "    if project.get_name(idx)[0] == \"D\":\n",
    "        num_hurr_D += 1\n",
    "    idx += 1\n",
    "# display the variable 'num_hurr_D' here\n",
    "num_hurr_D"
   ]
  },
  {
   "cell_type": "code",
   "execution_count": 136,
   "id": "a82e0de9",
   "metadata": {
    "deletable": false,
    "editable": false
   },
   "outputs": [
    {
     "data": {
      "text/html": [
       "<p><strong><pre style='display: inline;'>q17</pre></strong> passed!</p>"
      ],
      "text/plain": [
       "q17 results: All test cases passed!"
      ]
     },
     "execution_count": 136,
     "metadata": {},
     "output_type": "execute_result"
    }
   ],
   "source": [
    "grader.check(\"q17\")"
   ]
  },
  {
   "cell_type": "markdown",
   "id": "657a9d81",
   "metadata": {},
   "source": [
    "### Task 4.4: Maximization/Minimization\n",
    "\n",
    "You will now find the maximum/minimum using loops. Run the following two cells and observe the output."
   ]
  },
  {
   "cell_type": "code",
   "execution_count": 137,
   "id": "a2676f02",
   "metadata": {},
   "outputs": [
    {
     "name": "stdout",
     "output_type": "stream",
     "text": [
      "f(0) = 3\n",
      "f(1) = 4\n",
      "f(2) = 5\n",
      "f(3) = 6\n",
      "f(4) = 7\n",
      "f(5) = 8\n",
      "f(6) = 9\n",
      "f(7) = 3\n",
      "f(8) = 4\n",
      "f(9) = 5\n",
      "f(10) = 6\n"
     ]
    }
   ],
   "source": [
    "def f(n):\n",
    "    return 3 + (n % 7)\n",
    "\n",
    "for n in range(11):\n",
    "    print('f(' + str(n) + ') = ' + str(f(n)))"
   ]
  },
  {
   "cell_type": "code",
   "execution_count": 138,
   "id": "6d30522e",
   "metadata": {},
   "outputs": [
    {
     "data": {
      "text/plain": [
       "6"
      ]
     },
     "execution_count": 138,
     "metadata": {},
     "output_type": "execute_result"
    }
   ],
   "source": [
    "best_n = 0\n",
    "for n in range(11):\n",
    "    if f(n) > f(best_n):\n",
    "        best_n = n\n",
    "\n",
    "best_n"
   ]
  },
  {
   "cell_type": "markdown",
   "id": "602f5707",
   "metadata": {},
   "source": [
    "Can you figure out what the code above is doing? It is using the variable `best_n` to keep track of the value of `n` with the maximum value of `f(n)`. At each iteration of the loop, `best_n` stores the **best** value of `n` observed **so far**. At each iteration of the loop, the code checks if `f(n) > f(best_n)`. If this is the case, then the **new** value `n` has a higher value of `f(n)` than the **previous best** value `best_n`, so `best_n` is **updated** to take the value of `n`, which is now the **new best** seen **so far**. At the end of the loop, `best_n` is the value of `n` for which `f(n)` is maximum.\n",
    "\n",
    "Notice that this code does **not** find the maximum value of `f(n)`, it finds the value of `n` for which `f(n)` is maximum. This is far more useful than simply finding the maximum value of `f(n)`, as you shall see when you solve p5.\n",
    "\n",
    "### If the above explanation is not clear, reach out to your TA/PM. You will have to find maximums in p5 and in future projects. It is very important that you understand how this code works."
   ]
  },
  {
   "cell_type": "markdown",
   "id": "51487414",
   "metadata": {},
   "source": [
    "**Question 18:** What is the `name` of the hurricane which has the **fastest** wind speed (in `mph`)?."
   ]
  },
  {
   "cell_type": "code",
   "execution_count": 141,
   "id": "d4663b80",
   "metadata": {
    "tags": []
   },
   "outputs": [
    {
     "data": {
      "text/plain": [
       "'Allen'"
      ]
     },
     "execution_count": 141,
     "metadata": {},
     "output_type": "execute_result"
    }
   ],
   "source": [
    "# replace the ... with your code\n",
    "fastest_idx = 0\n",
    "for idx in range(project.count()):\n",
    "    if project.get_mph(idx) > project.get_mph(fastest_idx):\n",
    "        fastest_idx = idx\n",
    "fastest_name = project.get_name(fastest_idx)\n",
    "        \n",
    "fastest_name"
   ]
  },
  {
   "cell_type": "code",
   "execution_count": 142,
   "id": "404679c2",
   "metadata": {
    "deletable": false,
    "editable": false
   },
   "outputs": [
    {
     "data": {
      "text/html": [
       "<p><strong><pre style='display: inline;'>q18</pre></strong> passed!</p>"
      ],
      "text/plain": [
       "q18 results: All test cases passed!"
      ]
     },
     "execution_count": 142,
     "metadata": {},
     "output_type": "execute_result"
    }
   ],
   "source": [
    "grader.check(\"q18\")"
   ]
  },
  {
   "cell_type": "markdown",
   "id": "e85c6563",
   "metadata": {},
   "source": [
    "**Question 19:** What is the `name` of the hurricane which has the **slowest** wind speed (in `mph`)?.\n",
    "\n",
    "You **must** break ties in favor of the hurricanes that appear **first** in the dataset."
   ]
  },
  {
   "cell_type": "code",
   "execution_count": 143,
   "id": "c3461cb1",
   "metadata": {
    "tags": []
   },
   "outputs": [
    {
     "data": {
      "text/plain": [
       "'1975 Tropical Depression Six'"
      ]
     },
     "execution_count": 143,
     "metadata": {},
     "output_type": "execute_result"
    }
   ],
   "source": [
    "# replace the ... with your code\n",
    "slowest_idx = 0\n",
    "for idx in range(project.count()):\n",
    "    if project.get_mph(idx) < project.get_mph(slowest_idx): # replace the ... with a comparison operator\n",
    "        slowest_idx = idx\n",
    "slowest_name = project.get_name(slowest_idx)\n",
    "        \n",
    "slowest_name"
   ]
  },
  {
   "cell_type": "code",
   "execution_count": 144,
   "id": "f6553440",
   "metadata": {
    "deletable": false,
    "editable": false
   },
   "outputs": [
    {
     "data": {
      "text/html": [
       "<p><strong><pre style='display: inline;'>q19</pre></strong> passed!</p>"
      ],
      "text/plain": [
       "q19 results: All test cases passed!"
      ]
     },
     "execution_count": 144,
     "metadata": {},
     "output_type": "execute_result"
    }
   ],
   "source": [
    "grader.check(\"q19\")"
   ]
  },
  {
   "cell_type": "markdown",
   "id": "32d4500f",
   "metadata": {},
   "source": [
    "### Task 4.5: More Filtering"
   ]
  },
  {
   "cell_type": "markdown",
   "id": "4b3d1736",
   "metadata": {},
   "source": [
    "You will now create a function that takes in two years `start_year` and `end_year`, and return the number of hurricanes that were formed between these two years (both years inclusive).\n",
    "\n",
    "You **must** use the `get_year` function you defined above to find the year of formation of each hurricane. "
   ]
  },
  {
   "cell_type": "code",
   "execution_count": 145,
   "id": "e730e28c",
   "metadata": {
    "tags": []
   },
   "outputs": [],
   "source": [
    "def count_hurricanes_between(start_year, end_year):\n",
    "    # replace the ... with your code\n",
    "    num_hurricanes = 0\n",
    "    for idx in range(project.count()):\n",
    "        if get_year(project.get_formed(idx)) >= start_year and get_year(project.get_formed(idx)) <= end_year:\n",
    "            num_hurricanes += 1\n",
    "    return num_hurricanes"
   ]
  },
  {
   "cell_type": "markdown",
   "id": "0bae0ec4",
   "metadata": {},
   "source": [
    "**Question 20.1:** How many hurricanes were `formed` between *1980 and 2002*, both inclusive?\n",
    "\n",
    "You **must** answer this question by calling the `count_hurricanes_between` function."
   ]
  },
  {
   "cell_type": "code",
   "execution_count": 147,
   "id": "749dcb89",
   "metadata": {
    "tags": []
   },
   "outputs": [
    {
     "data": {
      "text/plain": [
       "130"
      ]
     },
     "execution_count": 147,
     "metadata": {},
     "output_type": "execute_result"
    }
   ],
   "source": [
    "# replace the ... with your code\n",
    "hurr_between_1980_2002 = count_hurricanes_between(1980,2002)\n",
    "hurr_between_1980_2002"
   ]
  },
  {
   "cell_type": "code",
   "execution_count": 148,
   "id": "cc75f162",
   "metadata": {
    "deletable": false,
    "editable": false
   },
   "outputs": [
    {
     "data": {
      "text/html": [
       "<p><strong><pre style='display: inline;'>q20-1</pre></strong> passed!</p>"
      ],
      "text/plain": [
       "q20-1 results: All test cases passed!"
      ]
     },
     "execution_count": 148,
     "metadata": {},
     "output_type": "execute_result"
    }
   ],
   "source": [
    "grader.check(\"q20-1\")"
   ]
  },
  {
   "cell_type": "markdown",
   "id": "d06a8d27",
   "metadata": {},
   "source": [
    "**Question 20.2:** How many hurricanes were `formed` between *1901 and 2000*, both inclusive?\n",
    "\n",
    "You **must** answer this question by calling the `count_hurricanes_between` function."
   ]
  },
  {
   "cell_type": "code",
   "execution_count": 149,
   "id": "639638bd",
   "metadata": {
    "tags": []
   },
   "outputs": [
    {
     "data": {
      "text/plain": [
       "294"
      ]
     },
     "execution_count": 149,
     "metadata": {},
     "output_type": "execute_result"
    }
   ],
   "source": [
    "# replace the ... with your code\n",
    "hurr_between_1901_2000 = count_hurricanes_between(1901,2000)\n",
    "hurr_between_1901_2000"
   ]
  },
  {
   "cell_type": "code",
   "execution_count": 150,
   "id": "bfb5e1e7",
   "metadata": {
    "deletable": false,
    "editable": false
   },
   "outputs": [
    {
     "data": {
      "text/html": [
       "<p><strong><pre style='display: inline;'>q20-2</pre></strong> passed!</p>"
      ],
      "text/plain": [
       "q20-2 results: All test cases passed!"
      ]
     },
     "execution_count": 150,
     "metadata": {},
     "output_type": "execute_result"
    }
   ],
   "source": [
    "grader.check(\"q20-2\")"
   ]
  },
  {
   "cell_type": "markdown",
   "id": "af9fc6b0",
   "metadata": {},
   "source": [
    "## Great work! You are now ready to start [p5](https://git.doit.wisc.edu/cdis/cs/courses/cs220/cs220-f22-projects/-/tree/main/p5)"
   ]
  }
 ],
 "metadata": {
  "kernelspec": {
   "display_name": "Python 3 (ipykernel)",
   "language": "python",
   "name": "python3"
  },
  "language_info": {
   "codemirror_mode": {
    "name": "ipython",
    "version": 3
   },
   "file_extension": ".py",
   "mimetype": "text/x-python",
   "name": "python",
   "nbconvert_exporter": "python",
   "pygments_lexer": "ipython3",
   "version": "3.9.12"
  },
  "otter": {
   "OK_FORMAT": true,
   "tests": {
    "q1-1": {
     "name": "q1-1",
     "points": 0,
     "suites": [
      {
       "cases": [
        {
         "code": ">>> practice_test.check(\"q1-1\", name_idx0)\nTrue",
         "hidden": false,
         "locked": false
        }
       ],
       "scored": true,
       "setup": "",
       "teardown": "",
       "type": "doctest"
      }
     ]
    },
    "q1-2": {
     "name": "q1-2",
     "points": 1,
     "suites": [
      {
       "cases": [
        {
         "code": ">>> practice_test.check(\"q1-2\", name_idx1)\nTrue",
         "hidden": false,
         "locked": false
        }
       ],
       "scored": true,
       "setup": "",
       "teardown": "",
       "type": "doctest"
      }
     ]
    },
    "q1-3": {
     "name": "q1-3",
     "points": 2,
     "suites": [
      {
       "cases": [
        {
         "code": ">>> practice_test.check(\"q1-3\", mph_idx7)\nTrue",
         "hidden": false,
         "locked": false
        }
       ],
       "scored": true,
       "setup": "",
       "teardown": "",
       "type": "doctest"
      }
     ]
    },
    "q1-4": {
     "name": "q1-4",
     "points": 2,
     "suites": [
      {
       "cases": [
        {
         "code": ">>> practice_test.check(\"q1-4\", damage_idx5)\nTrue",
         "hidden": false,
         "locked": false
        }
       ],
       "scored": true,
       "setup": "",
       "teardown": "",
       "type": "doctest"
      }
     ]
    },
    "q10": {
     "name": "q10",
     "points": 5,
     "suites": [
      {
       "cases": [
        {
         "code": ">>> practice_test.check(\"q10\", year_formed_idx200)\nTrue",
         "hidden": false,
         "locked": false
        }
       ],
       "scored": true,
       "setup": "",
       "teardown": "",
       "type": "doctest"
      }
     ]
    },
    "q11": {
     "name": "q11",
     "points": 5,
     "suites": [
      {
       "cases": [
        {
         "code": ">>> practice_test.check(\"q11\", month_diss_idx300)\nTrue",
         "hidden": false,
         "locked": false
        }
       ],
       "scored": true,
       "setup": "",
       "teardown": "",
       "type": "doctest"
      }
     ]
    },
    "q12": {
     "name": "q12",
     "points": 5,
     "suites": [
      {
       "cases": [
        {
         "code": ">>> practice_test.check(\"q12\", sum_while)\nTrue",
         "hidden": false,
         "locked": false
        }
       ],
       "scored": true,
       "setup": "",
       "teardown": "",
       "type": "doctest"
      }
     ]
    },
    "q13": {
     "name": "q13",
     "points": 5,
     "suites": [
      {
       "cases": [
        {
         "code": ">>> practice_test.check(\"q13\", sum_for)\nTrue",
         "hidden": false,
         "locked": false
        }
       ],
       "scored": true,
       "setup": "",
       "teardown": "",
       "type": "doctest"
      }
     ]
    },
    "q14": {
     "name": "q14",
     "points": 5,
     "suites": [
      {
       "cases": [
        {
         "code": ">>> practice_test.check(\"q14\", total_deaths_first10)\nTrue",
         "hidden": false,
         "locked": false
        }
       ],
       "scored": true,
       "setup": "",
       "teardown": "",
       "type": "doctest"
      }
     ]
    },
    "q15": {
     "name": "q15",
     "points": 5,
     "suites": [
      {
       "cases": [
        {
         "code": ">>> practice_test.check(\"q15\", average_wind_speed)\nTrue",
         "hidden": false,
         "locked": false
        }
       ],
       "scored": true,
       "setup": "",
       "teardown": "",
       "type": "doctest"
      }
     ]
    },
    "q16": {
     "name": "q16",
     "points": 5,
     "suites": [
      {
       "cases": [
        {
         "code": ">>> practice_test.check(\"q16\", num_hurr_1000_deaths)\nTrue",
         "hidden": false,
         "locked": false
        }
       ],
       "scored": true,
       "setup": "",
       "teardown": "",
       "type": "doctest"
      }
     ]
    },
    "q17": {
     "name": "q17",
     "points": 5,
     "suites": [
      {
       "cases": [
        {
         "code": ">>> practice_test.check(\"q17\", num_hurr_D)\nTrue",
         "hidden": false,
         "locked": false
        }
       ],
       "scored": true,
       "setup": "",
       "teardown": "",
       "type": "doctest"
      }
     ]
    },
    "q18": {
     "name": "q18",
     "points": 5,
     "suites": [
      {
       "cases": [
        {
         "code": ">>> practice_test.check(\"q18\", fastest_name)\nTrue",
         "hidden": false,
         "locked": false
        }
       ],
       "scored": true,
       "setup": "",
       "teardown": "",
       "type": "doctest"
      }
     ]
    },
    "q19": {
     "name": "q19",
     "points": 5,
     "suites": [
      {
       "cases": [
        {
         "code": ">>> practice_test.check(\"q19\", slowest_name)\nTrue",
         "hidden": false,
         "locked": false
        }
       ],
       "scored": true,
       "setup": "",
       "teardown": "",
       "type": "doctest"
      }
     ]
    },
    "q2": {
     "name": "q2",
     "points": 5,
     "suites": [
      {
       "cases": [
        {
         "code": ">>> practice_test.check(\"q2\", name_idx_last)\nTrue",
         "hidden": false,
         "locked": false
        }
       ],
       "scored": true,
       "setup": "",
       "teardown": "",
       "type": "doctest"
      }
     ]
    },
    "q20-1": {
     "name": "q20-1",
     "points": 2.5,
     "suites": [
      {
       "cases": [
        {
         "code": ">>> practice_test.check(\"q20-1\", hurr_between_1980_2002)\nTrue",
         "hidden": false,
         "locked": false
        }
       ],
       "scored": true,
       "setup": "",
       "teardown": "",
       "type": "doctest"
      }
     ]
    },
    "q20-2": {
     "name": "q20-2",
     "points": 2.5,
     "suites": [
      {
       "cases": [
        {
         "code": ">>> practice_test.check(\"q20-2\", hurr_between_1901_2000)\nTrue",
         "hidden": false,
         "locked": false
        }
       ],
       "scored": true,
       "setup": "",
       "teardown": "",
       "type": "doctest"
      }
     ]
    },
    "q3-1": {
     "name": "q3-1",
     "points": 1.25,
     "suites": [
      {
       "cases": [
        {
         "code": ">>> practice_test.check(\"q3-1\", last_digit)\nTrue",
         "hidden": false,
         "locked": false
        }
       ],
       "scored": true,
       "setup": "",
       "teardown": "",
       "type": "doctest"
      }
     ]
    },
    "q3-2": {
     "name": "q3-2",
     "points": 1.25,
     "suites": [
      {
       "cases": [
        {
         "code": ">>> practice_test.check(\"q3-2\", area_code)\nTrue",
         "hidden": false,
         "locked": false
        }
       ],
       "scored": true,
       "setup": "",
       "teardown": "",
       "type": "doctest"
      }
     ]
    },
    "q3-3": {
     "name": "q3-3",
     "points": 1.25,
     "suites": [
      {
       "cases": [
        {
         "code": ">>> practice_test.check(\"q3-3\", line_number)\nTrue",
         "hidden": false,
         "locked": false
        }
       ],
       "scored": true,
       "setup": "",
       "teardown": "",
       "type": "doctest"
      }
     ]
    },
    "q3-4": {
     "name": "q3-4",
     "points": 1.25,
     "suites": [
      {
       "cases": [
        {
         "code": ">>> practice_test.check(\"q3-4\", exchange_code)\nTrue",
         "hidden": false,
         "locked": false
        }
       ],
       "scored": true,
       "setup": "",
       "teardown": "",
       "type": "doctest"
      }
     ]
    },
    "q4-1": {
     "name": "q4-1",
     "points": 2.5,
     "suites": [
      {
       "cases": [
        {
         "code": ">>> practice_test.check(\"q4-1\", dept_code)\nTrue",
         "hidden": false,
         "locked": false
        }
       ],
       "scored": true,
       "setup": "",
       "teardown": "",
       "type": "doctest"
      }
     ]
    },
    "q4-2": {
     "name": "q4-2",
     "points": 2.5,
     "suites": [
      {
       "cases": [
        {
         "code": ">>> practice_test.check(\"q4-2\", course_code)\nTrue",
         "hidden": false,
         "locked": false
        }
       ],
       "scored": true,
       "setup": "",
       "teardown": "",
       "type": "doctest"
      }
     ]
    },
    "q5-1": {
     "name": "q5-1",
     "points": 2,
     "suites": [
      {
       "cases": [
        {
         "code": ">>> practice_test.check(\"q5-1\", suffix)\nTrue",
         "hidden": false,
         "locked": false
        }
       ],
       "scored": true,
       "setup": "",
       "teardown": "",
       "type": "doctest"
      }
     ]
    },
    "q5-2": {
     "name": "q5-2",
     "points": 3,
     "suites": [
      {
       "cases": [
        {
         "code": ">>> practice_test.check(\"q5-2\", billions)\nTrue",
         "hidden": false,
         "locked": false
        }
       ],
       "scored": true,
       "setup": "",
       "teardown": "",
       "type": "doctest"
      }
     ]
    },
    "q6": {
     "name": "q6",
     "points": 5,
     "suites": [
      {
       "cases": [
        {
         "code": ">>> practice_test.check(\"q6\", month_idx0)\nTrue",
         "hidden": false,
         "locked": false
        }
       ],
       "scored": true,
       "setup": "",
       "teardown": "",
       "type": "doctest"
      }
     ]
    },
    "q7": {
     "name": "q7",
     "points": 5,
     "suites": [
      {
       "cases": [
        {
         "code": ">>> practice_test.check(\"q7\", year)\nTrue",
         "hidden": false,
         "locked": false
        }
       ],
       "scored": true,
       "setup": "",
       "teardown": "",
       "type": "doctest"
      }
     ]
    },
    "q8": {
     "name": "q8",
     "points": 5,
     "suites": [
      {
       "cases": [
        {
         "code": ">>> practice_test.check(\"q8\", day)\nTrue",
         "hidden": false,
         "locked": false
        }
       ],
       "scored": true,
       "setup": "",
       "teardown": "",
       "type": "doctest"
      }
     ]
    },
    "q9": {
     "name": "q9",
     "points": 5,
     "suites": [
      {
       "cases": [
        {
         "code": ">>> practice_test.check(\"q9\", day_formed_idx100)\nTrue",
         "hidden": false,
         "locked": false
        }
       ],
       "scored": true,
       "setup": "",
       "teardown": "",
       "type": "doctest"
      }
     ]
    }
   }
  }
 },
 "nbformat": 4,
 "nbformat_minor": 5
}
