{
 "cells": [
  {
   "cell_type": "code",
   "execution_count": 1,
   "id": "1e03f2b2",
   "metadata": {
    "deletable": false,
    "editable": false
   },
   "outputs": [],
   "source": [
    "# Initialize Otter\n",
    "import otter\n",
    "grader = otter.Notebook(\"practice.ipynb\")"
   ]
  },
  {
   "cell_type": "code",
   "execution_count": 2,
   "id": "689fd8eb",
   "metadata": {},
   "outputs": [],
   "source": [
    "import practice_test"
   ]
  },
  {
   "cell_type": "markdown",
   "id": "86384bbe",
   "metadata": {},
   "source": [
    "# Lab-P8: Lists and Dictionaries\n",
    "\n",
    "This lab is designed to help you prepare for p8. We will focus on dictionaries, mutating lists, binning, and copying."
   ]
  },
  {
   "cell_type": "markdown",
   "id": "165e4b6f",
   "metadata": {},
   "source": [
    "## Learning Objectives:\n",
    "\n",
    "In this lab, you will practice how to...\n",
    "* Integrate relevant information from various sources (e.g. multiple csv files)\n",
    "* Build appropriate data structures for organization and informative presentation (e.g. list of dictionaries)\n",
    "* Practice good coding style"
   ]
  },
  {
   "cell_type": "markdown",
   "id": "0e732eae",
   "metadata": {},
   "source": [
    "## Note on Academic Misconduct:\n",
    "\n",
    "**IMPORTANT**: p8 and p9 are two parts of the same data analysis. You **cannot** switch project partners between these two projects. That is if you partner up with someone for p8, you have to sustain that partnership until end of p9. You must acknowledge to the lab TA to receive lab attendance credit.\n",
    "\n",
    "You may do these lab exercises with only with your project partner; you are not allowed to start working on lab-p8 with one person, then do the project with a different partner.  Now may be a good time to review [our course policies](https://cs220.cs.wisc.edu/f22/syllabus.html)."
   ]
  },
  {
   "cell_type": "markdown",
   "id": "83274533",
   "metadata": {},
   "source": [
    "#### Please make sure `small_movies.csv` and `small_mapping.csv` are in your `lab-p8` folder before continuing."
   ]
  },
  {
   "cell_type": "markdown",
   "id": "c7a1e9ca",
   "metadata": {},
   "source": [
    "## Introduction:\n",
    "\n",
    "In p8 and p9, we will be working on the [IMDb Movies Dataset](https://www.imdb.com/interfaces/). We will use Python to discover some cool facts about our favorite movies, cast, and directors.\n",
    "\n",
    "In lab-p8, you will work with a small subset of movies, and practice writing some code to parse the data stored in `small_mapping.csv` and `small_movies.csv`. You can then use this code to parse the much larger datasets in p8 and p9."
   ]
  },
  {
   "cell_type": "markdown",
   "id": "f074fa11",
   "metadata": {},
   "source": [
    "## The Data:\n",
    "\n",
    "Open `small_movies.csv` and `small_mapping.csv` in any spreadsheet viewer, and see what the data looks like. When seen with a good spreadsheet viewer, this is what some of `small_movies.csv` wil look like:\n",
    "\n",
    "|title|year|duration|genres|rating|directors|cast|\n",
    "| ----  |-----------------|-----------------------------|----------|---------------------------------------------------------------------|----------------------------------------------|--------|\n",
    "|tt3104988|2018|120|\"Comedy, Drama, Romance\"|6.9|nm0160840|\"nm2090422, nm6525901, nm0000706, nm2110418, nm0523734\"|\n",
    "|tt4846340|2016|127|\"Biography, Drama, History\"|7.8|nm0577647|\"nm0378245, nm0818055, nm1847117\"|\n",
    "\n",
    "However, if you open the raw version of `small_movies.csv`, you are more likely to see something like this. It's the same data, but is sometimes a little harder to read:\n",
    "```\n",
    "title,year,duration,genres,rating,directors,cast\n",
    "tt3104988,2018,120,\"Comedy, Drama, Romance\",6.9,nm0160840,\"nm2090422, nm6525901, nm0000706, nm2110418, nm0523734\"\n",
    "tt4846340,2016,127,\"Biography, Drama, History\",7.8,nm0577647,\"nm0378245, nm0818055, nm1847117\"\n",
    "```\n",
    "\n",
    "The `title`, `directors`, and `cast` members are represented by their unique *IMDb ID* instead of their actual *names*. Now would be a good time to open `small_mapping.csv` to observe the data stored there. It should look like this:\n",
    "\n",
    "|         |           |\n",
    "| --------|-----------|\n",
    "|tt3104988|Crazy Rich Asians|\n",
    "|nm0160840|Jon M. Chu|\n",
    "|nm2090422|Constance Wu|\n",
    "|nm6525901|Henry Golding|\n",
    "|nm0000706|Michelle Yeoh|\n",
    "|nm2110418|Gemma Chan|\n",
    "|nm0523734|Lisa Lu|\n",
    "|tt4846340|Hidden Figures|\n",
    "|nm0577647|Theodore Melfi|\n",
    "|nm0378245|Taraji P. Henson|\n",
    "|nm0818055|Octavia Spencer|\n",
    "|nm1847117|Janelle Monáe|\n",
    "\n",
    "Note that this file does **not** have a header. This file maps the *IMDB IDs* to the actual *names* (so for example, the *name* of the movie with the *IMDB ID* of *tt3104988* is *Crazy Rich Asians*)."
   ]
  },
  {
   "cell_type": "markdown",
   "id": "e3445e68",
   "metadata": {},
   "source": [
    "## Segment 2: Loading data from csv file\n",
    "\n",
    "In this segment, you will learn to parse the data in `small_movies.csv` and `small_mapping.csv`, and convert them into useful data structures.\n",
    "\n",
    "However, before we do any of that, **open `small_movies.csv` and `small_mapping.csv` with Excel or some other spreadsheet viewer** and look at the format in which the data is stored. Inspecting this data will be extremely useful when you try to read it in Python."
   ]
  },
  {
   "cell_type": "code",
   "execution_count": 3,
   "id": "78b72587",
   "metadata": {
    "tags": []
   },
   "outputs": [],
   "source": [
    "# it is considered a good coding practice to place all import statements at the top of the notebook\n",
    "# place all your import statements in this cell if you need to import any more modules for this project\n",
    "\n",
    "# we have imported the csv module for you\n",
    "import csv"
   ]
  },
  {
   "cell_type": "markdown",
   "id": "226de883",
   "metadata": {},
   "source": [
    "### Task 2.1: Process `small_movies.csv`"
   ]
  },
  {
   "cell_type": "code",
   "execution_count": 5,
   "id": "e382491b",
   "metadata": {
    "tags": []
   },
   "outputs": [],
   "source": [
    "# copy/paste the 'process_csv' function from lab-p6 or lab-p7 here\n",
    "def process_csv(filename):\n",
    "    example_file = open(filename, encoding=\"utf-8\")\n",
    "    example_reader = csv.reader(example_file)\n",
    "    example_data = list(example_reader)\n",
    "    example_file.close()\n",
    "    return example_data"
   ]
  },
  {
   "cell_type": "code",
   "execution_count": 6,
   "id": "b8be61a5",
   "metadata": {
    "tags": []
   },
   "outputs": [],
   "source": [
    "# read data from \"small_movies.csv\"\n",
    "file_data = process_csv(\"small_movies.csv\")"
   ]
  },
  {
   "cell_type": "markdown",
   "id": "e8a7fb48",
   "metadata": {},
   "source": [
    "**Question 1:** What is the **header** of the file `small_movies.csv`?\n",
    "\n",
    "Your output **must** be a **list** of **strings**."
   ]
  },
  {
   "cell_type": "code",
   "execution_count": 7,
   "id": "e1390d83",
   "metadata": {
    "tags": []
   },
   "outputs": [
    {
     "data": {
      "text/plain": [
       "['title', 'year', 'duration', 'genres', 'rating', 'directors', 'cast']"
      ]
     },
     "execution_count": 7,
     "metadata": {},
     "output_type": "execute_result"
    }
   ],
   "source": [
    "# extract the header into csv_header variable\n",
    "csv_header = file_data[0]\n",
    "\n",
    "csv_header"
   ]
  },
  {
   "cell_type": "code",
   "execution_count": 8,
   "id": "cb746fc5",
   "metadata": {
    "deletable": false,
    "editable": false
   },
   "outputs": [
    {
     "data": {
      "text/html": [
       "<p><strong><pre style='display: inline;'>q1</pre></strong> passed!</p>"
      ],
      "text/plain": [
       "q1 results: All test cases passed!"
      ]
     },
     "execution_count": 8,
     "metadata": {},
     "output_type": "execute_result"
    }
   ],
   "source": [
    "grader.check(\"q1\")"
   ]
  },
  {
   "cell_type": "markdown",
   "id": "cb97b353",
   "metadata": {},
   "source": [
    "**Question 2:** What is the **data** (without the header) in the file `small_movies.csv`?\n",
    "\n",
    "Your output **must** be a **list** of **lists**."
   ]
  },
  {
   "cell_type": "code",
   "execution_count": 11,
   "id": "95b5b01c",
   "metadata": {
    "tags": []
   },
   "outputs": [
    {
     "data": {
      "text/plain": [
       "[['tt3104988',\n",
       "  '2018',\n",
       "  '120',\n",
       "  'Comedy, Drama, Romance',\n",
       "  '6.9',\n",
       "  'nm0160840',\n",
       "  'nm2090422, nm6525901, nm0000706, nm2110418, nm0523734'],\n",
       " ['tt4846340',\n",
       "  '2016',\n",
       "  '127',\n",
       "  'Biography, Drama, History',\n",
       "  '7.8',\n",
       "  'nm0577647',\n",
       "  'nm0378245, nm0818055, nm1847117']]"
      ]
     },
     "execution_count": 11,
     "metadata": {},
     "output_type": "execute_result"
    }
   ],
   "source": [
    "# extract just the data rows into csv_rows variable\n",
    "csv_rows = process_csv(\"small_movies.csv\")\n",
    "csv_rows = csv_rows[1:]\n",
    "\n",
    "csv_rows"
   ]
  },
  {
   "cell_type": "code",
   "execution_count": 12,
   "id": "ca829ed0",
   "metadata": {
    "deletable": false,
    "editable": false
   },
   "outputs": [
    {
     "data": {
      "text/html": [
       "<p><strong><pre style='display: inline;'>q2</pre></strong> passed!</p>"
      ],
      "text/plain": [
       "q2 results: All test cases passed!"
      ]
     },
     "execution_count": 12,
     "metadata": {},
     "output_type": "execute_result"
    }
   ],
   "source": [
    "grader.check(\"q2\")"
   ]
  },
  {
   "cell_type": "markdown",
   "id": "b15ed4bf",
   "metadata": {},
   "source": [
    "### Task 2.2: Convert your `small_mapping` to a `dict`"
   ]
  },
  {
   "cell_type": "markdown",
   "id": "0a09e987",
   "metadata": {},
   "source": [
    "**Question 3:** What is the **data** in the file `small_mapping.csv`?\n",
    "\n",
    "Your output **must** be a **list** of **lists**. There is no header in `small_mapping.csv`, so you should **not** slice off the first row here."
   ]
  },
  {
   "cell_type": "code",
   "execution_count": 13,
   "id": "ea5f35ce",
   "metadata": {
    "tags": []
   },
   "outputs": [
    {
     "data": {
      "text/plain": [
       "[['tt3104988', 'Crazy Rich Asians'],\n",
       " ['nm0160840', 'Jon M. Chu'],\n",
       " ['nm2090422', 'Constance Wu'],\n",
       " ['nm6525901', 'Henry Golding'],\n",
       " ['nm0000706', 'Michelle Yeoh'],\n",
       " ['nm2110418', 'Gemma Chan'],\n",
       " ['nm0523734', 'Lisa Lu'],\n",
       " ['tt4846340', 'Hidden Figures'],\n",
       " ['nm0577647', 'Theodore Melfi'],\n",
       " ['nm0378245', 'Taraji P. Henson'],\n",
       " ['nm0818055', 'Octavia Spencer'],\n",
       " ['nm1847117', 'Janelle Monáe']]"
      ]
     },
     "execution_count": 13,
     "metadata": {},
     "output_type": "execute_result"
    }
   ],
   "source": [
    "# use process_csv to read `small_mapping.csv` into a list of lists data structure\n",
    "mapping_rows = process_csv(\"small_mapping.csv\")\n",
    "\n",
    "mapping_rows"
   ]
  },
  {
   "cell_type": "code",
   "execution_count": 14,
   "id": "c6739a07",
   "metadata": {
    "deletable": false,
    "editable": false
   },
   "outputs": [
    {
     "data": {
      "text/html": [
       "<p><strong><pre style='display: inline;'>q3</pre></strong> passed!</p>"
      ],
      "text/plain": [
       "q3 results: All test cases passed!"
      ]
     },
     "execution_count": 14,
     "metadata": {},
     "output_type": "execute_result"
    }
   ],
   "source": [
    "grader.check(\"q3\")"
   ]
  },
  {
   "cell_type": "markdown",
   "id": "245b38e3",
   "metadata": {},
   "source": [
    "Currently `mapping_rows` is a **list** of **lists**.  To make it more useful, let us convert it to a **dict** with the *ID* as the **key** and the *name* as the **value**, like this:\n",
    "\n",
    "```python\n",
    "{'tt3104988':'Crazy Rich Asians',\n",
    "'nm0160840': 'Jon M. Chu',\n",
    "'nm2090422': 'Constance Wu',\n",
    "'nm6525901': 'Henry Golding',\n",
    "'nm0000706': 'Michelle Yeoh',\n",
    "'nm2110418': 'Gemma Chan',\n",
    "'nm0523734': 'Lisa Lu',\n",
    "'tt4846340': 'Hidden Figures',\n",
    "'nm0577647': 'Theodore Melfi',\n",
    "'nm0378245': 'Taraji P. Henson',\n",
    "'nm0818055': 'Octavia Spencer',\n",
    "'nm1847117': 'Janelle Monáe'}\n",
    "```"
   ]
  },
  {
   "cell_type": "markdown",
   "id": "f401c03e",
   "metadata": {},
   "source": [
    "**Question 4:** Display the **data** in the file `small_mapping.csv` as a **dictionary**.\n",
    "\n",
    "Your output **must** be a **dictionary**.\n",
    "\n",
    "It is acceptable for you to *hardcode* **column indices** here. This is because this csv file does not have a header, and it is **implicit** that the first string is the ID and that the second string is the name associated with the ID. For csv files which have headers, you should **never** hardcode **column indices**."
   ]
  },
  {
   "cell_type": "code",
   "execution_count": 19,
   "id": "f9ab7fc6",
   "metadata": {
    "tags": []
   },
   "outputs": [
    {
     "data": {
      "text/plain": [
       "{'tt3104988': 'Crazy Rich Asians',\n",
       " 'nm0160840': 'Jon M. Chu',\n",
       " 'nm2090422': 'Constance Wu',\n",
       " 'nm6525901': 'Henry Golding',\n",
       " 'nm0000706': 'Michelle Yeoh',\n",
       " 'nm2110418': 'Gemma Chan',\n",
       " 'nm0523734': 'Lisa Lu',\n",
       " 'tt4846340': 'Hidden Figures',\n",
       " 'nm0577647': 'Theodore Melfi',\n",
       " 'nm0378245': 'Taraji P. Henson',\n",
       " 'nm0818055': 'Octavia Spencer',\n",
       " 'nm1847117': 'Janelle Monáe'}"
      ]
     },
     "execution_count": 19,
     "metadata": {},
     "output_type": "execute_result"
    }
   ],
   "source": [
    "mapping_dict = {} # initialize an empty dictionary into the variable mapping_dict\n",
    "# TODO: iterate over each row of the small_mapping dataset\n",
    "for idx in range (len(mapping_rows)):\n",
    "    mapping_dict[mapping_rows[idx][0]] = mapping_rows[idx][1]\n",
    "                                                        \n",
    "mapping_dict"
   ]
  },
  {
   "cell_type": "code",
   "execution_count": 20,
   "id": "0f7b2968",
   "metadata": {
    "deletable": false,
    "editable": false
   },
   "outputs": [
    {
     "data": {
      "text/html": [
       "<p><strong><pre style='display: inline;'>q4</pre></strong> passed!</p>"
      ],
      "text/plain": [
       "q4 results: All test cases passed!"
      ]
     },
     "execution_count": 20,
     "metadata": {},
     "output_type": "execute_result"
    }
   ],
   "source": [
    "grader.check(\"q4\")"
   ]
  },
  {
   "cell_type": "markdown",
   "id": "1a0ec48f",
   "metadata": {},
   "source": [
    "**Question 5:** What is the **value** associated with the key *nm0160840*?"
   ]
  },
  {
   "cell_type": "code",
   "execution_count": 21,
   "id": "d07a24c8",
   "metadata": {
    "tags": []
   },
   "outputs": [
    {
     "data": {
      "text/plain": [
       "'Jon M. Chu'"
      ]
     },
     "execution_count": 21,
     "metadata": {},
     "output_type": "execute_result"
    }
   ],
   "source": [
    "# we have done this one for you\n",
    "nm0160840_value = mapping_dict[\"nm0160840\"]\n",
    "\n",
    "nm0160840_value"
   ]
  },
  {
   "cell_type": "code",
   "execution_count": 22,
   "id": "ceebb130",
   "metadata": {
    "deletable": false,
    "editable": false
   },
   "outputs": [
    {
     "data": {
      "text/html": [
       "<p><strong><pre style='display: inline;'>q5</pre></strong> passed!</p>"
      ],
      "text/plain": [
       "q5 results: All test cases passed!"
      ]
     },
     "execution_count": 22,
     "metadata": {},
     "output_type": "execute_result"
    }
   ],
   "source": [
    "grader.check(\"q5\")"
   ]
  },
  {
   "cell_type": "markdown",
   "id": "63a7c668",
   "metadata": {},
   "source": [
    "**Question 6:** What is the **value** associated with the key *tt4846340*?"
   ]
  },
  {
   "cell_type": "code",
   "execution_count": 25,
   "id": "d7797058",
   "metadata": {
    "tags": []
   },
   "outputs": [
    {
     "data": {
      "text/plain": [
       "'Hidden Figures'"
      ]
     },
     "execution_count": 25,
     "metadata": {},
     "output_type": "execute_result"
    }
   ],
   "source": [
    "# replace the ... with your code\n",
    "tt4846340_value = mapping_dict[\"tt4846340\"]\n",
    "\n",
    "tt4846340_value"
   ]
  },
  {
   "cell_type": "code",
   "execution_count": 26,
   "id": "c057e52e",
   "metadata": {
    "deletable": false,
    "editable": false
   },
   "outputs": [
    {
     "data": {
      "text/html": [
       "<p><strong><pre style='display: inline;'>q6</pre></strong> passed!</p>"
      ],
      "text/plain": [
       "q6 results: All test cases passed!"
      ]
     },
     "execution_count": 26,
     "metadata": {},
     "output_type": "execute_result"
    }
   ],
   "source": [
    "grader.check(\"q6\")"
   ]
  },
  {
   "cell_type": "markdown",
   "id": "3a371a93",
   "metadata": {},
   "source": [
    "### Task 2.3: Convert your `small_movies` into a `list` of `dicts`"
   ]
  },
  {
   "cell_type": "markdown",
   "id": "57def164",
   "metadata": {},
   "source": [
    "### Task 2.3.1: Convert a list of lists to a list of dictionaries\n",
    "\n",
    "Now, let's go back to `small_movies.csv`. Your variable `csv_rows` (defined above in q2) should look like this:\n",
    "\n",
    "```python\n",
    "[['tt3104988',\n",
    "  '2018',\n",
    "  '120',\n",
    "  'Comedy, Drama, Romance',\n",
    "  '6.9',\n",
    "  'nm0160840',\n",
    "  'nm2090422, nm6525901, nm0000706, nm2110418, nm0523734'],\n",
    " ['tt4846340',\n",
    "  '2016',\n",
    "  '127',\n",
    "  'Biography, Drama, History',\n",
    "  '7.8',\n",
    "  'nm0577647',\n",
    "  'nm0378245, nm0818055, nm1847117']]\n",
    "```"
   ]
  },
  {
   "cell_type": "markdown",
   "id": "d1d1aaae",
   "metadata": {},
   "source": [
    "It's a list of lists without its header. To make it easier to access data, let us convert it to a **list** of **dictionaries**. The data structure should look like:\n",
    "\n",
    "```python\n",
    "[{'title': 'tt3104988',\n",
    "  'year': '2018',\n",
    "  'duration': '120',\n",
    "  'genres': 'Comedy, Drama, Romance',\n",
    "  'rating': '6.9',\n",
    "  'directors': 'nm0160840',\n",
    "  'cast': 'nm2090422, nm6525901, nm0000706, nm2110418, nm0523734'},\n",
    " {'title': 'tt4846340',\n",
    "  'year': '2016',\n",
    "  'duration': '127',\n",
    "  'genres': 'Biography, Drama, History',\n",
    "  'rating': '7.8',\n",
    "  'directors': 'nm0577647',\n",
    "  'cast': 'nm0378245, nm0818055, nm1847117'}]\n",
    "```"
   ]
  },
  {
   "cell_type": "markdown",
   "id": "efc2ff33",
   "metadata": {},
   "source": [
    "**Question 7.1:** Display the **first** movie in the file `small_movies.csv` as a **dictionary**."
   ]
  },
  {
   "cell_type": "code",
   "execution_count": 31,
   "id": "e28a4812",
   "metadata": {
    "scrolled": true,
    "tags": []
   },
   "outputs": [
    {
     "data": {
      "text/plain": [
       "{'title': 'tt3104988',\n",
       " 'year': '2018',\n",
       " 'duration': '120',\n",
       " 'genres': 'Comedy, Drama, Romance',\n",
       " 'rating': '6.9',\n",
       " 'directors': 'nm0160840',\n",
       " 'cast': 'nm2090422, nm6525901, nm0000706, nm2110418, nm0523734'}"
      ]
     },
     "execution_count": 31,
     "metadata": {},
     "output_type": "execute_result"
    }
   ],
   "source": [
    "first_movie = {} # initialize an empty dictionary\n",
    "first_movie[\"title\"] = csv_rows[0][csv_header.index(\"title\")] # extract the title of the movie\n",
    "first_movie[\"year\"] = csv_rows[0][csv_header.index(\"year\")]\n",
    "first_movie[\"duration\"] = csv_rows[0][csv_header.index(\"duration\")]\n",
    "first_movie[\"genres\"] = csv_rows[0][csv_header.index(\"genres\")]\n",
    "first_movie[\"rating\"] = csv_rows[0][csv_header.index(\"rating\")]\n",
    "first_movie[\"directors\"] = csv_rows[0][csv_header.index(\"directors\")]\n",
    "first_movie[\"cast\"] = csv_rows[0][csv_header.index(\"cast\")]\n",
    "# TODO: add the other columns to first_movie\n",
    "\n",
    "first_movie"
   ]
  },
  {
   "cell_type": "code",
   "execution_count": 32,
   "id": "ceae82e3",
   "metadata": {
    "deletable": false,
    "editable": false
   },
   "outputs": [
    {
     "data": {
      "text/html": [
       "<p><strong><pre style='display: inline;'>q7-1</pre></strong> passed!</p>"
      ],
      "text/plain": [
       "q7-1 results: All test cases passed!"
      ]
     },
     "execution_count": 32,
     "metadata": {},
     "output_type": "execute_result"
    }
   ],
   "source": [
    "grader.check(\"q7-1\")"
   ]
  },
  {
   "cell_type": "markdown",
   "id": "e85e218e",
   "metadata": {},
   "source": [
    "**Question 7.2:** Display the **data** in the file `small_movies.csv` as a **list** of **dictionaries**."
   ]
  },
  {
   "cell_type": "code",
   "execution_count": 45,
   "id": "6636196b",
   "metadata": {
    "tags": []
   },
   "outputs": [
    {
     "data": {
      "text/plain": [
       "[{'title': 'tt3104988',\n",
       "  'year': '2018',\n",
       "  'duration': '120',\n",
       "  'genres': 'Comedy, Drama, Romance',\n",
       "  'rating': '6.9',\n",
       "  'directors': 'nm0160840',\n",
       "  'cast': 'nm2090422, nm6525901, nm0000706, nm2110418, nm0523734'},\n",
       " {'title': 'tt4846340',\n",
       "  'year': '2016',\n",
       "  'duration': '127',\n",
       "  'genres': 'Biography, Drama, History',\n",
       "  'rating': '7.8',\n",
       "  'directors': 'nm0577647',\n",
       "  'cast': 'nm0378245, nm0818055, nm1847117'}]"
      ]
     },
     "execution_count": 45,
     "metadata": {},
     "output_type": "execute_result"
    }
   ],
   "source": [
    "raw_movies_list = [] # use this empty list to append your dictionary\n",
    "# TODO: loop through all the rows of csv_rows\n",
    "# TODO: create a dictionary similar to the one in q7.1 for each movie\n",
    "# TODO: add each movie dictionary to raw_movies_list\n",
    "\n",
    "for idx in range(len(csv_rows)):\n",
    "    movie = {}\n",
    "    movie[\"title\"] = csv_rows[idx][csv_header.index(\"title\")] # extract the title of the movie\n",
    "    movie[\"year\"] = csv_rows[idx][csv_header.index(\"year\")]\n",
    "    movie[\"duration\"] = csv_rows[idx][csv_header.index(\"duration\")]\n",
    "    movie[\"genres\"] = csv_rows[idx][csv_header.index(\"genres\")]\n",
    "    movie[\"rating\"] = csv_rows[idx][csv_header.index(\"rating\")]\n",
    "    movie[\"directors\"] = csv_rows[idx][csv_header.index(\"directors\")]\n",
    "    movie[\"cast\"] = csv_rows[idx][csv_header.index(\"cast\")]\n",
    "    raw_movies_list.append(movie)\n",
    "\n",
    "raw_movies_list"
   ]
  },
  {
   "cell_type": "code",
   "execution_count": 46,
   "id": "8bd7c457",
   "metadata": {
    "deletable": false,
    "editable": false
   },
   "outputs": [
    {
     "data": {
      "text/html": [
       "<p><strong><pre style='display: inline;'>q7-2</pre></strong> passed!</p>"
      ],
      "text/plain": [
       "q7-2 results: All test cases passed!"
      ]
     },
     "execution_count": 46,
     "metadata": {},
     "output_type": "execute_result"
    }
   ],
   "source": [
    "grader.check(\"q7-2\")"
   ]
  },
  {
   "cell_type": "markdown",
   "id": "0de12d53",
   "metadata": {},
   "source": [
    "**Question 8:** What is the `title` *ID* of the **first** movie in your list?\n",
    "\n",
    "Your output **must** be a **string**."
   ]
  },
  {
   "cell_type": "code",
   "execution_count": 47,
   "id": "ef559a92",
   "metadata": {
    "tags": []
   },
   "outputs": [
    {
     "data": {
      "text/plain": [
       "'tt3104988'"
      ]
     },
     "execution_count": 47,
     "metadata": {},
     "output_type": "execute_result"
    }
   ],
   "source": [
    "# we have done this one for you\n",
    "first_movie_title = raw_movies_list[0]['title']\n",
    "\n",
    "first_movie_title"
   ]
  },
  {
   "cell_type": "code",
   "execution_count": 48,
   "id": "b0743627",
   "metadata": {
    "deletable": false,
    "editable": false
   },
   "outputs": [
    {
     "data": {
      "text/html": [
       "<p><strong><pre style='display: inline;'>q8</pre></strong> passed!</p>"
      ],
      "text/plain": [
       "q8 results: All test cases passed!"
      ]
     },
     "execution_count": 48,
     "metadata": {},
     "output_type": "execute_result"
    }
   ],
   "source": [
    "grader.check(\"q8\")"
   ]
  },
  {
   "cell_type": "markdown",
   "id": "fb12052c",
   "metadata": {},
   "source": [
    "**Question 9:** What is the `duration` of the **second** movie in your list?\n",
    "\n",
    "Your output **must** be a **string**. You **must** answer this question by querying the value from the `raw_movies_list` data structure."
   ]
  },
  {
   "cell_type": "code",
   "execution_count": 49,
   "id": "de7b8414",
   "metadata": {
    "tags": []
   },
   "outputs": [],
   "source": [
    "# compute and store the answer in the variable 'second_movie_duration', then display it\n",
    "second_movie_duration = raw_movies_list[1][\"duration\"]"
   ]
  },
  {
   "cell_type": "code",
   "execution_count": 50,
   "id": "8214e789",
   "metadata": {
    "deletable": false,
    "editable": false
   },
   "outputs": [
    {
     "data": {
      "text/html": [
       "<p><strong><pre style='display: inline;'>q9</pre></strong> passed!</p>"
      ],
      "text/plain": [
       "q9 results: All test cases passed!"
      ]
     },
     "execution_count": 50,
     "metadata": {},
     "output_type": "execute_result"
    }
   ],
   "source": [
    "grader.check(\"q9\")"
   ]
  },
  {
   "cell_type": "markdown",
   "id": "7a0cb932",
   "metadata": {},
   "source": [
    "**Question 10:** What are the `genres` of the **second** movie in your list?\n",
    "\n",
    "Your output **must** be a **string**. You **must** answer this question by querying the value from the `raw_movies_list` data structure."
   ]
  },
  {
   "cell_type": "code",
   "execution_count": 53,
   "id": "e3838e0c",
   "metadata": {
    "tags": []
   },
   "outputs": [],
   "source": [
    "# compute and store the answer in the variable 'second_movie_genres', then display it\n",
    "second_movie_genres = raw_movies_list[1][\"genres\"]"
   ]
  },
  {
   "cell_type": "code",
   "execution_count": 54,
   "id": "23fdb92e",
   "metadata": {
    "deletable": false,
    "editable": false
   },
   "outputs": [
    {
     "data": {
      "text/html": [
       "<p><strong><pre style='display: inline;'>q10</pre></strong> passed!</p>"
      ],
      "text/plain": [
       "q10 results: All test cases passed!"
      ]
     },
     "execution_count": 54,
     "metadata": {},
     "output_type": "execute_result"
    }
   ],
   "source": [
    "grader.check(\"q10\")"
   ]
  },
  {
   "cell_type": "markdown",
   "id": "5bcb68bc",
   "metadata": {},
   "source": [
    "### Task 2.3.2: Convert the `int` and `float` values to the correct type\n",
    "\n",
    "Did you notice that currently all the values in the dictionaries are **strings**? We should convert them into correct types. In particular, the `year` and `duration` should be data type **int** and the `rating` should be a **float**. \n",
    "\n",
    "After converting the **int** and **float** values to the right types, your list of dictionaries should look like: \n",
    "\n",
    "```python\n",
    "[{'title': 'tt3104988',\n",
    "  'year': 2018,\n",
    "  'duration': 120,\n",
    "  'genres': 'Comedy, Drama, Romance',\n",
    "  'rating': 6.9,\n",
    "  'directors': 'nm0160840',\n",
    "  'cast': 'nm2090422, nm6525901, nm0000706, nm2110418, nm0523734'},\n",
    " {'title': 'tt4846340',\n",
    "  'year': 2016,\n",
    "  'duration': 127,\n",
    "  'genres': 'Biography, Drama, History',\n",
    "  'rating': 7.8,\n",
    "  'directors': 'nm0577647',\n",
    "  'cast': 'nm0378245, nm0818055, nm1847117'}]\n",
    "```"
   ]
  },
  {
   "cell_type": "markdown",
   "id": "9429f732",
   "metadata": {},
   "source": [
    "**Question 11:** Display the **data** in the file `small_movies.csv` as a **list** of **dictionaries**.\n",
    "\n",
    "The `year` and `duration` values **must** be of data type **int** and the `rating` value **must** be a **float**."
   ]
  },
  {
   "cell_type": "code",
   "execution_count": 76,
   "id": "799db204",
   "metadata": {
    "tags": []
   },
   "outputs": [
    {
     "data": {
      "text/plain": [
       "[{'title': 'tt3104988',\n",
       "  'year': 2018,\n",
       "  'duration': 120,\n",
       "  'genres': 'Comedy, Drama, Romance',\n",
       "  'rating': 6.9,\n",
       "  'directors': 'nm0160840',\n",
       "  'cast': 'nm2090422, nm6525901, nm0000706, nm2110418, nm0523734'},\n",
       " {'title': 'tt4846340',\n",
       "  'year': 2016,\n",
       "  'duration': 127,\n",
       "  'genres': 'Biography, Drama, History',\n",
       "  'rating': 7.8,\n",
       "  'directors': 'nm0577647',\n",
       "  'cast': 'nm0378245, nm0818055, nm1847117'}]"
      ]
     },
     "execution_count": 76,
     "metadata": {},
     "output_type": "execute_result"
    }
   ],
   "source": [
    "mostly_raw_movies_list = [] # use this empty list to append your dictionary\n",
    "for movie in range(len(raw_movies_list)): # loop (directly) through movies in raw_movies_list\n",
    "    new_movie = {} # create an empty dictionary to insert values for each movie\n",
    "    new_movie['title'] = raw_movies_list[movie][\"title\"] # extract the title of movie \n",
    "    new_movie['year'] = int(raw_movies_list[movie][\"year\"]) # convert the year of movie into an int\n",
    "    new_movie['duration'] = int(raw_movies_list[movie][\"duration\"])\n",
    "    new_movie['genres'] = (raw_movies_list[movie][\"genres\"])\n",
    "    new_movie['rating'] = float(raw_movies_list[movie][\"rating\"])\n",
    "    new_movie['directors'] = (raw_movies_list[movie][\"directors\"])\n",
    "    new_movie['cast'] = (raw_movies_list[movie][\"cast\"])\n",
    "    # TODO: add the other columns (with the required data types) to new_movie\n",
    "    # TODO: add new_movie to mostly_raw_movies_list\n",
    "    mostly_raw_movies_list.append(new_movie)\n",
    "\n",
    "mostly_raw_movies_list"
   ]
  },
  {
   "cell_type": "code",
   "execution_count": 77,
   "id": "d8c679bb",
   "metadata": {
    "deletable": false,
    "editable": false
   },
   "outputs": [
    {
     "data": {
      "text/html": [
       "<p><strong><pre style='display: inline;'>q11</pre></strong> passed!</p>"
      ],
      "text/plain": [
       "q11 results: All test cases passed!"
      ]
     },
     "execution_count": 77,
     "metadata": {},
     "output_type": "execute_result"
    }
   ],
   "source": [
    "grader.check(\"q11\")"
   ]
  },
  {
   "cell_type": "markdown",
   "id": "f8fa69eb",
   "metadata": {},
   "source": [
    "**Question 12:** What is the `type` of the `duration` of the **first** movie in your list?"
   ]
  },
  {
   "cell_type": "code",
   "execution_count": 78,
   "id": "4c7d7f8f",
   "metadata": {
    "tags": []
   },
   "outputs": [
    {
     "data": {
      "text/plain": [
       "int"
      ]
     },
     "execution_count": 78,
     "metadata": {},
     "output_type": "execute_result"
    }
   ],
   "source": [
    "# we have done this one for you\n",
    "first_movie_duration_type = type(mostly_raw_movies_list[0][\"duration\"])\n",
    "\n",
    "first_movie_duration_type"
   ]
  },
  {
   "cell_type": "code",
   "execution_count": 79,
   "id": "55b0faff",
   "metadata": {
    "deletable": false,
    "editable": false
   },
   "outputs": [
    {
     "data": {
      "text/html": [
       "<p><strong><pre style='display: inline;'>q12</pre></strong> passed!</p>"
      ],
      "text/plain": [
       "q12 results: All test cases passed!"
      ]
     },
     "execution_count": 79,
     "metadata": {},
     "output_type": "execute_result"
    }
   ],
   "source": [
    "grader.check(\"q12\")"
   ]
  },
  {
   "cell_type": "markdown",
   "id": "ccd65ef8",
   "metadata": {},
   "source": [
    "**Question 12:** What is the `type` of the `rating` of the **first** movie in your list?"
   ]
  },
  {
   "cell_type": "code",
   "execution_count": 80,
   "id": "d638a098",
   "metadata": {
    "tags": []
   },
   "outputs": [
    {
     "data": {
      "text/plain": [
       "float"
      ]
     },
     "execution_count": 80,
     "metadata": {},
     "output_type": "execute_result"
    }
   ],
   "source": [
    "# we have done this one for you\n",
    "first_movie_rating_type = type(mostly_raw_movies_list[0][\"rating\"])\n",
    "\n",
    "first_movie_rating_type"
   ]
  },
  {
   "cell_type": "code",
   "execution_count": 81,
   "id": "f1768441",
   "metadata": {
    "deletable": false,
    "editable": false
   },
   "outputs": [
    {
     "data": {
      "text/html": [
       "<p><strong><pre style='display: inline;'>q13</pre></strong> passed!</p>"
      ],
      "text/plain": [
       "q13 results: All test cases passed!"
      ]
     },
     "execution_count": 81,
     "metadata": {},
     "output_type": "execute_result"
    }
   ],
   "source": [
    "grader.check(\"q13\")"
   ]
  },
  {
   "cell_type": "markdown",
   "id": "2aab3ecd",
   "metadata": {},
   "source": [
    "### Task 2.3.3: Convert the `genres`, `directors`, and `cast` to list of strings\n",
    "\n",
    "Run the next cell and observe its output."
   ]
  },
  {
   "cell_type": "code",
   "execution_count": 82,
   "id": "7cfa72ab",
   "metadata": {},
   "outputs": [
    {
     "data": {
      "text/plain": [
       "'Comedy, Drama, Romance'"
      ]
     },
     "execution_count": 82,
     "metadata": {},
     "output_type": "execute_result"
    }
   ],
   "source": [
    "# these are the 'genres' of the first movie\n",
    "mostly_raw_movies_list[0][\"genres\"]"
   ]
  },
  {
   "cell_type": "markdown",
   "id": "23eeb901",
   "metadata": {},
   "source": [
    "Notice that the `genres` are stored as a *single* **string**. It would be much more useful to store this value as **list** of *three different* **strings**, with each **string** representing a *single* **string**: `['Comedy', 'Drama', 'Romance']`. Unfortunately, the CSV file format cannot represent **lists**, so **lists** of **strings** are often represented as a *single* **string** with the values separated by a comma. So, we will have to convert the **string** into a **list** of **strings** ourselves.\n",
    "\n",
    "In the `small_movies.csv` and `movies.csv` datasets, the `directors` and `cast` are similarly stored as a *single* **string** with the values separated by a comma(`, `). We are now going to convert the value corresponding to the keys `genres`, `casts`, and `directors` to a **list** of **strings**. The output **must** be a **list** of **dictionaries** in the following format:\n",
    "\n",
    "```python\n",
    "   {\n",
    "        'title': <title-id>,\n",
    "        'year': <the year as an integer>,\n",
    "        'duration': <the duration as an integer>,\n",
    "        'genres': [<genre1>, <genre2>, ...],\n",
    "        'rating': <the rating as a float>,\n",
    "        'directors': [<director-id1>, <director-id2>, ...],\n",
    "        'cast': [<actor-id1>, <actor-id2>, ....]\n",
    "    }\n",
    "```\n",
    "\n",
    "After converting the strings to list of strings, the **list** of **dictionaries** should look like: \n",
    "\n",
    "```python\n",
    "    [{'title': 'tt3104988',\n",
    "      'year': 2018,\n",
    "      'duration': 120,\n",
    "      'genres': ['Comedy', 'Drama', 'Romance'],\n",
    "      'rating': 6.9,\n",
    "      'directors': ['nm0160840'],\n",
    "      'cast': ['nm2090422', 'nm6525901', 'nm0000706', 'nm2110418', 'nm0523734']},\n",
    "     {'title': 'tt4846340',\n",
    "      'year': 2016,\n",
    "      'duration': 127,\n",
    "      'genres': ['Biography', 'Drama', 'History'],\n",
    "      'rating': 7.8,\n",
    "      'directors': ['nm0577647'],\n",
    "      'cast': ['nm0378245', 'nm0818055', 'nm1847117']}]\n",
    "```"
   ]
  },
  {
   "cell_type": "markdown",
   "id": "48dbda0d",
   "metadata": {},
   "source": [
    "**Question 14:** Display the **data** in the file `small_movies.csv` as a **list** of **dictionaries**.\n",
    "\n",
    "The `genres`, `directors`, and `cast` values **must** be **lists** of **strings**.\n",
    "\n",
    "**Hint:** Recall that there is a **string method** that enables you to perform this. If you don't know where to start, please review the [lecture slides](https://git.doit.wisc.edu/cdis/cs/courses/cs220/cs220-lecture-material/-/tree/main/f22/meena_lec_notes/lec-14) from the October 10 lecture."
   ]
  },
  {
   "cell_type": "code",
   "execution_count": 103,
   "id": "ac358b5a",
   "metadata": {
    "tags": []
   },
   "outputs": [
    {
     "data": {
      "text/plain": [
       "[{'title': 'tt3104988',\n",
       "  'year': 2018,\n",
       "  'duration': 120,\n",
       "  'genres': ['Comedy', 'Drama', 'Romance'],\n",
       "  'rating': 6.9,\n",
       "  'directors': ['nm0160840'],\n",
       "  'cast': ['nm2090422', 'nm6525901', 'nm0000706', 'nm2110418', 'nm0523734']},\n",
       " {'title': 'tt4846340',\n",
       "  'year': 2016,\n",
       "  'duration': 127,\n",
       "  'genres': ['Biography', 'Drama', 'History'],\n",
       "  'rating': 7.8,\n",
       "  'directors': ['nm0577647'],\n",
       "  'cast': ['nm0378245', 'nm0818055', 'nm1847117']}]"
      ]
     },
     "execution_count": 103,
     "metadata": {},
     "output_type": "execute_result"
    }
   ],
   "source": [
    "semi_raw_movies_list = [] # use this empty list to append your dictionary\n",
    "for movie in range(len(mostly_raw_movies_list)): # loop through movies in mostly_raw_movies_list\n",
    "    new_movie = {} # create an empty dictionary to insert values for each movie\n",
    "    new_movie['title'] = mostly_raw_movies_list[movie][\"title\"] # extract the title of movie \n",
    "    new_movie['year'] = int(mostly_raw_movies_list[movie][\"year\"])\n",
    "    new_movie['duration'] = int(mostly_raw_movies_list[movie][\"duration\"])# extract the year of movie\n",
    "    new_movie['genres'] = mostly_raw_movies_list[movie][\"genres\"].split(\",\")\n",
    "    for idx in range(len(new_movie['genres'])):\n",
    "        new_movie['genres'][idx] =  new_movie['genres'][idx].lstrip() \n",
    "    new_movie['rating'] = float(mostly_raw_movies_list[movie][\"rating\"])\n",
    "    new_movie['directors'] = (mostly_raw_movies_list[movie][\"directors\"]).split(\",\")\n",
    "    for idx in range(len(new_movie['directors'])):\n",
    "        new_movie['directors'][idx] =  new_movie['directors'][idx].lstrip() \n",
    "    new_movie['cast'] = (mostly_raw_movies_list[movie][\"cast\"]).split(\",\")\n",
    "    for idx in range(len(new_movie['cast'])):\n",
    "        new_movie['cast'][idx] =  new_movie['cast'][idx].lstrip() \n",
    "    # split the genres into a list of strings\n",
    "    # TODO: add the other columns (with the required data types) to new_movie\n",
    "    # TODO: add new_movie to semi_raw_movies_list\n",
    "    semi_raw_movies_list.append(new_movie)\n",
    "\n",
    "semi_raw_movies_list"
   ]
  },
  {
   "cell_type": "code",
   "execution_count": 104,
   "id": "f282dcfe",
   "metadata": {
    "deletable": false,
    "editable": false
   },
   "outputs": [
    {
     "data": {
      "text/html": [
       "<p><strong><pre style='display: inline;'>q14</pre></strong> passed!</p>"
      ],
      "text/plain": [
       "q14 results: All test cases passed!"
      ]
     },
     "execution_count": 104,
     "metadata": {},
     "output_type": "execute_result"
    }
   ],
   "source": [
    "grader.check(\"q14\")"
   ]
  },
  {
   "cell_type": "markdown",
   "id": "76b20c2e",
   "metadata": {},
   "source": [
    "**Question 15:** What are the `genres` of the **second** movie in your list?"
   ]
  },
  {
   "cell_type": "code",
   "execution_count": 105,
   "id": "6f0ec317",
   "metadata": {
    "tags": []
   },
   "outputs": [
    {
     "data": {
      "text/plain": [
       "['Biography', 'Drama', 'History']"
      ]
     },
     "execution_count": 105,
     "metadata": {},
     "output_type": "execute_result"
    }
   ],
   "source": [
    "# we have done this one for you\n",
    "second_movie_genres_list = semi_raw_movies_list[1][\"genres\"]\n",
    "\n",
    "second_movie_genres_list"
   ]
  },
  {
   "cell_type": "code",
   "execution_count": 106,
   "id": "0a81a81c",
   "metadata": {
    "deletable": false,
    "editable": false
   },
   "outputs": [
    {
     "data": {
      "text/html": [
       "<p><strong><pre style='display: inline;'>q15</pre></strong> passed!</p>"
      ],
      "text/plain": [
       "q15 results: All test cases passed!"
      ]
     },
     "execution_count": 106,
     "metadata": {},
     "output_type": "execute_result"
    }
   ],
   "source": [
    "grader.check(\"q15\")"
   ]
  },
  {
   "cell_type": "markdown",
   "id": "b5a88bfe",
   "metadata": {},
   "source": [
    "**Question 16:** How **many** `cast` members are there in the **second** movie?\n",
    "\n",
    "You **must** answer this question by querying the value from the `semi_raw_movies_list` data structure."
   ]
  },
  {
   "cell_type": "code",
   "execution_count": 107,
   "id": "aefb94e9",
   "metadata": {
    "tags": []
   },
   "outputs": [
    {
     "data": {
      "text/plain": [
       "3"
      ]
     },
     "execution_count": 107,
     "metadata": {},
     "output_type": "execute_result"
    }
   ],
   "source": [
    "# replace the ... with your code\n",
    "second_movie_num_cast = len(semi_raw_movies_list[1][\"cast\"])\n",
    "\n",
    "second_movie_num_cast"
   ]
  },
  {
   "cell_type": "code",
   "execution_count": 108,
   "id": "49711bec",
   "metadata": {
    "deletable": false,
    "editable": false
   },
   "outputs": [
    {
     "data": {
      "text/html": [
       "<p><strong><pre style='display: inline;'>q16</pre></strong> passed!</p>"
      ],
      "text/plain": [
       "q16 results: All test cases passed!"
      ]
     },
     "execution_count": 108,
     "metadata": {},
     "output_type": "execute_result"
    }
   ],
   "source": [
    "grader.check(\"q16\")"
   ]
  },
  {
   "cell_type": "markdown",
   "id": "6a3df880",
   "metadata": {},
   "source": [
    "# Segment 3: Mapping IDs to Actual Names"
   ]
  },
  {
   "cell_type": "markdown",
   "id": "140e62ba",
   "metadata": {},
   "source": [
    "You may have noticed that `title`, `directors`, and `cast` are represented by *IDs* rather than actual *names*. To make our data more intuitive, we next need to **convert** these *IDs* to actual *names*. The output **must** be a **list** of **dictionaries** in the following format:\n",
    "\n",
    "```python\n",
    "   {\n",
    "        'title': \"the movie name\",\n",
    "        'year': <the year as an integer>,\n",
    "        'duration': <the duration as an integer>,\n",
    "        'genres': [<genre1>, <genre2>, ...],\n",
    "        'rating': <the rating as a float>,\n",
    "        'directors': [\"director-name1\", \"director-name2\", ...],\n",
    "        'cast': [\"actor-name1\", \"actor-name2\", ....]\n",
    "    }\n",
    "```\n",
    "\n",
    "After converting the IDs to actual names, your **list** of **dictionaries** should look like:\n",
    "\n",
    "```python\n",
    "        [{'title': 'Crazy Rich Asians',\n",
    "      'year': 2018,\n",
    "      'duration': 120,\n",
    "      'genres': ['Comedy', 'Drama', 'Romance'],\n",
    "      'rating': 6.9,\n",
    "      'directors': ['Jon M. Chu'],\n",
    "      'cast': ['Constance Wu',\n",
    "       'Henry Golding',\n",
    "       'Michelle Yeoh',\n",
    "       'Gemma Chan',\n",
    "       'Lisa Lu']},\n",
    "     {'title': 'Hidden Figures',\n",
    "      'year': 2016,\n",
    "      'duration': 127,\n",
    "      'genres': ['Biography', 'Drama', 'History'],\n",
    "      'rating': 7.8,\n",
    "      'directors': ['Theodore Melfi'],\n",
    "      'cast': ['Taraji P. Henson', 'Octavia Spencer', 'Janelle Monáe']}]\n",
    "```"
   ]
  },
  {
   "cell_type": "markdown",
   "id": "3b77ad5e",
   "metadata": {},
   "source": [
    "### Task 3.1: Find the Actual Names\n",
    "\n",
    "Run the cell below and try to explain its output."
   ]
  },
  {
   "cell_type": "code",
   "execution_count": 109,
   "id": "03aa8cf0",
   "metadata": {},
   "outputs": [
    {
     "name": "stdout",
     "output_type": "stream",
     "text": [
      "tt3104988: Crazy Rich Asians\n"
     ]
    }
   ],
   "source": [
    "title_id = semi_raw_movies_list[0][\"title\"] # extract the title of the first movie\n",
    "title = mapping_dict[title_id] # recall the dictionary mapping_dict from q4\n",
    "print(title_id + \": \" + title)"
   ]
  },
  {
   "cell_type": "markdown",
   "id": "2cb9b8e9",
   "metadata": {},
   "source": [
    "**Question 17.1:** List the `title` of the **second** movie in your list.\n",
    "\n",
    "Your output **must** be a **string** of the *name* and **not** the *ID*. You **must** answer this question by querying values from the `semi_raw_movies_list` and `mapping_dict` data structures."
   ]
  },
  {
   "cell_type": "code",
   "execution_count": 110,
   "id": "f9c00e6e",
   "metadata": {
    "tags": []
   },
   "outputs": [],
   "source": [
    "# compute and store the answer in the variable 'title_second', then display it\n",
    "title_second = mapping_dict[semi_raw_movies_list[1][\"title\"]]"
   ]
  },
  {
   "cell_type": "code",
   "execution_count": 111,
   "id": "83ddfbf7",
   "metadata": {
    "deletable": false,
    "editable": false
   },
   "outputs": [
    {
     "data": {
      "text/html": [
       "<p><strong><pre style='display: inline;'>q17-1</pre></strong> passed!</p>"
      ],
      "text/plain": [
       "q17-1 results: All test cases passed!"
      ]
     },
     "execution_count": 111,
     "metadata": {},
     "output_type": "execute_result"
    }
   ],
   "source": [
    "grader.check(\"q17-1\")"
   ]
  },
  {
   "cell_type": "markdown",
   "id": "7fdef441",
   "metadata": {},
   "source": [
    "**Question 17.2:** List the **names** of the `cast` of the **first** movie in your list.\n",
    "\n",
    "Your output **must** be a **list** of **strings**."
   ]
  },
  {
   "cell_type": "code",
   "execution_count": 131,
   "id": "111cdc20",
   "metadata": {
    "tags": []
   },
   "outputs": [
    {
     "name": "stdout",
     "output_type": "stream",
     "text": [
      "{'title': 'tt3104988', 'year': 2018, 'duration': 120, 'genres': ['Comedy', 'Drama', 'Romance'], 'rating': 6.9, 'directors': ['nm0160840'], 'cast': ['nm2090422', 'nm6525901', 'nm0000706', 'nm2110418', 'nm0523734']}\n",
      "nm2090422\n"
     ]
    },
    {
     "data": {
      "text/plain": [
       "['Constance Wu', 'Henry Golding', 'Michelle Yeoh', 'Gemma Chan', 'Lisa Lu']"
      ]
     },
     "execution_count": 131,
     "metadata": {},
     "output_type": "execute_result"
    }
   ],
   "source": [
    "cast_names = [] # create an empty list to store the names of the cast members\n",
    "first_movie = semi_raw_movies_list[0] # extract the dictionary of the first movie\n",
    "# TODO: iterate over the IDs of the cast members of first_movie\n",
    "# take each cast member's ID and lookup the value from the mapping_dict dict\n",
    "# add each cast member's name to the list 'cast_names'\n",
    "\n",
    "print (first_movie)\n",
    "\n",
    "print (first_movie[\"cast\"][0])\n",
    "\n",
    "for ID in range(len(first_movie[\"cast\"])):\n",
    "    cast_names.append(mapping_dict[first_movie[\"cast\"][ID]])\n",
    "cast_names"
   ]
  },
  {
   "cell_type": "code",
   "execution_count": 132,
   "id": "41e7ade7",
   "metadata": {
    "deletable": false,
    "editable": false
   },
   "outputs": [
    {
     "data": {
      "text/html": [
       "<p><strong><pre style='display: inline;'>q17-2</pre></strong> passed!</p>"
      ],
      "text/plain": [
       "q17-2 results: All test cases passed!"
      ]
     },
     "execution_count": 132,
     "metadata": {},
     "output_type": "execute_result"
    }
   ],
   "source": [
    "grader.check(\"q17-2\")"
   ]
  },
  {
   "cell_type": "markdown",
   "id": "0820d836",
   "metadata": {},
   "source": [
    "**Question 17.3:** List the **names** of all the `directors` of **both** movies in your list.\n",
    "\n",
    "Your output **must** be a **list** of **strings**."
   ]
  },
  {
   "cell_type": "code",
   "execution_count": null,
   "id": "abcd3dd8",
   "metadata": {
    "tags": []
   },
   "outputs": [],
   "source": [
    "# compute and store the answer in the variable 'directors', then display it\n",
    "# create an empty list to store the names of the directors\n",
    "# TODO: iterate over each movie in semi_raw_movies_list\n",
    "    # TODO: for each movie, iterate over the IDs of the directors\n",
    "        # take each director's ID and lookup the value from the mapping_dict dict\n",
    "        # add each director's name to the list 'directors'\n",
    "        \n",
    "# display the variable 'directors'\n",
    "\n",
    "dir = []\n"
   ]
  },
  {
   "cell_type": "code",
   "execution_count": null,
   "id": "7cd1570f",
   "metadata": {
    "deletable": false,
    "editable": false
   },
   "outputs": [],
   "source": [
    "grader.check(\"q17-3\")"
   ]
  },
  {
   "cell_type": "markdown",
   "id": "77d08760",
   "metadata": {},
   "source": [
    "### Task 3.2: Convert to Actual Names\n",
    "\n",
    "Use your `mapping_dict` and `semi_raw_movies_list` to finish this task.\n",
    "There are three columns (`title`, `directors`, and `cast`) which need to be converted.\n",
    "\n",
    "We will use convert these columns *incrementally*. First, we will convert the `title` values to be the **names** instead of the **IDs**."
   ]
  },
  {
   "cell_type": "markdown",
   "id": "337f5e44",
   "metadata": {},
   "source": [
    "**Question 18.1:** Display the **data** in the file `small_movies.csv` as a **list** of **dictionaries**.\n",
    "\n",
    "The `title` values **must** be **actual names** instead of **IDs**. The `directors` and `cast` values **must** be the **IDs**."
   ]
  },
  {
   "cell_type": "code",
   "execution_count": 142,
   "id": "2cda9910",
   "metadata": {
    "tags": []
   },
   "outputs": [
    {
     "data": {
      "text/plain": [
       "[{'title': 'Crazy Rich Asians',\n",
       "  'year': 2018,\n",
       "  'duration': 120,\n",
       "  'genres': ['Comedy', 'Drama', 'Romance'],\n",
       "  'rating': 6.9,\n",
       "  'directors': ['nm0160840'],\n",
       "  'cast': ['nm2090422', 'nm6525901', 'nm0000706', 'nm2110418', 'nm0523734']},\n",
       " {'title': 'Hidden Figures',\n",
       "  'year': 2016,\n",
       "  'duration': 127,\n",
       "  'genres': ['Biography', 'Drama', 'History'],\n",
       "  'rating': 7.8,\n",
       "  'directors': ['nm0577647'],\n",
       "  'cast': ['nm0378245', 'nm0818055', 'nm1847117']}]"
      ]
     },
     "execution_count": 142,
     "metadata": {},
     "output_type": "execute_result"
    }
   ],
   "source": [
    "movies_list_v1 = [] # use this empty list to append your dictionary\n",
    "# TODO: iterate over the movies in semi_raw_movies_list\n",
    "    # TODO: create a new empty dictionary for each movie\n",
    "    # TODO: find the actual title from the title ID and add to the new dictionary\n",
    "    # TODO: add the other columns to the new dictionary\n",
    "    # TODO: add the new dictionary to movies_list_v1\n",
    "    \n",
    "for movie in range(len(semi_raw_movies_list)):\n",
    "    new_movie = {}\n",
    "    new_movie[\"title\"] = mapping_dict[semi_raw_movies_list[movie][\"title\"]]\n",
    "    new_movie[\"year\"] = semi_raw_movies_list[movie][\"year\"]\n",
    "    new_movie[\"duration\"] = semi_raw_movies_list[movie][\"duration\"]\n",
    "    new_movie[\"genres\"] = semi_raw_movies_list[movie][\"genres\"]\n",
    "    new_movie[\"rating\"] = semi_raw_movies_list[movie][\"rating\"]\n",
    "    new_movie[\"directors\"] = semi_raw_movies_list[movie][\"directors\"]\n",
    "    new_movie[\"cast\"] = semi_raw_movies_list[movie][\"cast\"]\n",
    "    \n",
    "    movies_list_v1.append(new_movie)\n",
    "movies_list_v1"
   ]
  },
  {
   "cell_type": "code",
   "execution_count": 143,
   "id": "c8b2977b",
   "metadata": {
    "deletable": false,
    "editable": false
   },
   "outputs": [
    {
     "data": {
      "text/html": [
       "<p><strong><pre style='display: inline;'>q18-1</pre></strong> passed!</p>"
      ],
      "text/plain": [
       "q18-1 results: All test cases passed!"
      ]
     },
     "execution_count": 143,
     "metadata": {},
     "output_type": "execute_result"
    }
   ],
   "source": [
    "grader.check(\"q18-1\")"
   ]
  },
  {
   "cell_type": "markdown",
   "id": "7e9506af",
   "metadata": {},
   "source": [
    " We will now convert the `directors` values to be the **names** instead of the **IDs**."
   ]
  },
  {
   "cell_type": "markdown",
   "id": "707a6d3d",
   "metadata": {},
   "source": [
    "**Question 18.2:** Display the **data** in the file `small_movies.csv` as a **list** of **dictionaries**.\n",
    "\n",
    "The `title` and `directors` values **must** be **actual names** instead of **IDs**. The `cast` values **must** be the **IDs**."
   ]
  },
  {
   "cell_type": "code",
   "execution_count": 151,
   "id": "41ee1196",
   "metadata": {
    "tags": []
   },
   "outputs": [
    {
     "data": {
      "text/plain": [
       "[{'title': 'Crazy Rich Asians',\n",
       "  'year': 2018,\n",
       "  'duration': 120,\n",
       "  'genres': ['Comedy', 'Drama', 'Romance'],\n",
       "  'rating': 6.9,\n",
       "  'directors': ['Jon M. Chu'],\n",
       "  'cast': ['nm2090422', 'nm6525901', 'nm0000706', 'nm2110418', 'nm0523734']},\n",
       " {'title': 'Hidden Figures',\n",
       "  'year': 2016,\n",
       "  'duration': 127,\n",
       "  'genres': ['Biography', 'Drama', 'History'],\n",
       "  'rating': 7.8,\n",
       "  'directors': ['Theodore Melfi'],\n",
       "  'cast': ['nm0378245', 'nm0818055', 'nm1847117']}]"
      ]
     },
     "execution_count": 151,
     "metadata": {},
     "output_type": "execute_result"
    }
   ],
   "source": [
    "movies_list_v2 = [] # use this empty list to append your dictionary\n",
    "# TODO: copy/paste your loop for q18.1 where you defined movies_list_v1\n",
    "# TODO: inside the loop, for each movie define a new list for the names of the directors\n",
    "# TODO: loop through the director IDs of the movie and add their names to list\n",
    "# TODO: assign the value of the key 'directors' to be this new list\n",
    "# TODO: add the new dictionary to movies_list_v2\n",
    "\n",
    "for movie in range(len(semi_raw_movies_list)):\n",
    "    direct = []\n",
    "    new_movie = {}\n",
    "    new_movie[\"title\"] = mapping_dict[semi_raw_movies_list[movie][\"title\"]]\n",
    "    new_movie[\"year\"] = semi_raw_movies_list[movie][\"year\"]\n",
    "    new_movie[\"duration\"] = semi_raw_movies_list[movie][\"duration\"]\n",
    "    new_movie[\"genres\"] = semi_raw_movies_list[movie][\"genres\"]\n",
    "    new_movie[\"rating\"] = semi_raw_movies_list[movie][\"rating\"]\n",
    "    for name in range (len(semi_raw_movies_list[movie][\"directors\"])):\n",
    "        direct.append(mapping_dict[semi_raw_movies_list[movie][\"directors\"][name]])\n",
    "    new_movie[\"directors\"] = direct\n",
    "    new_movie[\"cast\"] = semi_raw_movies_list[movie][\"cast\"]\n",
    "    movies_list_v2.append(new_movie)\n",
    "\n",
    "movies_list_v2"
   ]
  },
  {
   "cell_type": "code",
   "execution_count": 150,
   "id": "095291a2",
   "metadata": {
    "deletable": false,
    "editable": false
   },
   "outputs": [
    {
     "data": {
      "text/html": [
       "<p><strong><pre style='display: inline;'>q18-2</pre></strong> passed!</p>"
      ],
      "text/plain": [
       "q18-2 results: All test cases passed!"
      ]
     },
     "execution_count": 150,
     "metadata": {},
     "output_type": "execute_result"
    }
   ],
   "source": [
    "grader.check(\"q18-2\")"
   ]
  },
  {
   "cell_type": "markdown",
   "id": "551530c5",
   "metadata": {},
   "source": [
    " Finally, we will now convert the `cast` values to be the **names** instead of the **IDs**, to finish our definition of `movies_list`."
   ]
  },
  {
   "cell_type": "markdown",
   "id": "a642d29e",
   "metadata": {},
   "source": [
    "**Question 18.3:** Display the **data** in the file `small_movies.csv` as a **list** of **dictionaries**.\n",
    "\n",
    "The `title`, `directors` and `cast` values **must** be **actual names** instead of **IDs**."
   ]
  },
  {
   "cell_type": "code",
   "execution_count": 155,
   "id": "57a690ac",
   "metadata": {
    "tags": []
   },
   "outputs": [
    {
     "data": {
      "text/plain": [
       "[{'title': 'Crazy Rich Asians',\n",
       "  'year': 2018,\n",
       "  'duration': 120,\n",
       "  'genres': ['Comedy', 'Drama', 'Romance'],\n",
       "  'rating': 6.9,\n",
       "  'directors': ['Jon M. Chu'],\n",
       "  'cast': ['Constance Wu',\n",
       "   'Henry Golding',\n",
       "   'Michelle Yeoh',\n",
       "   'Gemma Chan',\n",
       "   'Lisa Lu']},\n",
       " {'title': 'Hidden Figures',\n",
       "  'year': 2016,\n",
       "  'duration': 127,\n",
       "  'genres': ['Biography', 'Drama', 'History'],\n",
       "  'rating': 7.8,\n",
       "  'directors': ['Theodore Melfi'],\n",
       "  'cast': ['Taraji P. Henson', 'Octavia Spencer', 'Janelle Monáe']}]"
      ]
     },
     "execution_count": 155,
     "metadata": {},
     "output_type": "execute_result"
    }
   ],
   "source": [
    "movies_list = [] # use this empty list to append your dictionary\n",
    "# TODO: copy/paste your loop for q18.1 where you defined movies_list_v1\n",
    "# TODO: replace the IDs of the cast members with their names\n",
    "\n",
    "for movie in range(len(semi_raw_movies_list)):\n",
    "    direct = []\n",
    "    cast = []\n",
    "    new_movie = {}\n",
    "    new_movie[\"title\"] = mapping_dict[semi_raw_movies_list[movie][\"title\"]]\n",
    "    new_movie[\"year\"] = semi_raw_movies_list[movie][\"year\"]\n",
    "    new_movie[\"duration\"] = semi_raw_movies_list[movie][\"duration\"]\n",
    "    new_movie[\"genres\"] = semi_raw_movies_list[movie][\"genres\"]\n",
    "    new_movie[\"rating\"] = semi_raw_movies_list[movie][\"rating\"]\n",
    "    for name in range (len(semi_raw_movies_list[movie][\"directors\"])):\n",
    "        direct.append(mapping_dict[semi_raw_movies_list[movie][\"directors\"][name]])\n",
    "    new_movie[\"directors\"] = direct\n",
    "    new_movie[\"cast\"] = semi_raw_movies_list[movie][\"cast\"]\n",
    "    for name in range (len(semi_raw_movies_list[movie][\"cast\"])):\n",
    "        cast.append(mapping_dict[semi_raw_movies_list[movie][\"cast\"][name]])\n",
    "    new_movie[\"cast\"] = cast\n",
    "    \n",
    "    movies_list.append(new_movie)\n",
    "\n",
    "movies_list"
   ]
  },
  {
   "cell_type": "code",
   "execution_count": 156,
   "id": "d9d58f35",
   "metadata": {
    "deletable": false,
    "editable": false
   },
   "outputs": [
    {
     "data": {
      "text/html": [
       "<p><strong><pre style='display: inline;'>q18-3</pre></strong> passed!</p>"
      ],
      "text/plain": [
       "q18-3 results: All test cases passed!"
      ]
     },
     "execution_count": 156,
     "metadata": {},
     "output_type": "execute_result"
    }
   ],
   "source": [
    "grader.check(\"q18-3\")"
   ]
  },
  {
   "cell_type": "markdown",
   "id": "51acbfca",
   "metadata": {},
   "source": [
    "We are now ready to test your data structure `movies_list`."
   ]
  },
  {
   "cell_type": "markdown",
   "id": "7d295d18",
   "metadata": {},
   "source": [
    "**Question 19:** What is the movie `title` of the **first** movie in your list?"
   ]
  },
  {
   "cell_type": "code",
   "execution_count": 157,
   "id": "b1cd08ec",
   "metadata": {
    "tags": []
   },
   "outputs": [
    {
     "data": {
      "text/plain": [
       "'Crazy Rich Asians'"
      ]
     },
     "execution_count": 157,
     "metadata": {},
     "output_type": "execute_result"
    }
   ],
   "source": [
    "# we have done this one for you\n",
    "first_movie_title = movies_list[0][\"title\"]\n",
    "\n",
    "first_movie_title"
   ]
  },
  {
   "cell_type": "code",
   "execution_count": 158,
   "id": "cc07a8ce",
   "metadata": {
    "deletable": false,
    "editable": false
   },
   "outputs": [
    {
     "data": {
      "text/html": [
       "<p><strong><pre style='display: inline;'>q19</pre></strong> passed!</p>"
      ],
      "text/plain": [
       "q19 results: All test cases passed!"
      ]
     },
     "execution_count": 158,
     "metadata": {},
     "output_type": "execute_result"
    }
   ],
   "source": [
    "grader.check(\"q19\")"
   ]
  },
  {
   "cell_type": "markdown",
   "id": "40eee857",
   "metadata": {},
   "source": [
    "**Question 20:** Who are the `directors` of the **second movie** in your list?\n",
    "\n",
    "Your output **must** be a **list** of **strings**. You **must** answer this question by querying the value from the `movies_list` data structure."
   ]
  },
  {
   "cell_type": "code",
   "execution_count": 161,
   "id": "ee06954e",
   "metadata": {
    "tags": []
   },
   "outputs": [],
   "source": [
    "# compute and store the answer in the variable 'second_movie_directors', then display it\n",
    "second_movie_directors = movies_list[1][\"directors\"]"
   ]
  },
  {
   "cell_type": "code",
   "execution_count": 162,
   "id": "d4c94a33",
   "metadata": {
    "deletable": false,
    "editable": false
   },
   "outputs": [
    {
     "data": {
      "text/html": [
       "<p><strong><pre style='display: inline;'>q20</pre></strong> passed!</p>"
      ],
      "text/plain": [
       "q20 results: All test cases passed!"
      ]
     },
     "execution_count": 162,
     "metadata": {},
     "output_type": "execute_result"
    }
   ],
   "source": [
    "grader.check(\"q20\")"
   ]
  },
  {
   "cell_type": "markdown",
   "id": "7f6ff2d4",
   "metadata": {},
   "source": [
    "## Great work! You are now ready to start [p8](https://git.doit.wisc.edu/cdis/cs/courses/cs220/cs220-f22-projects/-/tree/main/p8)."
   ]
  }
 ],
 "metadata": {
  "kernelspec": {
   "display_name": "Python 3 (ipykernel)",
   "language": "python",
   "name": "python3"
  },
  "language_info": {
   "codemirror_mode": {
    "name": "ipython",
    "version": 3
   },
   "file_extension": ".py",
   "mimetype": "text/x-python",
   "name": "python",
   "nbconvert_exporter": "python",
   "pygments_lexer": "ipython3",
   "version": "3.9.12"
  },
  "otter": {
   "OK_FORMAT": true,
   "tests": {
    "q1": {
     "name": "q1",
     "points": 5,
     "suites": [
      {
       "cases": [
        {
         "code": ">>> practice_test.check(\"q1\", csv_header)\nTrue",
         "hidden": false,
         "locked": false
        }
       ],
       "scored": true,
       "setup": "",
       "teardown": "",
       "type": "doctest"
      }
     ]
    },
    "q10": {
     "name": "q10",
     "points": 5,
     "suites": [
      {
       "cases": [
        {
         "code": ">>> practice_test.check(\"q10\", second_movie_genres)\nTrue",
         "hidden": false,
         "locked": false
        }
       ],
       "scored": true,
       "setup": "",
       "teardown": "",
       "type": "doctest"
      }
     ]
    },
    "q11": {
     "name": "q11",
     "points": 5,
     "suites": [
      {
       "cases": [
        {
         "code": ">>> practice_test.check(\"q11\", mostly_raw_movies_list)\nTrue",
         "hidden": false,
         "locked": false
        }
       ],
       "scored": true,
       "setup": "",
       "teardown": "",
       "type": "doctest"
      }
     ]
    },
    "q12": {
     "name": "q12",
     "points": 5,
     "suites": [
      {
       "cases": [
        {
         "code": ">>> practice_test.check(\"q12\", first_movie_duration_type)\nTrue",
         "hidden": false,
         "locked": false
        }
       ],
       "scored": true,
       "setup": "",
       "teardown": "",
       "type": "doctest"
      }
     ]
    },
    "q13": {
     "name": "q13",
     "points": 5,
     "suites": [
      {
       "cases": [
        {
         "code": ">>> practice_test.check(\"q13\", first_movie_rating_type)\nTrue",
         "hidden": false,
         "locked": false
        }
       ],
       "scored": true,
       "setup": "",
       "teardown": "",
       "type": "doctest"
      }
     ]
    },
    "q14": {
     "name": "q14",
     "points": 5,
     "suites": [
      {
       "cases": [
        {
         "code": ">>> practice_test.check(\"q14\", semi_raw_movies_list)\nTrue",
         "hidden": false,
         "locked": false
        }
       ],
       "scored": true,
       "setup": "",
       "teardown": "",
       "type": "doctest"
      }
     ]
    },
    "q15": {
     "name": "q15",
     "points": 5,
     "suites": [
      {
       "cases": [
        {
         "code": ">>> practice_test.check(\"q15\", second_movie_genres_list)\nTrue",
         "hidden": false,
         "locked": false
        }
       ],
       "scored": true,
       "setup": "",
       "teardown": "",
       "type": "doctest"
      }
     ]
    },
    "q16": {
     "name": "q16",
     "points": 5,
     "suites": [
      {
       "cases": [
        {
         "code": ">>> practice_test.check(\"q16\", second_movie_num_cast)\nTrue",
         "hidden": false,
         "locked": false
        }
       ],
       "scored": true,
       "setup": "",
       "teardown": "",
       "type": "doctest"
      }
     ]
    },
    "q17-1": {
     "name": "q17-1",
     "points": 1,
     "suites": [
      {
       "cases": [
        {
         "code": ">>> practice_test.check(\"q17-1\", title_second)\nTrue",
         "hidden": false,
         "locked": false
        }
       ],
       "scored": true,
       "setup": "",
       "teardown": "",
       "type": "doctest"
      }
     ]
    },
    "q17-2": {
     "name": "q17-2",
     "points": 2,
     "suites": [
      {
       "cases": [
        {
         "code": ">>> practice_test.check(\"q17-2\", cast_names)\nTrue",
         "hidden": false,
         "locked": false
        }
       ],
       "scored": true,
       "setup": "",
       "teardown": "",
       "type": "doctest"
      }
     ]
    },
    "q17-3": {
     "name": "q17-3",
     "points": 2,
     "suites": [
      {
       "cases": [
        {
         "code": ">>> practice_test.check(\"q17-3\", directors)\nTrue",
         "hidden": false,
         "locked": false
        }
       ],
       "scored": true,
       "setup": "",
       "teardown": "",
       "type": "doctest"
      }
     ]
    },
    "q18-1": {
     "name": "q18-1",
     "points": 1,
     "suites": [
      {
       "cases": [
        {
         "code": ">>> practice_test.check(\"q18-1\", movies_list_v1)\nTrue",
         "hidden": false,
         "locked": false
        }
       ],
       "scored": true,
       "setup": "",
       "teardown": "",
       "type": "doctest"
      }
     ]
    },
    "q18-2": {
     "name": "q18-2",
     "points": 2,
     "suites": [
      {
       "cases": [
        {
         "code": ">>> practice_test.check(\"q18-2\", movies_list_v2)\nTrue",
         "hidden": false,
         "locked": false
        }
       ],
       "scored": true,
       "setup": "",
       "teardown": "",
       "type": "doctest"
      }
     ]
    },
    "q18-3": {
     "name": "q18-3",
     "points": 2,
     "suites": [
      {
       "cases": [
        {
         "code": ">>> practice_test.check(\"q18-3\", movies_list)\nTrue",
         "hidden": false,
         "locked": false
        }
       ],
       "scored": true,
       "setup": "",
       "teardown": "",
       "type": "doctest"
      }
     ]
    },
    "q19": {
     "name": "q19",
     "points": 5,
     "suites": [
      {
       "cases": [
        {
         "code": ">>> practice_test.check(\"q19\", first_movie_title)\nTrue",
         "hidden": false,
         "locked": false
        }
       ],
       "scored": true,
       "setup": "",
       "teardown": "",
       "type": "doctest"
      }
     ]
    },
    "q2": {
     "name": "q2",
     "points": 5,
     "suites": [
      {
       "cases": [
        {
         "code": ">>> practice_test.check(\"q2\", csv_rows)\nTrue",
         "hidden": false,
         "locked": false
        }
       ],
       "scored": true,
       "setup": "",
       "teardown": "",
       "type": "doctest"
      }
     ]
    },
    "q20": {
     "name": "q20",
     "points": 5,
     "suites": [
      {
       "cases": [
        {
         "code": ">>> practice_test.check(\"q20\", second_movie_directors)\nTrue",
         "hidden": false,
         "locked": false
        }
       ],
       "scored": true,
       "setup": "",
       "teardown": "",
       "type": "doctest"
      }
     ]
    },
    "q3": {
     "name": "q3",
     "points": 0,
     "suites": [
      {
       "cases": [
        {
         "code": ">>> practice_test.check(\"q3\", mapping_rows)\nTrue",
         "hidden": false,
         "locked": false
        }
       ],
       "scored": true,
       "setup": "",
       "teardown": "",
       "type": "doctest"
      }
     ]
    },
    "q4": {
     "name": "q4",
     "points": 5,
     "suites": [
      {
       "cases": [
        {
         "code": ">>> practice_test.check(\"q4\", mapping_dict)\nTrue",
         "hidden": false,
         "locked": false
        }
       ],
       "scored": true,
       "setup": "",
       "teardown": "",
       "type": "doctest"
      }
     ]
    },
    "q5": {
     "name": "q5",
     "points": 5,
     "suites": [
      {
       "cases": [
        {
         "code": ">>> practice_test.check(\"q5\", nm0160840_value)\nTrue",
         "hidden": false,
         "locked": false
        }
       ],
       "scored": true,
       "setup": "",
       "teardown": "",
       "type": "doctest"
      }
     ]
    },
    "q6": {
     "name": "q6",
     "points": 0,
     "suites": [
      {
       "cases": [
        {
         "code": ">>> practice_test.check(\"q6\", tt4846340_value)\nTrue",
         "hidden": false,
         "locked": false
        }
       ],
       "scored": true,
       "setup": "",
       "teardown": "",
       "type": "doctest"
      }
     ]
    },
    "q7-1": {
     "name": "q7-1",
     "points": 2,
     "suites": [
      {
       "cases": [
        {
         "code": ">>> practice_test.check(\"q7-1\", first_movie)\nTrue",
         "hidden": false,
         "locked": false
        }
       ],
       "scored": true,
       "setup": "",
       "teardown": "",
       "type": "doctest"
      }
     ]
    },
    "q7-2": {
     "name": "q7-2",
     "points": 3,
     "suites": [
      {
       "cases": [
        {
         "code": ">>> practice_test.check(\"q7-2\", raw_movies_list)\nTrue",
         "hidden": false,
         "locked": false
        }
       ],
       "scored": true,
       "setup": "",
       "teardown": "",
       "type": "doctest"
      }
     ]
    },
    "q8": {
     "name": "q8",
     "points": 5,
     "suites": [
      {
       "cases": [
        {
         "code": ">>> practice_test.check(\"q8\", first_movie_title)\nTrue",
         "hidden": false,
         "locked": false
        }
       ],
       "scored": true,
       "setup": "",
       "teardown": "",
       "type": "doctest"
      }
     ]
    },
    "q9": {
     "name": "q9",
     "points": 5,
     "suites": [
      {
       "cases": [
        {
         "code": ">>> practice_test.check(\"q9\", second_movie_duration)\nTrue",
         "hidden": false,
         "locked": false
        }
       ],
       "scored": true,
       "setup": "",
       "teardown": "",
       "type": "doctest"
      }
     ]
    }
   }
  },
  "vscode": {
   "interpreter": {
    "hash": "aee8b7b246df8f9039afb4144a1f6fd8d2ca17a180786b69acc140d282b71a49"
   }
  }
 },
 "nbformat": 4,
 "nbformat_minor": 5
}
