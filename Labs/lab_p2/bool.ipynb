{
 "cells": [
  {
   "cell_type": "markdown",
   "metadata": {},
   "source": [
    "# Boolean Logic\n",
    "\n",
    "Let's get practice with boolean data types and boolean operators. \n",
    "\n",
    "Each input cell will contain a statement in English and the corresponding Python variables to represent the sentence. The variables will either have pre-assigned Boolean values (`True` / `False`) or you will have to fill out the values, as per the provided direction.\n",
    "\n",
    "Recall that in Python, we use the following syntax for assigning values to variables\n",
    "`some_variable = some_value`\n",
    "The `=` is the assignment operator."
   ]
  },
  {
   "cell_type": "code",
   "execution_count": 1,
   "metadata": {},
   "outputs": [
    {
     "data": {
      "text/plain": [
       "True"
      ]
     },
     "execution_count": 1,
     "metadata": {},
     "output_type": "execute_result"
    }
   ],
   "source": [
    "# To pass a class, you must\n",
    "# a) Show up to lectures\n",
    "# AND\n",
    "# b) Do the assignments\n",
    "\n",
    "showed_to_lectures = True\n",
    "did_assignments = True\n",
    "passed = showed_to_lectures and did_assignments\n",
    "\n",
    "# what do you think the value of passed will be?\n",
    "# your answer here: True\n",
    "passed"
   ]
  },
  {
   "cell_type": "code",
   "execution_count": 2,
   "metadata": {},
   "outputs": [
    {
     "data": {
      "text/plain": [
       "False"
      ]
     },
     "execution_count": 2,
     "metadata": {},
     "output_type": "execute_result"
    }
   ],
   "source": [
    "showed_to_lectures = False\n",
    "did_assignments = False\n",
    "passed = showed_to_lectures and did_assignments\n",
    "\n",
    "# what do you think the value of passed will be this time?\n",
    "# your answer here: False\n",
    "passed"
   ]
  },
  {
   "cell_type": "code",
   "execution_count": 3,
   "metadata": {},
   "outputs": [
    {
     "data": {
      "text/plain": [
       "False"
      ]
     },
     "execution_count": 3,
     "metadata": {},
     "output_type": "execute_result"
    }
   ],
   "source": [
    "showed_to_lectures = True\n",
    "did_assignments = False\n",
    "passed = showed_to_lectures and did_assignments\n",
    "\n",
    "# what do you think the value of passed will be this time?\n",
    "# your answer here: False\n",
    "passed"
   ]
  },
  {
   "cell_type": "code",
   "execution_count": 4,
   "metadata": {},
   "outputs": [
    {
     "data": {
      "text/plain": [
       "True"
      ]
     },
     "execution_count": 4,
     "metadata": {},
     "output_type": "execute_result"
    }
   ],
   "source": [
    "# To take this class, you must\n",
    "# a) take all the prerequisites\n",
    "# OR\n",
    "# b) have an exemption from the professor\n",
    "\n",
    "took_prereqs = True\n",
    "has_exemption = True\n",
    "\n",
    "can_take = took_prereqs or has_exemption\n",
    "\n",
    "# what do you think the value of can_take will be this time?\n",
    "# your answer here: True\n",
    "can_take"
   ]
  },
  {
   "cell_type": "code",
   "execution_count": 5,
   "metadata": {},
   "outputs": [
    {
     "data": {
      "text/plain": [
       "False"
      ]
     },
     "execution_count": 5,
     "metadata": {},
     "output_type": "execute_result"
    }
   ],
   "source": [
    "took_prereqs = False\n",
    "has_exemption = False\n",
    "\n",
    "can_take = took_prereqs or has_exemption\n",
    "\n",
    "# what do you think the value of can_take will be this time?\n",
    "# your answer here: False\n",
    "can_take"
   ]
  },
  {
   "cell_type": "code",
   "execution_count": 6,
   "metadata": {},
   "outputs": [
    {
     "data": {
      "text/plain": [
       "True"
      ]
     },
     "execution_count": 6,
     "metadata": {},
     "output_type": "execute_result"
    }
   ],
   "source": [
    "took_prereqs = True\n",
    "has_exemption = False\n",
    "\n",
    "can_take = took_prereqs or has_exemption\n",
    "\n",
    "# what do you think the value of can_take will be this time?\n",
    "# your answer here: True\n",
    "can_take"
   ]
  },
  {
   "cell_type": "code",
   "execution_count": 7,
   "metadata": {},
   "outputs": [
    {
     "data": {
      "text/plain": [
       "True"
      ]
     },
     "execution_count": 7,
     "metadata": {},
     "output_type": "execute_result"
    }
   ],
   "source": [
    "# A car passes its smog test if\n",
    "# a) Its tailpipe emissions are clean \n",
    "# AND\n",
    "# b) It does NOT have a Check Engine Light\n",
    "\n",
    "# What values of these boolean variables will result in a pass?\n",
    "clean_tailpipe = True\n",
    "has_CEL = False\n",
    "\n",
    "# DO NOT EDIT THIS LINE\n",
    "passes_smog = clean_tailpipe and not has_CEL\n",
    "\n",
    "# TODO: Display passes_smog\n",
    "passes_smog"
   ]
  },
  {
   "cell_type": "code",
   "execution_count": 10,
   "metadata": {},
   "outputs": [
    {
     "data": {
      "text/plain": [
       "True"
      ]
     },
     "execution_count": 10,
     "metadata": {},
     "output_type": "execute_result"
    }
   ],
   "source": [
    "# You should take your jacket off when going through airport security if\n",
    "# a) The jacket contains metal\n",
    "# OR\n",
    "# b) You do not have a Known Traveler account\n",
    "\n",
    "# What values of these variables will \n",
    "# force this traveler to take off their jacket?\n",
    "jacket_contains_metal = True\n",
    "is_known_traveler = False\n",
    "\n",
    "# DO NOT EDIT THIS LINE\n",
    "should_remove_jacket = jacket_contains_metal or not is_known_traveler\n",
    "\n",
    "# TODO: Display should_remove_jacket\n",
    "should_remove_jacket"
   ]
  },
  {
   "cell_type": "code",
   "execution_count": 11,
   "metadata": {},
   "outputs": [
    {
     "data": {
      "text/plain": [
       "True"
      ]
     },
     "execution_count": 11,
     "metadata": {},
     "output_type": "execute_result"
    }
   ],
   "source": [
    "# replace the ??? with <, >, or == to make the whole statement True\n",
    "((5 < -10) or (20 > -20)) and (34 == 34)"
   ]
  },
  {
   "cell_type": "code",
   "execution_count": 12,
   "metadata": {},
   "outputs": [
    {
     "data": {
      "text/plain": [
       "True"
      ]
     },
     "execution_count": 12,
     "metadata": {},
     "output_type": "execute_result"
    }
   ],
   "source": [
    "# replace the ??? with <, >, or == to make the whole statement True\n",
    "((1 > -10) and (30 > -35)) and not ((356 > 366) or (-24 > 37))"
   ]
  },
  {
   "cell_type": "markdown",
   "metadata": {},
   "source": [
    "Check in with your TA and show the last expression. If you have any questions, please ask the TA / PM."
   ]
  }
 ],
 "metadata": {
  "kernelspec": {
   "display_name": "Python 3 (ipykernel)",
   "language": "python",
   "name": "python3"
  },
  "language_info": {
   "codemirror_mode": {
    "name": "ipython",
    "version": 3
   },
   "file_extension": ".py",
   "mimetype": "text/x-python",
   "name": "python",
   "nbconvert_exporter": "python",
   "pygments_lexer": "ipython3",
   "version": "3.9.12"
  }
 },
 "nbformat": 4,
 "nbformat_minor": 2
}
