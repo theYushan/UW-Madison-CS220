{
 "cells": [
  {
   "cell_type": "code",
   "execution_count": 1,
   "id": "ef1d537b",
   "metadata": {
    "deletable": false,
    "editable": false
   },
   "outputs": [],
   "source": [
    "# Initialize Otter\n",
    "import otter\n",
    "grader = otter.Notebook(\"practice.ipynb\")"
   ]
  },
  {
   "cell_type": "code",
   "execution_count": 2,
   "id": "878c24a5",
   "metadata": {},
   "outputs": [],
   "source": [
    "import practice_test"
   ]
  },
  {
   "cell_type": "markdown",
   "id": "274d4b64",
   "metadata": {},
   "source": [
    "# Lab-P7: Dictionaries (Drinking Water Accessibility)"
   ]
  },
  {
   "cell_type": "markdown",
   "id": "b10b5bdc",
   "metadata": {},
   "source": [
    "## Segment 2: Loading Data from CSVs"
   ]
  },
  {
   "cell_type": "markdown",
   "id": "2e94458d",
   "metadata": {},
   "source": [
    "## Dataset:\n",
    "\n",
    "In p7, you will be analyzing the data in `water_accessibility.csv`. This dataset has information on the **percentage of population** of each country who had **at least basic** (alb) water supply in the years **2015** and **2020**. You will learn more about the dataset in p7. In lab-p7, you will practice creating dictionaries using the data in `water_accessibliity.csv` and using dictionaries to answer simple questions. \n",
    "\n",
    "For now, open `water_accessibility.csv` with Microsoft Excel or some other Spreadsheet viewer and look at the list of countries in the dataset. Data for each country appears twice, one row for the year `2015` and the other row for year `2020`. Countries which had incomplete data have been **omitted** from the dataset, and we will **ignore** those countries in this project. You do **not** have to deal with any **missing data** in the dataset.\n",
    "\n",
    "The data shows:\n",
    "- `country_code` : the unique country code that consists of three alphabet letters\n",
    "- `country_name` : the name of the country\n",
    "- `region` : the geographical location of the country (does not equal to its corresponding continents, but follows the administrative groupings from [The World Bank](https://datahelpdesk.worldbank.org/knowledgebase/articles/906519-world-bank-country-and-lending-groups)\n",
    "- `year` : the year in which it was subject to data collection\n",
    "- `income_level` : the classification of income level based on GNI per capita in US dollars ([The World Bank Atlas Method](https://datahelpdesk.worldbank.org/knowledgebase/articles/378834-how-does-the-world-bank-classify-countries))\n",
    "- `pop` : population of the country in a specific year (in thousands)\n",
    "- `urban_percent` : the percentage of population in a given country that is urban\n",
    "- `national_alb` : the percentage of a country's population that has access to at least basic water supply\n",
    "- `urban_alb` : the percentage of a country's urban population that has access to at least basic water supply"
   ]
  },
  {
   "cell_type": "markdown",
   "id": "6142e780",
   "metadata": {},
   "source": [
    "### Task 2.1: Processing the CSV file\n",
    "\n",
    "You should first copy/paste the `process_csv` function from your lab-p6 notebook so you can read the data in `water_accessibility.csv`."
   ]
  },
  {
   "cell_type": "code",
   "execution_count": 3,
   "id": "95ec00df",
   "metadata": {
    "tags": []
   },
   "outputs": [],
   "source": [
    "# it is considered a good coding practice to place all import statements at the top of the notebook\n",
    "# please place all your import statements in this cell if you need to import any more modules for this lab\n"
   ]
  },
  {
   "cell_type": "code",
   "execution_count": 4,
   "id": "fee50a9b",
   "metadata": {
    "tags": []
   },
   "outputs": [],
   "source": [
    "# define the 'process_csv' function here\n",
    "def process_csv(filename):\n",
    "    example_file = open(filename, encoding=\"utf-8\")\n",
    "    example_reader = csv.reader(example_file)\n",
    "    example_data = list(example_reader)\n",
    "    example_file.close()\n",
    "    \n",
    "    return example_data"
   ]
  },
  {
   "cell_type": "code",
   "execution_count": 5,
   "id": "1cb308d9",
   "metadata": {
    "tags": []
   },
   "outputs": [
    {
     "ename": "NameError",
     "evalue": "name 'water_accessibility' is not defined",
     "output_type": "error",
     "traceback": [
      "\u001b[0;31m---------------------------------------------------------------------------\u001b[0m",
      "\u001b[0;31mNameError\u001b[0m                                 Traceback (most recent call last)",
      "Input \u001b[0;32mIn [5]\u001b[0m, in \u001b[0;36m<cell line: 4>\u001b[0;34m()\u001b[0m\n\u001b[1;32m      1\u001b[0m \u001b[38;5;66;03m# replace the ... with your code\u001b[39;00m\n\u001b[1;32m      2\u001b[0m \n\u001b[1;32m      3\u001b[0m \u001b[38;5;66;03m# call process_csv here to read 'water_accessibility.csv'\u001b[39;00m\n\u001b[0;32m----> 4\u001b[0m csv_data \u001b[38;5;241m=\u001b[39m process_csv(\u001b[43mwater_accessibility\u001b[49m\u001b[38;5;241m.\u001b[39mcsv)\n\u001b[1;32m      6\u001b[0m \u001b[38;5;66;03m# split the header and data into appropriate variables\u001b[39;00m\n\u001b[1;32m      7\u001b[0m csv_header \u001b[38;5;241m=\u001b[39m csv_data[\u001b[38;5;241m0\u001b[39m]\n",
      "\u001b[0;31mNameError\u001b[0m: name 'water_accessibility' is not defined"
     ]
    }
   ],
   "source": [
    "# replace the ... with your code\n",
    "\n",
    "# call process_csv here to read 'water_accessibility.csv'\n",
    "csv_data = process_csv(water_accessibility.csv)\n",
    "\n",
    "# split the header and data into appropriate variables\n",
    "csv_header = csv_data[0]\n",
    "csv_rows = csv_data[1:]"
   ]
  },
  {
   "cell_type": "markdown",
   "id": "4069d642",
   "metadata": {},
   "source": [
    "### Function 1: `cell(row_idx, col_name)`\n",
    "\n",
    "This function must take in a row index, `row_idx` and a column name, `col_name` as its inputs, and return the value in `water_accessibility.csv` stored there. There is **no missing data** in this dataset.\n",
    "\n",
    "Your `cell` function **must** also typecast the values based on column names (similar to `cell_v2` from [lab-p6](https://git.doit.wisc.edu/cdis/cs/courses/cs220/cs220-f22-projects/-/tree/main/lab-p6)). These are the expected data types for each of the columns:\n",
    "\n",
    "- `country_code` : **str**\n",
    "- `country_name` : **str**\n",
    "- `region` : **str**\n",
    "- `year` : **int**\n",
    "- `income_level` : **str**\n",
    "- `pop` : **int** (handle conversion to thousands)\n",
    "- `urban_percent` : **int**\n",
    "- `national_alb` : **int**\n",
    "- `urban_alb` : **int**\n",
    "\n",
    "**Important:** You **must** only use the `cell` function to extract data from the dataset in p7. If you extract any data without explicitly using this function, you will **lose points** during manual review."
   ]
  },
  {
   "cell_type": "code",
   "execution_count": null,
   "id": "22e15a6c",
   "metadata": {
    "tags": []
   },
   "outputs": [],
   "source": [
    "# define the cell function here\n"
   ]
  },
  {
   "cell_type": "markdown",
   "id": "f687ebae",
   "metadata": {},
   "source": [
    "### Task 2.2: Verifying the `cell` function\n",
    "\n",
    "It is recommended that you verify that you have defined this function properly. Open `water_accessibility.csv` with Microsoft Excel or some other Spreadsheet viewer, then call the `cell` function on different inputs and confirm that the output matches the values in the table.\n",
    "\n",
    "Move on to the next section after you have verified that `cell` function works as it should for the below test cases."
   ]
  },
  {
   "cell_type": "markdown",
   "id": "247d7bdb",
   "metadata": {},
   "source": [
    "**Question 0.1:** What is the data in the `year` column in the *4*th row index?\n",
    "\n",
    "You **must** use the `cell` function to answer this."
   ]
  },
  {
   "cell_type": "code",
   "execution_count": null,
   "id": "62a69705",
   "metadata": {
    "tags": []
   },
   "outputs": [],
   "source": [
    "# we have done this one for you\n",
    "year_idx4 = cell(4, \"year\")\n",
    "\n",
    "year_idx4"
   ]
  },
  {
   "cell_type": "code",
   "execution_count": null,
   "id": "1f5f73b1",
   "metadata": {
    "deletable": false,
    "editable": false
   },
   "outputs": [],
   "source": [
    "grader.check(\"cell_test1\")"
   ]
  },
  {
   "cell_type": "markdown",
   "id": "7fb0fde1",
   "metadata": {},
   "source": [
    "**Question 0.2:** What is the data in the `pop` column in the *5*th row index?\n",
    "\n",
    "You **must** use the `cell` function to answer this.\n",
    "\n",
    "Remember that in the dataset, the `pop` represents the population in thousands, so your `cell` function **must** multiply the value by *1000* if the column name is `pop`."
   ]
  },
  {
   "cell_type": "code",
   "execution_count": null,
   "id": "cad23ff0",
   "metadata": {
    "tags": []
   },
   "outputs": [],
   "source": [
    "# we have done this one for you\n",
    "pop_idx5 = cell(5, \"pop\")\n",
    "\n",
    "pop_idx5"
   ]
  },
  {
   "cell_type": "code",
   "execution_count": null,
   "id": "6211e134",
   "metadata": {
    "deletable": false,
    "editable": false
   },
   "outputs": [],
   "source": [
    "grader.check(\"cell_test2\")"
   ]
  },
  {
   "cell_type": "markdown",
   "id": "df15b1bf",
   "metadata": {},
   "source": [
    "**Question 0.3:** What is the data in the `urban_percent` column in the *57*th row index?\n",
    "\n",
    "You **must** use the `cell` function to answer this."
   ]
  },
  {
   "cell_type": "code",
   "execution_count": null,
   "id": "e0104331",
   "metadata": {
    "tags": []
   },
   "outputs": [],
   "source": [
    "# call cell function to retrive the urban_percent data in the 57th row index\n",
    "urban_percent_idx57 = ...\n",
    "\n",
    "urban_percent_idx57"
   ]
  },
  {
   "cell_type": "code",
   "execution_count": null,
   "id": "13758ec9",
   "metadata": {
    "deletable": false,
    "editable": false
   },
   "outputs": [],
   "source": [
    "grader.check(\"cell_test3\")"
   ]
  },
  {
   "cell_type": "markdown",
   "id": "c0805c83",
   "metadata": {},
   "source": [
    "**Question 0.4:** What is the data in the `national_alb` column in the *58*th row index?\n",
    "You **must** use the `cell` function to answer this."
   ]
  },
  {
   "cell_type": "code",
   "execution_count": null,
   "id": "0d21a35a",
   "metadata": {
    "tags": []
   },
   "outputs": [],
   "source": [
    "# call cell function to retrive the national_alb data in the 58th row index\n",
    "national_alb_idx58 = ...\n",
    "\n",
    "national_alb_idx58"
   ]
  },
  {
   "cell_type": "code",
   "execution_count": null,
   "id": "3564a3b8",
   "metadata": {
    "deletable": false,
    "editable": false
   },
   "outputs": [],
   "source": [
    "grader.check(\"cell_test4\")"
   ]
  },
  {
   "cell_type": "markdown",
   "id": "65b249e1",
   "metadata": {},
   "source": [
    "**Question 0.5:** What is the data in the `urban_alb` column in the *58*th row index?\n",
    "\n",
    "You **must** use the `cell` function to answer this."
   ]
  },
  {
   "cell_type": "code",
   "execution_count": null,
   "id": "da695eca",
   "metadata": {
    "tags": []
   },
   "outputs": [],
   "source": [
    "# call cell function to retrive the urban_alb data in the 58th row index\n",
    "urban_alb_idx58 = ...\n",
    "\n",
    "urban_alb_idx58"
   ]
  },
  {
   "cell_type": "code",
   "execution_count": null,
   "id": "a7017e78",
   "metadata": {
    "deletable": false,
    "editable": false
   },
   "outputs": [],
   "source": [
    "grader.check(\"cell_test5\")"
   ]
  },
  {
   "cell_type": "markdown",
   "id": "4ab1caa0",
   "metadata": {},
   "source": [
    "**Question 0.6:** What is the data in the `country_code` column in the *59*th row index?\n",
    "\n",
    "You **must** use the `cell` function to answer this."
   ]
  },
  {
   "cell_type": "code",
   "execution_count": null,
   "id": "d00eccf7",
   "metadata": {
    "tags": []
   },
   "outputs": [],
   "source": [
    "# call cell function to retrive the country_code data in the 59th row index\n",
    "country_code_idx59 = ...\n",
    "\n",
    "country_code_idx59"
   ]
  },
  {
   "cell_type": "code",
   "execution_count": null,
   "id": "96707d8f",
   "metadata": {
    "deletable": false,
    "editable": false
   },
   "outputs": [],
   "source": [
    "grader.check(\"cell_test6\")"
   ]
  },
  {
   "cell_type": "markdown",
   "id": "ee793d26",
   "metadata": {},
   "source": [
    "**Question 0.7:** What is the data in the `income_level` column in the *59*th row index?\n",
    "\n",
    "You **must** use the `cell` function to answer this."
   ]
  },
  {
   "cell_type": "code",
   "execution_count": null,
   "id": "96065a23",
   "metadata": {
    "tags": []
   },
   "outputs": [],
   "source": [
    "# call cell function to retrive the income_level data in the 59th row index\n",
    "income_level_idx59 = ...\n",
    "\n",
    "income_level_idx59"
   ]
  },
  {
   "cell_type": "code",
   "execution_count": null,
   "id": "b15a6eee",
   "metadata": {
    "deletable": false,
    "editable": false
   },
   "outputs": [],
   "source": [
    "grader.check(\"cell_test7\")"
   ]
  },
  {
   "cell_type": "markdown",
   "id": "4d06c357",
   "metadata": {},
   "source": [
    "## Segment 3: Dictionaries and Looping through Time series data"
   ]
  },
  {
   "cell_type": "markdown",
   "id": "98a0d379",
   "metadata": {},
   "source": [
    "### Task 3.1: Creating and Accessing Dictionaries"
   ]
  },
  {
   "attachments": {
    "rows_example-2.png": {
     "image/png": "[encoded data removed]"
    }
   },
   "cell_type": "markdown",
   "id": "25370e84",
   "metadata": {},
   "source": [
    "**Question 1:** Create a dictionary mapping each `country_name` to its `country_code`.\n",
    "\n",
    "Your output **must** be a **dict** where each key is a `country_name` and the value is the `country_code`. The first five key-value pairs within this **dict** would be these:\n",
    "```\n",
    "{'Afghanistan': 'AFG',\n",
    " 'Albania': 'ALB',\n",
    " 'Algeria': 'DZA',\n",
    " 'Andorra': 'AND',\n",
    " 'Angola': 'AGO',\n",
    " ...\n",
    "}\n",
    "```\n",
    "\n",
    "**Important:** This dataset is different from the previous datasets you have worked with because every country in the dataset has **two** rows: one for the `year` *2015* and one for *2020*. \n",
    "This means that when working with data, you need to make sure to set up your `for` loop in a way that will let you process two rows at once. \n",
    "The data is organized in such a way that for each country, the data from *2015* appears in the **even** indexed rows (0, 2, 4, ...), and the data from *2020* appears in the **odd** indexed rows (1, 3, 5, ...).\n",
    "We can use this to extract data from just the year *2015* or *2020* if necessary.\n",
    "\n",
    "![rows_example-2.png](attachment:rows_example-2.png)"
   ]
  },
  {
   "cell_type": "code",
   "execution_count": null,
   "id": "d02c7b74",
   "metadata": {
    "tags": []
   },
   "outputs": [],
   "source": [
    "# replace the ... with your code\n",
    "\n",
    "# Initialize an empty dictionary\n",
    "country_codes = ...\n",
    "\n",
    "# this will loop through from 0 to len(csv_rows) and increase by 2 numbers each loop\n",
    "# i.e. it will loop through even indices corresponding to just the data from 2015\n",
    "for idx in range(0, len(csv_rows), 2): \n",
    "    # Before you populate the dictionary with the key-value pairs,\n",
    "    # use print function calls to print the key and the value.\n",
    "    # Once you have verified the output for the first five lines of data, \n",
    "    # use the dictionary key-value pair insert syntax to update the dictionary.\n",
    "    # Don't forget to delete the print function call line of code.\n",
    "    country_codes[...] = ...\n",
    "\n",
    "\n",
    "country_codes"
   ]
  },
  {
   "cell_type": "code",
   "execution_count": null,
   "id": "86f0f443",
   "metadata": {
    "deletable": false,
    "editable": false
   },
   "outputs": [],
   "source": [
    "grader.check(\"q1\")"
   ]
  },
  {
   "cell_type": "markdown",
   "id": "5491394b",
   "metadata": {},
   "source": [
    "**Question 2:** What is the country code of *Ireland*?"
   ]
  },
  {
   "cell_type": "code",
   "execution_count": null,
   "id": "7e77ad60",
   "metadata": {
    "tags": []
   },
   "outputs": [],
   "source": [
    "# replace the ... with your code\n",
    "ireland_country_code = ...\n",
    "\n",
    "ireland_country_code"
   ]
  },
  {
   "cell_type": "code",
   "execution_count": null,
   "id": "e60cc1c5",
   "metadata": {
    "deletable": false,
    "editable": false
   },
   "outputs": [],
   "source": [
    "grader.check(\"q2\")"
   ]
  },
  {
   "cell_type": "markdown",
   "id": "dfdecfb7",
   "metadata": {},
   "source": [
    "**Question 3:** What is the country code of *Sudan*?"
   ]
  },
  {
   "cell_type": "code",
   "execution_count": null,
   "id": "517926bb",
   "metadata": {
    "tags": []
   },
   "outputs": [],
   "source": [
    "# replace the ... with your code\n",
    "sudan_country_code = ...\n",
    "\n",
    "sudan_country_code"
   ]
  },
  {
   "cell_type": "code",
   "execution_count": null,
   "id": "3e6e98e4",
   "metadata": {
    "deletable": false,
    "editable": false
   },
   "outputs": [],
   "source": [
    "grader.check(\"q3\")"
   ]
  },
  {
   "cell_type": "markdown",
   "id": "7fb379f8",
   "metadata": {},
   "source": [
    "**Question 4:** Create a dictionary mapping each `country_name` to `income_level` for *2015*.\n",
    "\n",
    "The first five key-value pairs within this **dict** would be these:\n",
    "```\n",
    "{'Afghanistan': 'Low income',\n",
    " 'Albania': 'Upper middle income',\n",
    " 'Algeria': 'Upper middle income',\n",
    " 'Andorra': 'High income',\n",
    " 'Angola': 'Upper middle income',\n",
    " ...\n",
    "}\n",
    "```\n",
    "\n",
    "**Hint:** The data for *2015* is found on rows at **even** indices. "
   ]
  },
  {
   "cell_type": "code",
   "execution_count": null,
   "id": "2a22e392",
   "metadata": {
    "tags": []
   },
   "outputs": [],
   "source": [
    "# replace the ... with your code\n",
    "\n",
    "# Initialize an empty dictionary\n",
    "income_levels_2015 = ...\n",
    "\n",
    "# you need to loop through from 0 to len(csv_rows) and increase by 2 numbers each loop\n",
    "for idx in range(..., ..., ...):\n",
    "    # Before you populate the dictionary with the key-value pairs,\n",
    "    # use print function calls to print the key and the value.\n",
    "    # Once you have verified the output for the first five lines of data, \n",
    "    # use the dictionary key-value pair insert syntax to update the dictionary.\n",
    "    # Don't forget to delete the print function call line of code.\n",
    "    income_levels_2015[...] = ...\n",
    "\n",
    "\n",
    "income_levels_2015"
   ]
  },
  {
   "cell_type": "code",
   "execution_count": null,
   "id": "4795f393",
   "metadata": {
    "deletable": false,
    "editable": false
   },
   "outputs": [],
   "source": [
    "grader.check(\"q4\")"
   ]
  },
  {
   "cell_type": "markdown",
   "id": "08db305d",
   "metadata": {},
   "source": [
    "**Question 5:** Create a dictionary mapping each `country_name` to `income_level` for *2020*.\n",
    "\n",
    "The first five key-value pairs within this **dict** would be these:\n",
    "```\n",
    "{'Afghanistan': 'Low income',\n",
    " 'Albania': 'Upper middle income',\n",
    " 'Algeria': 'Lower middle income',\n",
    " 'Andorra': 'High income',\n",
    " 'Angola': 'Lower middle income',\n",
    " ...\n",
    "}\n",
    "```\n",
    "\n",
    "**Hint:** The data for *2020* is found on rows at **odd** indices. "
   ]
  },
  {
   "cell_type": "code",
   "execution_count": null,
   "id": "27e96924",
   "metadata": {
    "tags": []
   },
   "outputs": [],
   "source": [
    "# replace the ... with your code\n",
    "\n",
    "# Initialize an empty dictionary\n",
    "income_levels_2020 = ...\n",
    "\n",
    "# you need to loop through from 1 to len(csv_rows) and increase by 2 numbers each loop\n",
    "for idx in range(..., ..., ...):\n",
    "    # Before you populate the dictionary with the key-value pairs,\n",
    "    # use print function calls to print the key and the value.\n",
    "    # Once you have verified the output for the first five lines of data, \n",
    "    # use the dictionary key-value pair insert syntax to update the dictionary\n",
    "    # Don't forget to delete the print function call line of code.\n",
    "    income_levels_2020[...] = ...\n",
    "\n",
    "\n",
    "income_levels_2020"
   ]
  },
  {
   "cell_type": "code",
   "execution_count": null,
   "id": "235c2e07",
   "metadata": {
    "deletable": false,
    "editable": false
   },
   "outputs": [],
   "source": [
    "grader.check(\"q5\")"
   ]
  },
  {
   "cell_type": "markdown",
   "id": "d042c7d2",
   "metadata": {},
   "source": [
    "**Question 6.1:** What is the `income_level` of *Zimbabwe* in *2015*?"
   ]
  },
  {
   "cell_type": "code",
   "execution_count": null,
   "id": "1582e55d",
   "metadata": {
    "tags": []
   },
   "outputs": [],
   "source": [
    "# replace the ... with your code\n",
    "\n",
    "zimbabwe_income_level_2015 = ...\n",
    "\n",
    "zimbabwe_income_level_2015"
   ]
  },
  {
   "cell_type": "code",
   "execution_count": null,
   "id": "81fa2887",
   "metadata": {
    "deletable": false,
    "editable": false
   },
   "outputs": [],
   "source": [
    "grader.check(\"q6-1\")"
   ]
  },
  {
   "cell_type": "markdown",
   "id": "6d2b09af",
   "metadata": {},
   "source": [
    "**Question 6.2:** What is the `income_level` of *Zimbabwe* in *2020*?"
   ]
  },
  {
   "cell_type": "code",
   "execution_count": null,
   "id": "cf62c3f4",
   "metadata": {
    "scrolled": true,
    "tags": []
   },
   "outputs": [],
   "source": [
    "# replace the ... with your code\n",
    "\n",
    "zimbabwe_income_level_2020 = ...\n",
    "\n",
    "zimbabwe_income_level_2020"
   ]
  },
  {
   "cell_type": "code",
   "execution_count": null,
   "id": "8456840b",
   "metadata": {
    "deletable": false,
    "editable": false
   },
   "outputs": [],
   "source": [
    "grader.check(\"q6-2\")"
   ]
  },
  {
   "cell_type": "markdown",
   "id": "cb6ca277",
   "metadata": {},
   "source": [
    "### Task 3.2: Comparing data in odd and even indices\n",
    "\n",
    "We have already seen that the data from the year *2015* is stored in **even** indices, and the data from the year *2020* is stored in **odd** indices. Moreover, the data from each country is stored in consecutive rows. This allows us to easily compare data from the years *2015* and *2020* for a single country. Run the following cell, and figure out what it is doing:"
   ]
  },
  {
   "cell_type": "code",
   "execution_count": null,
   "id": "1fc034b6",
   "metadata": {},
   "outputs": [],
   "source": [
    "for idx in range(0, 10, 2):\n",
    "    idx_2015 = idx\n",
    "    idx_2020 = idx + 1\n",
    "    print('At row idx ' + str(idx_2015) + ' the year is ' + str(cell(idx_2015, 'year')))\n",
    "    print('At row idx ' + str(idx_2020) + ' the year is ' + str(cell(idx_2020, 'year')))"
   ]
  },
  {
   "cell_type": "markdown",
   "id": "c754f145",
   "metadata": {},
   "source": [
    "See if you can edit the code above to make it display the `pop` of the years *2015* and *2020* from the first 10 rows of the dataset."
   ]
  },
  {
   "cell_type": "markdown",
   "id": "53f9a2d6",
   "metadata": {},
   "source": [
    "**Question 7:** Create a **list** of all the countries (`country_name`) whose populations (`pop`) have **decreased** from *2015* to *2020*."
   ]
  },
  {
   "cell_type": "code",
   "execution_count": null,
   "id": "b9ae5c38",
   "metadata": {
    "tags": []
   },
   "outputs": [],
   "source": [
    "# replace the ... with your code\n",
    "\n",
    "# initalize as an empty list\n",
    "pop_decrease_countries = ...\n",
    "\n",
    "# you need to loop through only even indices to avoid duplicate counting of the rows\n",
    "for idx in range(..., ..., ...):\n",
    "    idx_2015 = ...\n",
    "    idx_2020 = ...\n",
    "    if ...: # check if population in 2020 is less than population in 2015\n",
    "        pop_decrease_countries.append(...)\n",
    "        \n",
    "pop_decrease_countries"
   ]
  },
  {
   "cell_type": "code",
   "execution_count": null,
   "id": "c50df33c",
   "metadata": {
    "deletable": false,
    "editable": false
   },
   "outputs": [],
   "source": [
    "grader.check(\"q7\")"
   ]
  },
  {
   "cell_type": "markdown",
   "id": "58fb5e00",
   "metadata": {},
   "source": [
    "**Question 8:** Create a list of all the countries whose urban population percentage (`urban_percent`) **increased** from *2015* to *2020*."
   ]
  },
  {
   "cell_type": "code",
   "execution_count": null,
   "id": "e6815bcd",
   "metadata": {
    "tags": []
   },
   "outputs": [],
   "source": [
    "# replace the ... with your code\n",
    "\n",
    "# initialize as an empty list\n",
    "more_urban_countries = []\n",
    "\n",
    "# you need to loop through only even (or only odd) indices to avoid duplicate counting of the rows\n",
    "# and add the country_name to the list if urban_percent is higher in 2020 than in 2015\n",
    "        \n",
    "more_urban_countries"
   ]
  },
  {
   "cell_type": "code",
   "execution_count": null,
   "id": "441a6154",
   "metadata": {
    "deletable": false,
    "editable": false
   },
   "outputs": [],
   "source": [
    "grader.check(\"q8\")"
   ]
  },
  {
   "cell_type": "markdown",
   "id": "99daeb5e",
   "metadata": {},
   "source": [
    "### Task 3.3: Working with Nested Dictionaries\n",
    "\n",
    "You have defined two dictionaries `income_levels_2015` and `income_levels_2020`. You will now create a *nested* dictionary that combines both these dictionaries."
   ]
  },
  {
   "cell_type": "markdown",
   "id": "957238a2",
   "metadata": {},
   "source": [
    "**Question 9:** Create a dictionary mapping each `country_name` to another **dictionary** that maps each `year` to `income_level`. You may hardcode the years *2015* and *2020* for this question.\n",
    "\n",
    "The first five key-value pairs within this **dict** would be these:\n",
    "```\n",
    "{'Afghanistan': {2015: 'Low income', 2020: 'Low income'},\n",
    " 'Albania': {2015: 'Upper middle income', 2020: 'Upper middle income'},\n",
    " 'Algeria': {2015: 'Upper middle income', 2020: 'Lower middle income'},\n",
    " 'Andorra': {2015: 'High income', 2020: 'High income'},\n",
    " 'Angola': {2015: 'Upper middle income', 2020: 'Lower middle income'},\n",
    " ...\n",
    "}\n",
    "```\n"
   ]
  },
  {
   "cell_type": "code",
   "execution_count": null,
   "id": "996eb5de",
   "metadata": {
    "tags": []
   },
   "outputs": [],
   "source": [
    "# replace the ... with your code\n",
    "\n",
    "# Initialize an empty dictionary\n",
    "income_levels = ...\n",
    "\n",
    "# you need to loop through only even (or only odd) indices to avoid duplicate counting of the rows\n",
    "for idx in range(..., ..., ...):\n",
    "    country_name = cell(idx, \"country_name\")\n",
    "    # initialize an empty nested dictionary as the value\n",
    "    income_levels[country_name] = ...\n",
    "    # First, use print function call to display the 2015 income_level for\n",
    "    # the current country. Once you verify that, delete the print function call line.\n",
    "    # add the income_level for 2015 as key-value pair to inner dictionary\n",
    "    income_levels[...][...] = income_levels_2015[...]\n",
    "    # add the income_level for 2020 as key-value pair to inner dictionary\n",
    "    income_levels[...][...] = income_levels_2020[...]\n",
    "\n",
    "income_levels"
   ]
  },
  {
   "cell_type": "code",
   "execution_count": null,
   "id": "4fa82e61",
   "metadata": {
    "deletable": false,
    "editable": false
   },
   "outputs": [],
   "source": [
    "grader.check(\"q9\")"
   ]
  },
  {
   "cell_type": "markdown",
   "id": "ada0cd58",
   "metadata": {},
   "source": [
    "**Question 10.1:** Use the nested dictionary you created to find the income level of *Cuba* in *2015*.\n",
    "\n",
    "You **must** use the dictionary `income_levels` to answer this question."
   ]
  },
  {
   "cell_type": "code",
   "execution_count": null,
   "id": "8ab0c99f",
   "metadata": {
    "tags": []
   },
   "outputs": [],
   "source": [
    "# replace the ... with your code\n",
    "\n",
    "cuba_income_level_2015 = income_levels[...][...]\n",
    "\n",
    "cuba_income_level_2015"
   ]
  },
  {
   "cell_type": "code",
   "execution_count": null,
   "id": "05633ffe",
   "metadata": {
    "deletable": false,
    "editable": false
   },
   "outputs": [],
   "source": [
    "grader.check(\"q10-1\")"
   ]
  },
  {
   "cell_type": "markdown",
   "id": "57097128",
   "metadata": {},
   "source": [
    "**Question 10.2:** Use the nested dictionary you created to find the income level of *Gibraltar* in *2020*.\n",
    "\n",
    "You **must** use the dictionary `income_levels` to answer this question."
   ]
  },
  {
   "cell_type": "code",
   "execution_count": null,
   "id": "2766eda5",
   "metadata": {
    "scrolled": false,
    "tags": []
   },
   "outputs": [],
   "source": [
    "# replace the ... with your code\n",
    "\n",
    "gibraltar_income_level_2020 = income_levels[...][...]\n",
    "\n",
    "gibraltar_income_level_2020"
   ]
  },
  {
   "cell_type": "code",
   "execution_count": null,
   "id": "81c1bdd5",
   "metadata": {
    "deletable": false,
    "editable": false
   },
   "outputs": [],
   "source": [
    "grader.check(\"q10-2\")"
   ]
  },
  {
   "cell_type": "markdown",
   "id": "0700c958",
   "metadata": {},
   "source": [
    "**Question 11**: Create a dictionary mapping each `country_name` to a **boolean** representing whether or not the `income_level` of a country is different in *2020* and *2015*.\n",
    "\n",
    "The first five key-value pairs within this **dict** would be these:\n",
    "```\n",
    "{'Afghanistan': False,\n",
    " 'Albania': False,\n",
    " 'Algeria': True,\n",
    " 'Andorra': False,\n",
    " 'Angola': True,\n",
    " ...\n",
    "}\n",
    "```\n",
    "\n",
    "You have already created a nested dictionary called `income_levels` which contains all the relevant data. Loop through the keys of that dictionary and combine the data from the inner dictionary to create your dictionary."
   ]
  },
  {
   "cell_type": "code",
   "execution_count": null,
   "id": "53ea9fe8",
   "metadata": {
    "tags": []
   },
   "outputs": [],
   "source": [
    "# replace the ... with your code\n",
    "\n",
    "# initialize an empty dictionary\n",
    "income_level_differences = ...\n",
    "\n",
    "# loop over the keys of income_levels\n",
    "for ... in ...:\n",
    "    if ...: \n",
    "        # use the dictionary income_levels to compare 2015 and 2020 income_level\n",
    "        income_change_boolean = True\n",
    "    else:\n",
    "        income_change_boolean = False\n",
    "    # map the country name to the boolean\n",
    "    income_level_differences[...] = income_change_boolean\n",
    "\n",
    "income_level_differences"
   ]
  },
  {
   "cell_type": "code",
   "execution_count": null,
   "id": "a14359df",
   "metadata": {
    "deletable": false,
    "editable": false
   },
   "outputs": [],
   "source": [
    "grader.check(\"q11\")"
   ]
  },
  {
   "cell_type": "markdown",
   "id": "5a38af5a",
   "metadata": {},
   "source": [
    "### Task 3.4: Binning\n",
    "\n",
    "We created the dictionary `income_levels_2015` a little while ago which maps each `country_name` to its `income_level`. We will now use this dictionary to create a **new** dictionary where each key is an `income_level`, and the corresponding value is a **list** of all the countries with that `income_level`."
   ]
  },
  {
   "cell_type": "markdown",
   "id": "99fc4fcb",
   "metadata": {},
   "source": [
    "**Question 12:** Create a new dictionary using the `income_levels_2015` dictionary by mapping each `income_level` to a **list** of all the countries (`country_name`) with that `income_level`.\n",
    "\n",
    "The first three country names for each key within this **dict** would be these:\n",
    "```\n",
    "{'Low income': ['Afghanistan',\n",
    "  'Benin',\n",
    "  'Burkina Faso', ...],\n",
    " 'Upper middle income': ['Albania',\n",
    "  'Algeria',\n",
    "  'Angola', ...],\n",
    " 'High income': ['Andorra',\n",
    "  'Australia',\n",
    "  'Austria', ...],\n",
    " 'Lower middle income': ['Armenia',\n",
    "  'Bangladesh',\n",
    "  'Bhutan', ...]\n",
    "}\n",
    "```"
   ]
  },
  {
   "cell_type": "code",
   "execution_count": null,
   "id": "1e218509",
   "metadata": {
    "tags": []
   },
   "outputs": [],
   "source": [
    "# replace the ... with your code\n",
    "\n",
    "# initialize an empty dictionary\n",
    "income_levels_to_country_names_2015 = ...\n",
    "\n",
    "# loop over the keys of income_levels_2015\n",
    "for ... in ...:\n",
    "    # find the income_level of the country\n",
    "    income_level = ...\n",
    "    # if the income_level doesn't already exist in the new dict, map it to an empty list \n",
    "    if income_level not in income_levels_to_country_names_2015:\n",
    "        income_levels_to_country_names_2015[income_level] = ...\n",
    "    # append the country name to the list\n",
    "    income_levels_to_country_names_2015[income_level].append(...)\n",
    "\n",
    "income_levels_to_country_names_2015"
   ]
  },
  {
   "cell_type": "code",
   "execution_count": null,
   "id": "cc9a56d3",
   "metadata": {
    "deletable": false,
    "editable": false
   },
   "outputs": [],
   "source": [
    "grader.check(\"q12\")"
   ]
  },
  {
   "cell_type": "markdown",
   "id": "ed2fd0f6",
   "metadata": {},
   "source": [
    "**Question 13:** Create a new dictionary using the `income_levels_2020` dictionary by mapping each `income_level` to a **list** of all the countries (`country_name`) with that `income_level`."
   ]
  },
  {
   "cell_type": "code",
   "execution_count": null,
   "id": "8b78d568",
   "metadata": {
    "tags": []
   },
   "outputs": [],
   "source": [
    "# replace the ... with your code\n",
    "\n",
    "# initialize an empty dictionary\n",
    "income_levels_to_country_names_2020 = ...\n",
    "\n",
    "# loop over the keys of income_levels_2020\n",
    "# and update income_levels_to_country_names_2020 by appending each country to the correct list\n",
    "\n",
    "income_levels_to_country_names_2020"
   ]
  },
  {
   "cell_type": "code",
   "execution_count": null,
   "id": "578ae9ba",
   "metadata": {
    "deletable": false,
    "editable": false
   },
   "outputs": [],
   "source": [
    "grader.check(\"q13\")"
   ]
  },
  {
   "cell_type": "markdown",
   "id": "17eb7f34",
   "metadata": {},
   "source": [
    "### Task 3.5: Summarizing Data in Dictionaries"
   ]
  },
  {
   "cell_type": "markdown",
   "id": "e119acb3",
   "metadata": {},
   "source": [
    "**Question 14.1:** Create a new dictionary that maps each `income_level` to the **number** of countries with that `income_level` in *2015*.\n",
    "\n",
    "The key-value pairs within this **dict** would be these:\n",
    "```\n",
    "{'Low income': 25,\n",
    " 'Upper middle income': 44,\n",
    " 'High income': 41,\n",
    " 'Lower middle income': 41}\n",
    "```\n",
    "\n",
    "**Hint:** Start with the dictionary `income_levels_to_country_names_2015`. Your new dictionary must have the same keys, but the values must be the **length** of the corresponding values in `income_levels_to_country_names_2015`."
   ]
  },
  {
   "cell_type": "code",
   "execution_count": null,
   "id": "1573958f",
   "metadata": {
    "tags": []
   },
   "outputs": [],
   "source": [
    "# replace the ... with your code\n",
    "\n",
    "# initialize an empty dictionary\n",
    "income_level_country_counts_2015 = ...\n",
    "\n",
    "# loop over the keys of income_levels_to_country_names_2015\n",
    "for ... in ...:\n",
    "    # map the income level to the length of the value in income_levels_to_country_names_2015\n",
    "    income_level_country_counts_2015[...] = len(...)\n",
    "\n",
    "income_level_country_counts_2015"
   ]
  },
  {
   "cell_type": "code",
   "execution_count": null,
   "id": "37f8c9a5",
   "metadata": {
    "deletable": false,
    "editable": false
   },
   "outputs": [],
   "source": [
    "grader.check(\"q14-1\")"
   ]
  },
  {
   "cell_type": "markdown",
   "id": "20b81859",
   "metadata": {},
   "source": [
    "**Question 14.2**: Create a new dictionary that maps each `income_level` to the **number** of countries with that `income_level` in *2020*.\n",
    "\n",
    "The key-value pairs within this **dict** would be these:\n",
    "```\n",
    "{'Low income': 22,\n",
    " 'Upper middle income': 43,\n",
    " 'Lower middle income': 44,\n",
    " 'High income': 42}\n",
    "\n",
    "```"
   ]
  },
  {
   "cell_type": "code",
   "execution_count": null,
   "id": "de02f1a1",
   "metadata": {
    "tags": []
   },
   "outputs": [],
   "source": [
    "# replace the ... with your code\n",
    "\n",
    "# initialize an empty dictionary\n",
    "income_level_country_counts_2020 = ...\n",
    "\n",
    "# loop over the keys of income_levels_to_country_names_2020\n",
    "# and map the income_level to the length\n",
    "\n",
    "income_level_country_counts_2020"
   ]
  },
  {
   "cell_type": "code",
   "execution_count": null,
   "id": "eb047f1b",
   "metadata": {
    "deletable": false,
    "editable": false
   },
   "outputs": [],
   "source": [
    "grader.check(\"q14-2\")"
   ]
  },
  {
   "cell_type": "markdown",
   "id": "78e0e669",
   "metadata": {},
   "source": [
    "### Task 3.6: Combining data from different dictionaries"
   ]
  },
  {
   "cell_type": "markdown",
   "id": "11017dfb",
   "metadata": {},
   "source": [
    "**Question 15.1:** Create a dictionary that maps each `country_name` to the population (`pop`) of that country in *2020*.\n",
    "\n",
    "The first five key-value pairs within this **dict** would be these:\n",
    "```\n",
    "{'Afghanistan': 38928000,\n",
    " 'Albania': 2878000,\n",
    " 'Algeria': 43851000,\n",
    " 'Andorra': 77000,\n",
    " 'Angola': 32866000,\n",
    " ...\n",
    "}\n",
    "```\n",
    "\n",
    "\n",
    "**Reminder:** The `pop` column represents the population in **thousands**. Your `cell` function definition should already have handled this conversion."
   ]
  },
  {
   "cell_type": "code",
   "execution_count": null,
   "id": "0c13f8fa",
   "metadata": {
    "tags": []
   },
   "outputs": [],
   "source": [
    "# replace the ... with your code\n",
    "\n",
    "# initialize an empty dictionary\n",
    "pops = ...\n",
    "\n",
    "# loop over the odd indices of csv_rows to get the data for 2020\n",
    "# and map the country_name to the pop\n",
    "\n",
    "pops"
   ]
  },
  {
   "cell_type": "code",
   "execution_count": null,
   "id": "4fab346a",
   "metadata": {
    "deletable": false,
    "editable": false
   },
   "outputs": [],
   "source": [
    "grader.check(\"q15-1\")"
   ]
  },
  {
   "cell_type": "markdown",
   "id": "e691461e",
   "metadata": {},
   "source": [
    "**Question 15.2:** Create a dictionary that maps each `country_name` to the urban population percentage (`urban_percent`) of that country in *2020*.\n",
    "\n",
    "The first five key-value pairs within this **dict** would be these:\n",
    "```\n",
    "{'Afghanistan': 26,\n",
    " 'Albania': 62,\n",
    " 'Algeria': 74,\n",
    " 'Andorra': 88,\n",
    " 'Angola': 67,\n",
    " ...\n",
    "}\n",
    "```"
   ]
  },
  {
   "cell_type": "code",
   "execution_count": null,
   "id": "05052939",
   "metadata": {
    "tags": []
   },
   "outputs": [],
   "source": [
    "# compute and store the answer in the variable 'urban_percents', then display it\n"
   ]
  },
  {
   "cell_type": "code",
   "execution_count": null,
   "id": "e86cdde4",
   "metadata": {
    "deletable": false,
    "editable": false
   },
   "outputs": [],
   "source": [
    "grader.check(\"q15-2\")"
   ]
  },
  {
   "cell_type": "markdown",
   "id": "9fd3a644",
   "metadata": {},
   "source": [
    "**Question 16:** Using the two dictionaries `pops` and `urban_percents`, create a new dictionary that maps each `country_name` to the size of the urban population of that country in *2020*.\n",
    "\n",
    "You **must** round the numbers to the nearest integer using the built-in function `round`.  To learn more about the `round` function, check out this [link](https://docs.python.org/3/library/functions.html#round).\n",
    "\n",
    "The first five key-value pairs within this **dict** would be these:\n",
    "```\n",
    "{'Afghanistan': 10121280,\n",
    " 'Albania': 1784360,\n",
    " 'Algeria': 32449740,\n",
    " 'Andorra': 67760,\n",
    " 'Angola': 22020220,\n",
    " ...\n",
    " }\n",
    "```\n",
    "\n",
    "**Hint:** For each country, the size of the urban population is just the `pop * urban_percent / 100`"
   ]
  },
  {
   "cell_type": "code",
   "execution_count": null,
   "id": "30ada55a",
   "metadata": {
    "tags": []
   },
   "outputs": [],
   "source": [
    "# replace the ... with your code\n",
    "\n",
    "# initialize an empty dictionary\n",
    "urban_populations = ...\n",
    "\n",
    "# loop over the keys of either pops/urban_percents (it doesn't matter as they are the same)\n",
    "for ... in ...:\n",
    "    # map the country name to its urban population using data from pops and urban_percents\n",
    "    # Remember that both pops and urban_percents have the same keys (country names)\n",
    "    # So a single for loop can be sufficient to access data from both of these dictionaries\n",
    "    urban_populations[...] = ...\n",
    "\n",
    "urban_populations"
   ]
  },
  {
   "cell_type": "code",
   "execution_count": null,
   "id": "7899c8a0",
   "metadata": {
    "deletable": false,
    "editable": false
   },
   "outputs": [],
   "source": [
    "grader.check(\"q16\")"
   ]
  },
  {
   "cell_type": "markdown",
   "id": "5ffe560b",
   "metadata": {},
   "source": [
    "### Task 3.7: Finding Minimum/Maximum Values in Dictionaries"
   ]
  },
  {
   "cell_type": "markdown",
   "id": "41c8fd6f",
   "metadata": {},
   "source": [
    "**Question 17**: What is the name of the country with the **smallest** urban population? Do not worry about ties."
   ]
  },
  {
   "cell_type": "code",
   "execution_count": null,
   "id": "9a26ff11",
   "metadata": {
    "tags": []
   },
   "outputs": [],
   "source": [
    "# replace the ... with your code\n",
    "\n",
    "# initialize a new variable as None\n",
    "smallest_urban_country = ...\n",
    "\n",
    "# loop over the keys of urban_populations\n",
    "for ... in ...:\n",
    "    # check if the variable smallest_urban_country should be updated\n",
    "    if ...:\n",
    "        # correctly update the variable\n",
    "        smallest_urban_country = ...\n",
    "\n",
    "smallest_urban_country"
   ]
  },
  {
   "cell_type": "code",
   "execution_count": null,
   "id": "2b787e06",
   "metadata": {
    "deletable": false,
    "editable": false
   },
   "outputs": [],
   "source": [
    "grader.check(\"q17\")"
   ]
  },
  {
   "cell_type": "markdown",
   "id": "a65d7dbf",
   "metadata": {},
   "source": [
    "**Question 18**: What is the name of the country with the **largest** urban population? Do not worry about ties."
   ]
  },
  {
   "cell_type": "code",
   "execution_count": null,
   "id": "bf65200d",
   "metadata": {
    "tags": []
   },
   "outputs": [],
   "source": [
    "# compute and store the answer in the variable 'largest_urban_country', then display it\n"
   ]
  },
  {
   "cell_type": "code",
   "execution_count": null,
   "id": "cf91e415",
   "metadata": {
    "deletable": false,
    "editable": false
   },
   "outputs": [],
   "source": [
    "grader.check(\"q18\")"
   ]
  },
  {
   "cell_type": "markdown",
   "id": "8de5ec57",
   "metadata": {},
   "source": [
    "### Task 3.8: Adding additional data to nested dictionaries\n",
    "\n",
    "You have already defined a nested dictionary `income_levels` in Q9. This is a dictionary where each `country_name` maps to an inner dictionary with the keys *2015* and *2020*. The corresponding values for this inner dictionary are the `income_levels` of `country_name` in *2015* and *2020* respectively.\n",
    "\n",
    "You will now add an additional column to this nested dictionary."
   ]
  },
  {
   "cell_type": "markdown",
   "id": "979f1bae",
   "metadata": {},
   "source": [
    "**Question 19**: Add an additional key-value pair mapping the string `\"region\"` to the `region` of each country to each of the inner dictionaries of `income_levels`.\n",
    "\n",
    "The value of the variable `income_levels` should look like this:\n",
    "```python\n",
    "{'Afghanistan': {2015: 'Low income',\n",
    "  2020: 'Low income',\n",
    "  'region': 'South Asia'},\n",
    " 'Albania': {2015: 'Upper middle income',\n",
    "  2020: 'Upper middle income',\n",
    "  'region': 'Europe & Central Asia'},\n",
    " 'Algeria': {2015: 'Upper middle income',\n",
    "  2020: 'Lower middle income',\n",
    "  'region': 'Middle East & North Africa'},\n",
    "  ...\n",
    "}\n",
    "```"
   ]
  },
  {
   "cell_type": "code",
   "execution_count": null,
   "id": "af41313e",
   "metadata": {
    "tags": []
   },
   "outputs": [],
   "source": [
    "# update the value of the variable 'income_levels', then display it\n"
   ]
  },
  {
   "cell_type": "code",
   "execution_count": null,
   "id": "89c473f1",
   "metadata": {
    "deletable": false,
    "editable": false
   },
   "outputs": [],
   "source": [
    "grader.check(\"q19\")"
   ]
  },
  {
   "cell_type": "markdown",
   "id": "2e983216",
   "metadata": {},
   "source": [
    "### Task 3.9: More binning"
   ]
  },
  {
   "cell_type": "markdown",
   "id": "069662f1",
   "metadata": {},
   "source": [
    "**Question 20**: Create a new dictionary that maps each `region` to the **list** of countries from that region whose `income_level` was *Lower middle income* in *2020*.\n",
    "\n",
    "You **must** create a bin for each `income_level` even if there is no country in that `income_level`. In this instance, there was no *Lower middle income* country in *2020* from the `region` of *North America*. However, we still **require** that *North America* be included as a key in our dictionary, but with the value being the empty list `[]`.\n",
    "\n",
    "You can accomplish this by first initializing all keys to the dictionary with the value as `[]`, and then adding the values to these bins in a separate loop, as in the code snippet below."
   ]
  },
  {
   "cell_type": "code",
   "execution_count": null,
   "id": "2f44e990",
   "metadata": {
    "tags": []
   },
   "outputs": [],
   "source": [
    "# replace the ... with your code\n",
    "\n",
    "# initialize as an empty dictionary\n",
    "lower_mid_countries_by_region = ...\n",
    "# we make a list of all the regions\n",
    "regions_list = []\n",
    "for country_name in income_levels:\n",
    "    regions_list.append(income_levels[country_name]['region'])\n",
    "\n",
    "# we then add the unique regions as keys to the dictionary\n",
    "for region in list(set(regions_list)):\n",
    "    lower_mid_countries_by_region[region] = []\n",
    "    \n",
    "# loop over the keys of income_levels\n",
    "for ... in ...:\n",
    "    # find the region of the country\n",
    "    region = ...\n",
    "    # if the income level of the country was 'Lower middle income' in 2020,\n",
    "    # add country to the correct bin\n",
    "\n",
    "lower_mid_countries_by_region"
   ]
  },
  {
   "cell_type": "code",
   "execution_count": null,
   "id": "a83ffe8d",
   "metadata": {
    "deletable": false,
    "editable": false
   },
   "outputs": [],
   "source": [
    "grader.check(\"q20\")"
   ]
  },
  {
   "cell_type": "markdown",
   "id": "d3265a43",
   "metadata": {},
   "source": [
    "## Great work! You are now ready to start [p7](https://git.doit.wisc.edu/cdis/cs/courses/cs220/cs220-f22-projects/-/tree/main/p7)."
   ]
  }
 ],
 "metadata": {
  "kernelspec": {
   "display_name": "Python 3 (ipykernel)",
   "language": "python",
   "name": "python3"
  },
  "language_info": {
   "codemirror_mode": {
    "name": "ipython",
    "version": 3
   },
   "file_extension": ".py",
   "mimetype": "text/x-python",
   "name": "python",
   "nbconvert_exporter": "python",
   "pygments_lexer": "ipython3",
   "version": "3.9.12"
  },
  "otter": {
   "OK_FORMAT": true,
   "tests": {
    "cell_test1": {
     "name": "cell_test1",
     "points": 0,
     "suites": [
      {
       "cases": [
        {
         "code": ">>> practice_test.check(\"q0-1\", year_idx4)\nTrue",
         "hidden": false,
         "locked": false
        }
       ],
       "scored": true,
       "setup": "",
       "teardown": "",
       "type": "doctest"
      }
     ]
    },
    "cell_test2": {
     "name": "cell_test2",
     "points": 0,
     "suites": [
      {
       "cases": [
        {
         "code": ">>> practice_test.check(\"q0-2\", pop_idx5)\nTrue",
         "hidden": false,
         "locked": false
        }
       ],
       "scored": true,
       "setup": "",
       "teardown": "",
       "type": "doctest"
      }
     ]
    },
    "cell_test3": {
     "name": "cell_test3",
     "points": 0,
     "suites": [
      {
       "cases": [
        {
         "code": ">>> practice_test.check(\"q0-3\", urban_percent_idx57)\nTrue",
         "hidden": false,
         "locked": false
        }
       ],
       "scored": true,
       "setup": "",
       "teardown": "",
       "type": "doctest"
      }
     ]
    },
    "cell_test4": {
     "name": "cell_test4",
     "points": 0,
     "suites": [
      {
       "cases": [
        {
         "code": ">>> practice_test.check(\"q0-4\", national_alb_idx58)\nTrue",
         "hidden": false,
         "locked": false
        }
       ],
       "scored": true,
       "setup": "",
       "teardown": "",
       "type": "doctest"
      }
     ]
    },
    "cell_test5": {
     "name": "cell_test5",
     "points": 0,
     "suites": [
      {
       "cases": [
        {
         "code": ">>> practice_test.check(\"q0-5\", urban_alb_idx58)\nTrue",
         "hidden": false,
         "locked": false
        }
       ],
       "scored": true,
       "setup": "",
       "teardown": "",
       "type": "doctest"
      }
     ]
    },
    "cell_test6": {
     "name": "cell_test6",
     "points": 0,
     "suites": [
      {
       "cases": [
        {
         "code": ">>> practice_test.check(\"q0-6\", country_code_idx59)\nTrue",
         "hidden": false,
         "locked": false
        }
       ],
       "scored": true,
       "setup": "",
       "teardown": "",
       "type": "doctest"
      }
     ]
    },
    "cell_test7": {
     "name": "cell_test7",
     "points": 0,
     "suites": [
      {
       "cases": [
        {
         "code": ">>> practice_test.check(\"q0-7\", income_level_idx59)\nTrue",
         "hidden": false,
         "locked": false
        }
       ],
       "scored": true,
       "setup": "",
       "teardown": "",
       "type": "doctest"
      }
     ]
    },
    "q1": {
     "name": "q1",
     "points": 5,
     "suites": [
      {
       "cases": [
        {
         "code": ">>> practice_test.check(\"q1\", country_codes)\nTrue",
         "hidden": false,
         "locked": false
        }
       ],
       "scored": true,
       "setup": "",
       "teardown": "",
       "type": "doctest"
      }
     ]
    },
    "q10-1": {
     "name": "q10-1",
     "points": 2.5,
     "suites": [
      {
       "cases": [
        {
         "code": ">>> practice_test.check(\"q10-1\", cuba_income_level_2015)\nTrue",
         "hidden": false,
         "locked": false
        }
       ],
       "scored": true,
       "setup": "",
       "teardown": "",
       "type": "doctest"
      }
     ]
    },
    "q10-2": {
     "name": "q10-2",
     "points": 5,
     "suites": [
      {
       "cases": [
        {
         "code": ">>> practice_test.check(\"q10-2\", gibraltar_income_level_2020)\nTrue",
         "hidden": false,
         "locked": false
        }
       ],
       "scored": true,
       "setup": "",
       "teardown": "",
       "type": "doctest"
      }
     ]
    },
    "q11": {
     "name": "q11",
     "points": 5,
     "suites": [
      {
       "cases": [
        {
         "code": ">>> practice_test.check(\"q11\", income_level_differences)\nTrue",
         "hidden": false,
         "locked": false
        }
       ],
       "scored": true,
       "setup": "",
       "teardown": "",
       "type": "doctest"
      }
     ]
    },
    "q12": {
     "name": "q12",
     "points": 5,
     "suites": [
      {
       "cases": [
        {
         "code": ">>> practice_test.check(\"q12\", income_levels_to_country_names_2015)\nTrue",
         "hidden": false,
         "locked": false
        }
       ],
       "scored": true,
       "setup": "",
       "teardown": "",
       "type": "doctest"
      }
     ]
    },
    "q13": {
     "name": "q13",
     "points": 5,
     "suites": [
      {
       "cases": [
        {
         "code": ">>> practice_test.check(\"q13\", income_levels_to_country_names_2020)\nTrue",
         "hidden": false,
         "locked": false
        }
       ],
       "scored": true,
       "setup": "",
       "teardown": "",
       "type": "doctest"
      }
     ]
    },
    "q14-1": {
     "name": "q14-1",
     "points": 2,
     "suites": [
      {
       "cases": [
        {
         "code": ">>> practice_test.check(\"q14-1\", income_level_country_counts_2015)\nTrue",
         "hidden": false,
         "locked": false
        }
       ],
       "scored": true,
       "setup": "",
       "teardown": "",
       "type": "doctest"
      }
     ]
    },
    "q14-2": {
     "name": "q14-2",
     "points": 3,
     "suites": [
      {
       "cases": [
        {
         "code": ">>> practice_test.check(\"q14-2\", income_level_country_counts_2020)\nTrue",
         "hidden": false,
         "locked": false
        }
       ],
       "scored": true,
       "setup": "",
       "teardown": "",
       "type": "doctest"
      }
     ]
    },
    "q15-1": {
     "name": "q15-1",
     "points": 2,
     "suites": [
      {
       "cases": [
        {
         "code": ">>> practice_test.check(\"q15-1\", pops)\nTrue",
         "hidden": false,
         "locked": false
        }
       ],
       "scored": true,
       "setup": "",
       "teardown": "",
       "type": "doctest"
      }
     ]
    },
    "q15-2": {
     "name": "q15-2",
     "points": 3,
     "suites": [
      {
       "cases": [
        {
         "code": ">>> practice_test.check(\"q15-2\", urban_percents)\nTrue",
         "hidden": false,
         "locked": false
        }
       ],
       "scored": true,
       "setup": "",
       "teardown": "",
       "type": "doctest"
      }
     ]
    },
    "q16": {
     "name": "q16",
     "points": 5,
     "suites": [
      {
       "cases": [
        {
         "code": ">>> practice_test.check(\"q16\", urban_populations)\nTrue",
         "hidden": false,
         "locked": false
        }
       ],
       "scored": true,
       "setup": "",
       "teardown": "",
       "type": "doctest"
      }
     ]
    },
    "q17": {
     "name": "q17",
     "points": 5,
     "suites": [
      {
       "cases": [
        {
         "code": ">>> practice_test.check(\"q17\", smallest_urban_country)\nTrue",
         "hidden": false,
         "locked": false
        }
       ],
       "scored": true,
       "setup": "",
       "teardown": "",
       "type": "doctest"
      }
     ]
    },
    "q18": {
     "name": "q18",
     "points": 5,
     "suites": [
      {
       "cases": [
        {
         "code": ">>> practice_test.check(\"q18\", largest_urban_country)\nTrue",
         "hidden": false,
         "locked": false
        }
       ],
       "scored": true,
       "setup": "",
       "teardown": "",
       "type": "doctest"
      }
     ]
    },
    "q19": {
     "name": "q19",
     "points": 5,
     "suites": [
      {
       "cases": [
        {
         "code": ">>> practice_test.check(\"q19\", income_levels)\nTrue",
         "hidden": false,
         "locked": false
        }
       ],
       "scored": true,
       "setup": "",
       "teardown": "",
       "type": "doctest"
      }
     ]
    },
    "q2": {
     "name": "q2",
     "points": 5,
     "suites": [
      {
       "cases": [
        {
         "code": ">>> practice_test.check(\"q2\", ireland_country_code)\nTrue",
         "hidden": false,
         "locked": false
        }
       ],
       "scored": true,
       "setup": "",
       "teardown": "",
       "type": "doctest"
      }
     ]
    },
    "q20": {
     "name": "q20",
     "points": 5,
     "suites": [
      {
       "cases": [
        {
         "code": ">>> practice_test.check(\"q20\", lower_mid_countries_by_region)\nTrue",
         "hidden": false,
         "locked": false
        }
       ],
       "scored": true,
       "setup": "",
       "teardown": "",
       "type": "doctest"
      }
     ]
    },
    "q3": {
     "name": "q3",
     "points": 5,
     "suites": [
      {
       "cases": [
        {
         "code": ">>> practice_test.check(\"q3\", sudan_country_code)\nTrue",
         "hidden": false,
         "locked": false
        }
       ],
       "scored": true,
       "setup": "",
       "teardown": "",
       "type": "doctest"
      }
     ]
    },
    "q4": {
     "name": "q4",
     "points": 5,
     "suites": [
      {
       "cases": [
        {
         "code": ">>> practice_test.check(\"q4\", income_levels_2015)\nTrue",
         "hidden": false,
         "locked": false
        }
       ],
       "scored": true,
       "setup": "",
       "teardown": "",
       "type": "doctest"
      }
     ]
    },
    "q5": {
     "name": "q5",
     "points": 5,
     "suites": [
      {
       "cases": [
        {
         "code": ">>> practice_test.check(\"q5\", income_levels_2020)\nTrue",
         "hidden": false,
         "locked": false
        }
       ],
       "scored": true,
       "setup": "",
       "teardown": "",
       "type": "doctest"
      }
     ]
    },
    "q6-1": {
     "name": "q6-1",
     "points": 2.5,
     "suites": [
      {
       "cases": [
        {
         "code": ">>> practice_test.check(\"q6-1\", zimbabwe_income_level_2015)\nTrue",
         "hidden": false,
         "locked": false
        }
       ],
       "scored": true,
       "setup": "",
       "teardown": "",
       "type": "doctest"
      }
     ]
    },
    "q6-2": {
     "name": "q6-2",
     "points": 2.5,
     "suites": [
      {
       "cases": [
        {
         "code": ">>> practice_test.check(\"q6-2\", zimbabwe_income_level_2020)\nTrue",
         "hidden": false,
         "locked": false
        }
       ],
       "scored": true,
       "setup": "",
       "teardown": "",
       "type": "doctest"
      }
     ]
    },
    "q7": {
     "name": "q7",
     "points": 5,
     "suites": [
      {
       "cases": [
        {
         "code": ">>> practice_test.check(\"q7\", pop_decrease_countries)\nTrue",
         "hidden": false,
         "locked": false
        }
       ],
       "scored": true,
       "setup": "",
       "teardown": "",
       "type": "doctest"
      }
     ]
    },
    "q8": {
     "name": "q8",
     "points": 5,
     "suites": [
      {
       "cases": [
        {
         "code": ">>> practice_test.check(\"q8\", more_urban_countries)\nTrue",
         "hidden": false,
         "locked": false
        }
       ],
       "scored": true,
       "setup": "",
       "teardown": "",
       "type": "doctest"
      }
     ]
    },
    "q9": {
     "name": "q9",
     "points": 5,
     "suites": [
      {
       "cases": [
        {
         "code": ">>> practice_test.check(\"q9\", income_levels)\nTrue",
         "hidden": false,
         "locked": false
        }
       ],
       "scored": true,
       "setup": "",
       "teardown": "",
       "type": "doctest"
      }
     ]
    }
   }
  }
 },
 "nbformat": 4,
 "nbformat_minor": 5
}
