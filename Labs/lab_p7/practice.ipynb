{
 "cells": [
  {
   "cell_type": "code",
   "execution_count": 59,
   "id": "ef1d537b",
   "metadata": {
    "deletable": false,
    "editable": false
   },
   "outputs": [],
   "source": [
    "# Initialize Otter\n",
    "import otter\n",
    "grader = otter.Notebook(\"practice.ipynb\")"
   ]
  },
  {
   "cell_type": "code",
   "execution_count": 60,
   "id": "878c24a5",
   "metadata": {},
   "outputs": [],
   "source": [
    "import practice_test"
   ]
  },
  {
   "cell_type": "markdown",
   "id": "274d4b64",
   "metadata": {},
   "source": [
    "# Lab-P7: Dictionaries (Drinking Water Accessibility)"
   ]
  },
  {
   "cell_type": "markdown",
   "id": "b10b5bdc",
   "metadata": {},
   "source": [
    "## Segment 2: Loading Data from CSVs"
   ]
  },
  {
   "cell_type": "markdown",
   "id": "2e94458d",
   "metadata": {},
   "source": [
    "## Dataset:\n",
    "\n",
    "In p7, you will be analyzing the data in `water_accessibility.csv`. This dataset has information on the **percentage of population** of each country who had **at least basic** (alb) water supply in the years **2015** and **2020**. You will learn more about the dataset in p7. In lab-p7, you will practice creating dictionaries using the data in `water_accessibliity.csv` and using dictionaries to answer simple questions. \n",
    "\n",
    "For now, open `water_accessibility.csv` with Microsoft Excel or some other Spreadsheet viewer and look at the list of countries in the dataset. Data for each country appears twice, one row for the year `2015` and the other row for year `2020`. Countries which had incomplete data have been **omitted** from the dataset, and we will **ignore** those countries in this project. You do **not** have to deal with any **missing data** in the dataset.\n",
    "\n",
    "The data shows:\n",
    "- `country_code` : the unique country code that consists of three alphabet letters\n",
    "- `country_name` : the name of the country\n",
    "- `region` : the geographical location of the country (does not equal to its corresponding continents, but follows the administrative groupings from [The World Bank](https://datahelpdesk.worldbank.org/knowledgebase/articles/906519-world-bank-country-and-lending-groups)\n",
    "- `year` : the year in which it was subject to data collection\n",
    "- `income_level` : the classification of income level based on GNI per capita in US dollars ([The World Bank Atlas Method](https://datahelpdesk.worldbank.org/knowledgebase/articles/378834-how-does-the-world-bank-classify-countries))\n",
    "- `pop` : population of the country in a specific year (in thousands)\n",
    "- `urban_percent` : the percentage of population in a given country that is urban\n",
    "- `national_alb` : the percentage of a country's population that has access to at least basic water supply\n",
    "- `urban_alb` : the percentage of a country's urban population that has access to at least basic water supply"
   ]
  },
  {
   "cell_type": "markdown",
   "id": "6142e780",
   "metadata": {},
   "source": [
    "### Task 2.1: Processing the CSV file\n",
    "\n",
    "You should first copy/paste the `process_csv` function from your lab-p6 notebook so you can read the data in `water_accessibility.csv`."
   ]
  },
  {
   "cell_type": "code",
   "execution_count": 61,
   "id": "95ec00df",
   "metadata": {
    "tags": []
   },
   "outputs": [],
   "source": [
    "# it is considered a good coding practice to place all import statements at the top of the notebook\n",
    "# please place all your import statements in this cell if you need to import any more modules for this lab\n",
    "import csv"
   ]
  },
  {
   "cell_type": "code",
   "execution_count": 62,
   "id": "fee50a9b",
   "metadata": {
    "tags": []
   },
   "outputs": [],
   "source": [
    "# define the 'process_csv' function here\n",
    "def process_csv(filename):\n",
    "    example_file = open(filename, encoding=\"utf-8\")\n",
    "    example_reader = csv.reader(example_file)\n",
    "    example_data = list(example_reader)\n",
    "    example_file.close()\n",
    "    return example_data"
   ]
  },
  {
   "cell_type": "code",
   "execution_count": 63,
   "id": "1cb308d9",
   "metadata": {
    "tags": []
   },
   "outputs": [],
   "source": [
    "# replace the ... with your code\n",
    "\n",
    "# call process_csv here to read 'water_accessibility.csv'\n",
    "csv_data = process_csv(\"water_accessibility.csv\")\n",
    "\n",
    "# split the header and data into appropriate variables\n",
    "csv_header = csv_data[0]\n",
    "csv_rows = csv_data[1:]"
   ]
  },
  {
   "cell_type": "markdown",
   "id": "4069d642",
   "metadata": {},
   "source": [
    "### Function 1: `cell(row_idx, col_name)`\n",
    "\n",
    "This function must take in a row index, `row_idx` and a column name, `col_name` as its inputs, and return the value in `water_accessibility.csv` stored there. There is **no missing data** in this dataset.\n",
    "\n",
    "Your `cell` function **must** also typecast the values based on column names (similar to `cell_v2` from [lab-p6](https://git.doit.wisc.edu/cdis/cs/courses/cs220/cs220-f22-projects/-/tree/main/lab-p6)). These are the expected data types for each of the columns:\n",
    "\n",
    "- `country_code` : **str**\n",
    "- `country_name` : **str**\n",
    "- `region` : **str**\n",
    "- `year` : **int**\n",
    "- `income_level` : **str**\n",
    "- `pop` : **int** (handle conversion to thousands)\n",
    "- `urban_percent` : **int**\n",
    "- `national_alb` : **int**\n",
    "- `urban_alb` : **int**\n",
    "\n",
    "**Important:** You **must** only use the `cell` function to extract data from the dataset in p7. If you extract any data without explicitly using this function, you will **lose points** during manual review."
   ]
  },
  {
   "cell_type": "code",
   "execution_count": 64,
   "id": "22e15a6c",
   "metadata": {
    "tags": []
   },
   "outputs": [],
   "source": [
    "# define the cell function here\n",
    "def cell(row_idx, col_name):\n",
    "    col_idx = csv_header.index(col_name)\n",
    "    val = csv_rows[row_idx][col_idx]\n",
    "    if val == \"\":\n",
    "        return None\n",
    "    elif col_name in  ['country_code','country_name', 'region', 'income_level']:\n",
    "        val = str(val)\n",
    "    elif col_name in ['year', 'urban_percent','national_alb', 'urban_alb']:\n",
    "        val = int(val)\n",
    "    elif col_name == 'pop':\n",
    "        val = 1000*int(val)\n",
    "        \n",
    "    return val"
   ]
  },
  {
   "cell_type": "markdown",
   "id": "f687ebae",
   "metadata": {},
   "source": [
    "### Task 2.2: Verifying the `cell` function\n",
    "\n",
    "It is recommended that you verify that you have defined this function properly. Open `water_accessibility.csv` with Microsoft Excel or some other Spreadsheet viewer, then call the `cell` function on different inputs and confirm that the output matches the values in the table.\n",
    "\n",
    "Move on to the next section after you have verified that `cell` function works as it should for the below test cases."
   ]
  },
  {
   "cell_type": "markdown",
   "id": "247d7bdb",
   "metadata": {},
   "source": [
    "**Question 0.1:** What is the data in the `year` column in the *4*th row index?\n",
    "\n",
    "You **must** use the `cell` function to answer this."
   ]
  },
  {
   "cell_type": "code",
   "execution_count": 65,
   "id": "62a69705",
   "metadata": {
    "tags": []
   },
   "outputs": [
    {
     "data": {
      "text/plain": [
       "2015"
      ]
     },
     "execution_count": 65,
     "metadata": {},
     "output_type": "execute_result"
    }
   ],
   "source": [
    "# we have done this one for you\n",
    "year_idx4 = cell(4, \"year\")\n",
    "\n",
    "year_idx4"
   ]
  },
  {
   "cell_type": "code",
   "execution_count": 66,
   "id": "1f5f73b1",
   "metadata": {
    "deletable": false,
    "editable": false
   },
   "outputs": [
    {
     "data": {
      "text/html": [
       "<p><strong><pre style='display: inline;'>cell_test1</pre></strong> passed!</p>"
      ],
      "text/plain": [
       "cell_test1 results: All test cases passed!"
      ]
     },
     "execution_count": 66,
     "metadata": {},
     "output_type": "execute_result"
    }
   ],
   "source": [
    "grader.check(\"cell_test1\")"
   ]
  },
  {
   "cell_type": "markdown",
   "id": "7fb0fde1",
   "metadata": {},
   "source": [
    "**Question 0.2:** What is the data in the `pop` column in the *5*th row index?\n",
    "\n",
    "You **must** use the `cell` function to answer this.\n",
    "\n",
    "Remember that in the dataset, the `pop` represents the population in thousands, so your `cell` function **must** multiply the value by *1000* if the column name is `pop`."
   ]
  },
  {
   "cell_type": "code",
   "execution_count": 67,
   "id": "cad23ff0",
   "metadata": {
    "tags": []
   },
   "outputs": [
    {
     "data": {
      "text/plain": [
       "43851000"
      ]
     },
     "execution_count": 67,
     "metadata": {},
     "output_type": "execute_result"
    }
   ],
   "source": [
    "# we have done this one for you\n",
    "pop_idx5 = cell(5, \"pop\")\n",
    "\n",
    "pop_idx5"
   ]
  },
  {
   "cell_type": "code",
   "execution_count": 68,
   "id": "6211e134",
   "metadata": {
    "deletable": false,
    "editable": false
   },
   "outputs": [
    {
     "data": {
      "text/html": [
       "<p><strong><pre style='display: inline;'>cell_test2</pre></strong> passed!</p>"
      ],
      "text/plain": [
       "cell_test2 results: All test cases passed!"
      ]
     },
     "execution_count": 68,
     "metadata": {},
     "output_type": "execute_result"
    }
   ],
   "source": [
    "grader.check(\"cell_test2\")"
   ]
  },
  {
   "cell_type": "markdown",
   "id": "df15b1bf",
   "metadata": {},
   "source": [
    "**Question 0.3:** What is the data in the `urban_percent` column in the *57*th row index?\n",
    "\n",
    "You **must** use the `cell` function to answer this."
   ]
  },
  {
   "cell_type": "code",
   "execution_count": 69,
   "id": "e0104331",
   "metadata": {
    "tags": []
   },
   "outputs": [
    {
     "data": {
      "text/plain": [
       "24"
      ]
     },
     "execution_count": 69,
     "metadata": {},
     "output_type": "execute_result"
    }
   ],
   "source": [
    "# call cell function to retrive the urban_percent data in the 57th row index\n",
    "urban_percent_idx57 = cell(57,\"urban_percent\")\n",
    "\n",
    "urban_percent_idx57"
   ]
  },
  {
   "cell_type": "code",
   "execution_count": 70,
   "id": "13758ec9",
   "metadata": {
    "deletable": false,
    "editable": false
   },
   "outputs": [
    {
     "data": {
      "text/html": [
       "<p><strong><pre style='display: inline;'>cell_test3</pre></strong> passed!</p>"
      ],
      "text/plain": [
       "cell_test3 results: All test cases passed!"
      ]
     },
     "execution_count": 70,
     "metadata": {},
     "output_type": "execute_result"
    }
   ],
   "source": [
    "grader.check(\"cell_test3\")"
   ]
  },
  {
   "cell_type": "markdown",
   "id": "c0805c83",
   "metadata": {},
   "source": [
    "**Question 0.4:** What is the data in the `national_alb` column in the *58*th row index?\n",
    "You **must** use the `cell` function to answer this."
   ]
  },
  {
   "cell_type": "code",
   "execution_count": 71,
   "id": "0d21a35a",
   "metadata": {
    "tags": []
   },
   "outputs": [
    {
     "data": {
      "text/plain": [
       "100"
      ]
     },
     "execution_count": 71,
     "metadata": {},
     "output_type": "execute_result"
    }
   ],
   "source": [
    "# call cell function to retrive the national_alb data in the 58th row index\n",
    "national_alb_idx58 = cell(58, \"national_alb\")\n",
    "\n",
    "national_alb_idx58"
   ]
  },
  {
   "cell_type": "code",
   "execution_count": 72,
   "id": "3564a3b8",
   "metadata": {
    "deletable": false,
    "editable": false
   },
   "outputs": [
    {
     "data": {
      "text/html": [
       "<p><strong><pre style='display: inline;'>cell_test4</pre></strong> passed!</p>"
      ],
      "text/plain": [
       "cell_test4 results: All test cases passed!"
      ]
     },
     "execution_count": 72,
     "metadata": {},
     "output_type": "execute_result"
    }
   ],
   "source": [
    "grader.check(\"cell_test4\")"
   ]
  },
  {
   "cell_type": "markdown",
   "id": "65b249e1",
   "metadata": {},
   "source": [
    "**Question 0.5:** What is the data in the `urban_alb` column in the *58*th row index?\n",
    "\n",
    "You **must** use the `cell` function to answer this."
   ]
  },
  {
   "cell_type": "code",
   "execution_count": 73,
   "id": "da695eca",
   "metadata": {
    "tags": []
   },
   "outputs": [
    {
     "data": {
      "text/plain": [
       "100"
      ]
     },
     "execution_count": 73,
     "metadata": {},
     "output_type": "execute_result"
    }
   ],
   "source": [
    "# call cell function to retrive the urban_alb data in the 58th row index\n",
    "urban_alb_idx58 = cell(58, \"urban_alb\")\n",
    "\n",
    "urban_alb_idx58"
   ]
  },
  {
   "cell_type": "code",
   "execution_count": 74,
   "id": "a7017e78",
   "metadata": {
    "deletable": false,
    "editable": false
   },
   "outputs": [
    {
     "data": {
      "text/html": [
       "<p><strong><pre style='display: inline;'>cell_test5</pre></strong> passed!</p>"
      ],
      "text/plain": [
       "cell_test5 results: All test cases passed!"
      ]
     },
     "execution_count": 74,
     "metadata": {},
     "output_type": "execute_result"
    }
   ],
   "source": [
    "grader.check(\"cell_test5\")"
   ]
  },
  {
   "cell_type": "markdown",
   "id": "4ab1caa0",
   "metadata": {},
   "source": [
    "**Question 0.6:** What is the data in the `country_code` column in the *59*th row index?\n",
    "\n",
    "You **must** use the `cell` function to answer this."
   ]
  },
  {
   "cell_type": "code",
   "execution_count": 75,
   "id": "d00eccf7",
   "metadata": {
    "tags": []
   },
   "outputs": [
    {
     "data": {
      "text/plain": [
       "'CHL'"
      ]
     },
     "execution_count": 75,
     "metadata": {},
     "output_type": "execute_result"
    }
   ],
   "source": [
    "# call cell function to retrive the country_code data in the 59th row index\n",
    "country_code_idx59 = cell(59, \"country_code\")\n",
    "\n",
    "country_code_idx59"
   ]
  },
  {
   "cell_type": "code",
   "execution_count": 76,
   "id": "96707d8f",
   "metadata": {
    "deletable": false,
    "editable": false
   },
   "outputs": [
    {
     "data": {
      "text/html": [
       "<p><strong><pre style='display: inline;'>cell_test6</pre></strong> passed!</p>"
      ],
      "text/plain": [
       "cell_test6 results: All test cases passed!"
      ]
     },
     "execution_count": 76,
     "metadata": {},
     "output_type": "execute_result"
    }
   ],
   "source": [
    "grader.check(\"cell_test6\")"
   ]
  },
  {
   "cell_type": "markdown",
   "id": "ee793d26",
   "metadata": {},
   "source": [
    "**Question 0.7:** What is the data in the `income_level` column in the *59*th row index?\n",
    "\n",
    "You **must** use the `cell` function to answer this."
   ]
  },
  {
   "cell_type": "code",
   "execution_count": 77,
   "id": "96065a23",
   "metadata": {
    "tags": []
   },
   "outputs": [
    {
     "data": {
      "text/plain": [
       "'High income'"
      ]
     },
     "execution_count": 77,
     "metadata": {},
     "output_type": "execute_result"
    }
   ],
   "source": [
    "# call cell function to retrive the income_level data in the 59th row index\n",
    "income_level_idx59 = cell(59, 'income_level')\n",
    "income_level_idx59"
   ]
  },
  {
   "cell_type": "code",
   "execution_count": 78,
   "id": "b15a6eee",
   "metadata": {
    "deletable": false,
    "editable": false
   },
   "outputs": [
    {
     "data": {
      "text/html": [
       "<p><strong><pre style='display: inline;'>cell_test7</pre></strong> passed!</p>"
      ],
      "text/plain": [
       "cell_test7 results: All test cases passed!"
      ]
     },
     "execution_count": 78,
     "metadata": {},
     "output_type": "execute_result"
    }
   ],
   "source": [
    "grader.check(\"cell_test7\")"
   ]
  },
  {
   "cell_type": "markdown",
   "id": "4d06c357",
   "metadata": {},
   "source": [
    "## Segment 3: Dictionaries and Looping through Time series data"
   ]
  },
  {
   "cell_type": "markdown",
   "id": "98a0d379",
   "metadata": {},
   "source": [
    "### Task 3.1: Creating and Accessing Dictionaries"
   ]
  },
  {
   "attachments": {
    "rows_example-2.png": {
     "image/png": "[encoded data removed]"
    }
   },
   "cell_type": "markdown",
   "id": "25370e84",
   "metadata": {},
   "source": [
    "**Question 1:** Create a dictionary mapping each `country_name` to its `country_code`.\n",
    "\n",
    "Your output **must** be a **dict** where each key is a `country_name` and the value is the `country_code`. The first five key-value pairs within this **dict** would be these:\n",
    "```\n",
    "{'Afghanistan': 'AFG',\n",
    " 'Albania': 'ALB',\n",
    " 'Algeria': 'DZA',\n",
    " 'Andorra': 'AND',\n",
    " 'Angola': 'AGO',\n",
    " ...\n",
    "}\n",
    "```\n",
    "\n",
    "**Important:** This dataset is different from the previous datasets you have worked with because every country in the dataset has **two** rows: one for the `year` *2015* and one for *2020*. \n",
    "This means that when working with data, you need to make sure to set up your `for` loop in a way that will let you process two rows at once. \n",
    "The data is organized in such a way that for each country, the data from *2015* appears in the **even** indexed rows (0, 2, 4, ...), and the data from *2020* appears in the **odd** indexed rows (1, 3, 5, ...).\n",
    "We can use this to extract data from just the year *2015* or *2020* if necessary.\n",
    "\n",
    "![rows_example-2.png](attachment:rows_example-2.png)"
   ]
  },
  {
   "cell_type": "code",
   "execution_count": 79,
   "id": "d02c7b74",
   "metadata": {
    "tags": []
   },
   "outputs": [
    {
     "data": {
      "text/plain": [
       "{'Afghanistan': 'AFG',\n",
       " 'Albania': 'ALB',\n",
       " 'Algeria': 'DZA',\n",
       " 'Andorra': 'AND',\n",
       " 'Angola': 'AGO',\n",
       " 'Armenia': 'ARM',\n",
       " 'Australia': 'AUS',\n",
       " 'Austria': 'AUT',\n",
       " 'Azerbaijan': 'AZE',\n",
       " 'Bangladesh': 'BGD',\n",
       " 'Belarus': 'BLR',\n",
       " 'Belgium': 'BEL',\n",
       " 'Belize': 'BLZ',\n",
       " 'Benin': 'BEN',\n",
       " 'Bermuda': 'BMU',\n",
       " 'Bhutan': 'BTN',\n",
       " 'Bosnia and Herzegovina': 'BIH',\n",
       " 'Botswana': 'BWA',\n",
       " 'Brazil': 'BRA',\n",
       " 'Brunei Darussalam': 'BRN',\n",
       " 'Bulgaria': 'BGR',\n",
       " 'Burkina Faso': 'BFA',\n",
       " 'Burundi': 'BDI',\n",
       " 'Cabo Verde': 'CPV',\n",
       " 'Cambodia': 'KHM',\n",
       " 'Cameroon': 'CMR',\n",
       " 'Canada': 'CAN',\n",
       " 'Central African Republic': 'CAF',\n",
       " 'Chad': 'TCD',\n",
       " 'Chile': 'CHL',\n",
       " 'China': 'CHN',\n",
       " 'Colombia': 'COL',\n",
       " 'Costa Rica': 'CRI',\n",
       " \"Côte d'Ivoire\": 'CIV',\n",
       " 'Cuba': 'CUB',\n",
       " 'Cyprus': 'CYP',\n",
       " 'Czech Republic': 'CZE',\n",
       " 'Denmark': 'DNK',\n",
       " 'Djibouti': 'DJI',\n",
       " 'Dominican Republic': 'DOM',\n",
       " 'Ecuador': 'ECU',\n",
       " 'El Salvador': 'SLV',\n",
       " 'Estonia': 'EST',\n",
       " 'Eswatini': 'SWZ',\n",
       " 'Ethiopia': 'ETH',\n",
       " 'Fiji': 'FJI',\n",
       " 'Finland': 'FIN',\n",
       " 'France': 'FRA',\n",
       " 'Gabon': 'GAB',\n",
       " 'Georgia': 'GEO',\n",
       " 'Germany': 'DEU',\n",
       " 'Ghana': 'GHA',\n",
       " 'Gibraltar': 'GIB',\n",
       " 'Greece': 'GRC',\n",
       " 'Greenland': 'GRL',\n",
       " 'Guatemala': 'GTM',\n",
       " 'Guinea': 'GIN',\n",
       " 'Guinea-Bissau': 'GNB',\n",
       " 'Guyana': 'GUY',\n",
       " 'Haiti': 'HTI',\n",
       " 'Honduras': 'HND',\n",
       " 'Hungary': 'HUN',\n",
       " 'Iceland': 'ISL',\n",
       " 'India': 'IND',\n",
       " 'Indonesia': 'IDN',\n",
       " 'Iraq': 'IRQ',\n",
       " 'Ireland': 'IRL',\n",
       " 'Israel': 'ISR',\n",
       " 'Jamaica': 'JAM',\n",
       " 'Jordan': 'JOR',\n",
       " 'Kazakhstan': 'KAZ',\n",
       " 'Kenya': 'KEN',\n",
       " 'Kiribati': 'KIR',\n",
       " 'Latvia': 'LVA',\n",
       " 'Lesotho': 'LSO',\n",
       " 'Liberia': 'LBR',\n",
       " 'Lithuania': 'LTU',\n",
       " 'Luxembourg': 'LUX',\n",
       " 'Madagascar': 'MDG',\n",
       " 'Malawi': 'MWI',\n",
       " 'Malaysia': 'MYS',\n",
       " 'Maldives': 'MDV',\n",
       " 'Mali': 'MLI',\n",
       " 'Malta': 'MLT',\n",
       " 'Marshall Islands': 'MHL',\n",
       " 'Mauritania': 'MRT',\n",
       " 'Mauritius': 'MUS',\n",
       " 'Mexico': 'MEX',\n",
       " 'Monaco': 'MCO',\n",
       " 'Mongolia': 'MNG',\n",
       " 'Montenegro': 'MNE',\n",
       " 'Morocco': 'MAR',\n",
       " 'Mozambique': 'MOZ',\n",
       " 'Myanmar': 'MMR',\n",
       " 'Namibia': 'NAM',\n",
       " 'Nauru': 'NRU',\n",
       " 'Nepal': 'NPL',\n",
       " 'Netherlands': 'NLD',\n",
       " 'New Zealand': 'NZL',\n",
       " 'Nicaragua': 'NIC',\n",
       " 'Niger': 'NER',\n",
       " 'Nigeria': 'NGA',\n",
       " 'North Macedonia': 'MKD',\n",
       " 'Norway': 'NOR',\n",
       " 'Oman': 'OMN',\n",
       " 'Pakistan': 'PAK',\n",
       " 'Palau': 'PLW',\n",
       " 'Panama': 'PAN',\n",
       " 'Papua New Guinea': 'PNG',\n",
       " 'Paraguay': 'PRY',\n",
       " 'Peru': 'PER',\n",
       " 'Philippines': 'PHL',\n",
       " 'Poland': 'POL',\n",
       " 'Portugal': 'PRT',\n",
       " 'Romania': 'ROU',\n",
       " 'Russian Federation': 'RUS',\n",
       " 'Rwanda': 'RWA',\n",
       " 'Samoa': 'WSM',\n",
       " 'Senegal': 'SEN',\n",
       " 'Serbia': 'SRB',\n",
       " 'Sierra Leone': 'SLE',\n",
       " 'Singapore': 'SGP',\n",
       " 'Solomon Islands': 'SLB',\n",
       " 'Somalia': 'SOM',\n",
       " 'South Africa': 'ZAF',\n",
       " 'South Sudan': 'SSD',\n",
       " 'Spain': 'ESP',\n",
       " 'Sri Lanka': 'LKA',\n",
       " 'Sudan': 'SDN',\n",
       " 'Suriname': 'SUR',\n",
       " 'Sweden': 'SWE',\n",
       " 'Switzerland': 'CHE',\n",
       " 'Syrian Arab Republic': 'SYR',\n",
       " 'Tajikistan': 'TJK',\n",
       " 'Thailand': 'THA',\n",
       " 'Timor-Leste': 'TLS',\n",
       " 'Togo': 'TGO',\n",
       " 'Tonga': 'TON',\n",
       " 'Tunisia': 'TUN',\n",
       " 'Turkmenistan': 'TKM',\n",
       " 'Tuvalu': 'TUV',\n",
       " 'Uganda': 'UGA',\n",
       " 'Ukraine': 'UKR',\n",
       " 'United Kingdom': 'GBR',\n",
       " 'United States of America': 'USA',\n",
       " 'Uruguay': 'URY',\n",
       " 'Uzbekistan': 'UZB',\n",
       " 'Vanuatu': 'VUT',\n",
       " 'Vietnam': 'VNM',\n",
       " 'Zambia': 'ZMB',\n",
       " 'Zimbabwe': 'ZWE'}"
      ]
     },
     "execution_count": 79,
     "metadata": {},
     "output_type": "execute_result"
    }
   ],
   "source": [
    "# replace the ... with your code\n",
    "\n",
    "# Initialize an empty dictionary\n",
    "country_codes = {}\n",
    "\n",
    "# this will loop through from 0 to len(csv_rows) and increase by 2 numbers each loop\n",
    "# i.e. it will loop through even indices corresponding to just the data from 2015\n",
    "for idx in range(0, len(csv_rows), 2): \n",
    "    # Before you populate the dictionary with the key-value pairs,\n",
    "    # use print function calls to print the key and the value.\n",
    "    # Once you have verified the output for the first five lines of data, \n",
    "    # use the dictionary key-value pair insert syntax to update the dictionary.\n",
    "    # Don't forget to delete the print function call line of code.\n",
    "    country_codes[cell(idx, \"country_name\")] = cell(idx, \"country_code\")\n",
    "\n",
    "\n",
    "country_codes"
   ]
  },
  {
   "cell_type": "code",
   "execution_count": 80,
   "id": "86f0f443",
   "metadata": {
    "deletable": false,
    "editable": false
   },
   "outputs": [
    {
     "data": {
      "text/html": [
       "<p><strong><pre style='display: inline;'>q1</pre></strong> passed!</p>"
      ],
      "text/plain": [
       "q1 results: All test cases passed!"
      ]
     },
     "execution_count": 80,
     "metadata": {},
     "output_type": "execute_result"
    }
   ],
   "source": [
    "grader.check(\"q1\")"
   ]
  },
  {
   "cell_type": "markdown",
   "id": "5491394b",
   "metadata": {},
   "source": [
    "**Question 2:** What is the country code of *Ireland*?"
   ]
  },
  {
   "cell_type": "code",
   "execution_count": 81,
   "id": "7e77ad60",
   "metadata": {
    "tags": []
   },
   "outputs": [
    {
     "data": {
      "text/plain": [
       "'IRL'"
      ]
     },
     "execution_count": 81,
     "metadata": {},
     "output_type": "execute_result"
    }
   ],
   "source": [
    "# replace the ... with your code\n",
    "ireland_country_code = country_codes[\"Ireland\"]\n",
    "\n",
    "ireland_country_code"
   ]
  },
  {
   "cell_type": "code",
   "execution_count": 82,
   "id": "e60cc1c5",
   "metadata": {
    "deletable": false,
    "editable": false
   },
   "outputs": [
    {
     "data": {
      "text/html": [
       "<p><strong><pre style='display: inline;'>q2</pre></strong> passed!</p>"
      ],
      "text/plain": [
       "q2 results: All test cases passed!"
      ]
     },
     "execution_count": 82,
     "metadata": {},
     "output_type": "execute_result"
    }
   ],
   "source": [
    "grader.check(\"q2\")"
   ]
  },
  {
   "cell_type": "markdown",
   "id": "dfdecfb7",
   "metadata": {},
   "source": [
    "**Question 3:** What is the country code of *Sudan*?"
   ]
  },
  {
   "cell_type": "code",
   "execution_count": 83,
   "id": "517926bb",
   "metadata": {
    "tags": []
   },
   "outputs": [
    {
     "data": {
      "text/plain": [
       "'SDN'"
      ]
     },
     "execution_count": 83,
     "metadata": {},
     "output_type": "execute_result"
    }
   ],
   "source": [
    "# replace the ... with your code\n",
    "sudan_country_code = country_codes[\"Sudan\"]\n",
    "\n",
    "sudan_country_code"
   ]
  },
  {
   "cell_type": "code",
   "execution_count": 84,
   "id": "3e6e98e4",
   "metadata": {
    "deletable": false,
    "editable": false
   },
   "outputs": [
    {
     "data": {
      "text/html": [
       "<p><strong><pre style='display: inline;'>q3</pre></strong> passed!</p>"
      ],
      "text/plain": [
       "q3 results: All test cases passed!"
      ]
     },
     "execution_count": 84,
     "metadata": {},
     "output_type": "execute_result"
    }
   ],
   "source": [
    "grader.check(\"q3\")"
   ]
  },
  {
   "cell_type": "markdown",
   "id": "7fb379f8",
   "metadata": {},
   "source": [
    "**Question 4:** Create a dictionary mapping each `country_name` to `income_level` for *2015*.\n",
    "\n",
    "The first five key-value pairs within this **dict** would be these:\n",
    "```\n",
    "{'Afghanistan': 'Low income',\n",
    " 'Albania': 'Upper middle income',\n",
    " 'Algeria': 'Upper middle income',\n",
    " 'Andorra': 'High income',\n",
    " 'Angola': 'Upper middle income',\n",
    " ...\n",
    "}\n",
    "```\n",
    "\n",
    "**Hint:** The data for *2015* is found on rows at **even** indices. "
   ]
  },
  {
   "cell_type": "code",
   "execution_count": 85,
   "id": "2a22e392",
   "metadata": {
    "tags": []
   },
   "outputs": [
    {
     "data": {
      "text/plain": [
       "{'Afghanistan': 'Low income',\n",
       " 'Albania': 'Upper middle income',\n",
       " 'Algeria': 'Upper middle income',\n",
       " 'Andorra': 'High income',\n",
       " 'Angola': 'Upper middle income',\n",
       " 'Armenia': 'Lower middle income',\n",
       " 'Australia': 'High income',\n",
       " 'Austria': 'High income',\n",
       " 'Azerbaijan': 'Upper middle income',\n",
       " 'Bangladesh': 'Lower middle income',\n",
       " 'Belarus': 'Upper middle income',\n",
       " 'Belgium': 'High income',\n",
       " 'Belize': 'Upper middle income',\n",
       " 'Benin': 'Low income',\n",
       " 'Bermuda': 'High income',\n",
       " 'Bhutan': 'Lower middle income',\n",
       " 'Bosnia and Herzegovina': 'Upper middle income',\n",
       " 'Botswana': 'Upper middle income',\n",
       " 'Brazil': 'Upper middle income',\n",
       " 'Brunei Darussalam': 'High income',\n",
       " 'Bulgaria': 'Upper middle income',\n",
       " 'Burkina Faso': 'Low income',\n",
       " 'Burundi': 'Low income',\n",
       " 'Cabo Verde': 'Lower middle income',\n",
       " 'Cambodia': 'Lower middle income',\n",
       " 'Cameroon': 'Lower middle income',\n",
       " 'Canada': 'High income',\n",
       " 'Central African Republic': 'Low income',\n",
       " 'Chad': 'Low income',\n",
       " 'Chile': 'High income',\n",
       " 'China': 'Upper middle income',\n",
       " 'Colombia': 'Upper middle income',\n",
       " 'Costa Rica': 'Upper middle income',\n",
       " \"Côte d'Ivoire\": 'Lower middle income',\n",
       " 'Cuba': 'Upper middle income',\n",
       " 'Cyprus': 'High income',\n",
       " 'Czech Republic': 'High income',\n",
       " 'Denmark': 'High income',\n",
       " 'Djibouti': 'Lower middle income',\n",
       " 'Dominican Republic': 'Upper middle income',\n",
       " 'Ecuador': 'Upper middle income',\n",
       " 'El Salvador': 'Lower middle income',\n",
       " 'Estonia': 'High income',\n",
       " 'Eswatini': 'Lower middle income',\n",
       " 'Ethiopia': 'Low income',\n",
       " 'Fiji': 'Upper middle income',\n",
       " 'Finland': 'High income',\n",
       " 'France': 'High income',\n",
       " 'Gabon': 'Upper middle income',\n",
       " 'Georgia': 'Upper middle income',\n",
       " 'Germany': 'High income',\n",
       " 'Ghana': 'Lower middle income',\n",
       " 'Gibraltar': 'High income',\n",
       " 'Greece': 'High income',\n",
       " 'Greenland': 'High income',\n",
       " 'Guatemala': 'Lower middle income',\n",
       " 'Guinea': 'Low income',\n",
       " 'Guinea-Bissau': 'Low income',\n",
       " 'Guyana': 'Upper middle income',\n",
       " 'Haiti': 'Low income',\n",
       " 'Honduras': 'Lower middle income',\n",
       " 'Hungary': 'High income',\n",
       " 'Iceland': 'High income',\n",
       " 'India': 'Lower middle income',\n",
       " 'Indonesia': 'Lower middle income',\n",
       " 'Iraq': 'Upper middle income',\n",
       " 'Ireland': 'High income',\n",
       " 'Israel': 'High income',\n",
       " 'Jamaica': 'Upper middle income',\n",
       " 'Jordan': 'Upper middle income',\n",
       " 'Kazakhstan': 'Upper middle income',\n",
       " 'Kenya': 'Lower middle income',\n",
       " 'Kiribati': 'Lower middle income',\n",
       " 'Latvia': 'High income',\n",
       " 'Lesotho': 'Lower middle income',\n",
       " 'Liberia': 'Low income',\n",
       " 'Lithuania': 'High income',\n",
       " 'Luxembourg': 'High income',\n",
       " 'Madagascar': 'Low income',\n",
       " 'Malawi': 'Low income',\n",
       " 'Malaysia': 'Upper middle income',\n",
       " 'Maldives': 'Upper middle income',\n",
       " 'Mali': 'Low income',\n",
       " 'Malta': 'High income',\n",
       " 'Marshall Islands': 'Upper middle income',\n",
       " 'Mauritania': 'Lower middle income',\n",
       " 'Mauritius': 'Upper middle income',\n",
       " 'Mexico': 'Upper middle income',\n",
       " 'Monaco': 'High income',\n",
       " 'Mongolia': 'Lower middle income',\n",
       " 'Montenegro': 'Upper middle income',\n",
       " 'Morocco': 'Lower middle income',\n",
       " 'Mozambique': 'Low income',\n",
       " 'Myanmar': 'Lower middle income',\n",
       " 'Namibia': 'Upper middle income',\n",
       " 'Nauru': 'High income',\n",
       " 'Nepal': 'Low income',\n",
       " 'Netherlands': 'High income',\n",
       " 'New Zealand': 'High income',\n",
       " 'Nicaragua': 'Lower middle income',\n",
       " 'Niger': 'Low income',\n",
       " 'Nigeria': 'Lower middle income',\n",
       " 'North Macedonia': 'Upper middle income',\n",
       " 'Norway': 'High income',\n",
       " 'Oman': 'High income',\n",
       " 'Pakistan': 'Lower middle income',\n",
       " 'Palau': 'Upper middle income',\n",
       " 'Panama': 'Upper middle income',\n",
       " 'Papua New Guinea': 'Lower middle income',\n",
       " 'Paraguay': 'Upper middle income',\n",
       " 'Peru': 'Upper middle income',\n",
       " 'Philippines': 'Lower middle income',\n",
       " 'Poland': 'High income',\n",
       " 'Portugal': 'High income',\n",
       " 'Romania': 'Upper middle income',\n",
       " 'Russian Federation': 'Upper middle income',\n",
       " 'Rwanda': 'Low income',\n",
       " 'Samoa': 'Lower middle income',\n",
       " 'Senegal': 'Low income',\n",
       " 'Serbia': 'Upper middle income',\n",
       " 'Sierra Leone': 'Low income',\n",
       " 'Singapore': 'High income',\n",
       " 'Solomon Islands': 'Lower middle income',\n",
       " 'Somalia': 'Low income',\n",
       " 'South Africa': 'Upper middle income',\n",
       " 'South Sudan': 'Low income',\n",
       " 'Spain': 'High income',\n",
       " 'Sri Lanka': 'Lower middle income',\n",
       " 'Sudan': 'Lower middle income',\n",
       " 'Suriname': 'Upper middle income',\n",
       " 'Sweden': 'High income',\n",
       " 'Switzerland': 'High income',\n",
       " 'Syrian Arab Republic': 'Lower middle income',\n",
       " 'Tajikistan': 'Lower middle income',\n",
       " 'Thailand': 'Upper middle income',\n",
       " 'Timor-Leste': 'Lower middle income',\n",
       " 'Togo': 'Low income',\n",
       " 'Tonga': 'Lower middle income',\n",
       " 'Tunisia': 'Lower middle income',\n",
       " 'Turkmenistan': 'Upper middle income',\n",
       " 'Tuvalu': 'Upper middle income',\n",
       " 'Uganda': 'Low income',\n",
       " 'Ukraine': 'Lower middle income',\n",
       " 'United Kingdom': 'High income',\n",
       " 'United States of America': 'High income',\n",
       " 'Uruguay': 'High income',\n",
       " 'Uzbekistan': 'Lower middle income',\n",
       " 'Vanuatu': 'Lower middle income',\n",
       " 'Vietnam': 'Lower middle income',\n",
       " 'Zambia': 'Lower middle income',\n",
       " 'Zimbabwe': 'Low income'}"
      ]
     },
     "execution_count": 85,
     "metadata": {},
     "output_type": "execute_result"
    }
   ],
   "source": [
    "# replace the ... with your code\n",
    "\n",
    "# Initialize an empty dictionary\n",
    "income_levels_2015 = {}\n",
    "\n",
    "# you need to loop through from 0 to len(csv_rows) and increase by 2 numbers each loop\n",
    "for idx in range(0, len(csv_rows), 2):\n",
    "    # Before you populate the dictionary with the key-value pairs,\n",
    "    # use print function calls to print the key and the value.\n",
    "    # Once you have verified the output for the first five lines of data, \n",
    "    # use the dictionary key-value pair insert syntax to update the dictionary.\n",
    "    # Don't forget to delete the print function call line of code.\n",
    "    income_levels_2015[cell(idx, \"country_name\")] = cell(idx, \"income_level\")\n",
    "\n",
    "\n",
    "income_levels_2015"
   ]
  },
  {
   "cell_type": "code",
   "execution_count": 86,
   "id": "4795f393",
   "metadata": {
    "deletable": false,
    "editable": false
   },
   "outputs": [
    {
     "data": {
      "text/html": [
       "<p><strong><pre style='display: inline;'>q4</pre></strong> passed!</p>"
      ],
      "text/plain": [
       "q4 results: All test cases passed!"
      ]
     },
     "execution_count": 86,
     "metadata": {},
     "output_type": "execute_result"
    }
   ],
   "source": [
    "grader.check(\"q4\")"
   ]
  },
  {
   "cell_type": "markdown",
   "id": "08db305d",
   "metadata": {},
   "source": [
    "**Question 5:** Create a dictionary mapping each `country_name` to `income_level` for *2020*.\n",
    "\n",
    "The first five key-value pairs within this **dict** would be these:\n",
    "```\n",
    "{'Afghanistan': 'Low income',\n",
    " 'Albania': 'Upper middle income',\n",
    " 'Algeria': 'Lower middle income',\n",
    " 'Andorra': 'High income',\n",
    " 'Angola': 'Lower middle income',\n",
    " ...\n",
    "}\n",
    "```\n",
    "\n",
    "**Hint:** The data for *2020* is found on rows at **odd** indices. "
   ]
  },
  {
   "cell_type": "code",
   "execution_count": 87,
   "id": "27e96924",
   "metadata": {
    "tags": []
   },
   "outputs": [
    {
     "data": {
      "text/plain": [
       "{'Afghanistan': 'Low income',\n",
       " 'Albania': 'Upper middle income',\n",
       " 'Algeria': 'Lower middle income',\n",
       " 'Andorra': 'High income',\n",
       " 'Angola': 'Lower middle income',\n",
       " 'Armenia': 'Upper middle income',\n",
       " 'Australia': 'High income',\n",
       " 'Austria': 'High income',\n",
       " 'Azerbaijan': 'Upper middle income',\n",
       " 'Bangladesh': 'Lower middle income',\n",
       " 'Belarus': 'Upper middle income',\n",
       " 'Belgium': 'High income',\n",
       " 'Belize': 'Lower middle income',\n",
       " 'Benin': 'Lower middle income',\n",
       " 'Bermuda': 'High income',\n",
       " 'Bhutan': 'Lower middle income',\n",
       " 'Bosnia and Herzegovina': 'Upper middle income',\n",
       " 'Botswana': 'Upper middle income',\n",
       " 'Brazil': 'Upper middle income',\n",
       " 'Brunei Darussalam': 'High income',\n",
       " 'Bulgaria': 'Upper middle income',\n",
       " 'Burkina Faso': 'Low income',\n",
       " 'Burundi': 'Low income',\n",
       " 'Cabo Verde': 'Lower middle income',\n",
       " 'Cambodia': 'Lower middle income',\n",
       " 'Cameroon': 'Lower middle income',\n",
       " 'Canada': 'High income',\n",
       " 'Central African Republic': 'Low income',\n",
       " 'Chad': 'Low income',\n",
       " 'Chile': 'High income',\n",
       " 'China': 'Upper middle income',\n",
       " 'Colombia': 'Upper middle income',\n",
       " 'Costa Rica': 'Upper middle income',\n",
       " \"Côte d'Ivoire\": 'Lower middle income',\n",
       " 'Cuba': 'Upper middle income',\n",
       " 'Cyprus': 'High income',\n",
       " 'Czech Republic': 'High income',\n",
       " 'Denmark': 'High income',\n",
       " 'Djibouti': 'Lower middle income',\n",
       " 'Dominican Republic': 'Upper middle income',\n",
       " 'Ecuador': 'Upper middle income',\n",
       " 'El Salvador': 'Lower middle income',\n",
       " 'Estonia': 'High income',\n",
       " 'Eswatini': 'Lower middle income',\n",
       " 'Ethiopia': 'Low income',\n",
       " 'Fiji': 'Upper middle income',\n",
       " 'Finland': 'High income',\n",
       " 'France': 'High income',\n",
       " 'Gabon': 'Upper middle income',\n",
       " 'Georgia': 'Upper middle income',\n",
       " 'Germany': 'High income',\n",
       " 'Ghana': 'Lower middle income',\n",
       " 'Gibraltar': 'High income',\n",
       " 'Greece': 'High income',\n",
       " 'Greenland': 'High income',\n",
       " 'Guatemala': 'Upper middle income',\n",
       " 'Guinea': 'Low income',\n",
       " 'Guinea-Bissau': 'Low income',\n",
       " 'Guyana': 'Upper middle income',\n",
       " 'Haiti': 'Lower middle income',\n",
       " 'Honduras': 'Lower middle income',\n",
       " 'Hungary': 'High income',\n",
       " 'Iceland': 'High income',\n",
       " 'India': 'Lower middle income',\n",
       " 'Indonesia': 'Lower middle income',\n",
       " 'Iraq': 'Upper middle income',\n",
       " 'Ireland': 'High income',\n",
       " 'Israel': 'High income',\n",
       " 'Jamaica': 'Upper middle income',\n",
       " 'Jordan': 'Upper middle income',\n",
       " 'Kazakhstan': 'Upper middle income',\n",
       " 'Kenya': 'Lower middle income',\n",
       " 'Kiribati': 'Lower middle income',\n",
       " 'Latvia': 'High income',\n",
       " 'Lesotho': 'Lower middle income',\n",
       " 'Liberia': 'Low income',\n",
       " 'Lithuania': 'High income',\n",
       " 'Luxembourg': 'High income',\n",
       " 'Madagascar': 'Low income',\n",
       " 'Malawi': 'Low income',\n",
       " 'Malaysia': 'Upper middle income',\n",
       " 'Maldives': 'Upper middle income',\n",
       " 'Mali': 'Low income',\n",
       " 'Malta': 'High income',\n",
       " 'Marshall Islands': 'Upper middle income',\n",
       " 'Mauritania': 'Lower middle income',\n",
       " 'Mauritius': 'Upper middle income',\n",
       " 'Mexico': 'Upper middle income',\n",
       " 'Monaco': 'High income',\n",
       " 'Mongolia': 'Lower middle income',\n",
       " 'Montenegro': 'Upper middle income',\n",
       " 'Morocco': 'Lower middle income',\n",
       " 'Mozambique': 'Low income',\n",
       " 'Myanmar': 'Lower middle income',\n",
       " 'Namibia': 'Upper middle income',\n",
       " 'Nauru': 'High income',\n",
       " 'Nepal': 'Lower middle income',\n",
       " 'Netherlands': 'High income',\n",
       " 'New Zealand': 'High income',\n",
       " 'Nicaragua': 'Lower middle income',\n",
       " 'Niger': 'Low income',\n",
       " 'Nigeria': 'Lower middle income',\n",
       " 'North Macedonia': 'Upper middle income',\n",
       " 'Norway': 'High income',\n",
       " 'Oman': 'High income',\n",
       " 'Pakistan': 'Lower middle income',\n",
       " 'Palau': 'High income',\n",
       " 'Panama': 'Upper middle income',\n",
       " 'Papua New Guinea': 'Lower middle income',\n",
       " 'Paraguay': 'Upper middle income',\n",
       " 'Peru': 'Upper middle income',\n",
       " 'Philippines': 'Lower middle income',\n",
       " 'Poland': 'High income',\n",
       " 'Portugal': 'High income',\n",
       " 'Romania': 'Upper middle income',\n",
       " 'Russian Federation': 'Upper middle income',\n",
       " 'Rwanda': 'Low income',\n",
       " 'Samoa': 'Lower middle income',\n",
       " 'Senegal': 'Lower middle income',\n",
       " 'Serbia': 'Upper middle income',\n",
       " 'Sierra Leone': 'Low income',\n",
       " 'Singapore': 'High income',\n",
       " 'Solomon Islands': 'Lower middle income',\n",
       " 'Somalia': 'Low income',\n",
       " 'South Africa': 'Upper middle income',\n",
       " 'South Sudan': 'Low income',\n",
       " 'Spain': 'High income',\n",
       " 'Sri Lanka': 'Lower middle income',\n",
       " 'Sudan': 'Low income',\n",
       " 'Suriname': 'Upper middle income',\n",
       " 'Sweden': 'High income',\n",
       " 'Switzerland': 'High income',\n",
       " 'Syrian Arab Republic': 'Low income',\n",
       " 'Tajikistan': 'Lower middle income',\n",
       " 'Thailand': 'Upper middle income',\n",
       " 'Timor-Leste': 'Lower middle income',\n",
       " 'Togo': 'Low income',\n",
       " 'Tonga': 'Upper middle income',\n",
       " 'Tunisia': 'Lower middle income',\n",
       " 'Turkmenistan': 'Upper middle income',\n",
       " 'Tuvalu': 'Upper middle income',\n",
       " 'Uganda': 'Low income',\n",
       " 'Ukraine': 'Lower middle income',\n",
       " 'United Kingdom': 'High income',\n",
       " 'United States of America': 'High income',\n",
       " 'Uruguay': 'High income',\n",
       " 'Uzbekistan': 'Lower middle income',\n",
       " 'Vanuatu': 'Lower middle income',\n",
       " 'Vietnam': 'Lower middle income',\n",
       " 'Zambia': 'Lower middle income',\n",
       " 'Zimbabwe': 'Lower middle income'}"
      ]
     },
     "execution_count": 87,
     "metadata": {},
     "output_type": "execute_result"
    }
   ],
   "source": [
    "# replace the ... with your code\n",
    "\n",
    "# Initialize an empty dictionary\n",
    "income_levels_2020 = {}\n",
    "\n",
    "# you need to loop through from 1 to len(csv_rows) and increase by 2 numbers each loop\n",
    "for idx in range(1, len(csv_rows), 2):\n",
    "    # Before you populate the dictionary with the key-value pairs,\n",
    "    # use print function calls to print the key and the value.\n",
    "    # Once you have verified the output for the first five lines of data, \n",
    "    # use the dictionary key-value pair insert syntax to update the dictionary\n",
    "    # Don't forget to delete the print function call line of code.\n",
    "    income_levels_2020[cell(idx, \"country_name\")] = cell(idx, \"income_level\")\n",
    "\n",
    "\n",
    "income_levels_2020"
   ]
  },
  {
   "cell_type": "code",
   "execution_count": 88,
   "id": "235c2e07",
   "metadata": {
    "deletable": false,
    "editable": false
   },
   "outputs": [
    {
     "data": {
      "text/html": [
       "<p><strong><pre style='display: inline;'>q5</pre></strong> passed!</p>"
      ],
      "text/plain": [
       "q5 results: All test cases passed!"
      ]
     },
     "execution_count": 88,
     "metadata": {},
     "output_type": "execute_result"
    }
   ],
   "source": [
    "grader.check(\"q5\")"
   ]
  },
  {
   "cell_type": "markdown",
   "id": "d042c7d2",
   "metadata": {},
   "source": [
    "**Question 6.1:** What is the `income_level` of *Zimbabwe* in *2015*?"
   ]
  },
  {
   "cell_type": "code",
   "execution_count": 89,
   "id": "1582e55d",
   "metadata": {
    "tags": []
   },
   "outputs": [
    {
     "data": {
      "text/plain": [
       "'Low income'"
      ]
     },
     "execution_count": 89,
     "metadata": {},
     "output_type": "execute_result"
    }
   ],
   "source": [
    "# replace the ... with your code\n",
    "\n",
    "zimbabwe_income_level_2015 = income_levels_2015[\"Zimbabwe\"] \n",
    "\n",
    "zimbabwe_income_level_2015"
   ]
  },
  {
   "cell_type": "code",
   "execution_count": 90,
   "id": "81fa2887",
   "metadata": {
    "deletable": false,
    "editable": false
   },
   "outputs": [
    {
     "data": {
      "text/html": [
       "<p><strong><pre style='display: inline;'>q6-1</pre></strong> passed!</p>"
      ],
      "text/plain": [
       "q6-1 results: All test cases passed!"
      ]
     },
     "execution_count": 90,
     "metadata": {},
     "output_type": "execute_result"
    }
   ],
   "source": [
    "grader.check(\"q6-1\")"
   ]
  },
  {
   "cell_type": "markdown",
   "id": "6d2b09af",
   "metadata": {},
   "source": [
    "**Question 6.2:** What is the `income_level` of *Zimbabwe* in *2020*?"
   ]
  },
  {
   "cell_type": "code",
   "execution_count": 91,
   "id": "cf62c3f4",
   "metadata": {
    "scrolled": true,
    "tags": []
   },
   "outputs": [
    {
     "data": {
      "text/plain": [
       "'Lower middle income'"
      ]
     },
     "execution_count": 91,
     "metadata": {},
     "output_type": "execute_result"
    }
   ],
   "source": [
    "# replace the ... with your code\n",
    "\n",
    "zimbabwe_income_level_2020 = income_levels_2020[\"Zimbabwe\"]\n",
    "\n",
    "zimbabwe_income_level_2020"
   ]
  },
  {
   "cell_type": "code",
   "execution_count": 92,
   "id": "8456840b",
   "metadata": {
    "deletable": false,
    "editable": false
   },
   "outputs": [
    {
     "data": {
      "text/html": [
       "<p><strong><pre style='display: inline;'>q6-2</pre></strong> passed!</p>"
      ],
      "text/plain": [
       "q6-2 results: All test cases passed!"
      ]
     },
     "execution_count": 92,
     "metadata": {},
     "output_type": "execute_result"
    }
   ],
   "source": [
    "grader.check(\"q6-2\")"
   ]
  },
  {
   "cell_type": "markdown",
   "id": "cb6ca277",
   "metadata": {},
   "source": [
    "### Task 3.2: Comparing data in odd and even indices\n",
    "\n",
    "We have already seen that the data from the year *2015* is stored in **even** indices, and the data from the year *2020* is stored in **odd** indices. Moreover, the data from each country is stored in consecutive rows. This allows us to easily compare data from the years *2015* and *2020* for a single country. Run the following cell, and figure out what it is doing:"
   ]
  },
  {
   "cell_type": "code",
   "execution_count": 93,
   "id": "1fc034b6",
   "metadata": {},
   "outputs": [
    {
     "name": "stdout",
     "output_type": "stream",
     "text": [
      "At row idx 0 the year is 2015\n",
      "At row idx 1 the year is 2020\n",
      "At row idx 2 the year is 2015\n",
      "At row idx 3 the year is 2020\n",
      "At row idx 4 the year is 2015\n",
      "At row idx 5 the year is 2020\n",
      "At row idx 6 the year is 2015\n",
      "At row idx 7 the year is 2020\n",
      "At row idx 8 the year is 2015\n",
      "At row idx 9 the year is 2020\n"
     ]
    }
   ],
   "source": [
    "for idx in range(0, 10, 2):\n",
    "    idx_2015 = idx\n",
    "    idx_2020 = idx + 1\n",
    "    print('At row idx ' + str(idx_2015) + ' the year is ' + str(cell(idx_2015, 'year')))\n",
    "    print('At row idx ' + str(idx_2020) + ' the year is ' + str(cell(idx_2020, 'year')))"
   ]
  },
  {
   "cell_type": "markdown",
   "id": "c754f145",
   "metadata": {},
   "source": [
    "See if you can edit the code above to make it display the `pop` of the years *2015* and *2020* from the first 10 rows of the dataset."
   ]
  },
  {
   "cell_type": "markdown",
   "id": "53f9a2d6",
   "metadata": {},
   "source": [
    "**Question 7:** Create a **list** of all the countries (`country_name`) whose populations (`pop`) have **decreased** from *2015* to *2020*."
   ]
  },
  {
   "cell_type": "code",
   "execution_count": 94,
   "id": "b9ae5c38",
   "metadata": {
    "tags": []
   },
   "outputs": [
    {
     "data": {
      "text/plain": [
       "['Albania',\n",
       " 'Andorra',\n",
       " 'Bermuda',\n",
       " 'Bosnia and Herzegovina',\n",
       " 'Bulgaria',\n",
       " 'Georgia',\n",
       " 'Greece',\n",
       " 'Hungary',\n",
       " 'Latvia',\n",
       " 'Lithuania',\n",
       " 'Poland',\n",
       " 'Portugal',\n",
       " 'Romania',\n",
       " 'Serbia',\n",
       " 'Syrian Arab Republic',\n",
       " 'Ukraine']"
      ]
     },
     "execution_count": 94,
     "metadata": {},
     "output_type": "execute_result"
    }
   ],
   "source": [
    "# replace the ... with your code\n",
    "\n",
    "# initalize as an empty list\n",
    "pop_decrease_countries = []\n",
    "\n",
    "# you need to loop through only even indices to avoid duplicate counting of the rows\n",
    "for idx in range(0,len(csv_rows), 2):\n",
    "    idx_2015 = idx\n",
    "    idx_2020 = idx + 1\n",
    "    if cell(idx_2020, \"pop\") < cell(idx_2015, \"pop\"): # check if population in 2020 is less than population in 2015\n",
    "        pop_decrease_countries.append(cell(idx,\"country_name\"))\n",
    "        \n",
    "pop_decrease_countries"
   ]
  },
  {
   "cell_type": "code",
   "execution_count": 95,
   "id": "c50df33c",
   "metadata": {
    "deletable": false,
    "editable": false
   },
   "outputs": [
    {
     "data": {
      "text/html": [
       "<p><strong><pre style='display: inline;'>q7</pre></strong> passed!</p>"
      ],
      "text/plain": [
       "q7 results: All test cases passed!"
      ]
     },
     "execution_count": 95,
     "metadata": {},
     "output_type": "execute_result"
    }
   ],
   "source": [
    "grader.check(\"q7\")"
   ]
  },
  {
   "cell_type": "markdown",
   "id": "58fb5e00",
   "metadata": {},
   "source": [
    "**Question 8:** Create a list of all the countries whose urban population percentage (`urban_percent`) **increased** from *2015* to *2020*."
   ]
  },
  {
   "cell_type": "code",
   "execution_count": 96,
   "id": "e6815bcd",
   "metadata": {
    "tags": []
   },
   "outputs": [
    {
     "data": {
      "text/plain": [
       "['Afghanistan',\n",
       " 'Albania',\n",
       " 'Algeria',\n",
       " 'Angola',\n",
       " 'Austria',\n",
       " 'Azerbaijan',\n",
       " 'Bangladesh',\n",
       " 'Belarus',\n",
       " 'Belize',\n",
       " 'Benin',\n",
       " 'Bhutan',\n",
       " 'Bosnia and Herzegovina',\n",
       " 'Botswana',\n",
       " 'Brazil',\n",
       " 'Brunei Darussalam',\n",
       " 'Bulgaria',\n",
       " 'Burkina Faso',\n",
       " 'Burundi',\n",
       " 'Cabo Verde',\n",
       " 'Cambodia',\n",
       " 'Cameroon',\n",
       " 'Canada',\n",
       " 'Central African Republic',\n",
       " 'Chad',\n",
       " 'Chile',\n",
       " 'China',\n",
       " 'Colombia',\n",
       " 'Costa Rica',\n",
       " \"Côte d'Ivoire\",\n",
       " 'Czech Republic',\n",
       " 'Djibouti',\n",
       " 'Dominican Republic',\n",
       " 'Ecuador',\n",
       " 'El Salvador',\n",
       " 'Estonia',\n",
       " 'Eswatini',\n",
       " 'Ethiopia',\n",
       " 'Fiji',\n",
       " 'Finland',\n",
       " 'France',\n",
       " 'Gabon',\n",
       " 'Georgia',\n",
       " 'Ghana',\n",
       " 'Greece',\n",
       " 'Greenland',\n",
       " 'Guatemala',\n",
       " 'Guinea',\n",
       " 'Guinea-Bissau',\n",
       " 'Guyana',\n",
       " 'Haiti',\n",
       " 'Honduras',\n",
       " 'Hungary',\n",
       " 'India',\n",
       " 'Indonesia',\n",
       " 'Iraq',\n",
       " 'Ireland',\n",
       " 'Israel',\n",
       " 'Jamaica',\n",
       " 'Jordan',\n",
       " 'Kazakhstan',\n",
       " 'Kenya',\n",
       " 'Kiribati',\n",
       " 'Lesotho',\n",
       " 'Liberia',\n",
       " 'Lithuania',\n",
       " 'Luxembourg',\n",
       " 'Madagascar',\n",
       " 'Malawi',\n",
       " 'Malaysia',\n",
       " 'Maldives',\n",
       " 'Mali',\n",
       " 'Malta',\n",
       " 'Marshall Islands',\n",
       " 'Mauritania',\n",
       " 'Mexico',\n",
       " 'Mongolia',\n",
       " 'Montenegro',\n",
       " 'Morocco',\n",
       " 'Mozambique',\n",
       " 'Myanmar',\n",
       " 'Namibia',\n",
       " 'Nepal',\n",
       " 'Netherlands',\n",
       " 'New Zealand',\n",
       " 'Nicaragua',\n",
       " 'Niger',\n",
       " 'Nigeria',\n",
       " 'North Macedonia',\n",
       " 'Norway',\n",
       " 'Oman',\n",
       " 'Pakistan',\n",
       " 'Palau',\n",
       " 'Panama',\n",
       " 'Paraguay',\n",
       " 'Peru',\n",
       " 'Philippines',\n",
       " 'Portugal',\n",
       " 'Russian Federation',\n",
       " 'Senegal',\n",
       " 'Sierra Leone',\n",
       " 'Solomon Islands',\n",
       " 'Somalia',\n",
       " 'South Africa',\n",
       " 'South Sudan',\n",
       " 'Spain',\n",
       " 'Sri Lanka',\n",
       " 'Sudan',\n",
       " 'Sweden',\n",
       " 'Syrian Arab Republic',\n",
       " 'Tajikistan',\n",
       " 'Thailand',\n",
       " 'Timor-Leste',\n",
       " 'Togo',\n",
       " 'Tunisia',\n",
       " 'Turkmenistan',\n",
       " 'Tuvalu',\n",
       " 'Uganda',\n",
       " 'United Kingdom',\n",
       " 'United States of America',\n",
       " 'Uruguay',\n",
       " 'Vanuatu',\n",
       " 'Vietnam',\n",
       " 'Zambia']"
      ]
     },
     "execution_count": 96,
     "metadata": {},
     "output_type": "execute_result"
    }
   ],
   "source": [
    "# replace the ... with your code\n",
    "\n",
    "# initialize as an empty list\n",
    "more_urban_countries = []\n",
    "\n",
    "for idx in range(0, len(csv_rows), 2):\n",
    "    idx_2015 = idx\n",
    "    idx_2020 = idx + 1\n",
    "    if cell(idx_2020, \"urban_percent\") > cell(idx_2015, \"urban_percent\"): # check if population in 2020 is less than population in 2015\n",
    "        more_urban_countries.append(cell(idx,\"country_name\"))\n",
    "        \n",
    "\n",
    "# you need to loop through only even (or only odd) indices to avoid duplicate counting of the rows\n",
    "# and add the country_name to the list if urban_percent is higher in 2020 than in 2015\n",
    "        \n",
    "more_urban_countries"
   ]
  },
  {
   "cell_type": "code",
   "execution_count": 97,
   "id": "441a6154",
   "metadata": {
    "deletable": false,
    "editable": false
   },
   "outputs": [
    {
     "data": {
      "text/html": [
       "<p><strong><pre style='display: inline;'>q8</pre></strong> passed!</p>"
      ],
      "text/plain": [
       "q8 results: All test cases passed!"
      ]
     },
     "execution_count": 97,
     "metadata": {},
     "output_type": "execute_result"
    }
   ],
   "source": [
    "grader.check(\"q8\")"
   ]
  },
  {
   "cell_type": "markdown",
   "id": "99daeb5e",
   "metadata": {},
   "source": [
    "### Task 3.3: Working with Nested Dictionaries\n",
    "\n",
    "You have defined two dictionaries `income_levels_2015` and `income_levels_2020`. You will now create a *nested* dictionary that combines both these dictionaries."
   ]
  },
  {
   "cell_type": "markdown",
   "id": "957238a2",
   "metadata": {},
   "source": [
    "**Question 9:** Create a dictionary mapping each `country_name` to another **dictionary** that maps each `year` to `income_level`. You may hardcode the years *2015* and *2020* for this question.\n",
    "\n",
    "The first five key-value pairs within this **dict** would be these:\n",
    "```\n",
    "{'Afghanistan': {2015: 'Low income', 2020: 'Low income'},\n",
    " 'Albania': {2015: 'Upper middle income', 2020: 'Upper middle income'},\n",
    " 'Algeria': {2015: 'Upper middle income', 2020: 'Lower middle income'},\n",
    " 'Andorra': {2015: 'High income', 2020: 'High income'},\n",
    " 'Angola': {2015: 'Upper middle income', 2020: 'Lower middle income'},\n",
    " ...\n",
    "}\n",
    "```\n"
   ]
  },
  {
   "cell_type": "code",
   "execution_count": 98,
   "id": "996eb5de",
   "metadata": {
    "tags": []
   },
   "outputs": [
    {
     "data": {
      "text/plain": [
       "{'Afghanistan': {2015: 'Low income', 2020: 'Low income'},\n",
       " 'Albania': {2015: 'Upper middle income', 2020: 'Upper middle income'},\n",
       " 'Algeria': {2015: 'Upper middle income', 2020: 'Lower middle income'},\n",
       " 'Andorra': {2015: 'High income', 2020: 'High income'},\n",
       " 'Angola': {2015: 'Upper middle income', 2020: 'Lower middle income'},\n",
       " 'Armenia': {2015: 'Lower middle income', 2020: 'Upper middle income'},\n",
       " 'Australia': {2015: 'High income', 2020: 'High income'},\n",
       " 'Austria': {2015: 'High income', 2020: 'High income'},\n",
       " 'Azerbaijan': {2015: 'Upper middle income', 2020: 'Upper middle income'},\n",
       " 'Bangladesh': {2015: 'Lower middle income', 2020: 'Lower middle income'},\n",
       " 'Belarus': {2015: 'Upper middle income', 2020: 'Upper middle income'},\n",
       " 'Belgium': {2015: 'High income', 2020: 'High income'},\n",
       " 'Belize': {2015: 'Upper middle income', 2020: 'Lower middle income'},\n",
       " 'Benin': {2015: 'Low income', 2020: 'Lower middle income'},\n",
       " 'Bermuda': {2015: 'High income', 2020: 'High income'},\n",
       " 'Bhutan': {2015: 'Lower middle income', 2020: 'Lower middle income'},\n",
       " 'Bosnia and Herzegovina': {2015: 'Upper middle income',\n",
       "  2020: 'Upper middle income'},\n",
       " 'Botswana': {2015: 'Upper middle income', 2020: 'Upper middle income'},\n",
       " 'Brazil': {2015: 'Upper middle income', 2020: 'Upper middle income'},\n",
       " 'Brunei Darussalam': {2015: 'High income', 2020: 'High income'},\n",
       " 'Bulgaria': {2015: 'Upper middle income', 2020: 'Upper middle income'},\n",
       " 'Burkina Faso': {2015: 'Low income', 2020: 'Low income'},\n",
       " 'Burundi': {2015: 'Low income', 2020: 'Low income'},\n",
       " 'Cabo Verde': {2015: 'Lower middle income', 2020: 'Lower middle income'},\n",
       " 'Cambodia': {2015: 'Lower middle income', 2020: 'Lower middle income'},\n",
       " 'Cameroon': {2015: 'Lower middle income', 2020: 'Lower middle income'},\n",
       " 'Canada': {2015: 'High income', 2020: 'High income'},\n",
       " 'Central African Republic': {2015: 'Low income', 2020: 'Low income'},\n",
       " 'Chad': {2015: 'Low income', 2020: 'Low income'},\n",
       " 'Chile': {2015: 'High income', 2020: 'High income'},\n",
       " 'China': {2015: 'Upper middle income', 2020: 'Upper middle income'},\n",
       " 'Colombia': {2015: 'Upper middle income', 2020: 'Upper middle income'},\n",
       " 'Costa Rica': {2015: 'Upper middle income', 2020: 'Upper middle income'},\n",
       " \"Côte d'Ivoire\": {2015: 'Lower middle income', 2020: 'Lower middle income'},\n",
       " 'Cuba': {2015: 'Upper middle income', 2020: 'Upper middle income'},\n",
       " 'Cyprus': {2015: 'High income', 2020: 'High income'},\n",
       " 'Czech Republic': {2015: 'High income', 2020: 'High income'},\n",
       " 'Denmark': {2015: 'High income', 2020: 'High income'},\n",
       " 'Djibouti': {2015: 'Lower middle income', 2020: 'Lower middle income'},\n",
       " 'Dominican Republic': {2015: 'Upper middle income',\n",
       "  2020: 'Upper middle income'},\n",
       " 'Ecuador': {2015: 'Upper middle income', 2020: 'Upper middle income'},\n",
       " 'El Salvador': {2015: 'Lower middle income', 2020: 'Lower middle income'},\n",
       " 'Estonia': {2015: 'High income', 2020: 'High income'},\n",
       " 'Eswatini': {2015: 'Lower middle income', 2020: 'Lower middle income'},\n",
       " 'Ethiopia': {2015: 'Low income', 2020: 'Low income'},\n",
       " 'Fiji': {2015: 'Upper middle income', 2020: 'Upper middle income'},\n",
       " 'Finland': {2015: 'High income', 2020: 'High income'},\n",
       " 'France': {2015: 'High income', 2020: 'High income'},\n",
       " 'Gabon': {2015: 'Upper middle income', 2020: 'Upper middle income'},\n",
       " 'Georgia': {2015: 'Upper middle income', 2020: 'Upper middle income'},\n",
       " 'Germany': {2015: 'High income', 2020: 'High income'},\n",
       " 'Ghana': {2015: 'Lower middle income', 2020: 'Lower middle income'},\n",
       " 'Gibraltar': {2015: 'High income', 2020: 'High income'},\n",
       " 'Greece': {2015: 'High income', 2020: 'High income'},\n",
       " 'Greenland': {2015: 'High income', 2020: 'High income'},\n",
       " 'Guatemala': {2015: 'Lower middle income', 2020: 'Upper middle income'},\n",
       " 'Guinea': {2015: 'Low income', 2020: 'Low income'},\n",
       " 'Guinea-Bissau': {2015: 'Low income', 2020: 'Low income'},\n",
       " 'Guyana': {2015: 'Upper middle income', 2020: 'Upper middle income'},\n",
       " 'Haiti': {2015: 'Low income', 2020: 'Lower middle income'},\n",
       " 'Honduras': {2015: 'Lower middle income', 2020: 'Lower middle income'},\n",
       " 'Hungary': {2015: 'High income', 2020: 'High income'},\n",
       " 'Iceland': {2015: 'High income', 2020: 'High income'},\n",
       " 'India': {2015: 'Lower middle income', 2020: 'Lower middle income'},\n",
       " 'Indonesia': {2015: 'Lower middle income', 2020: 'Lower middle income'},\n",
       " 'Iraq': {2015: 'Upper middle income', 2020: 'Upper middle income'},\n",
       " 'Ireland': {2015: 'High income', 2020: 'High income'},\n",
       " 'Israel': {2015: 'High income', 2020: 'High income'},\n",
       " 'Jamaica': {2015: 'Upper middle income', 2020: 'Upper middle income'},\n",
       " 'Jordan': {2015: 'Upper middle income', 2020: 'Upper middle income'},\n",
       " 'Kazakhstan': {2015: 'Upper middle income', 2020: 'Upper middle income'},\n",
       " 'Kenya': {2015: 'Lower middle income', 2020: 'Lower middle income'},\n",
       " 'Kiribati': {2015: 'Lower middle income', 2020: 'Lower middle income'},\n",
       " 'Latvia': {2015: 'High income', 2020: 'High income'},\n",
       " 'Lesotho': {2015: 'Lower middle income', 2020: 'Lower middle income'},\n",
       " 'Liberia': {2015: 'Low income', 2020: 'Low income'},\n",
       " 'Lithuania': {2015: 'High income', 2020: 'High income'},\n",
       " 'Luxembourg': {2015: 'High income', 2020: 'High income'},\n",
       " 'Madagascar': {2015: 'Low income', 2020: 'Low income'},\n",
       " 'Malawi': {2015: 'Low income', 2020: 'Low income'},\n",
       " 'Malaysia': {2015: 'Upper middle income', 2020: 'Upper middle income'},\n",
       " 'Maldives': {2015: 'Upper middle income', 2020: 'Upper middle income'},\n",
       " 'Mali': {2015: 'Low income', 2020: 'Low income'},\n",
       " 'Malta': {2015: 'High income', 2020: 'High income'},\n",
       " 'Marshall Islands': {2015: 'Upper middle income',\n",
       "  2020: 'Upper middle income'},\n",
       " 'Mauritania': {2015: 'Lower middle income', 2020: 'Lower middle income'},\n",
       " 'Mauritius': {2015: 'Upper middle income', 2020: 'Upper middle income'},\n",
       " 'Mexico': {2015: 'Upper middle income', 2020: 'Upper middle income'},\n",
       " 'Monaco': {2015: 'High income', 2020: 'High income'},\n",
       " 'Mongolia': {2015: 'Lower middle income', 2020: 'Lower middle income'},\n",
       " 'Montenegro': {2015: 'Upper middle income', 2020: 'Upper middle income'},\n",
       " 'Morocco': {2015: 'Lower middle income', 2020: 'Lower middle income'},\n",
       " 'Mozambique': {2015: 'Low income', 2020: 'Low income'},\n",
       " 'Myanmar': {2015: 'Lower middle income', 2020: 'Lower middle income'},\n",
       " 'Namibia': {2015: 'Upper middle income', 2020: 'Upper middle income'},\n",
       " 'Nauru': {2015: 'High income', 2020: 'High income'},\n",
       " 'Nepal': {2015: 'Low income', 2020: 'Lower middle income'},\n",
       " 'Netherlands': {2015: 'High income', 2020: 'High income'},\n",
       " 'New Zealand': {2015: 'High income', 2020: 'High income'},\n",
       " 'Nicaragua': {2015: 'Lower middle income', 2020: 'Lower middle income'},\n",
       " 'Niger': {2015: 'Low income', 2020: 'Low income'},\n",
       " 'Nigeria': {2015: 'Lower middle income', 2020: 'Lower middle income'},\n",
       " 'North Macedonia': {2015: 'Upper middle income', 2020: 'Upper middle income'},\n",
       " 'Norway': {2015: 'High income', 2020: 'High income'},\n",
       " 'Oman': {2015: 'High income', 2020: 'High income'},\n",
       " 'Pakistan': {2015: 'Lower middle income', 2020: 'Lower middle income'},\n",
       " 'Palau': {2015: 'Upper middle income', 2020: 'High income'},\n",
       " 'Panama': {2015: 'Upper middle income', 2020: 'Upper middle income'},\n",
       " 'Papua New Guinea': {2015: 'Lower middle income',\n",
       "  2020: 'Lower middle income'},\n",
       " 'Paraguay': {2015: 'Upper middle income', 2020: 'Upper middle income'},\n",
       " 'Peru': {2015: 'Upper middle income', 2020: 'Upper middle income'},\n",
       " 'Philippines': {2015: 'Lower middle income', 2020: 'Lower middle income'},\n",
       " 'Poland': {2015: 'High income', 2020: 'High income'},\n",
       " 'Portugal': {2015: 'High income', 2020: 'High income'},\n",
       " 'Romania': {2015: 'Upper middle income', 2020: 'Upper middle income'},\n",
       " 'Russian Federation': {2015: 'Upper middle income',\n",
       "  2020: 'Upper middle income'},\n",
       " 'Rwanda': {2015: 'Low income', 2020: 'Low income'},\n",
       " 'Samoa': {2015: 'Lower middle income', 2020: 'Lower middle income'},\n",
       " 'Senegal': {2015: 'Low income', 2020: 'Lower middle income'},\n",
       " 'Serbia': {2015: 'Upper middle income', 2020: 'Upper middle income'},\n",
       " 'Sierra Leone': {2015: 'Low income', 2020: 'Low income'},\n",
       " 'Singapore': {2015: 'High income', 2020: 'High income'},\n",
       " 'Solomon Islands': {2015: 'Lower middle income', 2020: 'Lower middle income'},\n",
       " 'Somalia': {2015: 'Low income', 2020: 'Low income'},\n",
       " 'South Africa': {2015: 'Upper middle income', 2020: 'Upper middle income'},\n",
       " 'South Sudan': {2015: 'Low income', 2020: 'Low income'},\n",
       " 'Spain': {2015: 'High income', 2020: 'High income'},\n",
       " 'Sri Lanka': {2015: 'Lower middle income', 2020: 'Lower middle income'},\n",
       " 'Sudan': {2015: 'Lower middle income', 2020: 'Low income'},\n",
       " 'Suriname': {2015: 'Upper middle income', 2020: 'Upper middle income'},\n",
       " 'Sweden': {2015: 'High income', 2020: 'High income'},\n",
       " 'Switzerland': {2015: 'High income', 2020: 'High income'},\n",
       " 'Syrian Arab Republic': {2015: 'Lower middle income', 2020: 'Low income'},\n",
       " 'Tajikistan': {2015: 'Lower middle income', 2020: 'Lower middle income'},\n",
       " 'Thailand': {2015: 'Upper middle income', 2020: 'Upper middle income'},\n",
       " 'Timor-Leste': {2015: 'Lower middle income', 2020: 'Lower middle income'},\n",
       " 'Togo': {2015: 'Low income', 2020: 'Low income'},\n",
       " 'Tonga': {2015: 'Lower middle income', 2020: 'Upper middle income'},\n",
       " 'Tunisia': {2015: 'Lower middle income', 2020: 'Lower middle income'},\n",
       " 'Turkmenistan': {2015: 'Upper middle income', 2020: 'Upper middle income'},\n",
       " 'Tuvalu': {2015: 'Upper middle income', 2020: 'Upper middle income'},\n",
       " 'Uganda': {2015: 'Low income', 2020: 'Low income'},\n",
       " 'Ukraine': {2015: 'Lower middle income', 2020: 'Lower middle income'},\n",
       " 'United Kingdom': {2015: 'High income', 2020: 'High income'},\n",
       " 'United States of America': {2015: 'High income', 2020: 'High income'},\n",
       " 'Uruguay': {2015: 'High income', 2020: 'High income'},\n",
       " 'Uzbekistan': {2015: 'Lower middle income', 2020: 'Lower middle income'},\n",
       " 'Vanuatu': {2015: 'Lower middle income', 2020: 'Lower middle income'},\n",
       " 'Vietnam': {2015: 'Lower middle income', 2020: 'Lower middle income'},\n",
       " 'Zambia': {2015: 'Lower middle income', 2020: 'Lower middle income'},\n",
       " 'Zimbabwe': {2015: 'Low income', 2020: 'Lower middle income'}}"
      ]
     },
     "execution_count": 98,
     "metadata": {},
     "output_type": "execute_result"
    }
   ],
   "source": [
    "# replace the ... with your code\n",
    "\n",
    "# Initialize an empty dictionary\n",
    "income_levels = {}\n",
    "\n",
    "# you need to loop through only even (or only odd) indices to avoid duplicate counting of the rows\n",
    "for idx in range(0, len(csv_rows), 2):\n",
    "    country_name = cell(idx, \"country_name\")\n",
    "    # initialize an empty nested dictionary as the value\n",
    "    income_levels[country_name] = {}\n",
    "    # First, use print function call to display the 2015 income_level for\n",
    "    # the current country. Once you verify that, delete the print function call line.\n",
    "    # add the income_level for 2015 as key-value pair to inner dictionary\n",
    "    income_levels[country_name][2015] = cell(idx, \"income_level\")\n",
    "    # add the income_level for 2020 as key-value pair to inner dictionary\n",
    "    income_levels[country_name][2020] = cell(idx + 1, \"income_level\")\n",
    "\n",
    "income_levels"
   ]
  },
  {
   "cell_type": "code",
   "execution_count": 99,
   "id": "4fa82e61",
   "metadata": {
    "deletable": false,
    "editable": false
   },
   "outputs": [
    {
     "data": {
      "text/html": [
       "<p><strong><pre style='display: inline;'>q9</pre></strong> passed!</p>"
      ],
      "text/plain": [
       "q9 results: All test cases passed!"
      ]
     },
     "execution_count": 99,
     "metadata": {},
     "output_type": "execute_result"
    }
   ],
   "source": [
    "grader.check(\"q9\")"
   ]
  },
  {
   "cell_type": "markdown",
   "id": "ada0cd58",
   "metadata": {},
   "source": [
    "**Question 10.1:** Use the nested dictionary you created to find the income level of *Cuba* in *2015*.\n",
    "\n",
    "You **must** use the dictionary `income_levels` to answer this question."
   ]
  },
  {
   "cell_type": "code",
   "execution_count": 100,
   "id": "8ab0c99f",
   "metadata": {
    "tags": []
   },
   "outputs": [
    {
     "data": {
      "text/plain": [
       "'Upper middle income'"
      ]
     },
     "execution_count": 100,
     "metadata": {},
     "output_type": "execute_result"
    }
   ],
   "source": [
    "# replace the ... with your code\n",
    "\n",
    "cuba_income_level_2015 = income_levels[\"Cuba\"][2015]\n",
    "\n",
    "cuba_income_level_2015"
   ]
  },
  {
   "cell_type": "code",
   "execution_count": 101,
   "id": "05633ffe",
   "metadata": {
    "deletable": false,
    "editable": false
   },
   "outputs": [
    {
     "data": {
      "text/html": [
       "<p><strong><pre style='display: inline;'>q10-1</pre></strong> passed!</p>"
      ],
      "text/plain": [
       "q10-1 results: All test cases passed!"
      ]
     },
     "execution_count": 101,
     "metadata": {},
     "output_type": "execute_result"
    }
   ],
   "source": [
    "grader.check(\"q10-1\")"
   ]
  },
  {
   "cell_type": "markdown",
   "id": "57097128",
   "metadata": {},
   "source": [
    "**Question 10.2:** Use the nested dictionary you created to find the income level of *Gibraltar* in *2020*.\n",
    "\n",
    "You **must** use the dictionary `income_levels` to answer this question."
   ]
  },
  {
   "cell_type": "code",
   "execution_count": 102,
   "id": "2766eda5",
   "metadata": {
    "scrolled": false,
    "tags": []
   },
   "outputs": [
    {
     "data": {
      "text/plain": [
       "'High income'"
      ]
     },
     "execution_count": 102,
     "metadata": {},
     "output_type": "execute_result"
    }
   ],
   "source": [
    "# replace the ... with your code\n",
    "\n",
    "gibraltar_income_level_2020 = income_levels[\"Gibraltar\"][2020]\n",
    "\n",
    "gibraltar_income_level_2020"
   ]
  },
  {
   "cell_type": "code",
   "execution_count": 103,
   "id": "81c1bdd5",
   "metadata": {
    "deletable": false,
    "editable": false
   },
   "outputs": [
    {
     "data": {
      "text/html": [
       "<p><strong><pre style='display: inline;'>q10-2</pre></strong> passed!</p>"
      ],
      "text/plain": [
       "q10-2 results: All test cases passed!"
      ]
     },
     "execution_count": 103,
     "metadata": {},
     "output_type": "execute_result"
    }
   ],
   "source": [
    "grader.check(\"q10-2\")"
   ]
  },
  {
   "cell_type": "markdown",
   "id": "0700c958",
   "metadata": {},
   "source": [
    "**Question 11**: Create a dictionary mapping each `country_name` to a **boolean** representing whether or not the `income_level` of a country is different in *2020* and *2015*.\n",
    "\n",
    "The first five key-value pairs within this **dict** would be these:\n",
    "```\n",
    "{'Afghanistan': False,\n",
    " 'Albania': False,\n",
    " 'Algeria': True,\n",
    " 'Andorra': False,\n",
    " 'Angola': True,\n",
    " ...\n",
    "}\n",
    "```\n",
    "\n",
    "You have already created a nested dictionary called `income_levels` which contains all the relevant data. Loop through the keys of that dictionary and combine the data from the inner dictionary to create your dictionary."
   ]
  },
  {
   "cell_type": "code",
   "execution_count": 104,
   "id": "53ea9fe8",
   "metadata": {
    "tags": []
   },
   "outputs": [
    {
     "data": {
      "text/plain": [
       "{'Afghanistan': False,\n",
       " 'Albania': False,\n",
       " 'Algeria': True,\n",
       " 'Andorra': False,\n",
       " 'Angola': True,\n",
       " 'Armenia': True,\n",
       " 'Australia': False,\n",
       " 'Austria': False,\n",
       " 'Azerbaijan': False,\n",
       " 'Bangladesh': False,\n",
       " 'Belarus': False,\n",
       " 'Belgium': False,\n",
       " 'Belize': True,\n",
       " 'Benin': True,\n",
       " 'Bermuda': False,\n",
       " 'Bhutan': False,\n",
       " 'Bosnia and Herzegovina': False,\n",
       " 'Botswana': False,\n",
       " 'Brazil': False,\n",
       " 'Brunei Darussalam': False,\n",
       " 'Bulgaria': False,\n",
       " 'Burkina Faso': False,\n",
       " 'Burundi': False,\n",
       " 'Cabo Verde': False,\n",
       " 'Cambodia': False,\n",
       " 'Cameroon': False,\n",
       " 'Canada': False,\n",
       " 'Central African Republic': False,\n",
       " 'Chad': False,\n",
       " 'Chile': False,\n",
       " 'China': False,\n",
       " 'Colombia': False,\n",
       " 'Costa Rica': False,\n",
       " \"Côte d'Ivoire\": False,\n",
       " 'Cuba': False,\n",
       " 'Cyprus': False,\n",
       " 'Czech Republic': False,\n",
       " 'Denmark': False,\n",
       " 'Djibouti': False,\n",
       " 'Dominican Republic': False,\n",
       " 'Ecuador': False,\n",
       " 'El Salvador': False,\n",
       " 'Estonia': False,\n",
       " 'Eswatini': False,\n",
       " 'Ethiopia': False,\n",
       " 'Fiji': False,\n",
       " 'Finland': False,\n",
       " 'France': False,\n",
       " 'Gabon': False,\n",
       " 'Georgia': False,\n",
       " 'Germany': False,\n",
       " 'Ghana': False,\n",
       " 'Gibraltar': False,\n",
       " 'Greece': False,\n",
       " 'Greenland': False,\n",
       " 'Guatemala': True,\n",
       " 'Guinea': False,\n",
       " 'Guinea-Bissau': False,\n",
       " 'Guyana': False,\n",
       " 'Haiti': True,\n",
       " 'Honduras': False,\n",
       " 'Hungary': False,\n",
       " 'Iceland': False,\n",
       " 'India': False,\n",
       " 'Indonesia': False,\n",
       " 'Iraq': False,\n",
       " 'Ireland': False,\n",
       " 'Israel': False,\n",
       " 'Jamaica': False,\n",
       " 'Jordan': False,\n",
       " 'Kazakhstan': False,\n",
       " 'Kenya': False,\n",
       " 'Kiribati': False,\n",
       " 'Latvia': False,\n",
       " 'Lesotho': False,\n",
       " 'Liberia': False,\n",
       " 'Lithuania': False,\n",
       " 'Luxembourg': False,\n",
       " 'Madagascar': False,\n",
       " 'Malawi': False,\n",
       " 'Malaysia': False,\n",
       " 'Maldives': False,\n",
       " 'Mali': False,\n",
       " 'Malta': False,\n",
       " 'Marshall Islands': False,\n",
       " 'Mauritania': False,\n",
       " 'Mauritius': False,\n",
       " 'Mexico': False,\n",
       " 'Monaco': False,\n",
       " 'Mongolia': False,\n",
       " 'Montenegro': False,\n",
       " 'Morocco': False,\n",
       " 'Mozambique': False,\n",
       " 'Myanmar': False,\n",
       " 'Namibia': False,\n",
       " 'Nauru': False,\n",
       " 'Nepal': True,\n",
       " 'Netherlands': False,\n",
       " 'New Zealand': False,\n",
       " 'Nicaragua': False,\n",
       " 'Niger': False,\n",
       " 'Nigeria': False,\n",
       " 'North Macedonia': False,\n",
       " 'Norway': False,\n",
       " 'Oman': False,\n",
       " 'Pakistan': False,\n",
       " 'Palau': True,\n",
       " 'Panama': False,\n",
       " 'Papua New Guinea': False,\n",
       " 'Paraguay': False,\n",
       " 'Peru': False,\n",
       " 'Philippines': False,\n",
       " 'Poland': False,\n",
       " 'Portugal': False,\n",
       " 'Romania': False,\n",
       " 'Russian Federation': False,\n",
       " 'Rwanda': False,\n",
       " 'Samoa': False,\n",
       " 'Senegal': True,\n",
       " 'Serbia': False,\n",
       " 'Sierra Leone': False,\n",
       " 'Singapore': False,\n",
       " 'Solomon Islands': False,\n",
       " 'Somalia': False,\n",
       " 'South Africa': False,\n",
       " 'South Sudan': False,\n",
       " 'Spain': False,\n",
       " 'Sri Lanka': False,\n",
       " 'Sudan': True,\n",
       " 'Suriname': False,\n",
       " 'Sweden': False,\n",
       " 'Switzerland': False,\n",
       " 'Syrian Arab Republic': True,\n",
       " 'Tajikistan': False,\n",
       " 'Thailand': False,\n",
       " 'Timor-Leste': False,\n",
       " 'Togo': False,\n",
       " 'Tonga': True,\n",
       " 'Tunisia': False,\n",
       " 'Turkmenistan': False,\n",
       " 'Tuvalu': False,\n",
       " 'Uganda': False,\n",
       " 'Ukraine': False,\n",
       " 'United Kingdom': False,\n",
       " 'United States of America': False,\n",
       " 'Uruguay': False,\n",
       " 'Uzbekistan': False,\n",
       " 'Vanuatu': False,\n",
       " 'Vietnam': False,\n",
       " 'Zambia': False,\n",
       " 'Zimbabwe': True}"
      ]
     },
     "execution_count": 104,
     "metadata": {},
     "output_type": "execute_result"
    }
   ],
   "source": [
    "# replace the ... with your code\n",
    "\n",
    "# initialize an empty dictionary\n",
    "income_level_differences = {}\n",
    "\n",
    "# loop over the keys of income_levels\n",
    "for idx in range(0, len(csv_rows), 2) :\n",
    "    if cell(idx, \"income_level\") != cell(idx + 1, \"income_level\"): \n",
    "        # use the dictionary income_levels to compare 2015 and 2020 income_level\n",
    "        income_change_boolean = True\n",
    "    else:\n",
    "        income_change_boolean = False\n",
    "    # map the country name to the boolean\n",
    "    income_level_differences[cell(idx, \"country_name\")] = income_change_boolean\n",
    "\n",
    "income_level_differences"
   ]
  },
  {
   "cell_type": "code",
   "execution_count": 105,
   "id": "a14359df",
   "metadata": {
    "deletable": false,
    "editable": false
   },
   "outputs": [
    {
     "data": {
      "text/html": [
       "<p><strong><pre style='display: inline;'>q11</pre></strong> passed!</p>"
      ],
      "text/plain": [
       "q11 results: All test cases passed!"
      ]
     },
     "execution_count": 105,
     "metadata": {},
     "output_type": "execute_result"
    }
   ],
   "source": [
    "grader.check(\"q11\")"
   ]
  },
  {
   "cell_type": "markdown",
   "id": "5a38af5a",
   "metadata": {},
   "source": [
    "### Task 3.4: Binning\n",
    "\n",
    "We created the dictionary `income_levels_2015` a little while ago which maps each `country_name` to its `income_level`. We will now use this dictionary to create a **new** dictionary where each key is an `income_level`, and the corresponding value is a **list** of all the countries with that `income_level`."
   ]
  },
  {
   "cell_type": "markdown",
   "id": "99fc4fcb",
   "metadata": {},
   "source": [
    "**Question 12:** Create a new dictionary using the `income_levels_2015` dictionary by mapping each `income_level` to a **list** of all the countries (`country_name`) with that `income_level`.\n",
    "\n",
    "The first three country names for each key within this **dict** would be these:\n",
    "```\n",
    "{'Low income': ['Afghanistan',\n",
    "  'Benin',\n",
    "  'Burkina Faso', ...],\n",
    " 'Upper middle income': ['Albania',\n",
    "  'Algeria',\n",
    "  'Angola', ...],\n",
    " 'High income': ['Andorra',\n",
    "  'Australia',\n",
    "  'Austria', ...],\n",
    " 'Lower middle income': ['Armenia',\n",
    "  'Bangladesh',\n",
    "  'Bhutan', ...]\n",
    "}\n",
    "```"
   ]
  },
  {
   "cell_type": "code",
   "execution_count": 106,
   "id": "1e218509",
   "metadata": {
    "tags": []
   },
   "outputs": [
    {
     "data": {
      "text/plain": [
       "{'Low income': ['Afghanistan',\n",
       "  'Benin',\n",
       "  'Burkina Faso',\n",
       "  'Burundi',\n",
       "  'Central African Republic',\n",
       "  'Chad',\n",
       "  'Ethiopia',\n",
       "  'Guinea',\n",
       "  'Guinea-Bissau',\n",
       "  'Haiti',\n",
       "  'Liberia',\n",
       "  'Madagascar',\n",
       "  'Malawi',\n",
       "  'Mali',\n",
       "  'Mozambique',\n",
       "  'Nepal',\n",
       "  'Niger',\n",
       "  'Rwanda',\n",
       "  'Senegal',\n",
       "  'Sierra Leone',\n",
       "  'Somalia',\n",
       "  'South Sudan',\n",
       "  'Togo',\n",
       "  'Uganda',\n",
       "  'Zimbabwe'],\n",
       " 'Upper middle income': ['Albania',\n",
       "  'Algeria',\n",
       "  'Angola',\n",
       "  'Azerbaijan',\n",
       "  'Belarus',\n",
       "  'Belize',\n",
       "  'Bosnia and Herzegovina',\n",
       "  'Botswana',\n",
       "  'Brazil',\n",
       "  'Bulgaria',\n",
       "  'China',\n",
       "  'Colombia',\n",
       "  'Costa Rica',\n",
       "  'Cuba',\n",
       "  'Dominican Republic',\n",
       "  'Ecuador',\n",
       "  'Fiji',\n",
       "  'Gabon',\n",
       "  'Georgia',\n",
       "  'Guyana',\n",
       "  'Iraq',\n",
       "  'Jamaica',\n",
       "  'Jordan',\n",
       "  'Kazakhstan',\n",
       "  'Malaysia',\n",
       "  'Maldives',\n",
       "  'Marshall Islands',\n",
       "  'Mauritius',\n",
       "  'Mexico',\n",
       "  'Montenegro',\n",
       "  'Namibia',\n",
       "  'North Macedonia',\n",
       "  'Palau',\n",
       "  'Panama',\n",
       "  'Paraguay',\n",
       "  'Peru',\n",
       "  'Romania',\n",
       "  'Russian Federation',\n",
       "  'Serbia',\n",
       "  'South Africa',\n",
       "  'Suriname',\n",
       "  'Thailand',\n",
       "  'Turkmenistan',\n",
       "  'Tuvalu'],\n",
       " 'High income': ['Andorra',\n",
       "  'Australia',\n",
       "  'Austria',\n",
       "  'Belgium',\n",
       "  'Bermuda',\n",
       "  'Brunei Darussalam',\n",
       "  'Canada',\n",
       "  'Chile',\n",
       "  'Cyprus',\n",
       "  'Czech Republic',\n",
       "  'Denmark',\n",
       "  'Estonia',\n",
       "  'Finland',\n",
       "  'France',\n",
       "  'Germany',\n",
       "  'Gibraltar',\n",
       "  'Greece',\n",
       "  'Greenland',\n",
       "  'Hungary',\n",
       "  'Iceland',\n",
       "  'Ireland',\n",
       "  'Israel',\n",
       "  'Latvia',\n",
       "  'Lithuania',\n",
       "  'Luxembourg',\n",
       "  'Malta',\n",
       "  'Monaco',\n",
       "  'Nauru',\n",
       "  'Netherlands',\n",
       "  'New Zealand',\n",
       "  'Norway',\n",
       "  'Oman',\n",
       "  'Poland',\n",
       "  'Portugal',\n",
       "  'Singapore',\n",
       "  'Spain',\n",
       "  'Sweden',\n",
       "  'Switzerland',\n",
       "  'United Kingdom',\n",
       "  'United States of America',\n",
       "  'Uruguay'],\n",
       " 'Lower middle income': ['Armenia',\n",
       "  'Bangladesh',\n",
       "  'Bhutan',\n",
       "  'Cabo Verde',\n",
       "  'Cambodia',\n",
       "  'Cameroon',\n",
       "  \"Côte d'Ivoire\",\n",
       "  'Djibouti',\n",
       "  'El Salvador',\n",
       "  'Eswatini',\n",
       "  'Ghana',\n",
       "  'Guatemala',\n",
       "  'Honduras',\n",
       "  'India',\n",
       "  'Indonesia',\n",
       "  'Kenya',\n",
       "  'Kiribati',\n",
       "  'Lesotho',\n",
       "  'Mauritania',\n",
       "  'Mongolia',\n",
       "  'Morocco',\n",
       "  'Myanmar',\n",
       "  'Nicaragua',\n",
       "  'Nigeria',\n",
       "  'Pakistan',\n",
       "  'Papua New Guinea',\n",
       "  'Philippines',\n",
       "  'Samoa',\n",
       "  'Solomon Islands',\n",
       "  'Sri Lanka',\n",
       "  'Sudan',\n",
       "  'Syrian Arab Republic',\n",
       "  'Tajikistan',\n",
       "  'Timor-Leste',\n",
       "  'Tonga',\n",
       "  'Tunisia',\n",
       "  'Ukraine',\n",
       "  'Uzbekistan',\n",
       "  'Vanuatu',\n",
       "  'Vietnam',\n",
       "  'Zambia']}"
      ]
     },
     "execution_count": 106,
     "metadata": {},
     "output_type": "execute_result"
    }
   ],
   "source": [
    "# replace the ... with your code\n",
    "\n",
    "# initialize an empty dictionary\n",
    "income_levels_to_country_names_2015 = {}\n",
    "\n",
    "# loop over the keys of income_levels_2015\n",
    "for key in income_levels_2015:\n",
    "    # find the income_level of the country\n",
    "    income_level = income_levels_2015[key]\n",
    "    # if the income_level doesn't already exist in the new dict, map it to an empty list \n",
    "    if income_level not in income_levels_to_country_names_2015:\n",
    "        income_levels_to_country_names_2015[income_level] = []\n",
    "    # append the country name to the list\n",
    "    income_levels_to_country_names_2015[income_level].append(key)\n",
    "\n",
    "income_levels_to_country_names_2015"
   ]
  },
  {
   "cell_type": "code",
   "execution_count": 107,
   "id": "cc9a56d3",
   "metadata": {
    "deletable": false,
    "editable": false
   },
   "outputs": [
    {
     "data": {
      "text/html": [
       "<p><strong><pre style='display: inline;'>q12</pre></strong> passed!</p>"
      ],
      "text/plain": [
       "q12 results: All test cases passed!"
      ]
     },
     "execution_count": 107,
     "metadata": {},
     "output_type": "execute_result"
    }
   ],
   "source": [
    "grader.check(\"q12\")"
   ]
  },
  {
   "cell_type": "markdown",
   "id": "ed2fd0f6",
   "metadata": {},
   "source": [
    "**Question 13:** Create a new dictionary using the `income_levels_2020` dictionary by mapping each `income_level` to a **list** of all the countries (`country_name`) with that `income_level`."
   ]
  },
  {
   "cell_type": "code",
   "execution_count": 108,
   "id": "8b78d568",
   "metadata": {
    "tags": []
   },
   "outputs": [
    {
     "data": {
      "text/plain": [
       "{'Low income': ['Afghanistan',\n",
       "  'Burkina Faso',\n",
       "  'Burundi',\n",
       "  'Central African Republic',\n",
       "  'Chad',\n",
       "  'Ethiopia',\n",
       "  'Guinea',\n",
       "  'Guinea-Bissau',\n",
       "  'Liberia',\n",
       "  'Madagascar',\n",
       "  'Malawi',\n",
       "  'Mali',\n",
       "  'Mozambique',\n",
       "  'Niger',\n",
       "  'Rwanda',\n",
       "  'Sierra Leone',\n",
       "  'Somalia',\n",
       "  'South Sudan',\n",
       "  'Sudan',\n",
       "  'Syrian Arab Republic',\n",
       "  'Togo',\n",
       "  'Uganda'],\n",
       " 'Upper middle income': ['Albania',\n",
       "  'Armenia',\n",
       "  'Azerbaijan',\n",
       "  'Belarus',\n",
       "  'Bosnia and Herzegovina',\n",
       "  'Botswana',\n",
       "  'Brazil',\n",
       "  'Bulgaria',\n",
       "  'China',\n",
       "  'Colombia',\n",
       "  'Costa Rica',\n",
       "  'Cuba',\n",
       "  'Dominican Republic',\n",
       "  'Ecuador',\n",
       "  'Fiji',\n",
       "  'Gabon',\n",
       "  'Georgia',\n",
       "  'Guatemala',\n",
       "  'Guyana',\n",
       "  'Iraq',\n",
       "  'Jamaica',\n",
       "  'Jordan',\n",
       "  'Kazakhstan',\n",
       "  'Malaysia',\n",
       "  'Maldives',\n",
       "  'Marshall Islands',\n",
       "  'Mauritius',\n",
       "  'Mexico',\n",
       "  'Montenegro',\n",
       "  'Namibia',\n",
       "  'North Macedonia',\n",
       "  'Panama',\n",
       "  'Paraguay',\n",
       "  'Peru',\n",
       "  'Romania',\n",
       "  'Russian Federation',\n",
       "  'Serbia',\n",
       "  'South Africa',\n",
       "  'Suriname',\n",
       "  'Thailand',\n",
       "  'Tonga',\n",
       "  'Turkmenistan',\n",
       "  'Tuvalu'],\n",
       " 'Lower middle income': ['Algeria',\n",
       "  'Angola',\n",
       "  'Bangladesh',\n",
       "  'Belize',\n",
       "  'Benin',\n",
       "  'Bhutan',\n",
       "  'Cabo Verde',\n",
       "  'Cambodia',\n",
       "  'Cameroon',\n",
       "  \"Côte d'Ivoire\",\n",
       "  'Djibouti',\n",
       "  'El Salvador',\n",
       "  'Eswatini',\n",
       "  'Ghana',\n",
       "  'Haiti',\n",
       "  'Honduras',\n",
       "  'India',\n",
       "  'Indonesia',\n",
       "  'Kenya',\n",
       "  'Kiribati',\n",
       "  'Lesotho',\n",
       "  'Mauritania',\n",
       "  'Mongolia',\n",
       "  'Morocco',\n",
       "  'Myanmar',\n",
       "  'Nepal',\n",
       "  'Nicaragua',\n",
       "  'Nigeria',\n",
       "  'Pakistan',\n",
       "  'Papua New Guinea',\n",
       "  'Philippines',\n",
       "  'Samoa',\n",
       "  'Senegal',\n",
       "  'Solomon Islands',\n",
       "  'Sri Lanka',\n",
       "  'Tajikistan',\n",
       "  'Timor-Leste',\n",
       "  'Tunisia',\n",
       "  'Ukraine',\n",
       "  'Uzbekistan',\n",
       "  'Vanuatu',\n",
       "  'Vietnam',\n",
       "  'Zambia',\n",
       "  'Zimbabwe'],\n",
       " 'High income': ['Andorra',\n",
       "  'Australia',\n",
       "  'Austria',\n",
       "  'Belgium',\n",
       "  'Bermuda',\n",
       "  'Brunei Darussalam',\n",
       "  'Canada',\n",
       "  'Chile',\n",
       "  'Cyprus',\n",
       "  'Czech Republic',\n",
       "  'Denmark',\n",
       "  'Estonia',\n",
       "  'Finland',\n",
       "  'France',\n",
       "  'Germany',\n",
       "  'Gibraltar',\n",
       "  'Greece',\n",
       "  'Greenland',\n",
       "  'Hungary',\n",
       "  'Iceland',\n",
       "  'Ireland',\n",
       "  'Israel',\n",
       "  'Latvia',\n",
       "  'Lithuania',\n",
       "  'Luxembourg',\n",
       "  'Malta',\n",
       "  'Monaco',\n",
       "  'Nauru',\n",
       "  'Netherlands',\n",
       "  'New Zealand',\n",
       "  'Norway',\n",
       "  'Oman',\n",
       "  'Palau',\n",
       "  'Poland',\n",
       "  'Portugal',\n",
       "  'Singapore',\n",
       "  'Spain',\n",
       "  'Sweden',\n",
       "  'Switzerland',\n",
       "  'United Kingdom',\n",
       "  'United States of America',\n",
       "  'Uruguay']}"
      ]
     },
     "execution_count": 108,
     "metadata": {},
     "output_type": "execute_result"
    }
   ],
   "source": [
    "# replace the ... with your code\n",
    "\n",
    "# initialize an empty dictionary\n",
    "income_levels_to_country_names_2020 = {}\n",
    "\n",
    "# loop over the keys of income_levels_2020\n",
    "# and update income_levels_to_country_names_2020 by appending each country to the correct list\n",
    "for key in income_levels_2020:\n",
    "    # find the income_level of the country\n",
    "    income_level = income_levels_2020[key]\n",
    "    # if the income_level doesn't already exist in the new dict, map it to an empty list \n",
    "    if income_level not in income_levels_to_country_names_2020:\n",
    "        income_levels_to_country_names_2020[income_level] = []\n",
    "    # append the country name to the list\n",
    "    income_levels_to_country_names_2020[income_level].append(key)\n",
    "\n",
    "\n",
    "\n",
    "income_levels_to_country_names_2020"
   ]
  },
  {
   "cell_type": "code",
   "execution_count": 109,
   "id": "578ae9ba",
   "metadata": {
    "deletable": false,
    "editable": false
   },
   "outputs": [
    {
     "data": {
      "text/html": [
       "<p><strong><pre style='display: inline;'>q13</pre></strong> passed!</p>"
      ],
      "text/plain": [
       "q13 results: All test cases passed!"
      ]
     },
     "execution_count": 109,
     "metadata": {},
     "output_type": "execute_result"
    }
   ],
   "source": [
    "grader.check(\"q13\")"
   ]
  },
  {
   "cell_type": "markdown",
   "id": "17eb7f34",
   "metadata": {},
   "source": [
    "### Task 3.5: Summarizing Data in Dictionaries"
   ]
  },
  {
   "cell_type": "markdown",
   "id": "e119acb3",
   "metadata": {},
   "source": [
    "**Question 14.1:** Create a new dictionary that maps each `income_level` to the **number** of countries with that `income_level` in *2015*.\n",
    "\n",
    "The key-value pairs within this **dict** would be these:\n",
    "```\n",
    "{'Low income': 25,\n",
    " 'Upper middle income': 44,\n",
    " 'High income': 41,\n",
    " 'Lower middle income': 41}\n",
    "```\n",
    "\n",
    "**Hint:** Start with the dictionary `income_levels_to_country_names_2015`. Your new dictionary must have the same keys, but the values must be the **length** of the corresponding values in `income_levels_to_country_names_2015`."
   ]
  },
  {
   "cell_type": "code",
   "execution_count": 110,
   "id": "1573958f",
   "metadata": {
    "tags": []
   },
   "outputs": [
    {
     "data": {
      "text/plain": [
       "{}"
      ]
     },
     "execution_count": 110,
     "metadata": {},
     "output_type": "execute_result"
    }
   ],
   "source": [
    "# replace the ... with your code\n",
    "\n",
    "# initialize an empty dictionary\n",
    "income_level_country_counts_2015 = {}\n",
    "\n",
    "# loop over the keys of income_levels_to_country_names_2015\n",
    "for key in (income_level_country_counts_2015):\n",
    "    # map the income level to the length of the value in income_levels_to_country_names_2015\n",
    "    income_level_country_counts_2015[key] = len(income_levels_to_country_names_2015[key])\n",
    "\n",
    "income_level_country_counts_2015"
   ]
  },
  {
   "cell_type": "code",
   "execution_count": 111,
   "id": "37f8c9a5",
   "metadata": {
    "deletable": false,
    "editable": false
   },
   "outputs": [
    {
     "data": {
      "text/html": [
       "<p><strong style='color: red;'><pre style='display: inline;'>q14-1</pre> results:</strong></p><p><strong><pre style='display: inline;'>q14-1 - 1</pre> result:</strong></p><pre>    Trying:\n",
       "        practice_test.check(\"q14-1\", income_level_country_counts_2015)\n",
       "    Expecting:\n",
       "        True\n",
       "    **********************************************************************\n",
       "    Line 1, in q14-1 0\n",
       "    Failed example:\n",
       "        practice_test.check(\"q14-1\", income_level_country_counts_2015)\n",
       "    Expected:\n",
       "        True\n",
       "    Got:\n",
       "        <b style='color: red;'>ERROR:</b> bad keys in dict: in the dict, missingHigh income\n",
       "</pre>"
      ],
      "text/plain": [
       "q14-1 results:\n",
       "    q14-1 - 1 result:\n",
       "        Trying:\n",
       "            practice_test.check(\"q14-1\", income_level_country_counts_2015)\n",
       "        Expecting:\n",
       "            True\n",
       "        **********************************************************************\n",
       "        Line 1, in q14-1 0\n",
       "        Failed example:\n",
       "            practice_test.check(\"q14-1\", income_level_country_counts_2015)\n",
       "        Expected:\n",
       "            True\n",
       "        Got:\n",
       "            <b style='color: red;'>ERROR:</b> bad keys in dict: in the dict, missingHigh income"
      ]
     },
     "execution_count": 111,
     "metadata": {},
     "output_type": "execute_result"
    }
   ],
   "source": [
    "grader.check(\"q14-1\")"
   ]
  },
  {
   "cell_type": "markdown",
   "id": "20b81859",
   "metadata": {},
   "source": [
    "**Question 14.2**: Create a new dictionary that maps each `income_level` to the **number** of countries with that `income_level` in *2020*.\n",
    "\n",
    "The key-value pairs within this **dict** would be these:\n",
    "```\n",
    "{'Low income': 22,\n",
    " 'Upper middle income': 43,\n",
    " 'Lower middle income': 44,\n",
    " 'High income': 42}\n",
    "\n",
    "```"
   ]
  },
  {
   "cell_type": "code",
   "execution_count": 112,
   "id": "de02f1a1",
   "metadata": {
    "tags": []
   },
   "outputs": [
    {
     "data": {
      "text/plain": [
       "Ellipsis"
      ]
     },
     "execution_count": 112,
     "metadata": {},
     "output_type": "execute_result"
    }
   ],
   "source": [
    "# replace the ... with your code\n",
    "\n",
    "# initialize an empty dictionary\n",
    "income_level_country_counts_2020 = ...\n",
    "\n",
    "# loop over the keys of income_levels_to_country_names_2020\n",
    "# and map the income_level to the length\n",
    "\n",
    "income_level_country_counts_2020"
   ]
  },
  {
   "cell_type": "code",
   "execution_count": 113,
   "id": "eb047f1b",
   "metadata": {
    "deletable": false,
    "editable": false
   },
   "outputs": [
    {
     "data": {
      "text/html": [
       "<p><strong style='color: red;'><pre style='display: inline;'>q14-2</pre> results:</strong></p><p><strong><pre style='display: inline;'>q14-2 - 1</pre> result:</strong></p><pre>    Trying:\n",
       "        practice_test.check(\"q14-2\", income_level_country_counts_2020)\n",
       "    Expecting:\n",
       "        True\n",
       "    **********************************************************************\n",
       "    Line 1, in q14-2 0\n",
       "    Failed example:\n",
       "        practice_test.check(\"q14-2\", income_level_country_counts_2020)\n",
       "    Expected:\n",
       "        True\n",
       "    Got:\n",
       "        <b style='color: red;'>ERROR:</b> expected to find type dict but found type ellipsis\n",
       "</pre>"
      ],
      "text/plain": [
       "q14-2 results:\n",
       "    q14-2 - 1 result:\n",
       "        Trying:\n",
       "            practice_test.check(\"q14-2\", income_level_country_counts_2020)\n",
       "        Expecting:\n",
       "            True\n",
       "        **********************************************************************\n",
       "        Line 1, in q14-2 0\n",
       "        Failed example:\n",
       "            practice_test.check(\"q14-2\", income_level_country_counts_2020)\n",
       "        Expected:\n",
       "            True\n",
       "        Got:\n",
       "            <b style='color: red;'>ERROR:</b> expected to find type dict but found type ellipsis"
      ]
     },
     "execution_count": 113,
     "metadata": {},
     "output_type": "execute_result"
    }
   ],
   "source": [
    "grader.check(\"q14-2\")"
   ]
  },
  {
   "cell_type": "markdown",
   "id": "78e0e669",
   "metadata": {},
   "source": [
    "### Task 3.6: Combining data from different dictionaries"
   ]
  },
  {
   "cell_type": "markdown",
   "id": "11017dfb",
   "metadata": {},
   "source": [
    "**Question 15.1:** Create a dictionary that maps each `country_name` to the population (`pop`) of that country in *2020*.\n",
    "\n",
    "The first five key-value pairs within this **dict** would be these:\n",
    "```\n",
    "{'Afghanistan': 38928000,\n",
    " 'Albania': 2878000,\n",
    " 'Algeria': 43851000,\n",
    " 'Andorra': 77000,\n",
    " 'Angola': 32866000,\n",
    " ...\n",
    "}\n",
    "```\n",
    "\n",
    "\n",
    "**Reminder:** The `pop` column represents the population in **thousands**. Your `cell` function definition should already have handled this conversion."
   ]
  },
  {
   "cell_type": "code",
   "execution_count": 114,
   "id": "0c13f8fa",
   "metadata": {
    "tags": []
   },
   "outputs": [
    {
     "data": {
      "text/plain": [
       "{'Afghanistan': 38928000,\n",
       " 'Albania': 2878000,\n",
       " 'Algeria': 43851000,\n",
       " 'Andorra': 77000,\n",
       " 'Angola': 32866000,\n",
       " 'Armenia': 2963000,\n",
       " 'Australia': 25500000,\n",
       " 'Austria': 9006000,\n",
       " 'Azerbaijan': 10139000,\n",
       " 'Bangladesh': 164689000,\n",
       " 'Belarus': 9449000,\n",
       " 'Belgium': 11590000,\n",
       " 'Belize': 398000,\n",
       " 'Benin': 12123000,\n",
       " 'Bermuda': 62000,\n",
       " 'Bhutan': 772000,\n",
       " 'Bosnia and Herzegovina': 3281000,\n",
       " 'Botswana': 2352000,\n",
       " 'Brazil': 212559000,\n",
       " 'Brunei Darussalam': 437000,\n",
       " 'Bulgaria': 6948000,\n",
       " 'Burkina Faso': 20903000,\n",
       " 'Burundi': 11891000,\n",
       " 'Cabo Verde': 556000,\n",
       " 'Cambodia': 16719000,\n",
       " 'Cameroon': 26546000,\n",
       " 'Canada': 37742000,\n",
       " 'Central African Republic': 4830000,\n",
       " 'Chad': 16426000,\n",
       " 'Chile': 19116000,\n",
       " 'China': 1463141000,\n",
       " 'Colombia': 50883000,\n",
       " 'Costa Rica': 5094000,\n",
       " \"Côte d'Ivoire\": 26378000,\n",
       " 'Cuba': 11327000,\n",
       " 'Cyprus': 1207000,\n",
       " 'Czech Republic': 10709000,\n",
       " 'Denmark': 5792000,\n",
       " 'Djibouti': 988000,\n",
       " 'Dominican Republic': 10848000,\n",
       " 'Ecuador': 17643000,\n",
       " 'El Salvador': 6486000,\n",
       " 'Estonia': 1327000,\n",
       " 'Eswatini': 1160000,\n",
       " 'Ethiopia': 114964000,\n",
       " 'Fiji': 896000,\n",
       " 'Finland': 5541000,\n",
       " 'France': 65274000,\n",
       " 'Gabon': 2226000,\n",
       " 'Georgia': 3989000,\n",
       " 'Germany': 83784000,\n",
       " 'Ghana': 31073000,\n",
       " 'Gibraltar': 34000,\n",
       " 'Greece': 10423000,\n",
       " 'Greenland': 57000,\n",
       " 'Guatemala': 17916000,\n",
       " 'Guinea': 13133000,\n",
       " 'Guinea-Bissau': 1968000,\n",
       " 'Guyana': 787000,\n",
       " 'Haiti': 11403000,\n",
       " 'Honduras': 9905000,\n",
       " 'Hungary': 9660000,\n",
       " 'Iceland': 341000,\n",
       " 'India': 1380004000,\n",
       " 'Indonesia': 273524000,\n",
       " 'Iraq': 40223000,\n",
       " 'Ireland': 4938000,\n",
       " 'Israel': 8656000,\n",
       " 'Jamaica': 2961000,\n",
       " 'Jordan': 10203000,\n",
       " 'Kazakhstan': 18777000,\n",
       " 'Kenya': 53771000,\n",
       " 'Kiribati': 119000,\n",
       " 'Latvia': 1886000,\n",
       " 'Lesotho': 2142000,\n",
       " 'Liberia': 5058000,\n",
       " 'Lithuania': 2722000,\n",
       " 'Luxembourg': 626000,\n",
       " 'Madagascar': 27691000,\n",
       " 'Malawi': 19130000,\n",
       " 'Malaysia': 32366000,\n",
       " 'Maldives': 541000,\n",
       " 'Mali': 20251000,\n",
       " 'Malta': 442000,\n",
       " 'Marshall Islands': 59000,\n",
       " 'Mauritania': 4650000,\n",
       " 'Mauritius': 1272000,\n",
       " 'Mexico': 128933000,\n",
       " 'Monaco': 39000,\n",
       " 'Mongolia': 3278000,\n",
       " 'Montenegro': 628000,\n",
       " 'Morocco': 36911000,\n",
       " 'Mozambique': 31255000,\n",
       " 'Myanmar': 54410000,\n",
       " 'Namibia': 2541000,\n",
       " 'Nauru': 11000,\n",
       " 'Nepal': 29137000,\n",
       " 'Netherlands': 17135000,\n",
       " 'New Zealand': 4822000,\n",
       " 'Nicaragua': 6625000,\n",
       " 'Niger': 24207000,\n",
       " 'Nigeria': 206140000,\n",
       " 'North Macedonia': 2083000,\n",
       " 'Norway': 5421000,\n",
       " 'Oman': 5107000,\n",
       " 'Pakistan': 220892000,\n",
       " 'Palau': 18000,\n",
       " 'Panama': 4315000,\n",
       " 'Papua New Guinea': 8947000,\n",
       " 'Paraguay': 7133000,\n",
       " 'Peru': 32972000,\n",
       " 'Philippines': 109581000,\n",
       " 'Poland': 37847000,\n",
       " 'Portugal': 10197000,\n",
       " 'Romania': 19238000,\n",
       " 'Russian Federation': 145934000,\n",
       " 'Rwanda': 12952000,\n",
       " 'Samoa': 198000,\n",
       " 'Senegal': 16744000,\n",
       " 'Serbia': 8737000,\n",
       " 'Sierra Leone': 7977000,\n",
       " 'Singapore': 5850000,\n",
       " 'Solomon Islands': 687000,\n",
       " 'Somalia': 15893000,\n",
       " 'South Africa': 59309000,\n",
       " 'South Sudan': 11194000,\n",
       " 'Spain': 46755000,\n",
       " 'Sri Lanka': 21413000,\n",
       " 'Sudan': 43849000,\n",
       " 'Suriname': 587000,\n",
       " 'Sweden': 10099000,\n",
       " 'Switzerland': 8655000,\n",
       " 'Syrian Arab Republic': 17501000,\n",
       " 'Tajikistan': 9538000,\n",
       " 'Thailand': 69800000,\n",
       " 'Timor-Leste': 1318000,\n",
       " 'Togo': 8279000,\n",
       " 'Tonga': 106000,\n",
       " 'Tunisia': 11819000,\n",
       " 'Turkmenistan': 6031000,\n",
       " 'Tuvalu': 12000,\n",
       " 'Uganda': 45741000,\n",
       " 'Ukraine': 43734000,\n",
       " 'United Kingdom': 67886000,\n",
       " 'United States of America': 331003000,\n",
       " 'Uruguay': 3474000,\n",
       " 'Uzbekistan': 33469000,\n",
       " 'Vanuatu': 307000,\n",
       " 'Vietnam': 97339000,\n",
       " 'Zambia': 18384000,\n",
       " 'Zimbabwe': 14863000}"
      ]
     },
     "execution_count": 114,
     "metadata": {},
     "output_type": "execute_result"
    }
   ],
   "source": [
    "# replace the ... with your code\n",
    "\n",
    "# initialize an empty dictionary\n",
    "pops = {}\n",
    "\n",
    "# loop over the odd indices of csv_rows to get the data for 2020\n",
    "# and map the country_name to the pop\n",
    "\n",
    "for idx in range(1, len(csv_rows), 2):\n",
    "    pops[cell(idx, \"country_name\")] = cell(idx, \"pop\")\n",
    "\n",
    "pops"
   ]
  },
  {
   "cell_type": "code",
   "execution_count": 115,
   "id": "4fab346a",
   "metadata": {
    "deletable": false,
    "editable": false
   },
   "outputs": [
    {
     "data": {
      "text/html": [
       "<p><strong><pre style='display: inline;'>q15-1</pre></strong> passed!</p>"
      ],
      "text/plain": [
       "q15-1 results: All test cases passed!"
      ]
     },
     "execution_count": 115,
     "metadata": {},
     "output_type": "execute_result"
    }
   ],
   "source": [
    "grader.check(\"q15-1\")"
   ]
  },
  {
   "cell_type": "markdown",
   "id": "e691461e",
   "metadata": {},
   "source": [
    "**Question 15.2:** Create a dictionary that maps each `country_name` to the urban population percentage (`urban_percent`) of that country in *2020*.\n",
    "\n",
    "The first five key-value pairs within this **dict** would be these:\n",
    "```\n",
    "{'Afghanistan': 26,\n",
    " 'Albania': 62,\n",
    " 'Algeria': 74,\n",
    " 'Andorra': 88,\n",
    " 'Angola': 67,\n",
    " ...\n",
    "}\n",
    "```"
   ]
  },
  {
   "cell_type": "code",
   "execution_count": 116,
   "id": "05052939",
   "metadata": {
    "tags": []
   },
   "outputs": [
    {
     "data": {
      "text/plain": [
       "{'Afghanistan': 26,\n",
       " 'Albania': 62,\n",
       " 'Algeria': 74,\n",
       " 'Andorra': 88,\n",
       " 'Angola': 67,\n",
       " 'Armenia': 63,\n",
       " 'Australia': 86,\n",
       " 'Austria': 59,\n",
       " 'Azerbaijan': 56,\n",
       " 'Bangladesh': 38,\n",
       " 'Belarus': 79,\n",
       " 'Belgium': 98,\n",
       " 'Belize': 46,\n",
       " 'Benin': 48,\n",
       " 'Bermuda': 100,\n",
       " 'Bhutan': 42,\n",
       " 'Bosnia and Herzegovina': 49,\n",
       " 'Botswana': 71,\n",
       " 'Brazil': 87,\n",
       " 'Brunei Darussalam': 78,\n",
       " 'Bulgaria': 76,\n",
       " 'Burkina Faso': 31,\n",
       " 'Burundi': 14,\n",
       " 'Cabo Verde': 67,\n",
       " 'Cambodia': 24,\n",
       " 'Cameroon': 58,\n",
       " 'Canada': 82,\n",
       " 'Central African Republic': 42,\n",
       " 'Chad': 24,\n",
       " 'Chile': 88,\n",
       " 'China': 62,\n",
       " 'Colombia': 81,\n",
       " 'Costa Rica': 81,\n",
       " \"Côte d'Ivoire\": 52,\n",
       " 'Cuba': 77,\n",
       " 'Cyprus': 67,\n",
       " 'Czech Republic': 74,\n",
       " 'Denmark': 88,\n",
       " 'Djibouti': 78,\n",
       " 'Dominican Republic': 83,\n",
       " 'Ecuador': 64,\n",
       " 'El Salvador': 73,\n",
       " 'Estonia': 69,\n",
       " 'Eswatini': 24,\n",
       " 'Ethiopia': 22,\n",
       " 'Fiji': 57,\n",
       " 'Finland': 86,\n",
       " 'France': 81,\n",
       " 'Gabon': 90,\n",
       " 'Georgia': 59,\n",
       " 'Germany': 77,\n",
       " 'Ghana': 57,\n",
       " 'Gibraltar': 100,\n",
       " 'Greece': 80,\n",
       " 'Greenland': 87,\n",
       " 'Guatemala': 52,\n",
       " 'Guinea': 37,\n",
       " 'Guinea-Bissau': 44,\n",
       " 'Guyana': 27,\n",
       " 'Haiti': 57,\n",
       " 'Honduras': 58,\n",
       " 'Hungary': 72,\n",
       " 'Iceland': 94,\n",
       " 'India': 35,\n",
       " 'Indonesia': 57,\n",
       " 'Iraq': 71,\n",
       " 'Ireland': 64,\n",
       " 'Israel': 93,\n",
       " 'Jamaica': 56,\n",
       " 'Jordan': 91,\n",
       " 'Kazakhstan': 58,\n",
       " 'Kenya': 28,\n",
       " 'Kiribati': 56,\n",
       " 'Latvia': 68,\n",
       " 'Lesotho': 29,\n",
       " 'Liberia': 52,\n",
       " 'Lithuania': 68,\n",
       " 'Luxembourg': 91,\n",
       " 'Madagascar': 39,\n",
       " 'Malawi': 17,\n",
       " 'Malaysia': 77,\n",
       " 'Maldives': 41,\n",
       " 'Mali': 44,\n",
       " 'Malta': 95,\n",
       " 'Marshall Islands': 78,\n",
       " 'Mauritania': 55,\n",
       " 'Mauritius': 41,\n",
       " 'Mexico': 81,\n",
       " 'Monaco': 100,\n",
       " 'Mongolia': 69,\n",
       " 'Montenegro': 67,\n",
       " 'Morocco': 64,\n",
       " 'Mozambique': 37,\n",
       " 'Myanmar': 31,\n",
       " 'Namibia': 52,\n",
       " 'Nauru': 100,\n",
       " 'Nepal': 21,\n",
       " 'Netherlands': 92,\n",
       " 'New Zealand': 87,\n",
       " 'Nicaragua': 59,\n",
       " 'Niger': 17,\n",
       " 'Nigeria': 52,\n",
       " 'North Macedonia': 58,\n",
       " 'Norway': 83,\n",
       " 'Oman': 86,\n",
       " 'Pakistan': 37,\n",
       " 'Palau': 81,\n",
       " 'Panama': 68,\n",
       " 'Papua New Guinea': 13,\n",
       " 'Paraguay': 62,\n",
       " 'Peru': 78,\n",
       " 'Philippines': 47,\n",
       " 'Poland': 60,\n",
       " 'Portugal': 66,\n",
       " 'Romania': 54,\n",
       " 'Russian Federation': 75,\n",
       " 'Rwanda': 17,\n",
       " 'Samoa': 18,\n",
       " 'Senegal': 48,\n",
       " 'Serbia': 56,\n",
       " 'Sierra Leone': 43,\n",
       " 'Singapore': 100,\n",
       " 'Solomon Islands': 25,\n",
       " 'Somalia': 46,\n",
       " 'South Africa': 67,\n",
       " 'South Sudan': 20,\n",
       " 'Spain': 81,\n",
       " 'Sri Lanka': 19,\n",
       " 'Sudan': 35,\n",
       " 'Suriname': 66,\n",
       " 'Sweden': 88,\n",
       " 'Switzerland': 74,\n",
       " 'Syrian Arab Republic': 55,\n",
       " 'Tajikistan': 28,\n",
       " 'Thailand': 51,\n",
       " 'Timor-Leste': 31,\n",
       " 'Togo': 43,\n",
       " 'Tonga': 23,\n",
       " 'Tunisia': 70,\n",
       " 'Turkmenistan': 53,\n",
       " 'Tuvalu': 64,\n",
       " 'Uganda': 25,\n",
       " 'Ukraine': 69,\n",
       " 'United Kingdom': 84,\n",
       " 'United States of America': 83,\n",
       " 'Uruguay': 96,\n",
       " 'Uzbekistan': 50,\n",
       " 'Vanuatu': 26,\n",
       " 'Vietnam': 37,\n",
       " 'Zambia': 45,\n",
       " 'Zimbabwe': 32}"
      ]
     },
     "execution_count": 116,
     "metadata": {},
     "output_type": "execute_result"
    }
   ],
   "source": [
    "# compute and store the answer in the variable 'urban_percents', then display it\n",
    "\n",
    "urban_percents = {}\n",
    "\n",
    "for idx in range(1, len(csv_rows), 2):\n",
    "    urban_percents[cell(idx, \"country_name\")] = cell(idx, \"urban_percent\")\n",
    "urban_percents\n"
   ]
  },
  {
   "cell_type": "code",
   "execution_count": 117,
   "id": "e86cdde4",
   "metadata": {
    "deletable": false,
    "editable": false
   },
   "outputs": [
    {
     "data": {
      "text/html": [
       "<p><strong><pre style='display: inline;'>q15-2</pre></strong> passed!</p>"
      ],
      "text/plain": [
       "q15-2 results: All test cases passed!"
      ]
     },
     "execution_count": 117,
     "metadata": {},
     "output_type": "execute_result"
    }
   ],
   "source": [
    "grader.check(\"q15-2\")"
   ]
  },
  {
   "cell_type": "markdown",
   "id": "9fd3a644",
   "metadata": {},
   "source": [
    "**Question 16:** Using the two dictionaries `pops` and `urban_percents`, create a new dictionary that maps each `country_name` to the size of the urban population of that country in *2020*.\n",
    "\n",
    "You **must** round the numbers to the nearest integer using the built-in function `round`.  To learn more about the `round` function, check out this [link](https://docs.python.org/3/library/functions.html#round).\n",
    "\n",
    "The first five key-value pairs within this **dict** would be these:\n",
    "```\n",
    "{'Afghanistan': 10121280,\n",
    " 'Albania': 1784360,\n",
    " 'Algeria': 32449740,\n",
    " 'Andorra': 67760,\n",
    " 'Angola': 22020220,\n",
    " ...\n",
    " }\n",
    "```\n",
    "\n",
    "**Hint:** For each country, the size of the urban population is just the `pop * urban_percent / 100`"
   ]
  },
  {
   "cell_type": "code",
   "execution_count": 121,
   "id": "30ada55a",
   "metadata": {
    "tags": []
   },
   "outputs": [
    {
     "data": {
      "text/plain": [
       "{'Afghanistan': 10121280.0,\n",
       " 'Albania': 1784360.0,\n",
       " 'Algeria': 32449740.0,\n",
       " 'Andorra': 67760.0,\n",
       " 'Angola': 22020220.0,\n",
       " 'Armenia': 1866690.0,\n",
       " 'Australia': 21930000.0,\n",
       " 'Austria': 5313540.0,\n",
       " 'Azerbaijan': 5677840.0,\n",
       " 'Bangladesh': 62581820.0,\n",
       " 'Belarus': 7464710.0,\n",
       " 'Belgium': 11358200.0,\n",
       " 'Belize': 183080.0,\n",
       " 'Benin': 5819040.0,\n",
       " 'Bermuda': 62000.0,\n",
       " 'Bhutan': 324240.0,\n",
       " 'Bosnia and Herzegovina': 1607690.0,\n",
       " 'Botswana': 1669920.0,\n",
       " 'Brazil': 184926330.0,\n",
       " 'Brunei Darussalam': 340860.0,\n",
       " 'Bulgaria': 5280480.0,\n",
       " 'Burkina Faso': 6479930.0,\n",
       " 'Burundi': 1664740.0,\n",
       " 'Cabo Verde': 372520.0,\n",
       " 'Cambodia': 4012560.0,\n",
       " 'Cameroon': 15396680.0,\n",
       " 'Canada': 30948440.0,\n",
       " 'Central African Republic': 2028600.0,\n",
       " 'Chad': 3942240.0,\n",
       " 'Chile': 16822080.0,\n",
       " 'China': 907147420.0,\n",
       " 'Colombia': 41215230.0,\n",
       " 'Costa Rica': 4126140.0,\n",
       " \"Côte d'Ivoire\": 13716560.0,\n",
       " 'Cuba': 8721790.0,\n",
       " 'Cyprus': 808690.0,\n",
       " 'Czech Republic': 7924660.0,\n",
       " 'Denmark': 5096960.0,\n",
       " 'Djibouti': 770640.0,\n",
       " 'Dominican Republic': 9003840.0,\n",
       " 'Ecuador': 11291520.0,\n",
       " 'El Salvador': 4734780.0,\n",
       " 'Estonia': 915630.0,\n",
       " 'Eswatini': 278400.0,\n",
       " 'Ethiopia': 25292080.0,\n",
       " 'Fiji': 510720.0,\n",
       " 'Finland': 4765260.0,\n",
       " 'France': 52871940.0,\n",
       " 'Gabon': 2003400.0,\n",
       " 'Georgia': 2353510.0,\n",
       " 'Germany': 64513680.0,\n",
       " 'Ghana': 17711610.0,\n",
       " 'Gibraltar': 34000.0,\n",
       " 'Greece': 8338400.0,\n",
       " 'Greenland': 49590.0,\n",
       " 'Guatemala': 9316320.0,\n",
       " 'Guinea': 4859210.0,\n",
       " 'Guinea-Bissau': 865920.0,\n",
       " 'Guyana': 212490.0,\n",
       " 'Haiti': 6499710.0,\n",
       " 'Honduras': 5744900.0,\n",
       " 'Hungary': 6955200.0,\n",
       " 'Iceland': 320540.0,\n",
       " 'India': 483001400.0,\n",
       " 'Indonesia': 155908680.0,\n",
       " 'Iraq': 28558330.0,\n",
       " 'Ireland': 3160320.0,\n",
       " 'Israel': 8050080.0,\n",
       " 'Jamaica': 1658160.0,\n",
       " 'Jordan': 9284730.0,\n",
       " 'Kazakhstan': 10890660.0,\n",
       " 'Kenya': 15055880.0,\n",
       " 'Kiribati': 66640.0,\n",
       " 'Latvia': 1282480.0,\n",
       " 'Lesotho': 621180.0,\n",
       " 'Liberia': 2630160.0,\n",
       " 'Lithuania': 1850960.0,\n",
       " 'Luxembourg': 569660.0,\n",
       " 'Madagascar': 10799490.0,\n",
       " 'Malawi': 3252100.0,\n",
       " 'Malaysia': 24921820.0,\n",
       " 'Maldives': 221810.0,\n",
       " 'Mali': 8910440.0,\n",
       " 'Malta': 419900.0,\n",
       " 'Marshall Islands': 46020.0,\n",
       " 'Mauritania': 2557500.0,\n",
       " 'Mauritius': 521520.0,\n",
       " 'Mexico': 104435730.0,\n",
       " 'Monaco': 39000.0,\n",
       " 'Mongolia': 2261820.0,\n",
       " 'Montenegro': 420760.0,\n",
       " 'Morocco': 23623040.0,\n",
       " 'Mozambique': 11564350.0,\n",
       " 'Myanmar': 16867100.0,\n",
       " 'Namibia': 1321320.0,\n",
       " 'Nauru': 11000.0,\n",
       " 'Nepal': 6118770.0,\n",
       " 'Netherlands': 15764200.0,\n",
       " 'New Zealand': 4195140.0,\n",
       " 'Nicaragua': 3908750.0,\n",
       " 'Niger': 4115190.0,\n",
       " 'Nigeria': 107192800.0,\n",
       " 'North Macedonia': 1208140.0,\n",
       " 'Norway': 4499430.0,\n",
       " 'Oman': 4392020.0,\n",
       " 'Pakistan': 81730040.0,\n",
       " 'Palau': 14580.0,\n",
       " 'Panama': 2934200.0,\n",
       " 'Papua New Guinea': 1163110.0,\n",
       " 'Paraguay': 4422460.0,\n",
       " 'Peru': 25718160.0,\n",
       " 'Philippines': 51503070.0,\n",
       " 'Poland': 22708200.0,\n",
       " 'Portugal': 6730020.0,\n",
       " 'Romania': 10388520.0,\n",
       " 'Russian Federation': 109450500.0,\n",
       " 'Rwanda': 2201840.0,\n",
       " 'Samoa': 35640.0,\n",
       " 'Senegal': 8037120.0,\n",
       " 'Serbia': 4892720.0,\n",
       " 'Sierra Leone': 3430110.0,\n",
       " 'Singapore': 5850000.0,\n",
       " 'Solomon Islands': 171750.0,\n",
       " 'Somalia': 7310780.0,\n",
       " 'South Africa': 39737030.0,\n",
       " 'South Sudan': 2238800.0,\n",
       " 'Spain': 37871550.0,\n",
       " 'Sri Lanka': 4068470.0,\n",
       " 'Sudan': 15347150.0,\n",
       " 'Suriname': 387420.0,\n",
       " 'Sweden': 8887120.0,\n",
       " 'Switzerland': 6404700.0,\n",
       " 'Syrian Arab Republic': 9625550.0,\n",
       " 'Tajikistan': 2670640.0,\n",
       " 'Thailand': 35598000.0,\n",
       " 'Timor-Leste': 408580.0,\n",
       " 'Togo': 3559970.0,\n",
       " 'Tonga': 24380.0,\n",
       " 'Tunisia': 8273300.0,\n",
       " 'Turkmenistan': 3196430.0,\n",
       " 'Tuvalu': 7680.0,\n",
       " 'Uganda': 11435250.0,\n",
       " 'Ukraine': 30176460.0,\n",
       " 'United Kingdom': 57024240.0,\n",
       " 'United States of America': 274732490.0,\n",
       " 'Uruguay': 3335040.0,\n",
       " 'Uzbekistan': 16734500.0,\n",
       " 'Vanuatu': 79820.0,\n",
       " 'Vietnam': 36015430.0,\n",
       " 'Zambia': 8272800.0,\n",
       " 'Zimbabwe': 4756160.0}"
      ]
     },
     "execution_count": 121,
     "metadata": {},
     "output_type": "execute_result"
    }
   ],
   "source": [
    "# replace the ... with your code\n",
    "\n",
    "# initialize an empty dictionary\n",
    "urban_populations = {}\n",
    "\n",
    "# loop over the keys of either pops/urban_percents (it doesn't matter as they are the same)\n",
    "for key in pops:\n",
    "    # map the country name to its urban population using data from pops and urban_percents\n",
    "    # Remember that both pops and urban_percents have the same keys (country names)\n",
    "    # So a single for loop can be sufficient to access data from both of these dictionaries\n",
    "    urban_populations[key] = round(pops[key] * urban_percents[key])/100\n",
    "\n",
    "urban_populations"
   ]
  },
  {
   "cell_type": "code",
   "execution_count": 122,
   "id": "7899c8a0",
   "metadata": {
    "deletable": false,
    "editable": false
   },
   "outputs": [
    {
     "data": {
      "text/html": [
       "<p><strong><pre style='display: inline;'>q16</pre></strong> passed!</p>"
      ],
      "text/plain": [
       "q16 results: All test cases passed!"
      ]
     },
     "execution_count": 122,
     "metadata": {},
     "output_type": "execute_result"
    }
   ],
   "source": [
    "grader.check(\"q16\")"
   ]
  },
  {
   "cell_type": "markdown",
   "id": "5ffe560b",
   "metadata": {},
   "source": [
    "### Task 3.7: Finding Minimum/Maximum Values in Dictionaries"
   ]
  },
  {
   "cell_type": "markdown",
   "id": "41c8fd6f",
   "metadata": {},
   "source": [
    "**Question 17**: What is the name of the country with the **smallest** urban population? Do not worry about ties."
   ]
  },
  {
   "cell_type": "code",
   "execution_count": 123,
   "id": "9a26ff11",
   "metadata": {
    "tags": []
   },
   "outputs": [
    {
     "data": {
      "text/plain": [
       "'Tuvalu'"
      ]
     },
     "execution_count": 123,
     "metadata": {},
     "output_type": "execute_result"
    }
   ],
   "source": [
    "# replace the ... with your code\n",
    "\n",
    "# initialize a new variable as None\n",
    "smallest_urban_country = None\n",
    "smallest = None;\n",
    "\n",
    "# loop over the keys of urban_populations\n",
    "for key in urban_populations:\n",
    "    # check if the variable smallest_urban_country should be updated\n",
    "    if smallest_urban_country == None or urban_populations[key] < smallest: \n",
    "        # correctly update the variable\n",
    "        smallest_urban_country = key\n",
    "        smallest = urban_populations[key]\n",
    "\n",
    "smallest_urban_country"
   ]
  },
  {
   "cell_type": "code",
   "execution_count": 124,
   "id": "2b787e06",
   "metadata": {
    "deletable": false,
    "editable": false
   },
   "outputs": [
    {
     "data": {
      "text/html": [
       "<p><strong><pre style='display: inline;'>q17</pre></strong> passed!</p>"
      ],
      "text/plain": [
       "q17 results: All test cases passed!"
      ]
     },
     "execution_count": 124,
     "metadata": {},
     "output_type": "execute_result"
    }
   ],
   "source": [
    "grader.check(\"q17\")"
   ]
  },
  {
   "cell_type": "markdown",
   "id": "a65d7dbf",
   "metadata": {},
   "source": [
    "**Question 18**: What is the name of the country with the **largest** urban population? Do not worry about ties."
   ]
  },
  {
   "cell_type": "code",
   "execution_count": 128,
   "id": "bf65200d",
   "metadata": {
    "tags": []
   },
   "outputs": [
    {
     "data": {
      "text/plain": [
       "'China'"
      ]
     },
     "execution_count": 128,
     "metadata": {},
     "output_type": "execute_result"
    }
   ],
   "source": [
    "# compute and store the answer in the variable 'largest_urban_country', then display it\n",
    "largest_urban_country = None\n",
    "largest = None\n",
    "\n",
    "for key in urban_populations:\n",
    "    # check if the variable smallest_urban_country should be updated\n",
    "    if largest_urban_country == None or urban_populations[key] > largest: \n",
    "        # correctly update the variable\n",
    "        largest_urban_country = key\n",
    "        largest = urban_populations[key]\n",
    "        \n",
    "largest_urban_country"
   ]
  },
  {
   "cell_type": "code",
   "execution_count": 129,
   "id": "cf91e415",
   "metadata": {
    "deletable": false,
    "editable": false
   },
   "outputs": [
    {
     "data": {
      "text/html": [
       "<p><strong><pre style='display: inline;'>q18</pre></strong> passed!</p>"
      ],
      "text/plain": [
       "q18 results: All test cases passed!"
      ]
     },
     "execution_count": 129,
     "metadata": {},
     "output_type": "execute_result"
    }
   ],
   "source": [
    "grader.check(\"q18\")"
   ]
  },
  {
   "cell_type": "markdown",
   "id": "8de5ec57",
   "metadata": {},
   "source": [
    "### Task 3.8: Adding additional data to nested dictionaries\n",
    "\n",
    "You have already defined a nested dictionary `income_levels` in Q9. This is a dictionary where each `country_name` maps to an inner dictionary with the keys *2015* and *2020*. The corresponding values for this inner dictionary are the `income_levels` of `country_name` in *2015* and *2020* respectively.\n",
    "\n",
    "You will now add an additional column to this nested dictionary."
   ]
  },
  {
   "cell_type": "markdown",
   "id": "979f1bae",
   "metadata": {},
   "source": [
    "**Question 19**: Add an additional key-value pair mapping the string `\"region\"` to the `region` of each country to each of the inner dictionaries of `income_levels`.\n",
    "\n",
    "The value of the variable `income_levels` should look like this:\n",
    "```python\n",
    "{'Afghanistan': {2015: 'Low income',\n",
    "  2020: 'Low income',\n",
    "  'region': 'South Asia'},\n",
    " 'Albania': {2015: 'Upper middle income',\n",
    "  2020: 'Upper middle income',\n",
    "  'region': 'Europe & Central Asia'},\n",
    " 'Algeria': {2015: 'Upper middle income',\n",
    "  2020: 'Lower middle income',\n",
    "  'region': 'Middle East & North Africa'},\n",
    "  ...\n",
    "}\n",
    "```"
   ]
  },
  {
   "cell_type": "code",
   "execution_count": 133,
   "id": "af41313e",
   "metadata": {
    "tags": []
   },
   "outputs": [
    {
     "data": {
      "text/plain": [
       "{'Afghanistan': {2015: 'Low income',\n",
       "  2020: 'Low income',\n",
       "  'region': 'South Asia'},\n",
       " 'Albania': {2015: 'Upper middle income',\n",
       "  2020: 'Upper middle income',\n",
       "  'region': 'Europe & Central Asia'},\n",
       " 'Algeria': {2015: 'Upper middle income',\n",
       "  2020: 'Lower middle income',\n",
       "  'region': 'Middle East & North Africa'},\n",
       " 'Andorra': {2015: 'High income',\n",
       "  2020: 'High income',\n",
       "  'region': 'Europe & Central Asia'},\n",
       " 'Angola': {2015: 'Upper middle income',\n",
       "  2020: 'Lower middle income',\n",
       "  'region': 'Sub-Saharan Africa'},\n",
       " 'Armenia': {2015: 'Lower middle income',\n",
       "  2020: 'Upper middle income',\n",
       "  'region': 'Europe & Central Asia'},\n",
       " 'Australia': {2015: 'High income',\n",
       "  2020: 'High income',\n",
       "  'region': 'East Asia & Pacific'},\n",
       " 'Austria': {2015: 'High income',\n",
       "  2020: 'High income',\n",
       "  'region': 'Europe & Central Asia'},\n",
       " 'Azerbaijan': {2015: 'Upper middle income',\n",
       "  2020: 'Upper middle income',\n",
       "  'region': 'Europe & Central Asia'},\n",
       " 'Bangladesh': {2015: 'Lower middle income',\n",
       "  2020: 'Lower middle income',\n",
       "  'region': 'South Asia'},\n",
       " 'Belarus': {2015: 'Upper middle income',\n",
       "  2020: 'Upper middle income',\n",
       "  'region': 'Europe & Central Asia'},\n",
       " 'Belgium': {2015: 'High income',\n",
       "  2020: 'High income',\n",
       "  'region': 'Europe & Central Asia'},\n",
       " 'Belize': {2015: 'Upper middle income',\n",
       "  2020: 'Lower middle income',\n",
       "  'region': 'Latin America & Caribbean'},\n",
       " 'Benin': {2015: 'Low income',\n",
       "  2020: 'Lower middle income',\n",
       "  'region': 'Sub-Saharan Africa'},\n",
       " 'Bermuda': {2015: 'High income',\n",
       "  2020: 'High income',\n",
       "  'region': 'North America'},\n",
       " 'Bhutan': {2015: 'Lower middle income',\n",
       "  2020: 'Lower middle income',\n",
       "  'region': 'South Asia'},\n",
       " 'Bosnia and Herzegovina': {2015: 'Upper middle income',\n",
       "  2020: 'Upper middle income',\n",
       "  'region': 'Europe & Central Asia'},\n",
       " 'Botswana': {2015: 'Upper middle income',\n",
       "  2020: 'Upper middle income',\n",
       "  'region': 'Sub-Saharan Africa'},\n",
       " 'Brazil': {2015: 'Upper middle income',\n",
       "  2020: 'Upper middle income',\n",
       "  'region': 'Latin America & Caribbean'},\n",
       " 'Brunei Darussalam': {2015: 'High income',\n",
       "  2020: 'High income',\n",
       "  'region': 'East Asia & Pacific'},\n",
       " 'Bulgaria': {2015: 'Upper middle income',\n",
       "  2020: 'Upper middle income',\n",
       "  'region': 'Europe & Central Asia'},\n",
       " 'Burkina Faso': {2015: 'Low income',\n",
       "  2020: 'Low income',\n",
       "  'region': 'Sub-Saharan Africa'},\n",
       " 'Burundi': {2015: 'Low income',\n",
       "  2020: 'Low income',\n",
       "  'region': 'Sub-Saharan Africa'},\n",
       " 'Cabo Verde': {2015: 'Lower middle income',\n",
       "  2020: 'Lower middle income',\n",
       "  'region': 'Sub-Saharan Africa'},\n",
       " 'Cambodia': {2015: 'Lower middle income',\n",
       "  2020: 'Lower middle income',\n",
       "  'region': 'East Asia & Pacific'},\n",
       " 'Cameroon': {2015: 'Lower middle income',\n",
       "  2020: 'Lower middle income',\n",
       "  'region': 'Sub-Saharan Africa'},\n",
       " 'Canada': {2015: 'High income',\n",
       "  2020: 'High income',\n",
       "  'region': 'North America'},\n",
       " 'Central African Republic': {2015: 'Low income',\n",
       "  2020: 'Low income',\n",
       "  'region': 'Sub-Saharan Africa'},\n",
       " 'Chad': {2015: 'Low income',\n",
       "  2020: 'Low income',\n",
       "  'region': 'Sub-Saharan Africa'},\n",
       " 'Chile': {2015: 'High income',\n",
       "  2020: 'High income',\n",
       "  'region': 'Latin America & Caribbean'},\n",
       " 'China': {2015: 'Upper middle income',\n",
       "  2020: 'Upper middle income',\n",
       "  'region': 'East Asia & Pacific'},\n",
       " 'Colombia': {2015: 'Upper middle income',\n",
       "  2020: 'Upper middle income',\n",
       "  'region': 'Latin America & Caribbean'},\n",
       " 'Costa Rica': {2015: 'Upper middle income',\n",
       "  2020: 'Upper middle income',\n",
       "  'region': 'Latin America & Caribbean'},\n",
       " \"Côte d'Ivoire\": {2015: 'Lower middle income',\n",
       "  2020: 'Lower middle income',\n",
       "  'region': 'Sub-Saharan Africa'},\n",
       " 'Cuba': {2015: 'Upper middle income',\n",
       "  2020: 'Upper middle income',\n",
       "  'region': 'Latin America & Caribbean'},\n",
       " 'Cyprus': {2015: 'High income',\n",
       "  2020: 'High income',\n",
       "  'region': 'Europe & Central Asia'},\n",
       " 'Czech Republic': {2015: 'High income',\n",
       "  2020: 'High income',\n",
       "  'region': 'Europe & Central Asia'},\n",
       " 'Denmark': {2015: 'High income',\n",
       "  2020: 'High income',\n",
       "  'region': 'Europe & Central Asia'},\n",
       " 'Djibouti': {2015: 'Lower middle income',\n",
       "  2020: 'Lower middle income',\n",
       "  'region': 'Middle East & North Africa'},\n",
       " 'Dominican Republic': {2015: 'Upper middle income',\n",
       "  2020: 'Upper middle income',\n",
       "  'region': 'Latin America & Caribbean'},\n",
       " 'Ecuador': {2015: 'Upper middle income',\n",
       "  2020: 'Upper middle income',\n",
       "  'region': 'Latin America & Caribbean'},\n",
       " 'El Salvador': {2015: 'Lower middle income',\n",
       "  2020: 'Lower middle income',\n",
       "  'region': 'Latin America & Caribbean'},\n",
       " 'Estonia': {2015: 'High income',\n",
       "  2020: 'High income',\n",
       "  'region': 'Europe & Central Asia'},\n",
       " 'Eswatini': {2015: 'Lower middle income',\n",
       "  2020: 'Lower middle income',\n",
       "  'region': 'Sub-Saharan Africa'},\n",
       " 'Ethiopia': {2015: 'Low income',\n",
       "  2020: 'Low income',\n",
       "  'region': 'Sub-Saharan Africa'},\n",
       " 'Fiji': {2015: 'Upper middle income',\n",
       "  2020: 'Upper middle income',\n",
       "  'region': 'East Asia & Pacific'},\n",
       " 'Finland': {2015: 'High income',\n",
       "  2020: 'High income',\n",
       "  'region': 'Europe & Central Asia'},\n",
       " 'France': {2015: 'High income',\n",
       "  2020: 'High income',\n",
       "  'region': 'Europe & Central Asia'},\n",
       " 'Gabon': {2015: 'Upper middle income',\n",
       "  2020: 'Upper middle income',\n",
       "  'region': 'Sub-Saharan Africa'},\n",
       " 'Georgia': {2015: 'Upper middle income',\n",
       "  2020: 'Upper middle income',\n",
       "  'region': 'Europe & Central Asia'},\n",
       " 'Germany': {2015: 'High income',\n",
       "  2020: 'High income',\n",
       "  'region': 'Europe & Central Asia'},\n",
       " 'Ghana': {2015: 'Lower middle income',\n",
       "  2020: 'Lower middle income',\n",
       "  'region': 'Sub-Saharan Africa'},\n",
       " 'Gibraltar': {2015: 'High income',\n",
       "  2020: 'High income',\n",
       "  'region': 'Europe & Central Asia'},\n",
       " 'Greece': {2015: 'High income',\n",
       "  2020: 'High income',\n",
       "  'region': 'Europe & Central Asia'},\n",
       " 'Greenland': {2015: 'High income',\n",
       "  2020: 'High income',\n",
       "  'region': 'Europe & Central Asia'},\n",
       " 'Guatemala': {2015: 'Lower middle income',\n",
       "  2020: 'Upper middle income',\n",
       "  'region': 'Latin America & Caribbean'},\n",
       " 'Guinea': {2015: 'Low income',\n",
       "  2020: 'Low income',\n",
       "  'region': 'Sub-Saharan Africa'},\n",
       " 'Guinea-Bissau': {2015: 'Low income',\n",
       "  2020: 'Low income',\n",
       "  'region': 'Sub-Saharan Africa'},\n",
       " 'Guyana': {2015: 'Upper middle income',\n",
       "  2020: 'Upper middle income',\n",
       "  'region': 'Latin America & Caribbean'},\n",
       " 'Haiti': {2015: 'Low income',\n",
       "  2020: 'Lower middle income',\n",
       "  'region': 'Latin America & Caribbean'},\n",
       " 'Honduras': {2015: 'Lower middle income',\n",
       "  2020: 'Lower middle income',\n",
       "  'region': 'Latin America & Caribbean'},\n",
       " 'Hungary': {2015: 'High income',\n",
       "  2020: 'High income',\n",
       "  'region': 'Europe & Central Asia'},\n",
       " 'Iceland': {2015: 'High income',\n",
       "  2020: 'High income',\n",
       "  'region': 'Europe & Central Asia'},\n",
       " 'India': {2015: 'Lower middle income',\n",
       "  2020: 'Lower middle income',\n",
       "  'region': 'South Asia'},\n",
       " 'Indonesia': {2015: 'Lower middle income',\n",
       "  2020: 'Lower middle income',\n",
       "  'region': 'East Asia & Pacific'},\n",
       " 'Iraq': {2015: 'Upper middle income',\n",
       "  2020: 'Upper middle income',\n",
       "  'region': 'Middle East & North Africa'},\n",
       " 'Ireland': {2015: 'High income',\n",
       "  2020: 'High income',\n",
       "  'region': 'Europe & Central Asia'},\n",
       " 'Israel': {2015: 'High income',\n",
       "  2020: 'High income',\n",
       "  'region': 'Middle East & North Africa'},\n",
       " 'Jamaica': {2015: 'Upper middle income',\n",
       "  2020: 'Upper middle income',\n",
       "  'region': 'Latin America & Caribbean'},\n",
       " 'Jordan': {2015: 'Upper middle income',\n",
       "  2020: 'Upper middle income',\n",
       "  'region': 'Middle East & North Africa'},\n",
       " 'Kazakhstan': {2015: 'Upper middle income',\n",
       "  2020: 'Upper middle income',\n",
       "  'region': 'Europe & Central Asia'},\n",
       " 'Kenya': {2015: 'Lower middle income',\n",
       "  2020: 'Lower middle income',\n",
       "  'region': 'Sub-Saharan Africa'},\n",
       " 'Kiribati': {2015: 'Lower middle income',\n",
       "  2020: 'Lower middle income',\n",
       "  'region': 'East Asia & Pacific'},\n",
       " 'Latvia': {2015: 'High income',\n",
       "  2020: 'High income',\n",
       "  'region': 'Europe & Central Asia'},\n",
       " 'Lesotho': {2015: 'Lower middle income',\n",
       "  2020: 'Lower middle income',\n",
       "  'region': 'Sub-Saharan Africa'},\n",
       " 'Liberia': {2015: 'Low income',\n",
       "  2020: 'Low income',\n",
       "  'region': 'Sub-Saharan Africa'},\n",
       " 'Lithuania': {2015: 'High income',\n",
       "  2020: 'High income',\n",
       "  'region': 'Europe & Central Asia'},\n",
       " 'Luxembourg': {2015: 'High income',\n",
       "  2020: 'High income',\n",
       "  'region': 'Europe & Central Asia'},\n",
       " 'Madagascar': {2015: 'Low income',\n",
       "  2020: 'Low income',\n",
       "  'region': 'Sub-Saharan Africa'},\n",
       " 'Malawi': {2015: 'Low income',\n",
       "  2020: 'Low income',\n",
       "  'region': 'Sub-Saharan Africa'},\n",
       " 'Malaysia': {2015: 'Upper middle income',\n",
       "  2020: 'Upper middle income',\n",
       "  'region': 'East Asia & Pacific'},\n",
       " 'Maldives': {2015: 'Upper middle income',\n",
       "  2020: 'Upper middle income',\n",
       "  'region': 'South Asia'},\n",
       " 'Mali': {2015: 'Low income',\n",
       "  2020: 'Low income',\n",
       "  'region': 'Sub-Saharan Africa'},\n",
       " 'Malta': {2015: 'High income',\n",
       "  2020: 'High income',\n",
       "  'region': 'Middle East & North Africa'},\n",
       " 'Marshall Islands': {2015: 'Upper middle income',\n",
       "  2020: 'Upper middle income',\n",
       "  'region': 'East Asia & Pacific'},\n",
       " 'Mauritania': {2015: 'Lower middle income',\n",
       "  2020: 'Lower middle income',\n",
       "  'region': 'Sub-Saharan Africa'},\n",
       " 'Mauritius': {2015: 'Upper middle income',\n",
       "  2020: 'Upper middle income',\n",
       "  'region': 'Sub-Saharan Africa'},\n",
       " 'Mexico': {2015: 'Upper middle income',\n",
       "  2020: 'Upper middle income',\n",
       "  'region': 'Latin America & Caribbean'},\n",
       " 'Monaco': {2015: 'High income',\n",
       "  2020: 'High income',\n",
       "  'region': 'Europe & Central Asia'},\n",
       " 'Mongolia': {2015: 'Lower middle income',\n",
       "  2020: 'Lower middle income',\n",
       "  'region': 'East Asia & Pacific'},\n",
       " 'Montenegro': {2015: 'Upper middle income',\n",
       "  2020: 'Upper middle income',\n",
       "  'region': 'Europe & Central Asia'},\n",
       " 'Morocco': {2015: 'Lower middle income',\n",
       "  2020: 'Lower middle income',\n",
       "  'region': 'Middle East & North Africa'},\n",
       " 'Mozambique': {2015: 'Low income',\n",
       "  2020: 'Low income',\n",
       "  'region': 'Sub-Saharan Africa'},\n",
       " 'Myanmar': {2015: 'Lower middle income',\n",
       "  2020: 'Lower middle income',\n",
       "  'region': 'East Asia & Pacific'},\n",
       " 'Namibia': {2015: 'Upper middle income',\n",
       "  2020: 'Upper middle income',\n",
       "  'region': 'Sub-Saharan Africa'},\n",
       " 'Nauru': {2015: 'High income',\n",
       "  2020: 'High income',\n",
       "  'region': 'East Asia & Pacific'},\n",
       " 'Nepal': {2015: 'Low income',\n",
       "  2020: 'Lower middle income',\n",
       "  'region': 'South Asia'},\n",
       " 'Netherlands': {2015: 'High income',\n",
       "  2020: 'High income',\n",
       "  'region': 'Europe & Central Asia'},\n",
       " 'New Zealand': {2015: 'High income',\n",
       "  2020: 'High income',\n",
       "  'region': 'East Asia & Pacific'},\n",
       " 'Nicaragua': {2015: 'Lower middle income',\n",
       "  2020: 'Lower middle income',\n",
       "  'region': 'Latin America & Caribbean'},\n",
       " 'Niger': {2015: 'Low income',\n",
       "  2020: 'Low income',\n",
       "  'region': 'Sub-Saharan Africa'},\n",
       " 'Nigeria': {2015: 'Lower middle income',\n",
       "  2020: 'Lower middle income',\n",
       "  'region': 'Sub-Saharan Africa'},\n",
       " 'North Macedonia': {2015: 'Upper middle income',\n",
       "  2020: 'Upper middle income',\n",
       "  'region': 'Europe & Central Asia'},\n",
       " 'Norway': {2015: 'High income',\n",
       "  2020: 'High income',\n",
       "  'region': 'Europe & Central Asia'},\n",
       " 'Oman': {2015: 'High income',\n",
       "  2020: 'High income',\n",
       "  'region': 'Middle East & North Africa'},\n",
       " 'Pakistan': {2015: 'Lower middle income',\n",
       "  2020: 'Lower middle income',\n",
       "  'region': 'South Asia'},\n",
       " 'Palau': {2015: 'Upper middle income',\n",
       "  2020: 'High income',\n",
       "  'region': 'East Asia & Pacific'},\n",
       " 'Panama': {2015: 'Upper middle income',\n",
       "  2020: 'Upper middle income',\n",
       "  'region': 'Latin America & Caribbean'},\n",
       " 'Papua New Guinea': {2015: 'Lower middle income',\n",
       "  2020: 'Lower middle income',\n",
       "  'region': 'East Asia & Pacific'},\n",
       " 'Paraguay': {2015: 'Upper middle income',\n",
       "  2020: 'Upper middle income',\n",
       "  'region': 'Latin America & Caribbean'},\n",
       " 'Peru': {2015: 'Upper middle income',\n",
       "  2020: 'Upper middle income',\n",
       "  'region': 'Latin America & Caribbean'},\n",
       " 'Philippines': {2015: 'Lower middle income',\n",
       "  2020: 'Lower middle income',\n",
       "  'region': 'East Asia & Pacific'},\n",
       " 'Poland': {2015: 'High income',\n",
       "  2020: 'High income',\n",
       "  'region': 'Europe & Central Asia'},\n",
       " 'Portugal': {2015: 'High income',\n",
       "  2020: 'High income',\n",
       "  'region': 'Europe & Central Asia'},\n",
       " 'Romania': {2015: 'Upper middle income',\n",
       "  2020: 'Upper middle income',\n",
       "  'region': 'Europe & Central Asia'},\n",
       " 'Russian Federation': {2015: 'Upper middle income',\n",
       "  2020: 'Upper middle income',\n",
       "  'region': 'Europe & Central Asia'},\n",
       " 'Rwanda': {2015: 'Low income',\n",
       "  2020: 'Low income',\n",
       "  'region': 'Sub-Saharan Africa'},\n",
       " 'Samoa': {2015: 'Lower middle income',\n",
       "  2020: 'Lower middle income',\n",
       "  'region': 'East Asia & Pacific'},\n",
       " 'Senegal': {2015: 'Low income',\n",
       "  2020: 'Lower middle income',\n",
       "  'region': 'Sub-Saharan Africa'},\n",
       " 'Serbia': {2015: 'Upper middle income',\n",
       "  2020: 'Upper middle income',\n",
       "  'region': 'Europe & Central Asia'},\n",
       " 'Sierra Leone': {2015: 'Low income',\n",
       "  2020: 'Low income',\n",
       "  'region': 'Sub-Saharan Africa'},\n",
       " 'Singapore': {2015: 'High income',\n",
       "  2020: 'High income',\n",
       "  'region': 'East Asia & Pacific'},\n",
       " 'Solomon Islands': {2015: 'Lower middle income',\n",
       "  2020: 'Lower middle income',\n",
       "  'region': 'East Asia & Pacific'},\n",
       " 'Somalia': {2015: 'Low income',\n",
       "  2020: 'Low income',\n",
       "  'region': 'Sub-Saharan Africa'},\n",
       " 'South Africa': {2015: 'Upper middle income',\n",
       "  2020: 'Upper middle income',\n",
       "  'region': 'Sub-Saharan Africa'},\n",
       " 'South Sudan': {2015: 'Low income',\n",
       "  2020: 'Low income',\n",
       "  'region': 'Sub-Saharan Africa'},\n",
       " 'Spain': {2015: 'High income',\n",
       "  2020: 'High income',\n",
       "  'region': 'Europe & Central Asia'},\n",
       " 'Sri Lanka': {2015: 'Lower middle income',\n",
       "  2020: 'Lower middle income',\n",
       "  'region': 'South Asia'},\n",
       " 'Sudan': {2015: 'Lower middle income',\n",
       "  2020: 'Low income',\n",
       "  'region': 'Sub-Saharan Africa'},\n",
       " 'Suriname': {2015: 'Upper middle income',\n",
       "  2020: 'Upper middle income',\n",
       "  'region': 'Latin America & Caribbean'},\n",
       " 'Sweden': {2015: 'High income',\n",
       "  2020: 'High income',\n",
       "  'region': 'Europe & Central Asia'},\n",
       " 'Switzerland': {2015: 'High income',\n",
       "  2020: 'High income',\n",
       "  'region': 'Europe & Central Asia'},\n",
       " 'Syrian Arab Republic': {2015: 'Lower middle income',\n",
       "  2020: 'Low income',\n",
       "  'region': 'Middle East & North Africa'},\n",
       " 'Tajikistan': {2015: 'Lower middle income',\n",
       "  2020: 'Lower middle income',\n",
       "  'region': 'Europe & Central Asia'},\n",
       " 'Thailand': {2015: 'Upper middle income',\n",
       "  2020: 'Upper middle income',\n",
       "  'region': 'East Asia & Pacific'},\n",
       " 'Timor-Leste': {2015: 'Lower middle income',\n",
       "  2020: 'Lower middle income',\n",
       "  'region': 'East Asia & Pacific'},\n",
       " 'Togo': {2015: 'Low income',\n",
       "  2020: 'Low income',\n",
       "  'region': 'Sub-Saharan Africa'},\n",
       " 'Tonga': {2015: 'Lower middle income',\n",
       "  2020: 'Upper middle income',\n",
       "  'region': 'East Asia & Pacific'},\n",
       " 'Tunisia': {2015: 'Lower middle income',\n",
       "  2020: 'Lower middle income',\n",
       "  'region': 'Middle East & North Africa'},\n",
       " 'Turkmenistan': {2015: 'Upper middle income',\n",
       "  2020: 'Upper middle income',\n",
       "  'region': 'Europe & Central Asia'},\n",
       " 'Tuvalu': {2015: 'Upper middle income',\n",
       "  2020: 'Upper middle income',\n",
       "  'region': 'East Asia & Pacific'},\n",
       " 'Uganda': {2015: 'Low income',\n",
       "  2020: 'Low income',\n",
       "  'region': 'Sub-Saharan Africa'},\n",
       " 'Ukraine': {2015: 'Lower middle income',\n",
       "  2020: 'Lower middle income',\n",
       "  'region': 'Europe & Central Asia'},\n",
       " 'United Kingdom': {2015: 'High income',\n",
       "  2020: 'High income',\n",
       "  'region': 'Europe & Central Asia'},\n",
       " 'United States of America': {2015: 'High income',\n",
       "  2020: 'High income',\n",
       "  'region': 'North America'},\n",
       " 'Uruguay': {2015: 'High income',\n",
       "  2020: 'High income',\n",
       "  'region': 'Latin America & Caribbean'},\n",
       " 'Uzbekistan': {2015: 'Lower middle income',\n",
       "  2020: 'Lower middle income',\n",
       "  'region': 'Europe & Central Asia'},\n",
       " 'Vanuatu': {2015: 'Lower middle income',\n",
       "  2020: 'Lower middle income',\n",
       "  'region': 'East Asia & Pacific'},\n",
       " 'Vietnam': {2015: 'Lower middle income',\n",
       "  2020: 'Lower middle income',\n",
       "  'region': 'East Asia & Pacific'},\n",
       " 'Zambia': {2015: 'Lower middle income',\n",
       "  2020: 'Lower middle income',\n",
       "  'region': 'Sub-Saharan Africa'},\n",
       " 'Zimbabwe': {2015: 'Low income',\n",
       "  2020: 'Lower middle income',\n",
       "  'region': 'Sub-Saharan Africa'}}"
      ]
     },
     "execution_count": 133,
     "metadata": {},
     "output_type": "execute_result"
    }
   ],
   "source": [
    "# update the value of the variable 'income_levels', then display it\n",
    "\n",
    "r = {}\n",
    "\n",
    "for idx in range(0,len(csv_rows), 2):\n",
    "    r[cell(idx, \"country_name\")] = cell(idx,\"region\")\n",
    "\n",
    "for key in income_levels:\n",
    "    income_levels[key][\"region\"] = r[key]\n",
    "\n",
    "income_levels  \n",
    "    "
   ]
  },
  {
   "cell_type": "code",
   "execution_count": 134,
   "id": "89c473f1",
   "metadata": {
    "deletable": false,
    "editable": false
   },
   "outputs": [
    {
     "data": {
      "text/html": [
       "<p><strong><pre style='display: inline;'>q19</pre></strong> passed!</p>"
      ],
      "text/plain": [
       "q19 results: All test cases passed!"
      ]
     },
     "execution_count": 134,
     "metadata": {},
     "output_type": "execute_result"
    }
   ],
   "source": [
    "grader.check(\"q19\")"
   ]
  },
  {
   "cell_type": "markdown",
   "id": "2e983216",
   "metadata": {},
   "source": [
    "### Task 3.9: More binning"
   ]
  },
  {
   "cell_type": "markdown",
   "id": "069662f1",
   "metadata": {},
   "source": [
    "**Question 20**: Create a new dictionary that maps each `region` to the **list** of countries from that region whose `income_level` was *Lower middle income* in *2020*.\n",
    "\n",
    "You **must** create a bin for each `income_level` even if there is no country in that `income_level`. In this instance, there was no *Lower middle income* country in *2020* from the `region` of *North America*. However, we still **require** that *North America* be included as a key in our dictionary, but with the value being the empty list `[]`.\n",
    "\n",
    "You can accomplish this by first initializing all keys to the dictionary with the value as `[]`, and then adding the values to these bins in a separate loop, as in the code snippet below."
   ]
  },
  {
   "cell_type": "code",
   "execution_count": null,
   "id": "2f44e990",
   "metadata": {
    "tags": []
   },
   "outputs": [],
   "source": [
    "# replace the ... with your code\n",
    "\n",
    "# initialize as an empty dictionary\n",
    "lower_mid_countries_by_region = ...\n",
    "# we make a list of all the regions\n",
    "regions_list = []\n",
    "for country_name in income_levels:\n",
    "    regions_list.append(income_levels[country_name]['region'])\n",
    "\n",
    "# we then add the unique regions as keys to the dictionary\n",
    "for region in list(set(regions_list)):\n",
    "    lower_mid_countries_by_region[region] = []\n",
    "    \n",
    "# loop over the keys of income_levels\n",
    "for ... in ...:\n",
    "    # find the region of the country\n",
    "    region = ...\n",
    "    # if the income level of the country was 'Lower middle income' in 2020,\n",
    "    # add country to the correct bin\n",
    "\n",
    "lower_mid_countries_by_region"
   ]
  },
  {
   "cell_type": "code",
   "execution_count": null,
   "id": "a83ffe8d",
   "metadata": {
    "deletable": false,
    "editable": false
   },
   "outputs": [],
   "source": [
    "grader.check(\"q20\")"
   ]
  },
  {
   "cell_type": "markdown",
   "id": "d3265a43",
   "metadata": {},
   "source": [
    "## Great work! You are now ready to start [p7](https://git.doit.wisc.edu/cdis/cs/courses/cs220/cs220-f22-projects/-/tree/main/p7)."
   ]
  }
 ],
 "metadata": {
  "kernelspec": {
   "display_name": "Python 3 (ipykernel)",
   "language": "python",
   "name": "python3"
  },
  "language_info": {
   "codemirror_mode": {
    "name": "ipython",
    "version": 3
   },
   "file_extension": ".py",
   "mimetype": "text/x-python",
   "name": "python",
   "nbconvert_exporter": "python",
   "pygments_lexer": "ipython3",
   "version": "3.9.12"
  },
  "otter": {
   "OK_FORMAT": true,
   "tests": {
    "cell_test1": {
     "name": "cell_test1",
     "points": 0,
     "suites": [
      {
       "cases": [
        {
         "code": ">>> practice_test.check(\"q0-1\", year_idx4)\nTrue",
         "hidden": false,
         "locked": false
        }
       ],
       "scored": true,
       "setup": "",
       "teardown": "",
       "type": "doctest"
      }
     ]
    },
    "cell_test2": {
     "name": "cell_test2",
     "points": 0,
     "suites": [
      {
       "cases": [
        {
         "code": ">>> practice_test.check(\"q0-2\", pop_idx5)\nTrue",
         "hidden": false,
         "locked": false
        }
       ],
       "scored": true,
       "setup": "",
       "teardown": "",
       "type": "doctest"
      }
     ]
    },
    "cell_test3": {
     "name": "cell_test3",
     "points": 0,
     "suites": [
      {
       "cases": [
        {
         "code": ">>> practice_test.check(\"q0-3\", urban_percent_idx57)\nTrue",
         "hidden": false,
         "locked": false
        }
       ],
       "scored": true,
       "setup": "",
       "teardown": "",
       "type": "doctest"
      }
     ]
    },
    "cell_test4": {
     "name": "cell_test4",
     "points": 0,
     "suites": [
      {
       "cases": [
        {
         "code": ">>> practice_test.check(\"q0-4\", national_alb_idx58)\nTrue",
         "hidden": false,
         "locked": false
        }
       ],
       "scored": true,
       "setup": "",
       "teardown": "",
       "type": "doctest"
      }
     ]
    },
    "cell_test5": {
     "name": "cell_test5",
     "points": 0,
     "suites": [
      {
       "cases": [
        {
         "code": ">>> practice_test.check(\"q0-5\", urban_alb_idx58)\nTrue",
         "hidden": false,
         "locked": false
        }
       ],
       "scored": true,
       "setup": "",
       "teardown": "",
       "type": "doctest"
      }
     ]
    },
    "cell_test6": {
     "name": "cell_test6",
     "points": 0,
     "suites": [
      {
       "cases": [
        {
         "code": ">>> practice_test.check(\"q0-6\", country_code_idx59)\nTrue",
         "hidden": false,
         "locked": false
        }
       ],
       "scored": true,
       "setup": "",
       "teardown": "",
       "type": "doctest"
      }
     ]
    },
    "cell_test7": {
     "name": "cell_test7",
     "points": 0,
     "suites": [
      {
       "cases": [
        {
         "code": ">>> practice_test.check(\"q0-7\", income_level_idx59)\nTrue",
         "hidden": false,
         "locked": false
        }
       ],
       "scored": true,
       "setup": "",
       "teardown": "",
       "type": "doctest"
      }
     ]
    },
    "q1": {
     "name": "q1",
     "points": 5,
     "suites": [
      {
       "cases": [
        {
         "code": ">>> practice_test.check(\"q1\", country_codes)\nTrue",
         "hidden": false,
         "locked": false
        }
       ],
       "scored": true,
       "setup": "",
       "teardown": "",
       "type": "doctest"
      }
     ]
    },
    "q10-1": {
     "name": "q10-1",
     "points": 2.5,
     "suites": [
      {
       "cases": [
        {
         "code": ">>> practice_test.check(\"q10-1\", cuba_income_level_2015)\nTrue",
         "hidden": false,
         "locked": false
        }
       ],
       "scored": true,
       "setup": "",
       "teardown": "",
       "type": "doctest"
      }
     ]
    },
    "q10-2": {
     "name": "q10-2",
     "points": 5,
     "suites": [
      {
       "cases": [
        {
         "code": ">>> practice_test.check(\"q10-2\", gibraltar_income_level_2020)\nTrue",
         "hidden": false,
         "locked": false
        }
       ],
       "scored": true,
       "setup": "",
       "teardown": "",
       "type": "doctest"
      }
     ]
    },
    "q11": {
     "name": "q11",
     "points": 5,
     "suites": [
      {
       "cases": [
        {
         "code": ">>> practice_test.check(\"q11\", income_level_differences)\nTrue",
         "hidden": false,
         "locked": false
        }
       ],
       "scored": true,
       "setup": "",
       "teardown": "",
       "type": "doctest"
      }
     ]
    },
    "q12": {
     "name": "q12",
     "points": 5,
     "suites": [
      {
       "cases": [
        {
         "code": ">>> practice_test.check(\"q12\", income_levels_to_country_names_2015)\nTrue",
         "hidden": false,
         "locked": false
        }
       ],
       "scored": true,
       "setup": "",
       "teardown": "",
       "type": "doctest"
      }
     ]
    },
    "q13": {
     "name": "q13",
     "points": 5,
     "suites": [
      {
       "cases": [
        {
         "code": ">>> practice_test.check(\"q13\", income_levels_to_country_names_2020)\nTrue",
         "hidden": false,
         "locked": false
        }
       ],
       "scored": true,
       "setup": "",
       "teardown": "",
       "type": "doctest"
      }
     ]
    },
    "q14-1": {
     "name": "q14-1",
     "points": 2,
     "suites": [
      {
       "cases": [
        {
         "code": ">>> practice_test.check(\"q14-1\", income_level_country_counts_2015)\nTrue",
         "hidden": false,
         "locked": false
        }
       ],
       "scored": true,
       "setup": "",
       "teardown": "",
       "type": "doctest"
      }
     ]
    },
    "q14-2": {
     "name": "q14-2",
     "points": 3,
     "suites": [
      {
       "cases": [
        {
         "code": ">>> practice_test.check(\"q14-2\", income_level_country_counts_2020)\nTrue",
         "hidden": false,
         "locked": false
        }
       ],
       "scored": true,
       "setup": "",
       "teardown": "",
       "type": "doctest"
      }
     ]
    },
    "q15-1": {
     "name": "q15-1",
     "points": 2,
     "suites": [
      {
       "cases": [
        {
         "code": ">>> practice_test.check(\"q15-1\", pops)\nTrue",
         "hidden": false,
         "locked": false
        }
       ],
       "scored": true,
       "setup": "",
       "teardown": "",
       "type": "doctest"
      }
     ]
    },
    "q15-2": {
     "name": "q15-2",
     "points": 3,
     "suites": [
      {
       "cases": [
        {
         "code": ">>> practice_test.check(\"q15-2\", urban_percents)\nTrue",
         "hidden": false,
         "locked": false
        }
       ],
       "scored": true,
       "setup": "",
       "teardown": "",
       "type": "doctest"
      }
     ]
    },
    "q16": {
     "name": "q16",
     "points": 5,
     "suites": [
      {
       "cases": [
        {
         "code": ">>> practice_test.check(\"q16\", urban_populations)\nTrue",
         "hidden": false,
         "locked": false
        }
       ],
       "scored": true,
       "setup": "",
       "teardown": "",
       "type": "doctest"
      }
     ]
    },
    "q17": {
     "name": "q17",
     "points": 5,
     "suites": [
      {
       "cases": [
        {
         "code": ">>> practice_test.check(\"q17\", smallest_urban_country)\nTrue",
         "hidden": false,
         "locked": false
        }
       ],
       "scored": true,
       "setup": "",
       "teardown": "",
       "type": "doctest"
      }
     ]
    },
    "q18": {
     "name": "q18",
     "points": 5,
     "suites": [
      {
       "cases": [
        {
         "code": ">>> practice_test.check(\"q18\", largest_urban_country)\nTrue",
         "hidden": false,
         "locked": false
        }
       ],
       "scored": true,
       "setup": "",
       "teardown": "",
       "type": "doctest"
      }
     ]
    },
    "q19": {
     "name": "q19",
     "points": 5,
     "suites": [
      {
       "cases": [
        {
         "code": ">>> practice_test.check(\"q19\", income_levels)\nTrue",
         "hidden": false,
         "locked": false
        }
       ],
       "scored": true,
       "setup": "",
       "teardown": "",
       "type": "doctest"
      }
     ]
    },
    "q2": {
     "name": "q2",
     "points": 5,
     "suites": [
      {
       "cases": [
        {
         "code": ">>> practice_test.check(\"q2\", ireland_country_code)\nTrue",
         "hidden": false,
         "locked": false
        }
       ],
       "scored": true,
       "setup": "",
       "teardown": "",
       "type": "doctest"
      }
     ]
    },
    "q20": {
     "name": "q20",
     "points": 5,
     "suites": [
      {
       "cases": [
        {
         "code": ">>> practice_test.check(\"q20\", lower_mid_countries_by_region)\nTrue",
         "hidden": false,
         "locked": false
        }
       ],
       "scored": true,
       "setup": "",
       "teardown": "",
       "type": "doctest"
      }
     ]
    },
    "q3": {
     "name": "q3",
     "points": 5,
     "suites": [
      {
       "cases": [
        {
         "code": ">>> practice_test.check(\"q3\", sudan_country_code)\nTrue",
         "hidden": false,
         "locked": false
        }
       ],
       "scored": true,
       "setup": "",
       "teardown": "",
       "type": "doctest"
      }
     ]
    },
    "q4": {
     "name": "q4",
     "points": 5,
     "suites": [
      {
       "cases": [
        {
         "code": ">>> practice_test.check(\"q4\", income_levels_2015)\nTrue",
         "hidden": false,
         "locked": false
        }
       ],
       "scored": true,
       "setup": "",
       "teardown": "",
       "type": "doctest"
      }
     ]
    },
    "q5": {
     "name": "q5",
     "points": 5,
     "suites": [
      {
       "cases": [
        {
         "code": ">>> practice_test.check(\"q5\", income_levels_2020)\nTrue",
         "hidden": false,
         "locked": false
        }
       ],
       "scored": true,
       "setup": "",
       "teardown": "",
       "type": "doctest"
      }
     ]
    },
    "q6-1": {
     "name": "q6-1",
     "points": 2.5,
     "suites": [
      {
       "cases": [
        {
         "code": ">>> practice_test.check(\"q6-1\", zimbabwe_income_level_2015)\nTrue",
         "hidden": false,
         "locked": false
        }
       ],
       "scored": true,
       "setup": "",
       "teardown": "",
       "type": "doctest"
      }
     ]
    },
    "q6-2": {
     "name": "q6-2",
     "points": 2.5,
     "suites": [
      {
       "cases": [
        {
         "code": ">>> practice_test.check(\"q6-2\", zimbabwe_income_level_2020)\nTrue",
         "hidden": false,
         "locked": false
        }
       ],
       "scored": true,
       "setup": "",
       "teardown": "",
       "type": "doctest"
      }
     ]
    },
    "q7": {
     "name": "q7",
     "points": 5,
     "suites": [
      {
       "cases": [
        {
         "code": ">>> practice_test.check(\"q7\", pop_decrease_countries)\nTrue",
         "hidden": false,
         "locked": false
        }
       ],
       "scored": true,
       "setup": "",
       "teardown": "",
       "type": "doctest"
      }
     ]
    },
    "q8": {
     "name": "q8",
     "points": 5,
     "suites": [
      {
       "cases": [
        {
         "code": ">>> practice_test.check(\"q8\", more_urban_countries)\nTrue",
         "hidden": false,
         "locked": false
        }
       ],
       "scored": true,
       "setup": "",
       "teardown": "",
       "type": "doctest"
      }
     ]
    },
    "q9": {
     "name": "q9",
     "points": 5,
     "suites": [
      {
       "cases": [
        {
         "code": ">>> practice_test.check(\"q9\", income_levels)\nTrue",
         "hidden": false,
         "locked": false
        }
       ],
       "scored": true,
       "setup": "",
       "teardown": "",
       "type": "doctest"
      }
     ]
    }
   }
  }
 },
 "nbformat": 4,
 "nbformat_minor": 5
}
