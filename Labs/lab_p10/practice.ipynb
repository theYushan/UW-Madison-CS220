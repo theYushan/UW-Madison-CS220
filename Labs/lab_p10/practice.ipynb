{
 "cells": [
  {
   "cell_type": "code",
   "execution_count": 172,
   "id": "e16fd0f5",
   "metadata": {
    "deletable": false,
    "editable": false
   },
   "outputs": [],
   "source": [
    "# Initialize Otter\n",
    "import otter\n",
    "grader = otter.Notebook(\"practice.ipynb\")"
   ]
  },
  {
   "cell_type": "code",
   "execution_count": 173,
   "id": "4c930d9c",
   "metadata": {},
   "outputs": [],
   "source": [
    "import practice_test"
   ]
  },
  {
   "cell_type": "markdown",
   "id": "39141561",
   "metadata": {},
   "source": [
    "# Lab-P10:  File Handling and Namedtuples"
   ]
  },
  {
   "cell_type": "markdown",
   "id": "36ea7c0b",
   "metadata": {},
   "source": [
    "## Learning Objectives:\n",
    "\n",
    "In this lab, you will practice how to...\n",
    "* use the `os` module to handle files,\n",
    "* load data from json files,\n",
    "* combine data from different files to create data structures,\n",
    "* create namedtuples,\n",
    "* use `try/except` to handle malformed data"
   ]
  },
  {
   "cell_type": "markdown",
   "id": "2d92e3b3",
   "metadata": {},
   "source": [
    "## Note on Academic Misconduct:\n",
    "\n",
    "**IMPORTANT**: p10 and p11 are two parts of the same data analysis. You **cannot** switch project partners between these two projects. That is if you partner up with someone for lab-p10 and p10, you have to work on lab-p11 and p11 with the **same partner**. You must acknowledge to the lab TA to receive lab attendance credit.\n",
    "\n",
    "You may do these lab exercises with only with your project partner; you are not allowed to start working on lab-p10 with one person, then do the project with a different partner.  Now may be a good time to review [our course policies](https://cs220.cs.wisc.edu/f22/syllabus.html)."
   ]
  },
  {
   "cell_type": "markdown",
   "id": "4d17b31f",
   "metadata": {},
   "source": [
    "## Setup:\n",
    "\n",
    "Before proceeding much further, download `small_data.zip` and extract it to a directory on your\n",
    "computer (using [Mac directions](http://osxdaily.com/2017/11/05/how-open-zip-file-mac/) or\n",
    "[Windows directions](https://support.microsoft.com/en-us/help/4028088/windows-zip-and-unzip-files)).\n",
    "\n",
    "You need to make sure that the project files are stored in the following structure:\n",
    "\n",
    "```\n",
    "+-- practice.ipynb\n",
    "+-- practice_test.py\n",
    "+-- small_data\n",
    "|   +-- .DS_Store\n",
    "|   +-- .ipynb_checkpoints\n",
    "|   +-- mapping_1.json\n",
    "|   +-- mapping_2.json\n",
    "|   +-- mapping_3.json\n",
    "|   +-- planets_1.csv\n",
    "|   +-- planets_2.csv\n",
    "|   +-- planets_3.csv\n",
    "|   +-- stars_1.csv\n",
    "|   +-- stars_2.csv\n",
    "|   +-- stars_3.csv\n",
    "```\n",
    "\n",
    "Make sure that the files inside `small_data.zip` are inside the `small_data` directory."
   ]
  },
  {
   "cell_type": "markdown",
   "id": "5f8ef1a2",
   "metadata": {},
   "source": [
    "## Introduction:\n",
    "\n",
    "In p10 and p11, we will be studying stars and planets outside our Solar System using this dataset from the [NASA Exoplanet Archive](https://exoplanetarchive.ipac.caltech.edu/cgi-bin/TblView/nph-tblView?app=ExoTbls&config=PSCompPars). We will use Python to ask some interesting questions about the laws of the universe and explore the habitability of other planets in our universe.\n",
    "\n",
    "In lab-p10, you will work with a small subset of the full dataset. You can find these files inside `small_data.zip`. The full dataset used in p10 and p11 is stored in the same format, so you can then use this code to parse the dataset in p10 and p11."
   ]
  },
  {
   "cell_type": "markdown",
   "id": "912690de",
   "metadata": {},
   "source": [
    "## The Data:\n",
    "\n",
    "You can open each of the files inside the `small_data` directory using Microsoft Excel or some other Spreadsheet viewing software to see how the data is stored. For example, these are the contents of the file `stars_1.csv`:\n",
    "\n",
    "|Name|Spectral Type|Stellar Effective Temperature [K]|Stellar Radius [Solar Radius]|Stellar Mass [Solar mass]|Stellar Luminosity [log(Solar)]|Stellar Surface Gravity [log10(cm/s**2)]|Stellar Age [Gyr]|\n",
    "|----|-------------|---------------------------------|-----------------------------|-------------------------|-------------------------------|----------------------------------------|-----------------|\n",
    "|55 Cnc|G8V|5172.00|0.94|0.91|-0.197|4.43|10.200|\n",
    "|DMPP-1|F8 V|6196.00|1.26|1.21|0.320|4.41|2.010|\n",
    "|GJ 876|M2.5V|3271.00|0.30|0.32|-1.907|4.87|1.000|\n",
    "\n",
    "As you might have already guessed, this file contains data on a number of *stars* outside our solar system along with some important statistics about these stars. The columns here are as follows:\n",
    "\n",
    "- `Name`: The name given to the star by the International Astronomical Union,\n",
    "- `Spectral Type`: The Spectral Classification of the star as per the Morgan–Keenan (MK) system,\n",
    "- `Stellar Effective Temperature [K]`: The temperature of a black body (in units of Kelvin) that would emit the observed radiation of the star,\n",
    "- `Stellar Radius [Solar Radius]`: The radius of the star (in units of the radius of the Sun),\n",
    "- `Stellar Mass [Solar mass]`: The mass of the star (in units of the mass of the Sun),\n",
    "- `Stellar Luminosity [log(Solar)]`: The total amount of energy radiated by the star each second (represented by the logarithm of the energy radiated by the Sun in each second),\n",
    "- `Stellar Surface Gravity [log10(cm/s**2)]`: The acceleration due to the gravity of the Star at its surface (represented by the logarithm of the acceleration measured in centimeter per second squared),\n",
    "- `Stellar Age [Gyr]`: The total age of the star (in units of Giga years, i.e., billions of years).\n",
    "\n",
    "The two other files `stars_2.csv`, and `stars_3.csv` also store similar data in the same format. At this stage, it is alright if you do not understand what these columns mean - they will be explained to you when they become necessary (in p10 and p11).\n",
    "\n",
    "On the other hand, here are the contents of the file `planets_1.csv`:\n",
    "\n",
    "|Planet Name|Discovery Method|Discovery Year|Controversial Flag|Orbital Period [days]|Planet Radius [Earth Radius]|Planet Mass [Earth Mass]|Orbit Semi-Major Axis [au]|Eccentricity|Equilibrium Temperature [K]|Insolation Flux [Earth Flux]|\n",
    "|-----------|----------------|--------------|------------------|---------------------|----------------------------|------------------------|---------------------------|------------|---------------------------|----------------------------|\n",
    "|55 Cnc b|Radial Velocity|1996|0|14.65160000|13.900|263.97850|0.113400|0.000000|700||\n",
    "|55 Cnc c|Radial Velocity|2004|0|44.39890000|8.510|54.47380|0.237300|0.030000|||\n",
    "|DMPP-1 b|Radial Velocity|2019|0|18.57000000|5.290|24.27000|0.146200|0.083000|877||\n",
    "|GJ 876 b|Radial Velocity|1998|0|61.11660000|13.300|723.22350|0.208317|0.032400|||\n",
    "|GJ 876 c|Radial Velocity|2000|0|30.08810000|14.000|226.98460|0.129590|0.255910|||\n",
    "\n",
    "\n",
    "This file contains data on a number of *planets* outside our solar system along with some important statistics about these planets. The columns here are as follows:\n",
    "\n",
    "- `Planet Name`: The name given to the planet by the International Astronomical Union,\n",
    "- `Discovery Method`: The method by which the planet was discovered,\n",
    "- `Discovery Year`: The year in which the planet was discovered,\n",
    "- `Controversial Flag`: Indicates whether the status of the discovered object as a planet was disputed at the time of discovery, \n",
    "- `Orbital Period [days]`: The amount of time (in units of days) it takes for the planet to complete one orbit around its star,\n",
    "- `Planet Radius [Earth Radius]`: The radius of the planet (in units of the radius of the Earth),\n",
    "- `Planet Mass [Earth Mass]`: The mass of the planet (in units of the mass of the Earth),\n",
    "- `Orbit Semi-Major Axis [au]`: The semi-major axis of the planet's elliptical orbit around its host star (in units of Astronomical Units),\n",
    "- `Eccentricity`: The eccentricity of the planet's orbit around its host star,\n",
    "- `Equilibrium Temperature [K]`: The temperature of the planet (in units of Kelvin) if it were a black body heated only by its host star,\n",
    "- `Insolation Flux [Earth Flux]`:  The amount of radiation the planet received from its host star per unit of area (in units of the Insolation Flux of the Earth from the Sun).\n",
    "\n",
    "The two other files `planets_2.csv`, and `planets_3.csv` also store similar data in the same format.\n",
    "\n",
    "\n",
    "Finally, if you take a look at `mapping_1.json` (you can open json files using any Text Editor), you will see that the file look like this:\n",
    "\n",
    "```\n",
    "{\"55 Cnc b\": \"55 Cnc\", \"55 Cnc c\": \"55 Cnc\", \"DMPP-1 b\": \"DMPP-1\", \"GJ 876 b\": \"GJ 876\", \"GJ 876 c\": \"GJ 876\"}\n",
    "```\n",
    "\n",
    "This file contains a *mapping* from each *planet* in `planets_1.csv` to the *star* in `stars_1.csv` that the planet orbits. Similarly, `mapping_2.json` contains a *mapping* from each *planet* in `planets_2.csv` to the *star* in `stars_2.csv` that the planet orbits, and `mapping_3.json` contains a *mapping* from each *planet* in `planets_3.csv` to the *star* in `stars_3.csv` that the planet orbits."
   ]
  },
  {
   "cell_type": "markdown",
   "id": "4dcfabf4",
   "metadata": {},
   "source": [
    "## Questions and Functions:\n",
    "\n",
    "Let us start by importing all the modules we will need for this project."
   ]
  },
  {
   "cell_type": "code",
   "execution_count": 262,
   "id": "2ab88c43",
   "metadata": {
    "tags": []
   },
   "outputs": [],
   "source": [
    "# it is considered a good coding practice to place all import statements at the top of the notebook\n",
    "# place all your import statements in this cell if you need to import any more modules for this project\n",
    "\n",
    "# we have imported these modules for you\n",
    "import os\n",
    "from collections import namedtuple\n",
    "import csv\n",
    "import json"
   ]
  },
  {
   "cell_type": "markdown",
   "id": "7aafe46c",
   "metadata": {},
   "source": [
    "## Segment 2: File handling with the `os` module\n",
    "\n",
    "In this segment, you will learn how to use the `os` module effectively."
   ]
  },
  {
   "cell_type": "markdown",
   "id": "bd8b4c29",
   "metadata": {},
   "source": [
    "**Question 1.1**: List **all** the files and directories in the directory `small_data` using the `os.listdir` function.\n",
    "\n",
    "Your output **must** be a **list** of **strings**. The order does **not** matter."
   ]
  },
  {
   "cell_type": "code",
   "execution_count": 263,
   "id": "6cdbc60b",
   "metadata": {
    "tags": []
   },
   "outputs": [
    {
     "data": {
      "text/plain": [
       "['mapping_3.json',\n",
       " '.DS_Store',\n",
       " 'mapping_2.json',\n",
       " 'planets_2.csv',\n",
       " 'planets_3.csv',\n",
       " 'planets_1.csv',\n",
       " 'stars_3.csv',\n",
       " 'stars_2.csv',\n",
       " 'stars_1.csv',\n",
       " '.ipynb_checkpoints',\n",
       " 'mapping_1.json']"
      ]
     },
     "execution_count": 263,
     "metadata": {},
     "output_type": "execute_result"
    }
   ],
   "source": [
    "# we have done this one for you\n",
    "\n",
    "all_files = os.listdir('small_data')\n",
    "\n",
    "all_files"
   ]
  },
  {
   "cell_type": "code",
   "execution_count": 264,
   "id": "cc4b9047",
   "metadata": {
    "deletable": false,
    "editable": false
   },
   "outputs": [
    {
     "data": {
      "text/html": [
       "<p><strong><pre style='display: inline;'>q1-1</pre></strong> passed!</p>"
      ],
      "text/plain": [
       "q1-1 results: All test cases passed!"
      ]
     },
     "execution_count": 264,
     "metadata": {},
     "output_type": "execute_result"
    }
   ],
   "source": [
    "grader.check(\"q1-1\")"
   ]
  },
  {
   "cell_type": "markdown",
   "id": "c62ac649",
   "metadata": {},
   "source": [
    "**Important Warning:** That appeared to work just fine, but you should be **very careful** when using the `os` module. You might have noticed that there are files and directories in the list returned by `os.listdir` that **begin** with the character `\".\"` (specifically in this case, the file `\".DS_Store\"` and the directory `\".ipynb_checkpoints\"`). Such files and directories are used by some operating systems to store metadata. These files are not actually a part of your dataset, and must be **ignored**. \n",
    "\n",
    "When you are processing the files in any directory, you **must** always **ignore** such files that begin with the character `\".\"`, as they are not actually files in the directory. You **must** do this every time you use `os.listdir`."
   ]
  },
  {
   "cell_type": "markdown",
   "id": "7885a0a7",
   "metadata": {},
   "source": [
    "**Question 1.2**: List **all** the files and directories in the directory `small_data` that do **not** **start with** the character`\".\"`.\n",
    "\n",
    "Your output **must** be a **list** of **strings**. The order does **not** matter.\n",
    "\n",
    "**Hint:** You can loop through `all_files` and add to a **new list**, only the files which do **not** start with `\".\"`."
   ]
  },
  {
   "cell_type": "code",
   "execution_count": 265,
   "id": "3753387c",
   "metadata": {
    "tags": []
   },
   "outputs": [
    {
     "data": {
      "text/plain": [
       "['mapping_3.json',\n",
       " 'mapping_2.json',\n",
       " 'planets_2.csv',\n",
       " 'planets_3.csv',\n",
       " 'planets_1.csv',\n",
       " 'stars_3.csv',\n",
       " 'stars_2.csv',\n",
       " 'stars_1.csv',\n",
       " 'mapping_1.json']"
      ]
     },
     "execution_count": 265,
     "metadata": {},
     "output_type": "execute_result"
    }
   ],
   "source": [
    "# compute and store the answer in the variable 'actual_files', then display it\n",
    "actual_files = []\n",
    "for file in all_files:\n",
    "    if file[0] != \".\":\n",
    "        actual_files.append(file)\n",
    "actual_files"
   ]
  },
  {
   "cell_type": "code",
   "execution_count": 266,
   "id": "0ab03d2c",
   "metadata": {
    "deletable": false,
    "editable": false
   },
   "outputs": [
    {
     "data": {
      "text/html": [
       "<p><strong><pre style='display: inline;'>q1-2</pre></strong> passed!</p>"
      ],
      "text/plain": [
       "q1-2 results: All test cases passed!"
      ]
     },
     "execution_count": 266,
     "metadata": {},
     "output_type": "execute_result"
    }
   ],
   "source": [
    "grader.check(\"q1-2\")"
   ]
  },
  {
   "cell_type": "markdown",
   "id": "550918c6",
   "metadata": {},
   "source": [
    "**Important Warning:** You are not done yet. Look at the order in which the files in the **list** `actual_files` are stored. The **ordering** of the files in the **list** returned by `os.listdir` **depends on whether you are using a Mac or a Windows computer**. This means that if you write your code on a Windows computer, and then run it on a Mac (or vice versa), the files **will** be sorted in a **different order**. This makes `os.listdir` a little dangerous because you could index or slice this list, and it will always work the same way on your computer, but will **behave differently on another computer**. To avoid these issues, you should **make sure** that you always **sort** the output of `os.listdir` before you use it. This will ensure that the ordering remains consistent across all computers.\n",
    "\n",
    "When you are processing the files in any directory, you **must** always **sort** the output of `os.listdir` first. You **must** do this every time you use `os.listdir`."
   ]
  },
  {
   "cell_type": "markdown",
   "id": "515812a4",
   "metadata": {},
   "source": [
    "**Question 2**: List **all** the files and directories in the directory `small_data` that do **not** **start with** the character`\".\"`, sorted in **alphabetical order**.\n",
    "\n",
    "Your output **must** be a **list** of **strings**, sorted in **alphabetical** order. You must **explicitly** sort the list **even if it sorted by default** on your computer."
   ]
  },
  {
   "cell_type": "code",
   "execution_count": 267,
   "id": "3bfe718f",
   "metadata": {
    "tags": []
   },
   "outputs": [
    {
     "data": {
      "text/plain": [
       "['mapping_1.json',\n",
       " 'mapping_2.json',\n",
       " 'mapping_3.json',\n",
       " 'planets_1.csv',\n",
       " 'planets_2.csv',\n",
       " 'planets_3.csv',\n",
       " 'stars_1.csv',\n",
       " 'stars_2.csv',\n",
       " 'stars_3.csv']"
      ]
     },
     "execution_count": 267,
     "metadata": {},
     "output_type": "execute_result"
    }
   ],
   "source": [
    "# compute and store the answer in the variable 'files_in_small_data', then display it\n",
    "files_in_small_data = sorted(actual_files)\n",
    "files_in_small_data"
   ]
  },
  {
   "cell_type": "code",
   "execution_count": 268,
   "id": "49d0a69c",
   "metadata": {
    "deletable": false,
    "editable": false
   },
   "outputs": [
    {
     "data": {
      "text/html": [
       "<p><strong><pre style='display: inline;'>q2</pre></strong> passed!</p>"
      ],
      "text/plain": [
       "q2 results: All test cases passed!"
      ]
     },
     "execution_count": 268,
     "metadata": {},
     "output_type": "execute_result"
    }
   ],
   "source": [
    "grader.check(\"q2\")"
   ]
  },
  {
   "cell_type": "markdown",
   "id": "789984fb",
   "metadata": {},
   "source": [
    "**Important Warning:** Every time you use `os.listdir`, you **must** **ignore** files and directories that start with `\".\"`, and also **sort** the **list** returned by the function, before you do anything else. Otherwise, you are likely to write code that **works on your computer**, but **crashes on other computers**. Such errors are hard to debug, and you **must** be very careful."
   ]
  },
  {
   "cell_type": "markdown",
   "id": "f9113e36",
   "metadata": {},
   "source": [
    "**Question 3.1**: What is the **path** of the file `stars_1.csv` in the directory `small_data`.\n",
    "\n",
    "You are **allowed** to \"hardcode\" the strings `'small_data'` and `'stars_1.csv'` to answer this question.\n",
    "\n",
    "**Warnings:**\n",
    "\n",
    "1. You **must not** hardcode the **absolute path** of any file in your code. For instance, the **absolute path** of this file `stars_1.csv` could be: `C:\\Users\\ms\\cs220\\lab-p10\\small_data\\stars_1.csv`. However, if you hardcode this path in your code, it will **only work on your computer**. In this case, since the notebook `practice.ipynb` is stored in the path `C:\\Users\\ms\\cs220\\lab-p10`, the **relative path** of the file is `small_data\\stars_1.csv`, and this is the path that **must** be used, if you want your code to work on all computers.\n",
    "2. You **must not** hardcode either the character `\"\\\"` or the character `\"/\"` in your paths. If you do so, your code will **crash** when it runs on a **different operating system**. You **must** use the `os.path.join` function to create paths."
   ]
  },
  {
   "cell_type": "code",
   "execution_count": 269,
   "id": "276c8680",
   "metadata": {
    "tags": []
   },
   "outputs": [
    {
     "data": {
      "text/plain": [
       "'small_data/stars_1.csv'"
      ]
     },
     "execution_count": 269,
     "metadata": {},
     "output_type": "execute_result"
    }
   ],
   "source": [
    "# we have done this one for you\n",
    "\n",
    "stars_1_path = os.path.join(\"small_data\", \"stars_1.csv\")\n",
    "\n",
    "stars_1_path"
   ]
  },
  {
   "cell_type": "code",
   "execution_count": 270,
   "id": "ecd10b0e",
   "metadata": {
    "deletable": false,
    "editable": false
   },
   "outputs": [
    {
     "data": {
      "text/html": [
       "<p><strong><pre style='display: inline;'>q3-1</pre></strong> passed!</p>"
      ],
      "text/plain": [
       "q3-1 results: All test cases passed!"
      ]
     },
     "execution_count": 270,
     "metadata": {},
     "output_type": "execute_result"
    }
   ],
   "source": [
    "grader.check(\"q3-1\")"
   ]
  },
  {
   "cell_type": "markdown",
   "id": "b7163958",
   "metadata": {},
   "source": [
    "**Question 3.2**: List the **relative paths** of **all** the files in the directory `small_data`.\n",
    "\n",
    "Your output **must** be a **list** of **strings**. You must **ignore** files that **start with** the character`\".\"`, and your output **must** be **explicitly** sorted in **alphabetical order**.\n",
    "\n",
    "You are **allowed** to \"hardcode\" the name of the directory `small_data` to answer this question.\n",
    "\n",
    "**Warnings:**\n",
    "\n",
    "1. You **must not** hardcode the **absolute path** of any file in your code. You must use the **relative path** of the files.\n",
    "2. You **must not** hardcode either the character `\"\\\"` or the character `\"/\"` in your paths. You **must** use the `os.path.join` function to create paths.\n",
    "3. You **must explicitly** sort your list of paths.\n",
    "\n",
    "**Hint:** You can start with the list `files_in_small_data`, which already contains the necessary files in the correct order."
   ]
  },
  {
   "cell_type": "code",
   "execution_count": 2,
   "id": "6f0021ac",
   "metadata": {
    "tags": []
   },
   "outputs": [
    {
     "ename": "NameError",
     "evalue": "name 'os' is not defined",
     "output_type": "error",
     "traceback": [
      "\u001b[0;31m---------------------------------------------------------------------------\u001b[0m",
      "\u001b[0;31mNameError\u001b[0m                                 Traceback (most recent call last)",
      "Input \u001b[0;32mIn [2]\u001b[0m, in \u001b[0;36m<cell line: 2>\u001b[0;34m()\u001b[0m\n\u001b[1;32m      1\u001b[0m \u001b[38;5;66;03m# compute and store the answer in the variable 'p_aths_in_small_data', then display it\u001b[39;00m\n\u001b[0;32m----> 2\u001b[0m mapping_1_path \u001b[38;5;241m=\u001b[39m \u001b[43mos\u001b[49m\u001b[38;5;241m.\u001b[39mpath\u001b[38;5;241m.\u001b[39mjoin(\u001b[38;5;124m\"\u001b[39m\u001b[38;5;124msmall_data\u001b[39m\u001b[38;5;124m\"\u001b[39m, \u001b[38;5;124m'\u001b[39m\u001b[38;5;124mmapping_1.json\u001b[39m\u001b[38;5;124m'\u001b[39m)\n\u001b[1;32m      3\u001b[0m mapping_1_path\n\u001b[1;32m      5\u001b[0m paths_in_small_data \u001b[38;5;241m=\u001b[39m []\n",
      "\u001b[0;31mNameError\u001b[0m: name 'os' is not defined"
     ]
    }
   ],
   "source": [
    "# compute and store the answer in the variable 'p_aths_in_small_data', then display it\n",
    "mapping_1_path = os.path.join(\"small_data\", 'mapping_1.json')\n",
    "mapping_1_path\n",
    "\n",
    "paths_in_small_data = []\n",
    "for file in files_in_small_data:\n",
    "    path = os.path.join(\"sm｀｀all_data\", file)\n",
    "    paths_in_small_data.append(path)\n",
    "\n",
    "paths_in_small_data"
   ]
  },
  {
   "cell_type": "code",
   "execution_count": 272,
   "id": "cdde4405",
   "metadata": {
    "deletable": false,
    "editable": false
   },
   "outputs": [
    {
     "data": {
      "text/html": [
       "<p><strong><pre style='display: inline;'>q3-2</pre></strong> passed!</p>"
      ],
      "text/plain": [
       "q3-2 results: All test cases passed!"
      ]
     },
     "execution_count": 272,
     "metadata": {},
     "output_type": "execute_result"
    }
   ],
   "source": [
    "grader.check(\"q3-2\")"
   ]
  },
  {
   "cell_type": "markdown",
   "id": "129e1121",
   "metadata": {},
   "source": [
    "**Question 4.1**: List the **paths** of **all** the JSON files in the directory `small_data`.\n",
    "\n",
    "Your output **must** be a **list** of **strings**. You must **ignore** files that **start with** the character`\".\"`, and your output **must** be **explicitly** sorted in **alphabetical order**.\n",
    "\n",
    "**Hint:** You can identify the JSON files as the files which end with the string `\".json\"`. You can also start with the list `files_in_small_data`, which already contains the necessary files in the correct order."
   ]
  },
  {
   "cell_type": "code",
   "execution_count": 273,
   "id": "0158e761",
   "metadata": {
    "tags": []
   },
   "outputs": [
    {
     "data": {
      "text/plain": [
       "['small_data/mapping_1.json',\n",
       " 'small_data/mapping_2.json',\n",
       " 'small_data/mapping_3.json']"
      ]
     },
     "execution_count": 273,
     "metadata": {},
     "output_type": "execute_result"
    }
   ],
   "source": [
    "# compute and store the answer in the variable 'json_paths', then display it\n",
    "json_paths = []\n",
    "for path in paths_in_small_data:\n",
    "    if \"json\" in path:\n",
    "        json_paths.append(path)\n",
    "json_paths"
   ]
  },
  {
   "cell_type": "code",
   "execution_count": 274,
   "id": "4e30a329",
   "metadata": {
    "deletable": false,
    "editable": false
   },
   "outputs": [
    {
     "data": {
      "text/html": [
       "<p><strong><pre style='display: inline;'>q4-1</pre></strong> passed!</p>"
      ],
      "text/plain": [
       "q4-1 results: All test cases passed!"
      ]
     },
     "execution_count": 274,
     "metadata": {},
     "output_type": "execute_result"
    }
   ],
   "source": [
    "grader.check(\"q4-1\")"
   ]
  },
  {
   "cell_type": "markdown",
   "id": "70f67434",
   "metadata": {},
   "source": [
    "**Question 4.2**: List the **paths** of **all** the files in the directory `small_data`, whose filename starts with `\"stars\"`.\n",
    "\n",
    "Your output **must** be a **list** of **strings**. You must **ignore** files that **start with** the character`\".\"`, and your output **must** sorted in **alphabetical order**."
   ]
  },
  {
   "cell_type": "code",
   "execution_count": 275,
   "id": "613f3896",
   "metadata": {
    "tags": []
   },
   "outputs": [],
   "source": [
    "# compute and store the answer in the variable 'stars_paths', then display it\n",
    "stars_paths = []\n",
    "for path in paths_in_small_data:\n",
    "    if \"stars\" in path:\n",
    "        stars_paths.append(path)"
   ]
  },
  {
   "cell_type": "code",
   "execution_count": 276,
   "id": "9c8e1f17",
   "metadata": {
    "deletable": false,
    "editable": false
   },
   "outputs": [
    {
     "data": {
      "text/html": [
       "<p><strong><pre style='display: inline;'>q4-2</pre></strong> passed!</p>"
      ],
      "text/plain": [
       "q4-2 results: All test cases passed!"
      ]
     },
     "execution_count": 276,
     "metadata": {},
     "output_type": "execute_result"
    }
   ],
   "source": [
    "grader.check(\"q4-2\")"
   ]
  },
  {
   "cell_type": "markdown",
   "id": "971cc33a",
   "metadata": {},
   "source": [
    "## Segment 3: Creating Namedtuples\n",
    "\n",
    "In p10, you will be reading the data in files similar to `stars_1.csv`, `stars_2.csv`, and `stars_3.csv`, and storing the data as a **dictionary** of **namedtuples**. Now would be a great time to practice creating similar data structues."
   ]
  },
  {
   "cell_type": "markdown",
   "id": "51dfa98b",
   "metadata": {},
   "source": [
    "### Data Structure 1: namedtuple `Star`\n",
    "\n",
    "We will now create a new `Star` type (using namedtuple). It **must** have the following attributes:\n",
    "\n",
    "* `spectral_type`,\n",
    "* `stellar_effective_temperature`,\n",
    "* `stellar_radius`,\n",
    "* `stellar_mass`,\n",
    "* `stellar_luminosity`,\n",
    "* `stellar_surface_gravity`,\n",
    "* `stellar_age`."
   ]
  },
  {
   "cell_type": "code",
   "execution_count": 189,
   "id": "0b182b3b",
   "metadata": {},
   "outputs": [],
   "source": [
    "# we have done this one for you\n",
    "\n",
    "# define the list of attributes we want in our namedtuple\n",
    "star_attributes = ['spectral_type',\n",
    "                  'stellar_effective_temperature',\n",
    "                  'stellar_radius',\n",
    "                  'stellar_mass',\n",
    "                  'stellar_luminosity',\n",
    "                  'stellar_surface_gravity',\n",
    "                  'stellar_age']\n",
    "\n",
    "# create the namedtuple type 'Star' with the correct attributes\n",
    "Star = namedtuple(\"Star\", star_attributes)"
   ]
  },
  {
   "cell_type": "markdown",
   "id": "2b36a3bc",
   "metadata": {},
   "source": [
    "If you are unsure of what happened in the previous cell, it is **strongly** recommended that you review the lecture slides from October 24 on [Objects & Tuples](https://cs220.cs.wisc.edu/f22/materials/lecture_ppts/lec_20_F22.pdf). Let us now test whether we have defined the namedtuple properly by creating a `Star` object."
   ]
  },
  {
   "cell_type": "code",
   "execution_count": 190,
   "id": "5abdff33",
   "metadata": {
    "tags": []
   },
   "outputs": [
    {
     "data": {
      "text/plain": [
       "Star(spectral_type='G2 V', stellar_effective_temperature=5780.0, stellar_radius=1.0, stellar_mass=1.0, stellar_luminosity=0.0, stellar_surface_gravity=4.44, stellar_age=4.6)"
      ]
     },
     "execution_count": 190,
     "metadata": {},
     "output_type": "execute_result"
    }
   ],
   "source": [
    "# run this following cell to initialize and test an example Star object\n",
    "\n",
    "sun = Star('G2 V', 5780.0, 1.0, 1.0, 0.0, 4.44, 4.6)\n",
    "\n",
    "sun"
   ]
  },
  {
   "cell_type": "code",
   "execution_count": 191,
   "id": "a8605263",
   "metadata": {
    "deletable": false,
    "editable": false
   },
   "outputs": [
    {
     "data": {
      "text/html": [
       "<p><strong><pre style='display: inline;'>star_object</pre></strong> passed!</p>"
      ],
      "text/plain": [
       "star_object results: All test cases passed!"
      ]
     },
     "execution_count": 191,
     "metadata": {},
     "output_type": "execute_result"
    }
   ],
   "source": [
    "grader.check(\"star_object\")"
   ]
  },
  {
   "cell_type": "markdown",
   "id": "c7554317",
   "metadata": {},
   "source": [
    "### Segment 3.1: Creating `Star` objects from `stars_1.csv`\n",
    "\n",
    "Now that we have created the `Star` namedtuple, our next objective will be to read the files `stars_1.csv`, `stars_2.csv`, and `stars_3.csv` and create `Star` objects out of all the stars in there. In order to process the CSV files, you will first need to copy/paste the `process_csv` function you have been using since p6."
   ]
  },
  {
   "cell_type": "code",
   "execution_count": 192,
   "id": "1ce96c25",
   "metadata": {
    "tags": []
   },
   "outputs": [],
   "source": [
    "# copy & paste the process_csv file from previous projects here\n",
    "def process_csv(filename):\n",
    "    example_file = open(filename, encoding=\"utf-8\")\n",
    "    example_reader = csv.reader(example_file)\n",
    "    example_data = list(example_reader)\n",
    "    example_file.close()\n",
    "    return example_data"
   ]
  },
  {
   "cell_type": "markdown",
   "id": "a0c7fb11",
   "metadata": {},
   "source": [
    "You are now ready to read the data in `stars_1.csv` using `process_csv` and convert the data into `Star` objects. In the cell below, you **must** read the data in `stars_1.csv` and extract the **header** and the non-header **rows** of the file."
   ]
  },
  {
   "cell_type": "code",
   "execution_count": 193,
   "id": "b39d817c",
   "metadata": {
    "tags": []
   },
   "outputs": [
    {
     "data": {
      "text/plain": [
       "[['55 Cnc', 'G8V', '5172.00', '0.94', '0.91', '-0.197', '4.43', '10.200'],\n",
       " ['DMPP-1', 'F8 V', '6196.00', '1.26', '1.21', '0.320', '4.41', '2.010'],\n",
       " ['GJ 876', 'M2.5V', '3271.00', '0.30', '0.32', '-1.907', '4.87', '1.000']]"
      ]
     },
     "execution_count": 193,
     "metadata": {},
     "output_type": "execute_result"
    }
   ],
   "source": [
    "# replace the ... with your code\n",
    "\n",
    "stars_1_csv = process_csv(os.path.join(\"small_data\", \"stars_1.csv\")) # read the data in 'stars_1.csv'\n",
    "stars_header = stars_1_csv[0]\n",
    "stars_1_rows = stars_1_csv[1:]\n",
    "stars_1_rows"
   ]
  },
  {
   "cell_type": "markdown",
   "id": "b072bba3",
   "metadata": {},
   "source": [
    "If you wish to **verify** that you have read the file and defined the variables correctly, you can check that `stars_header` has the value:\n",
    "\n",
    "```python\n",
    "['Name', 'Spectral Type', 'Stellar Effective Temperature [K]', 'Stellar Radius [Solar Radius]', \n",
    " 'Stellar Mass [Solar mass]', 'Stellar Luminosity [log(Solar)]', 'Stellar Surface Gravity [log10(cm/s**2)]',\n",
    " 'Stellar Age [Gyr]']\n",
    "```\n",
    "\n",
    "and that `stars_1_rows` has the value:\n",
    "\n",
    "```python\n",
    "[['55 Cnc', 'G8V', '5172.00', '0.94', '0.91', '-0.197', '4.43', '10.200'],\n",
    " ['DMPP-1', 'F8 V', '6196.00', '1.26', '1.21', '0.320', '4.41', '2.010'],\n",
    " ['GJ 876', 'M2.5V', '3271.00', '0.30', '0.32', '-1.907', '4.87', '1.000']]\n",
    "```"
   ]
  },
  {
   "cell_type": "markdown",
   "id": "743b8b48",
   "metadata": {},
   "source": [
    "**Question 5**: Create a `Star` object for the **first** star in `\"stars_1.csv\"`.\n",
    "\n",
    "The **attribute** of the `Star` namedtuple object, the corresponding **column** of the `stars_1.csv` file where the value should be obtained from, and the correct **data type** for the value are listed in the table below:\n",
    "\n",
    "|Attribute of `Star` object|Column of `stars_1.csv`|Data Type|\n",
    "|---------|------|---------|\n",
    "|`spectral_type`|Spectral Type|**string**|\n",
    "|`stellar_effective_temperature`|Stellar Effective Temperature [K]|**float**|\n",
    "|`stellar_radius`|Stellar Radius [Solar Radius]|**float**|\n",
    "|`stellar_mass`|Stellar Mass [Solar mass]|**float**|\n",
    "|`stellar_luminosity`|Stellar Luminosity [log(Solar)]|**float**|\n",
    "|`stellar_surface_gravity`|Stellar Surface Gravity [log10(cm/s**2)]|**float**|\n",
    "|`stellar_age`|Stellar Age [Gyr]|**float**|"
   ]
  },
  {
   "cell_type": "code",
   "execution_count": 194,
   "id": "403e9a5d",
   "metadata": {
    "tags": []
   },
   "outputs": [
    {
     "data": {
      "text/plain": [
       "Star(spectral_type='G8V', stellar_effective_temperature=5172.0, stellar_radius=0.94, stellar_mass=0.91, stellar_luminosity=-0.197, stellar_surface_gravity=4.43, stellar_age=10.2)"
      ]
     },
     "execution_count": 194,
     "metadata": {},
     "output_type": "execute_result"
    }
   ],
   "source": [
    "# replace the ... with your code\n",
    "\n",
    "row_idx = 0 # the index of the star we want to convert into a Star object\n",
    "\n",
    "# extract the values from stars_1_rows\n",
    "spectral_type = stars_1_rows[row_idx][stars_header.index('Spectral Type')]\n",
    "stellar_effective_temperature = float(stars_1_rows[row_idx][stars_header.index('Stellar Effective Temperature [K]')])\n",
    "stellar_radius = float(stars_1_rows[row_idx][stars_header.index('Stellar Radius [Solar Radius]')])\n",
    "stellar_mass = float(stars_1_rows[row_idx][stars_header.index('Stellar Mass [Solar mass]')])\n",
    "stellar_luminosity = float(stars_1_rows[row_idx][stars_header.index('Stellar Luminosity [log(Solar)]')])\n",
    "stellar_surface_gravity = float(stars_1_rows[row_idx][stars_header.index('Stellar Surface Gravity [log10(cm/s**2)]')])\n",
    "stellar_age = float(stars_1_rows[row_idx][stars_header.index('Stellar Age [Gyr]')]) # extract the value in the column 'Stellar Age [Gyr]' and typecast\n",
    "\n",
    "# we have initialized 'first_star' for you\n",
    "first_star = Star(spectral_type, stellar_effective_temperature, stellar_radius, \\\n",
    "                  stellar_mass, stellar_luminosity, \\\n",
    "                  stellar_surface_gravity, stellar_age)\n",
    "\n",
    "first_star"
   ]
  },
  {
   "cell_type": "code",
   "execution_count": 195,
   "id": "7edf51cb",
   "metadata": {
    "deletable": false,
    "editable": false
   },
   "outputs": [
    {
     "data": {
      "text/html": [
       "<p><strong><pre style='display: inline;'>q5</pre></strong> passed!</p>"
      ],
      "text/plain": [
       "q5 results: All test cases passed!"
      ]
     },
     "execution_count": 195,
     "metadata": {},
     "output_type": "execute_result"
    }
   ],
   "source": [
    "grader.check(\"q5\")"
   ]
  },
  {
   "cell_type": "markdown",
   "id": "76c0bd4a",
   "metadata": {},
   "source": [
    "**Question 6**: Create a `Star` object for the **second** star in `\"stars_1.csv\"`.\n",
    "\n",
    "You **must** create the `Star` object similarly to what you did in the previous question."
   ]
  },
  {
   "cell_type": "code",
   "execution_count": 196,
   "id": "d89ecde2",
   "metadata": {
    "tags": []
   },
   "outputs": [
    {
     "data": {
      "text/plain": [
       "Star(spectral_type='F8 V', stellar_effective_temperature=6196.0, stellar_radius=1.26, stellar_mass=1.21, stellar_luminosity=0.32, stellar_surface_gravity=4.41, stellar_age=2.01)"
      ]
     },
     "execution_count": 196,
     "metadata": {},
     "output_type": "execute_result"
    }
   ],
   "source": [
    "# compute and store the answer in the variable 'second_star', then display it\n",
    "row_idx = 1 # the index of the star we want to convert into a Star object\n",
    "\n",
    "# extract the values from stars_1_rows\n",
    "spectral_type = stars_1_rows[row_idx][stars_header.index('Spectral Type')]\n",
    "stellar_effective_temperature = float(stars_1_rows[row_idx][stars_header.index('Stellar Effective Temperature [K]')])\n",
    "stellar_radius = float(stars_1_rows[row_idx][stars_header.index('Stellar Radius [Solar Radius]')])\n",
    "stellar_mass = float(stars_1_rows[row_idx][stars_header.index('Stellar Mass [Solar mass]')])\n",
    "stellar_luminosity = float(stars_1_rows[row_idx][stars_header.index('Stellar Luminosity [log(Solar)]')])\n",
    "stellar_surface_gravity = float(stars_1_rows[row_idx][stars_header.index('Stellar Surface Gravity [log10(cm/s**2)]')])\n",
    "stellar_age = float(stars_1_rows[row_idx][stars_header.index('Stellar Age [Gyr]')]) # extract the value in the column 'Stellar Age [Gyr]' and typecast\n",
    "\n",
    "# we have initialized 'first_star' for you\n",
    "second_star = Star(spectral_type, stellar_effective_temperature, stellar_radius, \\\n",
    "                  stellar_mass, stellar_luminosity, \\\n",
    "                  stellar_surface_gravity, stellar_age)\n",
    "\n",
    "second_star"
   ]
  },
  {
   "cell_type": "code",
   "execution_count": 197,
   "id": "3e619fa1",
   "metadata": {
    "deletable": false,
    "editable": false
   },
   "outputs": [
    {
     "data": {
      "text/html": [
       "<p><strong><pre style='display: inline;'>q6</pre></strong> passed!</p>"
      ],
      "text/plain": [
       "q6 results: All test cases passed!"
      ]
     },
     "execution_count": 197,
     "metadata": {},
     "output_type": "execute_result"
    }
   ],
   "source": [
    "grader.check(\"q6\")"
   ]
  },
  {
   "cell_type": "markdown",
   "id": "d3c299e0",
   "metadata": {},
   "source": [
    "**Question 7.1**: What is the `spectral_type` of the **second** star in `\"stars_1.csv\"`?\n",
    "\n",
    "You **must** answer this question by accessing the correct **attribute** of the `Star` object `second_star`."
   ]
  },
  {
   "cell_type": "code",
   "execution_count": 198,
   "id": "f17662cb",
   "metadata": {
    "tags": []
   },
   "outputs": [
    {
     "data": {
      "text/plain": [
       "'F8 V'"
      ]
     },
     "execution_count": 198,
     "metadata": {},
     "output_type": "execute_result"
    }
   ],
   "source": [
    "# we have done this one for you\n",
    "\n",
    "second_star_spectral_type = second_star.spectral_type\n",
    "\n",
    "second_star_spectral_type"
   ]
  },
  {
   "cell_type": "code",
   "execution_count": 199,
   "id": "47290b27",
   "metadata": {
    "deletable": false,
    "editable": false
   },
   "outputs": [
    {
     "data": {
      "text/html": [
       "<p><strong><pre style='display: inline;'>q7-1</pre></strong> passed!</p>"
      ],
      "text/plain": [
       "q7-1 results: All test cases passed!"
      ]
     },
     "execution_count": 199,
     "metadata": {},
     "output_type": "execute_result"
    }
   ],
   "source": [
    "grader.check(\"q7-1\")"
   ]
  },
  {
   "cell_type": "markdown",
   "id": "e362fc58",
   "metadata": {},
   "source": [
    "**Question 7.2**: What is the `stellar_age` of the **first** star in `\"stars_1.csv\"`?\n",
    "\n",
    "You **must** answer this question by accessing the correct **attribute** of the `Star` object `first_star`."
   ]
  },
  {
   "cell_type": "code",
   "execution_count": 200,
   "id": "fda919e0",
   "metadata": {
    "tags": []
   },
   "outputs": [],
   "source": [
    "# compute and store the answer in the variable 'first_star_stellar_age', then display it\n",
    "first_star_stellar_age = first_star.stellar_age"
   ]
  },
  {
   "cell_type": "code",
   "execution_count": 201,
   "id": "8559b368",
   "metadata": {
    "deletable": false,
    "editable": false
   },
   "outputs": [
    {
     "data": {
      "text/html": [
       "<p><strong><pre style='display: inline;'>q7-2</pre></strong> passed!</p>"
      ],
      "text/plain": [
       "q7-2 results: All test cases passed!"
      ]
     },
     "execution_count": 201,
     "metadata": {},
     "output_type": "execute_result"
    }
   ],
   "source": [
    "grader.check(\"q7-2\")"
   ]
  },
  {
   "cell_type": "markdown",
   "id": "d6ab4672",
   "metadata": {},
   "source": [
    "**Question 8**: Create a **dictionary** mapping the `name` of each star in `\"stars_1.csv\"` to its `Star` object.\n",
    "\n",
    "Your output **must** look like this:\n",
    "```python\n",
    "{'55 Cnc': Star(spectral_type='G8V', stellar_effective_temperature=5172.0, stellar_radius=0.94, \n",
    "                stellar_mass=0.91, stellar_luminosity=-0.197, stellar_surface_gravity=4.43, stellar_age=10.2),\n",
    " 'DMPP-1': Star(spectral_type='F8 V', stellar_effective_temperature=6196.0, stellar_radius=1.26, \n",
    "                stellar_mass=1.21, stellar_luminosity=0.32, stellar_surface_gravity=4.41, stellar_age=2.01),\n",
    " 'GJ 876': Star(spectral_type='M2.5V', stellar_effective_temperature=3271.0, stellar_radius=0.3, \n",
    "                stellar_mass=0.32, stellar_luminosity=-1.907, stellar_surface_gravity=4.87, stellar_age=1.0)}\n",
    "```"
   ]
  },
  {
   "cell_type": "code",
   "execution_count": 202,
   "id": "5588463a",
   "metadata": {
    "tags": []
   },
   "outputs": [
    {
     "data": {
      "text/plain": [
       "{'55 Cnc': Star(spectral_type='G8V', stellar_effective_temperature=5172.0, stellar_radius=0.94, stellar_mass=0.91, stellar_luminosity=-0.197, stellar_surface_gravity=4.43, stellar_age=10.2),\n",
       " 'DMPP-1': Star(spectral_type='F8 V', stellar_effective_temperature=6196.0, stellar_radius=1.26, stellar_mass=1.21, stellar_luminosity=0.32, stellar_surface_gravity=4.41, stellar_age=2.01),\n",
       " 'GJ 876': Star(spectral_type='M2.5V', stellar_effective_temperature=3271.0, stellar_radius=0.3, stellar_mass=0.32, stellar_luminosity=-1.907, stellar_surface_gravity=4.87, stellar_age=1.0)}"
      ]
     },
     "execution_count": 202,
     "metadata": {},
     "output_type": "execute_result"
    }
   ],
   "source": [
    "# replace the ... with your code\n",
    "\n",
    "stars_1_dict = {} # initialize empty dictionary to store all stars\n",
    "\n",
    "for row_idx in range(len(stars_1_rows)):\n",
    "    star_name = stars_1_rows[row_idx][stars_header.index('Name')]\n",
    "    spectral_type = stars_1_rows[row_idx][stars_header.index('Spectral Type')]\n",
    "    stellar_effective_temperature = float(stars_1_rows[row_idx][stars_header.index('Stellar Effective Temperature [K]')])\n",
    "    stellar_radius = float(stars_1_rows[row_idx][stars_header.index('Stellar Radius [Solar Radius]')]) # extract the value in the column 'Stellar Radius [Solar Radius]' and typecast\n",
    "    stellar_mass = float(stars_1_rows[row_idx][stars_header.index('Stellar Mass [Solar mass]')]) # extract the value in the column 'Stellar Mass [Solar mass]' and typecast\n",
    "    stellar_luminosity =  float(stars_1_rows[row_idx][stars_header.index('Stellar Luminosity [log(Solar)]')]) # extract the value in the column 'Stellar Luminosity [log(Solar)]' and typecast\n",
    "    stellar_surface_gravity = float(stars_1_rows[row_idx][stars_header.index('Stellar Surface Gravity [log10(cm/s**2)]')]) # extract the value in the column 'Stellar Surface Gravity [log10(cm/s**2)]' and typecast\n",
    "    stellar_age = float(stars_1_rows[row_idx][stars_header.index('Stellar Age [Gyr]')]) # extract the value in the column 'Stellar Age [Gyr]' and typecast\n",
    "    \n",
    "    star = Star(spectral_type, stellar_effective_temperature, stellar_radius, \n",
    "                stellar_mass, stellar_luminosity, stellar_surface_gravity, stellar_age) # initialize the 'Star' object using the variables defined above\n",
    "    stars_1_dict[star_name] = star\n",
    "\n",
    "stars_1_dict"
   ]
  },
  {
   "cell_type": "code",
   "execution_count": 203,
   "id": "4166b010",
   "metadata": {
    "tags": []
   },
   "outputs": [
    {
     "data": {
      "text/plain": [
       "[['55 Cnc', 'G8V', '5172.00', '0.94', '0.91', '-0.197', '4.43', '10.200'],\n",
       " ['DMPP-1', 'F8 V', '6196.00', '1.26', '1.21', '0.320', '4.41', '2.010'],\n",
       " ['GJ 876', 'M2.5V', '3271.00', '0.30', '0.32', '-1.907', '4.87', '1.000']]"
      ]
     },
     "execution_count": 203,
     "metadata": {},
     "output_type": "execute_result"
    }
   ],
   "source": [
    "stars_1_rows"
   ]
  },
  {
   "cell_type": "code",
   "execution_count": 204,
   "id": "3c668680",
   "metadata": {
    "deletable": false,
    "editable": false
   },
   "outputs": [
    {
     "data": {
      "text/html": [
       "<p><strong><pre style='display: inline;'>q8</pre></strong> passed!</p>"
      ],
      "text/plain": [
       "q8 results: All test cases passed!"
      ]
     },
     "execution_count": 204,
     "metadata": {},
     "output_type": "execute_result"
    }
   ],
   "source": [
    "grader.check(\"q8\")"
   ]
  },
  {
   "cell_type": "markdown",
   "id": "d1617c0d",
   "metadata": {},
   "source": [
    "**Question 9.1**: What is the `Star` object of the star (in `stars_1.csv`) named *GJ 876*?\n",
    "\n",
    "You **must** access the `Star` object in `stars_1_dict` **dictionary** defined above to answer this question."
   ]
  },
  {
   "cell_type": "code",
   "execution_count": 205,
   "id": "6770d1b5",
   "metadata": {},
   "outputs": [
    {
     "data": {
      "text/plain": [
       "[['55 Cnc', 'G8V', '5172.00', '0.94', '0.91', '-0.197', '4.43', '10.200'],\n",
       " ['DMPP-1', 'F8 V', '6196.00', '1.26', '1.21', '0.320', '4.41', '2.010'],\n",
       " ['GJ 876', 'M2.5V', '3271.00', '0.30', '0.32', '-1.907', '4.87', '1.000']]"
      ]
     },
     "execution_count": 205,
     "metadata": {},
     "output_type": "execute_result"
    }
   ],
   "source": [
    "stars_1_rows"
   ]
  },
  {
   "cell_type": "code",
   "execution_count": 206,
   "id": "d3f44647",
   "metadata": {
    "tags": []
   },
   "outputs": [
    {
     "data": {
      "text/plain": [
       "Star(spectral_type='M2.5V', stellar_effective_temperature=3271.0, stellar_radius=0.3, stellar_mass=0.32, stellar_luminosity=-1.907, stellar_surface_gravity=4.87, stellar_age=1.0)"
      ]
     },
     "execution_count": 206,
     "metadata": {},
     "output_type": "execute_result"
    }
   ],
   "source": [
    "# compute and store the answer in the variable 'gj_876', then display it\n",
    "gj_876 = stars_1_dict['GJ 876']\n",
    "gj_876"
   ]
  },
  {
   "cell_type": "code",
   "execution_count": 207,
   "id": "90a733b5",
   "metadata": {
    "deletable": false,
    "editable": false
   },
   "outputs": [
    {
     "data": {
      "text/html": [
       "<p><strong><pre style='display: inline;'>q9-1</pre></strong> passed!</p>"
      ],
      "text/plain": [
       "q9-1 results: All test cases passed!"
      ]
     },
     "execution_count": 207,
     "metadata": {},
     "output_type": "execute_result"
    }
   ],
   "source": [
    "grader.check(\"q9-1\")"
   ]
  },
  {
   "cell_type": "markdown",
   "id": "eb95b63f",
   "metadata": {},
   "source": [
    "**Question 9.2**: What is the `stellar_luminosity` of the star (in `stars_1.csv`) named *GJ 876*?\n",
    "\n",
    "You **must** access the `Star` object in `stars_1_dict` **dictionary** defined above to answer this question."
   ]
  },
  {
   "cell_type": "code",
   "execution_count": 208,
   "id": "5fd3332c",
   "metadata": {
    "tags": []
   },
   "outputs": [
    {
     "data": {
      "text/plain": [
       "-1.907"
      ]
     },
     "execution_count": 208,
     "metadata": {},
     "output_type": "execute_result"
    }
   ],
   "source": [
    "# compute and store the answer in the variable 'gj_876_luminosity', then display it\n",
    "gj_876_luminosity = gj_876.stellar_luminosity\n",
    "gj_876_luminosity"
   ]
  },
  {
   "cell_type": "code",
   "execution_count": 209,
   "id": "c99211c0",
   "metadata": {
    "deletable": false,
    "editable": false
   },
   "outputs": [
    {
     "data": {
      "text/html": [
       "<p><strong><pre style='display: inline;'>q9-2</pre></strong> passed!</p>"
      ],
      "text/plain": [
       "q9-2 results: All test cases passed!"
      ]
     },
     "execution_count": 209,
     "metadata": {},
     "output_type": "execute_result"
    }
   ],
   "source": [
    "grader.check(\"q9-2\")"
   ]
  },
  {
   "cell_type": "markdown",
   "id": "b4197140",
   "metadata": {},
   "source": [
    "### Segment 3.2: Data Cleaning - missing data\n",
    "\n",
    "We have already parsed the data in `stars_1.csv`. We are now ready to parse the data in **all** the star files of the `small_data` directory. However, there is one minor inconvenience - there is some missing data in `stars_2.csv` and `stars_3.csv`. For example, this is the **first** row of `stars_2.csv`:\n",
    "\n",
    "```python\n",
    "['HD 158259', 'G0', '5801.89', '1.21', '1.08', '0.212', '4.25', '']\n",
    "```\n",
    "\n",
    "As you can see, the value of the last column (`Stellar Age [Gyr]`) is `''`, which means that the data is missing. When the data is missing, we will want the value of the corresponding attribute in the `Star` object to be `None`.\n",
    "\n",
    "So, for example, if we are to convert the row above to be a `Star` object, it should look like:\n",
    "\n",
    "```python\n",
    "Star(spectral_type='G0', stellar_effective_temperature=5801.89, stellar_radius=1.21, stellar_mass=1.08,\n",
    "     stellar_luminosity=0.212, stellar_surface_gravity=4.25, stellar_age=None)\n",
    "```"
   ]
  },
  {
   "cell_type": "markdown",
   "id": "5cc944fd",
   "metadata": {},
   "source": [
    "### Function 1: `star_cell(row_idx, col_name, stars_rows, header=stars_header)`\n",
    "\n",
    "Since we need to clean the values of the **list** of **lists** `stars_rows` before we can create our requried data structure (**dictionary** mapping **strings** to `Star` objects), now would be a good time to create a function that takes in a `row_idx`, a `col_name` and a **list** of **lists** `stars_rows` (as well as the optional argument `header`) and returns the value of the column `col_name` at the row `row_idx`.\n",
    "\n",
    "This function **must** typecast the values it returns based on the `col_name`. If the value in `stars_rows` is missing (i.e., it is `''`), then the value returned **must** be `None`.\n",
    "\n",
    "Recall that the **column** of `stars_rows` where the value should be obtained from, and the correct **data type** for the value are listed in the table below:\n",
    "\n",
    "|Column of `stars_rows`|Data Type|\n",
    "|------|---------|\n",
    "|Spectral Type|**string**|\n",
    "|Stellar Effective Temperature [K]|**float**|\n",
    "|Stellar Radius [Solar Radius]|**float**|\n",
    "|Stellar Mass [Solar mass]|**float**|\n",
    "|Stellar Luminosity [log(Solar)]|**float**|\n",
    "|Stellar Surface Gravity [log10(cm/s**2)]|**float**|\n",
    "|Stellar Age [Gyr]|**float**|\n",
    "\n",
    "**Hint:** You can use the `cell` function defined in p6 and p7 for inspiration here. Note that unlike previous `cell` functions, in this function, the **list** of **lists** is also included as one of the arguments to the function."
   ]
  },
  {
   "cell_type": "code",
   "execution_count": 210,
   "id": "9872b141",
   "metadata": {},
   "outputs": [
    {
     "data": {
      "text/plain": [
       "[['55 Cnc', 'G8V', '5172.00', '0.94', '0.91', '-0.197', '4.43', '10.200'],\n",
       " ['DMPP-1', 'F8 V', '6196.00', '1.26', '1.21', '0.320', '4.41', '2.010'],\n",
       " ['GJ 876', 'M2.5V', '3271.00', '0.30', '0.32', '-1.907', '4.87', '1.000']]"
      ]
     },
     "execution_count": 210,
     "metadata": {},
     "output_type": "execute_result"
    }
   ],
   "source": [
    "stars_1_rows"
   ]
  },
  {
   "cell_type": "code",
   "execution_count": 211,
   "id": "51e6ebdd",
   "metadata": {
    "tags": []
   },
   "outputs": [],
   "source": [
    "# replace the ... with your code\n",
    "# the default argument to the parameter 'header' is the global variable 'stars_header' defined above\n",
    "def star_cell(row_idx, col_name, stars_rows, header=stars_header):\n",
    "    col_idx = header.index(col_name)\n",
    "    val = stars_rows[row_idx][col_idx]\n",
    "    if val == \"\":\n",
    "        return None\n",
    "    if col_name == \"Spectral Type\" or col_name == \"Name\" :\n",
    "        return val\n",
    "    return float(val)\n",
    "\n",
    "#     if col_name == \"Stellar Effective Temperature [K]\":\n",
    "#         return float(val)\n",
    "#     if col_name == \"Stellar Radius [Solar Radius]\":\n",
    "#         return float(val)\n",
    "#     if col_name == \"Stellar Mass [Solar mass]\":\n",
    "#         return float(val)\n",
    "#     if col_name == \"Stellar Luminosity [log(Solar)]\":\n",
    "#         return float(val)\n",
    "#     if col_name == \"Stellar Surface Gravity [log10(cm/s**2)]\":\n",
    "#         return float(val)\n",
    "#     if col_name == \"Stellar Age [Gyr]\":\n",
    "#         return float(val)\n",
    "        \n",
    "    # return None if value is missing\n",
    "    # else typecast 'val' depending on 'col_name' and return it"
   ]
  },
  {
   "cell_type": "markdown",
   "id": "4c2807ef",
   "metadata": {},
   "source": [
    "**Question 10.1**: Use the `star_cell` function to find the value of the column `\"Spectral Type\"` of the **first** star in `\"stars_2.csv\"`."
   ]
  },
  {
   "cell_type": "code",
   "execution_count": 212,
   "id": "fa3fbef4",
   "metadata": {
    "tags": []
   },
   "outputs": [
    {
     "data": {
      "text/plain": [
       "'G0'"
      ]
     },
     "execution_count": 212,
     "metadata": {},
     "output_type": "execute_result"
    }
   ],
   "source": [
    "# we have done this one for you\n",
    "\n",
    "# first read the data in 'stars_2.csv' as a list of lists\n",
    "stars_2_data = process_csv(os.path.join(\"small_data\", \"stars_2.csv\"))\n",
    "stars_2_rows = stars_2_data[1:]\n",
    "\n",
    "# use the 'star_cell' function to extract the correct value\n",
    "first_star_type = star_cell(0, 'Spectral Type', stars_2_rows)\n",
    "\n",
    "first_star_type"
   ]
  },
  {
   "cell_type": "code",
   "execution_count": 213,
   "id": "d7f6dd0b",
   "metadata": {
    "deletable": false,
    "editable": false
   },
   "outputs": [
    {
     "data": {
      "text/html": [
       "<p><strong><pre style='display: inline;'>q10-1</pre></strong> passed!</p>"
      ],
      "text/plain": [
       "q10-1 results: All test cases passed!"
      ]
     },
     "execution_count": 213,
     "metadata": {},
     "output_type": "execute_result"
    }
   ],
   "source": [
    "grader.check(\"q10-1\")"
   ]
  },
  {
   "cell_type": "markdown",
   "id": "1685bf69",
   "metadata": {},
   "source": [
    "**Question 10.2**: Use the `star_cell` function to find the value of the column `\"Stellar Age [Gyr]\"` of the **second** star in `\"stars_2.csv\"`."
   ]
  },
  {
   "cell_type": "code",
   "execution_count": 214,
   "id": "a4ae8c43",
   "metadata": {
    "tags": []
   },
   "outputs": [],
   "source": [
    "# we have done this one for you\n",
    "# do not worry if there is no output, the variable is expected to hold the value None\n",
    "\n",
    "# use the 'star_cell' function to extract the correct value\n",
    "second_star_age = star_cell(1, 'Stellar Age [Gyr]', stars_2_rows)\n",
    "\n",
    "second_star_age"
   ]
  },
  {
   "cell_type": "code",
   "execution_count": 215,
   "id": "ccde8233",
   "metadata": {
    "deletable": false,
    "editable": false
   },
   "outputs": [
    {
     "data": {
      "text/html": [
       "<p><strong><pre style='display: inline;'>q10-2</pre></strong> passed!</p>"
      ],
      "text/plain": [
       "q10-2 results: All test cases passed!"
      ]
     },
     "execution_count": 215,
     "metadata": {},
     "output_type": "execute_result"
    }
   ],
   "source": [
    "grader.check(\"q10-2\")"
   ]
  },
  {
   "cell_type": "markdown",
   "id": "bfae45ad",
   "metadata": {},
   "source": [
    "**Question 10.3**: Use the `star_cell` function to find the value of the column `\"Stellar Mass [Solar mass]\"` of the **third** star in `\"stars_2.csv\"`."
   ]
  },
  {
   "cell_type": "code",
   "execution_count": 216,
   "id": "d10c0757",
   "metadata": {
    "tags": []
   },
   "outputs": [
    {
     "data": {
      "text/plain": [
       "1.04"
      ]
     },
     "execution_count": 216,
     "metadata": {},
     "output_type": "execute_result"
    }
   ],
   "source": [
    "# we have done this one for you\n",
    "\n",
    "# use the 'star_cell' function to extract the correct value\n",
    "third_star_mass = star_cell(2, 'Stellar Mass [Solar mass]', stars_2_rows)\n",
    "\n",
    "third_star_mass"
   ]
  },
  {
   "cell_type": "code",
   "execution_count": 217,
   "id": "a079689d",
   "metadata": {
    "deletable": false,
    "editable": false
   },
   "outputs": [
    {
     "data": {
      "text/html": [
       "<p><strong><pre style='display: inline;'>q10-3</pre></strong> passed!</p>"
      ],
      "text/plain": [
       "q10-3 results: All test cases passed!"
      ]
     },
     "execution_count": 217,
     "metadata": {},
     "output_type": "execute_result"
    }
   ],
   "source": [
    "grader.check(\"q10-3\")"
   ]
  },
  {
   "cell_type": "markdown",
   "id": "7a0dd0f1",
   "metadata": {},
   "source": [
    "**Question 11**: Create a **dictionary** mapping the `name` of each star in `\"stars_2.csv\"` to its `Star` object.\n",
    "\n",
    "You **must** use the `star_cell` function to extract data from `stars_2.csv`.\n",
    "\n",
    "Your output **must** look like this:\n",
    "```python\n",
    "{'HD 158259': Star(spectral_type='G0', stellar_effective_temperature=5801.89, stellar_radius=1.21, \n",
    "                   stellar_mass=1.08, stellar_luminosity=0.212, stellar_surface_gravity=4.25, stellar_age=None),\n",
    " 'K2-187': Star(spectral_type=None, stellar_effective_temperature=5438.0, stellar_radius=0.83, \n",
    "                stellar_mass=0.97, stellar_luminosity=-0.21, stellar_surface_gravity=4.6, stellar_age=None),\n",
    " 'WASP-47': Star(spectral_type=None, stellar_effective_temperature=5552.0, stellar_radius=1.14, \n",
    "                 stellar_mass=1.04, stellar_luminosity=0.032, stellar_surface_gravity=4.34, stellar_age=6.5)}\n",
    "```"
   ]
  },
  {
   "cell_type": "code",
   "execution_count": 218,
   "id": "03375ba6",
   "metadata": {
    "tags": []
   },
   "outputs": [
    {
     "data": {
      "text/plain": [
       "{'HD 158259': Star(spectral_type='G0', stellar_effective_temperature=5801.89, stellar_radius=1.21, stellar_mass=1.08, stellar_luminosity=0.212, stellar_surface_gravity=4.25, stellar_age=None),\n",
       " 'K2-187': Star(spectral_type=None, stellar_effective_temperature=5438.0, stellar_radius=0.83, stellar_mass=0.97, stellar_luminosity=-0.21, stellar_surface_gravity=4.6, stellar_age=None),\n",
       " 'WASP-47': Star(spectral_type=None, stellar_effective_temperature=5552.0, stellar_radius=1.14, stellar_mass=1.04, stellar_luminosity=0.032, stellar_surface_gravity=4.34, stellar_age=6.5)}"
      ]
     },
     "execution_count": 218,
     "metadata": {},
     "output_type": "execute_result"
    }
   ],
   "source": [
    "# replace the ... with your code\n",
    "\n",
    "stars_2_dict = {} # initialize empty dictionary to store all stars\n",
    "\n",
    "for row_idx in range(len(stars_2_rows)):\n",
    "    star_name = star_cell(row_idx, 'Name', stars_2_rows)\n",
    "    spectral_type = star_cell(row_idx, 'Spectral Type', stars_2_rows)\n",
    "    stellar_effective_temperature = star_cell(row_idx, 'Stellar Effective Temperature [K]', stars_2_rows)\n",
    "    stellar_radius = star_cell(row_idx, 'Stellar Radius [Solar Radius]', stars_2_rows)\n",
    "    stellar_mass = star_cell(row_idx, 'Stellar Mass [Solar mass]', stars_2_rows)\n",
    "    stellar_luminosity = star_cell(row_idx, 'Stellar Luminosity [log(Solar)]', stars_2_rows)\n",
    "    stellar_surface_gravity = star_cell(row_idx, 'Stellar Surface Gravity [log10(cm/s**2)]', stars_2_rows)\n",
    "    stellar_age = star_cell(row_idx, 'Stellar Age [Gyr]', stars_2_rows) # extract the value in column 'Stellar Age [Gyr]' using 'star_cell'\n",
    "    \n",
    "    star = Star(spectral_type, stellar_effective_temperature, stellar_radius, \n",
    "                stellar_mass, stellar_luminosity, stellar_surface_gravity, stellar_age)  # initialize the 'Star' object using the variables defined above\n",
    "    stars_2_dict[star_name] = star\n",
    "\n",
    "stars_2_dict"
   ]
  },
  {
   "cell_type": "code",
   "execution_count": 219,
   "id": "6a5ff58e",
   "metadata": {
    "deletable": false,
    "editable": false
   },
   "outputs": [
    {
     "data": {
      "text/html": [
       "<p><strong><pre style='display: inline;'>q11</pre></strong> passed!</p>"
      ],
      "text/plain": [
       "q11 results: All test cases passed!"
      ]
     },
     "execution_count": 219,
     "metadata": {},
     "output_type": "execute_result"
    }
   ],
   "source": [
    "grader.check(\"q11\")"
   ]
  },
  {
   "cell_type": "markdown",
   "id": "9f0cba96",
   "metadata": {},
   "source": [
    "**Question 12.1**: Create a **dictionary** mapping the `name` of each star in `\"stars_3.csv\"` to its `Star` object.\n",
    "\n",
    "You **must** use the `star_cell` function to extract data from `stars_3.csv`.\n",
    "\n",
    "Your output **must** look like this:\n",
    "```python\n",
    "{'K2-133': Star(spectral_type='M1.5 V', stellar_effective_temperature=3655.0, stellar_radius=0.46, \n",
    "                stellar_mass=0.46, stellar_luminosity=-1.479, stellar_surface_gravity=4.77, stellar_age=None),\n",
    " 'K2-138': Star(spectral_type='G8 V', stellar_effective_temperature=5356.3, stellar_radius=0.86, \n",
    "                stellar_mass=0.94, stellar_luminosity=-0.287, stellar_surface_gravity=4.54, stellar_age=2.8),\n",
    " 'GJ 667 C': Star(spectral_type='M1.5 V', stellar_effective_temperature=3350.0, stellar_radius=None, \n",
    "                  stellar_mass=0.33, stellar_luminosity=-1.863, stellar_surface_gravity=4.69, stellar_age=2.0)}\n",
    "```"
   ]
  },
  {
   "cell_type": "code",
   "execution_count": 220,
   "id": "7ecd8285",
   "metadata": {
    "tags": []
   },
   "outputs": [
    {
     "data": {
      "text/plain": [
       "{'K2-133': Star(spectral_type='M1.5 V', stellar_effective_temperature=3655.0, stellar_radius=0.46, stellar_mass=0.46, stellar_luminosity=-1.479, stellar_surface_gravity=4.77, stellar_age=None),\n",
       " 'K2-138': Star(spectral_type='G8 V', stellar_effective_temperature=5356.3, stellar_radius=0.86, stellar_mass=0.94, stellar_luminosity=-0.287, stellar_surface_gravity=4.54, stellar_age=2.8),\n",
       " 'GJ 667 C': Star(spectral_type='M1.5 V', stellar_effective_temperature=3350.0, stellar_radius=None, stellar_mass=0.33, stellar_luminosity=-1.863, stellar_surface_gravity=4.69, stellar_age=2.0)}"
      ]
     },
     "execution_count": 220,
     "metadata": {},
     "output_type": "execute_result"
    }
   ],
   "source": [
    "# compute and store the answer in the variable 'stars_3_dict', then display it\n",
    "\n",
    "# TODO: initialize stars_3_dict as an empty dictionary\n",
    "# TODO: read the contents of 'stars_3.csv' and store in a list of lists\n",
    "# TODO: loop through the rows and convert each row into a Star object\n",
    "# TODO: add the Star object to stars_3_dict\n",
    "\n",
    "stars_3_csv = process_csv(os.path.join(\"small_data\", \"stars_3.csv\"))\n",
    "stars_3_rows = stars_3_csv[1:]\n",
    "\n",
    "stars_3_dict = {} # initialize empty dictionary to store all stars\n",
    "\n",
    "for row_idx in range(len(stars_3_rows)):\n",
    "    star_name = star_cell(row_idx, 'Name', stars_3_rows)\n",
    "    spectral_type = star_cell(row_idx, 'Spectral Type', stars_3_rows)\n",
    "    stellar_effective_temperature = star_cell(row_idx, 'Stellar Effective Temperature [K]',  stars_3_rows)\n",
    "    stellar_radius = star_cell(row_idx, 'Stellar Radius [Solar Radius]',  stars_3_rows)\n",
    "    stellar_mass = star_cell(row_idx, 'Stellar Mass [Solar mass]',  stars_3_rows)\n",
    "    stellar_luminosity = star_cell(row_idx, 'Stellar Luminosity [log(Solar)]',  stars_3_rows)\n",
    "    stellar_surface_gravity = star_cell(row_idx, 'Stellar Surface Gravity [log10(cm/s**2)]',  stars_3_rows)\n",
    "    stellar_age = star_cell(row_idx, 'Stellar Age [Gyr]',  stars_3_rows) # extract the value in column 'Stellar Age [Gyr]' using 'star_cell'\n",
    "    \n",
    "    star = Star(spectral_type, stellar_effective_temperature, stellar_radius, \n",
    "                stellar_mass, stellar_luminosity, stellar_surface_gravity, stellar_age)  # initialize the 'Star' object using the variables defined above\n",
    "    stars_3_dict[star_name] = star\n",
    "\n",
    "stars_3_dict"
   ]
  },
  {
   "cell_type": "code",
   "execution_count": 221,
   "id": "f39ece39",
   "metadata": {
    "deletable": false,
    "editable": false
   },
   "outputs": [
    {
     "data": {
      "text/html": [
       "<p><strong><pre style='display: inline;'>q12-1</pre></strong> passed!</p>"
      ],
      "text/plain": [
       "q12-1 results: All test cases passed!"
      ]
     },
     "execution_count": 221,
     "metadata": {},
     "output_type": "execute_result"
    }
   ],
   "source": [
    "grader.check(\"q12-1\")"
   ]
  },
  {
   "cell_type": "markdown",
   "id": "cfa62c8b",
   "metadata": {},
   "source": [
    "**Question 12.2**: Combine the three **dictionaries** `stars_1_dict`, `stars_2_dict`, and `stars_3_dict` into a single **dictionary** with all the stars in the `small_data` directory.\n",
    "\n",
    "**Hint:** The `dict.update` **dictionary method** takes in a second **dictionary** as its input, and adds the key/value pairs in this dictionary to the first **dictionary** `dict`."
   ]
  },
  {
   "cell_type": "code",
   "execution_count": 222,
   "id": "9dc4dfe8",
   "metadata": {
    "tags": []
   },
   "outputs": [
    {
     "data": {
      "text/plain": [
       "{'55 Cnc': Star(spectral_type='G8V', stellar_effective_temperature=5172.0, stellar_radius=0.94, stellar_mass=0.91, stellar_luminosity=-0.197, stellar_surface_gravity=4.43, stellar_age=10.2),\n",
       " 'DMPP-1': Star(spectral_type='F8 V', stellar_effective_temperature=6196.0, stellar_radius=1.26, stellar_mass=1.21, stellar_luminosity=0.32, stellar_surface_gravity=4.41, stellar_age=2.01),\n",
       " 'GJ 876': Star(spectral_type='M2.5V', stellar_effective_temperature=3271.0, stellar_radius=0.3, stellar_mass=0.32, stellar_luminosity=-1.907, stellar_surface_gravity=4.87, stellar_age=1.0),\n",
       " 'HD 158259': Star(spectral_type='G0', stellar_effective_temperature=5801.89, stellar_radius=1.21, stellar_mass=1.08, stellar_luminosity=0.212, stellar_surface_gravity=4.25, stellar_age=None),\n",
       " 'K2-187': Star(spectral_type=None, stellar_effective_temperature=5438.0, stellar_radius=0.83, stellar_mass=0.97, stellar_luminosity=-0.21, stellar_surface_gravity=4.6, stellar_age=None),\n",
       " 'WASP-47': Star(spectral_type=None, stellar_effective_temperature=5552.0, stellar_radius=1.14, stellar_mass=1.04, stellar_luminosity=0.032, stellar_surface_gravity=4.34, stellar_age=6.5),\n",
       " 'K2-133': Star(spectral_type='M1.5 V', stellar_effective_temperature=3655.0, stellar_radius=0.46, stellar_mass=0.46, stellar_luminosity=-1.479, stellar_surface_gravity=4.77, stellar_age=None),\n",
       " 'K2-138': Star(spectral_type='G8 V', stellar_effective_temperature=5356.3, stellar_radius=0.86, stellar_mass=0.94, stellar_luminosity=-0.287, stellar_surface_gravity=4.54, stellar_age=2.8),\n",
       " 'GJ 667 C': Star(spectral_type='M1.5 V', stellar_effective_temperature=3350.0, stellar_radius=None, stellar_mass=0.33, stellar_luminosity=-1.863, stellar_surface_gravity=4.69, stellar_age=2.0)}"
      ]
     },
     "execution_count": 222,
     "metadata": {},
     "output_type": "execute_result"
    }
   ],
   "source": [
    "# replace the ... with your code\n",
    "\n",
    "stars_dict = {} # initialize an empty dictionary\n",
    "stars_dict.update(stars_1_dict) # add stars_1_dict to stars_dict\n",
    "stars_dict.update(stars_2_dict)\n",
    "stars_dict.update(stars_3_dict)\n",
    "# similarly add stars_2_dict and stars_3_dict to stars_dict\n",
    "\n",
    "stars_dict"
   ]
  },
  {
   "cell_type": "code",
   "execution_count": 223,
   "id": "dba4e7c3",
   "metadata": {
    "deletable": false,
    "editable": false
   },
   "outputs": [
    {
     "data": {
      "text/html": [
       "<p><strong><pre style='display: inline;'>q12-2</pre></strong> passed!</p>"
      ],
      "text/plain": [
       "q12-2 results: All test cases passed!"
      ]
     },
     "execution_count": 223,
     "metadata": {},
     "output_type": "execute_result"
    }
   ],
   "source": [
    "grader.check(\"q12-2\")"
   ]
  },
  {
   "cell_type": "markdown",
   "id": "4eee98cc",
   "metadata": {},
   "source": [
    "### Data Structure 2: namedtuple `Planet`\n",
    "\n",
    "Just as you did with the stars, you will be using namedtuples to store the data about the planets in the `planets_1.csv`, `planets_2.csv`, and `planets_3.csv` files. Before you start reading these files however, you **must** create a new `Planet` type (using namedtuple). It **must** have the following attributes:\n",
    "\n",
    "* `planet_name`,\n",
    "* `host_name`,\n",
    "* `discovery_method`,\n",
    "* `discovery_year`,\n",
    "* `controversial_flag`,\n",
    "* `orbital_period`,\n",
    "* `planet_radius`,\n",
    "* `planet_mass`,\n",
    "* `semi_major_radius`,\n",
    "* `eccentricity`,\n",
    "* `equilibrium_temperature`\n",
    "* `insolation_flux`"
   ]
  },
  {
   "cell_type": "code",
   "execution_count": 224,
   "id": "258db0ec",
   "metadata": {
    "tags": []
   },
   "outputs": [],
   "source": [
    "planet_attributes = ['planet_name', 'host_name', 'discovery_method', 'discovery_year', 'controversial_flag', \n",
    "                     'orbital_period', 'planet_radius', 'planet_mass', 'semi_major_radius', 'eccentricity',\n",
    "                     'equilibrium_temperature', 'insolation_flux']\n",
    "\n",
    "# define the namedtuple 'Planet'\n",
    "Planet = namedtuple(\"Planet\", planet_attributes)"
   ]
  },
  {
   "cell_type": "code",
   "execution_count": 225,
   "id": "7e57afb8",
   "metadata": {
    "tags": []
   },
   "outputs": [
    {
     "data": {
      "text/plain": [
       "Planet(planet_name='Jupiter', host_name='Sun', discovery_method='Imaging', discovery_year=1610, controversial_flag=False, orbital_period=4333.0, planet_radius=11.209, planet_mass=317.828, semi_major_radius=5.2038, eccentricity=0.0489, equilibrium_temperature=110, insolation_flux=0.0345)"
      ]
     },
     "execution_count": 225,
     "metadata": {},
     "output_type": "execute_result"
    }
   ],
   "source": [
    "# run this following cell to initialize and test an example Planet object\n",
    "# if this cell fails to execute, you have likely not defined the namedtuple 'Star' correctly\n",
    "jupiter = Planet('Jupiter', 'Sun', 'Imaging', 1610, False, 4333.0, 11.209, 317.828, 5.2038, 0.0489, 110, 0.0345)\n",
    "\n",
    "jupiter"
   ]
  },
  {
   "cell_type": "code",
   "execution_count": 226,
   "id": "f02c1886",
   "metadata": {
    "deletable": false,
    "editable": false
   },
   "outputs": [
    {
     "data": {
      "text/html": [
       "<p><strong><pre style='display: inline;'>planet_object</pre></strong> passed!</p>"
      ],
      "text/plain": [
       "planet_object results: All test cases passed!"
      ]
     },
     "execution_count": 226,
     "metadata": {},
     "output_type": "execute_result"
    }
   ],
   "source": [
    "grader.check(\"planet_object\")"
   ]
  },
  {
   "cell_type": "markdown",
   "id": "28ff46bb",
   "metadata": {},
   "source": [
    "### Segment 3.3: Creating `Planet` objects\n",
    "\n",
    "We are now ready to read the files in the `small_data` directory and create `Planet` objects. Creating `Planet` objects however, is going to be more difficult than creating `Star` objects, because the data required to create a single `Planet` object is split up into different files.\n",
    "\n",
    "The `planets_1.csv`, `planets_2.csv`, and `planets_3.csv` files contain all the data required to create `Planet` objects **except** for the `host_name`. The `host_name` for each planet is to be found in the `mapping_1.json`, `mapping_2.json`, and `mapping_3.json` files."
   ]
  },
  {
   "cell_type": "markdown",
   "id": "39b1de4a",
   "metadata": {},
   "source": [
    "First, let us read the data in `planets_1.csv`. Since this is a CSV file, you can use the `process_csv` function from above to read this file. In the cell below, you **must** read the data in `planets_1.csv` and extract the **header** and the non-header **rows** of the file."
   ]
  },
  {
   "cell_type": "markdown",
   "id": "91ee03e8",
   "metadata": {},
   "source": [
    "**Question 13.1**: Read the contents of `'planets_1.csv'` into a **list** of **lists** using the `process_csv` function, and extract the **header** and the **rows** in the file."
   ]
  },
  {
   "cell_type": "code",
   "execution_count": 227,
   "id": "421e8a37",
   "metadata": {
    "tags": []
   },
   "outputs": [],
   "source": [
    "# replace the ... with your code\n",
    "\n",
    "# read the data in 'planets_1.csv'; remember to use os.path.join to create relative paths\n",
    "\n",
    "planets_1_csv = process_csv(os.path.join(\"small_data\", \"planets_1.csv\"))\n",
    "planets_header = planets_1_csv[0]\n",
    "planets_1_rows = planets_1_csv[1:]"
   ]
  },
  {
   "cell_type": "code",
   "execution_count": 228,
   "id": "62008b58",
   "metadata": {
    "deletable": false,
    "editable": false
   },
   "outputs": [
    {
     "data": {
      "text/html": [
       "<p><strong><pre style='display: inline;'>q13-1</pre></strong> passed!</p>"
      ],
      "text/plain": [
       "q13-1 results: All test cases passed!"
      ]
     },
     "execution_count": 228,
     "metadata": {},
     "output_type": "execute_result"
    }
   ],
   "source": [
    "grader.check(\"q13-1\")"
   ]
  },
  {
   "cell_type": "markdown",
   "id": "eb64dc06",
   "metadata": {},
   "source": [
    "Now, you are ready to read the data in `mapping_1.json`. Since this is a JSON file, you will need a new function to read this file:"
   ]
  },
  {
   "cell_type": "code",
   "execution_count": 229,
   "id": "b2519a3c",
   "metadata": {},
   "outputs": [],
   "source": [
    "# this function uses the 'load' function from the json module (already imported in this notebook) to read files\n",
    "def read_json(path):\n",
    "    with open(path, encoding=\"utf-8\") as f:\n",
    "        return json.load(f)"
   ]
  },
  {
   "cell_type": "markdown",
   "id": "be468072",
   "metadata": {},
   "source": [
    "**Question 13.2**: Read the contents of `'mapping_1.json'` into a **dictionary** using the `read_json` function."
   ]
  },
  {
   "cell_type": "code",
   "execution_count": 230,
   "id": "35517846",
   "metadata": {
    "tags": []
   },
   "outputs": [
    {
     "data": {
      "text/plain": [
       "{'55 Cnc b': '55 Cnc',\n",
       " '55 Cnc c': '55 Cnc',\n",
       " 'DMPP-1 b': 'DMPP-1',\n",
       " 'GJ 876 b': 'GJ 876',\n",
       " 'GJ 876 c': 'GJ 876'}"
      ]
     },
     "execution_count": 230,
     "metadata": {},
     "output_type": "execute_result"
    }
   ],
   "source": [
    "# we have done this for you\n",
    "\n",
    "mapping_1_json = read_json(os.path.join(\"small_data\", \"mapping_1.json\"))\n",
    "\n",
    "mapping_1_json"
   ]
  },
  {
   "cell_type": "code",
   "execution_count": 231,
   "id": "4563e321",
   "metadata": {
    "deletable": false,
    "editable": false
   },
   "outputs": [
    {
     "data": {
      "text/html": [
       "<p><strong><pre style='display: inline;'>q13-2</pre></strong> passed!</p>"
      ],
      "text/plain": [
       "q13-2 results: All test cases passed!"
      ]
     },
     "execution_count": 231,
     "metadata": {},
     "output_type": "execute_result"
    }
   ],
   "source": [
    "grader.check(\"q13-2\")"
   ]
  },
  {
   "cell_type": "markdown",
   "id": "25210279",
   "metadata": {},
   "source": [
    "### Segment 3.4: Combining data from CSV and JSON files\n",
    "\n",
    "We are now ready to combine the data from `planets_1_rows` and `mapping_1_json` to create `Planet` objects. Before we start, it might be useful to create a function similar to `star_cell` for preprocessing the values in the CSV files."
   ]
  },
  {
   "cell_type": "markdown",
   "id": "3f5856e8",
   "metadata": {},
   "source": [
    "### Function 2: `planet_cell(row_idx, col_name, planets_rows, header=planets_header)`\n",
    "\n",
    "Just like the data in `stars_1.csv`, `stars_2.csv`, and `stars_3.csv`, some of the data in `planets_1.csv`, `planets_2.csv`, and `planets_3.csv` is **missing**.  So, now would be a good time to create a function that takes in a `row_idx`, a `col_name` and a **list** of **lists** `planets_rows` (as well as the optional argument `header`) and returns the value of the column `col_name` at the row `row_idx`.\n",
    "\n",
    "This function **must** typecast the values it returns based on the `col_name`. If the value in `planets_rows` is missing (i.e., it is `''`), then the value returned **must** be `None`.\n",
    "\n",
    "The **column** of `planets_rows` where the value should be obtained from, and the correct **data type** for the value are listed in the table below:\n",
    "\n",
    "|Column of `planets_rows`|Data Type|\n",
    "|------|---------|\n",
    "|Planet Name|**string**|\n",
    "|Discovery Year|**int**|\n",
    "|Discovery Method|**string**|\n",
    "|Controversial Flag|**bool**|\n",
    "|Orbital Period [days]|**float**|\n",
    "|Planet Radius [Earth Radius]|**float**|\n",
    "|Planet Mass [Earth Mass]|**float**|\n",
    "|Orbit Semi-Major Axis [au]|**float**|\n",
    "|Eccentricity|**float**|\n",
    "|Equilibrium Temperature [K]|**float**|\n",
    "|Insolation Flux [Earth Flux]|**float**|\n",
    "\n",
    "**Important Warning:** Notice that the `Controversial Flag` column has to be converted into a **bool**. The data is stored in `planets_1.csv` (and consequently in `planets_rows`) as `\"0\"/\"1\"` values (with `\"0\"` representing `False` and `\"1\"` representing `True`). However typecasting **strings** to **bools** is not straightforward. Run the following cell and try to figure out what is happening:"
   ]
  },
  {
   "cell_type": "code",
   "execution_count": 232,
   "id": "a59c292f",
   "metadata": {},
   "outputs": [
    {
     "name": "stdout",
     "output_type": "stream",
     "text": [
      "True\n",
      "True\n",
      "False\n",
      "True\n",
      "True\n",
      "True\n"
     ]
    }
   ],
   "source": [
    "strings = [\"0\", \"1\", \"\", \" \", \"True\", \"False\"]\n",
    "for string in strings:\n",
    "    print(bool(string))"
   ]
  },
  {
   "cell_type": "markdown",
   "id": "8410b858",
   "metadata": {},
   "source": [
    "If you want to convert the **strings** into **bools**, you will have to explicitly use `if/else` statements to determine whether the value is `\"0\"` or `\"1\"`, as can be seen in th starter code below:"
   ]
  },
  {
   "cell_type": "code",
   "execution_count": 233,
   "id": "de47fbe3",
   "metadata": {
    "tags": []
   },
   "outputs": [],
   "source": [
    "# replace the ... with your code\n",
    "\n",
    "def planet_cell(row_idx, col_name, planets_rows, header=planets_header):\n",
    "    col_idx = header.index(col_name) # extract col_idx from col_name and header\n",
    "    val = planets_rows[row_idx][col_idx] # extract the value at row_idx and col_idx\n",
    "    if val == '':\n",
    "        return None\n",
    "    if col_name in [\"Controversial Flag\"]:\n",
    "        if val == \"1\":\n",
    "            return True\n",
    "        else:\n",
    "            return False\n",
    "    if col_name == \"Planet Name\" or col_name == \"Discovery Method\":\n",
    "        return val\n",
    "    return float(val)\n",
    "    \n",
    "    # for all other columns typecast 'val' depending on col_name and return it\n",
    "    \n",
    "# def star_cell(row_idx, col_name, stars_rows, header=stars_header):\n",
    "#     col_idx = header.index(col_name)\n",
    "#     val = stars_rows[row_idx][col_idx]\n",
    "#     if val == \"Planet Name\" or val == \"Discovery Method\t\":\n",
    "#         return None\n",
    "#     if col_name == \"Spectral Type\" or col_name == \"Name\" :\n",
    "#         return val\n",
    "#     return float(val)"
   ]
  },
  {
   "cell_type": "markdown",
   "id": "f86b9d78",
   "metadata": {},
   "source": [
    "**Question 14.1**: Use the `planet_cell` function to find the value of the column `\"Planet Name\"` of the **first** planet in `\"planets_1.csv\"`."
   ]
  },
  {
   "cell_type": "code",
   "execution_count": 234,
   "id": "80801753",
   "metadata": {
    "tags": []
   },
   "outputs": [
    {
     "data": {
      "text/plain": [
       "'55 Cnc b'"
      ]
     },
     "execution_count": 234,
     "metadata": {},
     "output_type": "execute_result"
    }
   ],
   "source": [
    "# we have done this one for you\n",
    "\n",
    "first_planet_name = planet_cell(0, 'Planet Name', planets_1_rows)\n",
    "\n",
    "first_planet_name"
   ]
  },
  {
   "cell_type": "code",
   "execution_count": 235,
   "id": "e3d62848",
   "metadata": {
    "deletable": false,
    "editable": false
   },
   "outputs": [
    {
     "data": {
      "text/html": [
       "<p><strong><pre style='display: inline;'>q14-1</pre></strong> passed!</p>"
      ],
      "text/plain": [
       "q14-1 results: All test cases passed!"
      ]
     },
     "execution_count": 235,
     "metadata": {},
     "output_type": "execute_result"
    }
   ],
   "source": [
    "grader.check(\"q14-1\")"
   ]
  },
  {
   "cell_type": "markdown",
   "id": "4be9ebff",
   "metadata": {},
   "source": [
    "**Question 14.2**: Use the `planet_cell` function to find the value of the column `\"Insolation Flux [Earth Flux]\"` of the **first** planet in `\"planets_1.csv\"`."
   ]
  },
  {
   "cell_type": "code",
   "execution_count": 236,
   "id": "4f6c393d",
   "metadata": {
    "tags": []
   },
   "outputs": [],
   "source": [
    "# we have done this one for you\n",
    "# do not worry if there is no output, the variable is expected to hold the value None\n",
    "\n",
    "first_planet_flux = planet_cell(0, 'Insolation Flux [Earth Flux]', planets_1_rows)\n",
    "\n",
    "\n",
    "first_planet_flux"
   ]
  },
  {
   "cell_type": "code",
   "execution_count": 237,
   "id": "4ce3d595",
   "metadata": {
    "deletable": false,
    "editable": false
   },
   "outputs": [
    {
     "data": {
      "text/html": [
       "<p><strong><pre style='display: inline;'>q14-2</pre></strong> passed!</p>"
      ],
      "text/plain": [
       "q14-2 results: All test cases passed!"
      ]
     },
     "execution_count": 237,
     "metadata": {},
     "output_type": "execute_result"
    }
   ],
   "source": [
    "grader.check(\"q14-2\")"
   ]
  },
  {
   "cell_type": "markdown",
   "id": "53e78665",
   "metadata": {},
   "source": [
    "**Question 14.3**: Use the `planet_cell` function to find the value of the column `\"Controversial Flag\"` of the **second** planet in `\"planets_1.csv\"`."
   ]
  },
  {
   "cell_type": "code",
   "execution_count": 238,
   "id": "cbdee4d6",
   "metadata": {
    "tags": []
   },
   "outputs": [
    {
     "data": {
      "text/plain": [
       "False"
      ]
     },
     "execution_count": 238,
     "metadata": {},
     "output_type": "execute_result"
    }
   ],
   "source": [
    "# we have done this one for you\n",
    "\n",
    "second_planet_controversy = planet_cell(1, 'Controversial Flag', planets_1_rows)\n",
    "\n",
    "second_planet_controversy"
   ]
  },
  {
   "cell_type": "code",
   "execution_count": 239,
   "id": "c77f6ac4",
   "metadata": {
    "deletable": false,
    "editable": false
   },
   "outputs": [
    {
     "data": {
      "text/html": [
       "<p><strong><pre style='display: inline;'>q14-3</pre></strong> passed!</p>"
      ],
      "text/plain": [
       "q14-3 results: All test cases passed!"
      ]
     },
     "execution_count": 239,
     "metadata": {},
     "output_type": "execute_result"
    }
   ],
   "source": [
    "grader.check(\"q14-3\")"
   ]
  },
  {
   "cell_type": "markdown",
   "id": "86e7ee64",
   "metadata": {},
   "source": [
    "**Question 15**: Create a `Planet` object for the **first** star in `\"planets_1.csv\"`.\n",
    "\n",
    "The **attribute** of the `Planet` namedtuple object, the corresponding **column** of the `planets_1.csv` file where the value should be obtained from, and the correct **data type** for the value are listed in the table below:\n",
    "\n",
    "|Attribute of `Planet` object|Column of `planets_1.csv`|Data Type|\n",
    "|---------|------|---------|\n",
    "|`planet_name`|Planet Name|**string**|\n",
    "|`host_name`| - |**string**|\n",
    "|`discovery_method`|Discovery Method|**string**|\n",
    "|`discovery_year`|Discovery Year|**int**|\n",
    "|`controversial_flag`|Controversial Flag|**bool**|\n",
    "|`orbital_period`|Orbital Period [days]|**float**|\n",
    "|`planet_radius`|Planet Radius [Earth Radius]|**float**|\n",
    "|`planet_mass`|Planet Mass [Earth Mass]|**float**|\n",
    "|`semi_major_radius`|Orbit Semi-Major Axis [au]|**float**|\n",
    "|`eccentricity`|Eccentricity|**float**|\n",
    "|`equilibrium_temperature`|Equilibrium Temperature [K]|**float**|\n",
    "|`insolation_flux`|Insolation Flux [Earth Flux]|**float**|\n",
    "\n",
    "\n",
    "The value of the `host_name` attribute is found in `mapping_1.json`."
   ]
  },
  {
   "cell_type": "code",
   "execution_count": 240,
   "id": "3e446692",
   "metadata": {
    "tags": []
   },
   "outputs": [
    {
     "data": {
      "text/plain": [
       "['Planet Name',\n",
       " 'Discovery Method',\n",
       " 'Discovery Year',\n",
       " 'Controversial Flag',\n",
       " 'Orbital Period [days]',\n",
       " 'Planet Radius [Earth Radius]',\n",
       " 'Planet Mass [Earth Mass]',\n",
       " 'Orbit Semi-Major Axis [au]',\n",
       " 'Eccentricity',\n",
       " 'Equilibrium Temperature [K]',\n",
       " 'Insolation Flux [Earth Flux]']"
      ]
     },
     "execution_count": 240,
     "metadata": {},
     "output_type": "execute_result"
    }
   ],
   "source": [
    "planets_header"
   ]
  },
  {
   "cell_type": "code",
   "execution_count": null,
   "id": "f3472af0",
   "metadata": {},
   "outputs": [],
   "source": []
  },
  {
   "cell_type": "code",
   "execution_count": 241,
   "id": "4c9ba810",
   "metadata": {
    "tags": []
   },
   "outputs": [
    {
     "data": {
      "text/plain": [
       "Planet(planet_name='55 Cnc b', host_name='55 Cnc', discovery_method='Radial Velocity', discovery_year=1996.0, controversial_flag=False, orbital_period=14.6516, planet_radius=13.9, planet_mass=263.9785, semi_major_radius=0.1134, eccentricity=0.0, equilibrium_temperature=700.0, insolation_flux=None)"
      ]
     },
     "execution_count": 241,
     "metadata": {},
     "output_type": "execute_result"
    }
   ],
   "source": [
    "# replace the ... with your code\n",
    "\n",
    "row_idx = 0 # the index of the planet we want to convert into a Planet object\n",
    "\n",
    "# extract the values from planets_1_rows\n",
    "planet_name = planet_cell(row_idx, 'Planet Name', planets_1_rows)\n",
    "host_name = mapping_1_json[planet_name]\n",
    "discovery_method = planet_cell(row_idx, 'Discovery Method', planets_1_rows)\n",
    "discovery_year = planet_cell(row_idx, 'Discovery Year', planets_1_rows)\n",
    "controversial_flag = planet_cell(row_idx, 'Controversial Flag', planets_1_rows)\n",
    "orbital_period = planet_cell(row_idx, 'Orbital Period [days]', planets_1_rows)\n",
    "planet_radius = planet_cell(row_idx, 'Planet Radius [Earth Radius]', planets_1_rows)\n",
    "planet_mass = planet_cell(row_idx, 'Planet Mass [Earth Mass]', planets_1_rows)\n",
    "semi_major_radius = planet_cell(row_idx, 'Orbit Semi-Major Axis [au]', planets_1_rows)\n",
    "eccentricity = planet_cell(row_idx, 'Eccentricity', planets_1_rows)\n",
    "equilibrium_temperature = planet_cell(row_idx, 'Equilibrium Temperature [K]', planets_1_rows)\n",
    "insolation_flux = planet_cell(row_idx, 'Insolation Flux [Earth Flux]', planets_1_rows) # extract the value in column 'Insolation Flux [Earth Flux]' using 'planet_cell'\n",
    "\n",
    "# initialize 'first_planet'\n",
    "first_planet = Planet(planet_name, host_name, discovery_method, discovery_year,\\\n",
    "                  controversial_flag, orbital_period, planet_radius, planet_mass,\\\n",
    "                  semi_major_radius, eccentricity, equilibrium_temperature, insolation_flux)\n",
    "\n",
    "first_planet"
   ]
  },
  {
   "cell_type": "code",
   "execution_count": 242,
   "id": "07a07395",
   "metadata": {
    "deletable": false,
    "editable": false
   },
   "outputs": [
    {
     "data": {
      "text/html": [
       "<p><strong><pre style='display: inline;'>q15</pre></strong> passed!</p>"
      ],
      "text/plain": [
       "q15 results: All test cases passed!"
      ]
     },
     "execution_count": 242,
     "metadata": {},
     "output_type": "execute_result"
    }
   ],
   "source": [
    "grader.check(\"q15\")"
   ]
  },
  {
   "cell_type": "markdown",
   "id": "e200fade",
   "metadata": {},
   "source": [
    "**Question 16**: Create a **list** of `Planet` objects of each planet in `\"planets_1.csv\"`.\n",
    "\n",
    "Your output **must** look like this:\n",
    "```python\n",
    "[Planet(planet_name='55 Cnc b', host_name='55 Cnc', discovery_method='Radial Velocity', \n",
    "        discovery_year=1996, controversial_flag=False, orbital_period=14.6516, \n",
    "        planet_radius=13.9, planet_mass=263.9785, semi_major_radius=0.1134, eccentricity=0.0,\n",
    "        equilibrium_temperature=700.0, insolation_flux=None),\n",
    " Planet(planet_name='55 Cnc c', host_name='55 Cnc', discovery_method='Radial Velocity', \n",
    "        discovery_year=2004, controversial_flag=False, orbital_period=44.3989, \n",
    "        planet_radius=8.51, planet_mass=54.4738, semi_major_radius=0.2373, eccentricity=0.03, \n",
    "        equilibrium_temperature=None, insolation_flux=None),\n",
    " Planet(planet_name='DMPP-1 b', host_name='DMPP-1', discovery_method='Radial Velocity', \n",
    "        discovery_year=2019, controversial_flag=False, orbital_period=18.57, \n",
    "        planet_radius=5.29, planet_mass=24.27, semi_major_radius=0.1462, eccentricity=0.083, \n",
    "        equilibrium_temperature=877.0, insolation_flux=None),\n",
    " Planet(planet_name='GJ 876 b', host_name='GJ 876', discovery_method='Radial Velocity', \n",
    "        discovery_year=1998, controversial_flag=False, orbital_period=61.1166, \n",
    "        planet_radius=13.3, planet_mass=723.2235, semi_major_radius=0.208317, eccentricity=0.0324,\n",
    "        equilibrium_temperature=None, insolation_flux=None),\n",
    " Planet(planet_name='GJ 876 c', host_name='GJ 876', discovery_method='Radial Velocity', \n",
    "        discovery_year=2000, controversial_flag=False, orbital_period=30.0881, \n",
    "        planet_radius=14.0, planet_mass=226.9846, semi_major_radius=0.12959, eccentricity=0.25591, \n",
    "        equilibrium_temperature=None, insolation_flux=None)]\n",
    "```"
   ]
  },
  {
   "cell_type": "code",
   "execution_count": 243,
   "id": "447d25fe",
   "metadata": {},
   "outputs": [
    {
     "data": {
      "text/plain": [
       "[['55 Cnc b',\n",
       "  'Radial Velocity',\n",
       "  '1996',\n",
       "  '0',\n",
       "  '14.65160000',\n",
       "  '13.900',\n",
       "  '263.97850',\n",
       "  '0.113400',\n",
       "  '0.000000',\n",
       "  '700',\n",
       "  ''],\n",
       " ['55 Cnc c',\n",
       "  'Radial Velocity',\n",
       "  '2004',\n",
       "  '0',\n",
       "  '44.39890000',\n",
       "  '8.510',\n",
       "  '54.47380',\n",
       "  '0.237300',\n",
       "  '0.030000',\n",
       "  '',\n",
       "  ''],\n",
       " ['DMPP-1 b',\n",
       "  'Radial Velocity',\n",
       "  '2019',\n",
       "  '0',\n",
       "  '18.57000000',\n",
       "  '5.290',\n",
       "  '24.27000',\n",
       "  '0.146200',\n",
       "  '0.083000',\n",
       "  '877',\n",
       "  ''],\n",
       " ['GJ 876 b',\n",
       "  'Radial Velocity',\n",
       "  '1998',\n",
       "  '0',\n",
       "  '61.11660000',\n",
       "  '13.300',\n",
       "  '723.22350',\n",
       "  '0.208317',\n",
       "  '0.032400',\n",
       "  '',\n",
       "  ''],\n",
       " ['GJ 876 c',\n",
       "  'Radial Velocity',\n",
       "  '2000',\n",
       "  '0',\n",
       "  '30.08810000',\n",
       "  '14.000',\n",
       "  '226.98460',\n",
       "  '0.129590',\n",
       "  '0.255910',\n",
       "  '',\n",
       "  '']]"
      ]
     },
     "execution_count": 243,
     "metadata": {},
     "output_type": "execute_result"
    }
   ],
   "source": [
    "planets_1_rows"
   ]
  },
  {
   "cell_type": "code",
   "execution_count": 244,
   "id": "ed79205c",
   "metadata": {
    "tags": []
   },
   "outputs": [
    {
     "data": {
      "text/plain": [
       "[Planet(planet_name='55 Cnc b', host_name='55 Cnc', discovery_method='Radial Velocity', discovery_year=1996.0, controversial_flag=False, orbital_period=14.6516, planet_radius=13.9, planet_mass=263.9785, semi_major_radius=0.1134, eccentricity=0.0, equilibrium_temperature=700.0, insolation_flux=None),\n",
       " Planet(planet_name='55 Cnc c', host_name='55 Cnc', discovery_method='Radial Velocity', discovery_year=2004.0, controversial_flag=False, orbital_period=44.3989, planet_radius=8.51, planet_mass=54.4738, semi_major_radius=0.2373, eccentricity=0.03, equilibrium_temperature=None, insolation_flux=None),\n",
       " Planet(planet_name='DMPP-1 b', host_name='DMPP-1', discovery_method='Radial Velocity', discovery_year=2019.0, controversial_flag=False, orbital_period=18.57, planet_radius=5.29, planet_mass=24.27, semi_major_radius=0.1462, eccentricity=0.083, equilibrium_temperature=877.0, insolation_flux=None),\n",
       " Planet(planet_name='GJ 876 b', host_name='GJ 876', discovery_method='Radial Velocity', discovery_year=1998.0, controversial_flag=False, orbital_period=61.1166, planet_radius=13.3, planet_mass=723.2235, semi_major_radius=0.208317, eccentricity=0.0324, equilibrium_temperature=None, insolation_flux=None),\n",
       " Planet(planet_name='GJ 876 c', host_name='GJ 876', discovery_method='Radial Velocity', discovery_year=2000.0, controversial_flag=False, orbital_period=30.0881, planet_radius=14.0, planet_mass=226.9846, semi_major_radius=0.12959, eccentricity=0.25591, equilibrium_temperature=None, insolation_flux=None)]"
      ]
     },
     "execution_count": 244,
     "metadata": {},
     "output_type": "execute_result"
    }
   ],
   "source": [
    "# compute and store the answer in the variable 'planets_1_list', then display it\n",
    "planets_1_list = []\n",
    "for planet in range(len(planets_1_rows)):\n",
    "    planet_name = planet_cell(planet, 'Planet Name', planets_1_rows)\n",
    "    host_name = mapping_1_json[planet_name]\n",
    "    discovery_method = planet_cell(planet, 'Discovery Method', planets_1_rows)\n",
    "    discovery_year = planet_cell(planet, 'Discovery Year', planets_1_rows)\n",
    "    controversial_flag = planet_cell(planet, 'Controversial Flag', planets_1_rows)\n",
    "    orbital_period = planet_cell(planet, 'Orbital Period [days]', planets_1_rows)\n",
    "    planet_radius = planet_cell(planet, 'Planet Radius [Earth Radius]', planets_1_rows)\n",
    "    planet_mass = planet_cell(planet, 'Planet Mass [Earth Mass]', planets_1_rows)\n",
    "    semi_major_radius = planet_cell(planet, 'Orbit Semi-Major Axis [au]', planets_1_rows)\n",
    "    eccentricity = planet_cell(planet, 'Eccentricity', planets_1_rows)\n",
    "    equilibrium_temperature = planet_cell(planet, 'Equilibrium Temperature [K]', planets_1_rows)\n",
    "    insolation_flux = planet_cell(planet, 'Insolation Flux [Earth Flux]', planets_1_rows) # extract the value in column 'Insolation Flux [Earth Flux]' using 'planet_cell'\n",
    "\n",
    "# initialize 'first_planet'\n",
    "    planets_1_list.append(Planet(planet_name, host_name, discovery_method, discovery_year,\\\n",
    "                  controversial_flag, orbital_period, planet_radius, planet_mass,\\\n",
    "                  semi_major_radius, eccentricity, equilibrium_temperature, insolation_flux))\n",
    "\n",
    "planets_1_list\n"
   ]
  },
  {
   "cell_type": "code",
   "execution_count": 245,
   "id": "247bca81",
   "metadata": {
    "deletable": false,
    "editable": false
   },
   "outputs": [
    {
     "data": {
      "text/html": [
       "<p><strong><pre style='display: inline;'>q16</pre></strong> passed!</p>"
      ],
      "text/plain": [
       "q16 results: All test cases passed!"
      ]
     },
     "execution_count": 245,
     "metadata": {},
     "output_type": "execute_result"
    }
   ],
   "source": [
    "grader.check(\"q16\")"
   ]
  },
  {
   "cell_type": "markdown",
   "id": "9159e70a",
   "metadata": {},
   "source": [
    "**Question 17.1**: What is the **fifth** `Planet` object in `'planets_1.csv'`?\n",
    "\n",
    "You **must** access from the `planets_1_list` to answer this question."
   ]
  },
  {
   "cell_type": "code",
   "execution_count": 246,
   "id": "f4835c37",
   "metadata": {
    "tags": []
   },
   "outputs": [
    {
     "data": {
      "text/plain": [
       "Planet(planet_name='GJ 876 c', host_name='GJ 876', discovery_method='Radial Velocity', discovery_year=2000.0, controversial_flag=False, orbital_period=30.0881, planet_radius=14.0, planet_mass=226.9846, semi_major_radius=0.12959, eccentricity=0.25591, equilibrium_temperature=None, insolation_flux=None)"
      ]
     },
     "execution_count": 246,
     "metadata": {},
     "output_type": "execute_result"
    }
   ],
   "source": [
    "# compute and store the answer in the variable 'fifth_planet', then display it\n",
    "fifth_planet = planets_1_list[4]\n",
    "fifth_planet"
   ]
  },
  {
   "cell_type": "code",
   "execution_count": 247,
   "id": "a06a49ae",
   "metadata": {
    "deletable": false,
    "editable": false
   },
   "outputs": [
    {
     "data": {
      "text/html": [
       "<p><strong><pre style='display: inline;'>q17-1</pre></strong> passed!</p>"
      ],
      "text/plain": [
       "q17-1 results: All test cases passed!"
      ]
     },
     "execution_count": 247,
     "metadata": {},
     "output_type": "execute_result"
    }
   ],
   "source": [
    "grader.check(\"q17-1\")"
   ]
  },
  {
   "cell_type": "markdown",
   "id": "e8dea1bd",
   "metadata": {},
   "source": [
    "**Question 17.2**: What is the `planet_name` of the **fifth** `Planet` in `'planets_1.csv'`?\n",
    "\n",
    "You **must** access from the `planets_1_list` to answer this question."
   ]
  },
  {
   "cell_type": "code",
   "execution_count": 248,
   "id": "83acb2f5",
   "metadata": {
    "tags": []
   },
   "outputs": [],
   "source": [
    "# compute and store the answer in the variable 'fifth_planet_name', then display it\n",
    "fifth_planet_name = fifth_planet.planet_name"
   ]
  },
  {
   "cell_type": "code",
   "execution_count": 249,
   "id": "a98cfdc3",
   "metadata": {
    "deletable": false,
    "editable": false
   },
   "outputs": [
    {
     "data": {
      "text/html": [
       "<p><strong><pre style='display: inline;'>q17-2</pre></strong> passed!</p>"
      ],
      "text/plain": [
       "q17-2 results: All test cases passed!"
      ]
     },
     "execution_count": 249,
     "metadata": {},
     "output_type": "execute_result"
    }
   ],
   "source": [
    "grader.check(\"q17-2\")"
   ]
  },
  {
   "cell_type": "markdown",
   "id": "0af0c90f",
   "metadata": {},
   "source": [
    "### Segment 3.5: Data Cleaning - broken CSV rows\n",
    "\n",
    "The code you have written worked well for reading the data in `planets_1.csv` and `mapping_1.json`. However, it will likely **not** work for `planets_2.csv` and `mapping_2.json`. This is because the file `planets_2.csv` is **broken**. For some reason, a few rows in `planets_2.csv` have their data jumbled up. This is what `planets_2.csv` looks like:\n",
    "\n",
    "|Planet Name|Discovery Method|Discovery Year|Controversial Flag|Orbital Period [days]|Planet Radius [Earth Radius]|Planet Mass [Earth Mass]|Orbit Semi-Major Axis [au]|Eccentricity|Equilibrium Temperature [K]|Insolation Flux [Earth Flux]|\n",
    "|-----------|----------------|--------------|------------------|---------------------|----------------------------|------------------------|--------------------------|------------|---------------------------|----------------------------|\n",
    "|HD 158259 b|Radial Velocity|2020|0|2.17800000|1.292|2.22000|||1478|794.22|\n",
    "|K2-187 b|Transit|2018|0|0.77401000|1.200|1.87000|0.016400||1815||\n",
    "|K2-187 c|Transit|2018|0|2.87151200|1.400|2.54000|0.039200||1173||\n",
    "|K2-187 d|K2-187|Transit|2018|0|7.14958400|2.400|6.35000|0.072000||865|\n",
    "|WASP-47 b|2012|Transit|0|4.15914920|12.640|363.60000|0.052000|0.002800|1275|534.00|\n",
    "\n",
    "We can see that for some reason, in the **fourth** row, the value under the column `Discovery Method` is the name of the planet's host star. This is causing all the other columns in the row to also take meaningless values.\n",
    "\n",
    "Similarly, in the **fifth** row, we see that the values under the columns `Discovery Method` and `Discovery Year` are swapped.\n",
    "\n",
    "We will call such a **row** in a CSV file where the values under a column do not match the expected format to be a **broken row**. While it is possible to sometimes extract useful data from broken rows, in this lab and in p10, we will simply **skip** broken rows.\n",
    "\n",
    "In order to **skip** broken rows, you should first know how to recognize a **broken row**. In general, there is no general rule that helps you identify when a row is broken. This is because CSV rows can be **broken** in all sorts of different ways. Thankfully, we don't have to write code to catch all sorts of weird cases. It will suffice for us to manually **inspect** the file `planets_2.csv`, and identify **how** the rows are broken.\n",
    "\n",
    "The simplest way to recognize if a row is broken is if you run into any **RunTime Errors** when you execute your code. So, one simple way to skip bad rows would be to use `try/except` blocks to avoid processing any rows that cause the code to crash.\n",
    "\n",
    "**Important Note:** In this dataset, as you might have already noticed, it would be **significantly harder** to detect **broken rows** where some of the numerical values are swapped (for example, `Planet Radius [Earth Radius]` and `Planet Mass [Earth Mass]`). You may **assume** that the numerical values are **not** swapped in **any** row, and that **only the rows** in which the **data types** are not as expected are **broken**."
   ]
  },
  {
   "cell_type": "markdown",
   "id": "32388f6c",
   "metadata": {},
   "source": [
    "**Question 18**: Create a **list** of `Planet` objects of each planet in `\"planets_2.csv\"`.\n",
    "\n",
    "You **must** skip any broken rows in the CSV file. Your output **must** look like this:\n",
    "```python\n",
    "[Planet(planet_name='HD 158259 b', host_name='HD 158259', discovery_method='Radial Velocity', \n",
    "        discovery_year=2020, controversial_flag=False, orbital_period=2.178, \n",
    "        planet_radius=1.292, planet_mass=2.22, semi_major_radius=None, eccentricity=None, \n",
    "        equilibrium_temperature=1478.0, insolation_flux=794.22),\n",
    " Planet(planet_name='K2-187 b', host_name='K2-187', discovery_method='Transit', \n",
    "        discovery_year=2018, controversial_flag=False, orbital_period=0.77401, \n",
    "        planet_radius=1.2, planet_mass=1.87, semi_major_radius=0.0164, eccentricity=None, \n",
    "        equilibrium_temperature=1815.0, insolation_flux=None),\n",
    " Planet(planet_name='K2-187 c', host_name='K2-187', discovery_method='Transit', \n",
    "        discovery_year=2018, controversial_flag=False, orbital_period=2.871512, \n",
    "        planet_radius=1.4, planet_mass=2.54, semi_major_radius=0.0392, eccentricity=None, \n",
    "        equilibrium_temperature=1173.0, insolation_flux=None)]\n",
    "```"
   ]
  },
  {
   "cell_type": "code",
   "execution_count": 256,
   "id": "052d544b",
   "metadata": {
    "tags": []
   },
   "outputs": [
    {
     "data": {
      "text/plain": [
       "[Planet(planet_name='HD 158259 b', host_name='HD 158259', discovery_method='Radial Velocity', discovery_year=2020.0, controversial_flag=False, orbital_period=2.178, planet_radius=1.292, planet_mass=2.22, semi_major_radius=None, eccentricity=None, equilibrium_temperature=1478.0, insolation_flux=794.22),\n",
       " Planet(planet_name='K2-187 b', host_name='K2-187', discovery_method='Transit', discovery_year=2018.0, controversial_flag=False, orbital_period=0.77401, planet_radius=1.2, planet_mass=1.87, semi_major_radius=0.0164, eccentricity=None, equilibrium_temperature=1815.0, insolation_flux=None),\n",
       " Planet(planet_name='K2-187 c', host_name='K2-187', discovery_method='Transit', discovery_year=2018.0, controversial_flag=False, orbital_period=2.871512, planet_radius=1.4, planet_mass=2.54, semi_major_radius=0.0392, eccentricity=None, equilibrium_temperature=1173.0, insolation_flux=None)]"
      ]
     },
     "execution_count": 256,
     "metadata": {},
     "output_type": "execute_result"
    }
   ],
   "source": [
    "# replace the ... with your code\n",
    "\n",
    "planets_2_csv = process_csv(os.path.join(\"small_data\", \"planets_2.csv\")) # read planets_2.csv\n",
    "planets_2_rows = planets_2_csv[1:] # extract the rows from planets_2_data\n",
    "mapping_2_json =  read_json(os.path.join(\"small_data\", \"mapping_2.json\")) # read mapping_2.json\n",
    "\n",
    "planets_2_list = []\n",
    "for row_idx in range(len(planets_2_rows)):\n",
    "    try:\n",
    "        planet_name = planet_cell(row_idx, 'Planet Name', planets_2_rows)\n",
    "        host_name = mapping_2_json[planet_name]\n",
    "        discovery_method = planet_cell(row_idx, 'Discovery Method', planets_2_rows)\n",
    "        discovery_year = planet_cell(row_idx, 'Discovery Year', planets_2_rows)\n",
    "        controversial_flag = planet_cell(row_idx, 'Controversial Flag', planets_2_rows)\n",
    "        orbital_period = planet_cell(row_idx, 'Orbital Period [days]', planets_2_rows)\n",
    "        planet_radius = planet_cell(row_idx, 'Planet Radius [Earth Radius]', planets_2_rows)\n",
    "        planet_mass = planet_cell(row_idx, 'Planet Mass [Earth Mass]', planets_2_rows)\n",
    "        semi_major_radius = planet_cell(row_idx, 'Orbit Semi-Major Axis [au]', planets_2_rows)\n",
    "        eccentricity = planet_cell(row_idx, 'Eccentricity', planets_2_rows)\n",
    "        equilibrium_temperature = planet_cell(row_idx, 'Equilibrium Temperature [K]', planets_2_rows)\n",
    "        insolation_flux = planet_cell(row_idx, 'Insolation Flux [Earth Flux]', planets_2_rows) # extract the value in column 'Insolation Flux [Earth Flux]' using 'planet_cell'\n",
    "\n",
    "# initialize 'first_planet'\n",
    "        planets_2_list.append(Planet(planet_name, host_name, discovery_method, discovery_year,\\\n",
    "                  controversial_flag, orbital_period, planet_radius, planet_mass,\\\n",
    "                  semi_major_radius, eccentricity, equilibrium_temperature, insolation_flux))\n",
    "        \n",
    "        # create a Planet object and append to 'planets_2_list'\n",
    "    except ValueError: # do not change this line or the line below\n",
    "        continue\n",
    "\n",
    "planets_2_list"
   ]
  },
  {
   "cell_type": "code",
   "execution_count": 257,
   "id": "adfc7631",
   "metadata": {
    "deletable": false,
    "editable": false
   },
   "outputs": [
    {
     "data": {
      "text/html": [
       "<p><strong><pre style='display: inline;'>q18</pre></strong> passed!</p>"
      ],
      "text/plain": [
       "q18 results: All test cases passed!"
      ]
     },
     "execution_count": 257,
     "metadata": {},
     "output_type": "execute_result"
    }
   ],
   "source": [
    "grader.check(\"q18\")"
   ]
  },
  {
   "cell_type": "markdown",
   "id": "64039907",
   "metadata": {},
   "source": [
    "**Important Warning:** It is considered a bad coding practice to use *bare* `try/except` blocks. This means that you should never write code like this:\n",
    "\n",
    "```python\n",
    "try:\n",
    "    # some code\n",
    "except:\n",
    "    # some other code\n",
    "```\n",
    "\n",
    "If you use *bare* `try/except` blocks, your code will seemingly work even if there are bugs in there, and it can get very hard to debug. You should always **explicitly** catch for specific errors like this:\n",
    "\n",
    "```python\n",
    "try:\n",
    "    # some code\n",
    "except ValueError:\n",
    "    # some other code\n",
    "except IndexError:\n",
    "    # some other code\n",
    "```\n",
    "\n",
    "This way, your code will still crash if there is some other unexpected bug in your code that needs to be fixed, and will only go to the `except` block if it runs into a `ValueError` or an `IndexError`. The starter code above already catches specifically for `ValueError`. In p10, you will have to deal with broken CSV rows where you have to deal with a variety of different errors. You **must** explicitly catch these errors. You **must not** use *bare* `try/except` blocks in p10 either."
   ]
  },
  {
   "cell_type": "markdown",
   "id": "e0b5c441",
   "metadata": {},
   "source": [
    "### Segment 3.6: Data Cleaning - broken JSON files\n",
    "\n",
    "So far, we have written code that can read `planets_1.csv` and `mapping_1.json`, as well as `planets_2.csv` and `mapping_2.json`. However, if you try to read `mapping_3.json`, you are likely to run into some issues. This is because the file `mapping_3.json` is **broken**. Unlike **broken** CSV files, where we only had to skip the **broken rows**, it is much harder to parse **broken JSON files**. When a JSON file is **broken**, we often have no choice but to **skip the file entirely**.\n",
    "\n",
    "It is also not easy to detect if a JSON file is **broken** using `if` statements. The easiest is to simply try to read the file using the `read_json` function and check if the code crashes."
   ]
  },
  {
   "cell_type": "markdown",
   "id": "24e9a933",
   "metadata": {},
   "source": [
    "**Question 19**: Display the data in all `mappings` files as a **dictionary**.\n",
    "\n",
    "You **must** use `try/except` to determine if any of the JSON files are broken, and skip them if they are."
   ]
  },
  {
   "cell_type": "code",
   "execution_count": 258,
   "id": "77c2df33",
   "metadata": {
    "tags": []
   },
   "outputs": [
    {
     "data": {
      "text/plain": [
       "{'55 Cnc b': '55 Cnc',\n",
       " '55 Cnc c': '55 Cnc',\n",
       " 'DMPP-1 b': 'DMPP-1',\n",
       " 'GJ 876 b': 'GJ 876',\n",
       " 'GJ 876 c': 'GJ 876',\n",
       " 'HD 158259 b': 'HD 158259',\n",
       " 'K2-187 b': 'K2-187',\n",
       " 'K2-187 c': 'K2-187',\n",
       " 'K2-187 d': 'K2-187',\n",
       " 'WASP-47 b': 'WASP-47'}"
      ]
     },
     "execution_count": 258,
     "metadata": {},
     "output_type": "execute_result"
    }
   ],
   "source": [
    "# we have done this one for you\n",
    "\n",
    "mapping_data = {}\n",
    "\n",
    "# we loop through the list of mapping paths defined in q4.1\n",
    "for mapping_path in json_paths:\n",
    "    try:\n",
    "        mapping_json = read_json(mapping_path)\n",
    "    except json.JSONDecodeError:\n",
    "        mapping_json = {}\n",
    "    mapping_data.update(mapping_json)\n",
    "    \n",
    "mapping_data"
   ]
  },
  {
   "cell_type": "code",
   "execution_count": 259,
   "id": "a4c8807d",
   "metadata": {
    "deletable": false,
    "editable": false
   },
   "outputs": [
    {
     "data": {
      "text/html": [
       "<p><strong><pre style='display: inline;'>q19</pre></strong> passed!</p>"
      ],
      "text/plain": [
       "q19 results: All test cases passed!"
      ]
     },
     "execution_count": 259,
     "metadata": {},
     "output_type": "execute_result"
    }
   ],
   "source": [
    "grader.check(\"q19\")"
   ]
  },
  {
   "cell_type": "markdown",
   "id": "4921d314",
   "metadata": {},
   "source": [
    "In the above cell, note that in the `try/except` block, we specifically checked for the `json.JSONDecodeError`. This is the error that is thrown when you try to call `json.load` on a **broken** JSON file."
   ]
  },
  {
   "cell_type": "markdown",
   "id": "55596386",
   "metadata": {},
   "source": [
    "## Segment 4: Data Analysis\n",
    "\n",
    "We have now managed to read all the data in the `small_data` directory. Now is the time to test if our data structures work!"
   ]
  },
  {
   "cell_type": "markdown",
   "id": "19bad36d",
   "metadata": {},
   "source": [
    "**Question 20.1**: What is the `host_name` of the **second** planet in `'planets_2.csv'`?\n",
    "\n",
    "You **must** skip any broken rows. So, you can directly access from the list `planets_2_list` to answer this question."
   ]
  },
  {
   "cell_type": "code",
   "execution_count": 260,
   "id": "495c9795",
   "metadata": {
    "tags": []
   },
   "outputs": [],
   "source": [
    "# compute and store the answer in the variable 'second_planet_host', then display it\n",
    "second_planet_host = planets_2_list[1].host_name"
   ]
  },
  {
   "cell_type": "code",
   "execution_count": 261,
   "id": "6ec46afe",
   "metadata": {
    "deletable": false,
    "editable": false
   },
   "outputs": [
    {
     "data": {
      "text/html": [
       "<p><strong><pre style='display: inline;'>q20-1</pre></strong> passed!</p>"
      ],
      "text/plain": [
       "q20-1 results: All test cases passed!"
      ]
     },
     "execution_count": 261,
     "metadata": {},
     "output_type": "execute_result"
    }
   ],
   "source": [
    "grader.check(\"q20-1\")"
   ]
  },
  {
   "cell_type": "markdown",
   "id": "d026ac61",
   "metadata": {},
   "source": [
    "**Question 20.2**: What is the `Star` object of the **third** planet in `'planets_2.csv'`?\n",
    "\n",
    "You **must** skip any broken rows. So, you can directly access from the list `planets_2_list` to answer this question.\n",
    "\n",
    "**Hint:** You can use the `stars_dict` **dictionary** defined in q12.2 to find the `Star` object."
   ]
  },
  {
   "cell_type": "code",
   "execution_count": null,
   "id": "59a3ba60",
   "metadata": {
    "tags": []
   },
   "outputs": [],
   "source": [
    "# compute and store the answer in the variable 'third_planet_star', then display it\n"
   ]
  },
  {
   "cell_type": "code",
   "execution_count": null,
   "id": "2f96d702",
   "metadata": {
    "deletable": false,
    "editable": false
   },
   "outputs": [],
   "source": [
    "grader.check(\"q20-2\")"
   ]
  },
  {
   "cell_type": "markdown",
   "id": "4f2c3768",
   "metadata": {},
   "source": [
    "**Question 20.3**: What is the `stellar_radius` of the star around which the **first** planet in `'planets_1.csv'` orbits?\n",
    "\n",
    "You can directly access from the list `planets_1_list` to answer this question."
   ]
  },
  {
   "cell_type": "code",
   "execution_count": null,
   "id": "37786949",
   "metadata": {
    "tags": []
   },
   "outputs": [],
   "source": [
    "# compute and store the answer in the variable 'first_planet_star_radius', then display it\n"
   ]
  },
  {
   "cell_type": "code",
   "execution_count": null,
   "id": "8cf1837f",
   "metadata": {
    "deletable": false,
    "editable": false
   },
   "outputs": [],
   "source": [
    "grader.check(\"q20-3\")"
   ]
  }
 ],
 "metadata": {
  "kernelspec": {
   "display_name": "Python 3 (ipykernel)",
   "language": "python",
   "name": "python3"
  },
  "language_info": {
   "codemirror_mode": {
    "name": "ipython",
    "version": 3
   },
   "file_extension": ".py",
   "mimetype": "text/x-python",
   "name": "python",
   "nbconvert_exporter": "python",
   "pygments_lexer": "ipython3",
   "version": "3.9.12"
  },
  "otter": {
   "OK_FORMAT": true,
   "tests": {
    "planet_object": {
     "name": "planet_object",
     "points": 0,
     "suites": [
      {
       "cases": [
        {
         "code": ">>> practice_test.check(\"qplanet_object\", jupiter)\nTrue",
         "hidden": false,
         "locked": false
        }
       ],
       "scored": true,
       "setup": "",
       "teardown": "",
       "type": "doctest"
      }
     ]
    },
    "q1-1": {
     "name": "q1-1",
     "points": 2,
     "suites": [
      {
       "cases": [
        {
         "code": ">>> practice_test.check(\"q1-1\", all_files)\nTrue",
         "hidden": false,
         "locked": false
        }
       ],
       "scored": true,
       "setup": "",
       "teardown": "",
       "type": "doctest"
      }
     ]
    },
    "q1-2": {
     "name": "q1-2",
     "points": 3,
     "suites": [
      {
       "cases": [
        {
         "code": ">>> practice_test.check(\"q1-2\", actual_files)\nTrue",
         "hidden": false,
         "locked": false
        }
       ],
       "scored": true,
       "setup": "",
       "teardown": "",
       "type": "doctest"
      }
     ]
    },
    "q10-1": {
     "name": "q10-1",
     "points": 1,
     "suites": [
      {
       "cases": [
        {
         "code": ">>> practice_test.check(\"q10-1\", first_star_type)\nTrue",
         "hidden": false,
         "locked": false
        }
       ],
       "scored": true,
       "setup": "",
       "teardown": "",
       "type": "doctest"
      }
     ]
    },
    "q10-2": {
     "name": "q10-2",
     "points": 2,
     "suites": [
      {
       "cases": [
        {
         "code": ">>> practice_test.check(\"q10-2\", second_star_age)\nTrue",
         "hidden": false,
         "locked": false
        }
       ],
       "scored": true,
       "setup": "",
       "teardown": "",
       "type": "doctest"
      }
     ]
    },
    "q10-3": {
     "name": "q10-3",
     "points": 2,
     "suites": [
      {
       "cases": [
        {
         "code": ">>> practice_test.check(\"q10-3\", third_star_mass)\nTrue",
         "hidden": false,
         "locked": false
        }
       ],
       "scored": true,
       "setup": "",
       "teardown": "",
       "type": "doctest"
      }
     ]
    },
    "q11": {
     "name": "q11",
     "points": 5,
     "suites": [
      {
       "cases": [
        {
         "code": ">>> practice_test.check(\"q11\", stars_2_dict)\nTrue",
         "hidden": false,
         "locked": false
        }
       ],
       "scored": true,
       "setup": "",
       "teardown": "",
       "type": "doctest"
      }
     ]
    },
    "q12-1": {
     "name": "q12-1",
     "points": 2,
     "suites": [
      {
       "cases": [
        {
         "code": ">>> practice_test.check(\"q12-1\", stars_3_dict)\nTrue",
         "hidden": false,
         "locked": false
        }
       ],
       "scored": true,
       "setup": "",
       "teardown": "",
       "type": "doctest"
      }
     ]
    },
    "q12-2": {
     "name": "q12-2",
     "points": 3,
     "suites": [
      {
       "cases": [
        {
         "code": ">>> practice_test.check(\"q12-2\", stars_dict)\nTrue",
         "hidden": false,
         "locked": false
        }
       ],
       "scored": true,
       "setup": "",
       "teardown": "",
       "type": "doctest"
      }
     ]
    },
    "q13-1": {
     "name": "q13-1",
     "points": 3,
     "suites": [
      {
       "cases": [
        {
         "code": ">>> practice_test.check(\"q13-1\", planets_1_rows)\nTrue",
         "hidden": false,
         "locked": false
        }
       ],
       "scored": true,
       "setup": "",
       "teardown": "",
       "type": "doctest"
      }
     ]
    },
    "q13-2": {
     "name": "q13-2",
     "points": 2,
     "suites": [
      {
       "cases": [
        {
         "code": ">>> practice_test.check(\"q13-2\", mapping_1_json)\nTrue",
         "hidden": false,
         "locked": false
        }
       ],
       "scored": true,
       "setup": "",
       "teardown": "",
       "type": "doctest"
      }
     ]
    },
    "q14-1": {
     "name": "q14-1",
     "points": 1,
     "suites": [
      {
       "cases": [
        {
         "code": ">>> practice_test.check(\"q14-1\", first_planet_name)\nTrue",
         "hidden": false,
         "locked": false
        }
       ],
       "scored": true,
       "setup": "",
       "teardown": "",
       "type": "doctest"
      }
     ]
    },
    "q14-2": {
     "name": "q14-2",
     "points": 2,
     "suites": [
      {
       "cases": [
        {
         "code": ">>> practice_test.check(\"q14-2\", first_planet_flux)\nTrue",
         "hidden": false,
         "locked": false
        }
       ],
       "scored": true,
       "setup": "",
       "teardown": "",
       "type": "doctest"
      }
     ]
    },
    "q14-3": {
     "name": "q14-3",
     "points": 2,
     "suites": [
      {
       "cases": [
        {
         "code": ">>> practice_test.check(\"q14-3\", second_planet_controversy)\nTrue",
         "hidden": false,
         "locked": false
        }
       ],
       "scored": true,
       "setup": "",
       "teardown": "",
       "type": "doctest"
      }
     ]
    },
    "q15": {
     "name": "q15",
     "points": 5,
     "suites": [
      {
       "cases": [
        {
         "code": ">>> practice_test.check(\"q15\", first_planet)\nTrue",
         "hidden": false,
         "locked": false
        }
       ],
       "scored": true,
       "setup": "",
       "teardown": "",
       "type": "doctest"
      }
     ]
    },
    "q16": {
     "name": "q16",
     "points": 5,
     "suites": [
      {
       "cases": [
        {
         "code": ">>> practice_test.check(\"q16\", planets_1_list)\nTrue",
         "hidden": false,
         "locked": false
        }
       ],
       "scored": true,
       "setup": "",
       "teardown": "",
       "type": "doctest"
      }
     ]
    },
    "q17-1": {
     "name": "q17-1",
     "points": 3,
     "suites": [
      {
       "cases": [
        {
         "code": ">>> practice_test.check(\"q17-1\", fifth_planet)\nTrue",
         "hidden": false,
         "locked": false
        }
       ],
       "scored": true,
       "setup": "",
       "teardown": "",
       "type": "doctest"
      }
     ]
    },
    "q17-2": {
     "name": "q17-2",
     "points": 2,
     "suites": [
      {
       "cases": [
        {
         "code": ">>> practice_test.check(\"q17-2\", fifth_planet_name)\nTrue",
         "hidden": false,
         "locked": false
        }
       ],
       "scored": true,
       "setup": "",
       "teardown": "",
       "type": "doctest"
      }
     ]
    },
    "q18": {
     "name": "q18",
     "points": 5,
     "suites": [
      {
       "cases": [
        {
         "code": ">>> practice_test.check(\"q18\", planets_2_list)\nTrue",
         "hidden": false,
         "locked": false
        }
       ],
       "scored": true,
       "setup": "",
       "teardown": "",
       "type": "doctest"
      }
     ]
    },
    "q19": {
     "name": "q19",
     "points": 5,
     "suites": [
      {
       "cases": [
        {
         "code": ">>> practice_test.check(\"q19\", mapping_data)\nTrue",
         "hidden": false,
         "locked": false
        }
       ],
       "scored": true,
       "setup": "",
       "teardown": "",
       "type": "doctest"
      }
     ]
    },
    "q2": {
     "name": "q2",
     "points": 5,
     "suites": [
      {
       "cases": [
        {
         "code": ">>> practice_test.check(\"q2\", files_in_small_data)\nTrue",
         "hidden": false,
         "locked": false
        }
       ],
       "scored": true,
       "setup": "",
       "teardown": "",
       "type": "doctest"
      }
     ]
    },
    "q20-1": {
     "name": "q20-1",
     "points": 1,
     "suites": [
      {
       "cases": [
        {
         "code": ">>> practice_test.check(\"q20-1\", second_planet_host)\nTrue",
         "hidden": false,
         "locked": false
        }
       ],
       "scored": true,
       "setup": "",
       "teardown": "",
       "type": "doctest"
      }
     ]
    },
    "q20-2": {
     "name": "q20-2",
     "points": 2,
     "suites": [
      {
       "cases": [
        {
         "code": ">>> practice_test.check(\"q20-2\", third_planet_star)\nTrue",
         "hidden": false,
         "locked": false
        }
       ],
       "scored": true,
       "setup": "",
       "teardown": "",
       "type": "doctest"
      }
     ]
    },
    "q20-3": {
     "name": "q20-3",
     "points": 2,
     "suites": [
      {
       "cases": [
        {
         "code": ">>> practice_test.check(\"q20-3\", first_planet_star_radius)\nTrue",
         "hidden": false,
         "locked": false
        }
       ],
       "scored": true,
       "setup": "",
       "teardown": "",
       "type": "doctest"
      }
     ]
    },
    "q3-1": {
     "name": "q3-1",
     "points": 1,
     "suites": [
      {
       "cases": [
        {
         "code": ">>> practice_test.check(\"q3-1\", stars_1_path)\nTrue",
         "hidden": false,
         "locked": false
        }
       ],
       "scored": true,
       "setup": "",
       "teardown": "",
       "type": "doctest"
      }
     ]
    },
    "q3-2": {
     "name": "q3-2",
     "points": 4,
     "suites": [
      {
       "cases": [
        {
         "code": ">>> practice_test.check(\"q3-2\", paths_in_small_data)\nTrue",
         "hidden": false,
         "locked": false
        }
       ],
       "scored": true,
       "setup": "",
       "teardown": "",
       "type": "doctest"
      }
     ]
    },
    "q4-1": {
     "name": "q4-1",
     "points": 2,
     "suites": [
      {
       "cases": [
        {
         "code": ">>> practice_test.check(\"q4-1\", json_paths)\nTrue",
         "hidden": false,
         "locked": false
        }
       ],
       "scored": true,
       "setup": "",
       "teardown": "",
       "type": "doctest"
      }
     ]
    },
    "q4-2": {
     "name": "q4-2",
     "points": 3,
     "suites": [
      {
       "cases": [
        {
         "code": ">>> practice_test.check(\"q4-2\", stars_paths)\nTrue",
         "hidden": false,
         "locked": false
        }
       ],
       "scored": true,
       "setup": "",
       "teardown": "",
       "type": "doctest"
      }
     ]
    },
    "q5": {
     "name": "q5",
     "points": 5,
     "suites": [
      {
       "cases": [
        {
         "code": ">>> practice_test.check(\"q5\", first_star)\nTrue",
         "hidden": false,
         "locked": false
        }
       ],
       "scored": true,
       "setup": "",
       "teardown": "",
       "type": "doctest"
      }
     ]
    },
    "q6": {
     "name": "q6",
     "points": 5,
     "suites": [
      {
       "cases": [
        {
         "code": ">>> practice_test.check(\"q6\", second_star)\nTrue",
         "hidden": false,
         "locked": false
        }
       ],
       "scored": true,
       "setup": "",
       "teardown": "",
       "type": "doctest"
      }
     ]
    },
    "q7-1": {
     "name": "q7-1",
     "points": 2,
     "suites": [
      {
       "cases": [
        {
         "code": ">>> practice_test.check(\"q7-1\", second_star_spectral_type)\nTrue",
         "hidden": false,
         "locked": false
        }
       ],
       "scored": true,
       "setup": "",
       "teardown": "",
       "type": "doctest"
      }
     ]
    },
    "q7-2": {
     "name": "q7-2",
     "points": 3,
     "suites": [
      {
       "cases": [
        {
         "code": ">>> practice_test.check(\"q7-2\", first_star_stellar_age)\nTrue",
         "hidden": false,
         "locked": false
        }
       ],
       "scored": true,
       "setup": "",
       "teardown": "",
       "type": "doctest"
      }
     ]
    },
    "q8": {
     "name": "q8",
     "points": 5,
     "suites": [
      {
       "cases": [
        {
         "code": ">>> practice_test.check(\"q8\", stars_1_dict)\nTrue",
         "hidden": false,
         "locked": false
        }
       ],
       "scored": true,
       "setup": "",
       "teardown": "",
       "type": "doctest"
      }
     ]
    },
    "q9-1": {
     "name": "q9-1",
     "points": 2,
     "suites": [
      {
       "cases": [
        {
         "code": ">>> practice_test.check(\"q9-1\", gj_876)\nTrue",
         "hidden": false,
         "locked": false
        }
       ],
       "scored": true,
       "setup": "",
       "teardown": "",
       "type": "doctest"
      }
     ]
    },
    "q9-2": {
     "name": "q9-2",
     "points": 3,
     "suites": [
      {
       "cases": [
        {
         "code": ">>> practice_test.check(\"q9-2\", gj_876_luminosity)\nTrue",
         "hidden": false,
         "locked": false
        }
       ],
       "scored": true,
       "setup": "",
       "teardown": "",
       "type": "doctest"
      }
     ]
    },
    "star_object": {
     "name": "star_object",
     "points": 0,
     "suites": [
      {
       "cases": [
        {
         "code": ">>> practice_test.check(\"qstar_object\", sun)\nTrue",
         "hidden": false,
         "locked": false
        }
       ],
       "scored": true,
       "setup": "",
       "teardown": "",
       "type": "doctest"
      }
     ]
    }
   }
  }
 },
 "nbformat": 4,
 "nbformat_minor": 5
}
