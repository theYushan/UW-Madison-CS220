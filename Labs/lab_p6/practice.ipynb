{
 "cells": [
  {
   "cell_type": "code",
   "execution_count": 1,
   "id": "e8e47436",
   "metadata": {
    "deletable": false,
    "editable": false
   },
   "outputs": [],
   "source": [
    "# Initialize Otter\n",
    "import otter\n",
    "grader = otter.Notebook(\"practice.ipynb\")"
   ]
  },
  {
   "cell_type": "code",
   "execution_count": 2,
   "id": "624f33a0",
   "metadata": {},
   "outputs": [],
   "source": [
    "import practice_test"
   ]
  },
  {
   "cell_type": "markdown",
   "id": "0ea8895e",
   "metadata": {},
   "source": [
    "# Lab-P6: Real-world Datasets (Airbnb)"
   ]
  },
  {
   "cell_type": "markdown",
   "id": "55b71f24",
   "metadata": {},
   "source": [
    "## Segment 2: Loading Data from CSVs"
   ]
  },
  {
   "cell_type": "markdown",
   "id": "ea7beaec",
   "metadata": {},
   "source": [
    "### About the dataset\n",
    "\n",
    "Now would be a good time to open `airbnb.csv` with Microsoft Excel (or some other Spreadsheet viewing software) and have a look at the data. The first few rows of the dataset are reproduced here:"
   ]
  },
  {
   "cell_type": "markdown",
   "id": "7c85a848",
   "metadata": {},
   "source": [
    "room_id|name|host_id|host_name|neighborhood_group|neighborhood|latitude|longitude|room_type|price|minimum_nights|number_of_reviews|last_review|reviews_per_month|calculated_host_listings_count|availability_365\n",
    "------|------|------|------|------|------|------|------|------|------|------|------|------|------|------|------|\n",
    "2539|Clean & quiet apt home by the park|2787|John|Brooklyn|Kensington|40.64749000000001|-73.97237|Private room|149|1|9|2018-10-19|0.21|6|365\n",
    "2595|Skylit Midtown Castle|2845|Jennifer|Manhattan|Midtown|40.75362|-73.98376999999998|Entire home/apt|225|1|45|2019-05-21|0.38|2|355\n",
    "3647|THE VILLAGE OF HARLEM....NEW YORK !|4632|Elisabeth|Manhattan|Harlem|40.80902|-73.9419|Private room|150|3|0|||1|365\n",
    "3831|Cozy Entire Floor of Brownstone|4869|LisaRoxanne|Brooklyn|Clinton Hill|40.68514|-73.95976|Entire home/apt|89|1|270|2019-07-05|4.64|1|194\n",
    "5022|Entire Apt: Spacious Studio/Loft by central park|7192|Laura|Manhattan|East Harlem|40.79851|-73.94399|Entire home/apt|80|10|9|2018-11-19|0.1|1|0\n",
    "5099|Large Cozy 1 BR Apartment In Midtown East|7322|Chris|Manhattan|Murray Hill|40.74767|-73.975|Entire home/apt|200|3|74|2019-06-22|0.59|1|129"
   ]
  },
  {
   "cell_type": "markdown",
   "id": "d664f566",
   "metadata": {},
   "source": [
    "The `airbnb.csv` file has data about nearly 50,000 listings on Airbnb from New York City, NY from the year 2019. Each row in the file contains data about a *single listing*. The columns contain the following data about each listing (along with the correct data type you **must** represent it as):\n",
    "\n",
    "1. `room_id` - the ID of the room listing (`str`)\n",
    "2. `name` - the name of the room listing (`str`)\n",
    "3. `host_id` - the ID of the host for the room listing (`str`)\n",
    "4. `host_name` - the name of the host for the room listing (`str`)\n",
    "5. `neighborhood_group` - the group of neighborhoods the room is in (`str`)\n",
    "6. `neighborhood` - the neighborhood the room is in (`str`)\n",
    "7. `latitude` - the latitude where the room is located (`float`)\n",
    "8. `longitude` - the longitude where the room is located (`float`)\n",
    "9. `room_type` - the type of room (`str`)\n",
    "10. `price` - the price per night for the room in US dollars (`int`)\n",
    "11. `minimum_nights` - the minimum amount of nights the room must be booked for (`int`)\n",
    "12. `number_of_reviews` - the total number of reviews the room has received (`int`)\n",
    "13. `last_review` - the date of the most recent review in the form yyyy-mm-dd (`str`)\n",
    "14. `reviews_per_month` - how many reviews per month the room receives (`float`)\n",
    "15. `calculated_host_listings_count` - how many listings the host of the room has (`int`)\n",
    "16. `availability_365` - how many days per year the listing is available for (`int`)\n",
    "\n",
    "**Warning:** Keep in mind while writing your project, some entries may be **missing data** for specific columns. Sadly, data in real life is often messy, and in p6, we will have to deal with missing data."
   ]
  },
  {
   "cell_type": "markdown",
   "id": "1a403dd1",
   "metadata": {},
   "source": [
    "### Task 2.1: Processing the CSV file\n",
    "\n",
    "You will now read this dataset with Python. [Chapter 14](https://automatetheboringstuff.com/chapter14/) of Automate the Boring Stuff introduces CSV files and provides a code snippet you can reuse. You can use the same code snippet for p6. Run the next few cells and see their outputs."
   ]
  },
  {
   "cell_type": "code",
   "execution_count": 3,
   "id": "95a2e907",
   "metadata": {},
   "outputs": [],
   "source": [
    "# it is considered a good coding practice to place all import statements at the top of the notebook\n",
    "# please place all your import statements in this cell if you need to import any more modules for this lab\n",
    "\n",
    "import csv # we have imported this module for you; it is required by the process_csv function below"
   ]
  },
  {
   "cell_type": "code",
   "execution_count": 6,
   "id": "80e07c48",
   "metadata": {},
   "outputs": [],
   "source": [
    "# modified from https://automatetheboringstuff.com/chapter14/\n",
    "def process_csv(filename):\n",
    "    example_file = open(filename, encoding=\"utf-8\")\n",
    "    example_reader = csv.reader(example_file)\n",
    "    example_data = list(example_reader)\n",
    "    example_file.close()\n",
    "    return example_data"
   ]
  },
  {
   "cell_type": "code",
   "execution_count": 5,
   "id": "c920ee88",
   "metadata": {},
   "outputs": [
    {
     "data": {
      "text/plain": [
       "[['room_id',\n",
       "  'name',\n",
       "  'host_id',\n",
       "  'host_name',\n",
       "  'neighborhood_group',\n",
       "  'neighborhood',\n",
       "  'latitude',\n",
       "  'longitude',\n",
       "  'room_type',\n",
       "  'price',\n",
       "  'minimum_nights',\n",
       "  'number_of_reviews',\n",
       "  'last_review',\n",
       "  'reviews_per_month',\n",
       "  'calculated_host_listings_count',\n",
       "  'availability_365'],\n",
       " ['2539',\n",
       "  'Clean & quiet apt home by the park',\n",
       "  '2787',\n",
       "  'John',\n",
       "  'Brooklyn',\n",
       "  'Kensington',\n",
       "  '40.64749000000001',\n",
       "  '-73.97237',\n",
       "  'Private room',\n",
       "  '149',\n",
       "  '1',\n",
       "  '9',\n",
       "  '2018-10-19',\n",
       "  '0.21',\n",
       "  '6',\n",
       "  '365'],\n",
       " ['2595',\n",
       "  'Skylit Midtown Castle',\n",
       "  '2845',\n",
       "  'Jennifer',\n",
       "  'Manhattan',\n",
       "  'Midtown',\n",
       "  '40.75362',\n",
       "  '-73.98376999999998',\n",
       "  'Entire home/apt',\n",
       "  '225',\n",
       "  '1',\n",
       "  '45',\n",
       "  '2019-05-21',\n",
       "  '0.38',\n",
       "  '2',\n",
       "  '355']]"
      ]
     },
     "execution_count": 5,
     "metadata": {},
     "output_type": "execute_result"
    }
   ],
   "source": [
    "# this call to process_csv reads the data in \"airbnb.csv\"\n",
    "csv_data = process_csv(\"airbnb.csv\")\n",
    "\n",
    "# this will display the first three items in the list `csv_data`\n",
    "csv_data[:3]"
   ]
  },
  {
   "cell_type": "markdown",
   "id": "3690669d",
   "metadata": {},
   "source": [
    "The variable `csv_data` stores the contents of the file `airbnb.csv` as a **list of lists** (i.e., `csv_data` is a **list**, and the elements of this list are **lists** themselves). In the next subsection, you will learn to access data stored within this data structure."
   ]
  },
  {
   "cell_type": "markdown",
   "id": "9c81f538",
   "metadata": {},
   "source": [
    "### Task 2.2: Accessing the contents of the dataset\n",
    "\n",
    "You will now index the data to extract the correct answers for the questions listed below. Some have been done for you. To understand the results better, locate the values in the `airbnb.csv` file."
   ]
  },
  {
   "cell_type": "markdown",
   "id": "5ec72709",
   "metadata": {},
   "source": [
    "**Question 1:** What are the `names` of the **columns** in the dataset?\n",
    "\n",
    "**Hint:** Take a look at the output of the cell above and see where the header data is stored. Use **indexing** to extract the csv header."
   ]
  },
  {
   "cell_type": "code",
   "execution_count": 8,
   "id": "e2c0a93c",
   "metadata": {
    "tags": []
   },
   "outputs": [
    {
     "data": {
      "text/plain": [
       "['room_id',\n",
       " 'name',\n",
       " 'host_id',\n",
       " 'host_name',\n",
       " 'neighborhood_group',\n",
       " 'neighborhood',\n",
       " 'latitude',\n",
       " 'longitude',\n",
       " 'room_type',\n",
       " 'price',\n",
       " 'minimum_nights',\n",
       " 'number_of_reviews',\n",
       " 'last_review',\n",
       " 'reviews_per_month',\n",
       " 'calculated_host_listings_count',\n",
       " 'availability_365']"
      ]
     },
     "execution_count": 8,
     "metadata": {},
     "output_type": "execute_result"
    }
   ],
   "source": [
    "# replace the ... with your code\n",
    "csv_header = csv_data[0] # A list of the column headers\n",
    "\n",
    "csv_header"
   ]
  },
  {
   "cell_type": "code",
   "execution_count": 9,
   "id": "e30c05fb",
   "metadata": {
    "deletable": false,
    "editable": false
   },
   "outputs": [
    {
     "data": {
      "text/html": [
       "<p><strong><pre style='display: inline;'>q1</pre></strong> passed!</p>"
      ],
      "text/plain": [
       "q1 results: All test cases passed!"
      ]
     },
     "execution_count": 9,
     "metadata": {},
     "output_type": "execute_result"
    }
   ],
   "source": [
    "grader.check(\"q1\")"
   ]
  },
  {
   "cell_type": "markdown",
   "id": "c79c4656",
   "metadata": {},
   "source": [
    "It would be a good idea to use **slicing** to extract all the inner lists (except the header), and store them in a variable you can use later."
   ]
  },
  {
   "cell_type": "code",
   "execution_count": 10,
   "id": "d77b835f",
   "metadata": {
    "tags": []
   },
   "outputs": [],
   "source": [
    "csv_rows = csv_data[1:] # extract the entire CSV data set besides the header\n",
    "# do NOT attempt to display csv_data(i.e., do not print out the variable \n",
    "# by adding the variable name to the end of the cell, do not add an addtional line to this cell);\n",
    "# it has over 50,000 lists, and will take up unnecessary space\n",
    "# you can confirm that you extracted the data correctly by answering the next few questions"
   ]
  },
  {
   "cell_type": "markdown",
   "id": "b63c5262",
   "metadata": {},
   "source": [
    "**Question 2.1:** How many **rows** are in the dataset (excluding the **header**)?"
   ]
  },
  {
   "cell_type": "code",
   "execution_count": 80,
   "id": "fa23d8ee",
   "metadata": {
    "tags": []
   },
   "outputs": [
    {
     "data": {
      "text/plain": [
       "48895"
      ]
     },
     "execution_count": 80,
     "metadata": {},
     "output_type": "execute_result"
    }
   ],
   "source": [
    "# we have done this one for you\n",
    "num_rows = len(csv_rows)\n",
    "\n",
    "num_rows"
   ]
  },
  {
   "cell_type": "code",
   "execution_count": 68,
   "id": "2235cbc0",
   "metadata": {
    "deletable": false,
    "editable": false
   },
   "outputs": [
    {
     "data": {
      "text/html": [
       "<p><strong><pre style='display: inline;'>q2-1</pre></strong> passed!</p>"
      ],
      "text/plain": [
       "q2-1 results: All test cases passed!"
      ]
     },
     "execution_count": 68,
     "metadata": {},
     "output_type": "execute_result"
    }
   ],
   "source": [
    "grader.check(\"q2-1\")"
   ]
  },
  {
   "cell_type": "markdown",
   "id": "41669ff3",
   "metadata": {},
   "source": [
    "**Question 2.2:** What are the **first** ten listings in the dataset?"
   ]
  },
  {
   "cell_type": "code",
   "execution_count": 13,
   "id": "c9004eda",
   "metadata": {
    "scrolled": true,
    "tags": []
   },
   "outputs": [
    {
     "data": {
      "text/plain": [
       "[['2539',\n",
       "  'Clean & quiet apt home by the park',\n",
       "  '2787',\n",
       "  'John',\n",
       "  'Brooklyn',\n",
       "  'Kensington',\n",
       "  '40.64749000000001',\n",
       "  '-73.97237',\n",
       "  'Private room',\n",
       "  '149',\n",
       "  '1',\n",
       "  '9',\n",
       "  '2018-10-19',\n",
       "  '0.21',\n",
       "  '6',\n",
       "  '365'],\n",
       " ['2595',\n",
       "  'Skylit Midtown Castle',\n",
       "  '2845',\n",
       "  'Jennifer',\n",
       "  'Manhattan',\n",
       "  'Midtown',\n",
       "  '40.75362',\n",
       "  '-73.98376999999998',\n",
       "  'Entire home/apt',\n",
       "  '225',\n",
       "  '1',\n",
       "  '45',\n",
       "  '2019-05-21',\n",
       "  '0.38',\n",
       "  '2',\n",
       "  '355'],\n",
       " ['3647',\n",
       "  'THE VILLAGE OF HARLEM....NEW YORK !',\n",
       "  '4632',\n",
       "  'Elisabeth',\n",
       "  'Manhattan',\n",
       "  'Harlem',\n",
       "  '40.80902',\n",
       "  '-73.9419',\n",
       "  'Private room',\n",
       "  '150',\n",
       "  '3',\n",
       "  '0',\n",
       "  '',\n",
       "  '',\n",
       "  '1',\n",
       "  '365'],\n",
       " ['3831',\n",
       "  'Cozy Entire Floor of Brownstone',\n",
       "  '4869',\n",
       "  'LisaRoxanne',\n",
       "  'Brooklyn',\n",
       "  'Clinton Hill',\n",
       "  '40.68514',\n",
       "  '-73.95976',\n",
       "  'Entire home/apt',\n",
       "  '89',\n",
       "  '1',\n",
       "  '270',\n",
       "  '2019-07-05',\n",
       "  '4.64',\n",
       "  '1',\n",
       "  '194'],\n",
       " ['5022',\n",
       "  'Entire Apt: Spacious Studio/Loft by central park',\n",
       "  '7192',\n",
       "  'Laura',\n",
       "  'Manhattan',\n",
       "  'East Harlem',\n",
       "  '40.79851',\n",
       "  '-73.94399',\n",
       "  'Entire home/apt',\n",
       "  '80',\n",
       "  '10',\n",
       "  '9',\n",
       "  '2018-11-19',\n",
       "  '0.1',\n",
       "  '1',\n",
       "  '0'],\n",
       " ['5099',\n",
       "  'Large Cozy 1 BR Apartment In Midtown East',\n",
       "  '7322',\n",
       "  'Chris',\n",
       "  'Manhattan',\n",
       "  'Murray Hill',\n",
       "  '40.74767',\n",
       "  '-73.975',\n",
       "  'Entire home/apt',\n",
       "  '200',\n",
       "  '3',\n",
       "  '74',\n",
       "  '2019-06-22',\n",
       "  '0.59',\n",
       "  '1',\n",
       "  '129'],\n",
       " ['5121',\n",
       "  'BlissArtsSpace!',\n",
       "  '7356',\n",
       "  'Garon',\n",
       "  'Brooklyn',\n",
       "  'Bedford-Stuyvesant',\n",
       "  '40.68688',\n",
       "  '-73.95596',\n",
       "  'Private room',\n",
       "  '60',\n",
       "  '45',\n",
       "  '49',\n",
       "  '2017-10-05',\n",
       "  '0.4',\n",
       "  '1',\n",
       "  '0'],\n",
       " ['5178',\n",
       "  \"Large Furnished Room Near B'way \",\n",
       "  '8967',\n",
       "  'Shunichi',\n",
       "  'Manhattan',\n",
       "  \"Hell's Kitchen\",\n",
       "  '40.76489',\n",
       "  '-73.98493',\n",
       "  'Private room',\n",
       "  '79',\n",
       "  '2',\n",
       "  '430',\n",
       "  '2019-06-24',\n",
       "  '3.47',\n",
       "  '1',\n",
       "  '220'],\n",
       " ['5203',\n",
       "  'Cozy Clean Guest Room - Family Apt',\n",
       "  '7490',\n",
       "  'MaryEllen',\n",
       "  'Manhattan',\n",
       "  'Upper West Side',\n",
       "  '40.80178',\n",
       "  '-73.96723',\n",
       "  'Private room',\n",
       "  '79',\n",
       "  '2',\n",
       "  '118',\n",
       "  '2017-07-21',\n",
       "  '0.99',\n",
       "  '1',\n",
       "  '0'],\n",
       " ['5238',\n",
       "  'Cute & Cozy Lower East Side 1 bdrm',\n",
       "  '7549',\n",
       "  'Ben',\n",
       "  'Manhattan',\n",
       "  'Chinatown',\n",
       "  '40.71344000000001',\n",
       "  '-73.99037',\n",
       "  'Entire home/apt',\n",
       "  '150',\n",
       "  '1',\n",
       "  '160',\n",
       "  '2019-06-09',\n",
       "  '1.33',\n",
       "  '4',\n",
       "  '188']]"
      ]
     },
     "execution_count": 13,
     "metadata": {},
     "output_type": "execute_result"
    }
   ],
   "source": [
    "# we have done this one for you\n",
    "first_ten_rows = csv_rows[:10]\n",
    "\n",
    "first_ten_rows"
   ]
  },
  {
   "cell_type": "code",
   "execution_count": 14,
   "id": "bf8705b0",
   "metadata": {
    "deletable": false,
    "editable": false
   },
   "outputs": [
    {
     "data": {
      "text/html": [
       "<p><strong><pre style='display: inline;'>q2-2</pre></strong> passed!</p>"
      ],
      "text/plain": [
       "q2-2 results: All test cases passed!"
      ]
     },
     "execution_count": 14,
     "metadata": {},
     "output_type": "execute_result"
    }
   ],
   "source": [
    "grader.check(\"q2-2\")"
   ]
  },
  {
   "cell_type": "markdown",
   "id": "e56b5401",
   "metadata": {},
   "source": [
    "**Question 2.3:** What are the **last** ten listings in the dataset?"
   ]
  },
  {
   "cell_type": "code",
   "execution_count": 15,
   "id": "bec5596f",
   "metadata": {
    "tags": []
   },
   "outputs": [
    {
     "data": {
      "text/plain": [
       "[['36482809',\n",
       "  'Stunning Bedroom NYC! Walking to Central Park!!',\n",
       "  '131529729',\n",
       "  'Kendall',\n",
       "  'Manhattan',\n",
       "  'East Harlem',\n",
       "  '40.79633',\n",
       "  '-73.93605',\n",
       "  'Private room',\n",
       "  '75',\n",
       "  '2',\n",
       "  '0',\n",
       "  '',\n",
       "  '',\n",
       "  '2',\n",
       "  '353'],\n",
       " ['36483010',\n",
       "  'Comfy 1 Bedroom in Midtown East',\n",
       "  '274311461',\n",
       "  'Scott',\n",
       "  'Manhattan',\n",
       "  'Midtown',\n",
       "  '40.75561',\n",
       "  '-73.96723',\n",
       "  'Entire home/apt',\n",
       "  '200',\n",
       "  '6',\n",
       "  '0',\n",
       "  '',\n",
       "  '',\n",
       "  '1',\n",
       "  '176'],\n",
       " ['36483152',\n",
       "  'Garden Jewel Apartment in Williamsburg New York',\n",
       "  '208514239',\n",
       "  'Melki',\n",
       "  'Brooklyn',\n",
       "  'Williamsburg',\n",
       "  '40.71232',\n",
       "  '-73.9422',\n",
       "  'Entire home/apt',\n",
       "  '170',\n",
       "  '1',\n",
       "  '0',\n",
       "  '',\n",
       "  '',\n",
       "  '3',\n",
       "  '365'],\n",
       " ['36484087',\n",
       "  'Spacious Room w/ Private Rooftop, Central location',\n",
       "  '274321313',\n",
       "  'Kat',\n",
       "  'Manhattan',\n",
       "  \"Hell's Kitchen\",\n",
       "  '40.76392',\n",
       "  '-73.99183000000002',\n",
       "  'Private room',\n",
       "  '125',\n",
       "  '4',\n",
       "  '0',\n",
       "  '',\n",
       "  '',\n",
       "  '1',\n",
       "  '31'],\n",
       " ['36484363',\n",
       "  'QUIT PRIVATE HOUSE',\n",
       "  '107716952',\n",
       "  'Michael',\n",
       "  'Queens',\n",
       "  'Jamaica',\n",
       "  '40.69137',\n",
       "  '-73.80844',\n",
       "  'Private room',\n",
       "  '65',\n",
       "  '1',\n",
       "  '0',\n",
       "  '',\n",
       "  '',\n",
       "  '2',\n",
       "  '163'],\n",
       " ['36484665',\n",
       "  'Charming one bedroom - newly renovated rowhouse',\n",
       "  '8232441',\n",
       "  'Sabrina',\n",
       "  'Brooklyn',\n",
       "  'Bedford-Stuyvesant',\n",
       "  '40.67853',\n",
       "  '-73.94995',\n",
       "  'Private room',\n",
       "  '70',\n",
       "  '2',\n",
       "  '0',\n",
       "  '',\n",
       "  '',\n",
       "  '2',\n",
       "  '9'],\n",
       " ['36485057',\n",
       "  'Affordable room in Bushwick/East Williamsburg',\n",
       "  '6570630',\n",
       "  'Marisol',\n",
       "  'Brooklyn',\n",
       "  'Bushwick',\n",
       "  '40.70184',\n",
       "  '-73.93316999999998',\n",
       "  'Private room',\n",
       "  '40',\n",
       "  '4',\n",
       "  '0',\n",
       "  '',\n",
       "  '',\n",
       "  '2',\n",
       "  '36'],\n",
       " ['36485431',\n",
       "  'Sunny Studio at Historical Neighborhood',\n",
       "  '23492952',\n",
       "  'Ilgar & Aysel',\n",
       "  'Manhattan',\n",
       "  'Harlem',\n",
       "  '40.81475',\n",
       "  '-73.94866999999998',\n",
       "  'Entire home/apt',\n",
       "  '115',\n",
       "  '10',\n",
       "  '0',\n",
       "  '',\n",
       "  '',\n",
       "  '1',\n",
       "  '27'],\n",
       " ['36485609',\n",
       "  '43rd St. Time Square-cozy single bed',\n",
       "  '30985759',\n",
       "  'Taz',\n",
       "  'Manhattan',\n",
       "  \"Hell's Kitchen\",\n",
       "  '40.75751',\n",
       "  '-73.99112',\n",
       "  'Shared room',\n",
       "  '55',\n",
       "  '1',\n",
       "  '0',\n",
       "  '',\n",
       "  '',\n",
       "  '6',\n",
       "  '2'],\n",
       " ['36487245',\n",
       "  \"Trendy duplex in the very heart of Hell's Kitchen\",\n",
       "  '68119814',\n",
       "  'Christophe',\n",
       "  'Manhattan',\n",
       "  \"Hell's Kitchen\",\n",
       "  '40.76404',\n",
       "  '-73.98933000000002',\n",
       "  'Private room',\n",
       "  '90',\n",
       "  '7',\n",
       "  '0',\n",
       "  '',\n",
       "  '',\n",
       "  '1',\n",
       "  '23']]"
      ]
     },
     "execution_count": 15,
     "metadata": {},
     "output_type": "execute_result"
    }
   ],
   "source": [
    "# we have done this one for you\n",
    "last_ten_rows = csv_rows[-10:]\n",
    "\n",
    "last_ten_rows"
   ]
  },
  {
   "cell_type": "code",
   "execution_count": 16,
   "id": "cc6267da",
   "metadata": {
    "deletable": false,
    "editable": false
   },
   "outputs": [
    {
     "data": {
      "text/html": [
       "<p><strong><pre style='display: inline;'>q2-3</pre></strong> passed!</p>"
      ],
      "text/plain": [
       "q2-3 results: All test cases passed!"
      ]
     },
     "execution_count": 16,
     "metadata": {},
     "output_type": "execute_result"
    }
   ],
   "source": [
    "grader.check(\"q2-3\")"
   ]
  },
  {
   "cell_type": "markdown",
   "id": "4cd7d6f4",
   "metadata": {},
   "source": [
    "**In general, when you want to confirm that you are reading a very large file correctly, it is a good idea to check that you have the correct number of rows, and that the first and last few rows are correct. Here, you were given access to `practice_test.py`, which has the correct answers, so it was easy for you to check. Otherwise, you would have to manually open `airbnb.csv` and confirm that you have not made any mistakes. It is recommended that you manually open `airbnb.csv` in any case to verify that the data matches your answers for the previous three questions.**"
   ]
  },
  {
   "cell_type": "markdown",
   "id": "38257c3d",
   "metadata": {},
   "source": [
    "**Question 3:** What values are present in the **first row** of the dataset?"
   ]
  },
  {
   "cell_type": "code",
   "execution_count": 17,
   "id": "e18947d6",
   "metadata": {
    "tags": []
   },
   "outputs": [
    {
     "data": {
      "text/plain": [
       "['2539',\n",
       " 'Clean & quiet apt home by the park',\n",
       " '2787',\n",
       " 'John',\n",
       " 'Brooklyn',\n",
       " 'Kensington',\n",
       " '40.64749000000001',\n",
       " '-73.97237',\n",
       " 'Private room',\n",
       " '149',\n",
       " '1',\n",
       " '9',\n",
       " '2018-10-19',\n",
       " '0.21',\n",
       " '6',\n",
       " '365']"
      ]
     },
     "execution_count": 17,
     "metadata": {},
     "output_type": "execute_result"
    }
   ],
   "source": [
    "# replace the ... with your code\n",
    "first_row = csv_rows[0]\n",
    "\n",
    "first_row"
   ]
  },
  {
   "cell_type": "code",
   "execution_count": 18,
   "id": "ecab2464",
   "metadata": {
    "deletable": false,
    "editable": false
   },
   "outputs": [
    {
     "data": {
      "text/html": [
       "<p><strong><pre style='display: inline;'>q3</pre></strong> passed!</p>"
      ],
      "text/plain": [
       "q3 results: All test cases passed!"
      ]
     },
     "execution_count": 18,
     "metadata": {},
     "output_type": "execute_result"
    }
   ],
   "source": [
    "grader.check(\"q3\")"
   ]
  },
  {
   "cell_type": "markdown",
   "id": "6154777a",
   "metadata": {},
   "source": [
    "You now know how to extract a single **row** (or a list of rows) from the file `airbnb.csv`. You will now extract data from a single **cell** of the file.\n",
    "\n",
    "To extract data from a single cell of the csv file, we need two things:\n",
    "  1. row index\n",
    "  2. column index\n",
    "    \n",
    "You already know to extract a row of data with `csv_rows[row_idx]`. Given this list, can you now extract the data in a particular cell using the **column index**?"
   ]
  },
  {
   "cell_type": "markdown",
   "id": "7852e646",
   "metadata": {},
   "source": [
    "**Question 4:** What is the `host_name` of the **first** listing?\n",
    "\n",
    "**Hint:** The **column index** for the `host_name` column is *3*. You may **hardcode** the **column index** as *3* **just for this question**."
   ]
  },
  {
   "cell_type": "code",
   "execution_count": 19,
   "id": "0836dbc5",
   "metadata": {
    "tags": []
   },
   "outputs": [
    {
     "data": {
      "text/plain": [
       "'John'"
      ]
     },
     "execution_count": 19,
     "metadata": {},
     "output_type": "execute_result"
    }
   ],
   "source": [
    "# replace the ... with your code\n",
    "first_row = csv_rows[0] # extract the first row of the dataset\n",
    "first_host_name = first_row[3] # extract the host name\n",
    "\n",
    "first_host_name"
   ]
  },
  {
   "cell_type": "code",
   "execution_count": 20,
   "id": "a58d3186",
   "metadata": {
    "deletable": false,
    "editable": false
   },
   "outputs": [
    {
     "data": {
      "text/html": [
       "<p><strong><pre style='display: inline;'>q4</pre></strong> passed!</p>"
      ],
      "text/plain": [
       "q4 results: All test cases passed!"
      ]
     },
     "execution_count": 20,
     "metadata": {},
     "output_type": "execute_result"
    }
   ],
   "source": [
    "grader.check(\"q4\")"
   ]
  },
  {
   "cell_type": "markdown",
   "id": "e1d7c0ab",
   "metadata": {},
   "source": [
    "You solved the previous question by **hardcoding** the **column index**, when you were just given the **column name**. This is however a **bad practice**, and you **must not** do it in your project. It would be much safer to somehow **extract** the **column index** **from** the **column name**, and then use the **column index**. The following (built-in) list method helps us with that:\n",
    "\n",
    "### List method: `index`\n",
    "\n",
    "**Syntax:** `list.index(column_name)`\n",
    "\n",
    "This function will return the index of the item `column_name` in the `list`. You can see this function in action in the question below."
   ]
  },
  {
   "cell_type": "markdown",
   "id": "4ea3f7c8",
   "metadata": {},
   "source": [
    "**Question 5:** What is the **index** of the column `neighborhood_group`?"
   ]
  },
  {
   "cell_type": "code",
   "execution_count": 21,
   "id": "4864c6ed",
   "metadata": {
    "tags": []
   },
   "outputs": [
    {
     "data": {
      "text/plain": [
       "4"
      ]
     },
     "execution_count": 21,
     "metadata": {},
     "output_type": "execute_result"
    }
   ],
   "source": [
    "# we have done this one for you\n",
    "nbhd_group_index = csv_header.index('neighborhood_group')\n",
    "\n",
    "nbhd_group_index"
   ]
  },
  {
   "cell_type": "code",
   "execution_count": 22,
   "id": "de31b94f",
   "metadata": {
    "deletable": false,
    "editable": false
   },
   "outputs": [
    {
     "data": {
      "text/html": [
       "<p><strong><pre style='display: inline;'>q5</pre></strong> passed!</p>"
      ],
      "text/plain": [
       "q5 results: All test cases passed!"
      ]
     },
     "execution_count": 22,
     "metadata": {},
     "output_type": "execute_result"
    }
   ],
   "source": [
    "grader.check(\"q5\")"
   ]
  },
  {
   "cell_type": "markdown",
   "id": "02dc4138",
   "metadata": {},
   "source": [
    "Can you make sense of the code above? If not, please request your TA/PM to help you before proceeding further."
   ]
  },
  {
   "cell_type": "markdown",
   "id": "d1469998",
   "metadata": {},
   "source": [
    "**Question 6:** What is the **value** in the `neighborhood_group` column of the **first** row?\n",
    "\n",
    "You **must** use the `index` method to extract the **column index** from the given **column name**."
   ]
  },
  {
   "cell_type": "code",
   "execution_count": 23,
   "id": "6ff23dc0",
   "metadata": {
    "tags": []
   },
   "outputs": [
    {
     "data": {
      "text/plain": [
       "'Brooklyn'"
      ]
     },
     "execution_count": 23,
     "metadata": {},
     "output_type": "execute_result"
    }
   ],
   "source": [
    "# replace the ... with your code\n",
    "nbh_group_row1 = csv_rows[0][nbhd_group_index] # do NOT hardcode the number; use the index method to find the relevant column index\n",
    "\n",
    "nbh_group_row1"
   ]
  },
  {
   "cell_type": "code",
   "execution_count": 24,
   "id": "b2d49810",
   "metadata": {
    "deletable": false,
    "editable": false
   },
   "outputs": [
    {
     "data": {
      "text/html": [
       "<p><strong><pre style='display: inline;'>q6</pre></strong> passed!</p>"
      ],
      "text/plain": [
       "q6 results: All test cases passed!"
      ]
     },
     "execution_count": 24,
     "metadata": {},
     "output_type": "execute_result"
    }
   ],
   "source": [
    "grader.check(\"q6\")"
   ]
  },
  {
   "cell_type": "markdown",
   "id": "508412d6",
   "metadata": {},
   "source": [
    "### Task 2.3: Build a helper function for quick data access\n",
    "\n",
    "It is quite cumbersome to extract data from `airbnb.csv` by indexing `csv_rows` and using the `index` method each time. To save yourself some time and effort, fill in the details of the following helper function.\n",
    "\n",
    "After finishing the definition of the `cell` function below, you **must only** use this function to extract data from `airbnb.csv`. In p6, you will **lose points** if you attempt to extract data from `airbnb.csv` without **explicitly** calling the `cell` function."
   ]
  },
  {
   "cell_type": "code",
   "execution_count": 25,
   "id": "8cd7953a",
   "metadata": {
    "tags": []
   },
   "outputs": [],
   "source": [
    "def cell(row_idx, col_name):\n",
    "    \"\"\"\n",
    "    cell(row_idx, col_name) returns the data value (cell) \n",
    "    corresponding to the row index `row_idx`\n",
    "    and the column name `col_name` of a CSV file\n",
    "    \"\"\"\n",
    "    # replace the ... with your code\n",
    "    col_idx = csv_header.index(col_name)\n",
    "    val = csv_rows[row_idx][col_idx]\n",
    "    if val == \"\": # when we come across missing data, we return None instead\n",
    "        return None\n",
    "    return val"
   ]
  },
  {
   "cell_type": "markdown",
   "id": "adc668d0",
   "metadata": {},
   "source": [
    "**Question 7.1:** What is the `neighborhood` of the **first** listing?\n",
    "\n",
    "You **must** answer this question by calling the `cell` function."
   ]
  },
  {
   "cell_type": "code",
   "execution_count": 26,
   "id": "e4d94868",
   "metadata": {
    "scrolled": true,
    "tags": []
   },
   "outputs": [
    {
     "data": {
      "text/plain": [
       "'Kensington'"
      ]
     },
     "execution_count": 26,
     "metadata": {},
     "output_type": "execute_result"
    }
   ],
   "source": [
    "# replace the ... with your code\n",
    "first_neighborhood = cell(0, \"neighborhood\")\n",
    "\n",
    "first_neighborhood"
   ]
  },
  {
   "cell_type": "code",
   "execution_count": 27,
   "id": "45cfdd60",
   "metadata": {
    "deletable": false,
    "editable": false
   },
   "outputs": [
    {
     "data": {
      "text/html": [
       "<p><strong><pre style='display: inline;'>q7-1</pre></strong> passed!</p>"
      ],
      "text/plain": [
       "q7-1 results: All test cases passed!"
      ]
     },
     "execution_count": 27,
     "metadata": {},
     "output_type": "execute_result"
    }
   ],
   "source": [
    "grader.check(\"q7-1\")"
   ]
  },
  {
   "cell_type": "markdown",
   "id": "cb7de0d2",
   "metadata": {},
   "source": [
    "**Question 7.2:** What is the `name` of the **second** listing?\n",
    "\n",
    "You **must** answer this question by calling the `cell` function."
   ]
  },
  {
   "cell_type": "code",
   "execution_count": 28,
   "id": "16a87308",
   "metadata": {
    "tags": []
   },
   "outputs": [
    {
     "data": {
      "text/plain": [
       "'Skylit Midtown Castle'"
      ]
     },
     "execution_count": 28,
     "metadata": {},
     "output_type": "execute_result"
    }
   ],
   "source": [
    "# replace the ... with your code\n",
    "second_name = cell(1, \"name\")\n",
    "\n",
    "second_name"
   ]
  },
  {
   "cell_type": "code",
   "execution_count": 29,
   "id": "b3a13d11",
   "metadata": {
    "deletable": false,
    "editable": false
   },
   "outputs": [
    {
     "data": {
      "text/html": [
       "<p><strong><pre style='display: inline;'>q7-2</pre></strong> passed!</p>"
      ],
      "text/plain": [
       "q7-2 results: All test cases passed!"
      ]
     },
     "execution_count": 29,
     "metadata": {},
     "output_type": "execute_result"
    }
   ],
   "source": [
    "grader.check(\"q7-2\")"
   ]
  },
  {
   "cell_type": "markdown",
   "id": "73cb241a",
   "metadata": {},
   "source": [
    "**Question 7.3:** What is the `price` of the **third** listing?\n",
    "\n",
    "You **must** answer this question by calling the `cell` function."
   ]
  },
  {
   "cell_type": "code",
   "execution_count": 30,
   "id": "9be683da",
   "metadata": {
    "tags": []
   },
   "outputs": [
    {
     "data": {
      "text/plain": [
       "'150'"
      ]
     },
     "execution_count": 30,
     "metadata": {},
     "output_type": "execute_result"
    }
   ],
   "source": [
    "# replace the ... with your code\n",
    "third_price = cell(2, \"price\")\n",
    "\n",
    "third_price"
   ]
  },
  {
   "cell_type": "code",
   "execution_count": 31,
   "id": "07e8abba",
   "metadata": {
    "deletable": false,
    "editable": false
   },
   "outputs": [
    {
     "data": {
      "text/html": [
       "<p><strong><pre style='display: inline;'>q7-3</pre></strong> passed!</p>"
      ],
      "text/plain": [
       "q7-3 results: All test cases passed!"
      ]
     },
     "execution_count": 31,
     "metadata": {},
     "output_type": "execute_result"
    }
   ],
   "source": [
    "grader.check(\"q7-3\")"
   ]
  },
  {
   "cell_type": "markdown",
   "id": "7da91653",
   "metadata": {},
   "source": [
    "**Question 8:** How many rooms are listed in the `neighborhood_group` *Bronx*?\n",
    "\n",
    "You **must** use `cell` if you want to extract any data from the csv file.\n",
    "\n",
    "**Hint:** You must loop through the entire dataset. Use `cell` to extract the `neighborhood_group` of each room."
   ]
  },
  {
   "cell_type": "code",
   "execution_count": 32,
   "id": "a57863df",
   "metadata": {
    "tags": []
   },
   "outputs": [
    {
     "data": {
      "text/plain": [
       "1091"
      ]
     },
     "execution_count": 32,
     "metadata": {},
     "output_type": "execute_result"
    }
   ],
   "source": [
    "# replace the ... with your code\n",
    "bronx_num_rooms = 0 # initialize with the correct value\n",
    "for idx in range(num_rows): # loop through all the indices \n",
    "    if cell(idx, \"neighborhood_group\") == \"Bronx\": # use `cell` to determine if the listing at `idx` is from the correct neighborhood_group\n",
    "        bronx_num_rooms += 1 # update the variable appropriately\n",
    "\n",
    "bronx_num_rooms"
   ]
  },
  {
   "cell_type": "code",
   "execution_count": 33,
   "id": "f5fc6acc",
   "metadata": {
    "deletable": false,
    "editable": false
   },
   "outputs": [
    {
     "data": {
      "text/html": [
       "<p><strong><pre style='display: inline;'>q8</pre></strong> passed!</p>"
      ],
      "text/plain": [
       "q8 results: All test cases passed!"
      ]
     },
     "execution_count": 33,
     "metadata": {},
     "output_type": "execute_result"
    }
   ],
   "source": [
    "grader.check(\"q8\")"
   ]
  },
  {
   "cell_type": "markdown",
   "id": "4b25c4d5",
   "metadata": {},
   "source": [
    "**Question 9:** List the `host_names` of all the rooms in the `neighborhood` *University Heights*.\n",
    "\n",
    "Your output **must** be a *list*. You **must** use `cell` if you want to extract any data from the csv file.\n",
    "\n",
    "**Hint:** Loop through the entire dataset and use `cell` to determine if each room is in the correct `neighborhood`. Use `cell` once again to extract the `host_name` of each listing, and use the `append` list method to add the `host_name` to your list. "
   ]
  },
  {
   "cell_type": "code",
   "execution_count": 34,
   "id": "29c801f3",
   "metadata": {
    "tags": []
   },
   "outputs": [
    {
     "data": {
      "text/plain": [
       "['Vanessa',\n",
       " 'Rossy,  Carmen And Juan',\n",
       " 'Rossy,  Carmen And Juan',\n",
       " 'Rossy,  Carmen And Juan',\n",
       " 'Maris',\n",
       " 'Brais',\n",
       " 'Justine',\n",
       " 'Rossy,  Carmen And Juan',\n",
       " 'Monica A',\n",
       " 'Justine',\n",
       " 'Justine',\n",
       " 'Pedro',\n",
       " 'Justine',\n",
       " 'Mary',\n",
       " 'Elizabeth',\n",
       " 'Christophe',\n",
       " 'Pierpaolo',\n",
       " 'Oscar',\n",
       " 'Henry',\n",
       " 'Mel',\n",
       " 'Justine']"
      ]
     },
     "execution_count": 34,
     "metadata": {},
     "output_type": "execute_result"
    }
   ],
   "source": [
    "# replace the ... with your code\n",
    "univ_heights_names = [] # initialize as an empty list\n",
    "for idx in range(num_rows): # loop through all the indices \n",
    "    if cell(idx, \"neighborhood\") == \"University Heights\": # use `cell` to determine if the listing at `idx` is from the correct neighborhood\n",
    "        univ_heights_names.append(cell(idx, \"host_name\")) # use `cell` to append the host_name to the list\n",
    "\n",
    "univ_heights_names"
   ]
  },
  {
   "cell_type": "code",
   "execution_count": 35,
   "id": "f2741d1f",
   "metadata": {
    "deletable": false,
    "editable": false
   },
   "outputs": [
    {
     "data": {
      "text/html": [
       "<p><strong><pre style='display: inline;'>q9</pre></strong> passed!</p>"
      ],
      "text/plain": [
       "q9 results: All test cases passed!"
      ]
     },
     "execution_count": 35,
     "metadata": {},
     "output_type": "execute_result"
    }
   ],
   "source": [
    "grader.check(\"q9\")"
   ]
  },
  {
   "cell_type": "markdown",
   "id": "87b748c5",
   "metadata": {},
   "source": [
    "**Important**: Raise your hand and confirm your implementation with a TA. We'll use the `cell` function for all remaining tasks in this lab and throughout the project.\n",
    "\n",
    "## Segment 3: Sorting Data\n",
    "\n",
    "There are two major ways to sort lists in Python: (1) with the `sorted` function and (2) with the `.sort` method. For each method, let's examine (a) how it modifies existing structures, and (b) what new values it returns, if any.\n",
    "\n",
    "The default sorting order is ascending. You can change that to descending, by passing keyword argument `reverse = True`. Same parameter / argument pair applicable for both `sort` method and `sorted` function.\n",
    "\n",
    "### Task 3.1: Sort lists using `.sort()`"
   ]
  },
  {
   "cell_type": "markdown",
   "id": "43e4e81e",
   "metadata": {},
   "source": [
    "**Question 10.1:** What is the list of `neighborhood` names of the **first three** listings in the dataset?"
   ]
  },
  {
   "cell_type": "code",
   "execution_count": 36,
   "id": "6e4049c7",
   "metadata": {
    "scrolled": false,
    "tags": []
   },
   "outputs": [
    {
     "data": {
      "text/plain": [
       "['Kensington', 'Midtown', 'Harlem']"
      ]
     },
     "execution_count": 36,
     "metadata": {},
     "output_type": "execute_result"
    }
   ],
   "source": [
    "# fetch the neighborhood names for the first three rows in the dataset\n",
    "neighborhood1 = cell(0,\"neighborhood\") # we have done this one for you\n",
    "# replace the ... with your code\n",
    "neighborhood2 = cell(1,\"neighborhood\")\n",
    "neighborhood3 = cell(2,\"neighborhood\")\n",
    "# initialize a list with the three neighborhood names as elements\n",
    "first_three_nbhds = [neighborhood1, neighborhood2, neighborhood3]\n",
    "\n",
    "first_three_nbhds"
   ]
  },
  {
   "cell_type": "code",
   "execution_count": 37,
   "id": "72952257",
   "metadata": {
    "deletable": false,
    "editable": false
   },
   "outputs": [
    {
     "data": {
      "text/html": [
       "<p><strong><pre style='display: inline;'>q10-1</pre></strong> passed!</p>"
      ],
      "text/plain": [
       "q10-1 results: All test cases passed!"
      ]
     },
     "execution_count": 37,
     "metadata": {},
     "output_type": "execute_result"
    }
   ],
   "source": [
    "grader.check(\"q10-1\")"
   ]
  },
  {
   "cell_type": "markdown",
   "id": "fb685262",
   "metadata": {},
   "source": [
    "**Question 10.2:** What does the function call `first_three_nbhds.sort()` do?"
   ]
  },
  {
   "cell_type": "markdown",
   "id": "e2ef2d49",
   "metadata": {},
   "source": [
    "Sort the three names in alphabetical order"
   ]
  },
  {
   "cell_type": "code",
   "execution_count": 38,
   "id": "408c7b60",
   "metadata": {
    "tags": []
   },
   "outputs": [
    {
     "name": "stdout",
     "output_type": "stream",
     "text": [
      "Returned value: None\n",
      "List after sorting: ['Harlem', 'Kensington', 'Midtown']\n"
     ]
    }
   ],
   "source": [
    "# we have done this one for you\n",
    "result = first_three_nbhds.sort()\n",
    "\n",
    "print(\"Returned value:\", result)\n",
    "print(\"List after sorting:\", first_three_nbhds)"
   ]
  },
  {
   "cell_type": "code",
   "execution_count": 39,
   "id": "ee63ace8",
   "metadata": {
    "deletable": false,
    "editable": false
   },
   "outputs": [
    {
     "data": {
      "text/html": [
       "<p><strong><pre style='display: inline;'>q10.2</pre></strong> passed!</p>"
      ],
      "text/plain": [
       "q10.2 results: All test cases passed!"
      ]
     },
     "execution_count": 39,
     "metadata": {},
     "output_type": "execute_result"
    }
   ],
   "source": [
    "grader.check(\"q10.2\")"
   ]
  },
  {
   "cell_type": "markdown",
   "id": "ae743cbd",
   "metadata": {},
   "source": [
    "Now run the below code. Can you explain the output?"
   ]
  },
  {
   "cell_type": "code",
   "execution_count": 40,
   "id": "c948546c",
   "metadata": {},
   "outputs": [
    {
     "data": {
      "text/plain": [
       "['Midtown', 'Kensington', 'Harlem']"
      ]
     },
     "execution_count": 40,
     "metadata": {},
     "output_type": "execute_result"
    }
   ],
   "source": [
    "# sort in descending order\n",
    "first_three_nbhds.sort(reverse=True)\n",
    "\n",
    "first_three_nbhds"
   ]
  },
  {
   "cell_type": "markdown",
   "id": "5d0ca3f9",
   "metadata": {},
   "source": [
    "### Task 3.2: Sort lists using `sorted()`\n",
    "\n",
    "Now, use the `sorted` function to complete the same task as above. That is, fetch the names of the neighborhoods in the **first three** rows of the dataset. This time, use the `append` list method and a `for` loop to add entries into the list."
   ]
  },
  {
   "cell_type": "markdown",
   "id": "7f7c61a5",
   "metadata": {},
   "source": [
    "**Question 11.1:** What is the list of `neighborhood` names of the **first three** listings in the dataset?"
   ]
  },
  {
   "cell_type": "code",
   "execution_count": 41,
   "id": "49828faa",
   "metadata": {
    "tags": []
   },
   "outputs": [
    {
     "data": {
      "text/plain": [
       "['Kensington', 'Midtown', 'Harlem']"
      ]
     },
     "execution_count": 41,
     "metadata": {},
     "output_type": "execute_result"
    }
   ],
   "source": [
    "first_three_nbhds = [] # this creates an empty list\n",
    "# replace the ... with your code\n",
    "for row_idx in range(3): # iterate over the indices of the first 3 rows in the dataset\n",
    "    first_three_nbhds.append(cell(row_idx, \"neighborhood\"))\n",
    "    row_idx += 1\n",
    "first_three_nbhds"
   ]
  },
  {
   "cell_type": "code",
   "execution_count": 42,
   "id": "82655298",
   "metadata": {
    "deletable": false,
    "editable": false
   },
   "outputs": [
    {
     "data": {
      "text/html": [
       "<p><strong><pre style='display: inline;'>q11-1</pre></strong> passed!</p>"
      ],
      "text/plain": [
       "q11-1 results: All test cases passed!"
      ]
     },
     "execution_count": 42,
     "metadata": {},
     "output_type": "execute_result"
    }
   ],
   "source": [
    "grader.check(\"q11-1\")"
   ]
  },
  {
   "cell_type": "markdown",
   "id": "39a0956d",
   "metadata": {},
   "source": [
    "**Question 11.2:** What does the function call `sorted(first_three_nbhds)` do?"
   ]
  },
  {
   "cell_type": "code",
   "execution_count": 43,
   "id": "c3d53a0c",
   "metadata": {
    "tags": []
   },
   "outputs": [
    {
     "name": "stdout",
     "output_type": "stream",
     "text": [
      "Returned value: ['Harlem', 'Kensington', 'Midtown']\n",
      "List after sorting: ['Kensington', 'Midtown', 'Harlem']\n"
     ]
    }
   ],
   "source": [
    "# sort the list `first_three_nbhds` and assign the sorted list to the variable `sorted_nbhds`.\n",
    "# replace the ... with your code\n",
    "sorted_nbhds = sorted(first_three_nbhds)\n",
    "\n",
    "print(\"Returned value:\", sorted_nbhds)\n",
    "print(\"List after sorting:\", first_three_nbhds)"
   ]
  },
  {
   "cell_type": "code",
   "execution_count": 44,
   "id": "66be4ae0",
   "metadata": {
    "deletable": false,
    "editable": false
   },
   "outputs": [
    {
     "data": {
      "text/html": [
       "<p><strong><pre style='display: inline;'>q11-2</pre></strong> passed!</p>"
      ],
      "text/plain": [
       "q11-2 results: All test cases passed!"
      ]
     },
     "execution_count": 44,
     "metadata": {},
     "output_type": "execute_result"
    }
   ],
   "source": [
    "grader.check(\"q11-2\")"
   ]
  },
  {
   "cell_type": "markdown",
   "id": "7547dff1",
   "metadata": {},
   "source": [
    "Now run the below code to sort the list in reverse (descending) order using the `sorted()` function."
   ]
  },
  {
   "cell_type": "code",
   "execution_count": 45,
   "id": "003edfb6",
   "metadata": {},
   "outputs": [
    {
     "data": {
      "text/plain": [
       "['Midtown', 'Kensington', 'Harlem']"
      ]
     },
     "execution_count": 45,
     "metadata": {},
     "output_type": "execute_result"
    }
   ],
   "source": [
    "# sort in descending order\n",
    "reverse_sorted_nbhds = sorted(first_three_nbhds, reverse=True) \n",
    "reverse_sorted_nbhds "
   ]
  },
  {
   "cell_type": "markdown",
   "id": "e46a8782",
   "metadata": {},
   "source": [
    "**Can you compare the outcome of calling `list.sort()` and `sorted(list)`**? What is returned by these functions, and what happens to the original lists? If you are not able to spot the difference, reach out to a TA/PM."
   ]
  },
  {
   "cell_type": "markdown",
   "id": "897f8baa",
   "metadata": {},
   "source": [
    "### Task 3.4: Sorting to find the median"
   ]
  },
  {
   "cell_type": "markdown",
   "id": "d0fe7706",
   "metadata": {},
   "source": [
    "Now, let's try using sorting to solve a common problem - that of finding the median of a given distribution of values. Recall that the median is the **middle number** in a sorted (ascending or descending) list of numbers.   \n",
    "  \n",
    "In a sorted list, if the list has an **odd** number of elements, the median is the middle number:\n",
    "\n",
    "For example, for the list `[10, 20, 30, 40, 50]` --> median is `30`.\n",
    "\n",
    "If a sorted list has an **even** number of elements, the median is the **average** of the **two middle numbers**:\n",
    "\n",
    "For example, for the list `[10, 20, 30, 40]` --> median is `25`."
   ]
  },
  {
   "cell_type": "code",
   "execution_count": 1,
   "id": "7ff46df3",
   "metadata": {
    "tags": []
   },
   "outputs": [],
   "source": [
    "def median(items):\n",
    "    \"\"\"\n",
    "    median(items) returns the median of the list `items`\n",
    "    \"\"\"\n",
    "    # sort the list\n",
    "    sorted_list = sorted(items)\n",
    "    # determine the length of the list\n",
    "    list_len = len(sorted_list)\n",
    "    if list_len % 2 != 0: # determine whether length of the list is odd\n",
    "        # return item in the middle using indexing\n",
    "        return sorted_list[int(((list_len)-1)/2)]\n",
    "    else:\n",
    "        first_middle = sorted_list[int(((list_len)-2)/2)] # use appropriate indexing 這個我寫很爛 用 len // 2\n",
    "        second_middle = sorted_list[int(((list_len)-2)/2 + 1)] # use appropriate indexing 用 len //  2 -1\n",
    "        return (first_middle + second_middle) / 2\n",
    "    \n",
    "# 用下面這個\n",
    "\n",
    "def better_median(items):\n",
    "    \"\"\"\n",
    "    median(items) returns the median of the list `items`\n",
    "    \"\"\"\n",
    "    n = len(items)\n",
    "    items = sorted(items)\n",
    "    if n % 2 == 0:\n",
    "        first_middle = items[n // 2 - 1] \n",
    "        second_middle = [n // 2]\n",
    "        median = (first_middle + second_middle) / 2\n",
    "    else:\n",
    "        median = items[n // 2]\n",
    "    \n",
    "    return median"
   ]
  },
  {
   "cell_type": "markdown",
   "id": "c2a2e724",
   "metadata": {},
   "source": [
    "**Question 12.1:** What is the median of the list `list1 = [5, 3, 1, 2, 4]`?"
   ]
  },
  {
   "cell_type": "code",
   "execution_count": 2,
   "id": "c5470de6",
   "metadata": {
    "tags": []
   },
   "outputs": [
    {
     "data": {
      "text/plain": [
       "3"
      ]
     },
     "execution_count": 2,
     "metadata": {},
     "output_type": "execute_result"
    }
   ],
   "source": [
    "list1 = [5, 3, 1, 2, 4]\n",
    "# replace the ... with your code\n",
    "median1 = median(list1)\n",
    "\n",
    "median1"
   ]
  },
  {
   "cell_type": "code",
   "execution_count": 48,
   "id": "3ca8f530",
   "metadata": {
    "deletable": false,
    "editable": false
   },
   "outputs": [
    {
     "data": {
      "text/html": [
       "<p><strong><pre style='display: inline;'>q12-1</pre></strong> passed!</p>"
      ],
      "text/plain": [
       "q12-1 results: All test cases passed!"
      ]
     },
     "execution_count": 48,
     "metadata": {},
     "output_type": "execute_result"
    }
   ],
   "source": [
    "grader.check(\"q12-1\")"
   ]
  },
  {
   "cell_type": "markdown",
   "id": "81bbbd3c",
   "metadata": {},
   "source": [
    "**Question 12.2:** What is the median of the `list2 = [5, 3, 1, 2, 4, 6]`?"
   ]
  },
  {
   "cell_type": "code",
   "execution_count": 49,
   "id": "7de2c876",
   "metadata": {
    "tags": []
   },
   "outputs": [
    {
     "data": {
      "text/plain": [
       "3.5"
      ]
     },
     "execution_count": 49,
     "metadata": {},
     "output_type": "execute_result"
    }
   ],
   "source": [
    "list2 = [5, 3, 1, 2, 4, 6]\n",
    "# replace the ... with your code\n",
    "median2 = median(list2)\n",
    "\n",
    "median2"
   ]
  },
  {
   "cell_type": "code",
   "execution_count": 50,
   "id": "812e1fc1",
   "metadata": {
    "deletable": false,
    "editable": false
   },
   "outputs": [
    {
     "data": {
      "text/html": [
       "<p><strong><pre style='display: inline;'>q12-2</pre></strong> passed!</p>"
      ],
      "text/plain": [
       "q12-2 results: All test cases passed!"
      ]
     },
     "execution_count": 50,
     "metadata": {},
     "output_type": "execute_result"
    }
   ],
   "source": [
    "grader.check(\"q12-2\")"
   ]
  },
  {
   "cell_type": "markdown",
   "id": "9119c204",
   "metadata": {},
   "source": [
    "After that short detour, let us dive back into the Airbnb dataset.\n",
    "\n",
    "**Question 13:** What is the median `price` of all rooms in the `neighborhood` *Harlem*?\n",
    "\n",
    "**Hint:** First create a *list* of all the `prices` of all the rooms in the given `neighborhood`, and then use the `median` function to find the **median** of that list."
   ]
  },
  {
   "cell_type": "code",
   "execution_count": 51,
   "id": "43c617d0",
   "metadata": {
    "tags": []
   },
   "outputs": [],
   "source": [
    "# create a list of prices of all rooms in Harlem and store it in a suitably named variable\n",
    "neighborhood_Harlem_price = []\n",
    "for idx in range(num_rows): # loop through all the indices \n",
    "    if cell(idx, \"neighborhood\") == \"Harlem\": # use `cell` to determine if the listing at `idx` is from the correct neighborhood\n",
    "        neighborhood_Harlem_price.append(int(cell(idx, \"price\"))) # use `cell` to append the host_name to the list\n",
    "\n",
    "neighborhood_Harlem_price.sort()\n",
    "harlem_median_price = median(neighborhood_Harlem_price)\n",
    "\n",
    "# find the median of the list of prices and store it in the variable 'harlem_median_price', then display it"
   ]
  },
  {
   "cell_type": "markdown",
   "id": "18097d0d",
   "metadata": {},
   "source": [
    "**Troubleshooting your function:**\n",
    "\n",
    "Beware of type errors.\n",
    "\n",
    "We expect the price to be an `int` value, but what type does the `cell` function actually return? Use the `type` function to find out. Think about how to solve this and test your result below."
   ]
  },
  {
   "cell_type": "code",
   "execution_count": null,
   "id": "95c7c24f",
   "metadata": {},
   "outputs": [],
   "source": []
  },
  {
   "cell_type": "code",
   "execution_count": 52,
   "id": "ac1d5b09",
   "metadata": {
    "deletable": false,
    "editable": false
   },
   "outputs": [
    {
     "data": {
      "text/html": [
       "<p><strong><pre style='display: inline;'>q13</pre></strong> passed!</p>"
      ],
      "text/plain": [
       "q13 results: All test cases passed!"
      ]
     },
     "execution_count": 52,
     "metadata": {},
     "output_type": "execute_result"
    }
   ],
   "source": [
    "grader.check(\"q13\")"
   ]
  },
  {
   "cell_type": "markdown",
   "id": "7f36f95c",
   "metadata": {},
   "source": [
    "## Segment 4: Building a better helper function"
   ]
  },
  {
   "cell_type": "markdown",
   "id": "364e0383",
   "metadata": {},
   "source": [
    "Our helper function `cell` could use some improvement. As you have seen, we had have to **manually** convert the type returned by the function to represent the `price` as an `int` instead of a `str`. Let us ensure that the function returns the required type on its own. \n",
    "\n",
    "We will define a new function `cell_v2` to test our new implementation. Once the function is tested and works correctly, you **must** replace the original function with the new version.\n",
    "\n",
    "First, define `cell_v2` running the code below."
   ]
  },
  {
   "cell_type": "code",
   "execution_count": 53,
   "id": "b7a57a50",
   "metadata": {
    "tags": []
   },
   "outputs": [],
   "source": [
    "# we did this one for you\n",
    "def cell_v2(row_idx, col_name):\n",
    "    col_idx = csv_header.index(col_name)\n",
    "    val = csv_rows[row_idx][col_idx]\n",
    "    if val == \"\":\n",
    "        return None\n",
    "    elif col_name in  ['price','minimum_nights', 'number_of_reviews', 'calculated_host_listings_count','availability_365']   :\n",
    "        val = int(val)\n",
    "    elif col_name in ['reviews_per_month', 'latitude', 'longitude', 'reviews_per_month']:\n",
    "        val = float(val)\n",
    "    return val"
   ]
  },
  {
   "cell_type": "markdown",
   "id": "6d058037",
   "metadata": {},
   "source": [
    "### Task 4.1 Return the correct data type for price\n"
   ]
  },
  {
   "cell_type": "markdown",
   "id": "1e5e2921",
   "metadata": {},
   "source": [
    "**Question 14**: What is the `price` of the **fifth** listing?\n",
    "\n",
    "Your output **must** be an `int`. You **must** call the `cell_v2` function to answer this question."
   ]
  },
  {
   "cell_type": "code",
   "execution_count": 54,
   "id": "64af7540",
   "metadata": {
    "tags": []
   },
   "outputs": [
    {
     "data": {
      "text/plain": [
       "80"
      ]
     },
     "execution_count": 54,
     "metadata": {},
     "output_type": "execute_result"
    }
   ],
   "source": [
    "# we have done this for you\n",
    "fifth_price = cell_v2(4, 'price')\n",
    "\n",
    "fifth_price"
   ]
  },
  {
   "cell_type": "code",
   "execution_count": 55,
   "id": "47589ea0",
   "metadata": {
    "deletable": false,
    "editable": false
   },
   "outputs": [
    {
     "data": {
      "text/html": [
       "<p><strong><pre style='display: inline;'>q14</pre></strong> passed!</p>"
      ],
      "text/plain": [
       "q14 results: All test cases passed!"
      ]
     },
     "execution_count": 55,
     "metadata": {},
     "output_type": "execute_result"
    }
   ],
   "source": [
    "grader.check(\"q14\")"
   ]
  },
  {
   "cell_type": "markdown",
   "id": "28144976",
   "metadata": {},
   "source": [
    "### Task 4.2 Return the correct data type for `minimum_nights` column\n",
    "\n",
    "Update `cell_v2` so it can handle the column `minimum_nights` as well. Your function **must** return an `int` when the `col_name` is `minimum_nights`."
   ]
  },
  {
   "cell_type": "markdown",
   "id": "35a58d08",
   "metadata": {},
   "source": [
    "**Question 15**: How many `minimum_nights` does the **last** listing require?\n",
    "\n",
    "You **must** answer this question by calling the **`cell_v2`** function."
   ]
  },
  {
   "cell_type": "code",
   "execution_count": 56,
   "id": "bb300750",
   "metadata": {
    "tags": []
   },
   "outputs": [
    {
     "data": {
      "text/plain": [
       "7"
      ]
     },
     "execution_count": 56,
     "metadata": {},
     "output_type": "execute_result"
    }
   ],
   "source": [
    "# replace the ... with your code\n",
    "last_minimum_nights = cell_v2(-1,\"minimum_nights\")\n",
    "\n",
    "last_minimum_nights"
   ]
  },
  {
   "cell_type": "code",
   "execution_count": 57,
   "id": "750c64f6",
   "metadata": {
    "deletable": false,
    "editable": false
   },
   "outputs": [
    {
     "data": {
      "text/html": [
       "<p><strong><pre style='display: inline;'>q15</pre></strong> passed!</p>"
      ],
      "text/plain": [
       "q15 results: All test cases passed!"
      ]
     },
     "execution_count": 57,
     "metadata": {},
     "output_type": "execute_result"
    }
   ],
   "source": [
    "grader.check(\"q15\")"
   ]
  },
  {
   "cell_type": "markdown",
   "id": "285c13c4",
   "metadata": {},
   "source": [
    "### Task 4.3 Return the correct data types for all other columns\n",
    "\n",
    "- Recall that the **correct** datatypes for each of the columns are as follows:\n",
    "    1. `room_id` - the ID of the room listing (`str`)\n",
    "    2. `name` - the name of the room listing (`str`)\n",
    "    3. `host_id` - the ID of the host for the room listing (`str`)\n",
    "    4. `host_name` - the name of the host for the room listing (`str`)\n",
    "    5. `neighborhood_group` - the group of neighborhoods the room is in (`str`)\n",
    "    6. `neighborhood` - the neighborhood the room is in (`str`)\n",
    "    7. `latitude` - the latitude where the room is located (`float`)\n",
    "    8. `longitude` - the longitude where the room is located (`float`)\n",
    "    9. `room_type` - the type of room (`str`)\n",
    "    10. `price` - the price per night for the room in US dollars (`int`)\n",
    "    11. `minimum_nights` - the minimum amount of nights the room must be booked for (`int`)\n",
    "    12. `number_of_reviews` - the total number of reviews the room has received (`int`)\n",
    "    13. `last_review` - the date of the most recent review in the form yyyy-mm-dd (`str`)\n",
    "    14. `reviews_per_month` - how many reviews per month the room receives (`float`)\n",
    "    15. `calculated_host_listings_count` - how many listings the host of the room has (`int`)\n",
    "    16. `availability_365` - how many days per year the listing is available for (`int`)\n",
    "    \n",
    "- Update your `cell_v2` function so it can handle **all** columns.\n",
    "- The `if` condition will become very long if you keep using `or` to separate each column comparison operation.\n",
    "- It is easier to make a list of all the column names whose values require `int` conversion and use `in` operator to check \n",
    "```python\n",
    "if col_name in [..., ..., ...]\n",
    "```\n",
    "\n",
    "**Important:** Using `cell_v2` function is recommended but **optional** for the p6. You may choose to use the basic version and convert the return types manually when needed. Even if you use the `cell_v2` function defined here in p6, you **must** name that function `cell` in your p6 notebook."
   ]
  },
  {
   "cell_type": "markdown",
   "id": "48390fe1",
   "metadata": {},
   "source": [
    "## Segment 5: Sets\n",
    "In class, we learned about the Python `list` sequence. Another simpler structure you'll sometimes find useful is the `set`. A set is **not** a sequence because it does not keep all the values in any particular order. \n",
    "\n",
    "### Task 5.1: Create a set\n",
    "You can create sets the same way as lists, just **replacing** the *square brackets*(`[]`) with *curly braces*(`{}`). In the cell below, create a set with the same elements as the example list provided."
   ]
  },
  {
   "cell_type": "markdown",
   "id": "bc50a944",
   "metadata": {},
   "source": [
    "**Question 16:** What is the set having the same contents as `example_list` below?"
   ]
  },
  {
   "cell_type": "code",
   "execution_count": 58,
   "id": "fb5b90f0",
   "metadata": {
    "tags": []
   },
   "outputs": [
    {
     "name": "stdout",
     "output_type": "stream",
     "text": [
      "['Kensington', 'Harlem', 'Midtown']\n"
     ]
    },
    {
     "data": {
      "text/plain": [
       "{'Harlem', 'Kensington', 'Midtown'}"
      ]
     },
     "execution_count": 58,
     "metadata": {},
     "output_type": "execute_result"
    }
   ],
   "source": [
    "example_list = [\"Kensington\", \"Harlem\", \"Midtown\"]\n",
    "print(example_list)\n",
    "# replace the ... with your code\n",
    "example_set = {\"Kensington\", \"Harlem\", \"Midtown\"}\n",
    "\n",
    "example_set"
   ]
  },
  {
   "cell_type": "code",
   "execution_count": 59,
   "id": "4a74e53e",
   "metadata": {
    "deletable": false,
    "editable": false
   },
   "outputs": [
    {
     "data": {
      "text/html": [
       "<p><strong><pre style='display: inline;'>q16</pre></strong> passed!</p>"
      ],
      "text/plain": [
       "q16 results: All test cases passed!"
      ]
     },
     "execution_count": 59,
     "metadata": {},
     "output_type": "execute_result"
    }
   ],
   "source": [
    "grader.check(\"q16\")"
   ]
  },
  {
   "cell_type": "markdown",
   "id": "f24b55df",
   "metadata": {},
   "source": [
    "### Task 5.2: Check if an element is present in a list or set"
   ]
  },
  {
   "cell_type": "markdown",
   "id": "26e38eea",
   "metadata": {},
   "source": [
    "The `in` operator is used to check if an element is present in a list or set. Try it below:"
   ]
  },
  {
   "cell_type": "code",
   "execution_count": 60,
   "id": "9d3d0789",
   "metadata": {},
   "outputs": [
    {
     "data": {
      "text/plain": [
       "True"
      ]
     },
     "execution_count": 60,
     "metadata": {},
     "output_type": "execute_result"
    }
   ],
   "source": [
    "\"Harlem\" in example_list"
   ]
  },
  {
   "cell_type": "markdown",
   "id": "37bf5cce",
   "metadata": {},
   "source": [
    "**Question 17:** Check if `neighborhood` *Midtown* is present in the set `example_set`.\n"
   ]
  },
  {
   "cell_type": "code",
   "execution_count": 61,
   "id": "b28cb6c7",
   "metadata": {
    "tags": []
   },
   "outputs": [
    {
     "data": {
      "text/plain": [
       "True"
      ]
     },
     "execution_count": 61,
     "metadata": {},
     "output_type": "execute_result"
    }
   ],
   "source": [
    "# replace the ... with your code\n",
    "midtown_check = \"Midtown\" in example_set\n",
    "\n",
    "midtown_check"
   ]
  },
  {
   "cell_type": "code",
   "execution_count": 62,
   "id": "af386acf",
   "metadata": {
    "deletable": false,
    "editable": false
   },
   "outputs": [
    {
     "data": {
      "text/html": [
       "<p><strong><pre style='display: inline;'>q17</pre></strong> passed!</p>"
      ],
      "text/plain": [
       "q17 results: All test cases passed!"
      ]
     },
     "execution_count": 62,
     "metadata": {},
     "output_type": "execute_result"
    }
   ],
   "source": [
    "grader.check(\"q17\")"
   ]
  },
  {
   "cell_type": "markdown",
   "id": "7e81de47",
   "metadata": {},
   "source": [
    "### Task 5.3: Check the ordering of elements in a list or set"
   ]
  },
  {
   "cell_type": "markdown",
   "id": "098d2db8",
   "metadata": {},
   "source": [
    "Sets have no inherent ordering, so they don't support indexing. Try the code in the cells below."
   ]
  },
  {
   "cell_type": "code",
   "execution_count": 63,
   "id": "447be3ea",
   "metadata": {
    "tags": []
   },
   "outputs": [
    {
     "data": {
      "text/plain": [
       "'Kensington'"
      ]
     },
     "execution_count": 63,
     "metadata": {},
     "output_type": "execute_result"
    }
   ],
   "source": [
    "example_list[0]  # this works"
   ]
  },
  {
   "cell_type": "code",
   "execution_count": 64,
   "id": "db9aa9da",
   "metadata": {
    "tags": []
   },
   "outputs": [
    {
     "ename": "TypeError",
     "evalue": "'set' object is not subscriptable",
     "output_type": "error",
     "traceback": [
      "\u001b[0;31m---------------------------------------------------------------------------\u001b[0m",
      "\u001b[0;31mTypeError\u001b[0m                                 Traceback (most recent call last)",
      "Input \u001b[0;32mIn [64]\u001b[0m, in \u001b[0;36m<cell line: 1>\u001b[0;34m()\u001b[0m\n\u001b[0;32m----> 1\u001b[0m \u001b[43mexample_set\u001b[49m\u001b[43m[\u001b[49m\u001b[38;5;241;43m1\u001b[39;49m\u001b[43m]\u001b[49m\n",
      "\u001b[0;31mTypeError\u001b[0m: 'set' object is not subscriptable"
     ]
    }
   ],
   "source": [
    "example_set[1] # but this does not work"
   ]
  },
  {
   "cell_type": "markdown",
   "id": "cc3bd066",
   "metadata": {},
   "source": [
    "The lack of order also matters for comparisons. Try evaluating this boolean expression:"
   ]
  },
  {
   "cell_type": "code",
   "execution_count": 65,
   "id": "7972f632",
   "metadata": {},
   "outputs": [
    {
     "data": {
      "text/plain": [
       "False"
      ]
     },
     "execution_count": 65,
     "metadata": {},
     "output_type": "execute_result"
    }
   ],
   "source": [
    "[\"Harlem\", \"Midtown\", \"Kensington\"] == [\"Kensington\", \"Harlem\", \"Midtown\"]"
   ]
  },
  {
   "cell_type": "markdown",
   "id": "fbc38428",
   "metadata": {},
   "source": [
    "And now try this:"
   ]
  },
  {
   "cell_type": "code",
   "execution_count": 66,
   "id": "94097189",
   "metadata": {},
   "outputs": [
    {
     "data": {
      "text/plain": [
       "True"
      ]
     },
     "execution_count": 66,
     "metadata": {},
     "output_type": "execute_result"
    }
   ],
   "source": [
    "{\"Harlem\", \"Midtown\", \"Kensington\"} == {\"Kensington\", \"Harlem\", \"Midtown\"}"
   ]
  },
  {
   "cell_type": "markdown",
   "id": "08af36e3",
   "metadata": {},
   "source": [
    "### Task 5.4 Convert between lists and sets\n",
    "You can switch back and forth between lists and sets with ease. Let's try it."
   ]
  },
  {
   "cell_type": "markdown",
   "id": "732c971c",
   "metadata": {},
   "source": [
    "**Question 18**: What is the **list** of all `host_names` in the `neighborhood` *Throgs Neck*?"
   ]
  },
  {
   "cell_type": "code",
   "execution_count": 69,
   "id": "540a44b9",
   "metadata": {
    "tags": []
   },
   "outputs": [],
   "source": [
    "# compute and store the answer in the variable 'throgs_neck_hosts', then display it\n",
    "throgs_neck_hosts = []\n",
    "for idx in range(num_rows):\n",
    "    if cell_v2(idx, \"neighborhood\") == \"Throgs Neck\":\n",
    "        throgs_neck_hosts.append(cell_v2(idx, \"host_name\"))"
   ]
  },
  {
   "cell_type": "code",
   "execution_count": 70,
   "id": "710cd5b4",
   "metadata": {
    "deletable": false,
    "editable": false
   },
   "outputs": [
    {
     "data": {
      "text/html": [
       "<p><strong><pre style='display: inline;'>q18</pre></strong> passed!</p>"
      ],
      "text/plain": [
       "q18 results: All test cases passed!"
      ]
     },
     "execution_count": 70,
     "metadata": {},
     "output_type": "execute_result"
    }
   ],
   "source": [
    "grader.check(\"q18\")"
   ]
  },
  {
   "cell_type": "markdown",
   "id": "d1c587b4",
   "metadata": {},
   "source": [
    "Now, let us convert the *list* `throgs_neck_hosts` into a *set*. Compare the the number of elements in the list and the set."
   ]
  },
  {
   "cell_type": "markdown",
   "id": "35ef3408",
   "metadata": {},
   "source": [
    "**Question 19**: What is the **set** of all `host names` in the `neighborhood` *Throgs Neck*?\n",
    "\n",
    "**Hint:** You can convert a *list* into a *set* by typecasting. For example, to convert a *list* `example_list` into a *set*, you can use `set(example_list)`."
   ]
  },
  {
   "cell_type": "code",
   "execution_count": 71,
   "id": "a5ba34d5",
   "metadata": {
    "tags": []
   },
   "outputs": [
    {
     "name": "stdout",
     "output_type": "stream",
     "text": [
      "Length of list: 24\n",
      "Length of set: 17\n"
     ]
    }
   ],
   "source": [
    "# replace the ... with your code\n",
    "throgs_neck_hosts_set = set(throgs_neck_hosts)\n",
    "\n",
    "\n",
    "print('Length of list:',  len(throgs_neck_hosts))\n",
    "print('Length of set:', len(throgs_neck_hosts_set))"
   ]
  },
  {
   "cell_type": "code",
   "execution_count": 72,
   "id": "c1f3b829",
   "metadata": {
    "deletable": false,
    "editable": false
   },
   "outputs": [
    {
     "data": {
      "text/html": [
       "<p><strong><pre style='display: inline;'>q19</pre></strong> passed!</p>"
      ],
      "text/plain": [
       "q19 results: All test cases passed!"
      ]
     },
     "execution_count": 72,
     "metadata": {},
     "output_type": "execute_result"
    }
   ],
   "source": [
    "grader.check(\"q19\")"
   ]
  },
  {
   "cell_type": "markdown",
   "id": "0e6af4ff",
   "metadata": {},
   "source": [
    "As you can see, the number of elements is different! This is because a set is a collection of **unique** elements. Therefore, there can be no duplicates in a **set**.\n",
    "\n",
    "**Be careful!** When going from a set to a list, Python has to choose how to order the previously unordered values. If you run the same code, there's no guarantee Python will always choose the same way to order the set values in the new list."
   ]
  },
  {
   "cell_type": "markdown",
   "id": "15a73958",
   "metadata": {},
   "source": [
    "### Task 5.5 Remove Duplicates\n",
    "Let's use the uniqueness property of sets above to remove duplicates from a list by converting from a list to a set and back to a list again."
   ]
  },
  {
   "cell_type": "markdown",
   "id": "0bbd00a1",
   "metadata": {},
   "source": [
    "**Question 20**: Convert `list_1 = [\"Brooklyn\", \"Brooklyn\", \"Manhattan\", \"Midtown\", \"Kensington\", \"Kensington\", \"Manhattan\"]` to a set and then back to a list.\n",
    "\n",
    "**Hint:** Just as you can convert a *list* into a *set* by typecasting, you can convert a *set* into a *list*. For example, to convert a *set* `example_set` into a *list*, you can use `list(example_set)`."
   ]
  },
  {
   "cell_type": "code",
   "execution_count": 75,
   "id": "7afc9110",
   "metadata": {
    "tags": []
   },
   "outputs": [
    {
     "data": {
      "text/plain": [
       "['Brooklyn', 'Kensington', 'Midtown', 'Manhattan']"
      ]
     },
     "execution_count": 75,
     "metadata": {},
     "output_type": "execute_result"
    }
   ],
   "source": [
    "# try playing with different values here\n",
    "# the backslash enables us to split a long line of code into two lines\n",
    "list_1 = [\"Brooklyn\", \"Brooklyn\", \"Manhattan\", \"Midtown\", \\\n",
    "          \"Kensington\", \"Kensington\", \"Manhattan\"] \n",
    "# convert list_1 to a set and back to a list\n",
    "# replace the ... with your code\n",
    "set_1 = set(list_1)\n",
    "list_2 = list(set_1)\n",
    "\n",
    "list_2"
   ]
  },
  {
   "cell_type": "code",
   "execution_count": 76,
   "id": "a212bc4a",
   "metadata": {
    "deletable": false,
    "editable": false
   },
   "outputs": [
    {
     "data": {
      "text/html": [
       "<p><strong><pre style='display: inline;'>q20</pre></strong> passed!</p>"
      ],
      "text/plain": [
       "q20 results: All test cases passed!"
      ]
     },
     "execution_count": 76,
     "metadata": {},
     "output_type": "execute_result"
    }
   ],
   "source": [
    "grader.check(\"q20\")"
   ]
  },
  {
   "cell_type": "markdown",
   "id": "a7a261ee",
   "metadata": {},
   "source": [
    "## Great work! You are now ready to start [p6](https://git.doit.wisc.edu/cdis/cs/courses/cs220/cs220-f22-projects/-/tree/main/p6)."
   ]
  }
 ],
 "metadata": {
  "kernelspec": {
   "display_name": "Python 3 (ipykernel)",
   "language": "python",
   "name": "python3"
  },
  "language_info": {
   "codemirror_mode": {
    "name": "ipython",
    "version": 3
   },
   "file_extension": ".py",
   "mimetype": "text/x-python",
   "name": "python",
   "nbconvert_exporter": "python",
   "pygments_lexer": "ipython3",
   "version": "3.9.12"
  },
  "otter": {
   "OK_FORMAT": true,
   "tests": {
    "q1": {
     "name": "q1",
     "points": 5,
     "suites": [
      {
       "cases": [
        {
         "code": ">>> practice_test.check(\"q1\", csv_header)\nTrue",
         "hidden": false,
         "locked": false
        }
       ],
       "scored": true,
       "setup": "",
       "teardown": "",
       "type": "doctest"
      }
     ]
    },
    "q10-1": {
     "name": "q10-1",
     "points": 3,
     "suites": [
      {
       "cases": [
        {
         "code": ">>> practice_test.check(\"q10-1\", first_three_nbhds)\nTrue",
         "hidden": false,
         "locked": false
        }
       ],
       "scored": true,
       "setup": "",
       "teardown": "",
       "type": "doctest"
      }
     ]
    },
    "q10.2": {
     "name": "q10.2",
     "points": 2,
     "suites": [
      {
       "cases": [
        {
         "code": ">>> practice_test.check(\"q10-2\", first_three_nbhds)\nTrue",
         "hidden": false,
         "locked": false
        }
       ],
       "scored": true,
       "setup": "",
       "teardown": "",
       "type": "doctest"
      }
     ]
    },
    "q11-1": {
     "name": "q11-1",
     "points": 3,
     "suites": [
      {
       "cases": [
        {
         "code": ">>> practice_test.check(\"q11-1\", first_three_nbhds)\nTrue",
         "hidden": false,
         "locked": false
        }
       ],
       "scored": true,
       "setup": "",
       "teardown": "",
       "type": "doctest"
      }
     ]
    },
    "q11-2": {
     "name": "q11-2",
     "points": 5,
     "suites": [
      {
       "cases": [
        {
         "code": ">>> practice_test.check(\"q11-2\", sorted_nbhds)\nTrue",
         "hidden": false,
         "locked": false
        }
       ],
       "scored": true,
       "setup": "",
       "teardown": "",
       "type": "doctest"
      }
     ]
    },
    "q12-1": {
     "name": "q12-1",
     "points": 2.5,
     "suites": [
      {
       "cases": [
        {
         "code": ">>> practice_test.check(\"q12-1\", median1)\nTrue",
         "hidden": false,
         "locked": false
        }
       ],
       "scored": true,
       "setup": "",
       "teardown": "",
       "type": "doctest"
      }
     ]
    },
    "q12-2": {
     "name": "q12-2",
     "points": 2.5,
     "suites": [
      {
       "cases": [
        {
         "code": ">>> practice_test.check(\"q12-2\", median2)\nTrue",
         "hidden": false,
         "locked": false
        }
       ],
       "scored": true,
       "setup": "",
       "teardown": "",
       "type": "doctest"
      }
     ]
    },
    "q13": {
     "name": "q13",
     "points": 5,
     "suites": [
      {
       "cases": [
        {
         "code": ">>> practice_test.check(\"q13\", harlem_median_price)\nTrue",
         "hidden": false,
         "locked": false
        }
       ],
       "scored": true,
       "setup": "",
       "teardown": "",
       "type": "doctest"
      }
     ]
    },
    "q14": {
     "name": "q14",
     "points": 5,
     "suites": [
      {
       "cases": [
        {
         "code": ">>> practice_test.check(\"q14\", fifth_price)\nTrue",
         "hidden": false,
         "locked": false
        }
       ],
       "scored": true,
       "setup": "",
       "teardown": "",
       "type": "doctest"
      }
     ]
    },
    "q15": {
     "name": "q15",
     "points": 5,
     "suites": [
      {
       "cases": [
        {
         "code": ">>> practice_test.check(\"q15\", last_minimum_nights)\nTrue",
         "hidden": false,
         "locked": false
        }
       ],
       "scored": true,
       "setup": "",
       "teardown": "",
       "type": "doctest"
      }
     ]
    },
    "q16": {
     "name": "q16",
     "points": 5,
     "suites": [
      {
       "cases": [
        {
         "code": ">>> practice_test.check(\"q16\", example_set)\nTrue",
         "hidden": false,
         "locked": false
        }
       ],
       "scored": true,
       "setup": "",
       "teardown": "",
       "type": "doctest"
      }
     ]
    },
    "q17": {
     "name": "q17",
     "points": 5,
     "suites": [
      {
       "cases": [
        {
         "code": ">>> practice_test.check(\"q17\", midtown_check)\nTrue",
         "hidden": false,
         "locked": false
        }
       ],
       "scored": true,
       "setup": "",
       "teardown": "",
       "type": "doctest"
      }
     ]
    },
    "q18": {
     "name": "q18",
     "points": 5,
     "suites": [
      {
       "cases": [
        {
         "code": ">>> practice_test.check(\"q18\", throgs_neck_hosts)\nTrue",
         "hidden": false,
         "locked": false
        }
       ],
       "scored": true,
       "setup": "",
       "teardown": "",
       "type": "doctest"
      }
     ]
    },
    "q19": {
     "name": "q19",
     "points": 5,
     "suites": [
      {
       "cases": [
        {
         "code": ">>> practice_test.check(\"q19\", throgs_neck_hosts_set)\nTrue",
         "hidden": false,
         "locked": false
        }
       ],
       "scored": true,
       "setup": "",
       "teardown": "",
       "type": "doctest"
      }
     ]
    },
    "q2-1": {
     "name": "q2-1",
     "points": 1,
     "suites": [
      {
       "cases": [
        {
         "code": ">>> practice_test.check(\"q2-1\", num_rows)\nTrue",
         "hidden": false,
         "locked": false
        }
       ],
       "scored": true,
       "setup": "",
       "teardown": "",
       "type": "doctest"
      }
     ]
    },
    "q2-2": {
     "name": "q2-2",
     "points": 2,
     "suites": [
      {
       "cases": [
        {
         "code": ">>> practice_test.check(\"q2-2\", first_ten_rows)\nTrue",
         "hidden": false,
         "locked": false
        }
       ],
       "scored": true,
       "setup": "",
       "teardown": "",
       "type": "doctest"
      }
     ]
    },
    "q2-3": {
     "name": "q2-3",
     "points": 2,
     "suites": [
      {
       "cases": [
        {
         "code": ">>> practice_test.check(\"q2-3\", last_ten_rows)\nTrue",
         "hidden": false,
         "locked": false
        }
       ],
       "scored": true,
       "setup": "",
       "teardown": "",
       "type": "doctest"
      }
     ]
    },
    "q20": {
     "name": "q20",
     "points": 5,
     "suites": [
      {
       "cases": [
        {
         "code": ">>> practice_test.check(\"q20\", list_2)\nTrue",
         "hidden": false,
         "locked": false
        }
       ],
       "scored": true,
       "setup": "",
       "teardown": "",
       "type": "doctest"
      }
     ]
    },
    "q3": {
     "name": "q3",
     "points": 5,
     "suites": [
      {
       "cases": [
        {
         "code": ">>> practice_test.check(\"q3\", first_row)\nTrue",
         "hidden": false,
         "locked": false
        }
       ],
       "scored": true,
       "setup": "",
       "teardown": "",
       "type": "doctest"
      }
     ]
    },
    "q4": {
     "name": "q4",
     "points": 5,
     "suites": [
      {
       "cases": [
        {
         "code": ">>> practice_test.check(\"q4\", first_host_name)\nTrue",
         "hidden": false,
         "locked": false
        }
       ],
       "scored": true,
       "setup": "",
       "teardown": "",
       "type": "doctest"
      }
     ]
    },
    "q5": {
     "name": "q5",
     "points": 5,
     "suites": [
      {
       "cases": [
        {
         "code": ">>> practice_test.check(\"q5\", nbhd_group_index)\nTrue",
         "hidden": false,
         "locked": false
        }
       ],
       "scored": true,
       "setup": "",
       "teardown": "",
       "type": "doctest"
      }
     ]
    },
    "q6": {
     "name": "q6",
     "points": 5,
     "suites": [
      {
       "cases": [
        {
         "code": ">>> practice_test.check(\"q6\", nbh_group_row1)\nTrue",
         "hidden": false,
         "locked": false
        }
       ],
       "scored": true,
       "setup": "",
       "teardown": "",
       "type": "doctest"
      }
     ]
    },
    "q7-1": {
     "name": "q7-1",
     "points": 1,
     "suites": [
      {
       "cases": [
        {
         "code": ">>> practice_test.check(\"q7-1\", first_neighborhood)\nTrue",
         "hidden": false,
         "locked": false
        }
       ],
       "scored": true,
       "setup": "",
       "teardown": "",
       "type": "doctest"
      }
     ]
    },
    "q7-2": {
     "name": "q7-2",
     "points": 2,
     "suites": [
      {
       "cases": [
        {
         "code": ">>> practice_test.check(\"q7-2\", second_name)\nTrue",
         "hidden": false,
         "locked": false
        }
       ],
       "scored": true,
       "setup": "",
       "teardown": "",
       "type": "doctest"
      }
     ]
    },
    "q7-3": {
     "name": "q7-3",
     "points": 2,
     "suites": [
      {
       "cases": [
        {
         "code": ">>> practice_test.check(\"q7-3\", third_price)\nTrue",
         "hidden": false,
         "locked": false
        }
       ],
       "scored": true,
       "setup": "",
       "teardown": "",
       "type": "doctest"
      }
     ]
    },
    "q8": {
     "name": "q8",
     "points": 5,
     "suites": [
      {
       "cases": [
        {
         "code": ">>> practice_test.check(\"q8\", bronx_num_rooms)\nTrue",
         "hidden": false,
         "locked": false
        }
       ],
       "scored": true,
       "setup": "",
       "teardown": "",
       "type": "doctest"
      }
     ]
    },
    "q9": {
     "name": "q9",
     "points": 5,
     "suites": [
      {
       "cases": [
        {
         "code": ">>> practice_test.check(\"q9\", univ_heights_names)\nTrue",
         "hidden": false,
         "locked": false
        }
       ],
       "scored": true,
       "setup": "",
       "teardown": "",
       "type": "doctest"
      }
     ]
    }
   }
  }
 },
 "nbformat": 4,
 "nbformat_minor": 5
}
