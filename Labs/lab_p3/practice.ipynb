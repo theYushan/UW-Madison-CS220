{
 "cells": [
  {
   "cell_type": "code",
   "execution_count": 1,
   "id": "688737bd",
   "metadata": {
    "deletable": false,
    "editable": false
   },
   "outputs": [],
   "source": [
    "# Initialize Otter\n",
    "import otter\n",
    "grader = otter.Notebook(\"practice.ipynb\")"
   ]
  },
  {
   "cell_type": "code",
   "execution_count": 2,
   "id": "2e0d62a7",
   "metadata": {},
   "outputs": [],
   "source": [
    "import test"
   ]
  },
  {
   "cell_type": "markdown",
   "id": "4a55c5ad",
   "metadata": {},
   "source": [
    "# Lab-P3: Learning an API and some functions\n",
    "\n",
    "**WARNING:** Please go through Segments 1 and 2 of [lab-p3](https://git.doit.wisc.edu/cdis/cs/courses/cs220/cs220-f22-projects/-/tree/main/lab-p3) **before** you start to solve this notebook."
   ]
  },
  {
   "cell_type": "markdown",
   "id": "2b93d390",
   "metadata": {},
   "source": [
    "## Task 3.1: Calling functions in the `project` module\n",
    "\n",
    "You have already learned how to learn the *API* of the `project.py` module. You will now demonstrate your ability to call the functions in this module."
   ]
  },
  {
   "cell_type": "code",
   "execution_count": 6,
   "id": "b3a4101e",
   "metadata": {
    "tags": []
   },
   "outputs": [],
   "source": [
    "# Include the relevant import statements in this cell\n",
    "\n",
    "import project # we have imported the project module for you here; you will have to add the import statement in p3"
   ]
  },
  {
   "cell_type": "code",
   "execution_count": 8,
   "id": "f7e98e33",
   "metadata": {
    "tags": []
   },
   "outputs": [
    {
     "name": "stdout",
     "output_type": "stream",
     "text": [
      "WARNING!  Opening a path other than car_sales_data.csv.  That's fine for testing your code yourself, but car_sales_data.csv will be the only file around when we test your code for grading.\n",
      "Chevy Bolt [ID: 21]\n",
      "  2017: 23297 cars sold\n",
      "  2018: 18019 cars sold\n",
      "  2019: 16313 cars sold\n",
      "\n",
      "Chrysler Pacifica Plug-in Hybrid [ID: 3664]\n",
      "  2017: 2981 cars sold\n",
      "  2018: 7062 cars sold\n",
      "  2019: 5811 cars sold\n",
      "\n",
      "Honda Clarity Plug-in [ID: 426]\n",
      "  2017: 903 cars sold\n",
      "  2018: 18602 cars sold\n",
      "  2019: 10728 cars sold\n",
      "\n",
      "Porsche Cayenne S E-Hybrid [ID: 6273]\n",
      "  2017: 1574 cars sold\n",
      "  2018: 1022 cars sold\n",
      "  2019: 1140 cars sold\n",
      "\n",
      "Tesla Model 3 [ID: 850]\n",
      "  2017: 1770 cars sold\n",
      "  2018: 139782 cars sold\n",
      "  2019: 154840 cars sold\n",
      "\n"
     ]
    }
   ],
   "source": [
    "project.init(\"lab.csv\") # we have also loaded in 'lab.csv' for you here; you will have to load the data yourself in p3\n",
    "project.dump()\n",
    "# You may call the dump() function here to test if you have loaded the dataset correctly."
   ]
  },
  {
   "cell_type": "markdown",
   "id": "5c188dd7",
   "metadata": {},
   "source": [
    "**Question 1:** What is the `id` of the *Tesla Model 3*?"
   ]
  },
  {
   "cell_type": "code",
   "execution_count": 9,
   "id": "a1e6e4bc",
   "metadata": {
    "tags": []
   },
   "outputs": [
    {
     "data": {
      "text/plain": [
       "850"
      ]
     },
     "execution_count": 9,
     "metadata": {},
     "output_type": "execute_result"
    }
   ],
   "source": [
    "# we have done this one for you\n",
    "model_3_id = project.get_id(\"Tesla Model 3\")\n",
    "model_3_id"
   ]
  },
  {
   "cell_type": "code",
   "execution_count": 10,
   "id": "8ba09b74",
   "metadata": {
    "deletable": false,
    "editable": false
   },
   "outputs": [
    {
     "data": {
      "text/html": [
       "<p><strong><pre style='display: inline;'>q1</pre></strong> passed!</p>"
      ],
      "text/plain": [
       "q1 results: All test cases passed!"
      ]
     },
     "execution_count": 10,
     "metadata": {},
     "output_type": "execute_result"
    }
   ],
   "source": [
    "grader.check(\"q1\")"
   ]
  },
  {
   "cell_type": "markdown",
   "id": "fd04f8ef",
   "metadata": {},
   "source": [
    "**Question 2:** What is the `id` of the *Honda Clarity Plug-in*?"
   ]
  },
  {
   "cell_type": "code",
   "execution_count": 11,
   "id": "735dbd7e",
   "metadata": {
    "tags": []
   },
   "outputs": [
    {
     "data": {
      "text/plain": [
       "426"
      ]
     },
     "execution_count": 11,
     "metadata": {},
     "output_type": "execute_result"
    }
   ],
   "source": [
    "# you will have to do this yourself; replace the ... with your answer\n",
    "# NOTE: assigning `clarity_id = 426` => is considered hardcoding\n",
    "# if you do this in p3, you will lose points during manual code review\n",
    "clarity_id = project.get_id('Honda Clarity Plug-in')\n",
    "clarity_id"
   ]
  },
  {
   "cell_type": "code",
   "execution_count": 12,
   "id": "bf9c7320",
   "metadata": {
    "deletable": false,
    "editable": false
   },
   "outputs": [
    {
     "data": {
      "text/html": [
       "<p><strong><pre style='display: inline;'>q2</pre></strong> passed!</p>"
      ],
      "text/plain": [
       "q2 results: All test cases passed!"
      ]
     },
     "execution_count": 12,
     "metadata": {},
     "output_type": "execute_result"
    }
   ],
   "source": [
    "grader.check(\"q2\")"
   ]
  },
  {
   "cell_type": "markdown",
   "id": "4de327d5",
   "metadata": {},
   "source": [
    "**Question 3:** What is the `id` of the *Chrysler Pacifica Plug-in Hybrid*?"
   ]
  },
  {
   "cell_type": "code",
   "execution_count": 13,
   "id": "3d27e958",
   "metadata": {
    "tags": []
   },
   "outputs": [
    {
     "data": {
      "text/plain": [
       "3664"
      ]
     },
     "execution_count": 13,
     "metadata": {},
     "output_type": "execute_result"
    }
   ],
   "source": [
    "# compute and store the answer in the variable 'pacifica_id'\n",
    "pacifica_id = project.get_id('Chrysler Pacifica Plug-in Hybrid')\n",
    "# display the variable 'pacifica_id' here\n",
    "pacifica_id"
   ]
  },
  {
   "cell_type": "code",
   "execution_count": 14,
   "id": "291267a8",
   "metadata": {
    "deletable": false,
    "editable": false
   },
   "outputs": [
    {
     "data": {
      "text/html": [
       "<p><strong><pre style='display: inline;'>q3</pre></strong> passed!</p>"
      ],
      "text/plain": [
       "q3 results: All test cases passed!"
      ]
     },
     "execution_count": 14,
     "metadata": {},
     "output_type": "execute_result"
    }
   ],
   "source": [
    "grader.check(\"q3\")"
   ]
  },
  {
   "cell_type": "markdown",
   "id": "7b1ebed9",
   "metadata": {},
   "source": [
    "### Task 3.1.1: Avoiding index hardcoding\n",
    "\n",
    "You should now have a good sense of how the `project.get_id()` function works. You will now move on to the `project.get_sales()` function. Read the documentation of this function, if you haven't already. Let us now call this function and see how it operates:"
   ]
  },
  {
   "cell_type": "markdown",
   "id": "d63e1f1a",
   "metadata": {},
   "source": [
    "**Question 4:** How many *Tesla Model 3* cars were sold in *2019*?"
   ]
  },
  {
   "cell_type": "code",
   "execution_count": 15,
   "id": "567910bf",
   "metadata": {
    "tags": []
   },
   "outputs": [
    {
     "data": {
      "text/plain": [
       "154840"
      ]
     },
     "execution_count": 15,
     "metadata": {},
     "output_type": "execute_result"
    }
   ],
   "source": [
    "# run this cell for now\n",
    "model_3_sales_2019 = project.get_sales(850, 2019) # 850 is the `car_id` of Tesla Model 3\n",
    "model_3_sales_2019"
   ]
  },
  {
   "cell_type": "code",
   "execution_count": 16,
   "id": "197079aa",
   "metadata": {
    "deletable": false,
    "editable": false
   },
   "outputs": [
    {
     "data": {
      "text/html": [
       "<p><strong><pre style='display: inline;'>q4</pre></strong> passed!</p>"
      ],
      "text/plain": [
       "q4 results: All test cases passed!"
      ]
     },
     "execution_count": 16,
     "metadata": {},
     "output_type": "execute_result"
    }
   ],
   "source": [
    "grader.check(\"q4\")"
   ]
  },
  {
   "cell_type": "markdown",
   "id": "800016f8",
   "metadata": {},
   "source": [
    "## NOTE: Even though you passed the test, this is considered hardcoding!\n",
    "\n",
    "You were asked how many *Tesla Model 3* cars were sold in *2019*. The `id` *850* was not provided to you as part of the question. You have no reason to expect that the dataset might not change in the future and that the ids will not be updated. Furthermore, by hardcoding the `id` into your answer, you are limiting its ability to be used for other datasets, where *Tesla Model 3* might have a different `id`.\n",
    "\n",
    "**Warning:** Since you used some information that was **not** explicitly provided to you as part of the question, this is considered **hardcoding**, and even if you pass the autograder, you will lose points for this, during manual code review.\n",
    "\n",
    "Let us now see the **correct** way to answer the previous question."
   ]
  },
  {
   "cell_type": "markdown",
   "id": "957b96f0",
   "metadata": {},
   "source": [
    "**Question 5:** How many *Tesla Model 3* cars were sold in *2019*?"
   ]
  },
  {
   "cell_type": "code",
   "execution_count": 17,
   "id": "c1714ee2",
   "metadata": {
    "tags": []
   },
   "outputs": [
    {
     "data": {
      "text/plain": [
       "154840"
      ]
     },
     "execution_count": 17,
     "metadata": {},
     "output_type": "execute_result"
    }
   ],
   "source": [
    "# this is the *correct* way to solve this question without hardcoding any indices\n",
    "model_3_id = project.get_id('Tesla Model 3')\n",
    "model_3_sales_2019 = project.get_sales(model_3_id, 2019)\n",
    "model_3_sales_2019"
   ]
  },
  {
   "cell_type": "code",
   "execution_count": 18,
   "id": "161cabcc",
   "metadata": {
    "deletable": false,
    "editable": false
   },
   "outputs": [
    {
     "data": {
      "text/html": [
       "<p><strong><pre style='display: inline;'>q5</pre></strong> passed!</p>"
      ],
      "text/plain": [
       "q5 results: All test cases passed!"
      ]
     },
     "execution_count": 18,
     "metadata": {},
     "output_type": "execute_result"
    }
   ],
   "source": [
    "grader.check(\"q5\")"
   ]
  },
  {
   "cell_type": "markdown",
   "id": "cb0b3348",
   "metadata": {},
   "source": [
    "**Question 6:** How many *Porsche Cayenne S E-Hybrid* cars were sold in *2017*?\n",
    "\n",
    "You **must not** hardcode the `id` of the car"
   ]
  },
  {
   "cell_type": "code",
   "execution_count": 21,
   "id": "79bd9009",
   "metadata": {
    "tags": []
   },
   "outputs": [
    {
     "data": {
      "text/plain": [
       "1574"
      ]
     },
     "execution_count": 21,
     "metadata": {},
     "output_type": "execute_result"
    }
   ],
   "source": [
    "# replace the ... with the correct code\n",
    "\n",
    "cayenne_id = project.get_id(\"Porsche Cayenne S E-Hybrid\")\n",
    "cayenne_sales_2017 = project.get_sales(cayenne_id, 2017)\n",
    "cayenne_sales_2017"
   ]
  },
  {
   "cell_type": "code",
   "execution_count": 22,
   "id": "481cf76c",
   "metadata": {
    "deletable": false,
    "editable": false
   },
   "outputs": [
    {
     "data": {
      "text/html": [
       "<p><strong><pre style='display: inline;'>q6</pre></strong> passed!</p>"
      ],
      "text/plain": [
       "q6 results: All test cases passed!"
      ]
     },
     "execution_count": 22,
     "metadata": {},
     "output_type": "execute_result"
    }
   ],
   "source": [
    "grader.check(\"q6\")"
   ]
  },
  {
   "cell_type": "markdown",
   "id": "5bad9c8d",
   "metadata": {},
   "source": [
    "**Question 7:** How many *Chevy Bolt* cars were sold in *2018*?\n",
    "\n",
    "You **must not** hardcode the `id` of the car"
   ]
  },
  {
   "cell_type": "code",
   "execution_count": 24,
   "id": "abfe36f3",
   "metadata": {
    "tags": []
   },
   "outputs": [
    {
     "data": {
      "text/plain": [
       "18019"
      ]
     },
     "execution_count": 24,
     "metadata": {},
     "output_type": "execute_result"
    }
   ],
   "source": [
    "# compute and store the answer in the variable 'bolt_sales_2018'\n",
    "chevy_bolt_id = project.get_id(\"Chevy Bolt\")\n",
    "bolt_sales_2018 = project.get_sales(chevy_bolt_id, 2018)\n",
    "# display the variable 'bolt_sales_2018' here\n",
    "bolt_sales_2018"
   ]
  },
  {
   "cell_type": "code",
   "execution_count": 25,
   "id": "95a743dd",
   "metadata": {
    "deletable": false,
    "editable": false
   },
   "outputs": [
    {
     "data": {
      "text/html": [
       "<p><strong><pre style='display: inline;'>q7</pre></strong> passed!</p>"
      ],
      "text/plain": [
       "q7 results: All test cases passed!"
      ]
     },
     "execution_count": 25,
     "metadata": {},
     "output_type": "execute_result"
    }
   ],
   "source": [
    "grader.check(\"q7\")"
   ]
  },
  {
   "cell_type": "markdown",
   "id": "35048d51",
   "metadata": {},
   "source": [
    "## Task 3.2: Calling and defining functions\n",
    "\n",
    "You will first demonstrate how to call some *built-in* functions (`max` and `min`) that will be useful for you in p3."
   ]
  },
  {
   "cell_type": "markdown",
   "id": "ddaffad0",
   "metadata": {},
   "source": [
    "**Question 8:** What is the *minimum* of the three numbers: *220*, *319*, and *320*?"
   ]
  },
  {
   "cell_type": "code",
   "execution_count": 26,
   "id": "c5291391",
   "metadata": {
    "tags": []
   },
   "outputs": [
    {
     "data": {
      "text/plain": [
       "220"
      ]
     },
     "execution_count": 26,
     "metadata": {},
     "output_type": "execute_result"
    }
   ],
   "source": [
    "# we have done this one for you\n",
    "min_three_numbers = min(220, 319, 320)\n",
    "min_three_numbers"
   ]
  },
  {
   "cell_type": "code",
   "execution_count": 27,
   "id": "49647c46",
   "metadata": {
    "deletable": false,
    "editable": false
   },
   "outputs": [
    {
     "data": {
      "text/html": [
       "<p><strong><pre style='display: inline;'>q8</pre></strong> passed!</p>"
      ],
      "text/plain": [
       "q8 results: All test cases passed!"
      ]
     },
     "execution_count": 27,
     "metadata": {},
     "output_type": "execute_result"
    }
   ],
   "source": [
    "grader.check(\"q8\")"
   ]
  },
  {
   "cell_type": "markdown",
   "id": "215c38ac",
   "metadata": {},
   "source": [
    "**Question 9:** What is the *minimum* of the two numbers: *220* and *200*?"
   ]
  },
  {
   "cell_type": "code",
   "execution_count": 29,
   "id": "5d63ec54",
   "metadata": {
    "tags": []
   },
   "outputs": [],
   "source": [
    "# compute and store the answer in the variable 'min_two_numbers'.\n",
    "min_two_numbers = min(220,200)\n",
    "# display the variable 'min_two_numbers' here"
   ]
  },
  {
   "cell_type": "code",
   "execution_count": 30,
   "id": "fdb18146",
   "metadata": {
    "deletable": false,
    "editable": false
   },
   "outputs": [
    {
     "data": {
      "text/html": [
       "<p><strong><pre style='display: inline;'>q9</pre></strong> passed!</p>"
      ],
      "text/plain": [
       "q9 results: All test cases passed!"
      ]
     },
     "execution_count": 30,
     "metadata": {},
     "output_type": "execute_result"
    }
   ],
   "source": [
    "grader.check(\"q9\")"
   ]
  },
  {
   "cell_type": "markdown",
   "id": "1518a6cc",
   "metadata": {},
   "source": [
    "**Question 10:** What is the *maximum* of the three numbers: *200*, *300*, and *400*?\n",
    "\n",
    "**Hint:** Just like the `min()` function, there is a `max()` function. You can either inspect or read its documentation to figure out how to use it."
   ]
  },
  {
   "cell_type": "code",
   "execution_count": null,
   "id": "939f6418",
   "metadata": {
    "tags": []
   },
   "outputs": [],
   "source": [
    "# compute and store the answer in the variable 'max_three_numbers'.\n",
    "\n",
    "# display the variable 'max_three_numbers' here"
   ]
  },
  {
   "cell_type": "code",
   "execution_count": null,
   "id": "efe725bf",
   "metadata": {
    "deletable": false,
    "editable": false
   },
   "outputs": [],
   "source": [
    "grader.check(\"q10\")"
   ]
  },
  {
   "cell_type": "markdown",
   "id": "48054c96",
   "metadata": {},
   "source": [
    "### Task 3.2.1: Defining your own functions\n",
    "\n",
    "You will now demonstrate how to define your own functions and how to call them."
   ]
  },
  {
   "cell_type": "markdown",
   "id": "cc32a662",
   "metadata": {},
   "source": [
    "### Function 1: `get_avg_drop_lowest(score1, score2, score3)`\n",
    "\n",
    "- This function will have three parameters, `score1`, `score2`, and `score3`.\n",
    "- It should add up the 3 scores, subtract out the smallest of these scores, and then determine the average of the remaining two.\n",
    "\n",
    "For example, given the three scores `2, 4, 7`, your function should sum all the scores together `2 + 4 + 7` and then subtract `2`. Finally, it should return the average of the two remaining scores `(4 + 7)/2 = 5.5`.\n",
    "\n",
    "You will be provided with some code snippets to start with, but you will have to fill out the rest of the function. If you are not sure how to write this function, ask your TA/PM for help."
   ]
  },
  {
   "cell_type": "code",
   "execution_count": null,
   "id": "e1c890f6",
   "metadata": {
    "tags": []
   },
   "outputs": [],
   "source": [
    "def get_avg_drop_lowest(score1, score2, score3):\n",
    "    # replace all the ... with your own code\n",
    "    smallest = ...\n",
    "    sum_of_larger_two = ...\n",
    "    avg = ...\n",
    "    return avg"
   ]
  },
  {
   "cell_type": "markdown",
   "id": "f279a463",
   "metadata": {},
   "source": [
    "**Question 11:** What is the output of `get_avg_drop_lowest(18, 20, 17)`?"
   ]
  },
  {
   "cell_type": "code",
   "execution_count": null,
   "id": "e10d7de4",
   "metadata": {
    "tags": []
   },
   "outputs": [],
   "source": [
    "# we have done this one for you\n",
    "avg_drop_lowest_18_20_17 = get_avg_drop_lowest(18, 20, 17)\n",
    "avg_drop_lowest_18_20_17"
   ]
  },
  {
   "cell_type": "code",
   "execution_count": null,
   "id": "4d7293fe",
   "metadata": {
    "deletable": false,
    "editable": false
   },
   "outputs": [],
   "source": [
    "grader.check(\"q11\")"
   ]
  },
  {
   "cell_type": "markdown",
   "id": "0eed43ea",
   "metadata": {},
   "source": [
    "**Question 12:** What is the output of `get_avg_drop_lowest(40, 45, 35)`?"
   ]
  },
  {
   "cell_type": "code",
   "execution_count": null,
   "id": "ec9d1f4b",
   "metadata": {
    "tags": []
   },
   "outputs": [],
   "source": [
    "# compute and store the answer in the variable 'avg_drop_lowest_40_45_35'\n",
    "\n",
    "# display the variable 'avg_drop_lowest_40_45_35' here"
   ]
  },
  {
   "cell_type": "code",
   "execution_count": null,
   "id": "76085d15",
   "metadata": {
    "deletable": false,
    "editable": false
   },
   "outputs": [],
   "source": [
    "grader.check(\"q12\")"
   ]
  },
  {
   "cell_type": "markdown",
   "id": "ce972c49",
   "metadata": {},
   "source": [
    "### Function 2: `get_range(num1, num2, num3, num4)`\n",
    "\n",
    "- This function will have four parameters, `num1`, `num2`, `num3`, and `num4`.\n",
    "- It should find the maximum of the four numbers, and the minimum of the four numbers, and subtract the minimum from the maximum.\n",
    "\n",
    "For example, given the four numbers `1, 2, 3, 4`, your function should subtract the minimum `1` from the maximum `4`, and return `4 - 1 = 3`.\n",
    "\n",
    "You will be provided with some code snippets to start with, but you will have to fill out the rest of the function. If you are not sure how to write this function, ask your TA/PM for help."
   ]
  },
  {
   "cell_type": "code",
   "execution_count": null,
   "id": "44182337",
   "metadata": {
    "tags": []
   },
   "outputs": [],
   "source": [
    "def get_range(num1, num2, num3, num4):\n",
    "    # replace all the ... with your own code\n",
    "    maximum = ...\n",
    "    # define a variable called `minimum` and store the minimum of the four numbers as its value\n",
    "    \n",
    "    range_four_nums = ...\n",
    "    return range_four_nums"
   ]
  },
  {
   "cell_type": "markdown",
   "id": "9c72253d",
   "metadata": {},
   "source": [
    "**Question 13:** What is the output of `get_range(10, 20, 40, 60)`?"
   ]
  },
  {
   "cell_type": "code",
   "execution_count": null,
   "id": "39e54f59",
   "metadata": {
    "tags": []
   },
   "outputs": [],
   "source": [
    "# compute and store the answer in the variable 'range_10_20_40_60'\n",
    "\n",
    "# display the variable 'range_10_20_40_60' here"
   ]
  },
  {
   "cell_type": "code",
   "execution_count": null,
   "id": "9e90f04d",
   "metadata": {
    "deletable": false,
    "editable": false
   },
   "outputs": [],
   "source": [
    "grader.check(\"q13\")"
   ]
  },
  {
   "cell_type": "markdown",
   "id": "4592dade",
   "metadata": {},
   "source": [
    "**Question 14:** What is the output of `get_range(40, 20, 10, 30)`?"
   ]
  },
  {
   "cell_type": "code",
   "execution_count": null,
   "id": "49fd07c9",
   "metadata": {
    "tags": []
   },
   "outputs": [],
   "source": [
    "# compute and store the answer in the variable 'range_40_20_10_30'\n",
    "\n",
    "# display the variable 'range_40_20_10_30' here"
   ]
  },
  {
   "cell_type": "code",
   "execution_count": null,
   "id": "88bd53ed",
   "metadata": {
    "deletable": false,
    "editable": false
   },
   "outputs": [],
   "source": [
    "grader.check(\"q14\")"
   ]
  },
  {
   "cell_type": "markdown",
   "id": "b6c22f8e",
   "metadata": {},
   "source": [
    "### Function 3: `change_in_value_per_year(year1, value1, year2, value2)`\n",
    "\n",
    "- This function will have four parameters, `year1`, `value1`, `year2`, and `value2`.\n",
    "- `year1` and `year2` will be two different years represented as `int` and `value1` and `value2` will be the *value* of `year1` and `year2` respectively.\n",
    "- This function should find the average yearly change in *value* between `year1` and `year2`.\n",
    "\n",
    "**Hint:** This function basically computes the slope of the line that passes through the points (`year1`, `value1`) and (`year2`, `value2`).\n",
    "\n",
    "For example, if we are given the inputs `year1 = 2017`, `value1 = 5`, `year2 = 2022`, and `value2 = 0`, then the output of the function should be `(0 - 5)/(2022 - 2017) = -1.0`.\n",
    "\n",
    "You will be provided with some code snippets to start with, but you will have to fill out the rest of the function. Note that you will have to define a very similar function in p3, so this will be good practice for you. If you are not sure how to write this function, ask your TA/PM for help."
   ]
  },
  {
   "cell_type": "code",
   "execution_count": 39,
   "id": "1776e2c5",
   "metadata": {
    "tags": []
   },
   "outputs": [],
   "source": [
    "def change_in_value_per_year(year1, value1, year2=2022, value2=6): # DO NOT EDIT THIS LINE\n",
    "    pass # this statement tells Python to do nothing.\n",
    "    # since this function has no code inside, we have added the pass statement inside so the code does not crash.\n",
    "    # once you have added code to this function, you can (and should) remove the pass statement as it does nothing.\n",
    "\n",
    "    # TODO: find the change in *value* between `year1` and `year2` and store it in a variable `change_in_value`\n",
    "    # TODO: find the number of years between `year1` and `year2` and store it in a variable `num_years`\n",
    "    # TODO: compute the average change in value between `year1` and `year2` and store it in a variable `change_per_year`\n",
    "    # TODO: you *should* use the variables `change_in_value` and `num_years` to define this variable `change_per_year`\n",
    "    # TODO: return the variable `change_per_year`   "
   ]
  },
  {
   "cell_type": "markdown",
   "id": "0b51dcc6",
   "metadata": {},
   "source": [
    "**Question 15:** What is the output of `change_in_value_per_year(2019, 12, 2020, 4)`?"
   ]
  },
  {
   "cell_type": "code",
   "execution_count": 46,
   "id": "84dac948",
   "metadata": {
    "tags": []
   },
   "outputs": [],
   "source": [
    "# compute and store the answer in the variable 'change_per_year_2019_12_2020_4'\n",
    "change_per_year_2019_12_2020_4 = change_in_value_per_year(2019, 12, 2020, 4)\n",
    "# display the variable 'change_per_year_2019_12_2020_4' here\n",
    "change_per_year_2019_12_2020_4"
   ]
  },
  {
   "cell_type": "code",
   "execution_count": 40,
   "id": "73bb7597",
   "metadata": {
    "deletable": false,
    "editable": false
   },
   "outputs": [
    {
     "data": {
      "text/html": [
       "<p><strong style='color: red;'><pre style='display: inline;'>q15</pre> results:</strong></p><p><strong><pre style='display: inline;'>q15 - 1</pre> result:</strong></p><pre>    Trying:\n",
       "        test.check(\"q15\", change_per_year_2019_12_2020_4)\n",
       "    Expecting:\n",
       "        True\n",
       "    **********************************************************************\n",
       "    Line 1, in q15 0\n",
       "    Failed example:\n",
       "        test.check(\"q15\", change_per_year_2019_12_2020_4)\n",
       "    Expected:\n",
       "        True\n",
       "    Got:\n",
       "        <b style='color: red;'>ERROR:</b> expected to find type float but found type NoneType\n",
       "</pre>"
      ],
      "text/plain": [
       "q15 results:\n",
       "    q15 - 1 result:\n",
       "        Trying:\n",
       "            test.check(\"q15\", change_per_year_2019_12_2020_4)\n",
       "        Expecting:\n",
       "            True\n",
       "        **********************************************************************\n",
       "        Line 1, in q15 0\n",
       "        Failed example:\n",
       "            test.check(\"q15\", change_per_year_2019_12_2020_4)\n",
       "        Expected:\n",
       "            True\n",
       "        Got:\n",
       "            <b style='color: red;'>ERROR:</b> expected to find type float but found type NoneType"
      ]
     },
     "execution_count": 40,
     "metadata": {},
     "output_type": "execute_result"
    }
   ],
   "source": [
    "grader.check(\"q15\")"
   ]
  },
  {
   "cell_type": "markdown",
   "id": "7a5edecd",
   "metadata": {},
   "source": [
    "**Question 16:** What is the output of `change_in_value_per_year(2015, 8, 2018, 11)`?"
   ]
  },
  {
   "cell_type": "code",
   "execution_count": null,
   "id": "70a85a04",
   "metadata": {
    "scrolled": true,
    "tags": []
   },
   "outputs": [],
   "source": [
    "# compute and store the answer in the variable 'change_per_year_2015_8_2018_11'\n",
    "\n",
    "# display the variable 'change_per_year_2015_8_2018_11' here"
   ]
  },
  {
   "cell_type": "code",
   "execution_count": null,
   "id": "507c7ebb",
   "metadata": {
    "deletable": false,
    "editable": false
   },
   "outputs": [],
   "source": [
    "grader.check(\"q16\")"
   ]
  },
  {
   "cell_type": "markdown",
   "id": "a9af2622",
   "metadata": {},
   "source": [
    "### Task 3.2.2: Using default arguments\n",
    "\n",
    "You will now demonstrate how to use default arguments in functions.\n",
    "\n",
    "If you look back at the definition of `change_in_value_per_year()`, you notice that the parameters `year2` and `value2` were given the default arguments `2022` and `6` respectively. We will now use these default arguments in our function calls."
   ]
  },
  {
   "cell_type": "markdown",
   "id": "30ab5aa7",
   "metadata": {},
   "source": [
    "**Question 17:** Find the change in value per year when `year1` is *2020*, `value1` is *4*, `year2` is *2013*, and `value2` is *6*"
   ]
  },
  {
   "cell_type": "code",
   "execution_count": 44,
   "id": "ddd4176f",
   "metadata": {
    "tags": []
   },
   "outputs": [],
   "source": [
    "# we have done this one for you\n",
    "change_per_year_2020_4_2013_6 = change_in_value_per_year(2020, 4, 2013) # note that the default argument for `value2` is used\n",
    "change_per_year_2020_4_2013_6"
   ]
  },
  {
   "cell_type": "code",
   "execution_count": 45,
   "id": "df8ea026",
   "metadata": {
    "deletable": false,
    "editable": false
   },
   "outputs": [
    {
     "data": {
      "text/html": [
       "<p><strong style='color: red;'><pre style='display: inline;'>q17</pre> results:</strong></p><p><strong><pre style='display: inline;'>q17 - 1</pre> result:</strong></p><pre>    Trying:\n",
       "        test.check(\"q17\", change_per_year_2020_4_2013_6)\n",
       "    Expecting:\n",
       "        True\n",
       "    **********************************************************************\n",
       "    Line 1, in q17 0\n",
       "    Failed example:\n",
       "        test.check(\"q17\", change_per_year_2020_4_2013_6)\n",
       "    Expected:\n",
       "        True\n",
       "    Got:\n",
       "        <b style='color: red;'>ERROR:</b> expected to find type float but found type NoneType\n",
       "</pre>"
      ],
      "text/plain": [
       "q17 results:\n",
       "    q17 - 1 result:\n",
       "        Trying:\n",
       "            test.check(\"q17\", change_per_year_2020_4_2013_6)\n",
       "        Expecting:\n",
       "            True\n",
       "        **********************************************************************\n",
       "        Line 1, in q17 0\n",
       "        Failed example:\n",
       "            test.check(\"q17\", change_per_year_2020_4_2013_6)\n",
       "        Expected:\n",
       "            True\n",
       "        Got:\n",
       "            <b style='color: red;'>ERROR:</b> expected to find type float but found type NoneType"
      ]
     },
     "execution_count": 45,
     "metadata": {},
     "output_type": "execute_result"
    }
   ],
   "source": [
    "grader.check(\"q17\")"
   ]
  },
  {
   "cell_type": "markdown",
   "id": "1c93ecc8",
   "metadata": {},
   "source": [
    "**Question 18:**  Find the change in value per year when `year1` is *2018*, `value1` is *11*, `year2` is *2022*, and `value2` is *6*\n",
    "\n",
    "You **must** use the default arguments (your call to `change_in_value_per_year` should **not** pass any more arguments than is absolutely necessary). Ask a TA/PM to review your code if you are unsure of your answer."
   ]
  },
  {
   "cell_type": "code",
   "execution_count": null,
   "id": "b7fa7912",
   "metadata": {
    "tags": []
   },
   "outputs": [],
   "source": [
    "# compute and store the answer in the variable 'change_per_year_2018_11_2022_6'\n",
    "\n",
    "# display the variable 'change_per_year_2018_11_2022_6' here"
   ]
  },
  {
   "cell_type": "code",
   "execution_count": null,
   "id": "f0d205bf",
   "metadata": {
    "deletable": false,
    "editable": false
   },
   "outputs": [],
   "source": [
    "grader.check(\"q18\")"
   ]
  },
  {
   "cell_type": "markdown",
   "id": "0030a117",
   "metadata": {},
   "source": [
    "**Question 19:** Find the change in value per year when `year1` is *2013*, `value1` is *3*, `year2` is *2022*, and `value2` is *2*"
   ]
  },
  {
   "cell_type": "code",
   "execution_count": null,
   "id": "098f4586",
   "metadata": {
    "tags": []
   },
   "outputs": [],
   "source": [
    "# we have done this one for you\n",
    "change_per_year_2013_3_2022_2 = change_in_value_per_year(2013, 3, value2=2) # note the use of positional arguments here\n",
    "change_per_year_2013_3_2022_2"
   ]
  },
  {
   "cell_type": "code",
   "execution_count": null,
   "id": "28bf0fb7",
   "metadata": {
    "deletable": false,
    "editable": false
   },
   "outputs": [],
   "source": [
    "grader.check(\"q19\")"
   ]
  },
  {
   "cell_type": "markdown",
   "id": "426661aa",
   "metadata": {},
   "source": [
    "**Question 20:** Find the change in value per year when `year1` is *2016*, `value1` is *4*, `year2` is *2022*, and `value2` is *0*"
   ]
  },
  {
   "cell_type": "code",
   "execution_count": null,
   "id": "55c79c5d",
   "metadata": {
    "tags": []
   },
   "outputs": [],
   "source": [
    "# compute and store the answer in the variable 'change_per_year_2016_4_2022_0'\n",
    "\n",
    "# display the variable 'change_per_year_2016_4_2022_0' here"
   ]
  },
  {
   "cell_type": "code",
   "execution_count": null,
   "id": "1193bfb4",
   "metadata": {
    "deletable": false,
    "editable": false
   },
   "outputs": [],
   "source": [
    "grader.check(\"q20\")"
   ]
  },
  {
   "cell_type": "markdown",
   "id": "20255f7b",
   "metadata": {},
   "source": [
    "## That's it! You are done with lab-p3 and may start p3. You do not have to submit this practice notebook to Gradescope. Good luck!"
   ]
  },
  {
   "cell_type": "code",
   "execution_count": null,
   "id": "eabdb804",
   "metadata": {},
   "outputs": [],
   "source": []
  }
 ],
 "metadata": {
  "kernelspec": {
   "display_name": "Python 3 (ipykernel)",
   "language": "python",
   "name": "python3"
  },
  "language_info": {
   "codemirror_mode": {
    "name": "ipython",
    "version": 3
   },
   "file_extension": ".py",
   "mimetype": "text/x-python",
   "name": "python",
   "nbconvert_exporter": "python",
   "pygments_lexer": "ipython3",
   "version": "3.9.12"
  },
  "otter": {
   "OK_FORMAT": true,
   "tests": {
    "q1": {
     "name": "q1",
     "points": 5,
     "suites": [
      {
       "cases": [
        {
         "code": ">>> test.check(\"q1\", model_3_id)\nTrue",
         "hidden": false,
         "locked": false
        }
       ],
       "scored": true,
       "setup": "",
       "teardown": "",
       "type": "doctest"
      }
     ]
    },
    "q10": {
     "name": "q10",
     "points": 5,
     "suites": [
      {
       "cases": [
        {
         "code": ">>> test.check(\"q10\", max_three_numbers)\nTrue",
         "hidden": false,
         "locked": false
        }
       ],
       "scored": true,
       "setup": "",
       "teardown": "",
       "type": "doctest"
      }
     ]
    },
    "q11": {
     "name": "q11",
     "points": 5,
     "suites": [
      {
       "cases": [
        {
         "code": ">>> test.check(\"q11\", avg_drop_lowest_18_20_17)\nTrue",
         "hidden": false,
         "locked": false
        }
       ],
       "scored": true,
       "setup": "",
       "teardown": "",
       "type": "doctest"
      }
     ]
    },
    "q12": {
     "name": "q12",
     "points": 5,
     "suites": [
      {
       "cases": [
        {
         "code": ">>> test.check(\"q12\", avg_drop_lowest_40_45_35)\nTrue",
         "hidden": false,
         "locked": false
        }
       ],
       "scored": true,
       "setup": "",
       "teardown": "",
       "type": "doctest"
      }
     ]
    },
    "q13": {
     "name": "q13",
     "points": 5,
     "suites": [
      {
       "cases": [
        {
         "code": ">>> test.check(\"q13\", range_10_20_40_60)\nTrue",
         "hidden": false,
         "locked": false
        }
       ],
       "scored": true,
       "setup": "",
       "teardown": "",
       "type": "doctest"
      }
     ]
    },
    "q14": {
     "name": "q14",
     "points": 5,
     "suites": [
      {
       "cases": [
        {
         "code": ">>> test.check(\"q14\", range_40_20_10_30)\nTrue",
         "hidden": false,
         "locked": false
        }
       ],
       "scored": true,
       "setup": "",
       "teardown": "",
       "type": "doctest"
      }
     ]
    },
    "q15": {
     "name": "q15",
     "points": 5,
     "suites": [
      {
       "cases": [
        {
         "code": ">>> test.check(\"q15\", change_per_year_2019_12_2020_4)\nTrue",
         "hidden": false,
         "locked": false
        }
       ],
       "scored": true,
       "setup": "",
       "teardown": "",
       "type": "doctest"
      }
     ]
    },
    "q16": {
     "name": "q16",
     "points": 5,
     "suites": [
      {
       "cases": [
        {
         "code": ">>> test.check(\"q16\", change_per_year_2015_8_2018_11)\nTrue",
         "hidden": false,
         "locked": false
        }
       ],
       "scored": true,
       "setup": "",
       "teardown": "",
       "type": "doctest"
      }
     ]
    },
    "q17": {
     "name": "q17",
     "points": 5,
     "suites": [
      {
       "cases": [
        {
         "code": ">>> test.check(\"q17\", change_per_year_2020_4_2013_6)\nTrue",
         "hidden": false,
         "locked": false
        }
       ],
       "scored": true,
       "setup": "",
       "teardown": "",
       "type": "doctest"
      }
     ]
    },
    "q18": {
     "name": "q18",
     "points": 5,
     "suites": [
      {
       "cases": [
        {
         "code": ">>> test.check(\"q18\", change_per_year_2018_11_2022_6)\nTrue",
         "hidden": false,
         "locked": false
        }
       ],
       "scored": true,
       "setup": "",
       "teardown": "",
       "type": "doctest"
      }
     ]
    },
    "q19": {
     "name": "q19",
     "points": 5,
     "suites": [
      {
       "cases": [
        {
         "code": ">>> test.check(\"q19\", change_per_year_2013_3_2022_2)\nTrue",
         "hidden": false,
         "locked": false
        }
       ],
       "scored": true,
       "setup": "",
       "teardown": "",
       "type": "doctest"
      }
     ]
    },
    "q2": {
     "name": "q2",
     "points": 5,
     "suites": [
      {
       "cases": [
        {
         "code": ">>> test.check(\"q2\", clarity_id)\nTrue",
         "hidden": false,
         "locked": false
        }
       ],
       "scored": true,
       "setup": "",
       "teardown": "",
       "type": "doctest"
      }
     ]
    },
    "q20": {
     "name": "q20",
     "points": 5,
     "suites": [
      {
       "cases": [
        {
         "code": ">>> test.check(\"q20\", change_per_year_2016_4_2022_0)\nTrue",
         "hidden": false,
         "locked": false
        }
       ],
       "scored": true,
       "setup": "",
       "teardown": "",
       "type": "doctest"
      }
     ]
    },
    "q3": {
     "name": "q3",
     "points": 5,
     "suites": [
      {
       "cases": [
        {
         "code": ">>> test.check(\"q3\", pacifica_id)\nTrue",
         "hidden": false,
         "locked": false
        }
       ],
       "scored": true,
       "setup": "",
       "teardown": "",
       "type": "doctest"
      }
     ]
    },
    "q4": {
     "name": "q4",
     "points": 5,
     "suites": [
      {
       "cases": [
        {
         "code": ">>> test.check(\"q4\", model_3_sales_2019)\nTrue",
         "hidden": false,
         "locked": false
        }
       ],
       "scored": true,
       "setup": "",
       "teardown": "",
       "type": "doctest"
      }
     ]
    },
    "q5": {
     "name": "q5",
     "points": 5,
     "suites": [
      {
       "cases": [
        {
         "code": ">>> test.check(\"q5\", model_3_sales_2019)\nTrue",
         "hidden": false,
         "locked": false
        }
       ],
       "scored": true,
       "setup": "",
       "teardown": "",
       "type": "doctest"
      }
     ]
    },
    "q6": {
     "name": "q6",
     "points": 5,
     "suites": [
      {
       "cases": [
        {
         "code": ">>> test.check(\"q6\", cayenne_sales_2017)\nTrue",
         "hidden": false,
         "locked": false
        }
       ],
       "scored": true,
       "setup": "",
       "teardown": "",
       "type": "doctest"
      }
     ]
    },
    "q7": {
     "name": "q7",
     "points": 5,
     "suites": [
      {
       "cases": [
        {
         "code": ">>> test.check(\"q7\", bolt_sales_2018)\nTrue",
         "hidden": false,
         "locked": false
        }
       ],
       "scored": true,
       "setup": "",
       "teardown": "",
       "type": "doctest"
      }
     ]
    },
    "q8": {
     "name": "q8",
     "points": 5,
     "suites": [
      {
       "cases": [
        {
         "code": ">>> test.check(\"q8\", min_three_numbers)\nTrue",
         "hidden": false,
         "locked": false
        }
       ],
       "scored": true,
       "setup": "",
       "teardown": "",
       "type": "doctest"
      }
     ]
    },
    "q9": {
     "name": "q9",
     "points": 5,
     "suites": [
      {
       "cases": [
        {
         "code": ">>> test.check(\"q9\", min_two_numbers)\nTrue",
         "hidden": false,
         "locked": false
        }
       ],
       "scored": true,
       "setup": "",
       "teardown": "",
       "type": "doctest"
      }
     ]
    }
   }
  },
  "vscode": {
   "interpreter": {
    "hash": "f08154012ddadd8e950e6e9e035c7a7b32c136e7647e9b7c77e02eb723a8bedb"
   }
  }
 },
 "nbformat": 4,
 "nbformat_minor": 5
}
