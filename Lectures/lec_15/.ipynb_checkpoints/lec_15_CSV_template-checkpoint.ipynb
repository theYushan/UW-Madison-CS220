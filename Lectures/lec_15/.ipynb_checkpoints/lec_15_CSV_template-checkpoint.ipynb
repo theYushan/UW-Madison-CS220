{
 "cells": [
  {
   "cell_type": "markdown",
   "id": "72348536",
   "metadata": {},
   "source": [
    "# Comma Separated Values (CSV)"
   ]
  },
  {
   "cell_type": "code",
   "execution_count": 1,
   "id": "ba562f5e",
   "metadata": {},
   "outputs": [],
   "source": [
    "import csv"
   ]
  },
  {
   "cell_type": "markdown",
   "id": "ddcf7595",
   "metadata": {},
   "source": [
    "### Warmup 1\n",
    "\n",
    "- Use `list` type's `index` method to lookup index of \"ice cream\"\n",
    "- Take a look at other list methods: https://www.w3schools.com/python/python_ref_list.asp"
   ]
  },
  {
   "cell_type": "code",
   "execution_count": 2,
   "id": "a0fecc18",
   "metadata": {},
   "outputs": [
    {
     "name": "stdout",
     "output_type": "stream",
     "text": [
      "\n"
     ]
    }
   ],
   "source": [
    "dairy = [\"milk\", \"ice cream\", \"cheese\", \"yogurt\" ]\n",
    "print()"
   ]
  },
  {
   "cell_type": "markdown",
   "id": "a1a4e2e7",
   "metadata": {},
   "source": [
    "### Warmup 2 \n",
    "Use `in` operator to complete the condition to check if food_shelf contains any dairy products."
   ]
  },
  {
   "cell_type": "code",
   "execution_count": null,
   "id": "eae06501",
   "metadata": {},
   "outputs": [],
   "source": [
    "food_shelf = [\"peanut butter\", \"milk\", \"bread\", \"cheese\", \"YOGURT\"]\n",
    "for item in food_shelf:\n",
    "    if ???:\n",
    "        print(item, \"is dairy\")\n",
    "    else:\n",
    "        print(item, \"is not dairy\")"
   ]
  },
  {
   "cell_type": "markdown",
   "id": "8a5f548e",
   "metadata": {},
   "source": [
    "## Warmup 3\n",
    "Determine median of a list.\n",
    "\n",
    "Examples:\n",
    "- Median of [1, 2, 3, 4, 5] is: 3\n",
    "- Median of [1, 2, 3, 4, 5, 6] is: 3.5"
   ]
  },
  {
   "cell_type": "code",
   "execution_count": null,
   "id": "2f610ffe",
   "metadata": {},
   "outputs": [],
   "source": [
    "def median(some_items):\n",
    "    \"\"\"\n",
    "    Returns median of a list passed as argument\n",
    "    \"\"\"\n",
    "    pass"
   ]
  },
  {
   "cell_type": "code",
   "execution_count": null,
   "id": "e9340eaa",
   "metadata": {},
   "outputs": [],
   "source": [
    "nums = [5, 4, 3, 2, 1]\n",
    "print(nums, median(nums))\n",
    "\n",
    "nums = [6, 5, 4, 3, 2, 1]\n",
    "print(nums, median(nums))\n",
    "\n",
    "vals = [\"A\", \"C\", \"B\"]\n",
    "print(nums, median(vals))\n",
    "\n",
    "vals = [\"A\", \"C\", \"B\", \"D\"]\n",
    "# print(nums, median(vals)) # does not work due to TypeError"
   ]
  },
  {
   "cell_type": "markdown",
   "id": "a9d5085c",
   "metadata": {},
   "source": [
    "## Learning Objectives:\n",
    "\n",
    "- Open an Excel file and export it to a Comma Separated Value file.\n",
    "- Open a CSV file in TextEditor/Jupyter and connect the elements of the CSV file to the rows and columns in the spreadsheet.\n",
    "- Use pre-written Python code to read a CSV file into a list of lists.\n",
    "- Write Python statements with double list indexing to access any element of a CSV file via a list of lists.\n",
    "- Write code that answers questions about CSV data by writing for loops on lists of lists."
   ]
  },
  {
   "cell_type": "code",
   "execution_count": null,
   "id": "9d936c1c",
   "metadata": {},
   "outputs": [],
   "source": [
    "# inspired by https://automatetheboringstuff.com/2e/chapter16/\n",
    "def process_csv(filename):\n",
    "    # open the file, its a text file utf-8\n",
    "    example_file = open(filename, encoding=\"utf-8\")\n",
    "    # prepare it for reading as a CSV object\n",
    "    example_reader = csv.reader(example_file)\n",
    "    # use the built-in list function to convert this into a list of lists\n",
    "    example_data = list(example_reader)\n",
    "    # close the file to tidy up our workspace\n",
    "    example_file.close()\n",
    "    # return the list of lists\n",
    "    \n",
    "    return example_data"
   ]
  },
  {
   "cell_type": "markdown",
   "id": "89621c98",
   "metadata": {},
   "source": [
    "### Student Information Survey data"
   ]
  },
  {
   "cell_type": "code",
   "execution_count": null,
   "id": "d3c252b4",
   "metadata": {},
   "outputs": [],
   "source": [
    "# TODO: call the process_csv function and store the list of lists in cs220_csv\n"
   ]
  },
  {
   "cell_type": "code",
   "execution_count": null,
   "id": "5838ae5f",
   "metadata": {},
   "outputs": [],
   "source": [
    "# Store the header row into cs220_header, using indexing\n",
    "cs220_header = ???\n",
    "cs220_header"
   ]
  },
  {
   "cell_type": "code",
   "execution_count": null,
   "id": "66fda88d",
   "metadata": {},
   "outputs": [],
   "source": [
    "# TODO: Store all of the data rows into cs220_data, using slicing\n",
    "cs220_data = ???\n",
    "\n",
    "# TODO: use slicing to display top 3 rows data\n",
    "cs220_data[:3]"
   ]
  },
  {
   "cell_type": "markdown",
   "id": "4267fe3e",
   "metadata": {},
   "source": [
    "### What is the Sleep habit for the 2nd student?"
   ]
  },
  {
   "cell_type": "code",
   "execution_count": null,
   "id": "4b8dbe8b",
   "metadata": {},
   "outputs": [],
   "source": [
    "# bad example: we hard-coded the column index\n"
   ]
  },
  {
   "cell_type": "markdown",
   "id": "4f125240",
   "metadata": {},
   "source": [
    "What if we decided to add a new column before sleeping habit? Your code will no longer work.\n",
    "\n",
    "Instead of hard-coding column index, you should use `index` method, to lookup column index from the header variable. This will also make your code so much readable."
   ]
  },
  {
   "cell_type": "code",
   "execution_count": null,
   "id": "f2e52e06",
   "metadata": {},
   "outputs": [],
   "source": []
  },
  {
   "cell_type": "markdown",
   "id": "5d298a4c",
   "metadata": {},
   "source": [
    "### What is the Lecture of the 4th student?"
   ]
  },
  {
   "cell_type": "code",
   "execution_count": null,
   "id": "3617b3de",
   "metadata": {},
   "outputs": [],
   "source": []
  },
  {
   "cell_type": "markdown",
   "id": "059de363",
   "metadata": {},
   "source": [
    "### Create a list containing Age of all students 10 years from now"
   ]
  },
  {
   "cell_type": "code",
   "execution_count": null,
   "id": "45909f22",
   "metadata": {},
   "outputs": [],
   "source": []
  },
  {
   "cell_type": "markdown",
   "id": "8e18663d",
   "metadata": {},
   "source": [
    "### cell function\n",
    "\n",
    "- It would be very helpful to define a cell function, which can handle missing data and type conversions"
   ]
  },
  {
   "cell_type": "code",
   "execution_count": null,
   "id": "bba90038",
   "metadata": {},
   "outputs": [],
   "source": [
    "def cell(row_idx, col_name):\n",
    "    \"\"\"\n",
    "    Returns the data value (cell) corresponding to the row index and \n",
    "    the column name of a CSV file.\n",
    "    \"\"\"\n",
    "    # TODO: get the index of col_name\n",
    "    \n",
    "    # TODO: get the value of cs220_data at the specified cell\n",
    "    \n",
    "    # TODO: handle missing values, by returning None\n",
    "    \n",
    "    # TODO: handle type conversions\n"
   ]
  },
  {
   "cell_type": "markdown",
   "id": "b7c8e726",
   "metadata": {},
   "source": [
    "### Find average age per lecture."
   ]
  },
  {
   "cell_type": "code",
   "execution_count": null,
   "id": "f0a05e42",
   "metadata": {
    "scrolled": true
   },
   "outputs": [],
   "source": [
    "# TODO: initialize 6 lists for the 6 lectures\n",
    "\n",
    "\n",
    "# Iterate over the data and populate the lists\n",
    " \n",
    "            \n",
    "# TODO: compute average age of each lecture\n",
    "print(\"LEC001 average student age:\", round(sum(lec1_ages) / len(lec1_ages), 2))\n",
    "print(\"LEC002 average student age:\", round(sum(lec2_ages) / len(lec2_ages), 2))\n",
    "print(\"LEC003 average student age:\", round(sum(lec3_ages) / len(lec3_ages), 2))\n",
    "print(\"LEC004 average student age:\", round(sum(lec4_ages) / len(lec4_ages), 2))\n",
    "print(\"LEC005 average student age:\", round(sum(lec5_ages) / len(lec5_ages), 2))\n",
    "print(\"LEC006 average student age:\", round(sum(lec6_ages) / len(lec6_ages), 2))"
   ]
  },
  {
   "cell_type": "markdown",
   "id": "64fd0945",
   "metadata": {},
   "source": [
    "### Find all unique zip codes."
   ]
  },
  {
   "cell_type": "code",
   "execution_count": null,
   "id": "c28e77ce",
   "metadata": {},
   "outputs": [],
   "source": [
    "# TODO: initialize list of keep track of zip codes\n",
    "zip_codes = []\n",
    "\n",
    "for row_idx in range(len(cs220_data)):\n",
    "    zip_code = cell(row_idx, \"Zip Code\")\n",
    "    \n",
    "    if zip_code != None:\n",
    "        zip_codes.append(zip_code)\n",
    "        \n",
    "zip_codes # How do we get the unique values?"
   ]
  },
  {
   "cell_type": "markdown",
   "id": "31a381fe",
   "metadata": {},
   "source": [
    "## Self-practice"
   ]
  },
  {
   "cell_type": "markdown",
   "id": "8ac26620",
   "metadata": {},
   "source": [
    "### How many students are both a procrastinator and a pet owner?"
   ]
  },
  {
   "cell_type": "markdown",
   "id": "172141ea",
   "metadata": {},
   "source": [
    "### What percentage of 18-year-olds have their major declared as \"Other\"?"
   ]
  },
  {
   "cell_type": "markdown",
   "id": "d9a7a2b1",
   "metadata": {},
   "source": [
    "### How old is the oldest basil/spinach-loving Business major?"
   ]
  },
  {
   "cell_type": "code",
   "execution_count": null,
   "id": "5fcc04f2",
   "metadata": {},
   "outputs": [],
   "source": []
  }
 ],
 "metadata": {
  "kernelspec": {
   "display_name": "Python 3 (ipykernel)",
   "language": "python",
   "name": "python3"
  },
  "language_info": {
   "codemirror_mode": {
    "name": "ipython",
    "version": 3
   },
   "file_extension": ".py",
   "mimetype": "text/x-python",
   "name": "python",
   "nbconvert_exporter": "python",
   "pygments_lexer": "ipython3",
   "version": "3.9.12"
  }
 },
 "nbformat": 4,
 "nbformat_minor": 5
}
