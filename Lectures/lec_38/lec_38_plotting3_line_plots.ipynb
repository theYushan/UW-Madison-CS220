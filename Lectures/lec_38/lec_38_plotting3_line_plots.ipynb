{
 "cells": [
  {
   "cell_type": "code",
   "execution_count": 1,
   "metadata": {},
   "outputs": [],
   "source": [
    "\n",
    "# import statements\n",
    "import sqlite3\n",
    "import pandas as pd\n",
    "from pandas import DataFrame, Series\n",
    "import matplotlib\n",
    "from matplotlib import pyplot as plt\n",
    "matplotlib.rcParams[\"font.size\"] = 16"
   ]
  },
  {
   "cell_type": "markdown",
   "metadata": {},
   "source": [
    "#### Warmup 1: Write a function that converts any Fehrenheit temp to Celcius\n",
    "C = (5/9) * (f-32)"
   ]
  },
  {
   "cell_type": "code",
   "execution_count": 16,
   "metadata": {},
   "outputs": [
    {
     "name": "stdout",
     "output_type": "stream",
     "text": [
      "100.0\n",
      "0.0\n",
      "19.444444444444446\n"
     ]
    }
   ],
   "source": [
    "def f_to_c(f):\n",
    "    return (5/9) * (f-32)\n",
    "\n",
    "# test it by making several calls\n",
    "print(f_to_c(212))\n",
    "print(f_to_c(32))\n",
    "print(f_to_c(67))"
   ]
  },
  {
   "cell_type": "markdown",
   "metadata": {},
   "source": [
    "#### Warmup 2a: What is the name of the only table inside of iris-flowers.db?"
   ]
  },
  {
   "cell_type": "code",
   "execution_count": 17,
   "metadata": {},
   "outputs": [
    {
     "data": {
      "text/html": [
       "<div>\n",
       "<style scoped>\n",
       "    .dataframe tbody tr th:only-of-type {\n",
       "        vertical-align: middle;\n",
       "    }\n",
       "\n",
       "    .dataframe tbody tr th {\n",
       "        vertical-align: top;\n",
       "    }\n",
       "\n",
       "    .dataframe thead th {\n",
       "        text-align: right;\n",
       "    }\n",
       "</style>\n",
       "<table border=\"1\" class=\"dataframe\">\n",
       "  <thead>\n",
       "    <tr style=\"text-align: right;\">\n",
       "      <th></th>\n",
       "      <th>type</th>\n",
       "      <th>name</th>\n",
       "      <th>tbl_name</th>\n",
       "      <th>rootpage</th>\n",
       "      <th>sql</th>\n",
       "    </tr>\n",
       "  </thead>\n",
       "  <tbody>\n",
       "    <tr>\n",
       "      <th>0</th>\n",
       "      <td>table</td>\n",
       "      <td>iris</td>\n",
       "      <td>iris</td>\n",
       "      <td>2</td>\n",
       "      <td>CREATE TABLE \"iris\" (\\n\"sep-length\" REAL,\\n  \"...</td>\n",
       "    </tr>\n",
       "  </tbody>\n",
       "</table>\n",
       "</div>"
      ],
      "text/plain": [
       "    type  name tbl_name  rootpage  \\\n",
       "0  table  iris     iris         2   \n",
       "\n",
       "                                                 sql  \n",
       "0  CREATE TABLE \"iris\" (\\n\"sep-length\" REAL,\\n  \"...  "
      ]
     },
     "execution_count": 17,
     "metadata": {},
     "output_type": "execute_result"
    }
   ],
   "source": [
    "iris_conn = sqlite3.connect(\"iris-flowers.db\")\n",
    "pd.read_sql(\"SELECT * FROM sqlite_master WHERE type='table'\", iris_conn)"
   ]
  },
  {
   "cell_type": "markdown",
   "metadata": {},
   "source": [
    "#### Warmup 2b: Save & display all the data from this table to a variable called \"iris_df\""
   ]
  },
  {
   "cell_type": "code",
   "execution_count": 29,
   "metadata": {},
   "outputs": [
    {
     "data": {
      "text/html": [
       "<div>\n",
       "<style scoped>\n",
       "    .dataframe tbody tr th:only-of-type {\n",
       "        vertical-align: middle;\n",
       "    }\n",
       "\n",
       "    .dataframe tbody tr th {\n",
       "        vertical-align: top;\n",
       "    }\n",
       "\n",
       "    .dataframe thead th {\n",
       "        text-align: right;\n",
       "    }\n",
       "</style>\n",
       "<table border=\"1\" class=\"dataframe\">\n",
       "  <thead>\n",
       "    <tr style=\"text-align: right;\">\n",
       "      <th></th>\n",
       "      <th>sep-length</th>\n",
       "      <th>sep-width</th>\n",
       "      <th>pet-length</th>\n",
       "      <th>pet-width</th>\n",
       "      <th>class</th>\n",
       "    </tr>\n",
       "  </thead>\n",
       "  <tbody>\n",
       "    <tr>\n",
       "      <th>0</th>\n",
       "      <td>5.1</td>\n",
       "      <td>3.5</td>\n",
       "      <td>1.4</td>\n",
       "      <td>0.2</td>\n",
       "      <td>Iris-setosa</td>\n",
       "    </tr>\n",
       "    <tr>\n",
       "      <th>1</th>\n",
       "      <td>4.9</td>\n",
       "      <td>3.0</td>\n",
       "      <td>1.4</td>\n",
       "      <td>0.2</td>\n",
       "      <td>Iris-setosa</td>\n",
       "    </tr>\n",
       "    <tr>\n",
       "      <th>2</th>\n",
       "      <td>4.7</td>\n",
       "      <td>3.2</td>\n",
       "      <td>1.3</td>\n",
       "      <td>0.2</td>\n",
       "      <td>Iris-setosa</td>\n",
       "    </tr>\n",
       "    <tr>\n",
       "      <th>3</th>\n",
       "      <td>4.6</td>\n",
       "      <td>3.1</td>\n",
       "      <td>1.5</td>\n",
       "      <td>0.2</td>\n",
       "      <td>Iris-setosa</td>\n",
       "    </tr>\n",
       "    <tr>\n",
       "      <th>4</th>\n",
       "      <td>5.0</td>\n",
       "      <td>3.6</td>\n",
       "      <td>1.4</td>\n",
       "      <td>0.2</td>\n",
       "      <td>Iris-setosa</td>\n",
       "    </tr>\n",
       "    <tr>\n",
       "      <th>...</th>\n",
       "      <td>...</td>\n",
       "      <td>...</td>\n",
       "      <td>...</td>\n",
       "      <td>...</td>\n",
       "      <td>...</td>\n",
       "    </tr>\n",
       "    <tr>\n",
       "      <th>145</th>\n",
       "      <td>6.7</td>\n",
       "      <td>3.0</td>\n",
       "      <td>5.2</td>\n",
       "      <td>2.3</td>\n",
       "      <td>Iris-virginica</td>\n",
       "    </tr>\n",
       "    <tr>\n",
       "      <th>146</th>\n",
       "      <td>6.3</td>\n",
       "      <td>2.5</td>\n",
       "      <td>5.0</td>\n",
       "      <td>1.9</td>\n",
       "      <td>Iris-virginica</td>\n",
       "    </tr>\n",
       "    <tr>\n",
       "      <th>147</th>\n",
       "      <td>6.5</td>\n",
       "      <td>3.0</td>\n",
       "      <td>5.2</td>\n",
       "      <td>2.0</td>\n",
       "      <td>Iris-virginica</td>\n",
       "    </tr>\n",
       "    <tr>\n",
       "      <th>148</th>\n",
       "      <td>6.2</td>\n",
       "      <td>3.4</td>\n",
       "      <td>5.4</td>\n",
       "      <td>2.3</td>\n",
       "      <td>Iris-virginica</td>\n",
       "    </tr>\n",
       "    <tr>\n",
       "      <th>149</th>\n",
       "      <td>5.9</td>\n",
       "      <td>3.0</td>\n",
       "      <td>5.1</td>\n",
       "      <td>1.8</td>\n",
       "      <td>Iris-virginica</td>\n",
       "    </tr>\n",
       "  </tbody>\n",
       "</table>\n",
       "<p>150 rows × 5 columns</p>\n",
       "</div>"
      ],
      "text/plain": [
       "     sep-length  sep-width  pet-length  pet-width           class\n",
       "0           5.1        3.5         1.4        0.2     Iris-setosa\n",
       "1           4.9        3.0         1.4        0.2     Iris-setosa\n",
       "2           4.7        3.2         1.3        0.2     Iris-setosa\n",
       "3           4.6        3.1         1.5        0.2     Iris-setosa\n",
       "4           5.0        3.6         1.4        0.2     Iris-setosa\n",
       "..          ...        ...         ...        ...             ...\n",
       "145         6.7        3.0         5.2        2.3  Iris-virginica\n",
       "146         6.3        2.5         5.0        1.9  Iris-virginica\n",
       "147         6.5        3.0         5.2        2.0  Iris-virginica\n",
       "148         6.2        3.4         5.4        2.3  Iris-virginica\n",
       "149         5.9        3.0         5.1        1.8  Iris-virginica\n",
       "\n",
       "[150 rows x 5 columns]"
      ]
     },
     "execution_count": 29,
     "metadata": {},
     "output_type": "execute_result"
    }
   ],
   "source": [
    "iris_df = pd.read_sql(\"SELECT * FROM iris\", iris_conn)\n",
    "iris_df"
   ]
  },
  {
   "cell_type": "markdown",
   "metadata": {},
   "source": [
    "#### Warmup 3a: What are all the class types?"
   ]
  },
  {
   "cell_type": "code",
   "execution_count": 30,
   "metadata": {},
   "outputs": [
    {
     "data": {
      "text/plain": [
       "['Iris-versicolor', 'Iris-virginica', 'Iris-setosa']"
      ]
     },
     "execution_count": 30,
     "metadata": {},
     "output_type": "execute_result"
    }
   ],
   "source": [
    "# v1: pandas\n",
    "varietes = list(set(iris_df[\"class\"]))\n",
    "varietes"
   ]
  },
  {
   "cell_type": "code",
   "execution_count": 31,
   "metadata": {},
   "outputs": [
    {
     "data": {
      "text/plain": [
       "['Iris-setosa', 'Iris-versicolor', 'Iris-virginica']"
      ]
     },
     "execution_count": 31,
     "metadata": {},
     "output_type": "execute_result"
    }
   ],
   "source": [
    "# v2: SQL\n",
    "varietes = list(pd.read_sql(\"\"\"\n",
    "    SELECT DISTINCT class\n",
    "    FROM iris\n",
    "\"\"\", iris_conn)[\"class\"])\n",
    "varietes"
   ]
  },
  {
   "cell_type": "markdown",
   "metadata": {},
   "source": [
    "#### Warmup 3b: Scatter plot to visualize relationship between `pet-width` and `pet-length`"
   ]
  },
  {
   "cell_type": "code",
   "execution_count": 32,
   "metadata": {},
   "outputs": [
    {
     "data": {
      "image/png": "[encoded data removed]",
      "text/plain": [
       "<Figure size 432x288 with 1 Axes>"
      ]
     },
     "metadata": {
      "needs_background": "light"
     },
     "output_type": "display_data"
    }
   ],
   "source": [
    "# complete this code to make 3 plots in one\n",
    "\n",
    "colors = [\"blue\", \"green\", \"red\"]\n",
    "markers = [\"o\", \"^\", \"v\"]\n",
    "\n",
    "# getting unique class column values\n",
    "varietes = list(set(iris_df[\"class\"]))\n",
    "\n",
    "plot_area = None\n",
    "for i in range(len(varietes)):\n",
    "    variety = varietes[i]\n",
    "    curr_marker = markers[i]\n",
    "    curr_color = colors[i]\n",
    "    \n",
    "    # make a df just of just the data for this variety\n",
    "    variety_df = iris_df[iris_df[\"class\"] == variety] \n",
    "    \n",
    "    #make a scatter plot for this variety\n",
    "    plot_area = variety_df.plot.scatter(x = \"pet-width\", y = \"pet-length\", \\\n",
    "                                        label = variety, color = curr_color,\n",
    "                                        marker = curr_marker, \\\n",
    "                                        ax = plot_area)"
   ]
  },
  {
   "cell_type": "markdown",
   "metadata": {},
   "source": [
    "#### Let's focus on \"Iris-virginica\" data"
   ]
  },
  {
   "cell_type": "code",
   "execution_count": 35,
   "metadata": {},
   "outputs": [
    {
     "data": {
      "text/html": [
       "<div>\n",
       "<style scoped>\n",
       "    .dataframe tbody tr th:only-of-type {\n",
       "        vertical-align: middle;\n",
       "    }\n",
       "\n",
       "    .dataframe tbody tr th {\n",
       "        vertical-align: top;\n",
       "    }\n",
       "\n",
       "    .dataframe thead th {\n",
       "        text-align: right;\n",
       "    }\n",
       "</style>\n",
       "<table border=\"1\" class=\"dataframe\">\n",
       "  <thead>\n",
       "    <tr style=\"text-align: right;\">\n",
       "      <th></th>\n",
       "      <th>sep-length</th>\n",
       "      <th>sep-width</th>\n",
       "      <th>pet-length</th>\n",
       "      <th>pet-width</th>\n",
       "      <th>class</th>\n",
       "    </tr>\n",
       "  </thead>\n",
       "  <tbody>\n",
       "    <tr>\n",
       "      <th>100</th>\n",
       "      <td>6.3</td>\n",
       "      <td>3.3</td>\n",
       "      <td>6.0</td>\n",
       "      <td>2.5</td>\n",
       "      <td>Iris-virginica</td>\n",
       "    </tr>\n",
       "    <tr>\n",
       "      <th>101</th>\n",
       "      <td>5.8</td>\n",
       "      <td>2.7</td>\n",
       "      <td>5.1</td>\n",
       "      <td>1.9</td>\n",
       "      <td>Iris-virginica</td>\n",
       "    </tr>\n",
       "    <tr>\n",
       "      <th>102</th>\n",
       "      <td>7.1</td>\n",
       "      <td>3.0</td>\n",
       "      <td>5.9</td>\n",
       "      <td>2.1</td>\n",
       "      <td>Iris-virginica</td>\n",
       "    </tr>\n",
       "    <tr>\n",
       "      <th>103</th>\n",
       "      <td>6.3</td>\n",
       "      <td>2.9</td>\n",
       "      <td>5.6</td>\n",
       "      <td>1.8</td>\n",
       "      <td>Iris-virginica</td>\n",
       "    </tr>\n",
       "    <tr>\n",
       "      <th>104</th>\n",
       "      <td>6.5</td>\n",
       "      <td>3.0</td>\n",
       "      <td>5.8</td>\n",
       "      <td>2.2</td>\n",
       "      <td>Iris-virginica</td>\n",
       "    </tr>\n",
       "  </tbody>\n",
       "</table>\n",
       "</div>"
      ],
      "text/plain": [
       "     sep-length  sep-width  pet-length  pet-width           class\n",
       "100         6.3        3.3         6.0        2.5  Iris-virginica\n",
       "101         5.8        2.7         5.1        1.9  Iris-virginica\n",
       "102         7.1        3.0         5.9        2.1  Iris-virginica\n",
       "103         6.3        2.9         5.6        1.8  Iris-virginica\n",
       "104         6.5        3.0         5.8        2.2  Iris-virginica"
      ]
     },
     "execution_count": 35,
     "metadata": {},
     "output_type": "execute_result"
    }
   ],
   "source": [
    "iris_virginica = iris_df[iris_df[\"class\"] == \"Iris-virginica\"]\n",
    "assert(len(iris_virginica) == 50)\n",
    "iris_virginica.head()"
   ]
  },
  {
   "cell_type": "markdown",
   "metadata": {},
   "source": [
    "#### Create scatter plot to visualize relationship between `pet-width` and `pet-length`"
   ]
  },
  {
   "cell_type": "code",
   "execution_count": 36,
   "metadata": {},
   "outputs": [
    {
     "data": {
      "text/plain": [
       "<AxesSubplot:xlabel='pet-width', ylabel='pet-length'>"
      ]
     },
     "execution_count": 36,
     "metadata": {},
     "output_type": "execute_result"
    },
    {
     "data": {
      "image/png": "[encoded data removed]",
      "text/plain": [
       "<Figure size 432x288 with 1 Axes>"
      ]
     },
     "metadata": {
      "needs_background": "light"
     },
     "output_type": "display_data"
    }
   ],
   "source": [
    "iris_virginica.plot.scatter(x = \"pet-width\", y = \"pet-length\")"
   ]
  },
  {
   "cell_type": "markdown",
   "metadata": {},
   "source": [
    "### Let's learn about *xlim* and *ylim*\n",
    "- Allows us to set x-axis and y-axis limits\n",
    "- Takes either a single value (LOWER-BOUND) or a tuple containing two values (LOWER-BOUND, UPPER-BOUND)\n",
    "- You need to be careful about setting the UPPER-BOUND"
   ]
  },
  {
   "cell_type": "code",
   "execution_count": 37,
   "metadata": {},
   "outputs": [
    {
     "data": {
      "text/plain": [
       "<AxesSubplot:xlabel='pet-width', ylabel='pet-length'>"
      ]
     },
     "execution_count": 37,
     "metadata": {},
     "output_type": "execute_result"
    },
    {
     "data": {
      "image/png": "[encoded data removed]",
      "text/plain": [
       "<Figure size 432x288 with 1 Axes>"
      ]
     },
     "metadata": {
      "needs_background": "light"
     },
     "output_type": "display_data"
    }
   ],
   "source": [
    "iris_virginica.plot.scatter(x = \"pet-width\", y = \"pet-length\", xlim = 0, ylim = 0)"
   ]
  },
  {
   "cell_type": "code",
   "execution_count": 38,
   "metadata": {},
   "outputs": [
    {
     "data": {
      "image/png": "[encoded data removed]",
      "text/plain": [
       "<Figure size 216x216 with 1 Axes>"
      ]
     },
     "metadata": {
      "needs_background": "light"
     },
     "output_type": "display_data"
    }
   ],
   "source": [
    "ax = iris_virginica.plot.scatter(x = \"pet-width\", y = \"pet-length\",\n",
    "                    xlim = (0, 6), ylim = (0, 6),\n",
    "                    figsize = (3, 3))\n",
    "\n",
    "# What is wrong with this plot?"
   ]
  },
  {
   "cell_type": "markdown",
   "metadata": {},
   "source": [
    "What is the maximum `pet-length`?"
   ]
  },
  {
   "cell_type": "code",
   "execution_count": 39,
   "metadata": {},
   "outputs": [
    {
     "data": {
      "text/plain": [
       "6.9"
      ]
     },
     "execution_count": 39,
     "metadata": {},
     "output_type": "execute_result"
    }
   ],
   "source": [
    "iris_virginica[\"pet-length\"].max()"
   ]
  },
  {
   "cell_type": "markdown",
   "metadata": {},
   "source": [
    "For every set method, there is a corresponding get method. Try `ax.get_ylim()`."
   ]
  },
  {
   "cell_type": "code",
   "execution_count": 40,
   "metadata": {},
   "outputs": [
    {
     "data": {
      "text/plain": [
       "(0.0, 6.0)"
      ]
     },
     "execution_count": 40,
     "metadata": {},
     "output_type": "execute_result"
    }
   ],
   "source": [
    "ax.get_ylim()"
   ]
  },
  {
   "cell_type": "markdown",
   "metadata": {},
   "source": [
    "Let's include assert statements to make sure we don't crop the plot!"
   ]
  },
  {
   "cell_type": "code",
   "execution_count": 41,
   "metadata": {},
   "outputs": [
    {
     "name": "stdout",
     "output_type": "stream",
     "text": [
      "Ran into AssertionError while checking axes limits\n"
     ]
    },
    {
     "data": {
      "image/png": "[encoded data removed]",
      "text/plain": [
       "<Figure size 216x216 with 1 Axes>"
      ]
     },
     "metadata": {
      "needs_background": "light"
     },
     "output_type": "display_data"
    }
   ],
   "source": [
    "ax = iris_virginica.plot.scatter(x = \"pet-width\", y = \"pet-length\",\n",
    "                     xlim = (0, 6), ylim = (0, 6),\n",
    "                     figsize = (3, 3))\n",
    "try:\n",
    "    assert iris_virginica[\"pet-length\"].max() <= ax.get_ylim()[1]\n",
    "except AssertionError:\n",
    "    print(\"Ran into AssertionError while checking axes limits\")"
   ]
  },
  {
   "cell_type": "markdown",
   "metadata": {},
   "source": [
    "### Now let's try all 4 assert statements\n",
    "\n",
    "```\n",
    "assert iris_virginica[ax.get_xlabel()].min() >= ax.get_xlim()[0]\n",
    "assert iris_virginica[ax.get_xlabel()].max() <= ax.get_xlim()[1]\n",
    "assert iris_virginica[ax.get_ylabel()].min() >= ax.get_ylim()[0]\n",
    "assert iris_virginica[ax.get_ylabel()].max() <= ax.get_ylim()[1]\n",
    "```"
   ]
  },
  {
   "cell_type": "code",
   "execution_count": 42,
   "metadata": {},
   "outputs": [
    {
     "data": {
      "image/png": "[encoded data removed]",
      "text/plain": [
       "<Figure size 216x216 with 1 Axes>"
      ]
     },
     "metadata": {
      "needs_background": "light"
     },
     "output_type": "display_data"
    }
   ],
   "source": [
    "ax = iris_virginica.plot.scatter(x = \"pet-width\", y = \"pet-length\",\n",
    "                     xlim = (0, 7), ylim = (0, 7),\n",
    "                     figsize = (3, 3))\n",
    "assert iris_virginica[ax.get_xlabel()].min() >= ax.get_xlim()[0]\n",
    "assert iris_virginica[ax.get_xlabel()].max() <= ax.get_xlim()[1]\n",
    "assert iris_virginica[ax.get_ylabel()].min() >= ax.get_ylim()[0]\n",
    "assert iris_virginica[ax.get_ylabel()].max() <= ax.get_ylim()[1]"
   ]
  },
  {
   "cell_type": "code",
   "execution_count": 43,
   "metadata": {},
   "outputs": [],
   "source": [
    "# Close the database connection.\n",
    "iris_conn.close()"
   ]
  },
  {
   "cell_type": "markdown",
   "metadata": {},
   "source": [
    "# Plotting Applications\n",
    "\n",
    "**Learning Objectives**\n",
    "\n",
    "- Make a line plot on a series or on a DataFrame\n",
    "- Apply features of line plots and bar plots to visualize results of data investigations\n",
    "- Clean Series data by dropping NaN values and by converting to int\n",
    "- Make a stacked bar plot"
   ]
  },
  {
   "cell_type": "markdown",
   "metadata": {},
   "source": [
    "## Line plots\n",
    "- `SERIES.plot.line()`       each value in the Series becomes y-value and each index becomes x-value\n",
    "- `DATAFRAME.plot.line()`    each column in the data frame becomes a line in the plot\n",
    "- ***IMPORTANT***: lines in line plots shouldn't be crooked, you need to sort the values based on increasing order of indices!\n",
    "\n",
    "https://pandas.pydata.org/docs/reference/api/pandas.DataFrame.plot.line.html"
   ]
  },
  {
   "cell_type": "markdown",
   "metadata": {},
   "source": [
    "### Plotting line from a Series"
   ]
  },
  {
   "cell_type": "code",
   "execution_count": 17,
   "metadata": {},
   "outputs": [
    {
     "data": {
      "text/plain": [
       "<AxesSubplot:>"
      ]
     },
     "execution_count": 17,
     "metadata": {},
     "output_type": "execute_result"
    },
    {
     "data": {
      "image/png": "[encoded data removed]",
      "text/plain": [
       "<Figure size 432x288 with 1 Axes>"
      ]
     },
     "metadata": {
      "needs_background": "light"
     },
     "output_type": "display_data"
    }
   ],
   "source": [
    "# when you make a series from a list, the default indices 0, 1, 2, ...\n",
    "s = Series([0, 100, 300, 200, 400])\n",
    "s.plot.line()"
   ]
  },
  {
   "cell_type": "code",
   "execution_count": 18,
   "metadata": {},
   "outputs": [
    {
     "data": {
      "text/plain": [
       "<AxesSubplot:>"
      ]
     },
     "execution_count": 18,
     "metadata": {},
     "output_type": "execute_result"
    },
    {
     "data": {
      "image/png": "[encoded data removed]",
      "text/plain": [
       "<Figure size 432x288 with 1 Axes>"
      ]
     },
     "metadata": {
      "needs_background": "light"
     },
     "output_type": "display_data"
    }
   ],
   "source": [
    "s = Series([0, 100, 300, 200, 400], index = [0, 20, 21, 22, 1])\n",
    "s.plot.line() # oops this produces a crooked line plot!"
   ]
  },
  {
   "cell_type": "code",
   "execution_count": 19,
   "metadata": {},
   "outputs": [
    {
     "data": {
      "text/plain": [
       "<AxesSubplot:>"
      ]
     },
     "execution_count": 19,
     "metadata": {},
     "output_type": "execute_result"
    },
    {
     "data": {
      "image/png": "[encoded data removed]",
      "text/plain": [
       "<Figure size 432x288 with 1 Axes>"
      ]
     },
     "metadata": {
      "needs_background": "light"
     },
     "output_type": "display_data"
    }
   ],
   "source": [
    "# Let's fix it by sorting the Series values based on the indices\n",
    "s.sort_index().plot.line()"
   ]
  },
  {
   "cell_type": "markdown",
   "metadata": {},
   "source": [
    "### Craft breweries example"
   ]
  },
  {
   "cell_type": "code",
   "execution_count": 20,
   "metadata": {},
   "outputs": [
    {
     "data": {
      "text/plain": [
       "Text(0, 0.5, '# Craft Breweries')"
      ]
     },
     "execution_count": 20,
     "metadata": {},
     "output_type": "execute_result"
    },
    {
     "data": {
      "image/png": "[encoded data removed]",
      "text/plain": [
       "<Figure size 432x288 with 1 Axes>"
      ]
     },
     "metadata": {
      "needs_background": "light"
     },
     "output_type": "display_data"
    }
   ],
   "source": [
    "# You can make a series from a list and add indices\n",
    "s = Series([1758, 2002, 2408, 2898, 3814, 4803, 5713, 6661, 7618, 8391, 8764], \\\n",
    "           index=[2010, 2011, 2012, 2013, 2014, 2015, 2016, 2017, 2018, 2019, 2020])\n",
    "# We can save the AxesSubplot and \"beautify\" it like the other plots...\n",
    "ax = s.plot.line()\n",
    "ax.set_title(\"Craft Breweries in the USA\")\n",
    "ax.set_xlabel(\"Year\")\n",
    "ax.set_ylabel(\"# Craft Breweries\")"
   ]
  },
  {
   "cell_type": "code",
   "execution_count": 21,
   "metadata": {},
   "outputs": [
    {
     "data": {
      "text/plain": [
       "<AxesSubplot:>"
      ]
     },
     "execution_count": 21,
     "metadata": {},
     "output_type": "execute_result"
    },
    {
     "data": {
      "image/png": "[encoded data removed]",
      "text/plain": [
       "<Figure size 432x288 with 1 Axes>"
      ]
     },
     "metadata": {
      "needs_background": "light"
     },
     "output_type": "display_data"
    }
   ],
   "source": [
    "# Be careful! If the indices are out of order you get a mess\n",
    "# pandas plots each (index, value) in the order given\n",
    "s = Series([1758, 2408, 2898, 3814, 4803, 5713, 6661, 7618, 8391, 8764, 2002], \\\n",
    "           index=[2010, 2012, 2013, 2014, 2015, 2016, 2017, 2018, 2019, 2020, 2011])\n",
    "# TODO: fix this crooked line plot\n",
    "s.plot.line()"
   ]
  },
  {
   "cell_type": "code",
   "execution_count": 22,
   "metadata": {},
   "outputs": [
    {
     "data": {
      "text/plain": [
       "<AxesSubplot:>"
      ]
     },
     "execution_count": 22,
     "metadata": {},
     "output_type": "execute_result"
    },
    {
     "data": {
      "image/png": "[encoded data removed]",
      "text/plain": [
       "<Figure size 432x288 with 1 Axes>"
      ]
     },
     "metadata": {
      "needs_background": "light"
     },
     "output_type": "display_data"
    }
   ],
   "source": [
    "# Fix: call sort_index()\n",
    "s.sort_index().plot.line()"
   ]
  },
  {
   "cell_type": "markdown",
   "metadata": {},
   "source": [
    "### Temperature example\n",
    "Plotting lines from a DataFrame\n",
    "\n",
    "- `DATAFRAME.plot.line()`    each column in the data frame becomes a line in the plot\n",
    "- ***IMPORTANT***: lines in line plots shouldn't be crooked, you need to sort the values based on increasing order of indices!"
   ]
  },
  {
   "cell_type": "code",
   "execution_count": 23,
   "metadata": {},
   "outputs": [
    {
     "data": {
      "text/html": [
       "<div>\n",
       "<style scoped>\n",
       "    .dataframe tbody tr th:only-of-type {\n",
       "        vertical-align: middle;\n",
       "    }\n",
       "\n",
       "    .dataframe tbody tr th {\n",
       "        vertical-align: top;\n",
       "    }\n",
       "\n",
       "    .dataframe thead th {\n",
       "        text-align: right;\n",
       "    }\n",
       "</style>\n",
       "<table border=\"1\" class=\"dataframe\">\n",
       "  <thead>\n",
       "    <tr style=\"text-align: right;\">\n",
       "      <th></th>\n",
       "      <th>high</th>\n",
       "      <th>low</th>\n",
       "    </tr>\n",
       "  </thead>\n",
       "  <tbody>\n",
       "    <tr>\n",
       "      <th>0</th>\n",
       "      <td>26</td>\n",
       "      <td>11</td>\n",
       "    </tr>\n",
       "    <tr>\n",
       "      <th>1</th>\n",
       "      <td>31</td>\n",
       "      <td>15</td>\n",
       "    </tr>\n",
       "    <tr>\n",
       "      <th>2</th>\n",
       "      <td>43</td>\n",
       "      <td>25</td>\n",
       "    </tr>\n",
       "    <tr>\n",
       "      <th>3</th>\n",
       "      <td>57</td>\n",
       "      <td>36</td>\n",
       "    </tr>\n",
       "    <tr>\n",
       "      <th>4</th>\n",
       "      <td>68</td>\n",
       "      <td>46</td>\n",
       "    </tr>\n",
       "    <tr>\n",
       "      <th>5</th>\n",
       "      <td>78</td>\n",
       "      <td>56</td>\n",
       "    </tr>\n",
       "    <tr>\n",
       "      <th>6</th>\n",
       "      <td>82</td>\n",
       "      <td>61</td>\n",
       "    </tr>\n",
       "    <tr>\n",
       "      <th>7</th>\n",
       "      <td>79</td>\n",
       "      <td>59</td>\n",
       "    </tr>\n",
       "    <tr>\n",
       "      <th>8</th>\n",
       "      <td>72</td>\n",
       "      <td>50</td>\n",
       "    </tr>\n",
       "    <tr>\n",
       "      <th>9</th>\n",
       "      <td>59</td>\n",
       "      <td>39</td>\n",
       "    </tr>\n",
       "    <tr>\n",
       "      <th>10</th>\n",
       "      <td>44</td>\n",
       "      <td>28</td>\n",
       "    </tr>\n",
       "    <tr>\n",
       "      <th>11</th>\n",
       "      <td>30</td>\n",
       "      <td>16</td>\n",
       "    </tr>\n",
       "  </tbody>\n",
       "</table>\n",
       "</div>"
      ],
      "text/plain": [
       "    high  low\n",
       "0     26   11\n",
       "1     31   15\n",
       "2     43   25\n",
       "3     57   36\n",
       "4     68   46\n",
       "5     78   56\n",
       "6     82   61\n",
       "7     79   59\n",
       "8     72   50\n",
       "9     59   39\n",
       "10    44   28\n",
       "11    30   16"
      ]
     },
     "execution_count": 23,
     "metadata": {},
     "output_type": "execute_result"
    }
   ],
   "source": [
    "# This DataFrame is made using a dict of lists\n",
    "# City of Madison normal high and low (degrees F) by month\n",
    "temp_df = DataFrame( {\n",
    "    \"high\": [26, 31, 43, 57, 68, 78, 82, 79, 72, 59, 44, 30],\n",
    "    \"low\": [11, 15, 25, 36, 46, 56, 61, 59, 50, 39, 28, 16]}\n",
    ")\n",
    "\n",
    "# Q: do \"high\" and \"low\" become rows or columns within the DataFrame? \n",
    "# A: columns\n",
    "temp_df"
   ]
  },
  {
   "cell_type": "code",
   "execution_count": 24,
   "metadata": {},
   "outputs": [
    {
     "data": {
      "text/plain": [
       "<AxesSubplot:>"
      ]
     },
     "execution_count": 24,
     "metadata": {},
     "output_type": "execute_result"
    },
    {
     "data": {
      "image/png": "[encoded data removed]",
      "text/plain": [
       "<Figure size 432x288 with 1 Axes>"
      ]
     },
     "metadata": {
      "needs_background": "light"
     },
     "output_type": "display_data"
    }
   ],
   "source": [
    "# Let's create line plots\n",
    "temp_df.plot.line() # not a nice plot"
   ]
  },
  {
   "cell_type": "markdown",
   "metadata": {},
   "source": [
    "### A Line Plot made from a DataFrame automatically plots all columns\n",
    "\n",
    "The same is true for bar plots; we'll see this later."
   ]
  },
  {
   "cell_type": "code",
   "execution_count": 25,
   "metadata": {},
   "outputs": [
    {
     "data": {
      "image/png": "[encoded data removed]",
      "text/plain": [
       "<Figure size 576x288 with 1 Axes>"
      ]
     },
     "metadata": {
      "needs_background": "light"
     },
     "output_type": "display_data"
    }
   ],
   "source": [
    "# You can also add ticks and ticklabels to a line plot\n",
    "\n",
    "ax = temp_df.plot.line(figsize = (8, 4))\n",
    "ax.set_title(\"Average Temperatures in Madison, WI\")\n",
    "ax.set_xlabel(\"Month\")\n",
    "ax.set_ylabel(\"Temp (Fahrenheit)\")\n",
    "ax.set_xticks(range(12))   # makes a sequence of integers from 0 to 11\n",
    "ax.set_xticklabels([\"Jan\", \"Feb\", \"Mar\", \"Apr\", \"May\", \"Jun\",\n",
    "                   \"Jul\", \"Aug\", \"Sep\", \"Oct\", \"Nov\", \"Dec\"], rotation = 45)\n",
    "\n",
    "# This gets rid of the weird output\n",
    "None"
   ]
  },
  {
   "cell_type": "code",
   "execution_count": 26,
   "metadata": {},
   "outputs": [
    {
     "data": {
      "text/plain": [
       "Text(0, 0.5, 'Temp (Fahrenheit)')"
      ]
     },
     "execution_count": 26,
     "metadata": {},
     "output_type": "execute_result"
    },
    {
     "data": {
      "image/png": "[encoded data removed]",
      "text/plain": [
       "<Figure size 576x288 with 1 Axes>"
      ]
     },
     "metadata": {
      "needs_background": "light"
     },
     "output_type": "display_data"
    }
   ],
   "source": [
    "# We could explicitly pass arguments to the \"x\" and \"y\" parameters\n",
    "temp_df_with_month = DataFrame( \n",
    "    {\n",
    "    \"month\": [\"Jan\", \"Feb\", \"Mar\", \"Apr\", \"May\", \"Jun\",\n",
    "                   \"Jul\", \"Aug\", \"Sep\", \"Oct\", \"Nov\", \"Dec\"],\n",
    "    \"high\": [26, 31, 43, 57, 68, 78, 82, 79, 72, 59, 44, 30],\n",
    "    \"low\": [11, 15, 25, 36, 46, 56, 61, 59, 50, 39, 28, 16]}\n",
    ")\n",
    "\n",
    "ax = temp_df_with_month.plot.line(x = \"month\", y = [\"high\", \"low\"], figsize = (8, 4))\n",
    "ax.set_title(\"Average Temperatures in Madison, WI\")\n",
    "ax.set_xlabel(\"Month\")\n",
    "ax.set_ylabel(\"Temp (Fahrenheit)\")"
   ]
  },
  {
   "cell_type": "markdown",
   "metadata": {},
   "source": [
    "### We can perform a calculation on an entire DataFrame\n",
    "Let's change the entire DataFrame to Celcius"
   ]
  },
  {
   "cell_type": "code",
   "execution_count": 27,
   "metadata": {},
   "outputs": [
    {
     "data": {
      "text/html": [
       "<div>\n",
       "<style scoped>\n",
       "    .dataframe tbody tr th:only-of-type {\n",
       "        vertical-align: middle;\n",
       "    }\n",
       "\n",
       "    .dataframe tbody tr th {\n",
       "        vertical-align: top;\n",
       "    }\n",
       "\n",
       "    .dataframe thead th {\n",
       "        text-align: right;\n",
       "    }\n",
       "</style>\n",
       "<table border=\"1\" class=\"dataframe\">\n",
       "  <thead>\n",
       "    <tr style=\"text-align: right;\">\n",
       "      <th></th>\n",
       "      <th>high</th>\n",
       "      <th>low</th>\n",
       "    </tr>\n",
       "  </thead>\n",
       "  <tbody>\n",
       "    <tr>\n",
       "      <th>0</th>\n",
       "      <td>-3.333333</td>\n",
       "      <td>-11.666667</td>\n",
       "    </tr>\n",
       "    <tr>\n",
       "      <th>1</th>\n",
       "      <td>-0.555556</td>\n",
       "      <td>-9.444444</td>\n",
       "    </tr>\n",
       "    <tr>\n",
       "      <th>2</th>\n",
       "      <td>6.111111</td>\n",
       "      <td>-3.888889</td>\n",
       "    </tr>\n",
       "    <tr>\n",
       "      <th>3</th>\n",
       "      <td>13.888889</td>\n",
       "      <td>2.222222</td>\n",
       "    </tr>\n",
       "    <tr>\n",
       "      <th>4</th>\n",
       "      <td>20.000000</td>\n",
       "      <td>7.777778</td>\n",
       "    </tr>\n",
       "    <tr>\n",
       "      <th>5</th>\n",
       "      <td>25.555556</td>\n",
       "      <td>13.333333</td>\n",
       "    </tr>\n",
       "    <tr>\n",
       "      <th>6</th>\n",
       "      <td>27.777778</td>\n",
       "      <td>16.111111</td>\n",
       "    </tr>\n",
       "    <tr>\n",
       "      <th>7</th>\n",
       "      <td>26.111111</td>\n",
       "      <td>15.000000</td>\n",
       "    </tr>\n",
       "    <tr>\n",
       "      <th>8</th>\n",
       "      <td>22.222222</td>\n",
       "      <td>10.000000</td>\n",
       "    </tr>\n",
       "    <tr>\n",
       "      <th>9</th>\n",
       "      <td>15.000000</td>\n",
       "      <td>3.888889</td>\n",
       "    </tr>\n",
       "    <tr>\n",
       "      <th>10</th>\n",
       "      <td>6.666667</td>\n",
       "      <td>-2.222222</td>\n",
       "    </tr>\n",
       "    <tr>\n",
       "      <th>11</th>\n",
       "      <td>-1.111111</td>\n",
       "      <td>-8.888889</td>\n",
       "    </tr>\n",
       "  </tbody>\n",
       "</table>\n",
       "</div>"
      ],
      "text/plain": [
       "         high        low\n",
       "0   -3.333333 -11.666667\n",
       "1   -0.555556  -9.444444\n",
       "2    6.111111  -3.888889\n",
       "3   13.888889   2.222222\n",
       "4   20.000000   7.777778\n",
       "5   25.555556  13.333333\n",
       "6   27.777778  16.111111\n",
       "7   26.111111  15.000000\n",
       "8   22.222222  10.000000\n",
       "9   15.000000   3.888889\n",
       "10   6.666667  -2.222222\n",
       "11  -1.111111  -8.888889"
      ]
     },
     "execution_count": 27,
     "metadata": {},
     "output_type": "execute_result"
    }
   ],
   "source": [
    "# call the function on the dataframe\n",
    "celcius_df = f_to_c(temp_df)\n",
    "celcius_df"
   ]
  },
  {
   "cell_type": "code",
   "execution_count": 28,
   "metadata": {},
   "outputs": [
    {
     "data": {
      "text/html": [
       "<div>\n",
       "<style scoped>\n",
       "    .dataframe tbody tr th:only-of-type {\n",
       "        vertical-align: middle;\n",
       "    }\n",
       "\n",
       "    .dataframe tbody tr th {\n",
       "        vertical-align: top;\n",
       "    }\n",
       "\n",
       "    .dataframe thead th {\n",
       "        text-align: right;\n",
       "    }\n",
       "</style>\n",
       "<table border=\"1\" class=\"dataframe\">\n",
       "  <thead>\n",
       "    <tr style=\"text-align: right;\">\n",
       "      <th></th>\n",
       "      <th>high</th>\n",
       "      <th>low</th>\n",
       "      <th>freezing</th>\n",
       "    </tr>\n",
       "  </thead>\n",
       "  <tbody>\n",
       "    <tr>\n",
       "      <th>0</th>\n",
       "      <td>-3.333333</td>\n",
       "      <td>-11.666667</td>\n",
       "      <td>0</td>\n",
       "    </tr>\n",
       "    <tr>\n",
       "      <th>1</th>\n",
       "      <td>-0.555556</td>\n",
       "      <td>-9.444444</td>\n",
       "      <td>0</td>\n",
       "    </tr>\n",
       "    <tr>\n",
       "      <th>2</th>\n",
       "      <td>6.111111</td>\n",
       "      <td>-3.888889</td>\n",
       "      <td>0</td>\n",
       "    </tr>\n",
       "    <tr>\n",
       "      <th>3</th>\n",
       "      <td>13.888889</td>\n",
       "      <td>2.222222</td>\n",
       "      <td>0</td>\n",
       "    </tr>\n",
       "    <tr>\n",
       "      <th>4</th>\n",
       "      <td>20.000000</td>\n",
       "      <td>7.777778</td>\n",
       "      <td>0</td>\n",
       "    </tr>\n",
       "    <tr>\n",
       "      <th>5</th>\n",
       "      <td>25.555556</td>\n",
       "      <td>13.333333</td>\n",
       "      <td>0</td>\n",
       "    </tr>\n",
       "    <tr>\n",
       "      <th>6</th>\n",
       "      <td>27.777778</td>\n",
       "      <td>16.111111</td>\n",
       "      <td>0</td>\n",
       "    </tr>\n",
       "    <tr>\n",
       "      <th>7</th>\n",
       "      <td>26.111111</td>\n",
       "      <td>15.000000</td>\n",
       "      <td>0</td>\n",
       "    </tr>\n",
       "    <tr>\n",
       "      <th>8</th>\n",
       "      <td>22.222222</td>\n",
       "      <td>10.000000</td>\n",
       "      <td>0</td>\n",
       "    </tr>\n",
       "    <tr>\n",
       "      <th>9</th>\n",
       "      <td>15.000000</td>\n",
       "      <td>3.888889</td>\n",
       "      <td>0</td>\n",
       "    </tr>\n",
       "    <tr>\n",
       "      <th>10</th>\n",
       "      <td>6.666667</td>\n",
       "      <td>-2.222222</td>\n",
       "      <td>0</td>\n",
       "    </tr>\n",
       "    <tr>\n",
       "      <th>11</th>\n",
       "      <td>-1.111111</td>\n",
       "      <td>-8.888889</td>\n",
       "      <td>0</td>\n",
       "    </tr>\n",
       "  </tbody>\n",
       "</table>\n",
       "</div>"
      ],
      "text/plain": [
       "         high        low  freezing\n",
       "0   -3.333333 -11.666667         0\n",
       "1   -0.555556  -9.444444         0\n",
       "2    6.111111  -3.888889         0\n",
       "3   13.888889   2.222222         0\n",
       "4   20.000000   7.777778         0\n",
       "5   25.555556  13.333333         0\n",
       "6   27.777778  16.111111         0\n",
       "7   26.111111  15.000000         0\n",
       "8   22.222222  10.000000         0\n",
       "9   15.000000   3.888889         0\n",
       "10   6.666667  -2.222222         0\n",
       "11  -1.111111  -8.888889         0"
      ]
     },
     "execution_count": 28,
     "metadata": {},
     "output_type": "execute_result"
    }
   ],
   "source": [
    "# here is one way to add a horizontal line to our line plots\n",
    "celcius_df[\"freezing\"] = 0\n",
    "celcius_df"
   ]
  },
  {
   "cell_type": "code",
   "execution_count": 29,
   "metadata": {},
   "outputs": [
    {
     "data": {
      "image/png": "[encoded data removed]",
      "text/plain": [
       "<Figure size 576x288 with 1 Axes>"
      ]
     },
     "metadata": {
      "needs_background": "light"
     },
     "output_type": "display_data"
    }
   ],
   "source": [
    "# this plots each column as lines\n",
    "# with rotation for the tick labels\n",
    "ax = celcius_df.plot.line(figsize = (8, 4))\n",
    "ax.set_xlabel(\"Month\")\n",
    "ax.set_ylabel(\"Temp (Celcius)\")\n",
    "ax.set_xticks(range(12))\n",
    "ax.set_xticklabels([\"Jan\", \"Feb\", \"Mar\", \"Apr\", \"May\", \"Jun\",\n",
    "                    \"Jul\", \"Aug\", \"Sep\", \"Oct\", \"Nov\", \"Dec\"], rotation = 45)\n",
    "ax.grid()\n",
    "None"
   ]
  },
  {
   "cell_type": "markdown",
   "metadata": {},
   "source": [
    "## Bar plots using DataFrames"
   ]
  },
  {
   "cell_type": "markdown",
   "metadata": {},
   "source": [
    "Bar Plot Example w/ Fire Hydrants\n",
    "\n",
    "- General review of pandas\n",
    "- Some new bar plot options"
   ]
  },
  {
   "cell_type": "code",
   "execution_count": 30,
   "metadata": {},
   "outputs": [
    {
     "data": {
      "text/html": [
       "<div>\n",
       "<style scoped>\n",
       "    .dataframe tbody tr th:only-of-type {\n",
       "        vertical-align: middle;\n",
       "    }\n",
       "\n",
       "    .dataframe tbody tr th {\n",
       "        vertical-align: top;\n",
       "    }\n",
       "\n",
       "    .dataframe thead th {\n",
       "        text-align: right;\n",
       "    }\n",
       "</style>\n",
       "<table border=\"1\" class=\"dataframe\">\n",
       "  <thead>\n",
       "    <tr style=\"text-align: right;\">\n",
       "      <th></th>\n",
       "      <th>X</th>\n",
       "      <th>Y</th>\n",
       "      <th>OBJECTID</th>\n",
       "      <th>CreatedBy</th>\n",
       "      <th>CreatedDate</th>\n",
       "      <th>LastEditor</th>\n",
       "      <th>LastUpdate</th>\n",
       "      <th>FacilityID</th>\n",
       "      <th>DataSource</th>\n",
       "      <th>ProjectNumber</th>\n",
       "      <th>...</th>\n",
       "      <th>Elevation</th>\n",
       "      <th>Manufacturer</th>\n",
       "      <th>Style</th>\n",
       "      <th>year_manufactured</th>\n",
       "      <th>BarrelDiameter</th>\n",
       "      <th>SeatDiameter</th>\n",
       "      <th>Comments</th>\n",
       "      <th>nozzle_color</th>\n",
       "      <th>MaintainedBy</th>\n",
       "      <th>InstallType</th>\n",
       "    </tr>\n",
       "  </thead>\n",
       "  <tbody>\n",
       "    <tr>\n",
       "      <th>10104</th>\n",
       "      <td>-89.439367</td>\n",
       "      <td>43.040481</td>\n",
       "      <td>286329</td>\n",
       "      <td>WUJAG</td>\n",
       "      <td>2018-08-13T18:03:33.000Z</td>\n",
       "      <td>WUJAG</td>\n",
       "      <td>2018-08-13T18:04:02.000Z</td>\n",
       "      <td>HYDR-3964-4053</td>\n",
       "      <td>TC</td>\n",
       "      <td>1-1830-19</td>\n",
       "      <td>...</td>\n",
       "      <td>NaN</td>\n",
       "      <td>WATEROUS</td>\n",
       "      <td>NaN</td>\n",
       "      <td>2018.0</td>\n",
       "      <td>5.0</td>\n",
       "      <td>NaN</td>\n",
       "      <td>NaN</td>\n",
       "      <td>NaN</td>\n",
       "      <td>MADISON WATER UTILITY</td>\n",
       "      <td>NaN</td>\n",
       "    </tr>\n",
       "    <tr>\n",
       "      <th>10105</th>\n",
       "      <td>-89.426303</td>\n",
       "      <td>43.067854</td>\n",
       "      <td>286330</td>\n",
       "      <td>WUJAG</td>\n",
       "      <td>2018-08-13T18:14:14.000Z</td>\n",
       "      <td>WUJAG</td>\n",
       "      <td>2018-08-13T18:17:45.000Z</td>\n",
       "      <td>HYDR-4253-4054</td>\n",
       "      <td>TC</td>\n",
       "      <td>1-1830-19</td>\n",
       "      <td>...</td>\n",
       "      <td>NaN</td>\n",
       "      <td>WATEROUS</td>\n",
       "      <td>NaN</td>\n",
       "      <td>2017.0</td>\n",
       "      <td>5.0</td>\n",
       "      <td>NaN</td>\n",
       "      <td>NaN</td>\n",
       "      <td>NaN</td>\n",
       "      <td>MADISON WATER UTILITY</td>\n",
       "      <td>NaN</td>\n",
       "    </tr>\n",
       "    <tr>\n",
       "      <th>10106</th>\n",
       "      <td>-89.445461</td>\n",
       "      <td>43.053305</td>\n",
       "      <td>286729</td>\n",
       "      <td>WUJAG</td>\n",
       "      <td>2018-08-15T16:37:18.000Z</td>\n",
       "      <td>WUJAG</td>\n",
       "      <td>2018-08-15T16:39:24.000Z</td>\n",
       "      <td>HYDR-3859-4055</td>\n",
       "      <td>TC</td>\n",
       "      <td>1-1830-19</td>\n",
       "      <td>...</td>\n",
       "      <td>NaN</td>\n",
       "      <td>WATEROUS</td>\n",
       "      <td>NaN</td>\n",
       "      <td>2000.0</td>\n",
       "      <td>5.0</td>\n",
       "      <td>NaN</td>\n",
       "      <td>NaN</td>\n",
       "      <td>NaN</td>\n",
       "      <td>MADISON WATER UTILITY</td>\n",
       "      <td>NaN</td>\n",
       "    </tr>\n",
       "    <tr>\n",
       "      <th>10107</th>\n",
       "      <td>-89.388849</td>\n",
       "      <td>43.068576</td>\n",
       "      <td>286730</td>\n",
       "      <td>WUJAG</td>\n",
       "      <td>2018-08-15T16:51:54.000Z</td>\n",
       "      <td>WUJAG</td>\n",
       "      <td>2018-08-15T16:59:15.000Z</td>\n",
       "      <td>HYDR-5052-4056</td>\n",
       "      <td>TC</td>\n",
       "      <td>1-1830-19</td>\n",
       "      <td>...</td>\n",
       "      <td>NaN</td>\n",
       "      <td>WATEROUS</td>\n",
       "      <td>NaN</td>\n",
       "      <td>2017.0</td>\n",
       "      <td>5.0</td>\n",
       "      <td>NaN</td>\n",
       "      <td>NaN</td>\n",
       "      <td>NaN</td>\n",
       "      <td>MADISON WATER UTILITY</td>\n",
       "      <td>NaN</td>\n",
       "    </tr>\n",
       "    <tr>\n",
       "      <th>10108</th>\n",
       "      <td>-89.518896</td>\n",
       "      <td>43.062062</td>\n",
       "      <td>287129</td>\n",
       "      <td>WUJAG</td>\n",
       "      <td>2018-08-20T18:54:01.000Z</td>\n",
       "      <td>WUJAG</td>\n",
       "      <td>2018-08-20T19:27:16.000Z</td>\n",
       "      <td>-2355-4057</td>\n",
       "      <td>FASB</td>\n",
       "      <td>NaN</td>\n",
       "      <td>...</td>\n",
       "      <td>NaN</td>\n",
       "      <td>NaN</td>\n",
       "      <td>NaN</td>\n",
       "      <td>NaN</td>\n",
       "      <td>NaN</td>\n",
       "      <td>NaN</td>\n",
       "      <td>NaN</td>\n",
       "      <td>NaN</td>\n",
       "      <td>PRIVATE</td>\n",
       "      <td>NaN</td>\n",
       "    </tr>\n",
       "  </tbody>\n",
       "</table>\n",
       "<p>5 rows × 25 columns</p>\n",
       "</div>"
      ],
      "text/plain": [
       "               X          Y  OBJECTID CreatedBy               CreatedDate  \\\n",
       "10104 -89.439367  43.040481    286329     WUJAG  2018-08-13T18:03:33.000Z   \n",
       "10105 -89.426303  43.067854    286330     WUJAG  2018-08-13T18:14:14.000Z   \n",
       "10106 -89.445461  43.053305    286729     WUJAG  2018-08-15T16:37:18.000Z   \n",
       "10107 -89.388849  43.068576    286730     WUJAG  2018-08-15T16:51:54.000Z   \n",
       "10108 -89.518896  43.062062    287129     WUJAG  2018-08-20T18:54:01.000Z   \n",
       "\n",
       "      LastEditor                LastUpdate      FacilityID DataSource  \\\n",
       "10104      WUJAG  2018-08-13T18:04:02.000Z  HYDR-3964-4053         TC   \n",
       "10105      WUJAG  2018-08-13T18:17:45.000Z  HYDR-4253-4054         TC   \n",
       "10106      WUJAG  2018-08-15T16:39:24.000Z  HYDR-3859-4055         TC   \n",
       "10107      WUJAG  2018-08-15T16:59:15.000Z  HYDR-5052-4056         TC   \n",
       "10108      WUJAG  2018-08-20T19:27:16.000Z      -2355-4057       FASB   \n",
       "\n",
       "      ProjectNumber  ... Elevation Manufacturer Style  year_manufactured  \\\n",
       "10104     1-1830-19  ...       NaN     WATEROUS   NaN             2018.0   \n",
       "10105     1-1830-19  ...       NaN     WATEROUS   NaN             2017.0   \n",
       "10106     1-1830-19  ...       NaN     WATEROUS   NaN             2000.0   \n",
       "10107     1-1830-19  ...       NaN     WATEROUS   NaN             2017.0   \n",
       "10108           NaN  ...       NaN          NaN   NaN                NaN   \n",
       "\n",
       "      BarrelDiameter  SeatDiameter Comments nozzle_color  \\\n",
       "10104            5.0           NaN      NaN          NaN   \n",
       "10105            5.0           NaN      NaN          NaN   \n",
       "10106            5.0           NaN      NaN          NaN   \n",
       "10107            5.0           NaN      NaN          NaN   \n",
       "10108            NaN           NaN      NaN          NaN   \n",
       "\n",
       "                MaintainedBy  InstallType  \n",
       "10104  MADISON WATER UTILITY          NaN  \n",
       "10105  MADISON WATER UTILITY          NaN  \n",
       "10106  MADISON WATER UTILITY          NaN  \n",
       "10107  MADISON WATER UTILITY          NaN  \n",
       "10108                PRIVATE          NaN  \n",
       "\n",
       "[5 rows x 25 columns]"
      ]
     },
     "execution_count": 30,
     "metadata": {},
     "output_type": "execute_result"
    }
   ],
   "source": [
    "# TODO: read \"Fire_Hydrants.csv\" into a DataFrame\n",
    "hdf = pd.read_csv(\"Fire_Hydrants.csv\")\n",
    "hdf.tail()"
   ]
  },
  {
   "cell_type": "code",
   "execution_count": 31,
   "metadata": {},
   "outputs": [
    {
     "data": {
      "text/plain": [
       "Index(['X', 'Y', 'OBJECTID', 'CreatedBy', 'CreatedDate', 'LastEditor',\n",
       "       'LastUpdate', 'FacilityID', 'DataSource', 'ProjectNumber',\n",
       "       'InstallDate', 'LifecycleStatus', 'Location', 'SymbolRotation',\n",
       "       'HydrantType', 'Elevation', 'Manufacturer', 'Style',\n",
       "       'year_manufactured', 'BarrelDiameter', 'SeatDiameter', 'Comments',\n",
       "       'nozzle_color', 'MaintainedBy', 'InstallType'],\n",
       "      dtype='object')"
      ]
     },
     "execution_count": 31,
     "metadata": {},
     "output_type": "execute_result"
    }
   ],
   "source": [
    "# Extract just the column names\n",
    "hdf.columns"
   ]
  },
  {
   "cell_type": "markdown",
   "metadata": {},
   "source": [
    "### Let's create a *bar plot* to visualize *colors* of fire hydrants."
   ]
  },
  {
   "cell_type": "code",
   "execution_count": 32,
   "metadata": {},
   "outputs": [
    {
     "data": {
      "text/plain": [
       "blue      5810\n",
       "Blue      1148\n",
       "Green      320\n",
       "Orange      74\n",
       "BLUE        45\n",
       "green        9\n",
       "Red          9\n",
       "orange       4\n",
       "GREEN        1\n",
       "white        1\n",
       "C            1\n",
       "ORANGE       1\n",
       "Name: nozzle_color, dtype: int64"
      ]
     },
     "execution_count": 32,
     "metadata": {},
     "output_type": "execute_result"
    }
   ],
   "source": [
    "# Make a series called counts_series which stores the value counts of the \"nozzle_color\"\n",
    "color_counts = hdf[\"nozzle_color\"].value_counts()\n",
    "color_counts # what is wrong with this data?"
   ]
  },
  {
   "cell_type": "code",
   "execution_count": 33,
   "metadata": {},
   "outputs": [
    {
     "data": {
      "text/plain": [
       "BLUE      7003\n",
       "GREEN      330\n",
       "ORANGE      79\n",
       "RED          9\n",
       "WHITE        1\n",
       "C            1\n",
       "Name: nozzle_color, dtype: int64"
      ]
     },
     "execution_count": 33,
     "metadata": {},
     "output_type": "execute_result"
    }
   ],
   "source": [
    "# TODO: Clean the data ......use str.upper()\n",
    "\n",
    "color_counts = hdf[\"nozzle_color\"].str.upper().value_counts()\n",
    "color_counts"
   ]
  },
  {
   "cell_type": "code",
   "execution_count": 34,
   "metadata": {},
   "outputs": [
    {
     "data": {
      "text/plain": [
       "Text(0.5, 0, 'Fire hydrant count')"
      ]
     },
     "execution_count": 34,
     "metadata": {},
     "output_type": "execute_result"
    },
    {
     "data": {
      "image/png": "[encoded data removed]",
      "text/plain": [
       "<Figure size 432x288 with 1 Axes>"
      ]
     },
     "metadata": {
      "needs_background": "light"
     },
     "output_type": "display_data"
    }
   ],
   "source": [
    "# Make a horizontal bar plot of counts of colors and have the colors match\n",
    "# use color list: [\"b\", \"g\", \"darkorange\", \"r\", \"c\", \"0.5\"]\n",
    "ax = color_counts.plot.barh(color = [\"b\", \"g\", \"darkorange\", \"r\", \"c\", \"0.5\"])\n",
    "ax.set_xlabel(\"Fire hydrant count\")"
   ]
  },
  {
   "cell_type": "markdown",
   "metadata": {},
   "source": [
    "### Let's create a *bar plot* to visualize *style* of fire hydrants."
   ]
  },
  {
   "cell_type": "code",
   "execution_count": 35,
   "metadata": {},
   "outputs": [
    {
     "data": {
      "text/plain": [
       "PACER                      3620\n",
       "M-3                        1251\n",
       "MUELLER                    1243\n",
       "WB-59                       664\n",
       "K-11                        351\n",
       "K-81                        162\n",
       "W-59                        151\n",
       "CLOW 2500                   123\n",
       "CLOW MEDALLION               70\n",
       "CLOW                         50\n",
       "CENTURIAN                    35\n",
       "EDDY                         27\n",
       "MUELLER 90                   13\n",
       "MUELLER 86                   13\n",
       "MUELLER SUPER CENTURIAN      12\n",
       "MUELLER 92                   12\n",
       "MUELLER 93                   11\n",
       "MUELLER 91                    9\n",
       "MUELLER 89                    9\n",
       "MUELLER CENTURIAN             9\n",
       "MUELLER 85                    8\n",
       "MUELLER 87                    7\n",
       "MUELLER 84                    6\n",
       "M-2                           6\n",
       "SUPER CENTURIAN               6\n",
       "M-1                           5\n",
       "MUELLER 83                    4\n",
       "MEDALLION                     4\n",
       "PACER 1996                    3\n",
       "SUPER CENTURION               3\n",
       "K-10                          3\n",
       "PACER 90                      3\n",
       "MUELLER 80                    2\n",
       "MUELLER 79                    2\n",
       "MUELLER CENTENIAL             2\n",
       "MUELLER 82                    2\n",
       "PACERR                        1\n",
       "2013                          1\n",
       "CENTERIAN                     1\n",
       "WATEROUS                      1\n",
       "MUELLER 88                    1\n",
       "WB-67                         1\n",
       "KENNEDY                       1\n",
       "MUELLER CENTURION             1\n",
       "MUELLER 94                    1\n",
       "MUELLER 2004                  1\n",
       "MUELLER 2006                  1\n",
       "MUELLER 81                    1\n",
       "GOLDEN                        1\n",
       "Name: Style, dtype: int64"
      ]
     },
     "execution_count": 35,
     "metadata": {},
     "output_type": "execute_result"
    }
   ],
   "source": [
    "# Do the same thing as we did for the colors but this time for the \"Style\"\n",
    "style_counts = hdf[\"Style\"].str.upper().value_counts()\n",
    "style_counts"
   ]
  },
  {
   "cell_type": "code",
   "execution_count": 36,
   "metadata": {},
   "outputs": [
    {
     "data": {
      "text/plain": [
       "<AxesSubplot:>"
      ]
     },
     "execution_count": 36,
     "metadata": {},
     "output_type": "execute_result"
    },
    {
     "data": {
      "image/png": "[encoded data removed]",
      "text/plain": [
       "<Figure size 432x288 with 1 Axes>"
      ]
     },
     "metadata": {
      "needs_background": "light"
     },
     "output_type": "display_data"
    }
   ],
   "source": [
    "style_counts.plot.bar()"
   ]
  },
  {
   "cell_type": "code",
   "execution_count": 37,
   "metadata": {},
   "outputs": [],
   "source": [
    "# Grab the top 12 \n",
    "top12 = style_counts.iloc[:12]\n",
    "\n",
    "# and them add an index to our Series for the sum of all the \"other\" for \n",
    "top12[\"other\"] = style_counts.iloc[12:].sum()"
   ]
  },
  {
   "cell_type": "code",
   "execution_count": 38,
   "metadata": {},
   "outputs": [
    {
     "data": {
      "text/plain": [
       "Text(0.5, 0, 'Hydrant Type')"
      ]
     },
     "execution_count": 38,
     "metadata": {},
     "output_type": "execute_result"
    },
    {
     "data": {
      "image/png": "[encoded data removed]",
      "text/plain": [
       "<Figure size 432x288 with 1 Axes>"
      ]
     },
     "metadata": {
      "needs_background": "light"
     },
     "output_type": "display_data"
    }
   ],
   "source": [
    "# Plot the results\n",
    "ax = top12.plot.bar(color = \"firebrick\")\n",
    "ax.set_ylabel(\"Hydrant Count\")\n",
    "ax.set_xlabel(\"Hydrant Type\")"
   ]
  },
  {
   "cell_type": "markdown",
   "metadata": {},
   "source": [
    "### In what *decade* were *pacers manufactured*?\n",
    "### Take a peek at the *Style* column data"
   ]
  },
  {
   "cell_type": "code",
   "execution_count": 39,
   "metadata": {},
   "outputs": [
    {
     "data": {
      "text/plain": [
       "0        Pacer\n",
       "1        Pacer\n",
       "2        Pacer\n",
       "3        Pacer\n",
       "4        Pacer\n",
       "         ...  \n",
       "10104      NaN\n",
       "10105      NaN\n",
       "10106      NaN\n",
       "10107      NaN\n",
       "10108      NaN\n",
       "Name: Style, Length: 10109, dtype: object"
      ]
     },
     "execution_count": 39,
     "metadata": {},
     "output_type": "execute_result"
    }
   ],
   "source": [
    "hdf[\"Style\"]"
   ]
  },
  {
   "cell_type": "markdown",
   "metadata": {},
   "source": [
    "### Which *column* gives *year* information?"
   ]
  },
  {
   "cell_type": "code",
   "execution_count": 40,
   "metadata": {},
   "outputs": [
    {
     "data": {
      "text/plain": [
       "Index(['X', 'Y', 'OBJECTID', 'CreatedBy', 'CreatedDate', 'LastEditor',\n",
       "       'LastUpdate', 'FacilityID', 'DataSource', 'ProjectNumber',\n",
       "       'InstallDate', 'LifecycleStatus', 'Location', 'SymbolRotation',\n",
       "       'HydrantType', 'Elevation', 'Manufacturer', 'Style',\n",
       "       'year_manufactured', 'BarrelDiameter', 'SeatDiameter', 'Comments',\n",
       "       'nozzle_color', 'MaintainedBy', 'InstallType'],\n",
       "      dtype='object')"
      ]
     },
     "execution_count": 40,
     "metadata": {},
     "output_type": "execute_result"
    }
   ],
   "source": [
    "hdf.columns"
   ]
  },
  {
   "cell_type": "markdown",
   "metadata": {},
   "source": [
    "### How to get the *year_manufactured* for *pacers* and *others*?"
   ]
  },
  {
   "cell_type": "code",
   "execution_count": 41,
   "metadata": {},
   "outputs": [
    {
     "data": {
      "text/plain": [
       "0        1996.0\n",
       "1        1995.0\n",
       "2        1996.0\n",
       "3        1995.0\n",
       "4        1996.0\n",
       "          ...  \n",
       "10050    2017.0\n",
       "10051    2017.0\n",
       "10052    2017.0\n",
       "10053    2017.0\n",
       "10054       NaN\n",
       "Name: year_manufactured, Length: 3458, dtype: float64"
      ]
     },
     "execution_count": 41,
     "metadata": {},
     "output_type": "execute_result"
    }
   ],
   "source": [
    "# Let's get the year manufactured for all of the \"Pacer\" hydrants.\n",
    "pacer_years = hdf[hdf[\"Style\"] == \"Pacer\"][\"year_manufactured\"]\n",
    "\n",
    "# Note: We can do this either way\n",
    "# pacer_years = hdf[\"year_manufactured\"][hdf[\"Style\"] == \"Pacer\"]\n",
    "\n",
    "pacer_years"
   ]
  },
  {
   "cell_type": "code",
   "execution_count": 42,
   "metadata": {},
   "outputs": [
    {
     "data": {
      "text/plain": [
       "18       1987.0\n",
       "22       1996.0\n",
       "23       1996.0\n",
       "71       1987.0\n",
       "72       1987.0\n",
       "          ...  \n",
       "10104    2018.0\n",
       "10105    2017.0\n",
       "10106    2000.0\n",
       "10107    2017.0\n",
       "10108       NaN\n",
       "Name: year_manufactured, Length: 6651, dtype: float64"
      ]
     },
     "execution_count": 42,
     "metadata": {},
     "output_type": "execute_result"
    }
   ],
   "source": [
    "# then do the same for all the other data\n",
    "other_years = hdf[\"year_manufactured\"][hdf[\"Style\"] != \"Pacer\"]\n",
    "other_years"
   ]
  },
  {
   "cell_type": "markdown",
   "metadata": {},
   "source": [
    "### How to get the *decade* for *pacers*?"
   ]
  },
  {
   "cell_type": "code",
   "execution_count": 43,
   "metadata": {},
   "outputs": [
    {
     "data": {
      "text/plain": [
       "0        1990.0\n",
       "1        1990.0\n",
       "2        1990.0\n",
       "3        1990.0\n",
       "4        1990.0\n",
       "          ...  \n",
       "10050    2010.0\n",
       "10051    2010.0\n",
       "10052    2010.0\n",
       "10053    2010.0\n",
       "10054       NaN\n",
       "Name: year_manufactured, Length: 3458, dtype: float64"
      ]
     },
     "execution_count": 43,
     "metadata": {},
     "output_type": "execute_result"
    }
   ],
   "source": [
    "# Round each year down to the start of the decade.\n",
    "# e.g. 1987 --> 1980, 2003 --> 2000\n",
    "pacer_decades = (pacer_years // 10 * 10)\n",
    "pacer_decades"
   ]
  },
  {
   "cell_type": "markdown",
   "metadata": {},
   "source": [
    "### How to convert the *decades* back to *int*?\n",
    "- `astype(...)` method\n",
    "- `dropna(...)` method"
   ]
  },
  {
   "cell_type": "code",
   "execution_count": 44,
   "metadata": {},
   "outputs": [
    {
     "data": {
      "text/plain": [
       "0        1990\n",
       "1        1990\n",
       "2        1990\n",
       "3        1990\n",
       "4        1990\n",
       "         ... \n",
       "10046    2010\n",
       "10050    2010\n",
       "10051    2010\n",
       "10052    2010\n",
       "10053    2010\n",
       "Name: year_manufactured, Length: 3101, dtype: int64"
      ]
     },
     "execution_count": 44,
     "metadata": {},
     "output_type": "execute_result"
    }
   ],
   "source": [
    "# Drop the NaN values, convert to int, and do value counts\n",
    "pacer_decades = pacer_decades.dropna()\n",
    "pacer_decades = pacer_decades.astype(int)\n",
    "pacer_decades"
   ]
  },
  {
   "cell_type": "markdown",
   "metadata": {},
   "source": [
    "### How to *count the decades* for pacers?"
   ]
  },
  {
   "cell_type": "code",
   "execution_count": 45,
   "metadata": {},
   "outputs": [
    {
     "data": {
      "text/plain": [
       "2000    1730\n",
       "1990     846\n",
       "2010     503\n",
       "1980      21\n",
       "1960       1\n",
       "Name: year_manufactured, dtype: int64"
      ]
     },
     "execution_count": 45,
     "metadata": {},
     "output_type": "execute_result"
    }
   ],
   "source": [
    "pacer_decades_count = pacer_decades.value_counts()\n",
    "pacer_decades_count"
   ]
  },
  {
   "cell_type": "markdown",
   "metadata": {},
   "source": [
    "### Count the *decades* for others."
   ]
  },
  {
   "cell_type": "code",
   "execution_count": 46,
   "metadata": {},
   "outputs": [
    {
     "data": {
      "text/plain": [
       "2010    1196\n",
       "1980     937\n",
       "1970     578\n",
       "1990     431\n",
       "1950     371\n",
       "1960     349\n",
       "2000     215\n",
       "1940      68\n",
       "1930       9\n",
       "1900       1\n",
       "Name: year_manufactured, dtype: int64"
      ]
     },
     "execution_count": 46,
     "metadata": {},
     "output_type": "execute_result"
    }
   ],
   "source": [
    "# Do the same thing for other_years. Save to a variable called \"other_decades\"\n",
    "other_decades = (other_years // 10 * 10).dropna().astype(int)\n",
    "other_decades_count = other_decades.value_counts()\n",
    "other_decades_count"
   ]
  },
  {
   "cell_type": "markdown",
   "metadata": {},
   "source": [
    "### Build a DataFrame from a dictionary of key, Series"
   ]
  },
  {
   "cell_type": "code",
   "execution_count": 47,
   "metadata": {},
   "outputs": [
    {
     "data": {
      "text/html": [
       "<div>\n",
       "<style scoped>\n",
       "    .dataframe tbody tr th:only-of-type {\n",
       "        vertical-align: middle;\n",
       "    }\n",
       "\n",
       "    .dataframe tbody tr th {\n",
       "        vertical-align: top;\n",
       "    }\n",
       "\n",
       "    .dataframe thead th {\n",
       "        text-align: right;\n",
       "    }\n",
       "</style>\n",
       "<table border=\"1\" class=\"dataframe\">\n",
       "  <thead>\n",
       "    <tr style=\"text-align: right;\">\n",
       "      <th></th>\n",
       "      <th>pacer</th>\n",
       "      <th>other</th>\n",
       "    </tr>\n",
       "  </thead>\n",
       "  <tbody>\n",
       "    <tr>\n",
       "      <th>1900</th>\n",
       "      <td>NaN</td>\n",
       "      <td>1</td>\n",
       "    </tr>\n",
       "    <tr>\n",
       "      <th>1930</th>\n",
       "      <td>NaN</td>\n",
       "      <td>9</td>\n",
       "    </tr>\n",
       "    <tr>\n",
       "      <th>1940</th>\n",
       "      <td>NaN</td>\n",
       "      <td>68</td>\n",
       "    </tr>\n",
       "    <tr>\n",
       "      <th>1950</th>\n",
       "      <td>NaN</td>\n",
       "      <td>371</td>\n",
       "    </tr>\n",
       "    <tr>\n",
       "      <th>1960</th>\n",
       "      <td>1.0</td>\n",
       "      <td>349</td>\n",
       "    </tr>\n",
       "    <tr>\n",
       "      <th>1970</th>\n",
       "      <td>NaN</td>\n",
       "      <td>578</td>\n",
       "    </tr>\n",
       "    <tr>\n",
       "      <th>1980</th>\n",
       "      <td>21.0</td>\n",
       "      <td>937</td>\n",
       "    </tr>\n",
       "    <tr>\n",
       "      <th>1990</th>\n",
       "      <td>846.0</td>\n",
       "      <td>431</td>\n",
       "    </tr>\n",
       "    <tr>\n",
       "      <th>2000</th>\n",
       "      <td>1730.0</td>\n",
       "      <td>215</td>\n",
       "    </tr>\n",
       "    <tr>\n",
       "      <th>2010</th>\n",
       "      <td>503.0</td>\n",
       "      <td>1196</td>\n",
       "    </tr>\n",
       "  </tbody>\n",
       "</table>\n",
       "</div>"
      ],
      "text/plain": [
       "       pacer  other\n",
       "1900     NaN      1\n",
       "1930     NaN      9\n",
       "1940     NaN     68\n",
       "1950     NaN    371\n",
       "1960     1.0    349\n",
       "1970     NaN    578\n",
       "1980    21.0    937\n",
       "1990   846.0    431\n",
       "2000  1730.0    215\n",
       "2010   503.0   1196"
      ]
     },
     "execution_count": 47,
     "metadata": {},
     "output_type": "execute_result"
    }
   ],
   "source": [
    "plot_df = DataFrame({\n",
    "    \"pacer\": pacer_decades_count,\n",
    "    \"other\": other_decades_count,\n",
    "})\n",
    "plot_df # observe the NaN values"
   ]
  },
  {
   "cell_type": "code",
   "execution_count": 48,
   "metadata": {},
   "outputs": [
    {
     "data": {
      "text/plain": [
       "Text(0, 0.5, 'Hydrant Count')"
      ]
     },
     "execution_count": 48,
     "metadata": {},
     "output_type": "execute_result"
    },
    {
     "data": {
      "image/png": "[encoded data removed]",
      "text/plain": [
       "<Figure size 432x288 with 1 Axes>"
      ]
     },
     "metadata": {
      "needs_background": "light"
     },
     "output_type": "display_data"
    }
   ],
   "source": [
    "# make a bar plot\n",
    "\n",
    "ax = plot_df.plot.bar()\n",
    "ax.set_xlabel(\"Decade\")\n",
    "ax.set_ylabel(\"Hydrant Count\")"
   ]
  },
  {
   "cell_type": "markdown",
   "metadata": {},
   "source": [
    "#### Ignore data from before 1950 using boolean indexing."
   ]
  },
  {
   "cell_type": "code",
   "execution_count": 49,
   "metadata": {},
   "outputs": [
    {
     "data": {
      "text/plain": [
       "Text(0, 0.5, 'Hydrant Count')"
      ]
     },
     "execution_count": 49,
     "metadata": {},
     "output_type": "execute_result"
    },
    {
     "data": {
      "image/png": "[encoded data removed]",
      "text/plain": [
       "<Figure size 432x288 with 1 Axes>"
      ]
     },
     "metadata": {
      "needs_background": "light"
     },
     "output_type": "display_data"
    }
   ],
   "source": [
    "ax = plot_df[plot_df.index >= 1950].plot.bar()\n",
    "ax.set_xlabel(\"Decade\")\n",
    "ax.set_ylabel(\"Hydrant Count\")"
   ]
  },
  {
   "cell_type": "markdown",
   "metadata": {},
   "source": [
    "### Stacked Bar Chart\n",
    "`stacked` parameter accepts boolean value as argument"
   ]
  },
  {
   "cell_type": "code",
   "execution_count": 50,
   "metadata": {},
   "outputs": [
    {
     "data": {
      "image/png": "[encoded data removed]",
      "text/plain": [
       "<Figure size 432x288 with 1 Axes>"
      ]
     },
     "metadata": {
      "needs_background": "light"
     },
     "output_type": "display_data"
    }
   ],
   "source": [
    "ax = plot_df[plot_df.index >= 1950].plot.bar(stacked=True)\n",
    "ax.set_xlabel(\"Decade\")\n",
    "ax.set_ylabel(\"Hydrant Count\")\n",
    "None"
   ]
  }
 ],
 "metadata": {
  "kernelspec": {
   "display_name": "Python 3 (ipykernel)",
   "language": "python",
   "name": "python3"
  },
  "language_info": {
   "codemirror_mode": {
    "name": "ipython",
    "version": 3
   },
   "file_extension": ".py",
   "mimetype": "text/x-python",
   "name": "python",
   "nbconvert_exporter": "python",
   "pygments_lexer": "ipython3",
   "version": "3.9.12"
  }
 },
 "nbformat": 4,
 "nbformat_minor": 2
}
