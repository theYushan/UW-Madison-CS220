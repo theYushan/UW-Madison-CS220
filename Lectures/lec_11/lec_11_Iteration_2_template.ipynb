{
 "cells": [
  {
   "cell_type": "markdown",
   "id": "cce4a7bf",
   "metadata": {},
   "source": [
    "# Iteration 2\n",
    "\n",
    "## Readings: \n",
    "- Chapter 2 of Sweigart book\n",
    "- Chapter 6.4 of Python for Everybody"
   ]
  },
  {
   "cell_type": "code",
   "execution_count": 3,
   "id": "7693263d",
   "metadata": {},
   "outputs": [],
   "source": [
    "import math"
   ]
  },
  {
   "cell_type": "markdown",
   "id": "0b7e0914",
   "metadata": {},
   "source": [
    "## Learning Objectives\n",
    "\n",
    "- Read and trace through Python code containing nested loops.\n",
    "- Read and trace through Python code using `break` or `continue` in a `while` loop\n",
    "- Determine the effect of break and continue in nested loops"
   ]
  },
  {
   "cell_type": "markdown",
   "id": "06b520a0",
   "metadata": {},
   "source": [
    "## `break` example\n",
    "- `break` enables to terminate execution of a while loop\n",
    "- typically used with a conditional; that is you break when condition evaluates to `True`"
   ]
  },
  {
   "cell_type": "code",
   "execution_count": 10,
   "id": "8067fa3e",
   "metadata": {},
   "outputs": [],
   "source": [
    "def is_prime(num):\n",
    "    \"\"\" returns True if x is prime, false otherwise. \n",
    "    Assumes x is positive\"\"\"\n",
    "    \n",
    "    # try all divisors from 2 to sqrt(num) to check if num is prime\n",
    "    divisor = 2\n",
    "    found_divisor = False\n",
    "    while 2 < math.sqrt(num): \n",
    "        # check if num is divisible by divisor\n",
    "        if num % divisor == 0:\n",
    "            found_divisor = True\n",
    "            break\n",
    "#         print(divisor)\n",
    "        divisor += 1\n",
    "        \n",
    "    return found_divisor"
   ]
  },
  {
   "cell_type": "code",
   "execution_count": 11,
   "id": "2e3d3f29",
   "metadata": {},
   "outputs": [
    {
     "name": "stdout",
     "output_type": "stream",
     "text": [
      "False\n",
      "False\n",
      "False\n",
      "True\n",
      "True\n",
      "True\n",
      "True\n"
     ]
    }
   ],
   "source": [
    "print(is_prime(1))\n",
    "print(is_prime(2))\n",
    "print(is_prime(3))\n",
    "print(is_prime(7))\n",
    "print(is_prime(16))\n",
    "print(is_prime(23))\n",
    "print(is_prime(1000000))"
   ]
  },
  {
   "cell_type": "code",
   "execution_count": null,
   "id": "9a28c726",
   "metadata": {},
   "outputs": [],
   "source": [
    "def has_prime(start, end):\n",
    "    # TODO: write a for loop using range, to:\n",
    "    found_prime = False\n",
    "    for num in range(start, end+1):\n",
    "        \n",
    "\n",
    "\n",
    "    #       1. iterate over every number from start to end\n",
    "    #       2. call is_prime function, to determine if it is prime\n",
    "    #       3. if you find at least one prime, has_prime should\n",
    "    #          return True, False otherwise\n",
    "    pass"
   ]
  },
  {
   "cell_type": "code",
   "execution_count": null,
   "id": "5cde0776",
   "metadata": {},
   "outputs": [],
   "source": [
    "has_prime(14, 16)"
   ]
  },
  {
   "cell_type": "code",
   "execution_count": null,
   "id": "3a5be934",
   "metadata": {},
   "outputs": [],
   "source": [
    "has_prime(1000000, 1001000)"
   ]
  },
  {
   "cell_type": "markdown",
   "id": "12c14f3b",
   "metadata": {},
   "source": [
    "## `continue` example\n",
    "- `continue` enables to move on to the next iteration of the while loop\n",
    "- typically used with a conditional; that is you continue when condition evaluates to `True`"
   ]
  },
  {
   "cell_type": "code",
   "execution_count": null,
   "id": "ef8d6e0b",
   "metadata": {},
   "outputs": [],
   "source": [
    "total = 0\n",
    "count = 0\n",
    "# TODO: write an infinite loop using while\n",
    "while True:\n",
    "    # TODO: get user input for age\n",
    "    age = input(\"Enter your age:\") #defalut is string\n",
    "    if age == \"q\":\n",
    "        break\n",
    "    age = float(age)\n",
    "    print(age)\n",
    "    \n",
    "    if age < 0 or age >= 118:\n",
    "        continue\n",
    "    # Goal: to compute running average\n",
    "    \n",
    "    # It is easy to keep track of total and number of user\n",
    "    # inputs to compute running average\n",
    "    total += age\n",
    "    count +=1\n",
    "    print(\"Current average age is\", total / count)\n",
    "    \n",
    "    # TODO: discuss what is acceptable range for age\n",
    "    # What is the guinness world record for oldest person?\n",
    "    \n",
    "    # TODO: discuss where you will initialize variables to keep track\n",
    "    # of total and number of user inputs so far and then type the\n",
    "    # computation lines to compute updated total and running average\n",
    "    \n",
    "    # Now, try entering input as a large number outside of your\n",
    "    # acceptable age range. What happens to your average?\n",
    "    # TODO: handle this by writing a conditional and use continue,\n",
    "    # when user enters invalid age\n",
    "    \n",
    "    # Finally, how do we terminate the infinite while loop\n",
    "    # Let's accept \"q\" as user input for termination\n",
    "    # TODO: handle that using another conditional\n",
    "    # Think carefully about where this conditional needs to be in \n",
    "    # terms of control flow"
   ]
  },
  {
   "cell_type": "markdown",
   "id": "944cc596",
   "metadata": {},
   "source": [
    "### After lecture"
   ]
  },
  {
   "cell_type": "markdown",
   "id": "0820ba66",
   "metadata": {},
   "source": [
    "How many times is the *while loop condition line* executed?"
   ]
  },
  {
   "cell_type": "code",
   "execution_count": null,
   "id": "c3c14b7b",
   "metadata": {},
   "outputs": [],
   "source": [
    "n = 7\n",
    "while n >= 5:\n",
    "    print(n)\n",
    "    n -= 1\n",
    "    \n",
    "# Answer is 4. \n",
    "# Loop condition line always gets executed number of \n",
    "# iterations + 1 times."
   ]
  },
  {
   "cell_type": "markdown",
   "id": "7cf19523",
   "metadata": {},
   "source": [
    "Refactor the below function."
   ]
  },
  {
   "cell_type": "code",
   "execution_count": null,
   "id": "a313a32f",
   "metadata": {},
   "outputs": [],
   "source": [
    "def is_between(a, b, c):\n",
    "    \"\"\"Return True if b is between a and c (exclusive), \n",
    "    False otherwise\"\"\"\n",
    "    if a < c:\n",
    "        if a < b and b < c:\n",
    "            return True\n",
    "        else:\n",
    "            return False\n",
    "    elif c <= a:\n",
    "        if c < b and b < a:\n",
    "            return True\n",
    "        else:\n",
    "            return False\n",
    "    else:\n",
    "        return False\n",
    "    \n",
    "print(is_between(1, 3, 2))   # False\n",
    "print(is_between(5, 11, 20)) # True\n",
    "print(is_between(20, 3, 5))  # False\n",
    "print(is_between(50, 11, 9)) # True\n",
    "print(is_between(4, 4, 4))   # False"
   ]
  },
  {
   "cell_type": "code",
   "execution_count": null,
   "id": "7fd82ae9",
   "metadata": {},
   "outputs": [],
   "source": [
    "def is_between_v2(a, b, c):\n",
    "    return ???\n",
    "\n",
    "print(is_between_v2(1, 3, 2))   # False\n",
    "print(is_between_v2(5, 11, 20)) # True\n",
    "print(is_between_v2(20, 3, 5))  # False\n",
    "print(is_between_v2(50, 11, 9)) # True\n",
    "print(is_between_v2(4, 4, 4))   # False"
   ]
  },
  {
   "cell_type": "markdown",
   "id": "ca9037f7",
   "metadata": {},
   "source": [
    "Trace the output without using Python interpreter"
   ]
  },
  {
   "cell_type": "code",
   "execution_count": 1,
   "id": "ec8b1b32",
   "metadata": {},
   "outputs": [
    {
     "name": "stdout",
     "output_type": "stream",
     "text": [
      "1 \t2 \t3 \t4 \t5 \t6 \t7 \t8 \t9 \t\n",
      "2 \t4 \t6 \t8 \t10 \t12 \t14 \t16 \t18 \t\n",
      "3 \t6 \t9 \t12 \t15 \t18 \t21 \t24 \t27 \t\n",
      "4 \t8 \t12 \t16 \t20 \t24 \t28 \t32 \t36 \t\n"
     ]
    }
   ],
   "source": [
    "x = 1\n",
    "while x < 5:\n",
    "    y = 1\n",
    "    while y < 10:\n",
    "        print (x * y, \"\\t\", end=\"\")\n",
    "        y += 1\n",
    "    print()\n",
    "    x += 1"
   ]
  },
  {
   "cell_type": "code",
   "execution_count": null,
   "id": "74060bc4",
   "metadata": {},
   "outputs": [],
   "source": [
    "width = 9\n",
    "height = 4\n",
    "symbol = '#'\n",
    "row = 0\n",
    "while row < height:\n",
    "    col = 0\n",
    "    if row % 2 == 1:\n",
    "        print(\" \", end=\"\")\n",
    "    while col < width:\n",
    "        print(symbol + ' ', end=\"\")\n",
    "        col += 1\n",
    "    # displays just a newline\n",
    "    print() # recall default value for end parameter is \"\\n\"\n",
    "    row += 1"
   ]
  }
 ],
 "metadata": {
  "kernelspec": {
   "display_name": "Python 3 (ipykernel)",
   "language": "python",
   "name": "python3"
  },
  "language_info": {
   "codemirror_mode": {
    "name": "ipython",
    "version": 3
   },
   "file_extension": ".py",
   "mimetype": "text/x-python",
   "name": "python",
   "nbconvert_exporter": "python",
   "pygments_lexer": "ipython3",
   "version": "3.9.12"
  }
 },
 "nbformat": 4,
 "nbformat_minor": 5
}
