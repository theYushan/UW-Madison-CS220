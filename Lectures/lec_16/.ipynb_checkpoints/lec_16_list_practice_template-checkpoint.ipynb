{
 "cells": [
  {
   "cell_type": "markdown",
   "id": "72348536",
   "metadata": {},
   "source": [
    "# List Practice"
   ]
  },
  {
   "cell_type": "code",
   "execution_count": 29,
   "id": "d21a94b5",
   "metadata": {},
   "outputs": [],
   "source": [
    "import csv"
   ]
  },
  {
   "cell_type": "markdown",
   "id": "cd8a434c",
   "metadata": {},
   "source": [
    "### Warmup 1: min / max"
   ]
  },
  {
   "cell_type": "code",
   "execution_count": 30,
   "id": "baa730ba",
   "metadata": {},
   "outputs": [
    {
     "name": "stdout",
     "output_type": "stream",
     "text": [
      "-4\n",
      "220\n"
     ]
    }
   ],
   "source": [
    "some_list = [45, -4, 66, 220, 10]\n",
    "\n",
    "min_val = None\n",
    "for val in some_list:\n",
    "    if min_val == None or val < min_val:\n",
    "        min_val = val\n",
    "    \n",
    "print(min_val)\n",
    "\n",
    "max_val = None\n",
    "for val in some_list:\n",
    "    if max_val == None or val > max_val:\n",
    "        max_val = val\n",
    "    \n",
    "print(max_val)"
   ]
  },
  {
   "cell_type": "markdown",
   "id": "3502c700",
   "metadata": {},
   "source": [
    "### Warmup 2: median"
   ]
  },
  {
   "cell_type": "code",
   "execution_count": 31,
   "id": "414ae09e",
   "metadata": {},
   "outputs": [
    {
     "name": "stdout",
     "output_type": "stream",
     "text": [
      "Median of [1, 2, 3, 4, 5] is 3\n",
      "Median of [1, 2, 3, 4, 5, 6] is 3.5\n"
     ]
    }
   ],
   "source": [
    "def median(some_items):\n",
    "    \"\"\"\n",
    "    Returns median of a list passed as argument\n",
    "    \"\"\"\n",
    "    some_items.sort()\n",
    "    n = len(some_items)\n",
    "    \n",
    "    if n % 2 == 0:\n",
    "        first_middle = some_items[n // 2 - 1] \n",
    "        second_middle = some_items[n // 2]\n",
    "        median = (first_middle + second_middle) /2\n",
    "    else:\n",
    "        median = some_items[n // 2]\n",
    "    \n",
    "    return median\n",
    "    \n",
    "nums = [5, 4, 3, 2, 1]\n",
    "print(\"Median of\", nums, \"is\" , median(nums))\n",
    "\n",
    "nums = [6, 5, 4, 3, 2, 1]\n",
    "print(\"Median of\", nums, \"is\" , median(nums))"
   ]
  },
  {
   "cell_type": "code",
   "execution_count": 32,
   "id": "73fa337e",
   "metadata": {},
   "outputs": [
    {
     "name": "stdout",
     "output_type": "stream",
     "text": [
      "Median of [1, 2, 3, 4, 5, 6] is B\n"
     ]
    }
   ],
   "source": [
    "vals = [\"A\", \"C\", \"B\"]\n",
    "print(\"Median of\", nums, \"is\" , median(vals))\n",
    "\n",
    "vals = [\"A\", \"C\", \"B\", \"D\"]\n",
    "# print(\"Median of\", nums, \"is\" , median(vals)) # does not work due to TypeError"
   ]
  },
  {
   "cell_type": "markdown",
   "id": "050fd57c",
   "metadata": {},
   "source": [
    "### set data structure\n",
    "\n",
    "- **not a sequence**\n",
    "- no ordering of values:\n",
    "    - this implies that you can only store unique values within a `set`\n",
    "- very helpful to find unique values stored in a `list`\n",
    "    - easy to convert a `list` to `set` and vice-versa.\n",
    "    - ordering is not guaranteed once we use `set`"
   ]
  },
  {
   "cell_type": "code",
   "execution_count": 33,
   "id": "7d4a693f",
   "metadata": {},
   "outputs": [
    {
     "data": {
      "text/plain": [
       "{10, 20, 30, 40, 50}"
      ]
     },
     "execution_count": 33,
     "metadata": {},
     "output_type": "execute_result"
    }
   ],
   "source": [
    "some_set = {10, 20, 30, 30, 40, 50, 10} # use a pair of curly braces to define it\n",
    "some_set"
   ]
  },
  {
   "cell_type": "code",
   "execution_count": 34,
   "id": "baef596c",
   "metadata": {},
   "outputs": [
    {
     "name": "stdout",
     "output_type": "stream",
     "text": [
      "{40, 10, 50, 20, 30}\n",
      "[40, 10, 50, 20, 30]\n"
     ]
    }
   ],
   "source": [
    "some_list = [10, 20, 30, 30, 40, 50, 10] # Initialize a list containing duplicate numbers\n",
    "\n",
    "# TODO: to find unique values, convert it into a set\n",
    "print(set(some_list))\n",
    "\n",
    "# TODO: convert the set back into a list\n",
    "print(list(set(some_list)))"
   ]
  },
  {
   "cell_type": "markdown",
   "id": "2be52d13",
   "metadata": {},
   "source": [
    "Can you index / slice into a `set`?"
   ]
  },
  {
   "cell_type": "code",
   "execution_count": 35,
   "id": "f622a5eb",
   "metadata": {},
   "outputs": [
    {
     "ename": "TypeError",
     "evalue": "'set' object is not subscriptable",
     "output_type": "error",
     "traceback": [
      "\u001b[0;31m---------------------------------------------------------------------------\u001b[0m",
      "\u001b[0;31mTypeError\u001b[0m                                 Traceback (most recent call last)",
      "Input \u001b[0;32mIn [35]\u001b[0m, in \u001b[0;36m<cell line: 1>\u001b[0;34m()\u001b[0m\n\u001b[0;32m----> 1\u001b[0m \u001b[43msome_set\u001b[49m\u001b[43m[\u001b[49m\u001b[38;5;241;43m1\u001b[39;49m\u001b[43m]\u001b[49m\n",
      "\u001b[0;31mTypeError\u001b[0m: 'set' object is not subscriptable"
     ]
    }
   ],
   "source": [
    "some_set[1] # doesn't work - remember set has no order"
   ]
  },
  {
   "cell_type": "code",
   "execution_count": 36,
   "id": "e679d3a7",
   "metadata": {},
   "outputs": [
    {
     "ename": "TypeError",
     "evalue": "'set' object is not subscriptable",
     "output_type": "error",
     "traceback": [
      "\u001b[0;31m---------------------------------------------------------------------------\u001b[0m",
      "\u001b[0;31mTypeError\u001b[0m                                 Traceback (most recent call last)",
      "Input \u001b[0;32mIn [36]\u001b[0m, in \u001b[0;36m<cell line: 1>\u001b[0;34m()\u001b[0m\n\u001b[0;32m----> 1\u001b[0m \u001b[43msome_set\u001b[49m\u001b[43m[\u001b[49m\u001b[38;5;241;43m1\u001b[39;49m\u001b[43m:\u001b[49m\u001b[43m]\u001b[49m\n",
      "\u001b[0;31mTypeError\u001b[0m: 'set' object is not subscriptable"
     ]
    }
   ],
   "source": [
    "some_set[1:] # doesn't work - remember set has no order"
   ]
  },
  {
   "cell_type": "code",
   "execution_count": 37,
   "id": "9d936c1c",
   "metadata": {},
   "outputs": [],
   "source": [
    "# inspired by https://automatetheboringstuff.com/2e/chapter16/\n",
    "def process_csv(filename):\n",
    "    # open the file, its a text file utf-8\n",
    "    example_file = open(filename, encoding=\"utf-8\")\n",
    "    # prepare it for reading as a CSV object\n",
    "    example_reader = csv.reader(example_file)\n",
    "    # use the built-in list function to convert this into a list of lists\n",
    "    example_data = list(example_reader)\n",
    "    # close the file to tidy up our workspace\n",
    "    example_file.close()\n",
    "    # return the list of lists\n",
    "    \n",
    "    return example_data"
   ]
  },
  {
   "cell_type": "markdown",
   "id": "89621c98",
   "metadata": {},
   "source": [
    "### Student Information Survey data"
   ]
  },
  {
   "cell_type": "code",
   "execution_count": 46,
   "id": "d3c252b4",
   "metadata": {},
   "outputs": [],
   "source": [
    "# TODO: call the process_csv function and store the list of lists in cs220_csv\n",
    "cs220_csv = process_csv(\"cs220_survey_data.csv\")"
   ]
  },
  {
   "cell_type": "code",
   "execution_count": 64,
   "id": "5838ae5f",
   "metadata": {},
   "outputs": [
    {
     "data": {
      "text/plain": [
       "['Lecture',\n",
       " 'Age',\n",
       " 'Major',\n",
       " 'Zip Code',\n",
       " 'Latitude',\n",
       " 'Longitude',\n",
       " 'Pizza topping',\n",
       " 'Pet preference',\n",
       " 'Runner',\n",
       " 'Sleep habit',\n",
       " 'Procrastinator']"
      ]
     },
     "execution_count": 64,
     "metadata": {},
     "output_type": "execute_result"
    }
   ],
   "source": [
    "# Store the header row into cs220_header, using indexing\n",
    "cs220_header = cs220_csv[0]\n",
    "cs220_header"
   ]
  },
  {
   "cell_type": "code",
   "execution_count": 65,
   "id": "66fda88d",
   "metadata": {},
   "outputs": [],
   "source": [
    "# TODO: Store all of the data rows into cs220_data, using slicing\n",
    "cs220_data = cs220_csv[1:]\n",
    "\n",
    "# TODO: use slicing to display top 3 rows data\n",
    "cs220_data_top3 = cs220_csv[0:3]"
   ]
  },
  {
   "cell_type": "markdown",
   "id": "4267fe3e",
   "metadata": {},
   "source": [
    "### What `Pizza topping` does the 13th student prefer? "
   ]
  },
  {
   "cell_type": "code",
   "execution_count": 66,
   "id": "4b8dbe8b",
   "metadata": {},
   "outputs": [
    {
     "data": {
      "text/plain": [
       "'pineapple'"
      ]
     },
     "execution_count": 66,
     "metadata": {},
     "output_type": "execute_result"
    }
   ],
   "source": [
    "# bad example: we hard-coded the column index\n",
    "cs220_data[12][6]"
   ]
  },
  {
   "cell_type": "markdown",
   "id": "4f125240",
   "metadata": {},
   "source": [
    "What if we decided to add a new column before sleeping habit? Your code will no longer work.\n",
    "\n",
    "Instead of hard-coding column index, you should use `index` method, to lookup column index from the header variable. This will also make your code so much readable."
   ]
  },
  {
   "cell_type": "code",
   "execution_count": 67,
   "id": "f2e52e06",
   "metadata": {},
   "outputs": [
    {
     "data": {
      "text/plain": [
       "'pineapple'"
      ]
     },
     "execution_count": 67,
     "metadata": {},
     "output_type": "execute_result"
    }
   ],
   "source": [
    "cs220_data[12][cs220_header.index(\"Pizza topping\")]"
   ]
  },
  {
   "cell_type": "markdown",
   "id": "5d298a4c",
   "metadata": {},
   "source": [
    "### What is the Lecture of the 4th student?"
   ]
  },
  {
   "cell_type": "code",
   "execution_count": 68,
   "id": "3617b3de",
   "metadata": {},
   "outputs": [
    {
     "data": {
      "text/plain": [
       "'LEC005'"
      ]
     },
     "execution_count": 68,
     "metadata": {},
     "output_type": "execute_result"
    }
   ],
   "source": [
    "cs220_data[3][cs220_header.index(\"Lecture\")]"
   ]
  },
  {
   "cell_type": "markdown",
   "id": "059de363",
   "metadata": {},
   "source": [
    "### What **unique** `age` values are included in the dataset?"
   ]
  },
  {
   "cell_type": "code",
   "execution_count": 69,
   "id": "45909f22",
   "metadata": {},
   "outputs": [
    {
     "data": {
      "text/plain": [
       "[17,\n",
       " 18,\n",
       " 19,\n",
       " 20,\n",
       " 21,\n",
       " 22,\n",
       " 23,\n",
       " 24,\n",
       " 25,\n",
       " 26,\n",
       " 27,\n",
       " 28,\n",
       " 29,\n",
       " 30,\n",
       " 31,\n",
       " 32,\n",
       " 37,\n",
       " 41,\n",
       " 53,\n",
       " 42069]"
      ]
     },
     "execution_count": 69,
     "metadata": {},
     "output_type": "execute_result"
    }
   ],
   "source": [
    "ages = []\n",
    "\n",
    "for row in cs220_data:\n",
    "    age = row[cs220_header.index(\"Age\")]\n",
    "    if age == \"\":\n",
    "        continue\n",
    "    age = int(age)\n",
    "    ages.append(age)\n",
    "ages = list(set(ages))\n",
    "ages"
   ]
  },
  {
   "cell_type": "markdown",
   "id": "8e18663d",
   "metadata": {},
   "source": [
    "### cell function\n",
    "\n",
    "- It would be very helpful to define a cell function, which can handle missing data and type conversions"
   ]
  },
  {
   "cell_type": "code",
   "execution_count": 70,
   "id": "bba90038",
   "metadata": {},
   "outputs": [],
   "source": [
    "def cell(row_idx, col_name):\n",
    "    \"\"\"\n",
    "    Returns the data value (cell) corresponding to the row index and \n",
    "    the column name of a CSV file.\n",
    "    \"\"\"\n",
    "    # TODO: get the index of col_name\n",
    "    col_idx = csv220_header.index(col_name)\n",
    "    \n",
    "    # TODO: get the value of cs220_data at the specified cell\n",
    "    val = cs220_data[row_idx][col_idx]\n",
    "    \n",
    "    # TODO: handle missing values, by returning None\n",
    "    if val == \"\":\n",
    "        return None\n",
    "    # TODO: handle type conversions\n",
    "    if col_name in [\"Age\", \"Zipcode\",]:\n",
    "        return int(val)\n",
    "    elif col_name in [\"Latitude\", \"Longitude\"]:\n",
    "        return floaat(val)\n",
    "    \n",
    "    return val"
   ]
  },
  {
   "cell_type": "markdown",
   "id": "b7c8e726",
   "metadata": {},
   "source": [
    "### Function `avg_age_per_lecture(lecture)`"
   ]
  },
  {
   "cell_type": "code",
   "execution_count": 71,
   "id": "fa5598e0",
   "metadata": {},
   "outputs": [],
   "source": [
    "def avg_age_per_lecture(lecture):\n",
    "    '''\n",
    "    avg_age_per_lecture(lecture) returns the average age of \n",
    "    the students in the given `lecture`; if there are no\n",
    "    students in the given `lecture`, it returns `None`\n",
    "    '''\n",
    "    # To compute average you don't need to actually populate a list.\n",
    "    # But here a list will come in handy. It will help you with the None return requirement.\n",
    "    for row_idx in range(len(cs220_data)):\n",
    "        curr_lecture = cell(row_idx, \"Lecture\")\n",
    "        \n",
    "        if curr_lecture == lecture:\n",
    "            age = cell(row_idx, \"Age\")\n",
    "            if age == None or age < 0 or age > 118:\n",
    "                continue\n",
    "            ages.append(age)\n",
    "        if len(ages) > 0:\n",
    "            return sum(ages) / len(ages)\n",
    "        else:\n",
    "            return None\n",
    "            "
   ]
  },
  {
   "cell_type": "code",
   "execution_count": 72,
   "id": "f0a05e42",
   "metadata": {
    "scrolled": true
   },
   "outputs": [
    {
     "ename": "NameError",
     "evalue": "name 'csv220_header' is not defined",
     "output_type": "error",
     "traceback": [
      "\u001b[0;31m---------------------------------------------------------------------------\u001b[0m",
      "\u001b[0;31mNameError\u001b[0m                                 Traceback (most recent call last)",
      "Input \u001b[0;32mIn [72]\u001b[0m, in \u001b[0;36m<cell line: 1>\u001b[0;34m()\u001b[0m\n\u001b[0;32m----> 1\u001b[0m \u001b[43mavg_age_per_lecture\u001b[49m\u001b[43m(\u001b[49m\u001b[38;5;124;43m\"\u001b[39;49m\u001b[38;5;124;43mLEC002\u001b[39;49m\u001b[38;5;124;43m\"\u001b[39;49m\u001b[43m)\u001b[49m\n",
      "Input \u001b[0;32mIn [71]\u001b[0m, in \u001b[0;36mavg_age_per_lecture\u001b[0;34m(lecture)\u001b[0m\n\u001b[1;32m      7\u001b[0m \u001b[38;5;66;03m# To compute average you don't need to actually populate a list.\u001b[39;00m\n\u001b[1;32m      8\u001b[0m \u001b[38;5;66;03m# But here a list will come in handy. It will help you with the None return requirement.\u001b[39;00m\n\u001b[1;32m      9\u001b[0m \u001b[38;5;28;01mfor\u001b[39;00m row_idx \u001b[38;5;129;01min\u001b[39;00m \u001b[38;5;28mrange\u001b[39m(\u001b[38;5;28mlen\u001b[39m(cs220_data)):\n\u001b[0;32m---> 10\u001b[0m     curr_lecture \u001b[38;5;241m=\u001b[39m \u001b[43mcell\u001b[49m\u001b[43m(\u001b[49m\u001b[43mrow_idx\u001b[49m\u001b[43m,\u001b[49m\u001b[43m \u001b[49m\u001b[38;5;124;43m\"\u001b[39;49m\u001b[38;5;124;43mLecture\u001b[39;49m\u001b[38;5;124;43m\"\u001b[39;49m\u001b[43m)\u001b[49m\n\u001b[1;32m     12\u001b[0m     \u001b[38;5;28;01mif\u001b[39;00m curr_lecture \u001b[38;5;241m==\u001b[39m lecture:\n\u001b[1;32m     13\u001b[0m         age \u001b[38;5;241m=\u001b[39m cell(row_idx, \u001b[38;5;124m\"\u001b[39m\u001b[38;5;124mAge\u001b[39m\u001b[38;5;124m\"\u001b[39m)\n",
      "Input \u001b[0;32mIn [70]\u001b[0m, in \u001b[0;36mcell\u001b[0;34m(row_idx, col_name)\u001b[0m\n\u001b[1;32m      2\u001b[0m \u001b[38;5;124;03m\"\"\"\u001b[39;00m\n\u001b[1;32m      3\u001b[0m \u001b[38;5;124;03mReturns the data value (cell) corresponding to the row index and \u001b[39;00m\n\u001b[1;32m      4\u001b[0m \u001b[38;5;124;03mthe column name of a CSV file.\u001b[39;00m\n\u001b[1;32m      5\u001b[0m \u001b[38;5;124;03m\"\"\"\u001b[39;00m\n\u001b[1;32m      6\u001b[0m \u001b[38;5;66;03m# TODO: get the index of col_name\u001b[39;00m\n\u001b[0;32m----> 7\u001b[0m col_idx \u001b[38;5;241m=\u001b[39m \u001b[43mcsv220_header\u001b[49m\u001b[38;5;241m.\u001b[39mindex(col_name)\n\u001b[1;32m      9\u001b[0m \u001b[38;5;66;03m# TODO: get the value of cs220_data at the specified cell\u001b[39;00m\n\u001b[1;32m     10\u001b[0m val \u001b[38;5;241m=\u001b[39m cs220_data[row_idx][col_idx]\n",
      "\u001b[0;31mNameError\u001b[0m: name 'csv220_header' is not defined"
     ]
    }
   ],
   "source": [
    "avg_age_per_lecture(\"LEC002\")"
   ]
  },
  {
   "cell_type": "code",
   "execution_count": 73,
   "id": "9f2c7e6e",
   "metadata": {},
   "outputs": [
    {
     "ename": "NameError",
     "evalue": "name 'csv220_header' is not defined",
     "output_type": "error",
     "traceback": [
      "\u001b[0;31m---------------------------------------------------------------------------\u001b[0m",
      "\u001b[0;31mNameError\u001b[0m                                 Traceback (most recent call last)",
      "Input \u001b[0;32mIn [73]\u001b[0m, in \u001b[0;36m<cell line: 1>\u001b[0;34m()\u001b[0m\n\u001b[0;32m----> 1\u001b[0m \u001b[38;5;28mprint\u001b[39m(\u001b[43mavg_age_per_lecture\u001b[49m\u001b[43m(\u001b[49m\u001b[38;5;124;43m\"\u001b[39;49m\u001b[38;5;124;43mLEC007\u001b[39;49m\u001b[38;5;124;43m\"\u001b[39;49m\u001b[43m)\u001b[49m)\n",
      "Input \u001b[0;32mIn [71]\u001b[0m, in \u001b[0;36mavg_age_per_lecture\u001b[0;34m(lecture)\u001b[0m\n\u001b[1;32m      7\u001b[0m \u001b[38;5;66;03m# To compute average you don't need to actually populate a list.\u001b[39;00m\n\u001b[1;32m      8\u001b[0m \u001b[38;5;66;03m# But here a list will come in handy. It will help you with the None return requirement.\u001b[39;00m\n\u001b[1;32m      9\u001b[0m \u001b[38;5;28;01mfor\u001b[39;00m row_idx \u001b[38;5;129;01min\u001b[39;00m \u001b[38;5;28mrange\u001b[39m(\u001b[38;5;28mlen\u001b[39m(cs220_data)):\n\u001b[0;32m---> 10\u001b[0m     curr_lecture \u001b[38;5;241m=\u001b[39m \u001b[43mcell\u001b[49m\u001b[43m(\u001b[49m\u001b[43mrow_idx\u001b[49m\u001b[43m,\u001b[49m\u001b[43m \u001b[49m\u001b[38;5;124;43m\"\u001b[39;49m\u001b[38;5;124;43mLecture\u001b[39;49m\u001b[38;5;124;43m\"\u001b[39;49m\u001b[43m)\u001b[49m\n\u001b[1;32m     12\u001b[0m     \u001b[38;5;28;01mif\u001b[39;00m curr_lecture \u001b[38;5;241m==\u001b[39m lecture:\n\u001b[1;32m     13\u001b[0m         age \u001b[38;5;241m=\u001b[39m cell(row_idx, \u001b[38;5;124m\"\u001b[39m\u001b[38;5;124mAge\u001b[39m\u001b[38;5;124m\"\u001b[39m)\n",
      "Input \u001b[0;32mIn [70]\u001b[0m, in \u001b[0;36mcell\u001b[0;34m(row_idx, col_name)\u001b[0m\n\u001b[1;32m      2\u001b[0m \u001b[38;5;124;03m\"\"\"\u001b[39;00m\n\u001b[1;32m      3\u001b[0m \u001b[38;5;124;03mReturns the data value (cell) corresponding to the row index and \u001b[39;00m\n\u001b[1;32m      4\u001b[0m \u001b[38;5;124;03mthe column name of a CSV file.\u001b[39;00m\n\u001b[1;32m      5\u001b[0m \u001b[38;5;124;03m\"\"\"\u001b[39;00m\n\u001b[1;32m      6\u001b[0m \u001b[38;5;66;03m# TODO: get the index of col_name\u001b[39;00m\n\u001b[0;32m----> 7\u001b[0m col_idx \u001b[38;5;241m=\u001b[39m \u001b[43mcsv220_header\u001b[49m\u001b[38;5;241m.\u001b[39mindex(col_name)\n\u001b[1;32m      9\u001b[0m \u001b[38;5;66;03m# TODO: get the value of cs220_data at the specified cell\u001b[39;00m\n\u001b[1;32m     10\u001b[0m val \u001b[38;5;241m=\u001b[39m cs220_data[row_idx][col_idx]\n",
      "\u001b[0;31mNameError\u001b[0m: name 'csv220_header' is not defined"
     ]
    }
   ],
   "source": [
    "print(avg_age_per_lecture(\"LEC007\"))"
   ]
  },
  {
   "cell_type": "markdown",
   "id": "94548bf4",
   "metadata": {},
   "source": [
    "### `sort` method versus `sorted` function\n",
    "\n",
    "- `sort` (and other list methods) have an impact on the original list\n",
    "- `sorted` function returns a new list with expected ordering\n",
    "- default sorting order is ascending / alphanumeric\n",
    "- `reverse` parameter is applicable for both `sort` method and `sorted` function:\n",
    "    - enables you to specify descending order by passing argument as `True`"
   ]
  },
  {
   "cell_type": "code",
   "execution_count": null,
   "id": "c1e555f9",
   "metadata": {},
   "outputs": [],
   "source": [
    "some_list = [10, 4, 25, 2, -10] "
   ]
  },
  {
   "cell_type": "code",
   "execution_count": 74,
   "id": "152297bb",
   "metadata": {},
   "outputs": [
    {
     "name": "stdout",
     "output_type": "stream",
     "text": [
      "[50, 40, 30, 30, 20, 10, 10]\n",
      "None\n"
     ]
    }
   ],
   "source": [
    "# TODO: Invoke sort method\n",
    "rv = some_list.sort(reverse = True)\n",
    "print(some_list)\n",
    "\n",
    "# What does the sort method return? \n",
    "# TODO: Capture return value into a variable rv and print the return value.\n",
    "print(rv)"
   ]
  },
  {
   "cell_type": "markdown",
   "id": "3c0d5e7d",
   "metadata": {},
   "source": [
    "`sort` method returns `None` because it sorts the values in the original list"
   ]
  },
  {
   "cell_type": "code",
   "execution_count": 75,
   "id": "c06d8976",
   "metadata": {},
   "outputs": [
    {
     "name": "stdout",
     "output_type": "stream",
     "text": [
      "[50, 40, 30, 30, 20, 10, 10]\n"
     ]
    }
   ],
   "source": [
    "# TODO: invoke sorted function and pass some_list as argument\n",
    "# TODO: capture return value into sorted_some_list\n",
    "sorted_some_list = sorted(some_list, reverse = True)\n",
    "\n",
    "# What does the sorted function return? \n",
    "# It returns a brand new list with the values in sorted order\n",
    "print(sorted_some_list)"
   ]
  },
  {
   "cell_type": "markdown",
   "id": "ded0304c",
   "metadata": {},
   "source": [
    "TODO: go back to `sort` method call and `sorted` function call and pass keyword argument `reverse = True`."
   ]
  },
  {
   "cell_type": "markdown",
   "id": "35894ef5",
   "metadata": {},
   "source": [
    "Can you call `sort` method on a set?"
   ]
  },
  {
   "cell_type": "code",
   "execution_count": 76,
   "id": "fc08879e",
   "metadata": {},
   "outputs": [
    {
     "ename": "AttributeError",
     "evalue": "'set' object has no attribute 'sort'",
     "output_type": "error",
     "traceback": [
      "\u001b[0;31m---------------------------------------------------------------------------\u001b[0m",
      "\u001b[0;31mAttributeError\u001b[0m                            Traceback (most recent call last)",
      "Input \u001b[0;32mIn [76]\u001b[0m, in \u001b[0;36m<cell line: 1>\u001b[0;34m()\u001b[0m\n\u001b[0;32m----> 1\u001b[0m \u001b[43msome_set\u001b[49m\u001b[38;5;241;43m.\u001b[39;49m\u001b[43msort\u001b[49m()\n",
      "\u001b[0;31mAttributeError\u001b[0m: 'set' object has no attribute 'sort'"
     ]
    }
   ],
   "source": [
    "some_set.sort() \n",
    "# doesn't work: no method named sort associated with type set\n",
    "# you cannot sort a set because of the lack of ordering"
   ]
  },
  {
   "cell_type": "markdown",
   "id": "99161c42",
   "metadata": {},
   "source": [
    "Can you pass a `set` as argument to `sorted` function? Python is intelligent :)"
   ]
  },
  {
   "cell_type": "code",
   "execution_count": 77,
   "id": "2549df29",
   "metadata": {},
   "outputs": [
    {
     "data": {
      "text/plain": [
       "[10, 20, 30, 40, 50]"
      ]
     },
     "execution_count": 77,
     "metadata": {},
     "output_type": "execute_result"
    }
   ],
   "source": [
    "# works because Python converts the set into a list and then sorts the list\n",
    "sorted(some_set) "
   ]
  },
  {
   "cell_type": "markdown",
   "id": "5c7f3489",
   "metadata": {},
   "source": [
    "### Function: `find_majors(phrase)`"
   ]
  },
  {
   "cell_type": "code",
   "execution_count": 78,
   "id": "b6adbfe0",
   "metadata": {},
   "outputs": [],
   "source": [
    "def find_majors(phrase):\n",
    "    \"\"\"\n",
    "    find_majors(phrase) returns a list of all the room names that contain the \n",
    "    substring (case insensitive match) `phrase`.\n",
    "    \"\"\"\n",
    "    # TODO: initialize the target list here\n",
    "    major = []\n",
    "    # TODO: iterate over row indices\n",
    "    for row_idx in range(len(cs220_data)):\n",
    "        major = cell(row_idx, \"Major\")\n",
    "        \n",
    "        # TODO: write the actual logic here\n",
    "        if phrase.lower() in major.lower():\n",
    "            majors.append(major)\n",
    "    return majors"
   ]
  },
  {
   "cell_type": "markdown",
   "id": "1b7f671f",
   "metadata": {},
   "source": [
    "### Find all  `major` that contain **either** `\"Computer\"` **or** `\"Science\"`.\n",
    "\n",
    "Your output **must** be a *list*. The order **does not** matter, but if a `major` contains **both** `\"Computer\"` and `\"Science\"`, then the room must be included **only once** in your list."
   ]
  },
  {
   "cell_type": "code",
   "execution_count": 80,
   "id": "ed895a3b",
   "metadata": {},
   "outputs": [
    {
     "ename": "NameError",
     "evalue": "name 'csv220_header' is not defined",
     "output_type": "error",
     "traceback": [
      "\u001b[0;31m---------------------------------------------------------------------------\u001b[0m",
      "\u001b[0;31mNameError\u001b[0m                                 Traceback (most recent call last)",
      "Input \u001b[0;32mIn [80]\u001b[0m, in \u001b[0;36m<cell line: 1>\u001b[0;34m()\u001b[0m\n\u001b[0;32m----> 1\u001b[0m computer_majors \u001b[38;5;241m=\u001b[39m \u001b[43mfind_majors\u001b[49m\u001b[43m(\u001b[49m\u001b[38;5;124;43m\"\u001b[39;49m\u001b[38;5;124;43mComputer\u001b[39;49m\u001b[38;5;124;43m\"\u001b[39;49m\u001b[43m)\u001b[49m\n\u001b[1;32m      2\u001b[0m science_majors \u001b[38;5;241m=\u001b[39m find_majors(\u001b[38;5;124m\"\u001b[39m\u001b[38;5;124mScience\u001b[39m\u001b[38;5;124m\"\u001b[39m)\n\u001b[1;32m      4\u001b[0m computer_and_science_majors \u001b[38;5;241m=\u001b[39m computer_majors \u001b[38;5;241m+\u001b[39m science_majors\n",
      "Input \u001b[0;32mIn [78]\u001b[0m, in \u001b[0;36mfind_majors\u001b[0;34m(phrase)\u001b[0m\n\u001b[1;32m      8\u001b[0m \u001b[38;5;66;03m# TODO: iterate over row indices\u001b[39;00m\n\u001b[1;32m      9\u001b[0m \u001b[38;5;28;01mfor\u001b[39;00m row_idx \u001b[38;5;129;01min\u001b[39;00m \u001b[38;5;28mrange\u001b[39m(\u001b[38;5;28mlen\u001b[39m(cs220_data)):\n\u001b[0;32m---> 10\u001b[0m     major \u001b[38;5;241m=\u001b[39m \u001b[43mcell\u001b[49m\u001b[43m(\u001b[49m\u001b[43mrow_idx\u001b[49m\u001b[43m,\u001b[49m\u001b[43m \u001b[49m\u001b[38;5;124;43m\"\u001b[39;49m\u001b[38;5;124;43mMajor\u001b[39;49m\u001b[38;5;124;43m\"\u001b[39;49m\u001b[43m)\u001b[49m\n\u001b[1;32m     12\u001b[0m     \u001b[38;5;66;03m# TODO: write the actual logic here\u001b[39;00m\n\u001b[1;32m     13\u001b[0m     \u001b[38;5;28;01mif\u001b[39;00m phrase\u001b[38;5;241m.\u001b[39mlower() \u001b[38;5;129;01min\u001b[39;00m major\u001b[38;5;241m.\u001b[39mlower():\n",
      "Input \u001b[0;32mIn [70]\u001b[0m, in \u001b[0;36mcell\u001b[0;34m(row_idx, col_name)\u001b[0m\n\u001b[1;32m      2\u001b[0m \u001b[38;5;124;03m\"\"\"\u001b[39;00m\n\u001b[1;32m      3\u001b[0m \u001b[38;5;124;03mReturns the data value (cell) corresponding to the row index and \u001b[39;00m\n\u001b[1;32m      4\u001b[0m \u001b[38;5;124;03mthe column name of a CSV file.\u001b[39;00m\n\u001b[1;32m      5\u001b[0m \u001b[38;5;124;03m\"\"\"\u001b[39;00m\n\u001b[1;32m      6\u001b[0m \u001b[38;5;66;03m# TODO: get the index of col_name\u001b[39;00m\n\u001b[0;32m----> 7\u001b[0m col_idx \u001b[38;5;241m=\u001b[39m \u001b[43mcsv220_header\u001b[49m\u001b[38;5;241m.\u001b[39mindex(col_name)\n\u001b[1;32m      9\u001b[0m \u001b[38;5;66;03m# TODO: get the value of cs220_data at the specified cell\u001b[39;00m\n\u001b[1;32m     10\u001b[0m val \u001b[38;5;241m=\u001b[39m cs220_data[row_idx][col_idx]\n",
      "\u001b[0;31mNameError\u001b[0m: name 'csv220_header' is not defined"
     ]
    }
   ],
   "source": [
    "computer_majors = find_majors(\"Computer\")\n",
    "science_majors = find_majors(\"Science\")\n",
    "\n",
    "computer_and_science_majors = computer_majors + science_majors\n",
    "# TODO: Now find just the unique values\n",
    "computer_and_science_majors = list(set(computer_and_science_majors))\n",
    "computer_and_science_majors"
   ]
  },
  {
   "cell_type": "markdown",
   "id": "64fd0945",
   "metadata": {},
   "source": [
    "### Order the `major` that contain **either** `\"Computer\"` **or** `\"Science\"` using ascending order."
   ]
  },
  {
   "cell_type": "code",
   "execution_count": null,
   "id": "efcdf514",
   "metadata": {},
   "outputs": [],
   "source": [
    "# VERSION 1\n",
    "# Be very careful: if you use sorted, make sure your return value \n",
    "# variable matches with the variable for that project question\n",
    "sorted_computer_and_science_majors = sorted(computer_and_science_majors)\n",
    "sorted_computer_and_science_majors"
   ]
  },
  {
   "cell_type": "code",
   "execution_count": null,
   "id": "c28e77ce",
   "metadata": {},
   "outputs": [],
   "source": [
    "# VERSION 2\n",
    "computer_and_science_majors.sort()\n",
    "computer_and_science_majors"
   ]
  },
  {
   "cell_type": "markdown",
   "id": "e354b781",
   "metadata": {},
   "source": [
    "### Order the `major` that contain **either** `\"Computer\"` **or** `\"Science\"` using descending order."
   ]
  },
  {
   "cell_type": "code",
   "execution_count": null,
   "id": "ca887135",
   "metadata": {},
   "outputs": [],
   "source": [
    "# VERSION 1\n",
    "# Be very careful: if you use sorted, make sure your return value \n",
    "# variable matches with the variable for that project question\n",
    "reverse_sorted_computer_and_science_majors = sorted(computer_and_science_majors, reverse = ???)\n",
    "reverse_sorted_computer_and_science_majors"
   ]
  },
  {
   "cell_type": "code",
   "execution_count": null,
   "id": "b6c61532",
   "metadata": {},
   "outputs": [],
   "source": [
    "# VERSION 2\n",
    "computer_and_science_majors.sort(reverse = ???)\n",
    "computer_and_science_majors"
   ]
  },
  {
   "cell_type": "markdown",
   "id": "2862160c",
   "metadata": {},
   "source": [
    "### For `major` containing `\"other\"`, extract the details that come after `\"|\"`."
   ]
  },
  {
   "cell_type": "code",
   "execution_count": 82,
   "id": "600fae6c",
   "metadata": {},
   "outputs": [
    {
     "ename": "NameError",
     "evalue": "name 'csv220_header' is not defined",
     "output_type": "error",
     "traceback": [
      "\u001b[0;31m---------------------------------------------------------------------------\u001b[0m",
      "\u001b[0;31mNameError\u001b[0m                                 Traceback (most recent call last)",
      "Input \u001b[0;32mIn [82]\u001b[0m, in \u001b[0;36m<cell line: 1>\u001b[0;34m()\u001b[0m\n\u001b[0;32m----> 1\u001b[0m other_majors \u001b[38;5;241m=\u001b[39m \u001b[43mfind_majors\u001b[49m\u001b[43m(\u001b[49m\u001b[38;5;124;43m\"\u001b[39;49m\u001b[38;5;124;43mother\u001b[39;49m\u001b[38;5;124;43m\"\u001b[39;49m\u001b[43m)\u001b[49m\n\u001b[1;32m      2\u001b[0m other_major_details \u001b[38;5;241m=\u001b[39m []\n\u001b[1;32m      4\u001b[0m \u001b[38;5;28;01mfor\u001b[39;00m other \u001b[38;5;129;01min\u001b[39;00m other_majors:\n",
      "Input \u001b[0;32mIn [78]\u001b[0m, in \u001b[0;36mfind_majors\u001b[0;34m(phrase)\u001b[0m\n\u001b[1;32m      8\u001b[0m \u001b[38;5;66;03m# TODO: iterate over row indices\u001b[39;00m\n\u001b[1;32m      9\u001b[0m \u001b[38;5;28;01mfor\u001b[39;00m row_idx \u001b[38;5;129;01min\u001b[39;00m \u001b[38;5;28mrange\u001b[39m(\u001b[38;5;28mlen\u001b[39m(cs220_data)):\n\u001b[0;32m---> 10\u001b[0m     major \u001b[38;5;241m=\u001b[39m \u001b[43mcell\u001b[49m\u001b[43m(\u001b[49m\u001b[43mrow_idx\u001b[49m\u001b[43m,\u001b[49m\u001b[43m \u001b[49m\u001b[38;5;124;43m\"\u001b[39;49m\u001b[38;5;124;43mMajor\u001b[39;49m\u001b[38;5;124;43m\"\u001b[39;49m\u001b[43m)\u001b[49m\n\u001b[1;32m     12\u001b[0m     \u001b[38;5;66;03m# TODO: write the actual logic here\u001b[39;00m\n\u001b[1;32m     13\u001b[0m     \u001b[38;5;28;01mif\u001b[39;00m phrase\u001b[38;5;241m.\u001b[39mlower() \u001b[38;5;129;01min\u001b[39;00m major\u001b[38;5;241m.\u001b[39mlower():\n",
      "Input \u001b[0;32mIn [70]\u001b[0m, in \u001b[0;36mcell\u001b[0;34m(row_idx, col_name)\u001b[0m\n\u001b[1;32m      2\u001b[0m \u001b[38;5;124;03m\"\"\"\u001b[39;00m\n\u001b[1;32m      3\u001b[0m \u001b[38;5;124;03mReturns the data value (cell) corresponding to the row index and \u001b[39;00m\n\u001b[1;32m      4\u001b[0m \u001b[38;5;124;03mthe column name of a CSV file.\u001b[39;00m\n\u001b[1;32m      5\u001b[0m \u001b[38;5;124;03m\"\"\"\u001b[39;00m\n\u001b[1;32m      6\u001b[0m \u001b[38;5;66;03m# TODO: get the index of col_name\u001b[39;00m\n\u001b[0;32m----> 7\u001b[0m col_idx \u001b[38;5;241m=\u001b[39m \u001b[43mcsv220_header\u001b[49m\u001b[38;5;241m.\u001b[39mindex(col_name)\n\u001b[1;32m      9\u001b[0m \u001b[38;5;66;03m# TODO: get the value of cs220_data at the specified cell\u001b[39;00m\n\u001b[1;32m     10\u001b[0m val \u001b[38;5;241m=\u001b[39m cs220_data[row_idx][col_idx]\n",
      "\u001b[0;31mNameError\u001b[0m: name 'csv220_header' is not defined"
     ]
    }
   ],
   "source": [
    "other_majors = find_majors(\"other\")\n",
    "other_major_details = []\n",
    "\n",
    "for other in other_majors:\n",
    "    details = other.split(\"|\")\n",
    "    print(details)\n",
    "    if len(details) > 1:\n",
    "        other_major_details.append(details[1])\n",
    "    \n",
    "    # TODO: complete the rest of the logic\n",
    "        \n",
    "other_major_details"
   ]
  },
  {
   "cell_type": "markdown",
   "id": "31a381fe",
   "metadata": {},
   "source": [
    "## Self-practice"
   ]
  },
  {
   "cell_type": "markdown",
   "id": "fe5b9303",
   "metadata": {},
   "source": [
    "### Function: `find_fav_locations_within(lat_min, lat_max, long_min, long_max)` "
   ]
  },
  {
   "cell_type": "code",
   "execution_count": null,
   "id": "f8443ad2",
   "metadata": {},
   "outputs": [],
   "source": [
    "def find_fav_locations_within(lat_min, lat_max, long_min, long_max):\n",
    "    \"\"\"\n",
    "    find_prices_within(lat_min, lat_max, long_min, long_max) returns a nested list.\n",
    "    First inner list contains latitudes of favourite places within the geographical \n",
    "    location between and including\n",
    "    the latitudes lat_min and lat_max and longitudes long_min and long_max.\n",
    "    Second inner list contains longitudes of favourite places within the geographical \n",
    "    location between and including\n",
    "    the latitudes lat_min and lat_max and longitudes long_min and long_max.\n",
    "    \"\"\"\n",
    "    pass"
   ]
  },
  {
   "cell_type": "markdown",
   "id": "4e0d63eb",
   "metadata": {},
   "source": [
    "### What are the favourite places within United States?\n",
    "\n",
    "```\n",
    "top = 49.3457868 # north lat\n",
    "bottom =  24.7433195 # south lat\n",
    "left = -124.7844079 # west long\n",
    "right = -66.9513812 # east long\n",
    "```"
   ]
  },
  {
   "cell_type": "markdown",
   "id": "8ac26620",
   "metadata": {},
   "source": [
    "### How many students are both a procrastinator and a pet owner?"
   ]
  },
  {
   "cell_type": "markdown",
   "id": "172141ea",
   "metadata": {},
   "source": [
    "### What percentage of 18-year-olds have their major declared as \"Other\"?"
   ]
  },
  {
   "cell_type": "markdown",
   "id": "d9a7a2b1",
   "metadata": {},
   "source": [
    "### How old is the oldest basil/spinach-loving Business major?"
   ]
  },
  {
   "cell_type": "code",
   "execution_count": null,
   "id": "5fcc04f2",
   "metadata": {},
   "outputs": [],
   "source": []
  }
 ],
 "metadata": {
  "kernelspec": {
   "display_name": "Python 3 (ipykernel)",
   "language": "python",
   "name": "python3"
  },
  "language_info": {
   "codemirror_mode": {
    "name": "ipython",
    "version": 3
   },
   "file_extension": ".py",
   "mimetype": "text/x-python",
   "name": "python",
   "nbconvert_exporter": "python",
   "pygments_lexer": "ipython3",
   "version": "3.9.12"
  }
 },
 "nbformat": 4,
 "nbformat_minor": 5
}
