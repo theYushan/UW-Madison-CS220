{
 "cells": [
  {
   "cell_type": "markdown",
   "id": "1d888215",
   "metadata": {},
   "source": [
    "# JSON"
   ]
  },
  {
   "cell_type": "markdown",
   "id": "7ccf358c",
   "metadata": {},
   "source": [
    "### Learning Objectives:\n",
    "- Interpret JSON formatted data and recognize differences between JSON and Python\n",
    "- Deserialize data from JSON for use in Python programs (read)\n",
    "- Serialize data into JSON for long term storage (write) "
   ]
  },
  {
   "cell_type": "code",
   "execution_count": 1,
   "id": "5990f3d6",
   "metadata": {},
   "outputs": [],
   "source": [
    "import csv\n",
    "\n",
    "# TODO: import json module\n"
   ]
  },
  {
   "cell_type": "code",
   "execution_count": 2,
   "id": "5662ace1",
   "metadata": {},
   "outputs": [],
   "source": [
    "# Deserialize\n",
    "def read_json(path):\n",
    "    with open(path, encoding = \"utf-8\") as f: # f is a varaible \n",
    "        return json.load(f)                 # f represents data in the JSON file (dict, list, etc)\n",
    "    \n",
    "# Serialize\n",
    "def write_json(path, data):\n",
    "    with open(path, 'w', encoding = \"utf-8\") as f:\n",
    "        json.dump(data, f, indent = 2)"
   ]
  },
  {
   "cell_type": "markdown",
   "id": "a35312c9",
   "metadata": {},
   "source": [
    "### Example 1: Sum of numbers (simple JSON)"
   ]
  },
  {
   "cell_type": "code",
   "execution_count": 3,
   "id": "d241dc5c",
   "metadata": {},
   "outputs": [
    {
     "name": "stdout",
     "output_type": "stream",
     "text": [
      "Enter the JSON file name: numsA.json\n",
      "<class 'list'>\n",
      "10\n"
     ]
    }
   ],
   "source": [
    "# TODO 1: Create a new \"numsA.json\".\n",
    "#         Add the list [1, 2, 3, 4] to \"numsA.json\" file.\n",
    "#         Use jupyter notebook to create and edit the new file\n",
    "\n",
    "# TODO 2: Use input built-in function go get JSON file name from user\n",
    "#         Read the JSON file using read_json; capture return value into a variable\n",
    "\n",
    "# TODO 3: Print type of data returned by function that reads JSON file.\n",
    "\n",
    "# TODO 4: Using Python built-in function sum(...), calculate total of numbers in numsA.json, print the total.\n",
    "\n",
    "# TODO 5: Create a new JSON file \"numsB.json\" and try out the following data:\n",
    "#         [-1, 10, 4,]\n",
    "#         Does that work?\n",
    "#         Change the data to [-1, 10, 4] and try to run the program by providing input as numsB.json\n",
    "\n",
    "# TODO 6: Create a new JSON file \"simple.json\" and try out the following data.\n",
    "#         What kind of error do you get with this?\n",
    "#         Fix the error by commenting the line of code that causes the error!\n",
    "#         3.14\n",
    "#         True\n",
    "#         true\n",
    "#         'hello'\n",
    "#         \"hello\"\n"
   ]
  },
  {
   "cell_type": "markdown",
   "id": "e830f23f",
   "metadata": {},
   "source": [
    "### Example 2: Score Tracker"
   ]
  },
  {
   "cell_type": "code",
   "execution_count": 4,
   "id": "10e00558",
   "metadata": {},
   "outputs": [
    {
     "name": "stdout",
     "output_type": "stream",
     "text": [
      "Enter player name and score: Viyan 40\n",
      "{'Meena': [20, 10, 10], 'Viyan': [40, 50, 70, 40, 50, 40], 'Rogers': [10, 40]}\n",
      "Average score for Viyan is 48.333333333333336.\n"
     ]
    }
   ],
   "source": [
    "player_details = input(\"Enter player name and score: \")\n",
    "# TODO 1: extract player name and score into variables\n",
    "\n",
    "\n",
    "# TODO 2: Define an empty \"scores\" dictionary to keep track of players'\n",
    "#         scores.\n",
    "#         KEY: player name VALUE: player scores list\n",
    "\n",
    "input_file = \"score_history.json\"\n",
    "\n",
    "\n",
    "# TODO 3: Check if player name is a key in the scores dictionary.\n",
    "#         If not, create a new key for player name and value as empty list\n",
    "#         to keep track of that player's scores.\n",
    "\n",
    "\n",
    "\n",
    "# TODO 4: Add player's score to the player's list in scores dictionary\n",
    "\n",
    "\n",
    "# TODO 5: Create a \"score_history.json\" file and popluate that file with\n",
    "#         empty dictionary {}\n",
    "\n",
    "# TODO 6: Read \"score_history.json\" to populate initial \"scores\" dict, \n",
    "#         instead of the empty dict created in TODO 2.\n",
    "\n",
    "# TODO 7: Calculate average score for that player\n",
    "# print(\"Average score for {} is {}.\"???)\n",
    "\n",
    "# TODO 8: At the end of the program, write the updated scores from dict\n",
    "#         into the \"score_history.json\" file\n",
    "\n",
    "# That's it, now you have a program that helps you keep track \n",
    "# of player scores permanently."
   ]
  },
  {
   "cell_type": "markdown",
   "id": "b920d6e0",
   "metadata": {},
   "source": [
    "### Example 3: Kiva.com Micro-lending site\n",
    "Many Web Sites have APIs that allow you to get their data."
   ]
  },
  {
   "cell_type": "code",
   "execution_count": 5,
   "id": "dc891f5a",
   "metadata": {},
   "outputs": [
    {
     "name": "stdout",
     "output_type": "stream",
     "text": [
      "<class 'dict'>\n"
     ]
    },
    {
     "data": {
      "text/plain": [
       "{'data': {'lend': {'loans': {'values': [{'name': 'Polikseni',\n",
       "      'description': \"Polikseni is 70 years old and married. She and her husband are both retired and their main income is a retirement pension of $106 a month for Polikseni and disability income for her husband of $289 a month. <br /><br />Polikseni's husband, even though disabled, works in a very small shop as a watchmaker on short hours, just to provide additional income for his family and to feel useful. Polikseni's husband needs constant medical treatment due to his health problems. She requested another loan, which she will use to continue paying for the therapy her husband needs. With a part of the loan, she is going to pay the remainder of the previous loan.\",\n",
       "      'loanAmount': '1325.00',\n",
       "      'geocode': {'city': 'Korce',\n",
       "       'country': {'name': 'Albania',\n",
       "        'region': 'Eastern Europe',\n",
       "        'fundsLentInCountry': 9051250}}},\n",
       "     {'name': 'Safarmo',\n",
       "      'description': \"Safarmo is 47 years old. She lives with her husband and her children in Khuroson district. <br /><br />Safarmo is a seamstress. She has been engaged in sewing for 10 years. She learned this activity with help of her mother and elder sister. <br /><br />Safarmo's sewing machine is old and she cannot work well. Her difficulty is lack of money. That’s why she applied for a loan to buy a new modern sewing machine. <br /><br />Safarmo needs your support.\",\n",
       "      'loanAmount': '1075.00',\n",
       "      'geocode': {'city': 'Khuroson',\n",
       "       'country': {'name': 'Tajikistan',\n",
       "        'region': 'Asia',\n",
       "        'fundsLentInCountry': 64243075}}},\n",
       "     {'name': 'Elizabeth',\n",
       "      'description': 'Elizabeth is a mom blessed with five lovely children, who are her greatest motivation in life.  She lives in the Natuu area of Kenya.  Elizabeth is one of the most hardworking women in sub-Saharan Africa.  Being a mother and living in a poor country has never been an excuse for Elizabeth, who has practiced mixed farming for the past few years.<br /><br />The cultural expectations in her area contribute to the notion that men should support their families.  However, Elizabeth works independently for the success of her children.  She perseveres because she wants to provide a better future for them.<br /><br />Elizabeth  has always loved farming. She is a very proud farmer and enjoys milking her dairy cows.  Elizabeth keeps poultry and grows crops, but she has not been making a good profit because of poor farming inputs. <br /><br />Elizabeth will use this loan to buy farm inputs and purchase high-quality seeds and good fertilizer to improve her crop production.  Modern farming requires the use of modern techniques, and, therefore, using high-quality seeds will assure her of a bumper harvest and increased profit levels.<br /><br />Elizabeth  is very visionary.  Her goal for the season is to boost her crop production over the previous year.',\n",
       "      'loanAmount': '800.00',\n",
       "      'geocode': {'city': 'Matuu',\n",
       "       'country': {'name': 'Kenya',\n",
       "        'region': 'Africa',\n",
       "        'fundsLentInCountry': 120841775}}},\n",
       "     {'name': 'Ester',\n",
       "      'description': 'Ester believes that this year is her year of prosperity. Ester is a hardworking, progressive and honest farmer from a very remote village in the Kitale area of Kenya. This area is very fertile, with favorable weather patterns that support farming activities. Ester is happily married and the proud mother of lovely children. Together, they live on a small piece of land that she really treasures. Her primary sources of income are eggs and milk.<br /><br />Although this humble and industrious mother makes a profit, she faces the challenge of not being able to produce enough to meet the readily available market. Therefore, she is seeking funds from Kiva lenders to buy farm inputs such as good fertilizer and good-quality seeds. Through this loan, Ester should double her production, and this will translate into increased income. She then intends to save more money in the future so that she can develop her farming.<br /><br />One objective that Juhudi Kilimo aims at fulfilling is increasing the ease of accessing farm inputs and income-generating assets for farmers. Through the intervention of Juhudi Kilimo and Kiva, inputs such as fertilizers and pesticides have become more accessible to its members than buying a bottle of water. Ester is very optimistic and believes this loan will change her life completely.',\n",
       "      'loanAmount': '275.00',\n",
       "      'geocode': {'city': 'Kitale',\n",
       "       'country': {'name': 'Kenya',\n",
       "        'region': 'Africa',\n",
       "        'fundsLentInCountry': 120841775}}},\n",
       "     {'name': 'Cherifa',\n",
       "      'description': 'Cherifa is married, 57 years old with two children. She caters and also sells the local drink. She asks for credit to buy the necessities, in particular bags of anchovies, bags of maize and bundles of firewood. She wants to have enough income to run the house well.',\n",
       "      'loanAmount': '875.00',\n",
       "      'geocode': {'city': 'Agoe',\n",
       "       'country': {'name': 'Togo',\n",
       "        'region': 'Africa',\n",
       "        'fundsLentInCountry': 13719125}}}]}}}}"
      ]
     },
     "execution_count": 5,
     "metadata": {},
     "output_type": "execute_result"
    }
   ],
   "source": [
    "# TODO: read \"kiva.json\"\n",
    "\n",
    "# TODO: explore the type of the data structure returned by read_json\n"
   ]
  },
  {
   "cell_type": "markdown",
   "id": "e29310b6",
   "metadata": {},
   "source": [
    "How to explore an unknown JSON?\n",
    "- If you run into a `dict`, try `.keys()` method to look at the keys of the dictionary, then use lookup process to explore further\n",
    "- If you run into a `list`, iterate over the list and print each item"
   ]
  },
  {
   "cell_type": "code",
   "execution_count": 6,
   "id": "31fe630f",
   "metadata": {},
   "outputs": [
    {
     "name": "stdout",
     "output_type": "stream",
     "text": [
      "['data']\n",
      "<class 'dict'>\n"
     ]
    }
   ],
   "source": [
    "\n",
    "\n",
    "# TODO: lookup the value corresponding to the key data\n",
    "\n",
    "# TODO: you know what to do next ... explore type again\n"
   ]
  },
  {
   "cell_type": "code",
   "execution_count": 7,
   "id": "e09b064f",
   "metadata": {},
   "outputs": [
    {
     "name": "stdout",
     "output_type": "stream",
     "text": [
      "['lend']\n",
      "['loans']\n",
      "['values']\n"
     ]
    }
   ],
   "source": []
  },
  {
   "cell_type": "code",
   "execution_count": 8,
   "id": "b6cb9c28",
   "metadata": {},
   "outputs": [
    {
     "name": "stdout",
     "output_type": "stream",
     "text": [
      "Borrower name: Polikseni\n",
      "Loan amount: $1325.00\n",
      "Country details: {'name': 'Albania', 'region': 'Eastern Europe', 'fundsLentInCountry': 9051250}\n",
      "------------------------------------------------------------------------------------------------\n",
      "Borrower name: Safarmo\n",
      "Loan amount: $1075.00\n",
      "Country details: {'name': 'Tajikistan', 'region': 'Asia', 'fundsLentInCountry': 64243075}\n",
      "------------------------------------------------------------------------------------------------\n",
      "Borrower name: Elizabeth\n",
      "Loan amount: $800.00\n",
      "Country details: {'name': 'Kenya', 'region': 'Africa', 'fundsLentInCountry': 120841775}\n",
      "------------------------------------------------------------------------------------------------\n",
      "Borrower name: Ester\n",
      "Loan amount: $275.00\n",
      "Country details: {'name': 'Kenya', 'region': 'Africa', 'fundsLentInCountry': 120841775}\n",
      "------------------------------------------------------------------------------------------------\n",
      "Borrower name: Cherifa\n",
      "Loan amount: $875.00\n",
      "Country details: {'name': 'Togo', 'region': 'Africa', 'fundsLentInCountry': 13719125}\n",
      "------------------------------------------------------------------------------------------------\n"
     ]
    }
   ],
   "source": [
    "# TODO: iterate over loans_list and print every borrower's name, loan amount and country details\n",
    "\n",
    "???\n",
    "    \n",
    "    print(\"Borrower name:\", borrower_name)\n",
    "\n",
    "    print(\"Loan amount: $\", loan_amount, sep = \"\")\n",
    "\n",
    "    print(\"Country details:\", country_details)\n",
    "    print(\"------------------------------------------------------------------------------------------------\")"
   ]
  },
  {
   "cell_type": "markdown",
   "id": "26b4c70c",
   "metadata": {},
   "source": [
    "### Let's write student information dataset into various JSON files"
   ]
  },
  {
   "cell_type": "code",
   "execution_count": 9,
   "id": "c120d0eb",
   "metadata": {},
   "outputs": [],
   "source": [
    "# inspired by https://automatetheboringstuff.com/2e/chapter16/\n",
    "def process_csv(filename):\n",
    "    exampleFile = open(filename, encoding=\"utf-8\")  \n",
    "    exampleReader = csv.reader(exampleFile) \n",
    "    exampleData = list(exampleReader)        \n",
    "    exampleFile.close()  \n",
    "    return exampleData\n",
    "\n",
    "survey_data = process_csv('cs220_survey_data.csv')\n",
    "cs220_header = survey_data[0]\n",
    "cs220_data = survey_data[1:]"
   ]
  },
  {
   "cell_type": "code",
   "execution_count": 10,
   "id": "47cb92e9",
   "metadata": {},
   "outputs": [],
   "source": [
    "def cell(row_idx, col_name):\n",
    "    \"\"\"\n",
    "    Returns the data value (cell) corresponding to the row index and \n",
    "    the column name of a CSV file.\n",
    "    \"\"\"\n",
    "    col_idx = cs220_header.index(col_name) \n",
    "    val = cs220_data[row_idx][col_idx]  \n",
    "    \n",
    "    # handle missing values, by returning None\n",
    "    if val == '':\n",
    "        return None\n",
    "    \n",
    "    # handle type conversions\n",
    "    if col_name in [\"Age\",]:\n",
    "        return int(val)\n",
    "    \n",
    "    return val"
   ]
  },
  {
   "cell_type": "code",
   "execution_count": 11,
   "id": "9a84cfb8",
   "metadata": {},
   "outputs": [],
   "source": [
    "def bucketize(bucket_column):\n",
    "    \"\"\"\n",
    "    generates and returns bucketized data based on bucket_column\n",
    "    \"\"\"\n",
    "    # Key: unique bucketize column value; Value: list of lists (rows having that unique column value)\n",
    "    buckets = dict()\n",
    "    for row_idx in range(len(cs220_data)):\n",
    "        row = cs220_data[row_idx]\n",
    "        col_value = cell(row_idx, bucket_column)\n",
    "        if col_value not in buckets:\n",
    "            # create a new bucket when there is no existing bucket\n",
    "            buckets[col_value] = []\n",
    "        buckets[col_value].append(row)\n",
    "        \n",
    "    return buckets\n",
    "\n",
    "# TODO: create lecture based buckets and store result into lecture_buckets\n",
    "\n",
    "# TODO: What is the type of lec_buckets? A ______ of _________\n",
    "\n",
    "# TODO: write lec_buckets into a JSON file called \"lecture_cs220_data.json\"\n",
    "\n",
    "# TODO: create major based buckets and store result into major_buckets\n",
    "\n",
    "# TODO: write major_buckets into a JSON file called \"major_cs220_data.json\"\n"
   ]
  },
  {
   "cell_type": "code",
   "execution_count": 12,
   "id": "f36a584a",
   "metadata": {},
   "outputs": [],
   "source": [
    "def transform(header, data):\n",
    "    \"\"\"\n",
    "    Transform data into a list of dictionaries\n",
    "    \"\"\"\n",
    "    transformed_data = [] #should be defined outside the for loop, because it stores the entire data\n",
    "    for row in data:\n",
    "        #should be defined inside the for loop, because it represents one row as a dictionary\n",
    "        row_dict = {} # Key: header; Value: data\n",
    "        for idx in range(len(row)):\n",
    "            row_dict[header[idx]] = row[idx]\n",
    "        transformed_data.append(row_dict)\n",
    "    return transformed_data\n",
    "    \n",
    "transformed_data = transform(cs220_header, cs220_data)\n",
    "\n",
    "# TODO: What is the type of transformed_data? A ______ of _________\n",
    "\n",
    "# TODO: write transformed_data into a JSON file called \"cs220_survey_data.json\"\n"
   ]
  },
  {
   "cell_type": "markdown",
   "id": "5279cdab",
   "metadata": {},
   "source": [
    "### Self-practice: explore real-world JSON\n",
    "\n",
    "### Weather for UW-Madison campus"
   ]
  },
  {
   "cell_type": "code",
   "execution_count": null,
   "id": "7a4efc8c",
   "metadata": {},
   "outputs": [],
   "source": [
    "# TODO: read \"weather.json\"\n",
    "\n",
    "# TODO: explore the type of the data structure returned by read_json\n",
    "\n",
    "# display the data from \"weather.json\"\n"
   ]
  },
  {
   "cell_type": "code",
   "execution_count": null,
   "id": "c1b98641",
   "metadata": {},
   "outputs": [],
   "source": [
    "# TODO: display the keys of the weather.json dict\n",
    "\n",
    "# TODO: lookup the value corresponding to the 'properties'\n",
    "\n",
    "# TODO: you know what to do next ... explore type again\n"
   ]
  },
  {
   "cell_type": "code",
   "execution_count": null,
   "id": "ca457052",
   "metadata": {},
   "outputs": [],
   "source": [
    "# TODO: display the keys of the properties dict\n",
    "\n",
    "# TODO: lookup the value corresponding to the 'periods'\n",
    "\n",
    "# TODO: you know what to do next ... explore type again\n"
   ]
  },
  {
   "cell_type": "code",
   "execution_count": null,
   "id": "34f6dfa4",
   "metadata": {},
   "outputs": [],
   "source": [
    "# TODO: extract periods list into a variable\n",
    "\n",
    "# TODO: iterate over loans_list and print every periods's startTime, endTime, temperature, and temperatureUnit\n",
    "for period_dict in periods_list:\n",
    "\n",
    "    print(\"Start time:\", start_time)\n",
    "\n",
    "    print(\"End time:\", end_time)\n",
    "\n",
    "    \n",
    "    print(\"Temperature: {} degree {}\".format(temperature, temperature_unit))\n",
    "    print(\"------------------------------------------------------------------------------------------------\")"
   ]
  }
 ],
 "metadata": {
  "kernelspec": {
   "display_name": "Python 3 (ipykernel)",
   "language": "python",
   "name": "python3"
  },
  "language_info": {
   "codemirror_mode": {
    "name": "ipython",
    "version": 3
   },
   "file_extension": ".py",
   "mimetype": "text/x-python",
   "name": "python",
   "nbconvert_exporter": "python",
   "pygments_lexer": "ipython3",
   "version": "3.9.12"
  }
 },
 "nbformat": 4,
 "nbformat_minor": 5
}
