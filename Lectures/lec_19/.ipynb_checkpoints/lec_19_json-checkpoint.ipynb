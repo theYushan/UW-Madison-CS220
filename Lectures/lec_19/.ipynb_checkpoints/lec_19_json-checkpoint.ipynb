{
 "cells": [
  {
   "cell_type": "markdown",
   "id": "1d888215",
   "metadata": {},
   "source": [
    "# JSON"
   ]
  },
  {
   "cell_type": "markdown",
   "id": "7ccf358c",
   "metadata": {},
   "source": [
    "### Learning Objectives:\n",
    "- Interpret JSON formatted data and recognize differences between JSON and Python\n",
    "- Deserialize data from JSON for use in Python programs (read)\n",
    "- Serialize data into JSON for long term storage (write) "
   ]
  },
  {
   "cell_type": "code",
   "execution_count": 1,
   "id": "5990f3d6",
   "metadata": {},
   "outputs": [],
   "source": [
    "import csv\n",
    "\n",
    "# TODO: import json module\n",
    "import json"
   ]
  },
  {
   "cell_type": "code",
   "execution_count": 2,
   "id": "5662ace1",
   "metadata": {},
   "outputs": [],
   "source": [
    "# Deserialize\n",
    "def read_json(path):\n",
    "    with open(path, encoding = \"utf-8\") as f: # f is a varaible \n",
    "        return json.load(f)                 # f represents data in the JSON file (dict, list, etc)\n",
    "    \n",
    "# Serialize\n",
    "def write_json(path, data):\n",
    "    with open(path, 'w', encoding = \"utf-8\") as f:\n",
    "        json.dump(data, f, indent = 2)"
   ]
  },
  {
   "cell_type": "markdown",
   "id": "a35312c9",
   "metadata": {},
   "source": [
    "### Example 1: Sum of numbers (simple JSON)"
   ]
  },
  {
   "cell_type": "code",
   "execution_count": null,
   "id": "d241dc5c",
   "metadata": {},
   "outputs": [],
   "source": [
    "# TODO 1: Create a new \"numsA.json\".\n",
    "#         Add the list [1, 2, 3, 4] to \"numsA.json\" file.\n",
    "#         Use jupyter notebook to create and edit the new file\n",
    "\n",
    "# TODO 2: Use input built-in function go get JSON file name from user\n",
    "#         Read the JSON file using read_json; capture return value into a variable\n",
    "data = read_json(input(\"Enter the JSON file name: \"))\n",
    "\n",
    "# TODO 3: Print type of data returned by function that reads JSON file.\n",
    "print(type(data))\n",
    "\n",
    "# TODO 4: Using Python built-in function sum(...), calculate total of numbers in numsA.json, print the total.\n",
    "print(sum(data))\n",
    "\n",
    "# TODO 5: Create a new JSON file \"numsB.json\" and try out the following data:\n",
    "#         [-1, 10, 4,]\n",
    "#         Does that work?\n",
    "#         Change the data to [-1, 10, 4] and try to run the program by providing input as numsB.json\n",
    "\n",
    "# TODO 6: Create a new JSON file \"simple.json\" and try out the following data.\n",
    "#         What kind of error do you get with this?\n",
    "#         Fix the error by commenting the line of code that causes the error!\n",
    "#         3.14\n",
    "#         True\n",
    "#         true\n",
    "#         'hello'\n",
    "#         \"hello\"\n"
   ]
  },
  {
   "cell_type": "markdown",
   "id": "e830f23f",
   "metadata": {},
   "source": [
    "### Example 2: Score Tracker"
   ]
  },
  {
   "cell_type": "code",
   "execution_count": null,
   "id": "10e00558",
   "metadata": {},
   "outputs": [],
   "source": [
    "player_details = input(\"Enter player name and score: \")\n",
    "# TODO 1: extract player name and score into variables\n",
    "player_name, player_score = player_details.split(\" \")\n",
    "player_score = int(player_score)\n",
    "\n",
    "# TODO 2: Define an empty \"scores\" dictionary to keep track of players'\n",
    "#         scores.\n",
    "#         KEY: player name VALUE: player scores list\n",
    "\n",
    "input_file = \"score_history.json\"\n",
    "scores = read_json(input_file) # updated code after TODO 6\n",
    "\n",
    "# TODO 3: Check if player name is a key in the scores dictionary.\n",
    "#         If not, create a new key for player name and value as empty list\n",
    "#         to keep track of that player's scores.\n",
    "\n",
    "if player_name not in scores:\n",
    "    scores[player_name] = []\n",
    "\n",
    "# TODO 4: Add player's score to the player's list in scores dictionary\n",
    "scores[player_name].append(player_score)\n",
    "print(scores)\n",
    "\n",
    "# TODO 5: Create a \"score_history.json\" file and popluate that file with\n",
    "#         empty dictionary {}\n",
    "\n",
    "# TODO 6: Read \"score_history.json\" to populate initial \"scores\" dict, \n",
    "#         instead of the empty dict created in TODO 2.\n",
    "\n",
    "# TODO 7: Calculate average score for that player\n",
    "print(\"Average score for {} is {}.\".format(player_name, sum(scores[player_name]) / len(scores[player_name])))\n",
    "\n",
    "# TODO 8: At the end of the program, write the updated scores from dict\n",
    "#         into the \"score_history.json\" file\n",
    "\n",
    "write_json(input_file, scores)\n",
    "\n",
    "# That's it, now you have a program that helps you keep track \n",
    "# of player scores permanently."
   ]
  },
  {
   "cell_type": "markdown",
   "id": "b920d6e0",
   "metadata": {},
   "source": [
    "### Example 3: Kiva.com Micro-lending site\n",
    "Many Web Sites have APIs that allow you to get their data."
   ]
  },
  {
   "cell_type": "code",
   "execution_count": null,
   "id": "dc891f5a",
   "metadata": {},
   "outputs": [],
   "source": [
    "# TODO: read \"kiva.json\"\n",
    "kiva_data = read_json('kiva.json')\n",
    "\n",
    "# TODO: explore the type of the data structure returned by read_json\n",
    "print(type(kiva_data))\n",
    "\n",
    "# kiva_data # uncomment to see the whole JSON"
   ]
  },
  {
   "cell_type": "markdown",
   "id": "e29310b6",
   "metadata": {},
   "source": [
    "How to explore an unknown JSON?\n",
    "- If you run into a `dict`, try `.keys()` method to look at the keys of the dictionary, then use lookup process to explore further\n",
    "- If you run into a `list`, iterate over the list and print each item"
   ]
  },
  {
   "cell_type": "code",
   "execution_count": null,
   "id": "31fe630f",
   "metadata": {},
   "outputs": [],
   "source": [
    "print(list(kiva_data.keys()))\n",
    "\n",
    "# TODO: lookup the value corresponding to the key\n",
    "kiva_data[\"data\"]\n",
    "\n",
    "# TODO: you know what to do next ... explore type again\n",
    "print(type(kiva_data[\"data\"]))"
   ]
  },
  {
   "cell_type": "code",
   "execution_count": null,
   "id": "e09b064f",
   "metadata": {},
   "outputs": [],
   "source": [
    "print(list(kiva_data[\"data\"].keys()))\n",
    "print(list(kiva_data[\"data\"][\"lend\"].keys()))\n",
    "print(list(kiva_data[\"data\"][\"lend\"][\"loans\"].keys()))\n",
    "loans_list = kiva_data[\"data\"][\"lend\"][\"loans\"][\"values\"] # actual information: list of loan dictionaries"
   ]
  },
  {
   "cell_type": "code",
   "execution_count": null,
   "id": "b6cb9c28",
   "metadata": {},
   "outputs": [],
   "source": [
    "# TODO: iterate over loans_list and print every borrower's name, loan amount and country details\n",
    "\n",
    "for loan_dict in loans_list:\n",
    "    borrower_name = loan_dict[\"name\"]\n",
    "    print(\"Borrower name:\", borrower_name)\n",
    "    loan_amount = loan_dict[\"loanAmount\"]\n",
    "    print(\"Loan amount: $\", loan_amount, sep = \"\")\n",
    "    country_details = loan_dict[\"geocode\"][\"country\"]\n",
    "    print(\"Country details:\", country_details)\n",
    "    print(\"------------------------------------------------------------------------------------------------\")"
   ]
  },
  {
   "cell_type": "markdown",
   "id": "26b4c70c",
   "metadata": {},
   "source": [
    "### Let's write student information dataset into various JSON files"
   ]
  },
  {
   "cell_type": "code",
   "execution_count": null,
   "id": "c120d0eb",
   "metadata": {},
   "outputs": [],
   "source": [
    "# inspired by https://automatetheboringstuff.com/2e/chapter16/\n",
    "def process_csv(filename):\n",
    "    exampleFile = open(filename, encoding=\"utf-8\")  \n",
    "    exampleReader = csv.reader(exampleFile) \n",
    "    exampleData = list(exampleReader)        \n",
    "    exampleFile.close()  \n",
    "    return exampleData\n",
    "\n",
    "survey_data = process_csv('cs220_survey_data.csv')\n",
    "cs220_header = survey_data[0]\n",
    "cs220_data = survey_data[1:]"
   ]
  },
  {
   "cell_type": "code",
   "execution_count": null,
   "id": "47cb92e9",
   "metadata": {},
   "outputs": [],
   "source": [
    "def cell(row_idx, col_name):\n",
    "    \"\"\"\n",
    "    Returns the data value (cell) corresponding to the row index and \n",
    "    the column name of a CSV file.\n",
    "    \"\"\"\n",
    "    col_idx = cs220_header.index(col_name) \n",
    "    val = cs220_data[row_idx][col_idx]  \n",
    "    \n",
    "    # handle missing values, by returning None\n",
    "    if val == '':\n",
    "        return None\n",
    "    \n",
    "    # handle type conversions\n",
    "    if col_name in [\"Age\",]:\n",
    "        return int(val)\n",
    "    \n",
    "    return val"
   ]
  },
  {
   "cell_type": "code",
   "execution_count": null,
   "id": "9a84cfb8",
   "metadata": {},
   "outputs": [],
   "source": [
    "def bucketize(bucket_column):\n",
    "    \"\"\"\n",
    "    generates and returns bucketized data based on bucket_column\n",
    "    \"\"\"\n",
    "    # Key: unique bucketize column value; Value: list of lists (rows having that unique column value)\n",
    "    buckets = dict()\n",
    "    for row_idx in range(len(cs220_data)):\n",
    "        row = cs220_data[row_idx]\n",
    "        col_value = cell(row_idx, bucket_column)\n",
    "        if col_value not in buckets:\n",
    "            # create a new bucket when there is no existing bucket\n",
    "            buckets[col_value] = []\n",
    "        buckets[col_value].append(row)\n",
    "        \n",
    "    return buckets\n",
    "\n",
    "# TODO: create lecture based buckets and store result into lecture_buckets\n",
    "lec_buckets = bucketize(\"Lecture\")\n",
    "\n",
    "# TODO: What is the type of lec_buckets? A __dict____ of ___list of lists______\n",
    "\n",
    "# TODO: write lec_buckets into a JSON file called \"lecture_cs220_data.json\"\n",
    "write_json(\"lecture_cs220_data.json\", lec_buckets)\n",
    "\n",
    "# TODO: create major based buckets and store result into major_buckets\n",
    "major_buckets = bucketize(\"Major\")\n",
    "\n",
    "# TODO: write major_buckets into a JSON file called \"major_cs220_data.json\"\n",
    "write_json(\"major_cs220_data.json\", major_buckets)"
   ]
  },
  {
   "cell_type": "code",
   "execution_count": null,
   "id": "f36a584a",
   "metadata": {},
   "outputs": [],
   "source": [
    "def transform(header, data):\n",
    "    \"\"\"\n",
    "    Transform data into a list of dictionaries\n",
    "    \"\"\"\n",
    "    transformed_data = [] #should be defined outside the for loop, because it stores the entire data\n",
    "    for row in data:\n",
    "        #should be defined inside the for loop, because it represents one row as a dictionary\n",
    "        row_dict = {} # Key: header; Value: data\n",
    "        for idx in range(len(row)):\n",
    "            row_dict[header[idx]] = row[idx]\n",
    "        transformed_data.append(row_dict)\n",
    "    return transformed_data\n",
    "    \n",
    "transformed_data = transform(cs220_header, cs220_data)\n",
    "\n",
    "# TODO: What is the type of transformed_data? A __list____ of ___dictionaries______\n",
    "\n",
    "# TODO: write transformed_data into a JSON file called \"cs220_survey_data.json\"\n",
    "write_json(\"cs220_survey_data.json\", transformed_data)"
   ]
  },
  {
   "cell_type": "markdown",
   "id": "834df269",
   "metadata": {},
   "source": [
    "### Self-practice: explore real-world JSON\n",
    "\n",
    "### Weather for UW-Madison campus"
   ]
  },
  {
   "cell_type": "code",
   "execution_count": null,
   "id": "a7daffd0",
   "metadata": {},
   "outputs": [],
   "source": [
    "# TODO: read \"weather.json\"\n",
    "weather_data = read_json('weather.json')\n",
    "\n",
    "# TODO: explore the type of the data structure returned by read_json\n",
    "print(type(weather_data))\n",
    "\n",
    "# display the data from \"weather.json\"\n",
    "# weather_data # uncomment to see the whole JSON"
   ]
  },
  {
   "cell_type": "code",
   "execution_count": null,
   "id": "35c85f25",
   "metadata": {},
   "outputs": [],
   "source": [
    "# TODO: display the keys of the weather.json dict\n",
    "print(list(weather_data.keys()))\n",
    "\n",
    "# TODO: lookup the value corresponding to the 'properties'\n",
    "weather_data[\"properties\"]\n",
    "\n",
    "# TODO: you know what to do next ... explore type again\n",
    "print(type(weather_data[\"properties\"]))"
   ]
  },
  {
   "cell_type": "code",
   "execution_count": null,
   "id": "1ebf2a09",
   "metadata": {},
   "outputs": [],
   "source": [
    "# TODO: display the keys of the properties dict\n",
    "print(list(weather_data[\"properties\"].keys()))\n",
    "\n",
    "# TODO: lookup the value corresponding to the 'periods'\n",
    "# weather_data[\"properties\"][\"periods\"] # uncomment to see the output\n",
    "\n",
    "# TODO: you know what to do next ... explore type again\n",
    "print(type(weather_data[\"properties\"][\"periods\"]))"
   ]
  },
  {
   "cell_type": "code",
   "execution_count": null,
   "id": "5eb0ec1e",
   "metadata": {},
   "outputs": [],
   "source": [
    "# TODO: extract periods list into a variable\n",
    "periods_list = weather_data[\"properties\"][\"periods\"]\n",
    "\n",
    "# TODO: iterate over loans_list and print every periods's startTime, endTime, temperature, and temperatureUnit\n",
    "\n",
    "for period_dict in periods_list:\n",
    "    start_time = period_dict[\"startTime\"]\n",
    "    print(\"Start time:\", start_time)\n",
    "    end_time = period_dict[\"startTime\"]\n",
    "    print(\"End time:\", end_time)\n",
    "    temperature = period_dict[\"temperature\"]\n",
    "    temperature_unit = period_dict[\"temperatureUnit\"]\n",
    "    print(\"Temperature: {} degree {}\".format(temperature, temperature_unit))\n",
    "    print(\"------------------------------------------------------------------------------------------------\")"
   ]
  }
 ],
 "metadata": {
  "kernelspec": {
   "display_name": "Python 3 (ipykernel)",
   "language": "python",
   "name": "python3"
  },
  "language_info": {
   "codemirror_mode": {
    "name": "ipython",
    "version": 3
   },
   "file_extension": ".py",
   "mimetype": "text/x-python",
   "name": "python",
   "nbconvert_exporter": "python",
   "pygments_lexer": "ipython3",
   "version": "3.9.12"
  }
 },
 "nbformat": 4,
 "nbformat_minor": 5
}
