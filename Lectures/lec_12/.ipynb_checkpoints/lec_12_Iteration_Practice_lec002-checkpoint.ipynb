{
 "cells": [
  {
   "cell_type": "markdown",
   "id": "6a76ef95",
   "metadata": {},
   "source": [
    "# Iteration Practice"
   ]
  },
  {
   "cell_type": "markdown",
   "id": "103da70b",
   "metadata": {},
   "source": [
    "## Learning Objectives\n",
    "\n",
    "- Iterate through a dataset using for idx in range(project.count())\n",
    "- Compute the frequency of data that meets a certain criteria\n",
    "- Find the maximum or minimum value of a numeric column in a dataset\n",
    "    - Handle missing numeric values when computing a maximum / minimum\n",
    "    - Use the index of a maximum or minimum to access other information about that data item\n",
    "- Use break and continue in for loops when processing a dataset\n",
    "- Trace the output of a nested loop algorithm that prints out a game grid"
   ]
  },
  {
   "cell_type": "code",
   "execution_count": 5,
   "id": "28961628",
   "metadata": {},
   "outputs": [],
   "source": [
    "import project"
   ]
  },
  {
   "cell_type": "code",
   "execution_count": 6,
   "id": "c9341253",
   "metadata": {},
   "outputs": [
    {
     "data": {
      "text/plain": [
       "['__builtins__',\n",
       " '__cached__',\n",
       " '__doc__',\n",
       " '__file__',\n",
       " '__init__',\n",
       " '__loader__',\n",
       " '__name__',\n",
       " '__package__',\n",
       " '__spec__',\n",
       " '__student__',\n",
       " 'count',\n",
       " 'get_age',\n",
       " 'get_latitude',\n",
       " 'get_lecture',\n",
       " 'get_longitude',\n",
       " 'get_major',\n",
       " 'get_pet_owner',\n",
       " 'get_piazza_topping',\n",
       " 'get_procrastinator',\n",
       " 'get_runner',\n",
       " 'get_sleep_habit',\n",
       " 'get_zip_code']"
      ]
     },
     "execution_count": 6,
     "metadata": {},
     "output_type": "execute_result"
    }
   ],
   "source": [
    "# TODO: inspect the functions inside project module\n",
    "dir(project)"
   ]
  },
  {
   "cell_type": "code",
   "execution_count": 7,
   "id": "d1dca7ae",
   "metadata": {},
   "outputs": [
    {
     "name": "stdout",
     "output_type": "stream",
     "text": [
      "Help on module project:\n",
      "\n",
      "NAME\n",
      "    project\n",
      "\n",
      "FUNCTIONS\n",
      "    __init__()\n",
      "    \n",
      "    count()\n",
      "        This function will return the number of records in the dataset\n",
      "    \n",
      "    get_age(idx)\n",
      "        get_age(idx) returns the age of the student in row idx\n",
      "    \n",
      "    get_latitude(idx)\n",
      "        get_latitude(idx) returns the latitude of the student's favourite place in row idx\n",
      "    \n",
      "    get_lecture(idx)\n",
      "        get_lecture(idx) returns the lecture of the student in row idx\n",
      "    \n",
      "    get_longitude(idx)\n",
      "        get_longitude(idx) returns the longitude of the student's favourite place in row idx\n",
      "    \n",
      "    get_major(idx)\n",
      "        get_major(idx) returns the major of the student in row idx\n",
      "    \n",
      "    get_pet_owner(idx)\n",
      "        get_pet_owner(idx) returns the pet preference of student in row idx\n",
      "    \n",
      "    get_piazza_topping(idx)\n",
      "        get_piazza_topping(idx) returns the preferred pizza toppings of the student in row idx\n",
      "    \n",
      "    get_procrastinator(idx)\n",
      "        get_procrastinator(idx) returns whether student in row idx is a procrastinator\n",
      "    \n",
      "    get_runner(idx)\n",
      "        get_runner(idx) returns whether student in row idx is a runner\n",
      "    \n",
      "    get_sleep_habit(idx)\n",
      "        get_sleep_habit(idx) returns the sleep habit of the student in row idx\n",
      "    \n",
      "    get_zip_code(idx)\n",
      "        get_zip_code(idx) returns the residential zip code of the student in row idx\n",
      "\n",
      "DATA\n",
      "    __student__ = [{'Age': '22', 'Latitude': '43.073051', 'Lecture': 'LEC0...\n",
      "\n",
      "FILE\n",
      "    /Users/yushanlu/Desktop/cs220/Lectures/lec_12/project.py\n",
      "\n",
      "\n"
     ]
    }
   ],
   "source": [
    "# TODO: inspect the project module's documentation\n",
    "help(project)"
   ]
  },
  {
   "cell_type": "markdown",
   "id": "7fb78f6b",
   "metadata": {},
   "source": [
    "### How many students does the dataset have?"
   ]
  },
  {
   "cell_type": "code",
   "execution_count": 8,
   "id": "d67a080f",
   "metadata": {},
   "outputs": [
    {
     "data": {
      "text/plain": [
       "992"
      ]
     },
     "execution_count": 8,
     "metadata": {},
     "output_type": "execute_result"
    }
   ],
   "source": [
    "project.count()"
   ]
  },
  {
   "cell_type": "markdown",
   "id": "3c97d494",
   "metadata": {},
   "source": [
    "### What is the age of the student at index 10?"
   ]
  },
  {
   "cell_type": "code",
   "execution_count": 9,
   "id": "bde8dc35",
   "metadata": {},
   "outputs": [
    {
     "data": {
      "text/plain": [
       "'21'"
      ]
     },
     "execution_count": 9,
     "metadata": {},
     "output_type": "execute_result"
    }
   ],
   "source": [
    "id_10_age = project.get_age(10)\n",
    "id_10_age"
   ]
  },
  {
   "cell_type": "code",
   "execution_count": 10,
   "id": "b0f87a2c",
   "metadata": {},
   "outputs": [
    {
     "name": "stdout",
     "output_type": "stream",
     "text": [
      "<class 'str'>\n"
     ]
    }
   ],
   "source": [
    "# TODO: inspect return value type of get_age function\n",
    "print(type(id_10_age))"
   ]
  },
  {
   "cell_type": "markdown",
   "id": "37898141",
   "metadata": {},
   "source": [
    "### What is the lecture number of the student at index 20?"
   ]
  },
  {
   "cell_type": "code",
   "execution_count": 11,
   "id": "ba993090",
   "metadata": {},
   "outputs": [
    {
     "data": {
      "text/plain": [
       "'LEC001'"
      ]
     },
     "execution_count": 11,
     "metadata": {},
     "output_type": "execute_result"
    }
   ],
   "source": [
    "project.get_lecture(20)"
   ]
  },
  {
   "cell_type": "markdown",
   "id": "60730da8",
   "metadata": {},
   "source": [
    "### What is the sleep habit of the student at the last index?"
   ]
  },
  {
   "cell_type": "code",
   "execution_count": 12,
   "id": "1d92e499",
   "metadata": {},
   "outputs": [
    {
     "data": {
      "text/plain": [
       "'night owl'"
      ]
     },
     "execution_count": 12,
     "metadata": {},
     "output_type": "execute_result"
    }
   ],
   "source": [
    "project.get_sleep_habit(-1)"
   ]
  },
  {
   "cell_type": "code",
   "execution_count": 9,
   "id": "ef9dc31c",
   "metadata": {},
   "outputs": [
    {
     "data": {
      "text/plain": [
       "'night owl'"
      ]
     },
     "execution_count": 9,
     "metadata": {},
     "output_type": "execute_result"
    }
   ],
   "source": [
    "project.get_sleep_habit(project.count() - 1)"
   ]
  },
  {
   "cell_type": "markdown",
   "id": "af3d9d8c",
   "metadata": {},
   "source": [
    "### How many current lecture (example: LEC001) students are in the dataset? \n",
    "\n",
    "- use `for` loop to iterate over the dataset:\n",
    "    - `count` function gives you total number of students\n",
    "    - use `range` built-in function to generate sequence of integers from `0` to `count - 1`\n",
    "- use `get_lecture` to retrieve lecture column value\n",
    "- use `if` condition, to determine whether current student is part of `LEC001`\n",
    "    - `True` evaluation: increment count\n",
    "    - `False` evaluation: nothing to do"
   ]
  },
  {
   "cell_type": "code",
   "execution_count": 10,
   "id": "e024c488",
   "metadata": {},
   "outputs": [
    {
     "data": {
      "text/plain": [
       "197"
      ]
     },
     "execution_count": 10,
     "metadata": {},
     "output_type": "execute_result"
    }
   ],
   "source": [
    "count = 0\n",
    "for idx in range(project.count()):\n",
    "    lecture = project.get_lecture(idx)\n",
    "    if lecture == \"LEC002\":\n",
    "        count += 1\n",
    "count"
   ]
  },
  {
   "cell_type": "markdown",
   "id": "b9ff6434",
   "metadata": {},
   "source": [
    "### What is the age of the oldest student in current lecture (example: LEC001)?\n",
    "\n",
    "- use `for` loop to iterate over the dataset just like last problem\n",
    "- use `get_age` to retrieve lecture column value\n",
    "    - if: age is '' (empty), move on to next student using `continue`\n",
    "    - make sure to typecast return value to an integer\n",
    "- use `get_lecture` to retrieve lecture column value\n",
    "- use `if` condition, to determine whether current student is part of `LEC001`\n",
    "    - use `if` condition to determine whether current student's age is greater than previously known max age\n",
    "        - `True` evaluation: replace previously known max age with current age\n",
    "        - `False` evaluation: nothing to do"
   ]
  },
  {
   "cell_type": "code",
   "execution_count": 11,
   "id": "38bd778a",
   "metadata": {},
   "outputs": [
    {
     "data": {
      "text/plain": [
       "42069"
      ]
     },
     "execution_count": 11,
     "metadata": {},
     "output_type": "execute_result"
    }
   ],
   "source": [
    "max_age = 0\n",
    "\n",
    "for idx in range(project.count()):\n",
    "    lecture = project.get_lecture(idx)\n",
    "    age = project.get_age(idx)\n",
    "    \n",
    "    if age == '':\n",
    "        continue\n",
    "    age = int(age)\n",
    "    \n",
    "    if lecture == \"LEC002\":\n",
    "        if age > max_age:\n",
    "            max_age = age\n",
    "max_age"
   ]
  },
  {
   "cell_type": "markdown",
   "id": "b40a32fb",
   "metadata": {},
   "source": [
    "### What is the age of the youngest student in current lecture (example: LEC001)?\n",
    "- use similar algorithm as above question"
   ]
  },
  {
   "cell_type": "code",
   "execution_count": 12,
   "id": "ea77e0cd",
   "metadata": {},
   "outputs": [
    {
     "data": {
      "text/plain": [
       "17"
      ]
     },
     "execution_count": 12,
     "metadata": {},
     "output_type": "execute_result"
    }
   ],
   "source": [
    "min_age = None\n",
    "\n",
    "for idx in range(project.count()):\n",
    "    lecture = project.get_lecture(idx)\n",
    "    age = project.get_age(idx)\n",
    "    \n",
    "    if age == '':\n",
    "        continue\n",
    "    age = int(age)\n",
    "    \n",
    "    if lecture == \"LEC002\":\n",
    "        if min_age == None or age < min_age:\n",
    "            min_age = age\n",
    "min_age"
   ]
  },
  {
   "cell_type": "markdown",
   "id": "039ba82a",
   "metadata": {},
   "source": [
    "### What is the average age of students enrolled in CS220 / CS319?\n",
    "- you will get an interesting answer :)\n",
    "- how can we ensure that data doesn't skew statistics?"
   ]
  },
  {
   "cell_type": "code",
   "execution_count": 13,
   "id": "ebfd7d8e",
   "metadata": {},
   "outputs": [
    {
     "name": "stdout",
     "output_type": "stream",
     "text": [
      "Average student age is: 64.8225806451613\n"
     ]
    }
   ],
   "source": [
    "# Incorrect version: skewed statistics\n",
    "total_age = 0\n",
    "count = 0\n",
    "\n",
    "for idx in range(project.count()):\n",
    "    age = project.get_age(idx)\n",
    "    \n",
    "    if age == '':\n",
    "        continue\n",
    "    age = int(age)\n",
    "    total_age += age\n",
    "    count += 1 # Be careful here: you cannot use the total count\n",
    "    # Why? Because some students chose not to mention their age\n",
    "\n",
    "print(\"Average student age is:\", total_age / count)"
   ]
  },
  {
   "cell_type": "code",
   "execution_count": 14,
   "id": "600c5cf4",
   "metadata": {},
   "outputs": [
    {
     "name": "stdout",
     "output_type": "stream",
     "text": [
      "Age of some student who likes to have fun :) : 42069\n",
      "Average student age is: 19.608180839612487\n"
     ]
    }
   ],
   "source": [
    "# Correct version with bounds check\n",
    "total_age = 0\n",
    "count = 0\n",
    "\n",
    "for idx in range(project.count()):\n",
    "    lecture = project.get_lecture(idx)\n",
    "    age = project.get_age(idx)\n",
    "    \n",
    "    if age == '':\n",
    "        continue\n",
    "    age = int(age)\n",
    "\n",
    "    if age < 0 or age > 118:\n",
    "        print(\"Age of some student who likes to have fun :) :\", age)\n",
    "        continue\n",
    "    total_age += age\n",
    "    count += 1 # Be careful here: you cannot use the total count\n",
    "    # Why? Because some students chose not to mention their age\n",
    "\n",
    "print(\"Average student age is:\", total_age / count)"
   ]
  },
  {
   "cell_type": "markdown",
   "id": "48f1c791",
   "metadata": {},
   "source": [
    "### What major is the youngest student in current lecture (example: LEC001) planning to declare?\n",
    "- now, we need to find some other detail about the youngest student\n",
    "- often, you'll have to keep track of ID of the max or min, so that you can retrive other details about that data entry"
   ]
  },
  {
   "cell_type": "code",
   "execution_count": 15,
   "id": "a524873b",
   "metadata": {},
   "outputs": [
    {
     "data": {
      "text/plain": [
       "'Undecided'"
      ]
     },
     "execution_count": 15,
     "metadata": {},
     "output_type": "execute_result"
    }
   ],
   "source": [
    "min_age = None\n",
    "min_age_idx = None\n",
    "\n",
    "for idx in range(project.count()):\n",
    "    lecture = project.get_lecture(idx)\n",
    "    age = project.get_age(idx)\n",
    "    \n",
    "    if age == '':\n",
    "        continue\n",
    "    age = int(age)\n",
    "    \n",
    "    if lecture == \"LEC002\":\n",
    "        if min_age == None or age < min_age:\n",
    "            min_age = age\n",
    "            min_age_idx = idx\n",
    "\n",
    "project.get_major(min_age_idx)"
   ]
  },
  {
   "cell_type": "markdown",
   "id": "5294702a",
   "metadata": {},
   "source": [
    "### Considering current lecture students (example: LEC001), what is the age of the first student residing at zip code 53715?"
   ]
  },
  {
   "cell_type": "code",
   "execution_count": 16,
   "id": "fada2a40",
   "metadata": {},
   "outputs": [
    {
     "data": {
      "text/plain": [
       "19"
      ]
     },
     "execution_count": 16,
     "metadata": {},
     "output_type": "execute_result"
    }
   ],
   "source": [
    "search_age = None\n",
    "\n",
    "for idx in range(project.count()):\n",
    "    lecture = project.get_lecture(idx)\n",
    "    age = project.get_age(idx)\n",
    "    zipcode = project.get_zip_code(idx)\n",
    "    \n",
    "    if age == '' or zipcode == '':\n",
    "        continue\n",
    "    age = int(age)\n",
    "    \n",
    "    if lecture == \"LEC002\" and zipcode == \"53715\":\n",
    "        search_age = age\n",
    "        break # you found the first such student, so you can terminate the loop execution\n",
    "\n",
    "search_age"
   ]
  },
  {
   "cell_type": "markdown",
   "id": "68793d99",
   "metadata": {},
   "source": [
    "## Self-practice"
   ]
  },
  {
   "cell_type": "markdown",
   "id": "2eeed867",
   "metadata": {},
   "source": [
    "### How many current lecture (example: LEC001) students are runners? "
   ]
  },
  {
   "cell_type": "markdown",
   "id": "1ea57e12",
   "metadata": {},
   "source": [
    "### How many current lecture (example: LEC001) students are procrastinators? "
   ]
  },
  {
   "cell_type": "markdown",
   "id": "cf0ac7c8",
   "metadata": {},
   "source": [
    "### How many current lecture (example: LEC001) students own or have owned a pet?"
   ]
  },
  {
   "cell_type": "markdown",
   "id": "9aa8fe7b",
   "metadata": {},
   "source": [
    "### How many current lecture (example: LEC001) students like pineapple on their pizza?"
   ]
  },
  {
   "cell_type": "markdown",
   "id": "ffd5e10f",
   "metadata": {},
   "source": [
    "### What sleep habit does the youngest student in current lecture (example: LEC001) have?\n",
    "- try to solve this from scratch, instead of copy-pasting code to find mimimum age"
   ]
  },
  {
   "cell_type": "markdown",
   "id": "f255b95a",
   "metadata": {},
   "source": [
    "### What sleep habit does the oldest student in current lecture (example: LEC001) have?"
   ]
  },
  {
   "cell_type": "markdown",
   "id": "a46d37b8",
   "metadata": {},
   "source": [
    "### What is the age of the youngest student residing in zip code 53706?"
   ]
  },
  {
   "cell_type": "markdown",
   "id": "db60812c",
   "metadata": {},
   "source": [
    "### Considering current lecture students (example: LEC001), is the first student with age 18 a runner?"
   ]
  },
  {
   "cell_type": "markdown",
   "id": "ab3de0cd",
   "metadata": {},
   "source": [
    "### What is the minimum latitude (& corresponding longitude) of a student's place of interest? \n",
    "- What place is this -> try to enter the lat, long on Google maps?"
   ]
  },
  {
   "cell_type": "markdown",
   "id": "3fecf449",
   "metadata": {},
   "source": [
    "### What is the maximum latitude (& corresponding longitude) of a student's place of interest? \n",
    "- What place is this -> try to enter the lat, long on Google maps?"
   ]
  },
  {
   "cell_type": "markdown",
   "id": "3907fdf4",
   "metadata": {},
   "source": [
    "### What is the minimum longitude (& corresponding latitude) of a student's place of interest? \n",
    "- What place is this -> try to enter the lat, long on Google maps?"
   ]
  },
  {
   "cell_type": "markdown",
   "id": "b08978ef",
   "metadata": {},
   "source": [
    "### What is the maximum longitude (& corresponding latitude) of a student's place of interest?\n",
    "- What place is this -> try to enter the lat, long on Google maps?"
   ]
  },
  {
   "cell_type": "code",
   "execution_count": null,
   "id": "f2eae0bb",
   "metadata": {},
   "outputs": [],
   "source": []
  }
 ],
 "metadata": {
  "kernelspec": {
   "display_name": "Python 3 (ipykernel)",
   "language": "python",
   "name": "python3"
  },
  "language_info": {
   "codemirror_mode": {
    "name": "ipython",
    "version": 3
   },
   "file_extension": ".py",
   "mimetype": "text/x-python",
   "name": "python",
   "nbconvert_exporter": "python",
   "pygments_lexer": "ipython3",
   "version": "3.9.12"
  }
 },
 "nbformat": 4,
 "nbformat_minor": 5
}
