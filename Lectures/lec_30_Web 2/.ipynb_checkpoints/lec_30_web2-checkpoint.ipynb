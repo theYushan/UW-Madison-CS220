{
 "cells": [
  {
   "cell_type": "markdown",
   "metadata": {},
   "source": [
    "# Lecture 30: Web 2 - Generating HTML"
   ]
  },
  {
   "cell_type": "code",
   "execution_count": 1,
   "metadata": {},
   "outputs": [],
   "source": [
    "# import statments\n",
    "import pandas as pd\n",
    "import requests\n",
    "import csv\n",
    "import os"
   ]
  },
  {
   "cell_type": "code",
   "execution_count": 2,
   "metadata": {},
   "outputs": [],
   "source": [
    "# inspired by https://automatetheboringstuff.com/2e/chapter16/\n",
    "def process_csv(filename):\n",
    "    example_file = open(filename, encoding=\"utf-8\")\n",
    "    example_reader = csv.reader(example_file)\n",
    "    example_data = list(example_reader)\n",
    "    example_file.close()\n",
    "    \n",
    "    return example_data"
   ]
  },
  {
   "cell_type": "markdown",
   "metadata": {},
   "source": [
    "## Learning Objectives:\n",
    "\n",
    "- Type by hand a basic HTML page with a list, a link, and a table\n",
    "- Convert a Python list into an HTML unordered list\n",
    "- Convert a Python dictionary of URLs into an HTML of hyperlinks\n",
    "- Convert a Pandas DataFrame into an HTML table"
   ]
  },
  {
   "cell_type": "markdown",
   "metadata": {},
   "source": [
    "# Title\n",
    "## sub title\n",
    "\n",
    "`esc` -> `m`\n"
   ]
  },
  {
   "cell_type": "markdown",
   "metadata": {},
   "source": [
    "### Part A: Type by hand a basic HTML page with a list, a link, and a table\n",
    "\n",
    "Markdown and Jupyter Notebook will recognize HTML tags.\n",
    "\n",
    "`esc` -> `m`\n",
    "\n",
    "Otherwise, \"Cell\" -> \"Cell Type\" -> \"Markdown\"\n",
    "\n",
    "### Practice the following tags in the cell below: \n",
    " - h#\n",
    " - p\n",
    " - i\n",
    " - b\n",
    " - br\n",
    " - img"
   ]
  },
  {
   "cell_type": "markdown",
   "metadata": {},
   "source": [
    "<i>Make a new Jupyter Notebook text file in this directory.</i> Save the file with a <b><i>.html</i></b> extension\n",
    "<p> The head, body, and html tags are not necessary \n",
    "for a browser to read a file.</p>\n",
    "\n",
    "<h2> Happy Friday!! </h2>\n",
    "\n",
    "<p>It's going to be a <b>fun</b> day <br><br><br></p>\n",
    "\n",
    "<p>Note that br does not have a close tag<p>\n",
    "    \n",
    "<img src=\"https://www.python.org/static/img/python-logo@2x.png\">"
   ]
  },
  {
   "cell_type": "markdown",
   "metadata": {},
   "source": [
    "### Hyperlink tags have an anchor tag and a href attribute\n",
    "`a`: anchor\n",
    "\n",
    "`href=` : hyper references "
   ]
  },
  {
   "cell_type": "markdown",
   "metadata": {},
   "source": [
    "Meena's favorite restaurant in Madison is\n",
    "<a href=\"https://www.royalindiancuisinemadison.com/\">Royal Indian Cuisine</a>"
   ]
  },
  {
   "cell_type": "markdown",
   "metadata": {},
   "source": [
    "### Unordered List Tags\n",
    "`ul` : starts an unordered list\n",
    "\n",
    "`li` : add a list item\n",
    "\n",
    "Un-ordered list example:"
   ]
  },
  {
   "cell_type": "markdown",
   "metadata": {},
   "source": [
    "<h6>Favorite Campus Buildings</h6>\n",
    "<ul>\n",
    "    <li>Union South</li>\n",
    "    <li>WIDS</li>\n",
    "    <li>Education</li>\n",
    "    <li>The Nick</li>\n",
    "</ul>"
   ]
  },
  {
   "cell_type": "markdown",
   "metadata": {},
   "source": [
    "### Ordered List Tags\n",
    "`ol` : starts an ordered list\n",
    "\n",
    "`li` : add a list item (End of `li` tag is optional)\n",
    "\n",
    "Un-ordered list example:"
   ]
  },
  {
   "cell_type": "markdown",
   "metadata": {},
   "source": [
    "<h6>Exam venues</h6>\n",
    "<ol>\n",
    "    <li>LEC001: Bascom 272\n",
    "    <li>LEC002: Humanities 3650\n",
    "    <li>LEC003: Ingraham B10\n",
    "    <li>LEC004: Humanities 2650\n",
    "</ol>"
   ]
  },
  {
   "cell_type": "markdown",
   "metadata": {},
   "source": [
    "### HTML Table Tags\n",
    "\n",
    "`table`: start and end of a table\n",
    "\n",
    "`tr`: start and end of a new row\n",
    "\n",
    "`th`: a cell in the top row ... is bold\n",
    "\n",
    "`td`: a cell inside a row\n",
    "\n",
    "Add a few rows to the table below:"
   ]
  },
  {
   "cell_type": "markdown",
   "metadata": {},
   "source": [
    "<table>\n",
    "  <tr>\n",
    "    <th>State</th>\n",
    "    <th>Capital City</th>\n",
    "  </tr>\n",
    "  <tr>\n",
    "    <td>Wisconsin</td>\n",
    "    <td>Madison</td>\n",
    "  </tr>\n",
    "  <tr>\n",
    "    <td>Indiana</td>\n",
    "    <td>Indianapolis</td>\n",
    "  </tr>\n",
    "   <tr>\n",
    "    <td>Illinois</td>\n",
    "    <td>Springfield</td>\n",
    "  </tr>\n",
    "</table>"
   ]
  },
  {
   "cell_type": "markdown",
   "metadata": {},
   "source": [
    "### Part B: Convert a Python list into an HTML unordered list\n",
    "\n",
    "Given:  \n",
    "\n",
    "`health_tips = [\"Eat Healthy\", \"Exercise\", \"Relax\", \"Sleep\"]`\n",
    "    \n",
    "Convert this Python list into a HTML ordered list:"
   ]
  },
  {
   "cell_type": "markdown",
   "metadata": {},
   "source": [
    "<ul>\n",
    "    <li>Eat Healthy</li>      \n",
    "       <li>Exercise</li>\n",
    "  <li>Relax</li>\n",
    "       <li>Sleep</li>\n",
    "</ul> "
   ]
  },
  {
   "cell_type": "markdown",
   "metadata": {},
   "source": [
    "Pseudocode:\n",
    "- Open path (relative path to target file) in write mode. Type in the close function call right away.\n",
    "- Write \\<ul> tag into the html file\n",
    "- Iterate over each item in my_list.\n",
    "- Write each item with <\\li> tag.\n",
    "- After you are done iterating, write \\</ul> tag.\n",
    "- Close the file object."
   ]
  },
  {
   "cell_type": "code",
   "execution_count": 6,
   "metadata": {},
   "outputs": [],
   "source": [
    "def list_to_html(my_list, path):\n",
    "    # print(path)\n",
    "    # open the path for writing\n",
    "    f = open(path, \"w\")\n",
    "    \n",
    "    # write the <ul> and \\n\n",
    "    f.write(\"<ul>\\n\")\n",
    "    \n",
    "    # write each item in the list with a \\n after each </li>\n",
    "    for item in my_list:\n",
    "        f.write(\"<li>\" + item + \"</li>\\n\")\n",
    "\n",
    "    # write the </ul> and \\n\n",
    "    f.write(\"</ul>\\n\")\n",
    "    \n",
    "    # close the file\n",
    "    f.close()\n",
    "    \n",
    "todo_list = [\"Eat Healthy\", \"Exercise\", \"Relax\", \"Sleep\"]\n",
    "list_to_html(todo_list, \"todolist.html\")\n",
    "\n",
    "# Check that you made your document!"
   ]
  },
  {
   "cell_type": "markdown",
   "metadata": {},
   "source": [
    "### Part C. Convert a Dictionary of Web Site Name, URL into a HTML page of hyperlinks"
   ]
  },
  {
   "cell_type": "code",
   "execution_count": 7,
   "metadata": {},
   "outputs": [],
   "source": [
    "fav_sites = {\n",
    "    \"National Weather Service\": \"http://weather.gov\",\n",
    "    \"Greenbush Bakery\": \"https://www.greenbushbakery.com/\",\n",
    "}"
   ]
  },
  {
   "cell_type": "code",
   "execution_count": 8,
   "metadata": {},
   "outputs": [
    {
     "name": "stdout",
     "output_type": "stream",
     "text": [
      "<a href=\"http://weather.gov\">National Weather Service</a><br>\n",
      "<a href=\"https://www.greenbushbakery.com/\">Greenbush Bakery</a><br>\n",
      "\n"
     ]
    }
   ],
   "source": [
    "# Turn fav_sites into a string of many links!\n",
    "html_string = ''\n",
    "for key in fav_sites:\n",
    "    html_string += '<a href=\"' + fav_sites[key] + '\">' + key + '</a><br>\\n'\n",
    "print(html_string)"
   ]
  },
  {
   "cell_type": "markdown",
   "metadata": {},
   "source": [
    "Insert a markdown cell below and paste your code in the markdown cell below to test it!"
   ]
  },
  {
   "cell_type": "markdown",
   "metadata": {},
   "source": [
    "<a href=\"http://weather.gov\">National Weather Service</a><br>\n",
    "<a href=\"https://www.greenbushbakery.com/\">Greenbush Bakery</a><br>"
   ]
  },
  {
   "cell_type": "code",
   "execution_count": 9,
   "metadata": {},
   "outputs": [],
   "source": [
    "# Now that we know it works, open a file for writing and write the string to a file\n",
    "f = open(\"mylinks.html\", \"w\")\n",
    "f.write(html_string)\n",
    "f.close()"
   ]
  },
  {
   "cell_type": "markdown",
   "metadata": {},
   "source": [
    "### Create your own html document using any of the below!"
   ]
  },
  {
   "cell_type": "code",
   "execution_count": 11,
   "metadata": {},
   "outputs": [],
   "source": [
    "my_favorite_sports = [\"running\", \"eating\", \"biking\"]\n",
    "my_favorite_color = \"blanchedalmond\"\n",
    "good_numbers = [3, 7, 27, 98]\n",
    "\n",
    "some_scores = {\n",
    "    \"Bob\": 23,\n",
    "    \"Alice\": 47,\n",
    "    \"Theresa\": 12,\n",
    "    \"Daniel\": 4,\n",
    "    \"Lincoln\": 11,\n",
    "    \"Liz\": 19\n",
    "}\n",
    "\n",
    "adoptable_cats = [\n",
    "    \"https://g.petango.com/photos/2627/ed886769-7076-411d-b96b-8ec265c341f5.jpg\",\n",
    "    \"https://g.petango.com/photos/2627/cb1e90e0-1c10-471a-95d5-107a35156eae.jpg\",\n",
    "    \"https://g.petango.com/photos/2627/fc87cde4-b761-4b99-9ea1-40df4e42de3c.jpg\",\n",
    "    \"https://g.petango.com/photos/2627/2dfcb001-b211-4b98-b81f-0c63f43ae506.jpg\"\n",
    "]\n",
    "\n",
    "adoptable_cats_with_names = [\n",
    "    {\"name\": \"furball\", \"imglink\": \n",
    "     \"https://g.petango.com/photos/2627/ed886769-7076-411d-b96b-8ec265c341f5.jpg\"},\n",
    "    {\"name\": \"leo\", \"imglink\": \n",
    "     \"https://g.petango.com/photos/2627/cb1e90e0-1c10-471a-95d5-107a35156eae.jpg\"},\n",
    "    {\"name\": \"peach\", \"imglink\": \n",
    "     \"https://g.petango.com/photos/2627/fc87cde4-b761-4b99-9ea1-40df4e42de3c.jpg\"},\n",
    "    {\"name\": \"freddy\", \"imglink\": \n",
    "     \"https://g.petango.com/photos/2627/2dfcb001-b211-4b98-b81f-0c63f43ae506.jpg\"}\n",
    "]"
   ]
  },
  {
   "cell_type": "code",
   "execution_count": 12,
   "metadata": {},
   "outputs": [],
   "source": [
    "f = open(\"cats.html\", \"w\")\n",
    "f.write('<h1>Adoptable Cats!</h1>')\n",
    "for cat in adoptable_cats_with_names:\n",
    "    f.write('<h2>{}</h2>\\n'.format(cat[\"name\"]))\n",
    "    f.write('<img src=\"{}\">\\n'.format(cat[\"imglink\"]))\n",
    "f.close()"
   ]
  },
  {
   "cell_type": "markdown",
   "metadata": {},
   "source": [
    "### Part D:  Convert a Pandas Data Frame into a HTML table\n",
    "Is there an easy way to make a HTML table?\n",
    "\n",
    "Yes, Pandas has a DataFrame method `.to_html()`\n"
   ]
  },
  {
   "cell_type": "code",
   "execution_count": 13,
   "metadata": {},
   "outputs": [
    {
     "ename": "NameError",
     "evalue": "name 'pd' is not defined",
     "output_type": "error",
     "traceback": [
      "\u001b[0;31m---------------------------------------------------------------------------\u001b[0m",
      "\u001b[0;31mNameError\u001b[0m                                 Traceback (most recent call last)",
      "Input \u001b[0;32mIn [13]\u001b[0m, in \u001b[0;36m<cell line: 2>\u001b[0;34m()\u001b[0m\n\u001b[1;32m      1\u001b[0m \u001b[38;5;66;03m# Load from the IMDB-Movie-Data.csv file into a DataFrame called \"movies\"\u001b[39;00m\n\u001b[0;32m----> 2\u001b[0m movies \u001b[38;5;241m=\u001b[39m \u001b[43mpd\u001b[49m\u001b[38;5;241m.\u001b[39mread_csv(\u001b[38;5;124m\"\u001b[39m\u001b[38;5;124mIMDB-Movie-Data.csv\u001b[39m\u001b[38;5;124m\"\u001b[39m)\n\u001b[1;32m      3\u001b[0m movies\n",
      "\u001b[0;31mNameError\u001b[0m: name 'pd' is not defined"
     ]
    }
   ],
   "source": [
    "# Load from the IMDB-Movie-Data.csv file into a DataFrame called \"movies\"\n",
    "movies = pd.read_csv(\"IMDB-Movie-Data.csv\")\n",
    "movies"
   ]
  },
  {
   "cell_type": "code",
   "execution_count": 10,
   "metadata": {},
   "outputs": [],
   "source": [
    "# Convert the movies DataFrame to html using .to_html()\n",
    "movies_html = movies.to_html()\n",
    "# movies_html # Uncomment to see the html string content"
   ]
  },
  {
   "cell_type": "code",
   "execution_count": 11,
   "metadata": {},
   "outputs": [],
   "source": [
    "# Write it to a file\n",
    "f = open(\"movies_table.html\", \"w\")\n",
    "f.write(movies_html)\n",
    "f.close()"
   ]
  },
  {
   "cell_type": "markdown",
   "metadata": {},
   "source": [
    "### Demo: CSV File to Webpages"
   ]
  },
  {
   "cell_type": "code",
   "execution_count": 12,
   "metadata": {},
   "outputs": [
    {
     "data": {
      "text/plain": [
       "['99904',\n",
       " 'amazon power fast usb charger',\n",
       " 'got this for my kindle 7 tablet . Does an excellent job charging the kindle fire 7 a lot faster than the one it came with the kindle fire',\n",
       " '5',\n",
       " 'True',\n",
       " '2',\n",
       " '2016-06-03']"
      ]
     },
     "execution_count": 12,
     "metadata": {},
     "output_type": "execute_result"
    }
   ],
   "source": [
    "# Read in the reviews.csv file\n",
    "amazon_csv = process_csv(\"reviews.csv\")\n",
    "header = amazon_csv[0]\n",
    "reviews = amazon_csv[1:]\n",
    "reviews[1]"
   ]
  },
  {
   "cell_type": "code",
   "execution_count": 13,
   "metadata": {},
   "outputs": [],
   "source": [
    "# Create the folder \"data\" if it does not already exist.\n",
    "if not os.path.exists(\"data\"):\n",
    "    os.mkdir(\"data\")"
   ]
  },
  {
   "cell_type": "markdown",
   "metadata": {},
   "source": [
    "#### Example Review Page"
   ]
  },
  {
   "attachments": {
    "image.png": {
     "image/png": "[encoded data removed]"
    }
   },
   "cell_type": "markdown",
   "metadata": {},
   "source": [
    "![image.png](attachment:image.png)"
   ]
  },
  {
   "cell_type": "markdown",
   "metadata": {},
   "source": [
    "Pseudocode:\n",
    "- Extract title, text, and rating column values.\n",
    "- Initialize `html_review` to an empty string.\n",
    "- Concatenate to `html_review` \\<h1> with title\n",
    "- Concatenate to `html_review` \\<h2> tag with rating\n",
    "- Concatenate to `html_review` \\<p> tag with text\n",
    "- Return `html_review`"
   ]
  },
  {
   "cell_type": "code",
   "execution_count": 14,
   "metadata": {},
   "outputs": [],
   "source": [
    "def gen_amazon_review_html(data, header):\n",
    "    \"\"\"\n",
    "    Generate a string html for a single review page\n",
    "    \"\"\"\n",
    "    title = data[header.index(\"review title\")]\n",
    "    text = data[header.index(\"review text\")]\n",
    "    rating = data[header.index(\"review rating\")]\n",
    "    \n",
    "    html_review = \"\"\n",
    "    html_review += \"<h1>{}</h1>\\n\".format(title)\n",
    "    html_review += \"<h2>{} stars</h2>\\n\".format(rating)\n",
    "    html_review += \"<p>{}</p>\\n\".format(text)\n",
    "    return html_review"
   ]
  },
  {
   "cell_type": "markdown",
   "metadata": {},
   "source": [
    "#### Use get_amazon_review_html to write to \"my_review.html\" for any random review"
   ]
  },
  {
   "cell_type": "code",
   "execution_count": 15,
   "metadata": {},
   "outputs": [],
   "source": [
    "html_file = open(\"my_review.html\", \"w\")\n",
    "# essential hardcoding for this example\n",
    "amazon_review_html = gen_amazon_review_html(reviews[2], header) \n",
    "html_file.write(amazon_review_html)\n",
    "html_file.close()"
   ]
  },
  {
   "cell_type": "markdown",
   "metadata": {},
   "source": [
    "#### For each Amazon review, write to a file data/\\<id>.html ; e.g. data/3966.html.\n",
    "\n",
    "- Open data/\\<rid>.html in write mode:\n",
    "    - **IMPORTANT**:Remember, you have to use os.path.join().\n",
    "- Invoke `gen_amazon_review_html` and write return value into html file\n",
    "- Close data/\\<rid>.html file object"
   ]
  },
  {
   "cell_type": "code",
   "execution_count": 16,
   "metadata": {},
   "outputs": [],
   "source": [
    "for review in reviews:\n",
    "    review_id = review[header.index(\"review id\")]\n",
    "    html_file = open(os.path.join(\"data\", review_id + \".html\"), \"w\")\n",
    "    review_html = gen_amazon_review_html(review, header)\n",
    "    html_file.write(review_html)\n",
    "    html_file.close()"
   ]
  },
  {
   "cell_type": "markdown",
   "metadata": {},
   "source": [
    "#### Example Parent Page\n"
   ]
  },
  {
   "attachments": {
    "image.png": {
     "image/png": "[encoded data removed]"
    }
   },
   "cell_type": "markdown",
   "metadata": {},
   "source": [
    "![image.png](attachment:image.png)"
   ]
  },
  {
   "cell_type": "markdown",
   "metadata": {},
   "source": [
    "Hint: We can create a link to a child page by formatting the code...\n",
    "\n",
    "`<li><a href = \"{}\">{}</a></li>\\n`\n",
    "\n",
    "Pseudocode:\n",
    "- Initialize `parent_html` to empty string\n",
    "- Concatenate to `parent_html`: \\<h1> tag with content as Kindle Reviews\n",
    "- Concatenate to `parent_html` \\<ul> tag into all_reviews.html file\n",
    "- Iterate over reviews\n",
    "    - Concatenate to `parent_html` \\<li> tag\n",
    "    - Concatenate to `parent_html` each data/\\<rid>.html as hyperlink using \\<a> tag.\n",
    "        - **IMPORTANT**:Remember, you have to use os.path.join().\n",
    "- Concatenate to `parent_html` close \\</ul> tag into all_reviews.html file\n",
    "\n",
    "- Open all_reviews.html file in write mode\n",
    "- Write `parent_html` into all_reviews.html file\n",
    "- Close all_reviews.html file"
   ]
  },
  {
   "cell_type": "code",
   "execution_count": 17,
   "metadata": {},
   "outputs": [],
   "source": [
    "# Create a parent page that is an unordered list with links to each review.\n",
    "parent_html = \"\"\n",
    "parent_html += \"<h1>Amazon Reviews</h1>\\n\"\n",
    "parent_html += \"<ul>\\n\"\n",
    "for review in reviews:\n",
    "    review_id = review[header.index(\"review id\")] \n",
    "    review_title = review[header.index(\"review title\")]\n",
    "    \n",
    "    path_to_review = os.path.join(\"data\", review_id + \".html\")\n",
    "    review_link = '<li><a href = \"{}\">{}</a></li>\\n'.\\\n",
    "    format(path_to_review, review_title)\n",
    "    parent_html += review_link\n",
    "parent_html += \"</ul>\\n\"\n",
    "\n",
    "all_reviews_file = open(\"all_reviews.html\", \"w\")\n",
    "all_reviews_file.write(parent_html)\n",
    "all_reviews_file.close()"
   ]
  }
 ],
 "metadata": {
  "kernelspec": {
   "display_name": "Python 3 (ipykernel)",
   "language": "python",
   "name": "python3"
  },
  "language_info": {
   "codemirror_mode": {
    "name": "ipython",
    "version": 3
   },
   "file_extension": ".py",
   "mimetype": "text/x-python",
   "name": "python",
   "nbconvert_exporter": "python",
   "pygments_lexer": "ipython3",
   "version": "3.9.12"
  }
 },
 "nbformat": 4,
 "nbformat_minor": 4
}
